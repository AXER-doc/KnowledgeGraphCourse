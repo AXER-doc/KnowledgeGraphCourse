{
 "cells": [
  {
   "cell_type": "code",
   "execution_count": 1,
   "metadata": {},
   "outputs": [
    {
     "data": {
      "text/plain": [
       "<Graph identifier=N8c81ac6b3e6642a4a51656d10135ffe9 (<class 'rdflib.graph.Graph'>)>"
      ]
     },
     "execution_count": 1,
     "metadata": {},
     "output_type": "execute_result"
    }
   ],
   "source": [
    "import rdflib\n",
    "\n",
    "# Tạo đồ thị RDF\n",
    "g = rdflib.Graph()\n",
    "\n",
    "# Nạp tệp RDF vào đồ thị\n",
    "g.parse(\"game_sales_ontology.owl\", format=\"xml\")"
   ]
  },
  {
   "cell_type": "markdown",
   "metadata": {},
   "source": [
    "# SPARQL query tìm trò chơi phát hành năm 2006"
   ]
  },
  {
   "cell_type": "code",
   "execution_count": 35,
   "metadata": {},
   "outputs": [
    {
     "name": "stdout",
     "output_type": "stream",
     "text": [
      "\n",
      "Какая игра вышла в 2006 году?:\n",
      "Game: http://www.semanticweb.org/tgdd/ontologies/2025/1/untitled-ontology-14#AMF_Xtreme_Bowling - Year: 2006\n",
      "Game: http://www.semanticweb.org/tgdd/ontologies/2025/1/untitled-ontology-14#ATV_Offroad_Fury_Pro - Year: 2006\n",
      "Game: http://www.semanticweb.org/tgdd/ontologies/2025/1/untitled-ontology-14#Ace_Combat_X_Skies_of_Deception - Year: 2006\n",
      "Game: http://www.semanticweb.org/tgdd/ontologies/2025/1/untitled-ontology-14#Ace_Combat_Zero_The_Belkan_War - Year: 2006\n",
      "Game: http://www.semanticweb.org/tgdd/ontologies/2025/1/untitled-ontology-14#Activision_Hits_Remixed - Year: 2006\n",
      "Game: http://www.semanticweb.org/tgdd/ontologies/2025/1/untitled-ontology-14#Aedis_Eclipse_Generation_of_Chaos - Year: 2006\n",
      "Game: http://www.semanticweb.org/tgdd/ontologies/2025/1/untitled-ontology-14#Age_of_Empires_The_Age_of_Kings - Year: 2006\n",
      "Game: http://www.semanticweb.org/tgdd/ontologies/2025/1/untitled-ontology-14#And1_Streetball - Year: 2006\n",
      "Game: http://www.semanticweb.org/tgdd/ontologies/2025/1/untitled-ontology-14#Ar_tonelico_Melody_of_Elemia - Year: 2006\n",
      "Game: http://www.semanticweb.org/tgdd/ontologies/2025/1/untitled-ontology-14#Arena_Football - Year: 2006\n"
     ]
    }
   ],
   "source": [
    "query6 = \"\"\"\n",
    "    SELECT ?game ?year WHERE {\n",
    "        ?game rdf:type <http://www.semanticweb.org/tgdd/ontologies/2025/1/untitled-ontology-14#Game> .\n",
    "        ?game <http://www.semanticweb.org/tgdd/ontologies/2025/1/untitled-ontology-14#hasReleaseYear> ?year .\n",
    "        FILTER(?year = \"2006\"^^xsd:gYear)\n",
    "    }\n",
    "    LIMIT 10\n",
    "\"\"\"\n",
    "results6 = g.query(query6)\n",
    "print(\"\\nКакая игра вышла в 2006 году?:\")\n",
    "for row in results6:\n",
    "    print(f\"Game: {row['game']} - Year: {row['year']}\")"
   ]
  },
  {
   "cell_type": "code",
   "execution_count": 36,
   "metadata": {},
   "outputs": [
    {
     "name": "stdout",
     "output_type": "stream",
     "text": [
      "\n",
      "Запрос на получение игр и доходов в Северной Америке (NA_Sales) (при условии дохода более 10 миллионов):\n",
      "Game: http://www.semanticweb.org/tgdd/ontologies/2025/1/untitled-ontology-14#Duck_Hunt - NA Sales: 26930000.0\n",
      "Game: http://www.semanticweb.org/tgdd/ontologies/2025/1/untitled-ontology-14#Gears_of_War_2 - NA Sales: 4150000070000000.0\n",
      "Game: http://www.semanticweb.org/tgdd/ontologies/2025/1/untitled-ontology-14#Half-Life - NA Sales: 4030000030000000.0\n",
      "Game: http://www.semanticweb.org/tgdd/ontologies/2025/1/untitled-ontology-14#Mario_Kart_Wii - NA Sales: 15850000.0\n",
      "Game: http://www.semanticweb.org/tgdd/ontologies/2025/1/untitled-ontology-14#New_Super_Mario_Bros - NA Sales: 11380000.0\n",
      "Game: http://www.semanticweb.org/tgdd/ontologies/2025/1/untitled-ontology-14#New_Super_Mario_Bros_Wii - NA Sales: 14590000.0\n",
      "Game: http://www.semanticweb.org/tgdd/ontologies/2025/1/untitled-ontology-14#Super_Mario_Bros - NA Sales: 29080000.0\n",
      "Game: http://www.semanticweb.org/tgdd/ontologies/2025/1/untitled-ontology-14#Super_Mario_Land - NA Sales: 10830000.0\n",
      "Game: http://www.semanticweb.org/tgdd/ontologies/2025/1/untitled-ontology-14#Super_Mario_World - NA Sales: 12780000.0\n",
      "Game: http://www.semanticweb.org/tgdd/ontologies/2025/1/untitled-ontology-14#Tetris - NA Sales: 23200000.0\n"
     ]
    }
   ],
   "source": [
    "# 5. Truy vấn để lấy các game và doanh thu tại Bắc Mỹ (NA_Sales) (có điều kiện doanh thu lớn hơn 10 triệu)\n",
    "query5 = \"\"\"\n",
    "    SELECT ?game ?na_sales WHERE {\n",
    "        ?game rdf:type <http://www.semanticweb.org/tgdd/ontologies/2025/1/untitled-ontology-14#Game> .\n",
    "        ?game <http://www.semanticweb.org/tgdd/ontologies/2025/1/untitled-ontology-14#hasNASales> ?na_sales .\n",
    "        FILTER(?na_sales > 10000000)\n",
    "    }\n",
    "    LIMIT 10\n",
    "\"\"\"\n",
    "results5 = g.query(query5)\n",
    "print(\"\\nЗапрос на получение игр и доходов в Северной Америке (NA_Sales) (при условии дохода более 10 миллионов):\")\n",
    "for row in results5:\n",
    "    print(f\"Game: {row['game']} - NA Sales: {row['na_sales']}\")"
   ]
  },
  {
   "cell_type": "code",
   "execution_count": 37,
   "metadata": {},
   "outputs": [
    {
     "name": "stdout",
     "output_type": "stream",
     "text": [
      "\n",
      "Все игры, изданные Nintendo:\n",
      "Game: http://www.semanticweb.org/tgdd/ontologies/2025/1/untitled-ontology-14#ASH_Archaic_Sealed_Heat\n",
      "Game: http://www.semanticweb.org/tgdd/ontologies/2025/1/untitled-ontology-14#Active_Health_with_Carol_Vorderman\n",
      "Game: http://www.semanticweb.org/tgdd/ontologies/2025/1/untitled-ontology-14#Advance_Wars\n",
      "Game: http://www.semanticweb.org/tgdd/ontologies/2025/1/untitled-ontology-14#Advance_Wars_2_Black_Hole_Rising\n",
      "Game: http://www.semanticweb.org/tgdd/ontologies/2025/1/untitled-ontology-14#Advance_Wars_Dual_Strike\n",
      "Game: http://www.semanticweb.org/tgdd/ontologies/2025/1/untitled-ontology-14#Alleyway\n",
      "Game: http://www.semanticweb.org/tgdd/ontologies/2025/1/untitled-ontology-14#Animal_Crossing\n",
      "Game: http://www.semanticweb.org/tgdd/ontologies/2025/1/untitled-ontology-14#Animal_Crossing_Amiibo_Festival\n",
      "Game: http://www.semanticweb.org/tgdd/ontologies/2025/1/untitled-ontology-14#Animal_Crossing_City_Folk\n",
      "Game: http://www.semanticweb.org/tgdd/ontologies/2025/1/untitled-ontology-14#Animal_Crossing_Happy_Home_Designer\n"
     ]
    }
   ],
   "source": [
    "query_nintendo_games = \"\"\"\n",
    "    SELECT ?game WHERE {\n",
    "        ?game rdf:type <http://www.semanticweb.org/tgdd/ontologies/2025/1/untitled-ontology-14#Game> .\n",
    "        ?game <http://www.semanticweb.org/tgdd/ontologies/2025/1/untitled-ontology-14#hasPublisher> <http://www.semanticweb.org/tgdd/ontologies/2025/1/untitled-ontology-14#Nintendo> .\n",
    "    }\n",
    "    LIMIT 10\n",
    "\"\"\"\n",
    "results_nintendo_games = g.query(query_nintendo_games)\n",
    "\n",
    "print(\"\\nВсе игры, изданные Nintendo:\")\n",
    "for row in results_nintendo_games:\n",
    "    print(f\"Game: {row['game']}\")\n"
   ]
  },
  {
   "cell_type": "code",
   "execution_count": 38,
   "metadata": {},
   "outputs": [
    {
     "name": "stdout",
     "output_type": "stream",
     "text": [
      "\n",
      "Игры в жанре Racing:\n",
      "Game: http://www.semanticweb.org/tgdd/ontologies/2025/1/untitled-ontology-14#ATV_Offroad_Fury - Genre: http://www.semanticweb.org/tgdd/ontologies/2025/1/untitled-ontology-14#Racing\n",
      "Game: http://www.semanticweb.org/tgdd/ontologies/2025/1/untitled-ontology-14#ATV_Offroad_Fury_2 - Genre: http://www.semanticweb.org/tgdd/ontologies/2025/1/untitled-ontology-14#Racing\n",
      "Game: http://www.semanticweb.org/tgdd/ontologies/2025/1/untitled-ontology-14#ATV_Offroad_Fury_3 - Genre: http://www.semanticweb.org/tgdd/ontologies/2025/1/untitled-ontology-14#Racing\n",
      "Game: http://www.semanticweb.org/tgdd/ontologies/2025/1/untitled-ontology-14#ATV_Offroad_Fury_Pro - Genre: http://www.semanticweb.org/tgdd/ontologies/2025/1/untitled-ontology-14#Racing\n",
      "Game: http://www.semanticweb.org/tgdd/ontologies/2025/1/untitled-ontology-14#ATV_Quad_Frenzy - Genre: http://www.semanticweb.org/tgdd/ontologies/2025/1/untitled-ontology-14#Racing\n",
      "Game: http://www.semanticweb.org/tgdd/ontologies/2025/1/untitled-ontology-14#ATV_Quad_Kings - Genre: http://www.semanticweb.org/tgdd/ontologies/2025/1/untitled-ontology-14#Racing\n",
      "Game: http://www.semanticweb.org/tgdd/ontologies/2025/1/untitled-ontology-14#ATV_Quad_Power_Racing - Genre: http://www.semanticweb.org/tgdd/ontologies/2025/1/untitled-ontology-14#Racing\n",
      "Game: http://www.semanticweb.org/tgdd/ontologies/2025/1/untitled-ontology-14#ATV_Quad_Power_Racing_2 - Genre: http://www.semanticweb.org/tgdd/ontologies/2025/1/untitled-ontology-14#Racing\n",
      "Game: http://www.semanticweb.org/tgdd/ontologies/2025/1/untitled-ontology-14#Adrenalin_Misfits - Genre: http://www.semanticweb.org/tgdd/ontologies/2025/1/untitled-ontology-14#Racing\n",
      "Game: http://www.semanticweb.org/tgdd/ontologies/2025/1/untitled-ontology-14#Aero_Gauge - Genre: http://www.semanticweb.org/tgdd/ontologies/2025/1/untitled-ontology-14#Racing\n"
     ]
    }
   ],
   "source": [
    "query_racing_games = \"\"\"\n",
    "    SELECT ?game ?genre WHERE {\n",
    "        ?game rdf:type <http://www.semanticweb.org/tgdd/ontologies/2025/1/untitled-ontology-14#Game> .\n",
    "        ?game <http://www.semanticweb.org/tgdd/ontologies/2025/1/untitled-ontology-14#hasGenre> ?genre .\n",
    "        FILTER(CONTAINS(LCASE(str(?genre)), \"racing\"))\n",
    "    }\n",
    "    LIMIT 10\n",
    "\"\"\"\n",
    "results_racing_games = g.query(query_racing_games)\n",
    "\n",
    "print(\"\\nИгры в жанре Racing:\")\n",
    "for row in results_racing_games:\n",
    "    print(f\"Game: {row['game']} - Genre: {row['genre']}\")\n"
   ]
  },
  {
   "cell_type": "code",
   "execution_count": null,
   "metadata": {},
   "outputs": [
    {
     "name": "stdout",
     "output_type": "stream",
     "text": [
      "\n",
      "Trò chơi phát hành trên nền tảng NES và có doanh thu tại Nhật Bản > 3 triệu USD:\n",
      "Game: http://www.semanticweb.org/tgdd/ontologies/2025/1/untitled-ontology-14#Dragon_Warrior_III - JP Sales: 3770000.0 - NA Sales: 0.0\n",
      "Game: http://www.semanticweb.org/tgdd/ontologies/2025/1/untitled-ontology-14#Dragon_Warrior_III - JP Sales: 3770000.0 - NA Sales: 100000.0\n",
      "Game: http://www.semanticweb.org/tgdd/ontologies/2025/1/untitled-ontology-14#Dragon_Warrior_IV - JP Sales: 3030000.0 - NA Sales: 80000.0\n",
      "Game: http://www.semanticweb.org/tgdd/ontologies/2025/1/untitled-ontology-14#Super_Mario_Bros - JP Sales: 6810000.0 - NA Sales: 29080000.0\n",
      "Game: http://www.semanticweb.org/tgdd/ontologies/2025/1/untitled-ontology-14#Super_Mario_Bros - JP Sales: 6810000.0 - NA Sales: 3400000.0\n",
      "Game: http://www.semanticweb.org/tgdd/ontologies/2025/1/untitled-ontology-14#Super_Mario_Bros_3 - JP Sales: 3840000.0 - NA Sales: 2930000.0\n",
      "Game: http://www.semanticweb.org/tgdd/ontologies/2025/1/untitled-ontology-14#Super_Mario_Bros_3 - JP Sales: 3840000.0 - NA Sales: 9540000.0\n",
      "Game: http://www.semanticweb.org/tgdd/ontologies/2025/1/untitled-ontology-14#Tetris - JP Sales: 4220000.0 - NA Sales: 23200000.0\n",
      "Game: http://www.semanticweb.org/tgdd/ontologies/2025/1/untitled-ontology-14#Tetris - JP Sales: 4220000.0 - NA Sales: 2970000.0\n"
     ]
    }
   ],
   "source": [
    "query_nes_jp_sales = \"\"\"\n",
    "    SELECT ?game ?na_sales ?jp_sales WHERE {\n",
    "        ?game rdf:type <http://www.semanticweb.org/tgdd/ontologies/2025/1/untitled-ontology-14#Game> .\n",
    "        ?game <http://www.semanticweb.org/tgdd/ontologies/2025/1/untitled-ontology-14#hasPlatform> <http://www.semanticweb.org/tgdd/ontologies/2025/1/untitled-ontology-14#NES> .\n",
    "        ?game <http://www.semanticweb.org/tgdd/ontologies/2025/1/untitled-ontology-14#hasNASales> ?na_sales .\n",
    "        ?game <http://www.semanticweb.org/tgdd/ontologies/2025/1/untitled-ontology-14#hasJPSales> ?jp_sales .\n",
    "        FILTER(?jp_sales > 3000000)\n",
    "    }\n",
    "    LIMIT 10\n",
    "\"\"\"\n",
    "results_nes_jp_sales = g.query(query_nes_jp_sales)\n",
    "\n",
    "print(\"\\nTrò chơi phát hành trên nền tảng NES và có doanh thu tại Nhật Bản > 3 triệu USD:\")\n",
    "for row in results_nes_jp_sales:\n",
    "    print(f\"Game: {row['game']} - JP Sales: {row['jp_sales']} - NA Sales: {row['na_sales']}\")\n"
   ]
  },
  {
   "cell_type": "code",
   "execution_count": 39,
   "metadata": {},
   "outputs": [
    {
     "name": "stdout",
     "output_type": "stream",
     "text": [
      "\n",
      "\n",
      "Game: http://www.semanticweb.org/tgdd/ontologies/2025/1/untitled-ontology-14#Gears_of_War_2 - NA Sales: 4150000070000000.0\n"
     ]
    }
   ],
   "source": [
    "query_max_na_sales = \"\"\"\n",
    "    SELECT ?game ?na_sales WHERE {\n",
    "        ?game rdf:type <http://www.semanticweb.org/tgdd/ontologies/2025/1/untitled-ontology-14#Game> .\n",
    "        ?game <http://www.semanticweb.org/tgdd/ontologies/2025/1/untitled-ontology-14#hasNASales> ?na_sales .\n",
    "    }\n",
    "    ORDER BY DESC(?na_sales)\n",
    "    LIMIT 1\n",
    "\"\"\"\n",
    "results_max_na_sales = g.query(query_max_na_sales)\n",
    "\n",
    "print(\"\\n\")\n",
    "for row in results_max_na_sales:\n",
    "    print(f\"Game: {row['game']} - NA Sales: {row['na_sales']}\")\n"
   ]
  }
 ],
 "metadata": {
  "kernelspec": {
   "display_name": "Python 3",
   "language": "python",
   "name": "python3"
  },
  "language_info": {
   "codemirror_mode": {
    "name": "ipython",
    "version": 3
   },
   "file_extension": ".py",
   "mimetype": "text/x-python",
   "name": "python",
   "nbconvert_exporter": "python",
   "pygments_lexer": "ipython3",
   "version": "3.10.4"
  }
 },
 "nbformat": 4,
 "nbformat_minor": 2
}
