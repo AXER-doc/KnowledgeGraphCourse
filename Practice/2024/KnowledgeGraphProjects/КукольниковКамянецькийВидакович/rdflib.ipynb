{
 "cells": [
  {
   "cell_type": "markdown",
   "id": "bcfcf66a-7943-4fc8-89ca-bdcb596b69cc",
   "metadata": {},
   "source": [
    "# Rdflib"
   ]
  },
  {
   "cell_type": "code",
   "execution_count": 3,
   "id": "5bbb57e7-6f6e-4a84-b8fe-909e01582d8f",
   "metadata": {},
   "outputs": [],
   "source": [
    "from rdflib import Graph, URIRef, Literal, Namespace\n",
    "from rdflib.namespace import RDF, RDFS\n",
    "from openpyxl import load_workbook\n",
    "from unidecode import unidecode"
   ]
  },
  {
   "cell_type": "code",
   "execution_count": 40,
   "id": "80bbf938-d2fc-4415-b2af-d0c290db81f7",
   "metadata": {},
   "outputs": [
    {
     "data": {
      "text/plain": [
       "<Graph identifier=N5db7bf8653c240448f31aecfb7d518a1 (<class 'rdflib.graph.Graph'>)>"
      ]
     },
     "execution_count": 40,
     "metadata": {},
     "output_type": "execute_result"
    }
   ],
   "source": [
    "ontology_file = \"updated_ontology.rdf\"\n",
    "g = Graph()\n",
    "g.parse(ontology_file, format=\"xml\")"
   ]
  },
  {
   "cell_type": "code",
   "execution_count": 41,
   "id": "fd0853d6-0c28-4a65-8578-ef833bf47282",
   "metadata": {},
   "outputs": [],
   "source": [
    "ONTO = Namespace(\"http://www.semanticweb.org/moderator/ontologies/2024/9/untitled-ontology-7#\")\n",
    "g.bind(\"ex\", ONTO)"
   ]
  },
  {
   "cell_type": "code",
   "execution_count": 4,
   "id": "a37b72a5-53cb-465e-91e6-02b30cbc8214",
   "metadata": {},
   "outputs": [],
   "source": [
    "excel_file = \"final.xlsx\"\n",
    "wb = load_workbook(excel_file)\n",
    "sheet = wb.active"
   ]
  },
  {
   "cell_type": "code",
   "execution_count": 43,
   "id": "e50b1266-96f1-4061-b490-fbdf4019d2c3",
   "metadata": {},
   "outputs": [
    {
     "name": "stdout",
     "output_type": "stream",
     "text": [
      "Фортедетрим капсулы 4000 ме 30 шт\n",
      "Лозартан таблетки покрыт.плен.об. 50 мг 90 шт\n",
      "Витамин С таблетки шипучие 250 мг 20 шт\n"
     ]
    }
   ],
   "source": [
    "data = []\n",
    "for row in sheet.iter_rows(values_only=True):\n",
    "    data.append(list(row))\n",
    "data = data[1:]\n",
    "print(data[1][0])\n",
    "print(data[2][0])\n",
    "print(data[3][0])"
   ]
  },
  {
   "cell_type": "code",
   "execution_count": 44,
   "id": "6646ba81-08d6-4b31-be6e-1592230312fe",
   "metadata": {},
   "outputs": [],
   "source": [
    "def create_uri(name):\n",
    "    var = unidecode(name.replace(\" \", \"_\"))\n",
    "    var = var.replace(' ', '')\n",
    "    var = var.replace('\\'', '')\n",
    "    var = var.replace('−', '')\n",
    "    var = var.replace('.', '')\n",
    "    var = var.replace('/', '')\n",
    "    var = var.replace('\\\\', '')\n",
    "    var = var.replace('\\\"', '')\n",
    "    var = var.replace('<', '')\n",
    "    var = var.replace('>', '')\n",
    "    var = var.replace('-', '')\n",
    "    var = var.replace(':', '')\n",
    "    var = var.replace(';', '')\n",
    "    var = var.replace('%', '')\n",
    "    var = var.replace('-', '')\n",
    "    return URIRef(ONTO[var])"
   ]
  },
  {
   "cell_type": "markdown",
   "id": "6f7e7d9f-a198-40aa-b9b7-2e8a57071f5f",
   "metadata": {},
   "source": [
    "## Подготовка закончена заполняем онтологию"
   ]
  },
  {
   "cell_type": "code",
   "execution_count": 45,
   "id": "8b98de32-7ef0-4429-8a29-2a04da8b3801",
   "metadata": {
    "scrolled": true
   },
   "outputs": [
    {
     "name": "stdout",
     "output_type": "stream",
     "text": [
      "Данные успешно добавлены!\n"
     ]
    }
   ],
   "source": [
    "for medicine_name, action_materials, auxiliary_properties, indications, contraindications, side_effects, release_form, storage_conditions, expiration_date, a1, a2, a3 in data:\n",
    "    \n",
    "    medicine_uri = create_uri(medicine_name)\n",
    "    g.add((medicine_uri, RDF.type, ONTO.Medicine))\n",
    "    g.add((medicine_uri, RDFS.label, Literal(medicine_name, lang=\"ru\")))\n",
    "\n",
    "    if action_materials is not None:\n",
    "        action_materials = action_materials.split(', ')\n",
    "        for material in action_materials:\n",
    "            material_uri = create_uri(material)\n",
    "            g.add((material_uri, RDF.type, ONTO.Action_material))\n",
    "            g.add((material_uri, RDFS.label, Literal(material, lang=\"ru\")))\n",
    "            # Добавляем объектное свойство\n",
    "            g.add((medicine_uri, ONTO.have_action_material, material_uri))\n",
    "\n",
    "    if auxiliary_properties is not None:\n",
    "        auxiliary_properties = auxiliary_properties.split(', ')\n",
    "        for propertie in auxiliary_properties:\n",
    "            propertie_uri = create_uri(propertie)\n",
    "            g.add((propertie_uri, RDF.type, ONTO.Auxiliary_properties))\n",
    "            g.add((propertie_uri, RDFS.label, Literal(propertie, lang=\"ru\")))\n",
    "            # Добавляем объектное свойство\n",
    "            g.add((medicine_uri, ONTO.have_auxiliary_properties, propertie_uri))\n",
    "            \n",
    "    if indications is not None:\n",
    "        indications = indications.split(', ')\n",
    "        for indication in indications:\n",
    "            indication_uri = create_uri(indication)\n",
    "            g.add((indication_uri, RDF.type, ONTO.Indications))\n",
    "            g.add((indication_uri, RDFS.label, Literal(indication, lang=\"ru\")))\n",
    "            # Добавляем объектное свойство\n",
    "            g.add((medicine_uri, ONTO.have_indications, indication_uri))\n",
    "\n",
    "    if contraindications is not None:\n",
    "        contraindications = contraindications.split(', ')\n",
    "        for contraindication in contraindications:\n",
    "            contraindication_uri = create_uri(contraindication)\n",
    "            g.add((contraindication_uri, RDF.type, ONTO.Contraindications))\n",
    "            g.add((contraindication_uri, RDFS.label, Literal(contraindication, lang=\"ru\")))\n",
    "            # Добавляем объектное свойство\n",
    "            g.add((medicine_uri, ONTO.have_contraindications, contraindication_uri))\n",
    "\n",
    "    if side_effects is not None:\n",
    "        side_effects = side_effects.split(', ')\n",
    "        for side_effect in side_effects:\n",
    "            side_effect_uri = create_uri(side_effect)\n",
    "            g.add((side_effect_uri, RDF.type, ONTO.Side_effects))\n",
    "            g.add((side_effect_uri, RDFS.label, Literal(side_effect, lang=\"ru\")))\n",
    "            # Добавляем объектное свойство\n",
    "            g.add((medicine_uri, ONTO.have_side_effects, side_effect_uri))\n",
    "\n",
    "    if release_form is not None:\n",
    "        release_form_uri = create_uri(release_form)\n",
    "        g.add((release_form_uri, RDF.type, ONTO.Release_form))\n",
    "        g.add((release_form_uri, RDFS.label, Literal(release_form, lang=\"ru\")))\n",
    "        # Добавляем объектное свойство\n",
    "        g.add((medicine_uri, ONTO.have_release_form, release_form_uri))\n",
    "\n",
    "    if storage_conditions is not None:\n",
    "        storage_conditions = storage_conditions.split(', ')\n",
    "        for storage_condition in storage_conditions:\n",
    "            storage_condition_uri = create_uri(storage_condition)\n",
    "            g.add((storage_condition_uri, RDF.type, ONTO.Storage_conditions))\n",
    "            g.add((storage_condition_uri, RDFS.label, Literal(storage_condition, lang=\"ru\")))\n",
    "            # Добавляем объектное свойство\n",
    "            g.add((medicine_uri, ONTO.have_storage_conditions, storage_condition_uri))\n",
    "\n",
    "    if expiration_date is not None:\n",
    "        expiration_date_uri = create_uri(expiration_date)\n",
    "        g.add((expiration_date_uri, RDF.type, ONTO.Expiration_date))\n",
    "        g.add((expiration_date_uri, RDFS.label, Literal(expiration_date, lang=\"ru\")))\n",
    "        # Добавляем объектное свойство\n",
    "        g.add((medicine_uri, ONTO.have_expiration_date, expiration_date_uri))\n",
    "\n",
    "# Сохраняем обновленную онтологию\n",
    "g.serialize(destination=\"updated_ontology.rdf\", format=\"xml\")\n",
    "print(\"Данные успешно добавлены!\")"
   ]
  },
  {
   "cell_type": "code",
   "execution_count": null,
   "id": "8c47a2cc-8b2b-4f82-aff9-7a933ff76955",
   "metadata": {},
   "outputs": [],
   "source": []
  }
 ],
 "metadata": {
  "kernelspec": {
   "display_name": "Python 3 (ipykernel)",
   "language": "python",
   "name": "python3"
  },
  "language_info": {
   "codemirror_mode": {
    "name": "ipython",
    "version": 3
   },
   "file_extension": ".py",
   "mimetype": "text/x-python",
   "name": "python",
   "nbconvert_exporter": "python",
   "pygments_lexer": "ipython3",
   "version": "3.12.1"
  }
 },
 "nbformat": 4,
 "nbformat_minor": 5
}
