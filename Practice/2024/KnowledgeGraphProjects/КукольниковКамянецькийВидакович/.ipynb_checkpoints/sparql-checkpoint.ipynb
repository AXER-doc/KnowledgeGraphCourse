{
 "cells": [
  {
   "cell_type": "code",
   "execution_count": 19,
   "id": "86c0016f-9434-42be-b585-9c0d47c143bb",
   "metadata": {},
   "outputs": [],
   "source": [
    "from rdflib import Graph, URIRef, Literal, Namespace"
   ]
  },
  {
   "cell_type": "code",
   "execution_count": 2,
   "id": "dbe49299-c5cf-45b3-b588-5e16aebbe9d0",
   "metadata": {},
   "outputs": [
    {
     "data": {
      "text/plain": [
       "<Graph identifier=N8de1cb0596d74ae0991386453e7213ba (<class 'rdflib.graph.Graph'>)>"
      ]
     },
     "execution_count": 2,
     "metadata": {},
     "output_type": "execute_result"
    }
   ],
   "source": [
    "g = Graph()\n",
    "g.parse(\"updated_ontology.rdf\", format=\"xml\")"
   ]
  },
  {
   "cell_type": "code",
   "execution_count": 32,
   "id": "8380d178-e596-4db4-8e6e-2a09d35dac3e",
   "metadata": {},
   "outputs": [],
   "source": [
    "ONTO = Namespace(\"http://www.semanticweb.org/moderator/ontologies/2024/9/untitled-ontology-7#\")"
   ]
  },
  {
   "cell_type": "code",
   "execution_count": 23,
   "id": "71d446e1-33d3-416b-a4f9-8982d3862a5e",
   "metadata": {},
   "outputs": [],
   "source": [
    "query = \"\"\"\n",
    "SELECT ?medicine ?indication\n",
    "WHERE {\n",
    "  ?medicine <http://www.semanticweb.org/moderator/ontologies/2024/9/untitled-ontology-7#have_indications> ?indication .\n",
    "}\n",
    "LIMIT 5\n",
    "\"\"\""
   ]
  },
  {
   "cell_type": "code",
   "execution_count": 47,
   "id": "e50f3b58-13df-4149-a4f9-4ba18fa0386b",
   "metadata": {},
   "outputs": [
    {
     "name": "stdout",
     "output_type": "stream",
     "text": [
      "{rdflib.term.URIRef('http://www.semanticweb.org/moderator/ontologies/2024/9/untitled-ontology-7#Metronidazol_Reneval_tabletki_250mg_24sht')}\n",
      "{rdflib.term.URIRef('http://www.semanticweb.org/moderator/ontologies/2024/9/untitled-ontology-7#TerbinafinVerteks_tabletki_250mg_10sht')}\n",
      "{rdflib.term.URIRef('http://www.semanticweb.org/moderator/ontologies/2024/9/untitled-ontology-7#TerbinafinVerteks_krem_dlia_naruzhnogo_primeneniia_1__15g_1sht')}\n",
      "{rdflib.term.URIRef('http://www.semanticweb.org/moderator/ontologies/2024/9/untitled-ontology-7#TerbinafinVerteks_tabletki_250mg_30sht')}\n",
      "{rdflib.term.URIRef('http://www.semanticweb.org/moderator/ontologies/2024/9/untitled-ontology-7#Valatsiklovir_tabletki_pokrytplenob_500mg_10sht')}\n"
     ]
    }
   ],
   "source": [
    "results = g.query(query)\n",
    "for row in results:\n",
    "    print({row.medicine})"
   ]
  },
  {
   "cell_type": "code",
   "execution_count": 46,
   "id": "9421a1b1-174b-4b74-8f6b-6c73f6e0d873",
   "metadata": {},
   "outputs": [
    {
     "name": "stdout",
     "output_type": "stream",
     "text": [
      "Метронидазол Реневал таблетки 250 мг 24 шт\n"
     ]
    }
   ],
   "source": [
    "query_2 = \"\"\"\n",
    "SELECT ?label\n",
    "WHERE {\n",
    "  <http://www.semanticweb.org/moderator/ontologies/2024/9/untitled-ontology-7#Metronidazol_Reneval_tabletki_250mg_24sht> rdfs:label ?label .\n",
    "}\n",
    "\"\"\"\n",
    "results_2 = g.query(query_2)\n",
    "\n",
    "# Выводим результат\n",
    "for row in results_2:\n",
    "    print(f\"{row.label}\")"
   ]
  },
  {
   "cell_type": "code",
   "execution_count": 53,
   "id": "dfbb8e34-8e96-4c27-9bbd-28cdccb0ecb1",
   "metadata": {},
   "outputs": [
    {
     "name": "stdout",
     "output_type": "stream",
     "text": [
      "Medicine: http://www.semanticweb.org/moderator/ontologies/2024/9/untitled-ontology-7#AntiAge_Kollagen_morskoi_Evalar_6000mg_paket_po_120g_1sht\n",
      "  Label: Anti-Age Коллаген морской Эвалар 6000 мг пакет по 120 г 1 шт\n",
      "------------------------------\n",
      "Medicine: http://www.semanticweb.org/moderator/ontologies/2024/9/untitled-ontology-7#Herb_apteka_Spokoinyi_malysh_sirop_detskii_uspokaivaiushchii_3+_100ml_1sht\n",
      "  Label: Herb apteka Спокойный малыш сироп детский успокаивающий 3+ 100 мл 1 шт\n",
      "------------------------------\n",
      "Medicine: http://www.semanticweb.org/moderator/ontologies/2024/9/untitled-ontology-7#LTiroksin_75_BerlinKhemi_tabletki_75mkg_100sht\n",
      "  Label: L-Тироксин 75 Берлин-Хеми таблетки 75 мкг 100 шт\n",
      "------------------------------\n",
      "Medicine: http://www.semanticweb.org/moderator/ontologies/2024/9/untitled-ontology-7#Aveloks_tabletki_pokrytplenob_400mg_5sht\n",
      "  Label: Авелокс таблетки покрыт.плен.об. 400 мг 5 шт\n",
      "------------------------------\n",
      "Medicine: http://www.semanticweb.org/moderator/ontologies/2024/9/untitled-ontology-7#Avodart_kapsuly_0,5mg_90sht\n",
      "  Label: Аводарт капсулы 0,5 мг 90 шт\n",
      "------------------------------\n",
      "Medicine: http://www.semanticweb.org/moderator/ontologies/2024/9/untitled-ontology-7#Adenurik_tabletki_pokrytplenob_80mg_28sht\n",
      "  Label: Аденурик таблетки покрыт.плен.об. 80 мг 28 шт\n",
      "------------------------------\n",
      "Medicine: http://www.semanticweb.org/moderator/ontologies/2024/9/untitled-ontology-7#Azarga_kapli_glaznye_10_mgml+5_mgml_5ml_1sht\n",
      "  Label: Азарга капли глазные 10 мг/мл+5 мг/мл 5 мл 1 шт\n",
      "------------------------------\n",
      "Medicine: http://www.semanticweb.org/moderator/ontologies/2024/9/untitled-ontology-7#Azafen_tabletki_25mg_50sht\n",
      "  Label: Азафен таблетки 25 мг 50 шт\n",
      "------------------------------\n",
      "Medicine: http://www.semanticweb.org/moderator/ontologies/2024/9/untitled-ontology-7#Azitromitsin_ForteAlium_tabletki_pokrytplenob_500mg_3sht\n",
      "  Label: Азитромицин Форте-Алиум таблетки покрыт.плен.об. 500 мг 3 шт\n",
      "------------------------------\n",
      "Medicine: http://www.semanticweb.org/moderator/ontologies/2024/9/untitled-ontology-7#Azitromitsin_tabletki_pokrytplenob_500mg_3sht\n",
      "  Label: Азитромицин таблетки покрыт.плен.об. 500 мг 3 шт\n",
      "------------------------------\n"
     ]
    }
   ],
   "source": [
    "query_3 = \"\"\"\n",
    "SELECT DISTINCT ?medicine ?label ?indication ?property\n",
    "WHERE {\n",
    "  ?medicine a <http://www.semanticweb.org/moderator/ontologies/2024/9/untitled-ontology-7#Medicine> ;\n",
    "            rdfs:label ?label .\n",
    "}\n",
    "ORDER BY ?label\n",
    "LIMIT 10\n",
    "\"\"\"\n",
    "\n",
    "results_3 = g.query(query_3)\n",
    "\n",
    "for row in results_3:\n",
    "    print(f\"Medicine: {row.medicine}\")\n",
    "    print(f\"  Label: {row.label}\")\n",
    "    print(\"-\" * 30)"
   ]
  },
  {
   "cell_type": "code",
   "execution_count": 80,
   "id": "38a42791-dbdd-4358-b79b-50e5105e5cac",
   "metadata": {},
   "outputs": [
    {
     "name": "stdout",
     "output_type": "stream",
     "text": [
      "Medicine: http://www.semanticweb.org/moderator/ontologies/2024/9/untitled-ontology-7#Herb_apteka_Spokoinyi_malysh_sirop_detskii_uspokaivaiushchii_3+_100ml_1sht\n",
      "Label: Herb apteka Спокойный малыш сироп детский успокаивающий 3+ 100 мл 1 шт\n",
      "Expiration_date: http://www.semanticweb.org/moderator/ontologies/2024/9/untitled-ontology-7#18_mesiatsev,\n",
      "-------------\n",
      "Medicine: http://www.semanticweb.org/moderator/ontologies/2024/9/untitled-ontology-7#LTiroksin_75_BerlinKhemi_tabletki_75mkg_100sht\n",
      "Label: L-Тироксин 75 Берлин-Хеми таблетки 75 мкг 100 шт\n",
      "Expiration_date: http://www.semanticweb.org/moderator/ontologies/2024/9/untitled-ontology-7#2_goda,\n",
      "-------------\n",
      "Medicine: http://www.semanticweb.org/moderator/ontologies/2024/9/untitled-ontology-7#Aveloks_tabletki_pokrytplenob_400mg_5sht\n",
      "Label: Авелокс таблетки покрыт.плен.об. 400 мг 5 шт\n",
      "Expiration_date: http://www.semanticweb.org/moderator/ontologies/2024/9/untitled-ontology-7#5_let,\n",
      "-------------\n",
      "Medicine: http://www.semanticweb.org/moderator/ontologies/2024/9/untitled-ontology-7#Avodart_kapsuly_0,5mg_90sht\n",
      "Label: Аводарт капсулы 0,5 мг 90 шт\n",
      "Expiration_date: http://www.semanticweb.org/moderator/ontologies/2024/9/untitled-ontology-7#4_goda,\n",
      "-------------\n",
      "Medicine: http://www.semanticweb.org/moderator/ontologies/2024/9/untitled-ontology-7#Adenurik_tabletki_pokrytplenob_80mg_28sht\n",
      "Label: Аденурик таблетки покрыт.плен.об. 80 мг 28 шт\n",
      "Expiration_date: http://www.semanticweb.org/moderator/ontologies/2024/9/untitled-ontology-7#3_goda,\n",
      "-------------\n",
      "Medicine: http://www.semanticweb.org/moderator/ontologies/2024/9/untitled-ontology-7#Azarga_kapli_glaznye_10_mgml+5_mgml_5ml_1sht\n",
      "Label: Азарга капли глазные 10 мг/мл+5 мг/мл 5 мл 1 шт\n",
      "Expiration_date: http://www.semanticweb.org/moderator/ontologies/2024/9/untitled-ontology-7#2_goda,\n",
      "-------------\n",
      "Medicine: http://www.semanticweb.org/moderator/ontologies/2024/9/untitled-ontology-7#Azafen_tabletki_25mg_50sht\n",
      "Label: Азафен таблетки 25 мг 50 шт\n",
      "Expiration_date: http://www.semanticweb.org/moderator/ontologies/2024/9/untitled-ontology-7#5_let,\n",
      "-------------\n",
      "Medicine: http://www.semanticweb.org/moderator/ontologies/2024/9/untitled-ontology-7#Azitromitsin_ForteAlium_tabletki_pokrytplenob_500mg_3sht\n",
      "Label: Азитромицин Форте-Алиум таблетки покрыт.плен.об. 500 мг 3 шт\n",
      "Expiration_date: http://www.semanticweb.org/moderator/ontologies/2024/9/untitled-ontology-7#3_goda,\n",
      "-------------\n",
      "Medicine: http://www.semanticweb.org/moderator/ontologies/2024/9/untitled-ontology-7#Azitromitsin_tabletki_pokrytplenob_500mg_3sht\n",
      "Label: Азитромицин таблетки покрыт.плен.об. 500 мг 3 шт\n",
      "Expiration_date: http://www.semanticweb.org/moderator/ontologies/2024/9/untitled-ontology-7#3_goda,\n",
      "-------------\n",
      "Medicine: http://www.semanticweb.org/moderator/ontologies/2024/9/untitled-ontology-7#Azopt_kapli_glaznye_10_mgml_5ml_1sht\n",
      "Label: Азопт капли глазные 10 мг/мл 5 мл 1 шт\n",
      "Expiration_date: http://www.semanticweb.org/moderator/ontologies/2024/9/untitled-ontology-7#2_goda,\n",
      "-------------\n"
     ]
    }
   ],
   "source": [
    "query_4 = \"\"\"\n",
    "SELECT ?medicine ?label ?expiration_date\n",
    "WHERE {\n",
    "    ?medicine a <http://www.semanticweb.org/moderator/ontologies/2024/9/untitled-ontology-7#Medicine> ;\n",
    "            rdfs:label ?label ;\n",
    "            <http://www.semanticweb.org/moderator/ontologies/2024/9/untitled-ontology-7#have_expiration_date> ?expiration_date .\n",
    "}\n",
    "ORDER BY ?label\n",
    "LIMIT 10\n",
    "\"\"\"\n",
    "results_4 = g.query(query_4)\n",
    "for row in results_4:\n",
    "    print(f\"Medicine: {row.medicine}\")\n",
    "    print(f\"Label: {row.label}\")\n",
    "    print(f\"Expiration_date: {row.expiration_date},\")\n",
    "    print(\"-------------\")"
   ]
  }
 ],
 "metadata": {
  "kernelspec": {
   "display_name": "Python 3 (ipykernel)",
   "language": "python",
   "name": "python3"
  },
  "language_info": {
   "codemirror_mode": {
    "name": "ipython",
    "version": 3
   },
   "file_extension": ".py",
   "mimetype": "text/x-python",
   "name": "python",
   "nbconvert_exporter": "python",
   "pygments_lexer": "ipython3",
   "version": "3.12.1"
  }
 },
 "nbformat": 4,
 "nbformat_minor": 5
}
