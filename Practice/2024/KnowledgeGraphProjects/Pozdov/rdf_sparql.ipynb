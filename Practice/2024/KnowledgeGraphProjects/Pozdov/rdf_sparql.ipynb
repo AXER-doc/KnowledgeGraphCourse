{
 "cells": [
  {
   "cell_type": "code",
   "execution_count": 2,
   "metadata": {},
   "outputs": [],
   "source": [
    "from rdflib import URIRef, BNode, Literal, Namespace, Graph\n",
    "from rdflib.namespace import Namespace, NamespaceManager\n",
    "from rdflib.plugins import sparql\n",
    "from rdflib.namespace import RDF, RDFS, XSD\n",
    "from rdflib.serializer import Serializer"
   ]
  },
  {
   "cell_type": "code",
   "execution_count": 44,
   "metadata": {},
   "outputs": [
    {
     "data": {
      "text/plain": [
       "<Graph identifier=N50a62e42e8494bf5a2081118a5c33850 (<class 'rdflib.graph.Graph'>)>"
      ]
     },
     "execution_count": 44,
     "metadata": {},
     "output_type": "execute_result"
    }
   ],
   "source": [
    "g = Graph()\n",
    "\n",
    "g.parse('./rlcs_rdfxml.rdf', format=\"xml\")"
   ]
  },
  {
   "cell_type": "code",
   "execution_count": 45,
   "metadata": {},
   "outputs": [],
   "source": [
    "# Classes\n",
    "Car_class = URIRef(\"http://www.semanticweb.org/pozdo/ontologies/2024/10/rlcs-analyzer#Car\")\n",
    "Game_class = URIRef(\"http://www.semanticweb.org/pozdo/ontologies/2024/10/rlcs-analyzer#Game\")\n",
    "Series_class = URIRef(\"http://www.semanticweb.org/pozdo/ontologies/2024/10/rlcs-analyzer#Series\")\n",
    "Event_class = URIRef(\"http://www.semanticweb.org/pozdo/ontologies/2024/10/rlcs-analyzer#Event\")\n",
    "Stat_class = URIRef(\"http://www.semanticweb.org/pozdo/ontologies/2024/10/rlcs-analyzer#Stat\")\n",
    "Side_class = URIRef(\"http://www.semanticweb.org/pozdo/ontologies/2024/10/rlcs-analyzer#Side\")\n",
    "Region_class = URIRef(\"http://www.semanticweb.org/pozdo/ontologies/2024/10/rlcs-analyzer#Region\")\n",
    "Team_class = URIRef(\"http://www.semanticweb.org/pozdo/ontologies/2024/10/rlcs-analyzer#Team\")\n",
    "Player_class = URIRef(\"http://www.semanticweb.org/pozdo/ontologies/2024/10/rlcs-analyzer#Player\")\n",
    "\n",
    "Major_class = URIRef(\"http://www.semanticweb.org/pozdo/ontologies/2024/10/rlcs-analyzer#Major\")\n",
    "Regional_class = URIRef(\"http://www.semanticweb.org/pozdo/ontologies/2024/10/rlcs-analyzer#Regional\")\n",
    "World_Championship_class = URIRef(\"http://www.semanticweb.org/pozdo/ontologies/2024/10/rlcs-analyzer#World_Championship\")\n",
    "\n",
    "bo1_class = URIRef(\"http://www.semanticweb.org/pozdo/ontologies/2024/10/rlcs-analyzer#bo1\")\n",
    "bo3_class = URIRef(\"http://www.semanticweb.org/pozdo/ontologies/2024/10/rlcs-analyzer#bo3\")\n",
    "bo5_class = URIRef(\"http://www.semanticweb.org/pozdo/ontologies/2024/10/rlcs-analyzer#bo5\")\n",
    "bo7_class = URIRef(\"http://www.semanticweb.org/pozdo/ontologies/2024/10/rlcs-analyzer#bo7\")\n",
    "\n",
    "Blue_class = URIRef(\"http://www.semanticweb.org/pozdo/ontologies/2024/10/rlcs-analyzer#Blue\")\n",
    "Orange_class = URIRef(\"http://www.semanticweb.org/pozdo/ontologies/2024/10/rlcs-analyzer#Orange\")\n",
    "\n",
    "Game_stat_class = URIRef(\"http://www.semanticweb.org/pozdo/ontologies/2024/10/rlcs-analyzer#Game_stat\")\n",
    "Game_stat_player_class = URIRef(\"http://www.semanticweb.org/pozdo/ontologies/2024/10/rlcs-analyzer#Game_stat_player\")\n",
    "Game_stat_team_class = URIRef(\"http://www.semanticweb.org/pozdo/ontologies/2024/10/rlcs-analyzer#Game_stat_team\")\n",
    "\n",
    "Series_stat_class = URIRef(\"http://www.semanticweb.org/pozdo/ontologies/2024/10/rlcs-analyzer#Series_stat\")\n",
    "Series_stat_player_class = URIRef(\"http://www.semanticweb.org/pozdo/ontologies/2024/10/rlcs-analyzer#Series_stat_player\")\n",
    "Series_stat_team_class = URIRef(\"http://www.semanticweb.org/pozdo/ontologies/2024/10/rlcs-analyzer#Series_stat_team\")\n",
    "\n",
    "\n",
    "#object properties\n",
    "has_MVP = URIRef(\"http://www.semanticweb.org/pozdo/ontologies/2024/10/rlcs-analyzer#has_MVP\")\n",
    "has_player = URIRef(\"http://www.semanticweb.org/pozdo/ontologies/2024/10/rlcs-analyzer#has_player\")\n",
    "has_stat = URIRef(\"http://www.semanticweb.org/pozdo/ontologies/2024/10/rlcs-analyzer#has_stat\")\n",
    "is_for_game = URIRef(\"http://www.semanticweb.org/pozdo/ontologies/2024/10/rlcs-analyzer#is_for_game\")\n",
    "is_for_series = URIRef(\"http://www.semanticweb.org/pozdo/ontologies/2024/10/rlcs-analyzer#is_for_series\")\n",
    "is_MVP = URIRef(\"http://www.semanticweb.org/pozdo/ontologies/2024/10/rlcs-analyzer#is_MVP\")\n",
    "is_part_of_event = URIRef(\"http://www.semanticweb.org/pozdo/ontologies/2024/10/rlcs-analyzer#is_part_of_event\")\n",
    "is_part_of_series = URIRef(\"http://www.semanticweb.org/pozdo/ontologies/2024/10/rlcs-analyzer#is_part_of_series\")\n",
    "is_player_for_team = URIRef(\"http://www.semanticweb.org/pozdo/ontologies/2024/10/rlcs-analyzer#is_player_for_team\")\n",
    "lost_game = URIRef(\"http://www.semanticweb.org/pozdo/ontologies/2024/10/rlcs-analyzer#lost_game\")\n",
    "lost_series = URIRef(\"http://www.semanticweb.org/pozdo/ontologies/2024/10/rlcs-analyzer#lost_series\")\n",
    "played_for_side = URIRef(\"http://www.semanticweb.org/pozdo/ontologies/2024/10/rlcs-analyzer#played_for_side\")\n",
    "plays_for_region = URIRef(\"http://www.semanticweb.org/pozdo/ontologies/2024/10/rlcs-analyzer#plays_for_region\")\n",
    "won_game = URIRef(\"http://www.semanticweb.org/pozdo/ontologies/2024/10/rlcs-analyzer#won_game\")\n",
    "won_series = URIRef(\"http://www.semanticweb.org/pozdo/ontologies/2024/10/rlcs-analyzer#won_series\")\n",
    "\n",
    "\n",
    "#data properties\n",
    "ahead_of_ball_percentage = URIRef(\"http://www.semanticweb.org/pozdo/ontologies/2024/10/rlcs-analyzer#ahead_of_ball_percentage\")\n",
    "assists = URIRef(\"http://www.semanticweb.org/pozdo/ontologies/2024/10/rlcs-analyzer#assists\")\n",
    "average_boost = URIRef(\"http://www.semanticweb.org/pozdo/ontologies/2024/10/rlcs-analyzer#average_boost\")\n",
    "avg_distance_ball = URIRef(\"http://www.semanticweb.org/pozdo/ontologies/2024/10/rlcs-analyzer#avg_distance_ball\")\n",
    "avg_speed_percentage = URIRef(\"http://www.semanticweb.org/pozdo/ontologies/2024/10/rlcs-analyzer#avg_speed_percentage\")\n",
    "behind_ball_percentage = URIRef(\"http://www.semanticweb.org/pozdo/ontologies/2024/10/rlcs-analyzer#behind_ball_percentage\")\n",
    "big_pads_collected = URIRef(\"http://www.semanticweb.org/pozdo/ontologies/2024/10/rlcs-analyzer#big_pads_collected\")\n",
    "big_pads_stolen = URIRef(\"http://www.semanticweb.org/pozdo/ontologies/2024/10/rlcs-analyzer#big_pads_stolen\")\n",
    "\n",
    "boost_collected = URIRef(\"http://www.semanticweb.org/pozdo/ontologies/2024/10/rlcs-analyzer#boost_collected\")\n",
    "boost_overfill = URIRef(\"http://www.semanticweb.org/pozdo/ontologies/2024/10/rlcs-analyzer#boost_overfill\")\n",
    "boost_overfill_from_stolen = URIRef(\"http://www.semanticweb.org/pozdo/ontologies/2024/10/rlcs-analyzer#boost_overfill_from_stolen\")\n",
    "boost_stolen = URIRef(\"http://www.semanticweb.org/pozdo/ontologies/2024/10/rlcs-analyzer#boost_stolen\")\n",
    "boost_used_supersonic = URIRef(\"http://www.semanticweb.org/pozdo/ontologies/2024/10/rlcs-analyzer#boost_used_supersonic\")\n",
    "BPM = URIRef(\"http://www.semanticweb.org/pozdo/ontologies/2024/10/rlcs-analyzer#BPM\")\n",
    "car = URIRef(\"http://www.semanticweb.org/pozdo/ontologies/2024/10/rlcs-analyzer#car\")\n",
    "defensive_third_percentage = URIRef(\"http://www.semanticweb.org/pozdo/ontologies/2024/10/rlcs-analyzer#defensive_third_percentage\")\n",
    "demos = URIRef(\"http://www.semanticweb.org/pozdo/ontologies/2024/10/rlcs-analyzer#demos\")\n",
    "goals = URIRef(\"http://www.semanticweb.org/pozdo/ontologies/2024/10/rlcs-analyzer#goals\")\n",
    "neutral_third_percentage = URIRef(\"http://www.semanticweb.org/pozdo/ontologies/2024/10/rlcs-analyzer#neutral_third_percentage\")\n",
    "offensive_third_percentage = URIRef(\"http://www.semanticweb.org/pozdo/ontologies/2024/10/rlcs-analyzer#offensive_third_percentage\")\n",
    "\n",
    "powerslide_count = URIRef(\"http://www.semanticweb.org/pozdo/ontologies/2024/10/rlcs-analyzer#powerslide_count\")\n",
    "powerslide_duration = URIRef(\"http://www.semanticweb.org/pozdo/ontologies/2024/10/rlcs-analyzer#powerslide_duration\")\n",
    "saves = URIRef(\"http://www.semanticweb.org/pozdo/ontologies/2024/10/rlcs-analyzer#saves\")\n",
    "score = URIRef(\"http://www.semanticweb.org/pozdo/ontologies/2024/10/rlcs-analyzer#score\")\n",
    "shots = URIRef(\"http://www.semanticweb.org/pozdo/ontologies/2024/10/rlcs-analyzer#shots\")\n",
    "small_pads_collected = URIRef(\"http://www.semanticweb.org/pozdo/ontologies/2024/10/rlcs-analyzer#small_pads_collected\")\n",
    "small_pads_stolen = URIRef(\"http://www.semanticweb.org/pozdo/ontologies/2024/10/rlcs-analyzer#small_pads_stolen\")\n",
    "time_0_boost = URIRef(\"http://www.semanticweb.org/pozdo/ontologies/2024/10/rlcs-analyzer#time_0_boost\")\n",
    "time_100_boost = URIRef(\"http://www.semanticweb.org/pozdo/ontologies/2024/10/rlcs-analyzer#time_100_boost\")\n",
    "\n",
    "time_boost_speed = URIRef(\"http://www.semanticweb.org/pozdo/ontologies/2024/10/rlcs-analyzer#time_boost_speed\")\n",
    "time_high_in_air = URIRef(\"http://www.semanticweb.org/pozdo/ontologies/2024/10/rlcs-analyzer#time_high_in_air\")\n",
    "time_low_in_air = URIRef(\"http://www.semanticweb.org/pozdo/ontologies/2024/10/rlcs-analyzer#time_low_in_air\")\n",
    "time_on_ground = URIRef(\"http://www.semanticweb.org/pozdo/ontologies/2024/10/rlcs-analyzer#time_on_ground\")\n",
    "time_slow_speed = URIRef(\"http://www.semanticweb.org/pozdo/ontologies/2024/10/rlcs-analyzer#time_slow_speed\")\n",
    "time_supersonic = URIRef(\"http://www.semanticweb.org/pozdo/ontologies/2024/10/rlcs-analyzer#time_supersonic\")\n",
    "total_distance = URIRef(\"http://www.semanticweb.org/pozdo/ontologies/2024/10/rlcs-analyzer#total_distance\")\n",
    "\n",
    "score_team_loser = URIRef(\"http://www.semanticweb.org/pozdo/ontologies/2024/10/rlcs-analyzer#score_team_loser\")\n",
    "score_team_winner = URIRef(\"http://www.semanticweb.org/pozdo/ontologies/2024/10/rlcs-analyzer#score_team_winner\")\n",
    "goals_winner = URIRef(\"http://www.semanticweb.org/pozdo/ontologies/2024/10/rlcs-analyzer#goals_winner\")\n",
    "goals_loser = URIRef(\"http://www.semanticweb.org/pozdo/ontologies/2024/10/rlcs-analyzer#goals_loser\")"
   ]
  },
  {
   "cell_type": "code",
   "execution_count": 46,
   "metadata": {},
   "outputs": [],
   "source": [
    "from scraper import *\n",
    "from urllib import parse\n",
    "\n",
    "def AddPlayerIndividual(name, team_uri):\n",
    "    print(\"Adding player: \" + name)\n",
    "    individual = URIRef(\"http://www.semanticweb.org/pozdo/ontologies/2024/10/rlcs-analyzer#Player-\" + parse.quote(name))\n",
    "    if individual in g.subjects(RDF.type, Player_class):\n",
    "        return individual\n",
    "    g.add((individual, RDF.type, Player_class))\n",
    "    g.add((individual, is_player_for_team, team_uri))\n",
    "    return individual\n",
    "\n",
    "def AddStatsForPlayerGame(stats, game : Game):\n",
    "    player_name = parse.quote(stats.retrieve(\"name\"))\n",
    "    print(f\"Adding stats for {player_name} in game {game.name}\")\n",
    "    individual = URIRef(\"http://www.semanticweb.org/pozdo/ontologies/2024/10/rlcs-analyzer#Game_stat\" + game.name + \"-\" + player_name)\n",
    "    player = URIRef(\"http://www.semanticweb.org/pozdo/ontologies/2024/10/rlcs-analyzer#Player-\" + player_name)\n",
    "    game_ind = URIRef(\"http://www.semanticweb.org/pozdo/ontologies/2024/10/rlcs-analyzer#Game\" + game.name)\n",
    "\n",
    "    if (stats.retrieve(\"is_mvp\")):\n",
    "        g.add((player, is_MVP, game_ind))\n",
    "        g.add((game_ind, has_MVP, player))\n",
    "\n",
    "    g.add((individual, RDF.type, Game_stat_class))\n",
    "    g.add((individual, RDF.type, Game_stat_player_class))\n",
    "    g.add((individual, is_for_game, game_ind))\n",
    "    g.add((player, has_stat, individual))\n",
    "\n",
    "    g.add((individual, goals_winner, Literal(game.goals_winner, datatype=XSD.integer)))\n",
    "    g.add((individual, goals_loser, Literal(game.goals_loser, datatype=XSD.integer)))\n",
    "    if (stats.retrieve(\"played_for_side\") == \"Blue\"):\n",
    "        g.add((individual, played_for_side, Blue_class))\n",
    "    else:\n",
    "        g.add((individual, played_for_side, Orange_class))\n",
    "\n",
    "    g.add((individual, ahead_of_ball_percentage, Literal(stats.retrieve(\"ahead_of_ball_percentage\"), datatype=XSD.float)))\n",
    "    g.add((individual, assists, Literal(stats.retrieve(\"assists\"), datatype=XSD.integer)))\n",
    "    g.add((individual, average_boost, Literal(stats.retrieve(\"average_boost\"), datatype=XSD.integer)))\n",
    "    g.add((individual, avg_distance_ball, Literal(stats.retrieve(\"avg_distance_ball\"), datatype=XSD.float)))\n",
    "    g.add((individual, avg_speed_percentage, Literal(stats.retrieve(\"avg_speed_percentage\"), datatype=XSD.float)))\n",
    "    g.add((individual, behind_ball_percentage, Literal(stats.retrieve(\"behind_ball_percentage\"), datatype=XSD.float)))\n",
    "    g.add((individual, big_pads_collected, Literal(stats.retrieve(\"big_pads_collected\"), datatype=XSD.integer)))\n",
    "    g.add((individual, big_pads_stolen, Literal(stats.retrieve(\"big_pads_stolen\"), datatype=XSD.integer)))\n",
    "\n",
    "    g.add((individual, boost_collected, Literal(stats.retrieve(\"boost_collected\"), datatype=XSD.integer)))\n",
    "    g.add((individual, boost_overfill, Literal(stats.retrieve(\"boost_overfill\"), datatype=XSD.integer)))\n",
    "    g.add((individual, boost_overfill_from_stolen, Literal(stats.retrieve(\"boost_overfill_from_stolen\"), datatype=XSD.integer)))\n",
    "    g.add((individual, boost_stolen, Literal(stats.retrieve(\"boost_stolen\"), datatype=XSD.integer)))\n",
    "    g.add((individual, boost_used_supersonic, Literal(stats.retrieve(\"boost_used_supersonic\"), datatype=XSD.integer)))\n",
    "    g.add((individual, BPM, Literal(stats.retrieve(\"BPM\"),datatype=XSD.integer)))\n",
    "    g.add((individual, car, Literal(stats.retrieve(\"car\"),datatype=XSD.string)))\n",
    "    g.add((individual, defensive_third_percentage, Literal(stats.retrieve(\"defensive_third_percentage\"), datatype=XSD.float)))\n",
    "\n",
    "#    g.add((individual, demos, Literal(stats.retrieve(\"demos\"), datatype=XSD.integer)))\n",
    "    g.add((individual, goals, Literal(stats.retrieve(\"goals\"), datatype=XSD.integer)))\n",
    "    g.add((individual, neutral_third_percentage, Literal(stats.retrieve(\"neutral_third_percentage\"), datatype=XSD.float)))\n",
    "    g.add((individual, offensive_third_percentage, Literal(stats.retrieve(\"offensive_third_percentage\"), datatype=XSD.float)))\n",
    "    g.add((individual, powerslide_count, Literal(stats.retrieve(\"powerslide_count\"), datatype=XSD.integer)))\n",
    "    g.add((individual, powerslide_duration, Literal(stats.retrieve(\"powerslide_duration\"), datatype=XSD.float)))\n",
    "\n",
    "    g.add((individual, saves, Literal(stats.retrieve(\"saves\"), datatype=XSD.integer)))\n",
    "    g.add((individual, score, Literal(stats.retrieve(\"score\"), datatype=XSD.integer)))\n",
    "    g.add((individual, shots, Literal(stats.retrieve(\"shots\"), datatype=XSD.integer)))\n",
    "    g.add((individual, small_pads_collected, Literal(stats.retrieve(\"small_pads_collected\"), datatype=XSD.integer)))\n",
    "    g.add((individual, small_pads_stolen, Literal(stats.retrieve(\"small_pads_stolen\"), datatype=XSD.integer)))\n",
    "    g.add((individual, time_0_boost, Literal(stats.retrieve(\"time_0_boost\"), datatype=XSD.float)))\n",
    "    g.add((individual, time_100_boost, Literal(stats.retrieve(\"time_100_boost\"), datatype=XSD.float)))\n",
    "\n",
    "    g.add((individual, time_boost_speed, Literal(stats.retrieve(\"time_boost_speed\"), datatype=XSD.float)))\n",
    "    g.add((individual, time_high_in_air, Literal(stats.retrieve(\"time_high_in_air\"), datatype=XSD.float)))\n",
    "    g.add((individual, time_low_in_air, Literal(stats.retrieve(\"time_low_in_air\"), datatype=XSD.float)))\n",
    "    g.add((individual, time_on_ground, Literal(stats.retrieve(\"time_on_ground\"), datatype=XSD.float)))\n",
    "    g.add((individual, time_slow_speed, Literal(stats.retrieve(\"time_slow_speed\"), datatype=XSD.float)))\n",
    "    g.add((individual, time_supersonic, Literal(stats.retrieve(\"time_supersonic\"), datatype=XSD.float)))\n",
    "    g.add((individual, total_distance, Literal(stats.retrieve(\"total_distance\"), datatype=XSD.integer)))\n",
    "\n",
    "    return individual\n",
    "\n",
    "def AddSeriesStatIndividual(series : Series, series_individual, team_winner_ind, team_loser_ind):\n",
    "    print(f\"Adding stats for series {series.name}\")\n",
    "    individual = URIRef(\"http://www.semanticweb.org/pozdo/ontologies/2024/10/rlcs-analyzer#Series_stat\" + series.name)\n",
    "    g.add((individual, is_for_series, series_individual))\n",
    "    g.add((individual, score_team_loser, Literal(series.score_loser, datatype=XSD.integer)))\n",
    "    g.add((individual, score_team_winner, Literal(series.score_winner, datatype=XSD.integer)))\n",
    "    g.add((team_winner_ind, has_stat, individual))\n",
    "    g.add((team_loser_ind, has_stat, individual))\n",
    "    return individual\n",
    "\n",
    "\n",
    "def AddGameIndividual(game : Game, series_individual):\n",
    "    print(f\"Adding game {game.name}\")\n",
    "    individual = URIRef(\"http://www.semanticweb.org/pozdo/ontologies/2024/10/rlcs-analyzer#Game\" + game.name)\n",
    "    g.add((individual, RDF.type, Game_class))\n",
    "    g.add((individual, is_part_of_series, series_individual))\n",
    "    team_winner = URIRef(\"http://www.semanticweb.org/pozdo/ontologies/2024/10/rlcs-analyzer#Team-\" + parse.quote(game.team_winner.name))\n",
    "    team_loser = URIRef(\"http://www.semanticweb.org/pozdo/ontologies/2024/10/rlcs-analyzer#Team-\" + parse.quote(game.team_loser.name))\n",
    "    g.add((team_winner, won_game, individual))\n",
    "    g.add((team_loser, lost_game, individual))\n",
    "    \n",
    "    for stat in game.stats:\n",
    "        player_name = stat.retrieve(\"name\")\n",
    "        if (player_name in game.team_winner.players):\n",
    "            AddPlayerIndividual(player_name, team_winner)\n",
    "        else:\n",
    "            AddPlayerIndividual(player_name, team_loser)\n",
    "        AddStatsForPlayerGame(stat, game)\n",
    "\n",
    "    return individual\n",
    "\n",
    "def AddTeamIndividual(team : Team):\n",
    "    print(f\"Adding team {team.name}\")\n",
    "    individual = URIRef(\"http://www.semanticweb.org/pozdo/ontologies/2024/10/rlcs-analyzer#Team-\" + parse.quote(team.name)) \n",
    "    if individual in g.subjects(RDF.type, Team_class):\n",
    "        return individual\n",
    "    g.add((individual, RDF.type, Team_class))\n",
    "    for player in team.players:\n",
    "        player_individual = AddPlayerIndividual(player, individual)\n",
    "        g.add((individual, has_player, player_individual))\n",
    "    return individual\n",
    "\n",
    "def AddSeriesIndividual(series : Series):\n",
    "    print(f\"Adding series {series.name}\")\n",
    "    individual = URIRef(\"http://www.semanticweb.org/pozdo/ontologies/2024/10/rlcs-analyzer#Series\" + series.name)\n",
    "    team_winner = AddTeamIndividual(series.team_winner)\n",
    "    team_loser = AddTeamIndividual(series.team_loser)\n",
    "    g.add((individual, RDF.type, Series_class))\n",
    "    g.add((team_winner, won_series, individual))\n",
    "    g.add((team_loser, lost_series, individual))\n",
    "    match(series.best_of):\n",
    "        case 1: g.add((individual, RDF.type, bo1_class))\n",
    "        case 3: g.add((individual, RDF.type, bo3_class))\n",
    "        case 5: g.add((individual, RDF.type, bo5_class))\n",
    "        case 7: g.add((individual, RDF.type, bo7_class))\n",
    "\n",
    "    series_stat_individual = AddSeriesStatIndividual(series, individual, team_winner, team_loser)\n",
    "    g.add((individual, is_part_of_event, URIRef(\"http://www.semanticweb.org/pozdo/ontologies/2024/10/rlcs-analyzer#Event-Major1-2024\"))) #remove later\n",
    "    for game in series.games:\n",
    "        AddGameIndividual(game, individual)\n",
    "\n",
    "    return individual\n",
    "\n",
    "\n"
   ]
  },
  {
   "cell_type": "code",
   "execution_count": 7,
   "metadata": {},
   "outputs": [],
   "source": [
    "series = parse_series(\"/group/bds-vs-elv-t11lrnk4f7\")"
   ]
  },
  {
   "cell_type": "code",
   "execution_count": 47,
   "metadata": {},
   "outputs": [
    {
     "name": "stdout",
     "output_type": "stream",
     "text": [
      "Adding series /group/bds-vs-elv-t11lrnk4f7\n",
      "Adding team TEAM BDS\n",
      "Adding player: dralii\n",
      "Adding player: ExoTiiK\n",
      "Adding player: M0nkey M00n\n",
      "Adding team ELEVATE\n",
      "Adding player: LCT\n",
      "Adding player: Kevin\n",
      "Adding player: Sphinx\n",
      "Adding stats for series /group/bds-vs-elv-t11lrnk4f7\n",
      "Adding game /replay/71cf9501-80bc-4e14-97d6-2dddfb5f2ca9?g=bds-vs-elv-t11lrnk4f7\n",
      "Adding player: ExoTiiK\n",
      "Adding stats for ExoTiiK in game /replay/71cf9501-80bc-4e14-97d6-2dddfb5f2ca9?g=bds-vs-elv-t11lrnk4f7\n",
      "Adding player: dralii\n",
      "Adding stats for dralii in game /replay/71cf9501-80bc-4e14-97d6-2dddfb5f2ca9?g=bds-vs-elv-t11lrnk4f7\n",
      "Adding player: M0nkey M00n\n",
      "Adding stats for M0nkey%20M00n in game /replay/71cf9501-80bc-4e14-97d6-2dddfb5f2ca9?g=bds-vs-elv-t11lrnk4f7\n",
      "Adding player: Sphinx\n",
      "Adding stats for Sphinx in game /replay/71cf9501-80bc-4e14-97d6-2dddfb5f2ca9?g=bds-vs-elv-t11lrnk4f7\n",
      "Adding player: LCT\n",
      "Adding stats for LCT in game /replay/71cf9501-80bc-4e14-97d6-2dddfb5f2ca9?g=bds-vs-elv-t11lrnk4f7\n",
      "Adding player: Kevin\n",
      "Adding stats for Kevin in game /replay/71cf9501-80bc-4e14-97d6-2dddfb5f2ca9?g=bds-vs-elv-t11lrnk4f7\n",
      "Adding game /replay/7bcc0d8c-051f-4606-9a3c-3c3d4d34a966?g=bds-vs-elv-t11lrnk4f7\n",
      "Adding player: dralii\n",
      "Adding stats for dralii in game /replay/7bcc0d8c-051f-4606-9a3c-3c3d4d34a966?g=bds-vs-elv-t11lrnk4f7\n",
      "Adding player: M0nkey M00n\n",
      "Adding stats for M0nkey%20M00n in game /replay/7bcc0d8c-051f-4606-9a3c-3c3d4d34a966?g=bds-vs-elv-t11lrnk4f7\n",
      "Adding player: ExoTiiK\n",
      "Adding stats for ExoTiiK in game /replay/7bcc0d8c-051f-4606-9a3c-3c3d4d34a966?g=bds-vs-elv-t11lrnk4f7\n",
      "Adding player: LCT\n",
      "Adding stats for LCT in game /replay/7bcc0d8c-051f-4606-9a3c-3c3d4d34a966?g=bds-vs-elv-t11lrnk4f7\n",
      "Adding player: Kevin\n",
      "Adding stats for Kevin in game /replay/7bcc0d8c-051f-4606-9a3c-3c3d4d34a966?g=bds-vs-elv-t11lrnk4f7\n",
      "Adding player: Sphinx\n",
      "Adding stats for Sphinx in game /replay/7bcc0d8c-051f-4606-9a3c-3c3d4d34a966?g=bds-vs-elv-t11lrnk4f7\n",
      "Adding game /replay/5f4ecb4c-70c5-4341-8993-a98fd35acada?g=bds-vs-elv-t11lrnk4f7\n",
      "Adding player: dralii\n",
      "Adding stats for dralii in game /replay/5f4ecb4c-70c5-4341-8993-a98fd35acada?g=bds-vs-elv-t11lrnk4f7\n",
      "Adding player: ExoTiiK\n",
      "Adding stats for ExoTiiK in game /replay/5f4ecb4c-70c5-4341-8993-a98fd35acada?g=bds-vs-elv-t11lrnk4f7\n",
      "Adding player: M0nkey M00n\n",
      "Adding stats for M0nkey%20M00n in game /replay/5f4ecb4c-70c5-4341-8993-a98fd35acada?g=bds-vs-elv-t11lrnk4f7\n",
      "Adding player: Kevin\n",
      "Adding stats for Kevin in game /replay/5f4ecb4c-70c5-4341-8993-a98fd35acada?g=bds-vs-elv-t11lrnk4f7\n",
      "Adding player: Sphinx\n",
      "Adding stats for Sphinx in game /replay/5f4ecb4c-70c5-4341-8993-a98fd35acada?g=bds-vs-elv-t11lrnk4f7\n",
      "Adding player: LCT\n",
      "Adding stats for LCT in game /replay/5f4ecb4c-70c5-4341-8993-a98fd35acada?g=bds-vs-elv-t11lrnk4f7\n"
     ]
    },
    {
     "data": {
      "text/plain": [
       "rdflib.term.URIRef('http://www.semanticweb.org/pozdo/ontologies/2024/10/rlcs-analyzer#Series/group/bds-vs-elv-t11lrnk4f7')"
      ]
     },
     "execution_count": 47,
     "metadata": {},
     "output_type": "execute_result"
    }
   ],
   "source": [
    "AddSeriesIndividual(series)"
   ]
  },
  {
   "cell_type": "code",
   "execution_count": 48,
   "metadata": {},
   "outputs": [],
   "source": [
    "series2 = parse_series(\"/group/flcn-vs-og-009x9v4alh\")"
   ]
  },
  {
   "cell_type": "code",
   "execution_count": 49,
   "metadata": {},
   "outputs": [
    {
     "name": "stdout",
     "output_type": "stream",
     "text": [
      "Adding series /group/flcn-vs-og-009x9v4alh\n",
      "Adding team TEAM FALCONS\n",
      "Adding player: Kiileerrz\n",
      "Adding player: trk511\n",
      "Adding player: Rw9\n",
      "Adding team OG ESPORTS\n",
      "Adding player: JKnaps\n",
      "Adding player: comm\n",
      "Adding player: noly\n",
      "Adding stats for series /group/flcn-vs-og-009x9v4alh\n",
      "Adding game /replay/5462bcd9-63d0-4fe2-b627-b4044139008d?g=flcn-vs-og-009x9v4alh\n",
      "Adding player: Kiileerrz\n",
      "Adding stats for Kiileerrz in game /replay/5462bcd9-63d0-4fe2-b627-b4044139008d?g=flcn-vs-og-009x9v4alh\n",
      "Adding player: Rw9\n",
      "Adding stats for Rw9 in game /replay/5462bcd9-63d0-4fe2-b627-b4044139008d?g=flcn-vs-og-009x9v4alh\n",
      "Adding player: trk511\n",
      "Adding stats for trk511 in game /replay/5462bcd9-63d0-4fe2-b627-b4044139008d?g=flcn-vs-og-009x9v4alh\n",
      "Adding player: noly\n",
      "Adding stats for noly in game /replay/5462bcd9-63d0-4fe2-b627-b4044139008d?g=flcn-vs-og-009x9v4alh\n",
      "Adding player: Comm\n",
      "Adding stats for Comm in game /replay/5462bcd9-63d0-4fe2-b627-b4044139008d?g=flcn-vs-og-009x9v4alh\n",
      "Adding player: JKnaps\n",
      "Adding stats for JKnaps in game /replay/5462bcd9-63d0-4fe2-b627-b4044139008d?g=flcn-vs-og-009x9v4alh\n",
      "Adding game /replay/d3f08344-ab3f-447b-ac58-18691000dc37?g=flcn-vs-og-009x9v4alh\n",
      "Adding player: Kiileerrz\n",
      "Adding stats for Kiileerrz in game /replay/d3f08344-ab3f-447b-ac58-18691000dc37?g=flcn-vs-og-009x9v4alh\n",
      "Adding player: trk511\n",
      "Adding stats for trk511 in game /replay/d3f08344-ab3f-447b-ac58-18691000dc37?g=flcn-vs-og-009x9v4alh\n",
      "Adding player: Rw9\n",
      "Adding stats for Rw9 in game /replay/d3f08344-ab3f-447b-ac58-18691000dc37?g=flcn-vs-og-009x9v4alh\n",
      "Adding player: JKnaps\n",
      "Adding stats for JKnaps in game /replay/d3f08344-ab3f-447b-ac58-18691000dc37?g=flcn-vs-og-009x9v4alh\n",
      "Adding player: noly\n",
      "Adding stats for noly in game /replay/d3f08344-ab3f-447b-ac58-18691000dc37?g=flcn-vs-og-009x9v4alh\n",
      "Adding player: Comm\n",
      "Adding stats for Comm in game /replay/d3f08344-ab3f-447b-ac58-18691000dc37?g=flcn-vs-og-009x9v4alh\n",
      "Adding game /replay/b8feb866-73c1-4205-a54a-ae1382a70e3c?g=flcn-vs-og-009x9v4alh\n",
      "Adding player: Rw9\n",
      "Adding stats for Rw9 in game /replay/b8feb866-73c1-4205-a54a-ae1382a70e3c?g=flcn-vs-og-009x9v4alh\n",
      "Adding player: trk511\n",
      "Adding stats for trk511 in game /replay/b8feb866-73c1-4205-a54a-ae1382a70e3c?g=flcn-vs-og-009x9v4alh\n",
      "Adding player: Kiileerrz\n",
      "Adding stats for Kiileerrz in game /replay/b8feb866-73c1-4205-a54a-ae1382a70e3c?g=flcn-vs-og-009x9v4alh\n",
      "Adding player: JKnaps\n",
      "Adding stats for JKnaps in game /replay/b8feb866-73c1-4205-a54a-ae1382a70e3c?g=flcn-vs-og-009x9v4alh\n",
      "Adding player: Comm\n",
      "Adding stats for Comm in game /replay/b8feb866-73c1-4205-a54a-ae1382a70e3c?g=flcn-vs-og-009x9v4alh\n",
      "Adding player: noly\n",
      "Adding stats for noly in game /replay/b8feb866-73c1-4205-a54a-ae1382a70e3c?g=flcn-vs-og-009x9v4alh\n",
      "Adding game /replay/ad51000d-2d57-4bca-a5ac-d88538ccb1c1?g=flcn-vs-og-009x9v4alh\n",
      "Adding player: Rw9\n",
      "Adding stats for Rw9 in game /replay/ad51000d-2d57-4bca-a5ac-d88538ccb1c1?g=flcn-vs-og-009x9v4alh\n",
      "Adding player: Kiileerrz\n",
      "Adding stats for Kiileerrz in game /replay/ad51000d-2d57-4bca-a5ac-d88538ccb1c1?g=flcn-vs-og-009x9v4alh\n",
      "Adding player: trk511\n",
      "Adding stats for trk511 in game /replay/ad51000d-2d57-4bca-a5ac-d88538ccb1c1?g=flcn-vs-og-009x9v4alh\n",
      "Adding player: Comm\n",
      "Adding stats for Comm in game /replay/ad51000d-2d57-4bca-a5ac-d88538ccb1c1?g=flcn-vs-og-009x9v4alh\n",
      "Adding player: JKnaps\n",
      "Adding stats for JKnaps in game /replay/ad51000d-2d57-4bca-a5ac-d88538ccb1c1?g=flcn-vs-og-009x9v4alh\n",
      "Adding player: noly\n",
      "Adding stats for noly in game /replay/ad51000d-2d57-4bca-a5ac-d88538ccb1c1?g=flcn-vs-og-009x9v4alh\n"
     ]
    },
    {
     "data": {
      "text/plain": [
       "rdflib.term.URIRef('http://www.semanticweb.org/pozdo/ontologies/2024/10/rlcs-analyzer#Series/group/flcn-vs-og-009x9v4alh')"
      ]
     },
     "execution_count": 49,
     "metadata": {},
     "output_type": "execute_result"
    }
   ],
   "source": [
    "AddSeriesIndividual(series2)"
   ]
  },
  {
   "cell_type": "code",
   "execution_count": 50,
   "metadata": {},
   "outputs": [],
   "source": [
    "series3 = parse_series(\"/group/g2-vs-qtp-0hfrv0vkvg\")"
   ]
  },
  {
   "cell_type": "code",
   "execution_count": 51,
   "metadata": {},
   "outputs": [
    {
     "name": "stdout",
     "output_type": "stream",
     "text": [
      "Adding series /group/g2-vs-qtp-0hfrv0vkvg\n",
      "Adding team G2 STRIDE\n",
      "Adding player: BeastMode\n",
      "Adding player: Daniel\n",
      "Adding player: Atomic\n",
      "Adding team PIONEERS\n",
      "Adding player: Fiberr\n",
      "Adding player: Scrub\n",
      "Adding player: KCP Amphis\n",
      "Adding stats for series /group/g2-vs-qtp-0hfrv0vkvg\n",
      "Adding game /replay/d7abdd98-c160-4c2f-b21f-0acd8b30515a?g=g2-vs-qtp-0hfrv0vkvg\n",
      "Adding player: BeastMode\n",
      "Adding stats for BeastMode in game /replay/d7abdd98-c160-4c2f-b21f-0acd8b30515a?g=g2-vs-qtp-0hfrv0vkvg\n",
      "Adding player: Atomic\n",
      "Adding stats for Atomic in game /replay/d7abdd98-c160-4c2f-b21f-0acd8b30515a?g=g2-vs-qtp-0hfrv0vkvg\n",
      "Adding player: Daniel\n",
      "Adding stats for Daniel in game /replay/d7abdd98-c160-4c2f-b21f-0acd8b30515a?g=g2-vs-qtp-0hfrv0vkvg\n",
      "Adding player: Fiberr\n",
      "Adding stats for Fiberr in game /replay/d7abdd98-c160-4c2f-b21f-0acd8b30515a?g=g2-vs-qtp-0hfrv0vkvg\n",
      "Adding player: KCP Amphis\n",
      "Adding stats for KCP%20Amphis in game /replay/d7abdd98-c160-4c2f-b21f-0acd8b30515a?g=g2-vs-qtp-0hfrv0vkvg\n",
      "Adding player: Scrub\n",
      "Adding stats for Scrub in game /replay/d7abdd98-c160-4c2f-b21f-0acd8b30515a?g=g2-vs-qtp-0hfrv0vkvg\n",
      "Adding game /replay/875c3786-6143-4e8b-b47c-3e6b2c3e32d9?g=g2-vs-qtp-0hfrv0vkvg\n",
      "Adding player: Daniel\n",
      "Adding stats for Daniel in game /replay/875c3786-6143-4e8b-b47c-3e6b2c3e32d9?g=g2-vs-qtp-0hfrv0vkvg\n",
      "Adding player: Atomic\n",
      "Adding stats for Atomic in game /replay/875c3786-6143-4e8b-b47c-3e6b2c3e32d9?g=g2-vs-qtp-0hfrv0vkvg\n",
      "Adding player: BeastMode\n",
      "Adding stats for BeastMode in game /replay/875c3786-6143-4e8b-b47c-3e6b2c3e32d9?g=g2-vs-qtp-0hfrv0vkvg\n",
      "Adding player: Scrub\n",
      "Adding stats for Scrub in game /replay/875c3786-6143-4e8b-b47c-3e6b2c3e32d9?g=g2-vs-qtp-0hfrv0vkvg\n",
      "Adding player: KCP Amphis\n",
      "Adding stats for KCP%20Amphis in game /replay/875c3786-6143-4e8b-b47c-3e6b2c3e32d9?g=g2-vs-qtp-0hfrv0vkvg\n",
      "Adding player: Fiberr\n",
      "Adding stats for Fiberr in game /replay/875c3786-6143-4e8b-b47c-3e6b2c3e32d9?g=g2-vs-qtp-0hfrv0vkvg\n",
      "Adding game /replay/c7803dc1-1068-47b5-a813-f4603910963e?g=g2-vs-qtp-0hfrv0vkvg\n",
      "Adding player: BeastMode\n",
      "Adding stats for BeastMode in game /replay/c7803dc1-1068-47b5-a813-f4603910963e?g=g2-vs-qtp-0hfrv0vkvg\n",
      "Adding player: Daniel\n",
      "Adding stats for Daniel in game /replay/c7803dc1-1068-47b5-a813-f4603910963e?g=g2-vs-qtp-0hfrv0vkvg\n",
      "Adding player: Atomic\n",
      "Adding stats for Atomic in game /replay/c7803dc1-1068-47b5-a813-f4603910963e?g=g2-vs-qtp-0hfrv0vkvg\n",
      "Adding player: Scrub\n",
      "Adding stats for Scrub in game /replay/c7803dc1-1068-47b5-a813-f4603910963e?g=g2-vs-qtp-0hfrv0vkvg\n",
      "Adding player: Fiberr\n",
      "Adding stats for Fiberr in game /replay/c7803dc1-1068-47b5-a813-f4603910963e?g=g2-vs-qtp-0hfrv0vkvg\n",
      "Adding player: KCP Amphis\n",
      "Adding stats for KCP%20Amphis in game /replay/c7803dc1-1068-47b5-a813-f4603910963e?g=g2-vs-qtp-0hfrv0vkvg\n"
     ]
    },
    {
     "data": {
      "text/plain": [
       "rdflib.term.URIRef('http://www.semanticweb.org/pozdo/ontologies/2024/10/rlcs-analyzer#Series/group/g2-vs-qtp-0hfrv0vkvg')"
      ]
     },
     "execution_count": 51,
     "metadata": {},
     "output_type": "execute_result"
    }
   ],
   "source": [
    "AddSeriesIndividual(series3)"
   ]
  },
  {
   "cell_type": "code",
   "execution_count": 52,
   "metadata": {},
   "outputs": [],
   "source": [
    "series4 = parse_series(\"/group/ggm1-vs-pwr-97s0jbpngn\")"
   ]
  },
  {
   "cell_type": "code",
   "execution_count": 53,
   "metadata": {},
   "outputs": [
    {
     "name": "stdout",
     "output_type": "stream",
     "text": [
      "Adding series /group/ggm1-vs-pwr-97s0jbpngn\n",
      "Adding team GENG MOBIL1\n",
      "Adding player: Chronic\n",
      "Adding player: ApparentlyJack\n",
      "Adding player: Firstkiller\n",
      "Adding team PWR\n",
      "Adding player: Fever\n",
      "Adding player: bananahead\n",
      "Adding player: Torsos\n",
      "Adding stats for series /group/ggm1-vs-pwr-97s0jbpngn\n",
      "Adding game /replay/69526a06-1f02-4ff3-acb8-06403946f5f3?g=ggm1-vs-pwr-97s0jbpngn\n",
      "Adding player: bananahead\n",
      "Adding stats for bananahead in game /replay/69526a06-1f02-4ff3-acb8-06403946f5f3?g=ggm1-vs-pwr-97s0jbpngn\n",
      "Adding player: Torsos\n",
      "Adding stats for Torsos in game /replay/69526a06-1f02-4ff3-acb8-06403946f5f3?g=ggm1-vs-pwr-97s0jbpngn\n",
      "Adding player: Fever\n",
      "Adding stats for Fever in game /replay/69526a06-1f02-4ff3-acb8-06403946f5f3?g=ggm1-vs-pwr-97s0jbpngn\n",
      "Adding player: Firstkiller\n",
      "Adding stats for Firstkiller in game /replay/69526a06-1f02-4ff3-acb8-06403946f5f3?g=ggm1-vs-pwr-97s0jbpngn\n",
      "Adding player: Chronic\n",
      "Adding stats for Chronic in game /replay/69526a06-1f02-4ff3-acb8-06403946f5f3?g=ggm1-vs-pwr-97s0jbpngn\n",
      "Adding player: ApparentlyJack\n",
      "Adding stats for ApparentlyJack in game /replay/69526a06-1f02-4ff3-acb8-06403946f5f3?g=ggm1-vs-pwr-97s0jbpngn\n",
      "Adding game /replay/a2cba475-7f23-428e-92ef-908e4e2ab0b8?g=ggm1-vs-pwr-97s0jbpngn\n",
      "Adding player: Fever\n",
      "Adding stats for Fever in game /replay/a2cba475-7f23-428e-92ef-908e4e2ab0b8?g=ggm1-vs-pwr-97s0jbpngn\n",
      "Adding player: Torsos\n",
      "Adding stats for Torsos in game /replay/a2cba475-7f23-428e-92ef-908e4e2ab0b8?g=ggm1-vs-pwr-97s0jbpngn\n",
      "Adding player: bananahead\n",
      "Adding stats for bananahead in game /replay/a2cba475-7f23-428e-92ef-908e4e2ab0b8?g=ggm1-vs-pwr-97s0jbpngn\n",
      "Adding player: ApparentlyJack\n",
      "Adding stats for ApparentlyJack in game /replay/a2cba475-7f23-428e-92ef-908e4e2ab0b8?g=ggm1-vs-pwr-97s0jbpngn\n",
      "Adding player: Firstkiller\n",
      "Adding stats for Firstkiller in game /replay/a2cba475-7f23-428e-92ef-908e4e2ab0b8?g=ggm1-vs-pwr-97s0jbpngn\n",
      "Adding player: Chronic\n",
      "Adding stats for Chronic in game /replay/a2cba475-7f23-428e-92ef-908e4e2ab0b8?g=ggm1-vs-pwr-97s0jbpngn\n",
      "Adding game /replay/d0a255c0-9008-4bf2-83ab-fcc7b7216bd2?g=ggm1-vs-pwr-97s0jbpngn\n",
      "Adding player: Fever\n",
      "Adding stats for Fever in game /replay/d0a255c0-9008-4bf2-83ab-fcc7b7216bd2?g=ggm1-vs-pwr-97s0jbpngn\n",
      "Adding player: bananahead\n",
      "Adding stats for bananahead in game /replay/d0a255c0-9008-4bf2-83ab-fcc7b7216bd2?g=ggm1-vs-pwr-97s0jbpngn\n",
      "Adding player: Torsos\n",
      "Adding stats for Torsos in game /replay/d0a255c0-9008-4bf2-83ab-fcc7b7216bd2?g=ggm1-vs-pwr-97s0jbpngn\n",
      "Adding player: Firstkiller\n",
      "Adding stats for Firstkiller in game /replay/d0a255c0-9008-4bf2-83ab-fcc7b7216bd2?g=ggm1-vs-pwr-97s0jbpngn\n",
      "Adding player: ApparentlyJack\n",
      "Adding stats for ApparentlyJack in game /replay/d0a255c0-9008-4bf2-83ab-fcc7b7216bd2?g=ggm1-vs-pwr-97s0jbpngn\n",
      "Adding player: Chronic\n",
      "Adding stats for Chronic in game /replay/d0a255c0-9008-4bf2-83ab-fcc7b7216bd2?g=ggm1-vs-pwr-97s0jbpngn\n",
      "Adding game /replay/6cea92a3-05b8-4880-8a02-c9f8590e1b5f?g=ggm1-vs-pwr-97s0jbpngn\n",
      "Adding player: Fever\n",
      "Adding stats for Fever in game /replay/6cea92a3-05b8-4880-8a02-c9f8590e1b5f?g=ggm1-vs-pwr-97s0jbpngn\n",
      "Adding player: bananahead\n",
      "Adding stats for bananahead in game /replay/6cea92a3-05b8-4880-8a02-c9f8590e1b5f?g=ggm1-vs-pwr-97s0jbpngn\n",
      "Adding player: Torsos\n",
      "Adding stats for Torsos in game /replay/6cea92a3-05b8-4880-8a02-c9f8590e1b5f?g=ggm1-vs-pwr-97s0jbpngn\n",
      "Adding player: Firstkiller\n",
      "Adding stats for Firstkiller in game /replay/6cea92a3-05b8-4880-8a02-c9f8590e1b5f?g=ggm1-vs-pwr-97s0jbpngn\n",
      "Adding player: Chronic\n",
      "Adding stats for Chronic in game /replay/6cea92a3-05b8-4880-8a02-c9f8590e1b5f?g=ggm1-vs-pwr-97s0jbpngn\n",
      "Adding player: ApparentlyJack\n",
      "Adding stats for ApparentlyJack in game /replay/6cea92a3-05b8-4880-8a02-c9f8590e1b5f?g=ggm1-vs-pwr-97s0jbpngn\n"
     ]
    },
    {
     "data": {
      "text/plain": [
       "rdflib.term.URIRef('http://www.semanticweb.org/pozdo/ontologies/2024/10/rlcs-analyzer#Series/group/ggm1-vs-pwr-97s0jbpngn')"
      ]
     },
     "execution_count": 53,
     "metadata": {},
     "output_type": "execute_result"
    }
   ],
   "source": [
    "AddSeriesIndividual(series4)"
   ]
  },
  {
   "cell_type": "code",
   "execution_count": 54,
   "metadata": {},
   "outputs": [
    {
     "data": {
      "text/plain": [
       "<Graph identifier=N50a62e42e8494bf5a2081118a5c33850 (<class 'rdflib.graph.Graph'>)>"
      ]
     },
     "execution_count": 54,
     "metadata": {},
     "output_type": "execute_result"
    }
   ],
   "source": [
    "g.serialize(destination=\"./res/rlcs_rdfxml.rdf\", format=\"xml\")"
   ]
  },
  {
   "cell_type": "markdown",
   "metadata": {},
   "source": [
    "Какая команда выиграла данную Series : /group/bds-vs-elv-t11lrnk4f7 ? "
   ]
  },
  {
   "cell_type": "code",
   "execution_count": 58,
   "metadata": {},
   "outputs": [
    {
     "name": "stdout",
     "output_type": "stream",
     "text": [
      "Team: http://www.semanticweb.org/pozdo/ontologies/2024/10/rlcs-analyzer#Team-TEAM%20BDS\n"
     ]
    }
   ],
   "source": [
    "qres = g.query(\"\"\"\n",
    "PREFIX : <http://www.semanticweb.org/pozdo/ontologies/2024/10/rlcs-analyzer#>\n",
    "PREFIX rdf: <http://www.w3.org/1999/02/22-rdf-syntax-ns#>\n",
    "\n",
    "SELECT ?team\n",
    "WHERE {\n",
    "  ?team rdf:type :Team .      \n",
    "  ?series rdf:type :Series .   \n",
    "  ?team :won_series ?series . \n",
    "  FILTER (?series = <http://www.semanticweb.org/pozdo/ontologies/2024/10/rlcs-analyzer#Series/group/bds-vs-elv-t11lrnk4f7>)  \n",
    "}\n",
    " \"\"\")\n",
    "\n",
    "for row in qres:\n",
    "    print(f\"Team: {row['team']}\")"
   ]
  },
  {
   "cell_type": "markdown",
   "metadata": {},
   "source": [
    "Является ли Игрок Monkey Moon игроком команды Team BDS?"
   ]
  },
  {
   "cell_type": "code",
   "execution_count": 60,
   "metadata": {},
   "outputs": [
    {
     "name": "stdout",
     "output_type": "stream",
     "text": [
      "True\n"
     ]
    }
   ],
   "source": [
    "qres1 = g.query(\"\"\"\n",
    "PREFIX : <http://www.semanticweb.org/pozdo/ontologies/2024/10/rlcs-analyzer#>\n",
    "PREFIX rdf: <http://www.w3.org/1999/02/22-rdf-syntax-ns#>\n",
    "\n",
    "ASK {\n",
    "  ?player rdf:type :Player .\n",
    "  ?team rdf:type :Team .\n",
    "  ?team :has_player ?player .\n",
    "  FILTER (\n",
    "    ?player = <http://www.semanticweb.org/pozdo/ontologies/2024/10/rlcs-analyzer#Player-M0nkey%20M00n> &&\n",
    "    ?team = <http://www.semanticweb.org/pozdo/ontologies/2024/10/rlcs-analyzer#Team-TEAM%20BDS>\n",
    "  )\n",
    "}\n",
    "\"\"\")\n",
    "\n",
    "print(bool(qres1))"
   ]
  },
  {
   "cell_type": "markdown",
   "metadata": {},
   "source": [
    "Общее количество буста, собранное игроком Monkey Moon в Series /group/bds-vs-elv-t11lrnk4f7 в каждой из игр"
   ]
  },
  {
   "cell_type": "code",
   "execution_count": 85,
   "metadata": {},
   "outputs": [
    {
     "name": "stdout",
     "output_type": "stream",
     "text": [
      "Boost collected: 2664\n",
      "Boost collected: 2138\n",
      "Boost collected: 3190\n"
     ]
    }
   ],
   "source": [
    "qres2 = g.query(\"\"\"\n",
    "PREFIX : <http://www.semanticweb.org/pozdo/ontologies/2024/10/rlcs-analyzer#>\n",
    "PREFIX rdf: <http://www.w3.org/1999/02/22-rdf-syntax-ns#>\n",
    "\n",
    "SELECT ?booststat\n",
    "WHERE {\n",
    "  ?player rdf:type :Player .      \n",
    "  ?series rdf:type :Series .   \n",
    "  ?game rdf:type :Game .\n",
    "  ?game :is_part_of_series ?series .\n",
    "  ?stat rdf:type :Game_stat .\n",
    "  ?stat :is_for_game ?game .\n",
    "  ?player :has_stat ?stat .\n",
    "  ?stat :boost_collected ?booststat .\n",
    "  FILTER (\n",
    "    ?series = <http://www.semanticweb.org/pozdo/ontologies/2024/10/rlcs-analyzer#Series/group/bds-vs-elv-t11lrnk4f7> &&\n",
    "    ?player = <http://www.semanticweb.org/pozdo/ontologies/2024/10/rlcs-analyzer#Player-M0nkey%20M00n>\n",
    "  )  \n",
    "}\n",
    "\"\"\")\n",
    "\n",
    "for row in qres2:\n",
    "    print(f\"Boost collected: {row['booststat']}\")"
   ]
  },
  {
   "cell_type": "markdown",
   "metadata": {},
   "source": [
    "Какой игрок имеет максимально проведенное время с полным бустом, в Series /group/bds-vs-elv-t11lrnk4f7"
   ]
  },
  {
   "cell_type": "code",
   "execution_count": 105,
   "metadata": {},
   "outputs": [
    {
     "name": "stdout",
     "output_type": "stream",
     "text": [
      "http://www.semanticweb.org/pozdo/ontologies/2024/10/rlcs-analyzer#Player-Kevin\n"
     ]
    }
   ],
   "source": [
    "qres3 = g.query(\"\"\"\n",
    "PREFIX : <http://www.semanticweb.org/pozdo/ontologies/2024/10/rlcs-analyzer#>\n",
    "PREFIX rdf: <http://www.w3.org/1999/02/22-rdf-syntax-ns#>\n",
    "\n",
    "SELECT ?player\n",
    "WHERE {\n",
    "  ?game :is_part_of_series <http://www.semanticweb.org/pozdo/ontologies/2024/10/rlcs-analyzer#Series/group/bds-vs-elv-t11lrnk4f7> .  \n",
    "  ?stat rdf:type :Game_stat .\n",
    "  ?stat :is_for_game <http://www.semanticweb.org/pozdo/ontologies/2024/10/rlcs-analyzer#Game/replay/71cf9501-80bc-4e14-97d6-2dddfb5f2ca9?g=bds-vs-elv-t11lrnk4f7> .\n",
    "  ?player :has_stat ?stat .\n",
    "  ?stat :time_100_boost ?time_100_boost .\n",
    "}\n",
    "ORDER BY ASC(?time_100_boost)\n",
    "LIMIT 1\n",
    "\"\"\")\n",
    "\n",
    "for row in qres3:\n",
    "    print(row[\"player\"])"
   ]
  },
  {
   "cell_type": "markdown",
   "metadata": {},
   "source": [
    "У какого Player - Player1 или Player2 - больше time_on_ground в игре Game1 в Series?"
   ]
  },
  {
   "cell_type": "code",
   "execution_count": 113,
   "metadata": {},
   "outputs": [
    {
     "name": "stdout",
     "output_type": "stream",
     "text": [
      "http://www.semanticweb.org/pozdo/ontologies/2024/10/rlcs-analyzer#Player-M0nkey%20M00n\n"
     ]
    }
   ],
   "source": [
    "qres4 = g.query(\"\"\"\n",
    "PREFIX : <http://www.semanticweb.org/pozdo/ontologies/2024/10/rlcs-analyzer#>\n",
    "PREFIX rdf: <http://www.w3.org/1999/02/22-rdf-syntax-ns#>\n",
    "\n",
    "SELECT ?player\n",
    "WHERE {\n",
    "  ?game :is_part_of_series <http://www.semanticweb.org/pozdo/ontologies/2024/10/rlcs-analyzer#Series/group/bds-vs-elv-t11lrnk4f7> .  \n",
    "  ?stat rdf:type :Game_stat .\n",
    "  ?stat :is_for_game <http://www.semanticweb.org/pozdo/ontologies/2024/10/rlcs-analyzer#Game/replay/71cf9501-80bc-4e14-97d6-2dddfb5f2ca9?g=bds-vs-elv-t11lrnk4f7> .\n",
    "  ?player :has_stat ?stat .\n",
    "  ?stat :time_on_ground ?time_on_ground .\n",
    "  FILTER (\n",
    "    ?player IN (<http://www.semanticweb.org/pozdo/ontologies/2024/10/rlcs-analyzer#Player-M0nkey%20M00n>, \n",
    "               <http://www.semanticweb.org/pozdo/ontologies/2024/10/rlcs-analyzer#Player-ExoTiiK>)    \n",
    "  )\n",
    "}\n",
    "ORDER BY ASC(?time_on_ground)\n",
    "LIMIT 1\n",
    "\"\"\")\n",
    "\n",
    "for row in qres4:\n",
    "    print(row[\"player\"])"
   ]
  }
 ],
 "metadata": {
  "kernelspec": {
   "display_name": "Python 3",
   "language": "python",
   "name": "python3"
  },
  "language_info": {
   "codemirror_mode": {
    "name": "ipython",
    "version": 3
   },
   "file_extension": ".py",
   "mimetype": "text/x-python",
   "name": "python",
   "nbconvert_exporter": "python",
   "pygments_lexer": "ipython3",
   "version": "3.12.1"
  }
 },
 "nbformat": 4,
 "nbformat_minor": 2
}
