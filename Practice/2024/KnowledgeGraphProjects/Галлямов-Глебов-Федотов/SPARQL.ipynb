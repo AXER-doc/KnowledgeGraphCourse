{
 "cells": [
  {
   "cell_type": "code",
   "execution_count": 2,
   "id": "22dc401d-4ce0-451b-9bf9-cde26b922791",
   "metadata": {},
   "outputs": [
    {
     "name": "stdout",
     "output_type": "stream",
     "text": [
      "[(rdflib.term.URIRef('http://kg@se.ifmo.ru/~s367583/fgo#Skill_692350'), rdflib.term.URIRef('http://www.w3.org/1999/02/22-rdf-syntax-ns#type'), rdflib.term.URIRef('http://www.w3.org/2002/07/owl#NamedIndividual')), (rdflib.term.URIRef('http://kg@se.ifmo.ru/~s367583/fgo#faterequiem-collab-challenge-guide-child-underworld-utsumi-erice'), rdflib.term.URIRef('http://kg@se.ifmo.ru/~s367583/fgo#hasRecommendedDamageServant'), rdflib.term.URIRef('http://kg@se.ifmo.ru/~s367583/fgo#Servant_Unknown')), (rdflib.term.URIRef('http://kg@se.ifmo.ru/~s367583/fgo#Buff_2649'), rdflib.term.URIRef('http://kg@se.ifmo.ru/~s367583/fgo#targetsTrait'), rdflib.term.URIRef('http://kg@se.ifmo.ru/~s367583/fgo#Trait_5000')), (rdflib.term.URIRef('http://kg@se.ifmo.ru/~s367583/fgo#Skill_199550/Effect_0'), rdflib.term.URIRef('http://www.w3.org/1999/02/22-rdf-syntax-ns#type'), rdflib.term.URIRef('http://www.w3.org/2002/07/owl#NamedIndividual')), (rdflib.term.URIRef('http://kg@se.ifmo.ru/~s367583/fgo#Skill_157350/Effect_0'), rdflib.term.URIRef('http://www.w3.org/1999/02/22-rdf-syntax-ns#type'), rdflib.term.URIRef('http://kg@se.ifmo.ru/~s367583/fgo#Skill_Effect')), (rdflib.term.URIRef('http://kg@se.ifmo.ru/~s367583/fgo#Servant_44'), rdflib.term.URIRef('http://kg@se.ifmo.ru/~s367583/fgo#hasInstantDeathChance'), rdflib.term.URIRef('http://kg@se.ifmo.ru/~s367583/fgo#40_50_Percent')), (rdflib.term.URIRef('http://kg@se.ifmo.ru/~s367583/fgo#Skill_119450'), rdflib.term.URIRef('http://kg@se.ifmo.ru/~s367583/fgo#hasEffect'), rdflib.term.URIRef('http://kg@se.ifmo.ru/~s367583/fgo#Skill_119450/Effect_0')), (rdflib.term.URIRef('http://kg@se.ifmo.ru/~s367583/fgo#Function_302'), rdflib.term.URIRef('http://kg@se.ifmo.ru/~s367583/fgo#targets'), rdflib.term.URIRef('http://kg@se.ifmo.ru/~s367583/fgo#Target_ptAll')), (rdflib.term.URIRef('http://kg@se.ifmo.ru/~s367583/fgo#Skill_936550/Effect_0'), rdflib.term.URIRef('http://kg@se.ifmo.ru/~s367583/fgo#hasFunction'), rdflib.term.URIRef('http://kg@se.ifmo.ru/~s367583/fgo#Function_146')), (rdflib.term.URIRef('http://kg@se.ifmo.ru/~s367583/fgo#boss-guide-ch21-3-olympus'), rdflib.term.URIRef('http://kg@se.ifmo.ru/~s367583/fgo#hasSuggestedDamageServant'), rdflib.term.URIRef('http://kg@se.ifmo.ru/~s367583/fgo#Servant_268'))]\n",
      "Prefix: brick, URI: https://brickschema.org/schema/Brick#\n",
      "Prefix: csvw, URI: http://www.w3.org/ns/csvw#\n",
      "Prefix: dc, URI: http://purl.org/dc/elements/1.1/\n",
      "Prefix: dcat, URI: http://www.w3.org/ns/dcat#\n",
      "Prefix: dcmitype, URI: http://purl.org/dc/dcmitype/\n",
      "Prefix: dcterms, URI: http://purl.org/dc/terms/\n",
      "Prefix: dcam, URI: http://purl.org/dc/dcam/\n",
      "Prefix: doap, URI: http://usefulinc.com/ns/doap#\n",
      "Prefix: foaf, URI: http://xmlns.com/foaf/0.1/\n",
      "Prefix: geo, URI: http://www.opengis.net/ont/geosparql#\n",
      "Prefix: odrl, URI: http://www.w3.org/ns/odrl/2/\n",
      "Prefix: org, URI: http://www.w3.org/ns/org#\n",
      "Prefix: prof, URI: http://www.w3.org/ns/dx/prof/\n",
      "Prefix: prov, URI: http://www.w3.org/ns/prov#\n",
      "Prefix: qb, URI: http://purl.org/linked-data/cube#\n",
      "Prefix: schema, URI: https://schema.org/\n",
      "Prefix: sh, URI: http://www.w3.org/ns/shacl#\n",
      "Prefix: skos, URI: http://www.w3.org/2004/02/skos/core#\n",
      "Prefix: sosa, URI: http://www.w3.org/ns/sosa/\n",
      "Prefix: ssn, URI: http://www.w3.org/ns/ssn/\n",
      "Prefix: time, URI: http://www.w3.org/2006/time#\n",
      "Prefix: vann, URI: http://purl.org/vocab/vann/\n",
      "Prefix: void, URI: http://rdfs.org/ns/void#\n",
      "Prefix: wgs, URI: https://www.w3.org/2003/01/geo/wgs84_pos#\n",
      "Prefix: owl, URI: http://www.w3.org/2002/07/owl#\n",
      "Prefix: rdf, URI: http://www.w3.org/1999/02/22-rdf-syntax-ns#\n",
      "Prefix: rdfs, URI: http://www.w3.org/2000/01/rdf-schema#\n",
      "Prefix: xsd, URI: http://www.w3.org/2001/XMLSchema#\n",
      "Prefix: xml, URI: http://www.w3.org/XML/1998/namespace\n",
      "Prefix: , URI: http://kg@se.ifmo.ru/~s367583/fgo#\n"
     ]
    }
   ],
   "source": [
    "import rdflib\n",
    "from rdflib.namespace import RDF\n",
    "\n",
    "\n",
    "g = rdflib.Graph()\n",
    "g.parse(\"Graph - FateGO.omn\")\n",
    "print(list(g)[:10])\n",
    "\n",
    "FGO = rdflib.Namespace(\"http://kg@se.ifmo.ru/~s367583/fgo#\")\n",
    "list(g.objects(FGO[\"Target_ptAll\"], RDF.type))\n",
    "\n",
    "for prefix, uri in g.namespaces():\n",
    "    print(f\"Prefix: {prefix}, URI: {uri}\")"
   ]
  },
  {
   "cell_type": "code",
   "execution_count": 3,
   "id": "f66c91f6-fbee-4c5a-a659-bf615351af4a",
   "metadata": {},
   "outputs": [
    {
     "name": "stdout",
     "output_type": "stream",
     "text": [
      "'Helena Blavatsky' by 20% via skill 'Search for the Unknown B'\n",
      "'Taigong Wang' by 15% via skill 'Primitive Tactics A+'\n",
      "'Zhang Jue' by 20% via skill 'General of Heaven B-'\n",
      "'Scáthach-Skadi (Ruler)' by 15% via skill 'Midsummer Frozen Treat C'\n",
      "'Sen-no-Rikyu' by 20% via skill 'Finest Wabi A-'\n",
      "'Alexander' by 20% via skill 'Omen of the Conqueror A'\n",
      "'Atalante' by 36% via skill 'Beyond Arcadia B'\n",
      "'Atalante' by 50% via skill 'Beyond Arcadia A'\n",
      "'Atalante (Alter)' by 50% via skill 'Beyond Arcadia A'\n",
      "'Altria Pendragon Alter (Rider)' by 20% via skill 'Summer Sweeper! A'\n",
      "'Ishtar (Rider)' by 20% via skill 'Shining Water Robe A'\n",
      "'Odysseus' by 20% via skill \"Resourceful General's Inspiration B++\"\n",
      "done\n"
     ]
    }
   ],
   "source": [
    "# list all Servants that can Buff Quick for the party for at least 10 %\n",
    "query = \"\"\"\n",
    "PREFIX : <http://kg@se.ifmo.ru/~s367583/fgo#>\n",
    "PREFIX rdfs: <http://www.w3.org/2000/01/rdf-schema#>\n",
    "\n",
    "SELECT DISTINCT ?servant ?skill ?value\n",
    "WHERE {\n",
    "    ?svt rdfs:label ?servant ;\n",
    "             :hasSkill ?sk .\n",
    "    ?sk rdfs:label ?skill ;\n",
    "            :hasEffect ?e .\n",
    "        \n",
    "    ?e :hasFunction ?f ;\n",
    "       :hasValue ?v .\n",
    "    ?f :grantsBuff ?b ;\n",
    "       :targets :Target_ptAll .\n",
    "    ?b :hasBuffType :BuffType_upCommandall ;\n",
    "      :requiresSelfTrait :Trait_4003 .\n",
    "    ?v :value ?value .\n",
    "    FILTER(?value >= 10)\n",
    "}\n",
    "\"\"\"\n",
    "for row in g.query(query, ):\n",
    "    print(f\"{str(row.servant)!r} by {row.value}% via skill {str(row.skill)!r}\")\n",
    "print(\"done\")"
   ]
  },
  {
   "cell_type": "code",
   "execution_count": 4,
   "id": "5801c6db-f42c-467a-a37f-955466cf5033",
   "metadata": {},
   "outputs": [
    {
     "name": "stdout",
     "output_type": "stream",
     "text": [
      "'Kōnstantînos XI' via skill \"Empire's Decline EX\"\n",
      "'Romulus=Quirinus' via skill 'Throne of Quirinus EX'\n",
      "done\n"
     ]
    }
   ],
   "source": [
    "# List all Servants and Skills that grant advantage against Roman Trait\n",
    "query = \"\"\"\n",
    "PREFIX : <http://kg@se.ifmo.ru/~s367583/fgo#>\n",
    "PREFIX rdfs: <http://www.w3.org/2000/01/rdf-schema#>\n",
    "\n",
    "SELECT DISTINCT ?servant ?skill ?value\n",
    "WHERE {\n",
    "    ?svt rdfs:label ?servant ;\n",
    "             :hasSkill ?sk .\n",
    "    ?sk rdfs:label ?skill .\n",
    "\n",
    "    ?sk :hasEffect ?e1 .\n",
    "    ?e1 :hasFunction ?f1.\n",
    "    ?f1 :targetsTrait :Trait_2004.\n",
    "}\n",
    "\"\"\"\n",
    "for row in g.query(query, ):\n",
    "    print(f\"{str(row.servant)!r} via skill {str(row.skill)!r}\")\n",
    "print(\"done\")"
   ]
  },
  {
   "cell_type": "code",
   "execution_count": 7,
   "id": "5d0efb1f-feb1-49c0-82b0-db39576a7235",
   "metadata": {},
   "outputs": [],
   "source": [
    "query = \"\"\"\n",
    "PREFIX : <http://kg@se.ifmo.ru/~s367583/fgo#>\n",
    "PREFIX rdfs: <http://www.w3.org/2000/01/rdf-schema#>\n",
    "PREFIX rdf: <http://www.w3.org/1999/02/22-rdf-syntax-ns#>\n",
    "\n",
    "SELECT DISTINCT ?Atk ?Def ?Skill ?Trait\n",
    "WHERE {\n",
    "    ?svt1 rdfs:label ?Atk.\n",
    "    ?svt2 rdfs:label ?Def.\n",
    "\n",
    "    ?svt1 :hasTrait ?c1.\n",
    "    ?c1 rdf:type :Class.\n",
    "    ?svt2 :hasTrait ?c2.\n",
    "    ?c2 rdf:type :Class.\n",
    "\n",
    "    ?c1 :effectiveAgainst ?c2.\n",
    "\n",
    "    ?svt1 :hasSkill ?s.\n",
    "    ?s rdfs:label ?Skill.\n",
    "    \n",
    "    ?s :hasEffect ?e.\n",
    "    ?e :hasFunction ?f.\n",
    "    ?f :grantsBuff ?b.\n",
    "    ?b :requiresEnemyTrait ?t.\n",
    "    ?svt2 :hasTrait ?t.\n",
    "    ?t rdfs:label ?Trait.\n",
    "\n",
    "    ?b :hasBuffTrait :BuffTrait_upCommandall.\n",
    "}\n",
    "\"\"\"\n",
    "for row in g.query(query, ):\n",
    "    print(f\"{str(row.Atk)!r} vs {str(row.Def)!r} via {str(row.Skill)!r} (trait {str(row.Trait)!r})\")"
   ]
  },
  {
   "cell_type": "code",
   "execution_count": null,
   "id": "ee40a302-4477-45b8-9dcc-1f3973706b77",
   "metadata": {},
   "outputs": [],
   "source": []
  }
 ],
 "metadata": {
  "kernelspec": {
   "display_name": "Python 3 (ipykernel)",
   "language": "python",
   "name": "python3"
  },
  "language_info": {
   "codemirror_mode": {
    "name": "ipython",
    "version": 3
   },
   "file_extension": ".py",
   "mimetype": "text/x-python",
   "name": "python",
   "nbconvert_exporter": "python",
   "pygments_lexer": "ipython3",
   "version": "3.13.1"
  }
 },
 "nbformat": 4,
 "nbformat_minor": 5
}
