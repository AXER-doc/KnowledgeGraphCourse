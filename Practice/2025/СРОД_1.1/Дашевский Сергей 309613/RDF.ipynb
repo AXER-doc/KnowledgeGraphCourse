{
  "nbformat": 4,
  "nbformat_minor": 0,
  "metadata": {
    "colab": {
      "provenance": []
    },
    "kernelspec": {
      "name": "python3",
      "display_name": "Python 3"
    },
    "language_info": {
      "name": "python"
    }
  },
  "cells": [
    {
      "cell_type": "code",
      "source": [
        "!pip install rdflib pandas"
      ],
      "metadata": {
        "colab": {
          "base_uri": "https://localhost:8080/"
        },
        "id": "o0og2T68Ue__",
        "outputId": "3ecf5575-c46a-425e-995f-fbe198c78a73"
      },
      "execution_count": null,
      "outputs": [
        {
          "output_type": "stream",
          "name": "stdout",
          "text": [
            "Collecting rdflib\n",
            "  Downloading rdflib-7.1.4-py3-none-any.whl.metadata (11 kB)\n",
            "Requirement already satisfied: pandas in /usr/local/lib/python3.11/dist-packages (2.2.2)\n",
            "Requirement already satisfied: pyparsing<4,>=2.1.0 in /usr/local/lib/python3.11/dist-packages (from rdflib) (3.2.3)\n",
            "Requirement already satisfied: numpy>=1.23.2 in /usr/local/lib/python3.11/dist-packages (from pandas) (2.0.2)\n",
            "Requirement already satisfied: python-dateutil>=2.8.2 in /usr/local/lib/python3.11/dist-packages (from pandas) (2.9.0.post0)\n",
            "Requirement already satisfied: pytz>=2020.1 in /usr/local/lib/python3.11/dist-packages (from pandas) (2025.2)\n",
            "Requirement already satisfied: tzdata>=2022.7 in /usr/local/lib/python3.11/dist-packages (from pandas) (2025.2)\n",
            "Requirement already satisfied: six>=1.5 in /usr/local/lib/python3.11/dist-packages (from python-dateutil>=2.8.2->pandas) (1.17.0)\n",
            "Downloading rdflib-7.1.4-py3-none-any.whl (565 kB)\n",
            "\u001b[?25l   \u001b[90m━━━━━━━━━━━━━━━━━━━━━━━━━━━━━━━━━━━━━━━━\u001b[0m \u001b[32m0.0/565.1 kB\u001b[0m \u001b[31m?\u001b[0m eta \u001b[36m-:--:--\u001b[0m\r\u001b[2K   \u001b[91m━━━━━━━━━━━━━━━━━━━━━━━━━━━━━━━━━━━━━━━\u001b[0m\u001b[91m╸\u001b[0m \u001b[32m563.2/565.1 kB\u001b[0m \u001b[31m19.3 MB/s\u001b[0m eta \u001b[36m0:00:01\u001b[0m\r\u001b[2K   \u001b[90m━━━━━━━━━━━━━━━━━━━━━━━━━━━━━━━━━━━━━━━━\u001b[0m \u001b[32m565.1/565.1 kB\u001b[0m \u001b[31m12.4 MB/s\u001b[0m eta \u001b[36m0:00:00\u001b[0m\n",
            "\u001b[?25hInstalling collected packages: rdflib\n",
            "Successfully installed rdflib-7.1.4\n"
          ]
        }
      ]
    },
    {
      "cell_type": "code",
      "execution_count": null,
      "metadata": {
        "id": "toydWRLjUV2x"
      },
      "outputs": [],
      "source": [
        "from google.colab import drive\n",
        "import pandas as pd\n",
        "from collections import Counter\n",
        "from rdflib import Graph, Literal, RDF, URIRef, Namespace\n",
        "from rdflib.namespace import FOAF, XSD"
      ]
    },
    {
      "cell_type": "code",
      "source": [
        "drive.mount('/content/drive')\n",
        "\n",
        "features_df = pd.read_csv(\"/content/drive/MyDrive/STRUCT/FEATURES.tsv\", sep=\"\\t\")\n",
        "speaker_df = pd.read_csv(\"/content/drive/MyDrive/STRUCT/SPEAKER.tsv\", sep=\"\\t\")\n",
        "channel_df = pd.read_csv(\"/content/drive/MyDrive/STRUCT/CHANNEL.tsv\", sep=\"\\t\")\n",
        "stream_df = pd.read_csv(\"/content/drive/MyDrive/STRUCT/STREAM.tsv\", sep=\"\\t\")"
      ],
      "metadata": {
        "colab": {
          "base_uri": "https://localhost:8080/"
        },
        "id": "224-O4yvUlIL",
        "outputId": "12907680-ad3c-4431-fc3d-515cc6040b44"
      },
      "execution_count": null,
      "outputs": [
        {
          "output_type": "stream",
          "name": "stdout",
          "text": [
            "Drive already mounted at /content/drive; to attempt to forcibly remount, call drive.mount(\"/content/drive\", force_remount=True).\n"
          ]
        }
      ]
    },
    {
      "cell_type": "code",
      "source": [
        "g = Graph()\n",
        "EX = Namespace(\"http://example.org/stream/\")\n",
        "g.bind(\"ex\", EX)\n",
        "g.bind(\"foaf\", FOAF)\n",
        "\n",
        "for _, row in speaker_df.iterrows():\n",
        "    speaker_uri = EX[row[\"speaker_id\"]]\n",
        "    g.add((speaker_uri, RDF.type, EX.Speaker))\n",
        "    g.add((speaker_uri, FOAF.nick, Literal(row[\"nickname\"], datatype=XSD.string)))\n",
        "    g.add((speaker_uri, EX.hasChannel, EX[row[\"channel_id\"]]))\n",
        "\n",
        "for _, row in channel_df.iterrows():\n",
        "    channel_uri = EX[row[\"channel_id\"]]\n",
        "    g.add((channel_uri, RDF.type, EX.Channel))\n",
        "    g.add((channel_uri, FOAF.name, Literal(row[\"channel_name\"], datatype=XSD.string)))\n",
        "    g.add((channel_uri, EX.link, Literal(row[\"channel_link\"], datatype=XSD.anyURI)))\n",
        "\n",
        "for _, row in stream_df.iterrows():\n",
        "    stream_uri = EX[row[\"stream_id\"]]\n",
        "    g.add((stream_uri, RDF.type, EX.Stream))\n",
        "    g.add((stream_uri, FOAF.name, Literal(row[\"stream_name\"], datatype=XSD.string)))\n",
        "    g.add((stream_uri, EX.fullAudio, Literal(row[\"full_audio_path\"], datatype=XSD.string)))\n",
        "    g.add((stream_uri, EX.category, Literal(row[\"category\"], datatype=XSD.string)))\n",
        "    g.add((stream_uri, EX.belongsToChannel, EX[row[\"channel_id\"]]))\n",
        "\n",
        "for _, row in features_df.iterrows():\n",
        "    text_uri = EX[row[\"text_id\"]]\n",
        "    g.add((text_uri, RDF.type, EX.Utterance))\n",
        "    g.add((text_uri, EX.text, Literal(row[\"text\"], datatype=XSD.string)))\n",
        "    g.add((text_uri, EX.hasEmotion, Literal(row[\"emotion\"], datatype=XSD.string)))\n",
        "    g.add((text_uri, EX.valence, Literal(row[\"valence\"], datatype=XSD.string)))\n",
        "    g.add((text_uri, EX.arousal, Literal(row[\"arousal\"], datatype=XSD.string)))\n",
        "    g.add((text_uri, EX.dominance, Literal(row[\"dominance\"], datatype=XSD.string)))\n",
        "    g.add((text_uri, EX.speaker, EX[row[\"speaker_id\"]]))\n",
        "    g.add((text_uri, EX.stream, EX[row[\"stream_id\"]]))\n",
        "\n",
        "print(f\"Количество триплетов в графе: {len(g)}\")"
      ],
      "metadata": {
        "colab": {
          "base_uri": "https://localhost:8080/"
        },
        "id": "0HsJk_YOVBPc",
        "outputId": "19f045b2-5522-4517-da0b-aa8f553c5b53"
      },
      "execution_count": null,
      "outputs": [
        {
          "output_type": "stream",
          "name": "stdout",
          "text": [
            "Количество триплетов в графе: 133\n"
          ]
        }
      ]
    },
    {
      "cell_type": "code",
      "source": [
        "anger_utterances = []\n",
        "for s, _, o in g.triples((None, EX.hasEmotion, None)):\n",
        "    if str(o).lower() == \"anger\":\n",
        "        text_literal = g.value(s, EX.text)\n",
        "        anger_utterances.append((str(s).split(\"/\")[-1], str(text_literal)))\n",
        "\n",
        "print(\"------------------------\")\n",
        "print(\"Эмоция 'anger':\")\n",
        "print(anger_utterances)\n",
        "print(\"------------------------\")"
      ],
      "metadata": {
        "colab": {
          "base_uri": "https://localhost:8080/"
        },
        "id": "PtpEbYcuVRUO",
        "outputId": "6afd2839-42d5-437a-faf0-65746b6a11ac"
      },
      "execution_count": null,
      "outputs": [
        {
          "output_type": "stream",
          "name": "stdout",
          "text": [
            "------------------------\n",
            "Эмоция 'anger':\n",
            "[('TEXT_04', 'Я вообще буду удивлен если у нас хотя бы 20-30 человек доедет'), ('TEXT_06', '6 часов лететь я вот предлставляю как это будет выглядеть. я как представляю как я горбатый за ним хожу 6 часов')]\n",
            "------------------------\n"
          ]
        }
      ]
    },
    {
      "cell_type": "code",
      "source": [
        "sports_streams = []\n",
        "for s, _, o in g.triples((None, EX.category, None)):\n",
        "    if str(o).lower() == \"sports\":\n",
        "        name = g.value(s, FOAF.name)\n",
        "        sports_streams.append((str(s).split(\"/\")[-1], str(name)))\n",
        "\n",
        "print(\"------------------------\")\n",
        "print(\"Категория 'sports':\")\n",
        "print(sports_streams)"
      ],
      "metadata": {
        "colab": {
          "base_uri": "https://localhost:8080/"
        },
        "id": "9xKnjhhyWGSl",
        "outputId": "883c1a72-f739-4362-db34-a05c54ea134d"
      },
      "execution_count": null,
      "outputs": [
        {
          "output_type": "stream",
          "name": "stdout",
          "text": [
            "------------------------\n",
            "Категория 'sports':\n",
            "[('STREAM_03', '24 часовая гонка. Nordschleife 24h'), ('STREAM_04', 'Зарубы в Лемане перед крупной обновой')]\n"
          ]
        }
      ]
    },
    {
      "cell_type": "code",
      "source": [
        "text_uri = EX[\"TEXT_04\"]\n",
        "speaker = g.value(text_uri, EX.speaker)\n",
        "channel = g.value(speaker, EX.hasChannel)\n",
        "text_id = str(text_uri).split(\"/\")[-1]\n",
        "channel_id = str(channel).split(\"/\")[-1] if channel else \"Нет канала\"\n",
        "\n",
        "print(\"------------------------\")\n",
        "print(\"TEXT_04 связан с каналом:\")\n",
        "print(channel_id)\n",
        "print(\"------------------------\")"
      ],
      "metadata": {
        "colab": {
          "base_uri": "https://localhost:8080/"
        },
        "id": "1y0l1OBoWHoZ",
        "outputId": "c3d5d210-9592-4c12-87b7-0f5a638e7623"
      },
      "execution_count": null,
      "outputs": [
        {
          "output_type": "stream",
          "name": "stdout",
          "text": [
            "------------------------\n",
            "TEXT_04 связан с каналом:\n",
            "CHANNEL_03\n",
            "------------------------\n"
          ]
        }
      ]
    },
    {
      "cell_type": "code",
      "source": [
        "emotion_counts = Counter()\n",
        "for _, _, emotion in g.triples((None, EX.hasEmotion, None)):\n",
        "    emotion_counts[str(emotion).lower()] += 1\n",
        "\n",
        "print(\"------------------------\")\n",
        "print(\"Распределение эмоций:\")\n",
        "print(dict(emotion_counts))\n",
        "print(\"------------------------\")"
      ],
      "metadata": {
        "colab": {
          "base_uri": "https://localhost:8080/"
        },
        "id": "easBkzU0WPLK",
        "outputId": "9749a889-c336-4a50-8fe8-98d51597be91"
      },
      "execution_count": null,
      "outputs": [
        {
          "output_type": "stream",
          "name": "stdout",
          "text": [
            "------------------------\n",
            "Распределение эмоций:\n",
            "{'neutral': 3, 'enjoyment': 3, 'anger': 2, 'sadness': 1}\n",
            "------------------------\n"
          ]
        }
      ]
    }
  ]
}