{
 "cells": [
  {
   "cell_type": "markdown",
   "id": "9c669db2",
   "metadata": {},
   "source": [
    "# Обзор данных"
   ]
  },
  {
   "cell_type": "code",
   "execution_count": 1,
   "id": "c5b29905",
   "metadata": {},
   "outputs": [],
   "source": [
    "# Стандартные библиотеки\n",
    "import wget\n",
    "import requests\n",
    "from tqdm import tqdm\n",
    "import tarfile\n",
    "import soundfile as sf\n",
    "import os\n",
    "import csv\n",
    "import pandas as pd\n",
    "import random\n",
    "import glob\n",
    "import librosa\n",
    "\n",
    "# Для запросов к сайтам\n",
    "import requests\n",
    "from bs4 import BeautifulSoup\n",
    "\n",
    "# Для морфологической разметки\n",
    "from pymorphy2 import MorphAnalyzer\n",
    "import nltk\n",
    "from nltk import word_tokenize, pos_tag\n",
    "from nltk.tag import map_tag\n",
    "import string\n",
    "\n",
    "# Для разметки именнованных сущностей\n",
    "import spacy\n",
    "from collections import defaultdict, Counter"
   ]
  },
  {
   "cell_type": "markdown",
   "id": "a54454f1",
   "metadata": {},
   "source": [
    "## Загрука и распаковка датасета"
   ]
  },
  {
   "cell_type": "code",
   "execution_count": 2,
   "id": "a875318a",
   "metadata": {},
   "outputs": [],
   "source": [
    "# Скачивание и распаковка\n",
    "url = \"https://www.openslr.org/resources/12/train-clean-100.tar.gz\"\n",
    "\n",
    "# Путь, куда сохранить архив\n",
    "download_path = \"train-clean-100.tar.gz\"\n",
    "extract_folder = \"train-clean-100\"\n",
    "\n",
    "if not os.path.exists(download_path):\n",
    "    # Загружаем файл\n",
    "    response = requests.get(url, stream=True)\n",
    "    total_size = int(response.headers.get('content-length', 0))  # Размер файла в байтах\n",
    "\n",
    "    with open(download_path, 'wb') as f, tqdm(desc = download_path,\n",
    "                                              total = total_size,\n",
    "                                              unit = 'B',\n",
    "                                              unit_scale = True,\n",
    "                                              unit_divisor = 1024\n",
    "                                             ) as bar:\n",
    "        for chunk in response.iter_content(chunk_size = 1024):\n",
    "            if chunk:  # Фильтруем keep-alive chunks\n",
    "                f.write(chunk)\n",
    "                bar.update(len(chunk))\n",
    "\n",
    "if os.path.exists(download_path) and not os.path.exists(extract_folder):\n",
    "    # Распаковка\n",
    "    with tarfile.open(download_path, 'r:gz') as tar:\n",
    "        tar.extractall(extract_folder)"
   ]
  },
  {
   "cell_type": "markdown",
   "id": "90e1b657",
   "metadata": {},
   "source": [
    "## Файлы .flac в .wav "
   ]
  },
  {
   "cell_type": "code",
   "execution_count": 3,
   "id": "94325ab4",
   "metadata": {},
   "outputs": [
    {
     "name": "stderr",
     "output_type": "stream",
     "text": [
      "Обработка train-clean-100: 0it [00:00, ?it/s]\n",
      "Обработка train-clean-100\\LibriSpeech: 0it [00:00, ?it/s]\n",
      "Обработка train-clean-100\\LibriSpeech\\train-clean-100: 0it [00:00, ?it/s]\n",
      "Обработка train-clean-100\\LibriSpeech\\train-clean-100\\103: 0it [00:00, ?it/s]\n",
      "Обработка train-clean-100\\LibriSpeech\\train-clean-100\\103\\1240:   0%|          | 0/58 [00:00<?, ?it/s]"
     ]
    },
    {
     "name": "stderr",
     "output_type": "stream",
     "text": [
      "Обработка train-clean-100\\LibriSpeech\\train-clean-100\\103\\1240: 100%|██████████| 58/58 [00:00<00:00, 65.41it/s]\n",
      "Обработка train-clean-100\\LibriSpeech\\train-clean-100\\103\\1241: 100%|██████████| 44/44 [00:00<00:00, 63.80it/s]\n",
      "Обработка train-clean-100\\LibriSpeech\\train-clean-100\\1034: 0it [00:00, ?it/s]\n",
      "Обработка train-clean-100\\LibriSpeech\\train-clean-100\\1034\\121119: 100%|██████████| 96/96 [00:01<00:00, 78.17it/s]\n",
      "Обработка train-clean-100\\LibriSpeech\\train-clean-100\\1040: 0it [00:00, ?it/s]\n",
      "Обработка train-clean-100\\LibriSpeech\\train-clean-100\\1040\\133433:  53%|█████▎    | 43/81 [00:00<00:00, 70.27it/s]\n"
     ]
    },
    {
     "ename": "KeyboardInterrupt",
     "evalue": "",
     "output_type": "error",
     "traceback": [
      "\u001b[1;31m---------------------------------------------------------------------------\u001b[0m",
      "\u001b[1;31mKeyboardInterrupt\u001b[0m                         Traceback (most recent call last)",
      "Cell \u001b[1;32mIn[3], line 18\u001b[0m\n\u001b[0;32m     14\u001b[0m             \u001b[38;5;66;03m# Удаление исходного FLAC после конвертации\u001b[39;00m\n\u001b[0;32m     15\u001b[0m             \u001b[38;5;66;03m# os.remove(flac_path)\u001b[39;00m\n\u001b[0;32m     17\u001b[0m dataset_path \u001b[38;5;241m=\u001b[39m \u001b[38;5;124m\"\u001b[39m\u001b[38;5;124mtrain-clean-100\u001b[39m\u001b[38;5;124m\"\u001b[39m  \u001b[38;5;66;03m# Путь к корневой папке датасета\u001b[39;00m\n\u001b[1;32m---> 18\u001b[0m \u001b[43mconvert_flac_to_wav\u001b[49m\u001b[43m(\u001b[49m\u001b[43mdataset_path\u001b[49m\u001b[43m)\u001b[49m\n",
      "Cell \u001b[1;32mIn[3], line 11\u001b[0m, in \u001b[0;36mconvert_flac_to_wav\u001b[1;34m(root_dir)\u001b[0m\n\u001b[0;32m      8\u001b[0m wav_path \u001b[38;5;241m=\u001b[39m os\u001b[38;5;241m.\u001b[39mpath\u001b[38;5;241m.\u001b[39mjoin(root, flac_file\u001b[38;5;241m.\u001b[39mreplace(\u001b[38;5;124m'\u001b[39m\u001b[38;5;124m.flac\u001b[39m\u001b[38;5;124m'\u001b[39m, \u001b[38;5;124m'\u001b[39m\u001b[38;5;124m.wav\u001b[39m\u001b[38;5;124m'\u001b[39m))\n\u001b[0;32m     10\u001b[0m \u001b[38;5;66;03m# Чтение FLAC и сохранение как WAV\u001b[39;00m\n\u001b[1;32m---> 11\u001b[0m audio, sr \u001b[38;5;241m=\u001b[39m \u001b[43msf\u001b[49m\u001b[38;5;241;43m.\u001b[39;49m\u001b[43mread\u001b[49m\u001b[43m(\u001b[49m\u001b[43mflac_path\u001b[49m\u001b[43m)\u001b[49m\n\u001b[0;32m     12\u001b[0m sf\u001b[38;5;241m.\u001b[39mwrite(wav_path, audio, sr, \u001b[38;5;28mformat\u001b[39m\u001b[38;5;241m=\u001b[39m\u001b[38;5;124m'\u001b[39m\u001b[38;5;124mWAV\u001b[39m\u001b[38;5;124m'\u001b[39m)\n",
      "File \u001b[1;32md:\\Python310\\lib\\site-packages\\soundfile.py:305\u001b[0m, in \u001b[0;36mread\u001b[1;34m(file, frames, start, stop, dtype, always_2d, fill_value, out, samplerate, channels, format, subtype, endian, closefd)\u001b[0m\n\u001b[0;32m    219\u001b[0m \u001b[38;5;28;01mdef\u001b[39;00m\u001b[38;5;250m \u001b[39m\u001b[38;5;21mread\u001b[39m(file, frames\u001b[38;5;241m=\u001b[39m\u001b[38;5;241m-\u001b[39m\u001b[38;5;241m1\u001b[39m, start\u001b[38;5;241m=\u001b[39m\u001b[38;5;241m0\u001b[39m, stop\u001b[38;5;241m=\u001b[39m\u001b[38;5;28;01mNone\u001b[39;00m, dtype\u001b[38;5;241m=\u001b[39m\u001b[38;5;124m'\u001b[39m\u001b[38;5;124mfloat64\u001b[39m\u001b[38;5;124m'\u001b[39m, always_2d\u001b[38;5;241m=\u001b[39m\u001b[38;5;28;01mFalse\u001b[39;00m,\n\u001b[0;32m    220\u001b[0m          fill_value\u001b[38;5;241m=\u001b[39m\u001b[38;5;28;01mNone\u001b[39;00m, out\u001b[38;5;241m=\u001b[39m\u001b[38;5;28;01mNone\u001b[39;00m, samplerate\u001b[38;5;241m=\u001b[39m\u001b[38;5;28;01mNone\u001b[39;00m, channels\u001b[38;5;241m=\u001b[39m\u001b[38;5;28;01mNone\u001b[39;00m,\n\u001b[0;32m    221\u001b[0m          \u001b[38;5;28mformat\u001b[39m\u001b[38;5;241m=\u001b[39m\u001b[38;5;28;01mNone\u001b[39;00m, subtype\u001b[38;5;241m=\u001b[39m\u001b[38;5;28;01mNone\u001b[39;00m, endian\u001b[38;5;241m=\u001b[39m\u001b[38;5;28;01mNone\u001b[39;00m, closefd\u001b[38;5;241m=\u001b[39m\u001b[38;5;28;01mTrue\u001b[39;00m):\n\u001b[0;32m    222\u001b[0m \u001b[38;5;250m    \u001b[39m\u001b[38;5;124;03m\"\"\"Provide audio data from a sound file as NumPy array.\u001b[39;00m\n\u001b[0;32m    223\u001b[0m \n\u001b[0;32m    224\u001b[0m \u001b[38;5;124;03m    By default, the whole file is read from the beginning, but the\u001b[39;00m\n\u001b[1;32m   (...)\u001b[0m\n\u001b[0;32m    303\u001b[0m \n\u001b[0;32m    304\u001b[0m \u001b[38;5;124;03m    \"\"\"\u001b[39;00m\n\u001b[1;32m--> 305\u001b[0m     \u001b[38;5;28;01mwith\u001b[39;00m \u001b[43mSoundFile\u001b[49m\u001b[43m(\u001b[49m\u001b[43mfile\u001b[49m\u001b[43m,\u001b[49m\u001b[43m \u001b[49m\u001b[38;5;124;43m'\u001b[39;49m\u001b[38;5;124;43mr\u001b[39;49m\u001b[38;5;124;43m'\u001b[39;49m\u001b[43m,\u001b[49m\u001b[43m \u001b[49m\u001b[43msamplerate\u001b[49m\u001b[43m,\u001b[49m\u001b[43m \u001b[49m\u001b[43mchannels\u001b[49m\u001b[43m,\u001b[49m\n\u001b[0;32m    306\u001b[0m \u001b[43m                   \u001b[49m\u001b[43msubtype\u001b[49m\u001b[43m,\u001b[49m\u001b[43m \u001b[49m\u001b[43mendian\u001b[49m\u001b[43m,\u001b[49m\u001b[43m \u001b[49m\u001b[38;5;28;43mformat\u001b[39;49m\u001b[43m,\u001b[49m\u001b[43m \u001b[49m\u001b[43mclosefd\u001b[49m\u001b[43m)\u001b[49m \u001b[38;5;28;01mas\u001b[39;00m f:\n\u001b[0;32m    307\u001b[0m         frames \u001b[38;5;241m=\u001b[39m f\u001b[38;5;241m.\u001b[39m_prepare_read(start, stop, frames)\n\u001b[0;32m    308\u001b[0m         data \u001b[38;5;241m=\u001b[39m f\u001b[38;5;241m.\u001b[39mread(frames, dtype, always_2d, fill_value, out)\n",
      "File \u001b[1;32md:\\Python310\\lib\\site-packages\\soundfile.py:690\u001b[0m, in \u001b[0;36mSoundFile.__init__\u001b[1;34m(self, file, mode, samplerate, channels, subtype, endian, format, closefd, compression_level, bitrate_mode)\u001b[0m\n\u001b[0;32m    687\u001b[0m \u001b[38;5;28mself\u001b[39m\u001b[38;5;241m.\u001b[39m_bitrate_mode \u001b[38;5;241m=\u001b[39m bitrate_mode\n\u001b[0;32m    688\u001b[0m \u001b[38;5;28mself\u001b[39m\u001b[38;5;241m.\u001b[39m_info \u001b[38;5;241m=\u001b[39m _create_info_struct(file, mode, samplerate, channels,\n\u001b[0;32m    689\u001b[0m                                  \u001b[38;5;28mformat\u001b[39m, subtype, endian)\n\u001b[1;32m--> 690\u001b[0m \u001b[38;5;28mself\u001b[39m\u001b[38;5;241m.\u001b[39m_file \u001b[38;5;241m=\u001b[39m \u001b[38;5;28;43mself\u001b[39;49m\u001b[38;5;241;43m.\u001b[39;49m\u001b[43m_open\u001b[49m\u001b[43m(\u001b[49m\u001b[43mfile\u001b[49m\u001b[43m,\u001b[49m\u001b[43m \u001b[49m\u001b[43mmode_int\u001b[49m\u001b[43m,\u001b[49m\u001b[43m \u001b[49m\u001b[43mclosefd\u001b[49m\u001b[43m)\u001b[49m\n\u001b[0;32m    691\u001b[0m \u001b[38;5;28;01mif\u001b[39;00m \u001b[38;5;28mset\u001b[39m(mode)\u001b[38;5;241m.\u001b[39missuperset(\u001b[38;5;124m'\u001b[39m\u001b[38;5;124mr+\u001b[39m\u001b[38;5;124m'\u001b[39m) \u001b[38;5;129;01mand\u001b[39;00m \u001b[38;5;28mself\u001b[39m\u001b[38;5;241m.\u001b[39mseekable():\n\u001b[0;32m    692\u001b[0m     \u001b[38;5;66;03m# Move write position to 0 (like in Python file objects)\u001b[39;00m\n\u001b[0;32m    693\u001b[0m     \u001b[38;5;28mself\u001b[39m\u001b[38;5;241m.\u001b[39mseek(\u001b[38;5;241m0\u001b[39m)\n",
      "File \u001b[1;32md:\\Python310\\lib\\site-packages\\soundfile.py:1254\u001b[0m, in \u001b[0;36mSoundFile._open\u001b[1;34m(self, file, mode_int, closefd)\u001b[0m\n\u001b[0;32m   1252\u001b[0m         \u001b[38;5;28;01melse\u001b[39;00m:\n\u001b[0;32m   1253\u001b[0m             file \u001b[38;5;241m=\u001b[39m file\u001b[38;5;241m.\u001b[39mencode(_sys\u001b[38;5;241m.\u001b[39mgetfilesystemencoding())\n\u001b[1;32m-> 1254\u001b[0m     file_ptr \u001b[38;5;241m=\u001b[39m \u001b[43mopenfunction\u001b[49m\u001b[43m(\u001b[49m\u001b[43mfile\u001b[49m\u001b[43m,\u001b[49m\u001b[43m \u001b[49m\u001b[43mmode_int\u001b[49m\u001b[43m,\u001b[49m\u001b[43m \u001b[49m\u001b[38;5;28;43mself\u001b[39;49m\u001b[38;5;241;43m.\u001b[39;49m\u001b[43m_info\u001b[49m\u001b[43m)\u001b[49m\n\u001b[0;32m   1255\u001b[0m \u001b[38;5;28;01melif\u001b[39;00m \u001b[38;5;28misinstance\u001b[39m(file, \u001b[38;5;28mint\u001b[39m):\n\u001b[0;32m   1256\u001b[0m     file_ptr \u001b[38;5;241m=\u001b[39m _snd\u001b[38;5;241m.\u001b[39msf_open_fd(file, mode_int, \u001b[38;5;28mself\u001b[39m\u001b[38;5;241m.\u001b[39m_info, closefd)\n",
      "\u001b[1;31mKeyboardInterrupt\u001b[0m: "
     ]
    }
   ],
   "source": [
    "# Функция для конвертации файлов .flac в .wav\n",
    "def convert_flac_to_wav(root_dir):\n",
    "    for root, dirs, files in os.walk(root_dir):\n",
    "        flac_files = [f for f in files if f.endswith('.flac')]\n",
    "        \n",
    "        for flac_file in tqdm(flac_files, desc = f\"Обработка {root}\"):\n",
    "            flac_path = os.path.join(root, flac_file)\n",
    "            wav_path = os.path.join(root, flac_file.replace('.flac', '.wav'))\n",
    "            \n",
    "            # Чтение FLAC и сохранение как WAV\n",
    "            audio, sr = sf.read(flac_path)\n",
    "            sf.write(wav_path, audio, sr, format='WAV')\n",
    "            \n",
    "            # Удаление исходного FLAC после конвертации\n",
    "            # os.remove(flac_path)\n",
    "\n",
    "dataset_path = \"train-clean-100\"  # Путь к корневой папке датасета\n",
    "convert_flac_to_wav(dataset_path)"
   ]
  },
  {
   "cell_type": "markdown",
   "id": "e3efd84b",
   "metadata": {},
   "source": [
    "## Файлы .txt в .csv"
   ]
  },
  {
   "cell_type": "code",
   "execution_count": 2,
   "id": "fa54f528",
   "metadata": {},
   "outputs": [
    {
     "name": "stderr",
     "output_type": "stream",
     "text": [
      "Обработка train-clean-100: 0it [00:00, ?it/s]\n",
      "Обработка train-clean-100\\LibriSpeech: 100%|██████████| 5/5 [00:00<?, ?it/s]\n",
      "Обработка train-clean-100\\LibriSpeech\\train-clean-100: 0it [00:00, ?it/s]\n",
      "Обработка train-clean-100\\LibriSpeech\\train-clean-100\\103: 0it [00:00, ?it/s]\n",
      "Обработка train-clean-100\\LibriSpeech\\train-clean-100\\103\\1240: 100%|██████████| 118/118 [00:00<00:00, 39405.09it/s]\n",
      "Обработка train-clean-100\\LibriSpeech\\train-clean-100\\103\\1241: 100%|██████████| 90/90 [00:00<00:00, 29990.26it/s]\n",
      "Обработка train-clean-100\\LibriSpeech\\train-clean-100\\1034: 0it [00:00, ?it/s]\n",
      "Обработка train-clean-100\\LibriSpeech\\train-clean-100\\1034\\121119: 100%|██████████| 194/194 [00:00<00:00, 97007.03it/s]\n",
      "Обработка train-clean-100\\LibriSpeech\\train-clean-100\\1040: 0it [00:00, ?it/s]\n",
      "Обработка train-clean-100\\LibriSpeech\\train-clean-100\\1040\\133433: 100%|██████████| 164/164 [00:00<00:00, 81986.40it/s]\n",
      "Обработка train-clean-100\\LibriSpeech\\train-clean-100\\1069: 0it [00:00, ?it/s]\n",
      "Обработка train-clean-100\\LibriSpeech\\train-clean-100\\1069\\133699: 100%|██████████| 112/112 [00:00<00:00, 46962.12it/s]\n",
      "Обработка train-clean-100\\LibriSpeech\\train-clean-100\\1069\\133709: 100%|██████████| 108/108 [00:00<00:00, 53991.04it/s]\n",
      "Обработка train-clean-100\\LibriSpeech\\train-clean-100\\1081: 0it [00:00, ?it/s]\n",
      "Обработка train-clean-100\\LibriSpeech\\train-clean-100\\1081\\125237: 100%|██████████| 234/234 [00:00<00:00, 78092.55it/s]\n",
      "Обработка train-clean-100\\LibriSpeech\\train-clean-100\\1081\\128618: 100%|██████████| 30/30 [00:00<00:00, 11881.88it/s]\n",
      "Обработка train-clean-100\\LibriSpeech\\train-clean-100\\1088: 0it [00:00, ?it/s]\n",
      "Обработка train-clean-100\\LibriSpeech\\train-clean-100\\1088\\129236: 100%|██████████| 64/64 [00:00<00:00, 64481.25it/s]\n",
      "Обработка train-clean-100\\LibriSpeech\\train-clean-100\\1088\\134315: 100%|██████████| 120/120 [00:00<00:00, 120381.84it/s]\n",
      "Обработка train-clean-100\\LibriSpeech\\train-clean-100\\1088\\134318: 100%|██████████| 46/46 [00:00<00:00, 46058.24it/s]\n",
      "Обработка train-clean-100\\LibriSpeech\\train-clean-100\\1098: 0it [00:00, ?it/s]\n",
      "Обработка train-clean-100\\LibriSpeech\\train-clean-100\\1098\\133695: 100%|██████████| 186/186 [00:00<00:00, 93106.64it/s]\n",
      "Обработка train-clean-100\\LibriSpeech\\train-clean-100\\1116: 0it [00:00, ?it/s]\n",
      "Обработка train-clean-100\\LibriSpeech\\train-clean-100\\1116\\132847: 100%|██████████| 84/84 [00:00<00:00, 41853.35it/s]\n",
      "Обработка train-clean-100\\LibriSpeech\\train-clean-100\\1116\\132851: 100%|██████████| 60/60 [00:00<00:00, 60004.35it/s]\n",
      "Обработка train-clean-100\\LibriSpeech\\train-clean-100\\1116\\137572: 100%|██████████| 114/114 [00:00<00:00, 26812.69it/s]\n",
      "Обработка train-clean-100\\LibriSpeech\\train-clean-100\\118: 0it [00:00, ?it/s]\n",
      "Обработка train-clean-100\\LibriSpeech\\train-clean-100\\118\\121721: 100%|██████████| 58/58 [00:00<00:00, 28984.82it/s]\n",
      "Обработка train-clean-100\\LibriSpeech\\train-clean-100\\118\\124588: 100%|██████████| 46/46 [00:00<00:00, 22985.23it/s]\n",
      "Обработка train-clean-100\\LibriSpeech\\train-clean-100\\118\\47824: 100%|██████████| 176/176 [00:00<00:00, 12109.94it/s]\n",
      "Обработка train-clean-100\\LibriSpeech\\train-clean-100\\1183: 0it [00:00, ?it/s]\n",
      "Обработка train-clean-100\\LibriSpeech\\train-clean-100\\1183\\124566: 100%|██████████| 14/14 [00:00<00:00, 13987.67it/s]\n",
      "Обработка train-clean-100\\LibriSpeech\\train-clean-100\\1183\\128659: 100%|██████████| 42/42 [00:00<00:00, 21014.05it/s]\n",
      "Обработка train-clean-100\\LibriSpeech\\train-clean-100\\1183\\133255: 100%|██████████| 30/30 [00:00<00:00, 26653.07it/s]\n",
      "Обработка train-clean-100\\LibriSpeech\\train-clean-100\\1183\\133256: 100%|██████████| 54/54 [00:00<00:00, 8977.46it/s]\n",
      "Обработка train-clean-100\\LibriSpeech\\train-clean-100\\1235: 0it [00:00, ?it/s]\n",
      "Обработка train-clean-100\\LibriSpeech\\train-clean-100\\1235\\135883: 100%|██████████| 104/104 [00:00<00:00, 51744.68it/s]\n",
      "Обработка train-clean-100\\LibriSpeech\\train-clean-100\\1235\\135884: 100%|██████████| 86/86 [00:00<00:00, 86026.75it/s]\n",
      "Обработка train-clean-100\\LibriSpeech\\train-clean-100\\1235\\135887: 100%|██████████| 66/66 [00:00<00:00, 32795.17it/s]\n",
      "Обработка train-clean-100\\LibriSpeech\\train-clean-100\\1246: 0it [00:00, ?it/s]\n",
      "Обработка train-clean-100\\LibriSpeech\\train-clean-100\\1246\\124548: 100%|██████████| 106/106 [00:00<00:00, 53073.44it/s]\n",
      "Обработка train-clean-100\\LibriSpeech\\train-clean-100\\1246\\124550: 100%|██████████| 82/82 [00:00<00:00, 54290.91it/s]\n",
      "Обработка train-clean-100\\LibriSpeech\\train-clean-100\\1246\\135815: 100%|██████████| 52/52 [00:00<00:00, 25998.79it/s]\n",
      "Обработка train-clean-100\\LibriSpeech\\train-clean-100\\125: 0it [00:00, ?it/s]\n",
      "Обработка train-clean-100\\LibriSpeech\\train-clean-100\\125\\121124: 100%|██████████| 180/180 [00:00<00:00, 90027.99it/s]\n",
      "Обработка train-clean-100\\LibriSpeech\\train-clean-100\\125\\121342: 100%|██████████| 100/100 [00:00<00:00, 100270.24it/s]\n",
      "Обработка train-clean-100\\LibriSpeech\\train-clean-100\\1263: 0it [00:00, ?it/s]\n",
      "Обработка train-clean-100\\LibriSpeech\\train-clean-100\\1263\\138246: 100%|██████████| 76/76 [00:00<00:00, 38007.29it/s]\n",
      "Обработка train-clean-100\\LibriSpeech\\train-clean-100\\1263\\139804: 100%|██████████| 62/62 [00:00<00:00, 27364.71it/s]\n",
      "Обработка train-clean-100\\LibriSpeech\\train-clean-100\\1263\\141777: 100%|██████████| 86/86 [00:00<00:00, 37468.59it/s]\n",
      "Обработка train-clean-100\\LibriSpeech\\train-clean-100\\1334: 0it [00:00, ?it/s]\n",
      "Обработка train-clean-100\\LibriSpeech\\train-clean-100\\1334\\135589: 100%|██████████| 216/216 [00:00<00:00, 107177.29it/s]\n",
      "Обработка train-clean-100\\LibriSpeech\\train-clean-100\\1355: 0it [00:00, ?it/s]\n",
      "Обработка train-clean-100\\LibriSpeech\\train-clean-100\\1355\\39947: 100%|██████████| 198/198 [00:00<00:00, 28148.74it/s]\n",
      "Обработка train-clean-100\\LibriSpeech\\train-clean-100\\1363: 0it [00:00, ?it/s]\n",
      "Обработка train-clean-100\\LibriSpeech\\train-clean-100\\1363\\135842: 100%|██████████| 106/106 [00:00<00:00, 105180.09it/s]\n",
      "Обработка train-clean-100\\LibriSpeech\\train-clean-100\\1363\\139304: 100%|██████████| 94/94 [00:00<00:00, 32487.19it/s]\n",
      "Обработка train-clean-100\\LibriSpeech\\train-clean-100\\1447: 0it [00:00, ?it/s]\n",
      "Обработка train-clean-100\\LibriSpeech\\train-clean-100\\1447\\130550: 100%|██████████| 64/64 [00:00<00:00, 39715.26it/s]\n",
      "Обработка train-clean-100\\LibriSpeech\\train-clean-100\\1447\\130551: 100%|██████████| 72/72 [00:00<00:00, 21333.00it/s]\n",
      "Обработка train-clean-100\\LibriSpeech\\train-clean-100\\1447\\130552: 100%|██████████| 58/58 [00:00<00:00, 57852.47it/s]\n",
      "Обработка train-clean-100\\LibriSpeech\\train-clean-100\\1447\\17506: 100%|██████████| 72/72 [00:00<00:00, 35994.03it/s]\n",
      "Обработка train-clean-100\\LibriSpeech\\train-clean-100\\1455: 0it [00:00, ?it/s]\n",
      "Обработка train-clean-100\\LibriSpeech\\train-clean-100\\1455\\134435: 100%|██████████| 150/150 [00:00<00:00, 49971.85it/s]\n",
      "Обработка train-clean-100\\LibriSpeech\\train-clean-100\\1455\\138263: 100%|██████████| 116/116 [00:00<00:00, 58011.12it/s]\n",
      "Обработка train-clean-100\\LibriSpeech\\train-clean-100\\150: 0it [00:00, ?it/s]\n",
      "Обработка train-clean-100\\LibriSpeech\\train-clean-100\\150\\126107: 100%|██████████| 84/84 [00:00<00:00, 27018.52it/s]\n",
      "Обработка train-clean-100\\LibriSpeech\\train-clean-100\\150\\126112: 100%|██████████| 76/76 [00:00<00:00, 25738.16it/s]\n",
      "Обработка train-clean-100\\LibriSpeech\\train-clean-100\\150\\132655: 100%|██████████| 74/74 [00:00<00:00, 73952.47it/s]\n",
      "Обработка train-clean-100\\LibriSpeech\\train-clean-100\\1502: 0it [00:00, ?it/s]\n",
      "Обработка train-clean-100\\LibriSpeech\\train-clean-100\\1502\\122615: 100%|██████████| 80/80 [00:00<00:00, 79100.50it/s]\n",
      "Обработка train-clean-100\\LibriSpeech\\train-clean-100\\1502\\122619: 100%|██████████| 196/196 [00:00<00:00, 195827.44it/s]\n",
      "Обработка train-clean-100\\LibriSpeech\\train-clean-100\\1553: 0it [00:00, ?it/s]\n",
      "Обработка train-clean-100\\LibriSpeech\\train-clean-100\\1553\\140047: 100%|██████████| 106/106 [00:00<00:00, 106032.97it/s]\n",
      "Обработка train-clean-100\\LibriSpeech\\train-clean-100\\1553\\140048: 100%|██████████| 102/102 [00:00<00:00, 50955.10it/s]\n",
      "Обработка train-clean-100\\LibriSpeech\\train-clean-100\\1578: 0it [00:00, ?it/s]\n",
      "Обработка train-clean-100\\LibriSpeech\\train-clean-100\\1578\\140045: 100%|██████████| 62/62 [00:00<00:00, 5511.34it/s]\n",
      "Обработка train-clean-100\\LibriSpeech\\train-clean-100\\1578\\140049: 100%|██████████| 80/80 [00:00<00:00, 73503.68it/s]\n",
      "Обработка train-clean-100\\LibriSpeech\\train-clean-100\\1578\\6379: 100%|██████████| 100/100 [00:00<00:00, 91319.49it/s]\n",
      "Обработка train-clean-100\\LibriSpeech\\train-clean-100\\1594: 0it [00:00, ?it/s]\n",
      "Обработка train-clean-100\\LibriSpeech\\train-clean-100\\1594\\135914: 100%|██████████| 260/260 [00:00<00:00, 172169.09it/s]\n",
      "Обработка train-clean-100\\LibriSpeech\\train-clean-100\\1624: 0it [00:00, ?it/s]\n",
      "Обработка train-clean-100\\LibriSpeech\\train-clean-100\\1624\\142933: 100%|██████████| 96/96 [00:00<00:00, 48089.48it/s]\n",
      "Обработка train-clean-100\\LibriSpeech\\train-clean-100\\1624\\168623: 100%|██████████| 110/110 [00:00<00:00, 36704.33it/s]\n",
      "Обработка train-clean-100\\LibriSpeech\\train-clean-100\\163: 0it [00:00, ?it/s]\n",
      "Обработка train-clean-100\\LibriSpeech\\train-clean-100\\163\\121908: 100%|██████████| 28/28 [00:00<00:00, 9315.50it/s]\n",
      "Обработка train-clean-100\\LibriSpeech\\train-clean-100\\163\\122947: 100%|██████████| 200/200 [00:00<00:00, 86587.61it/s]\n",
      "Обработка train-clean-100\\LibriSpeech\\train-clean-100\\1723: 0it [00:00, ?it/s]\n",
      "Обработка train-clean-100\\LibriSpeech\\train-clean-100\\1723\\141149: 100%|██████████| 226/226 [00:00<00:00, 83296.37it/s]\n",
      "Обработка train-clean-100\\LibriSpeech\\train-clean-100\\1737: 0it [00:00, ?it/s]\n",
      "Обработка train-clean-100\\LibriSpeech\\train-clean-100\\1737\\142396: 100%|██████████| 50/50 [00:00<00:00, 50003.62it/s]\n",
      "Обработка train-clean-100\\LibriSpeech\\train-clean-100\\1737\\142397: 100%|██████████| 88/88 [00:00<00:00, 43956.03it/s]\n",
      "Обработка train-clean-100\\LibriSpeech\\train-clean-100\\1737\\146161: 100%|██████████| 38/38 [00:00<00:00, 38002.75it/s]\n",
      "Обработка train-clean-100\\LibriSpeech\\train-clean-100\\1737\\148989: 100%|██████████| 84/84 [00:00<00:00, 83389.71it/s]\n",
      "Обработка train-clean-100\\LibriSpeech\\train-clean-100\\1743: 0it [00:00, ?it/s]\n",
      "Обработка train-clean-100\\LibriSpeech\\train-clean-100\\1743\\142912: 100%|██████████| 76/76 [00:00<00:00, 58867.42it/s]\n",
      "Обработка train-clean-100\\LibriSpeech\\train-clean-100\\1743\\142913: 100%|██████████| 64/64 [00:00<00:00, 36497.00it/s]\n",
      "Обработка train-clean-100\\LibriSpeech\\train-clean-100\\1743\\142914: 100%|██████████| 72/72 [00:00<00:00, 33546.98it/s]\n",
      "Обработка train-clean-100\\LibriSpeech\\train-clean-100\\1841: 0it [00:00, ?it/s]\n",
      "Обработка train-clean-100\\LibriSpeech\\train-clean-100\\1841\\150351: 100%|██████████| 68/68 [00:00<00:00, 53895.06it/s]\n",
      "Обработка train-clean-100\\LibriSpeech\\train-clean-100\\1841\\159771: 100%|██████████| 88/88 [00:00<00:00, 79995.39it/s]\n",
      "Обработка train-clean-100\\LibriSpeech\\train-clean-100\\1841\\179183: 100%|██████████| 80/80 [00:00<00:00, 40069.78it/s]\n",
      "Обработка train-clean-100\\LibriSpeech\\train-clean-100\\1867: 0it [00:00, ?it/s]\n",
      "Обработка train-clean-100\\LibriSpeech\\train-clean-100\\1867\\148436: 100%|██████████| 94/94 [00:00<00:00, 94006.81it/s]\n",
      "Обработка train-clean-100\\LibriSpeech\\train-clean-100\\1867\\154071: 100%|██████████| 92/92 [00:00<00:00, 34100.03it/s]\n",
      "Обработка train-clean-100\\LibriSpeech\\train-clean-100\\1867\\154075: 100%|██████████| 94/94 [00:00<00:00, 93184.73it/s]\n",
      "Обработка train-clean-100\\LibriSpeech\\train-clean-100\\1898: 0it [00:00, ?it/s]\n",
      "Обработка train-clean-100\\LibriSpeech\\train-clean-100\\1898\\145702: 100%|██████████| 42/42 [00:00<00:00, 19038.23it/s]\n",
      "Обработка train-clean-100\\LibriSpeech\\train-clean-100\\1898\\145715: 100%|██████████| 104/104 [00:00<00:00, 92948.57it/s]\n",
      "Обработка train-clean-100\\LibriSpeech\\train-clean-100\\1898\\145720: 100%|██████████| 40/40 [00:00<00:00, 37642.40it/s]\n",
      "Обработка train-clean-100\\LibriSpeech\\train-clean-100\\1898\\145724: 100%|██████████| 78/78 [00:00<00:00, 77857.14it/s]\n",
      "Обработка train-clean-100\\LibriSpeech\\train-clean-100\\19: 0it [00:00, ?it/s]\n",
      "Обработка train-clean-100\\LibriSpeech\\train-clean-100\\19\\198: 100%|██████████| 78/78 [00:00<00:00, 33990.20it/s]\n",
      "Обработка train-clean-100\\LibriSpeech\\train-clean-100\\19\\227: 100%|██████████| 148/148 [00:00<00:00, 73794.22it/s]\n",
      "Обработка train-clean-100\\LibriSpeech\\train-clean-100\\1926: 0it [00:00, ?it/s]\n",
      "Обработка train-clean-100\\LibriSpeech\\train-clean-100\\1926\\143879: 100%|██████████| 96/96 [00:00<00:00, 47906.39it/s]\n",
      "Обработка train-clean-100\\LibriSpeech\\train-clean-100\\1926\\147979: 100%|██████████| 110/110 [00:00<00:00, 110007.97it/s]\n",
      "Обработка train-clean-100\\LibriSpeech\\train-clean-100\\1926\\147987: 100%|██████████| 66/66 [00:00<00:00, 32806.83it/s]\n",
      "Обработка train-clean-100\\LibriSpeech\\train-clean-100\\196: 0it [00:00, ?it/s]\n",
      "Обработка train-clean-100\\LibriSpeech\\train-clean-100\\196\\122150: 100%|██████████| 84/84 [00:00<00:00, 83926.04it/s]\n",
      "Обработка train-clean-100\\LibriSpeech\\train-clean-100\\196\\122152: 100%|██████████| 70/70 [00:00<00:00, 34807.50it/s]\n",
      "Обработка train-clean-100\\LibriSpeech\\train-clean-100\\196\\122159: 100%|██████████| 68/68 [00:00<00:00, 68200.07it/s]\n",
      "Обработка train-clean-100\\LibriSpeech\\train-clean-100\\1963: 0it [00:00, ?it/s]\n",
      "Обработка train-clean-100\\LibriSpeech\\train-clean-100\\1963\\142393: 100%|██████████| 118/118 [00:00<00:00, 58343.50it/s]\n",
      "Обработка train-clean-100\\LibriSpeech\\train-clean-100\\1963\\142776: 100%|██████████| 72/72 [00:00<00:00, 72125.60it/s]\n",
      "Обработка train-clean-100\\LibriSpeech\\train-clean-100\\1963\\147036: 100%|██████████| 74/74 [00:00<00:00, 36919.06it/s]\n",
      "Обработка train-clean-100\\LibriSpeech\\train-clean-100\\1970: 0it [00:00, ?it/s]\n",
      "Обработка train-clean-100\\LibriSpeech\\train-clean-100\\1970\\10594: 100%|██████████| 92/92 [00:00<00:00, 180992.48it/s]\n",
      "Обработка train-clean-100\\LibriSpeech\\train-clean-100\\1970\\26100: 100%|██████████| 76/76 [00:00<00:00, 37939.43it/s]\n",
      "Обработка train-clean-100\\LibriSpeech\\train-clean-100\\1970\\28415: 100%|██████████| 82/82 [00:00<00:00, 27313.61it/s]\n",
      "Обработка train-clean-100\\LibriSpeech\\train-clean-100\\198: 0it [00:00, ?it/s]\n",
      "Обработка train-clean-100\\LibriSpeech\\train-clean-100\\198\\126831: 100%|██████████| 110/110 [00:00<00:00, 110482.15it/s]\n",
      "Обработка train-clean-100\\LibriSpeech\\train-clean-100\\198\\129977: 100%|██████████| 68/68 [00:00<00:00, 34034.93it/s]\n",
      "Обработка train-clean-100\\LibriSpeech\\train-clean-100\\198\\209: 100%|██████████| 80/80 [00:00<00:00, 40050.65it/s]\n",
      "Обработка train-clean-100\\LibriSpeech\\train-clean-100\\1992: 0it [00:00, ?it/s]\n",
      "Обработка train-clean-100\\LibriSpeech\\train-clean-100\\1992\\141719: 100%|██████████| 114/114 [00:00<00:00, 56753.79it/s]\n",
      "Обработка train-clean-100\\LibriSpeech\\train-clean-100\\200: 0it [00:00, ?it/s]\n",
      "Обработка train-clean-100\\LibriSpeech\\train-clean-100\\200\\124139: 100%|██████████| 80/80 [00:00<00:00, 76312.10it/s]\n",
      "Обработка train-clean-100\\LibriSpeech\\train-clean-100\\200\\124140: 100%|██████████| 80/80 [00:00<00:00, 72628.64it/s]\n",
      "Обработка train-clean-100\\LibriSpeech\\train-clean-100\\200\\126784: 100%|██████████| 78/78 [00:00<00:00, 25987.43it/s]\n",
      "Обработка train-clean-100\\LibriSpeech\\train-clean-100\\2002: 0it [00:00, ?it/s]\n",
      "Обработка train-clean-100\\LibriSpeech\\train-clean-100\\2002\\139469: 100%|██████████| 234/234 [00:00<00:00, 117176.11it/s]\n",
      "Обработка train-clean-100\\LibriSpeech\\train-clean-100\\2007: 0it [00:00, ?it/s]\n",
      "Обработка train-clean-100\\LibriSpeech\\train-clean-100\\2007\\132570: 100%|██████████| 124/124 [00:00<00:00, 61974.94it/s]\n",
      "Обработка train-clean-100\\LibriSpeech\\train-clean-100\\2007\\149877: 100%|██████████| 126/126 [00:00<00:00, 126009.13it/s]\n",
      "Обработка train-clean-100\\LibriSpeech\\train-clean-100\\201: 0it [00:00, ?it/s]\n",
      "Обработка train-clean-100\\LibriSpeech\\train-clean-100\\201\\122255: 100%|██████████| 92/92 [00:00<00:00, 36290.41it/s]\n",
      "Обработка train-clean-100\\LibriSpeech\\train-clean-100\\201\\127786: 100%|██████████| 166/166 [00:00<00:00, 69458.75it/s]\n",
      "Обработка train-clean-100\\LibriSpeech\\train-clean-100\\2092: 0it [00:00, ?it/s]\n",
      "Обработка train-clean-100\\LibriSpeech\\train-clean-100\\2092\\145706: 100%|██████████| 170/170 [00:00<00:00, 69253.27it/s]\n",
      "Обработка train-clean-100\\LibriSpeech\\train-clean-100\\2092\\145709: 100%|██████████| 46/46 [00:00<00:00, 45981.41it/s]\n",
      "Обработка train-clean-100\\LibriSpeech\\train-clean-100\\211: 0it [00:00, ?it/s]\n",
      "Обработка train-clean-100\\LibriSpeech\\train-clean-100\\211\\122425: 100%|██████████| 166/166 [00:00<00:00, 82808.57it/s]\n",
      "Обработка train-clean-100\\LibriSpeech\\train-clean-100\\211\\122442: 100%|██████████| 170/170 [00:00<00:00, 84915.05it/s]\n",
      "Обработка train-clean-100\\LibriSpeech\\train-clean-100\\2136: 0it [00:00, ?it/s]\n",
      "Обработка train-clean-100\\LibriSpeech\\train-clean-100\\2136\\5140: 100%|██████████| 84/84 [00:00<00:00, 41709.66it/s]\n",
      "Обработка train-clean-100\\LibriSpeech\\train-clean-100\\2136\\5143: 100%|██████████| 92/92 [00:00<00:00, 92072.53it/s]\n",
      "Обработка train-clean-100\\LibriSpeech\\train-clean-100\\2136\\5147: 100%|██████████| 84/84 [00:00<00:00, 84026.12it/s]\n",
      "Обработка train-clean-100\\LibriSpeech\\train-clean-100\\2159: 0it [00:00, ?it/s]\n",
      "Обработка train-clean-100\\LibriSpeech\\train-clean-100\\2159\\179154: 100%|██████████| 82/82 [00:00<00:00, 53891.09it/s]\n",
      "Обработка train-clean-100\\LibriSpeech\\train-clean-100\\2159\\179156: 100%|██████████| 74/74 [00:00<00:00, 37002.68it/s]\n",
      "Обработка train-clean-100\\LibriSpeech\\train-clean-100\\2159\\179157: 100%|██████████| 70/70 [00:00<00:00, 34774.52it/s]\n",
      "Обработка train-clean-100\\LibriSpeech\\train-clean-100\\2182: 0it [00:00, ?it/s]\n",
      "Обработка train-clean-100\\LibriSpeech\\train-clean-100\\2182\\150130: 100%|██████████| 82/82 [00:00<00:00, 40615.60it/s]\n",
      "Обработка train-clean-100\\LibriSpeech\\train-clean-100\\2182\\181173: 100%|██████████| 78/78 [00:00<00:00, 39044.72it/s]\n",
      "Обработка train-clean-100\\LibriSpeech\\train-clean-100\\2182\\181183: 100%|██████████| 76/76 [00:00<00:00, 37971.07it/s]\n",
      "Обработка train-clean-100\\LibriSpeech\\train-clean-100\\2196: 0it [00:00, ?it/s]\n",
      "Обработка train-clean-100\\LibriSpeech\\train-clean-100\\2196\\170151: 100%|██████████| 72/72 [00:00<00:00, 71885.24it/s]\n",
      "Обработка train-clean-100\\LibriSpeech\\train-clean-100\\2196\\170379: 100%|██████████| 72/72 [00:00<00:00, 71459.98it/s]\n",
      "Обработка train-clean-100\\LibriSpeech\\train-clean-100\\2196\\174172: 100%|██████████| 88/88 [00:00<00:00, 44013.68it/s]\n",
      "Обработка train-clean-100\\LibriSpeech\\train-clean-100\\226: 0it [00:00, ?it/s]\n",
      "Обработка train-clean-100\\LibriSpeech\\train-clean-100\\226\\122538: 100%|██████████| 72/72 [00:00<00:00, 23992.21it/s]\n",
      "Обработка train-clean-100\\LibriSpeech\\train-clean-100\\226\\131532: 100%|██████████| 72/72 [00:00<00:00, 71851.03it/s]\n",
      "Обработка train-clean-100\\LibriSpeech\\train-clean-100\\226\\131533: 100%|██████████| 76/76 [00:00<00:00, 75878.86it/s]\n",
      "Обработка train-clean-100\\LibriSpeech\\train-clean-100\\2289: 0it [00:00, ?it/s]\n",
      "Обработка train-clean-100\\LibriSpeech\\train-clean-100\\2289\\152253: 100%|██████████| 64/64 [00:00<00:00, 32006.14it/s]\n",
      "Обработка train-clean-100\\LibriSpeech\\train-clean-100\\2289\\152254: 100%|██████████| 62/62 [00:00<00:00, 24618.65it/s]\n",
      "Обработка train-clean-100\\LibriSpeech\\train-clean-100\\2289\\152257: 100%|██████████| 58/58 [00:00<00:00, 58128.94it/s]\n",
      "Обработка train-clean-100\\LibriSpeech\\train-clean-100\\2289\\152258: 100%|██████████| 84/84 [00:00<00:00, 41993.03it/s]\n",
      "Обработка train-clean-100\\LibriSpeech\\train-clean-100\\229: 0it [00:00, ?it/s]\n",
      "Обработка train-clean-100\\LibriSpeech\\train-clean-100\\229\\130880: 100%|██████████| 190/190 [00:00<00:00, 189832.72it/s]\n",
      "Обработка train-clean-100\\LibriSpeech\\train-clean-100\\233: 0it [00:00, ?it/s]\n",
      "Обработка train-clean-100\\LibriSpeech\\train-clean-100\\233\\134440: 100%|██████████| 128/128 [00:00<00:00, 42662.98it/s]\n",
      "Обработка train-clean-100\\LibriSpeech\\train-clean-100\\233\\155990: 100%|██████████| 96/96 [00:00<00:00, 96052.76it/s]\n",
      "Обработка train-clean-100\\LibriSpeech\\train-clean-100\\2384: 0it [00:00, ?it/s]\n",
      "Обработка train-clean-100\\LibriSpeech\\train-clean-100\\2384\\152900: 100%|██████████| 182/182 [00:00<00:00, 60680.71it/s]\n",
      "Обработка train-clean-100\\LibriSpeech\\train-clean-100\\2391: 0it [00:00, ?it/s]\n",
      "Обработка train-clean-100\\LibriSpeech\\train-clean-100\\2391\\145015: 100%|██████████| 248/248 [00:00<00:00, 82639.82it/s]\n",
      "Обработка train-clean-100\\LibriSpeech\\train-clean-100\\2416: 0it [00:00, ?it/s]\n",
      "Обработка train-clean-100\\LibriSpeech\\train-clean-100\\2416\\152137: 100%|██████████| 76/76 [00:00<00:00, 38039.03it/s]\n",
      "Обработка train-clean-100\\LibriSpeech\\train-clean-100\\2416\\152139: 100%|██████████| 148/148 [00:00<00:00, 49360.45it/s]\n",
      "Обработка train-clean-100\\LibriSpeech\\train-clean-100\\2436: 0it [00:00, ?it/s]\n",
      "Обработка train-clean-100\\LibriSpeech\\train-clean-100\\2436\\2476: 100%|██████████| 84/84 [00:00<00:00, 83153.54it/s]\n",
      "Обработка train-clean-100\\LibriSpeech\\train-clean-100\\2436\\2477: 100%|██████████| 76/76 [00:00<00:00, 38039.03it/s]\n",
      "Обработка train-clean-100\\LibriSpeech\\train-clean-100\\2436\\2481: 100%|██████████| 78/78 [00:00<00:00, 78005.65it/s]\n",
      "Обработка train-clean-100\\LibriSpeech\\train-clean-100\\248: 0it [00:00, ?it/s]\n",
      "Обработка train-clean-100\\LibriSpeech\\train-clean-100\\248\\130644: 100%|██████████| 76/76 [00:00<00:00, 76023.64it/s]\n",
      "Обработка train-clean-100\\LibriSpeech\\train-clean-100\\248\\130652: 100%|██████████| 82/82 [00:00<00:00, 41022.53it/s]\n",
      "Обработка train-clean-100\\LibriSpeech\\train-clean-100\\248\\130697: 100%|██████████| 76/76 [00:00<00:00, 27759.92it/s]\n",
      "Обработка train-clean-100\\LibriSpeech\\train-clean-100\\250: 0it [00:00, ?it/s]\n",
      "Обработка train-clean-100\\LibriSpeech\\train-clean-100\\250\\140277: 100%|██████████| 36/36 [00:00<00:00, 23887.83it/s]\n",
      "Обработка train-clean-100\\LibriSpeech\\train-clean-100\\250\\142276: 100%|██████████| 130/130 [00:00<00:00, 43185.45it/s]\n",
      "Обработка train-clean-100\\LibriSpeech\\train-clean-100\\250\\142286: 100%|██████████| 68/68 [00:00<00:00, 34038.99it/s]\n",
      "Обработка train-clean-100\\LibriSpeech\\train-clean-100\\2514: 0it [00:00, ?it/s]\n",
      "Обработка train-clean-100\\LibriSpeech\\train-clean-100\\2514\\149482: 100%|██████████| 218/218 [00:00<00:00, 72344.19it/s]\n",
      "Обработка train-clean-100\\LibriSpeech\\train-clean-100\\2518: 0it [00:00, ?it/s]\n",
      "Обработка train-clean-100\\LibriSpeech\\train-clean-100\\2518\\154825: 100%|██████████| 116/116 [00:00<00:00, 115815.11it/s]\n",
      "Обработка train-clean-100\\LibriSpeech\\train-clean-100\\2518\\154826: 100%|██████████| 112/112 [00:00<00:00, 112008.12it/s]\n",
      "Обработка train-clean-100\\LibriSpeech\\train-clean-100\\254: 0it [00:00, ?it/s]\n",
      "Обработка train-clean-100\\LibriSpeech\\train-clean-100\\254\\12312: 100%|██████████| 46/46 [00:00<00:00, 18244.73it/s]\n",
      "Обработка train-clean-100\\LibriSpeech\\train-clean-100\\254\\127705: 100%|██████████| 88/88 [00:00<00:00, 41753.25it/s]\n",
      "Обработка train-clean-100\\LibriSpeech\\train-clean-100\\254\\145458: 100%|██████████| 46/46 [00:00<00:00, 45959.50it/s]\n",
      "Обработка train-clean-100\\LibriSpeech\\train-clean-100\\254\\27760: 100%|██████████| 72/72 [00:00<00:00, 35968.30it/s]\n",
      "Обработка train-clean-100\\LibriSpeech\\train-clean-100\\26: 0it [00:00, ?it/s]\n",
      "Обработка train-clean-100\\LibriSpeech\\train-clean-100\\26\\495: 100%|██████████| 184/184 [00:00<00:00, 61406.11it/s]\n",
      "Обработка train-clean-100\\LibriSpeech\\train-clean-100\\26\\496: 100%|██████████| 56/56 [00:00<00:00, 27972.02it/s]\n",
      "Обработка train-clean-100\\LibriSpeech\\train-clean-100\\2691: 0it [00:00, ?it/s]\n",
      "Обработка train-clean-100\\LibriSpeech\\train-clean-100\\2691\\156745: 100%|██████████| 92/92 [00:00<00:00, 45992.37it/s]\n",
      "Обработка train-clean-100\\LibriSpeech\\train-clean-100\\2691\\156750: 100%|██████████| 70/70 [00:00<00:00, 69376.48it/s]\n",
      "Обработка train-clean-100\\LibriSpeech\\train-clean-100\\2691\\156755: 100%|██████████| 76/76 [00:00<00:00, 75987.39it/s]\n",
      "Обработка train-clean-100\\LibriSpeech\\train-clean-100\\27: 0it [00:00, ?it/s]\n",
      "Обработка train-clean-100\\LibriSpeech\\train-clean-100\\27\\123349: 100%|██████████| 120/120 [00:00<00:00, 40028.35it/s]\n",
      "Обработка train-clean-100\\LibriSpeech\\train-clean-100\\27\\124992: 100%|██████████| 160/160 [00:00<00:00, 80053.52it/s]\n",
      "Обработка train-clean-100\\LibriSpeech\\train-clean-100\\2764: 0it [00:00, ?it/s]\n",
      "Обработка train-clean-100\\LibriSpeech\\train-clean-100\\2764\\36616: 100%|██████████| 80/80 [00:00<00:00, 26263.64it/s]\n",
      "Обработка train-clean-100\\LibriSpeech\\train-clean-100\\2764\\36617: 100%|██████████| 80/80 [00:00<00:00, 80082.18it/s]\n",
      "Обработка train-clean-100\\LibriSpeech\\train-clean-100\\2764\\36619: 100%|██████████| 86/86 [00:00<00:00, 42783.79it/s]\n",
      "Обработка train-clean-100\\LibriSpeech\\train-clean-100\\2817: 0it [00:00, ?it/s]\n",
      "Обработка train-clean-100\\LibriSpeech\\train-clean-100\\2817\\142371: 100%|██████████| 160/160 [00:00<00:00, 159744.98it/s]\n",
      "Обработка train-clean-100\\LibriSpeech\\train-clean-100\\2817\\142380: 100%|██████████| 88/88 [00:00<00:00, 43815.14it/s]\n",
      "Обработка train-clean-100\\LibriSpeech\\train-clean-100\\2836: 0it [00:00, ?it/s]\n",
      "Обработка train-clean-100\\LibriSpeech\\train-clean-100\\2836\\5354: 100%|██████████| 112/112 [00:00<00:00, 55877.49it/s]\n",
      "Обработка train-clean-100\\LibriSpeech\\train-clean-100\\2836\\5355: 100%|██████████| 110/110 [00:00<00:00, 55023.67it/s]\n",
      "Обработка train-clean-100\\LibriSpeech\\train-clean-100\\2843: 0it [00:00, ?it/s]\n",
      "Обработка train-clean-100\\LibriSpeech\\train-clean-100\\2843\\152918: 100%|██████████| 234/234 [00:00<00:00, 77987.06it/s]\n",
      "Обработка train-clean-100\\LibriSpeech\\train-clean-100\\289: 0it [00:00, ?it/s]\n",
      "Обработка train-clean-100\\LibriSpeech\\train-clean-100\\289\\121652: 100%|██████████| 80/80 [00:00<00:00, 39964.78it/s]\n",
      "Обработка train-clean-100\\LibriSpeech\\train-clean-100\\289\\121665: 100%|██████████| 96/96 [00:00<00:00, 96098.61it/s]\n",
      "Обработка train-clean-100\\LibriSpeech\\train-clean-100\\2893: 0it [00:00, ?it/s]\n",
      "Обработка train-clean-100\\LibriSpeech\\train-clean-100\\2893\\139310: 100%|██████████| 110/110 [00:00<00:00, 36654.76it/s]\n",
      "Обработка train-clean-100\\LibriSpeech\\train-clean-100\\2893\\139322: 100%|██████████| 108/108 [00:00<00:00, 54003.91it/s]\n",
      "Обработка train-clean-100\\LibriSpeech\\train-clean-100\\2910: 0it [00:00, ?it/s]\n",
      "Обработка train-clean-100\\LibriSpeech\\train-clean-100\\2910\\131096: 100%|██████████| 192/192 [00:00<00:00, 96943.10it/s]\n",
      "Обработка train-clean-100\\LibriSpeech\\train-clean-100\\2911: 0it [00:00, ?it/s]\n",
      "Обработка train-clean-100\\LibriSpeech\\train-clean-100\\2911\\12359: 100%|██████████| 54/54 [00:00<00:00, 17910.20it/s]\n",
      "Обработка train-clean-100\\LibriSpeech\\train-clean-100\\2911\\15045: 100%|██████████| 62/62 [00:00<00:00, 30877.09it/s]\n",
      "Обработка train-clean-100\\LibriSpeech\\train-clean-100\\2911\\15084: 100%|██████████| 30/30 [00:00<00:00, 30131.49it/s]\n",
      "Обработка train-clean-100\\LibriSpeech\\train-clean-100\\2911\\7601: 100%|██████████| 106/106 [00:00<00:00, 35316.25it/s]\n",
      "Обработка train-clean-100\\LibriSpeech\\train-clean-100\\2952: 0it [00:00, ?it/s]\n",
      "Обработка train-clean-100\\LibriSpeech\\train-clean-100\\2952\\407: 100%|██████████| 58/58 [00:00<00:00, 29009.02it/s]\n",
      "Обработка train-clean-100\\LibriSpeech\\train-clean-100\\2952\\408: 100%|██████████| 62/62 [00:00<00:00, 20678.03it/s]\n",
      "Обработка train-clean-100\\LibriSpeech\\train-clean-100\\2952\\410: 100%|██████████| 124/124 [00:00<00:00, 41323.19it/s]\n",
      "Обработка train-clean-100\\LibriSpeech\\train-clean-100\\298: 0it [00:00, ?it/s]\n",
      "Обработка train-clean-100\\LibriSpeech\\train-clean-100\\298\\126790: 100%|██████████| 92/92 [00:00<00:00, 30651.84it/s]\n",
      "Обработка train-clean-100\\LibriSpeech\\train-clean-100\\298\\126791: 100%|██████████| 138/138 [00:00<00:00, 68143.86it/s]\n",
      "Обработка train-clean-100\\LibriSpeech\\train-clean-100\\2989: 0it [00:00, ?it/s]\n",
      "Обработка train-clean-100\\LibriSpeech\\train-clean-100\\2989\\138028: 100%|██████████| 154/154 [00:00<00:00, 76549.28it/s]\n",
      "Обработка train-clean-100\\LibriSpeech\\train-clean-100\\2989\\138035: 100%|██████████| 160/160 [00:00<00:00, 159897.22it/s]\n",
      "Обработка train-clean-100\\LibriSpeech\\train-clean-100\\302: 0it [00:00, ?it/s]\n",
      "Обработка train-clean-100\\LibriSpeech\\train-clean-100\\302\\123504: 100%|██████████| 78/78 [00:00<00:00, 38993.53it/s]\n",
      "Обработка train-clean-100\\LibriSpeech\\train-clean-100\\302\\123516: 100%|██████████| 74/74 [00:00<00:00, 37015.92it/s]\n",
      "Обработка train-clean-100\\LibriSpeech\\train-clean-100\\302\\123523: 100%|██████████| 80/80 [00:00<00:00, 39979.07it/s]\n",
      "Обработка train-clean-100\\LibriSpeech\\train-clean-100\\307: 0it [00:00, ?it/s]\n",
      "Обработка train-clean-100\\LibriSpeech\\train-clean-100\\307\\127535: 100%|██████████| 94/94 [00:00<00:00, 46936.26it/s]\n",
      "Обработка train-clean-100\\LibriSpeech\\train-clean-100\\307\\127539: 100%|██████████| 86/86 [00:00<00:00, 14985.26it/s]\n",
      "Обработка train-clean-100\\LibriSpeech\\train-clean-100\\307\\127540: 100%|██████████| 74/74 [00:00<00:00, 34749.05it/s]\n",
      "Обработка train-clean-100\\LibriSpeech\\train-clean-100\\311: 0it [00:00, ?it/s]\n",
      "Обработка train-clean-100\\LibriSpeech\\train-clean-100\\311\\124404: 100%|██████████| 246/246 [00:00<00:00, 17927.80it/s]\n",
      "Обработка train-clean-100\\LibriSpeech\\train-clean-100\\3112: 0it [00:00, ?it/s]\n",
      "Обработка train-clean-100\\LibriSpeech\\train-clean-100\\3112\\9554: 100%|██████████| 50/50 [00:00<00:00, 50111.16it/s]\n",
      "Обработка train-clean-100\\LibriSpeech\\train-clean-100\\3112\\9555: 100%|██████████| 190/190 [00:00<00:00, 95063.55it/s]\n",
      "Обработка train-clean-100\\LibriSpeech\\train-clean-100\\3168: 0it [00:00, ?it/s]\n",
      "Обработка train-clean-100\\LibriSpeech\\train-clean-100\\3168\\173564: 100%|██████████| 94/94 [00:00<00:00, 92117.89it/s]\n",
      "Обработка train-clean-100\\LibriSpeech\\train-clean-100\\3168\\173565: 100%|██████████| 126/126 [00:00<00:00, 125799.17it/s]\n",
      "Обработка train-clean-100\\LibriSpeech\\train-clean-100\\32: 0it [00:00, ?it/s]\n",
      "Обработка train-clean-100\\LibriSpeech\\train-clean-100\\32\\21625: 100%|██████████| 38/38 [00:00<00:00, 18976.49it/s]\n",
      "Обработка train-clean-100\\LibriSpeech\\train-clean-100\\32\\21631: 100%|██████████| 42/42 [00:00<00:00, 41596.40it/s]\n",
      "Обработка train-clean-100\\LibriSpeech\\train-clean-100\\32\\21634: 100%|██████████| 42/42 [00:00<00:00, 42003.04it/s]\n",
      "Обработка train-clean-100\\LibriSpeech\\train-clean-100\\32\\4137: 100%|██████████| 120/120 [00:00<00:00, 79550.57it/s]\n",
      "Обработка train-clean-100\\LibriSpeech\\train-clean-100\\3214: 0it [00:00, ?it/s]\n",
      "Обработка train-clean-100\\LibriSpeech\\train-clean-100\\3214\\167602: 100%|██████████| 78/78 [00:00<00:00, 38891.55it/s]\n",
      "Обработка train-clean-100\\LibriSpeech\\train-clean-100\\3214\\167606: 100%|██████████| 76/76 [00:00<00:00, 25353.31it/s]\n",
      "Обработка train-clean-100\\LibriSpeech\\train-clean-100\\3214\\167607: 100%|██████████| 84/84 [00:00<00:00, 41973.02it/s]\n",
      "Обработка train-clean-100\\LibriSpeech\\train-clean-100\\322: 0it [00:00, ?it/s]\n",
      "Обработка train-clean-100\\LibriSpeech\\train-clean-100\\322\\124146: 100%|██████████| 78/78 [00:00<00:00, 39026.09it/s]\n",
      "Обработка train-clean-100\\LibriSpeech\\train-clean-100\\322\\124147: 100%|██████████| 170/170 [00:00<00:00, 84935.28it/s]\n",
      "Обработка train-clean-100\\LibriSpeech\\train-clean-100\\3235: 0it [00:00, ?it/s]\n",
      "Обработка train-clean-100\\LibriSpeech\\train-clean-100\\3235\\11599: 100%|██████████| 60/60 [00:00<00:00, 30045.16it/s]\n",
      "Обработка train-clean-100\\LibriSpeech\\train-clean-100\\3235\\28433: 100%|██████████| 102/102 [00:00<00:00, 28859.89it/s]\n",
      "Обработка train-clean-100\\LibriSpeech\\train-clean-100\\3235\\28452: 100%|██████████| 70/70 [00:00<00:00, 53921.26it/s]\n",
      "Обработка train-clean-100\\LibriSpeech\\train-clean-100\\3240: 0it [00:00, ?it/s]\n",
      "Обработка train-clean-100\\LibriSpeech\\train-clean-100\\3240\\131231: 100%|██████████| 174/174 [00:00<00:00, 58004.20it/s]\n",
      "Обработка train-clean-100\\LibriSpeech\\train-clean-100\\3240\\131232: 100%|██████████| 84/84 [00:00<00:00, 83966.05it/s]\n",
      "Обработка train-clean-100\\LibriSpeech\\train-clean-100\\3242: 0it [00:00, ?it/s]\n",
      "Обработка train-clean-100\\LibriSpeech\\train-clean-100\\3242\\67153: 100%|██████████| 78/78 [00:00<00:00, 78005.65it/s]\n",
      "Обработка train-clean-100\\LibriSpeech\\train-clean-100\\3242\\67168: 100%|██████████| 82/82 [00:00<00:00, 40924.91it/s]\n",
      "Обработка train-clean-100\\LibriSpeech\\train-clean-100\\3242\\8112: 100%|██████████| 92/92 [00:00<00:00, 45964.98it/s]\n",
      "Обработка train-clean-100\\LibriSpeech\\train-clean-100\\3259: 0it [00:00, ?it/s]\n",
      "Обработка train-clean-100\\LibriSpeech\\train-clean-100\\3259\\158083: 100%|██████████| 254/254 [00:00<00:00, 100923.95it/s]\n",
      "Обработка train-clean-100\\LibriSpeech\\train-clean-100\\328: 0it [00:00, ?it/s]\n",
      "Обработка train-clean-100\\LibriSpeech\\train-clean-100\\328\\129766: 100%|██████████| 200/200 [00:00<00:00, 56760.32it/s]\n",
      "Обработка train-clean-100\\LibriSpeech\\train-clean-100\\332: 0it [00:00, ?it/s]\n",
      "Обработка train-clean-100\\LibriSpeech\\train-clean-100\\332\\128985: 100%|██████████| 180/180 [00:00<00:00, 89931.47it/s]\n",
      "Обработка train-clean-100\\LibriSpeech\\train-clean-100\\3374: 0it [00:00, ?it/s]\n",
      "Обработка train-clean-100\\LibriSpeech\\train-clean-100\\3374\\298025: 100%|██████████| 68/68 [00:00<00:00, 33982.21it/s]\n",
      "Обработка train-clean-100\\LibriSpeech\\train-clean-100\\3374\\298026: 100%|██████████| 96/96 [00:00<00:00, 38162.56it/s]\n",
      "Обработка train-clean-100\\LibriSpeech\\train-clean-100\\3374\\298032: 100%|██████████| 88/88 [00:00<00:00, 43956.03it/s]\n",
      "Обработка train-clean-100\\LibriSpeech\\train-clean-100\\3436: 0it [00:00, ?it/s]\n",
      "Обработка train-clean-100\\LibriSpeech\\train-clean-100\\3436\\172162: 100%|██████████| 108/108 [00:00<00:00, 36031.25it/s]\n",
      "Обработка train-clean-100\\LibriSpeech\\train-clean-100\\3436\\172171: 100%|██████████| 134/134 [00:00<00:00, 44645.07it/s]\n",
      "Обработка train-clean-100\\LibriSpeech\\train-clean-100\\3440: 0it [00:00, ?it/s]\n",
      "Обработка train-clean-100\\LibriSpeech\\train-clean-100\\3440\\171006: 100%|██████████| 62/62 [00:00<00:00, 20668.16it/s]\n",
      "Обработка train-clean-100\\LibriSpeech\\train-clean-100\\3440\\171009: 100%|██████████| 168/168 [00:00<00:00, 55531.80it/s]\n",
      "Обработка train-clean-100\\LibriSpeech\\train-clean-100\\3486: 0it [00:00, ?it/s]\n",
      "Обработка train-clean-100\\LibriSpeech\\train-clean-100\\3486\\166424: 100%|██████████| 154/154 [00:00<00:00, 51312.58it/s]\n",
      "Обработка train-clean-100\\LibriSpeech\\train-clean-100\\3486\\166446: 100%|██████████| 90/90 [00:00<00:00, 45008.63it/s]\n",
      "Обработка train-clean-100\\LibriSpeech\\train-clean-100\\3526: 0it [00:00, ?it/s]\n",
      "Обработка train-clean-100\\LibriSpeech\\train-clean-100\\3526\\175658: 100%|██████████| 74/74 [00:00<00:00, 36993.86it/s]\n",
      "Обработка train-clean-100\\LibriSpeech\\train-clean-100\\3526\\176651: 100%|██████████| 48/48 [00:00<00:00, 47572.45it/s]\n",
      "Обработка train-clean-100\\LibriSpeech\\train-clean-100\\3526\\176653: 100%|██████████| 112/112 [00:00<00:00, 37282.70it/s]\n",
      "Обработка train-clean-100\\LibriSpeech\\train-clean-100\\3607: 0it [00:00, ?it/s]\n",
      "Обработка train-clean-100\\LibriSpeech\\train-clean-100\\3607\\135982: 100%|██████████| 106/106 [00:00<00:00, 52072.64it/s]\n",
      "Обработка train-clean-100\\LibriSpeech\\train-clean-100\\3607\\29116: 100%|██████████| 94/94 [00:00<00:00, 31410.50it/s]\n",
      "Обработка train-clean-100\\LibriSpeech\\train-clean-100\\3664: 0it [00:00, ?it/s]\n",
      "Обработка train-clean-100\\LibriSpeech\\train-clean-100\\3664\\11714: 100%|██████████| 66/66 [00:00<00:00, 66052.03it/s]\n",
      "Обработка train-clean-100\\LibriSpeech\\train-clean-100\\3664\\178355: 100%|██████████| 76/76 [00:00<00:00, 37799.96it/s]\n",
      "Обработка train-clean-100\\LibriSpeech\\train-clean-100\\3664\\178366: 100%|██████████| 78/78 [00:00<00:00, 78042.87it/s]\n",
      "Обработка train-clean-100\\LibriSpeech\\train-clean-100\\3699: 0it [00:00, ?it/s]\n",
      "Обработка train-clean-100\\LibriSpeech\\train-clean-100\\3699\\175950: 100%|██████████| 54/54 [00:00<00:00, 53978.17it/s]\n",
      "Обработка train-clean-100\\LibriSpeech\\train-clean-100\\3699\\19401: 100%|██████████| 56/56 [00:00<00:00, 27905.55it/s]\n",
      "Обработка train-clean-100\\LibriSpeech\\train-clean-100\\3699\\19402: 100%|██████████| 64/64 [00:00<00:00, 31987.07it/s]\n",
      "Обработка train-clean-100\\LibriSpeech\\train-clean-100\\3699\\47246: 100%|██████████| 68/68 [00:00<00:00, 33978.16it/s]\n",
      "Обработка train-clean-100\\LibriSpeech\\train-clean-100\\3723: 0it [00:00, ?it/s]\n",
      "Обработка train-clean-100\\LibriSpeech\\train-clean-100\\3723\\171115: 100%|██████████| 118/118 [00:00<00:00, 29512.69it/s]\n",
      "Обработка train-clean-100\\LibriSpeech\\train-clean-100\\3723\\171631: 100%|██████████| 124/124 [00:00<00:00, 62071.09it/s]\n",
      "Обработка train-clean-100\\LibriSpeech\\train-clean-100\\374: 0it [00:00, ?it/s]\n",
      "Обработка train-clean-100\\LibriSpeech\\train-clean-100\\374\\180298: 100%|██████████| 134/134 [00:00<00:00, 134073.65it/s]\n",
      "Обработка train-clean-100\\LibriSpeech\\train-clean-100\\374\\180299: 100%|██████████| 96/96 [00:00<00:00, 94630.60it/s]\n",
      "Обработка train-clean-100\\LibriSpeech\\train-clean-100\\3807: 0it [00:00, ?it/s]\n",
      "Обработка train-clean-100\\LibriSpeech\\train-clean-100\\3807\\4923: 100%|██████████| 120/120 [00:00<00:00, 59325.37it/s]\n",
      "Обработка train-clean-100\\LibriSpeech\\train-clean-100\\3807\\4955: 100%|██████████| 82/82 [00:00<00:00, 81947.33it/s]\n",
      "Обработка train-clean-100\\LibriSpeech\\train-clean-100\\3830: 0it [00:00, ?it/s]\n",
      "Обработка train-clean-100\\LibriSpeech\\train-clean-100\\3830\\12529: 100%|██████████| 14/14 [00:00<00:00, 14027.77it/s]\n",
      "Обработка train-clean-100\\LibriSpeech\\train-clean-100\\3830\\12530: 100%|██████████| 94/94 [00:00<00:00, 31343.08it/s]\n",
      "Обработка train-clean-100\\LibriSpeech\\train-clean-100\\3830\\12531: 100%|██████████| 66/66 [00:00<00:00, 33002.39it/s]\n",
      "Обработка train-clean-100\\LibriSpeech\\train-clean-100\\3830\\12535: 100%|██████████| 70/70 [00:00<00:00, 69905.07it/s]\n",
      "Обработка train-clean-100\\LibriSpeech\\train-clean-100\\3857: 0it [00:00, ?it/s]\n",
      "Обработка train-clean-100\\LibriSpeech\\train-clean-100\\3857\\180923: 100%|██████████| 62/62 [00:00<00:00, 31005.94it/s]\n",
      "Обработка train-clean-100\\LibriSpeech\\train-clean-100\\3857\\182315: 100%|██████████| 94/94 [00:00<00:00, 28996.44it/s]\n",
      "Обработка train-clean-100\\LibriSpeech\\train-clean-100\\3857\\182317: 100%|██████████| 70/70 [00:00<00:00, 43195.72it/s]\n",
      "Обработка train-clean-100\\LibriSpeech\\train-clean-100\\3879: 0it [00:00, ?it/s]\n",
      "Обработка train-clean-100\\LibriSpeech\\train-clean-100\\3879\\173592: 100%|██████████| 90/90 [00:00<00:00, 44874.86it/s]\n",
      "Обработка train-clean-100\\LibriSpeech\\train-clean-100\\3879\\174923: 100%|██████████| 148/148 [00:00<00:00, 147904.93it/s]\n",
      "Обработка train-clean-100\\LibriSpeech\\train-clean-100\\39: 0it [00:00, ?it/s]\n",
      "Обработка train-clean-100\\LibriSpeech\\train-clean-100\\39\\121914: 100%|██████████| 116/116 [00:00<00:00, 38663.32it/s]\n",
      "Обработка train-clean-100\\LibriSpeech\\train-clean-100\\39\\121915: 100%|██████████| 70/70 [00:00<00:00, 27789.99it/s]\n",
      "Обработка train-clean-100\\LibriSpeech\\train-clean-100\\39\\121916: 100%|██████████| 66/66 [00:00<00:00, 2233.91it/s]\n",
      "Обработка train-clean-100\\LibriSpeech\\train-clean-100\\3947: 0it [00:00, ?it/s]\n",
      "Обработка train-clean-100\\LibriSpeech\\train-clean-100\\3947\\13260: 100%|██████████| 104/104 [00:00<00:00, 41311.45it/s]\n",
      "Обработка train-clean-100\\LibriSpeech\\train-clean-100\\3947\\13262: 100%|██████████| 106/106 [00:00<00:00, 30074.83it/s]\n",
      "Обработка train-clean-100\\LibriSpeech\\train-clean-100\\3982: 0it [00:00, ?it/s]\n",
      "Обработка train-clean-100\\LibriSpeech\\train-clean-100\\3982\\178459: 100%|██████████| 136/136 [00:00<00:00, 54217.79it/s]\n",
      "Обработка train-clean-100\\LibriSpeech\\train-clean-100\\3982\\182255: 100%|██████████| 94/94 [00:00<00:00, 31340.59it/s]\n",
      "Обработка train-clean-100\\LibriSpeech\\train-clean-100\\3983: 0it [00:00, ?it/s]\n",
      "Обработка train-clean-100\\LibriSpeech\\train-clean-100\\3983\\5331: 100%|██████████| 110/110 [00:00<00:00, 55017.10it/s]\n",
      "Обработка train-clean-100\\LibriSpeech\\train-clean-100\\3983\\5371: 100%|██████████| 120/120 [00:00<00:00, 59797.61it/s]\n",
      "Обработка train-clean-100\\LibriSpeech\\train-clean-100\\40: 0it [00:00, ?it/s]\n",
      "Обработка train-clean-100\\LibriSpeech\\train-clean-100\\40\\121026: 100%|██████████| 92/92 [00:00<00:00, 45812.18it/s]\n",
      "Обработка train-clean-100\\LibriSpeech\\train-clean-100\\40\\222: 100%|██████████| 140/140 [00:00<00:00, 46714.60it/s]\n",
      "Обработка train-clean-100\\LibriSpeech\\train-clean-100\\4014: 0it [00:00, ?it/s]\n",
      "Обработка train-clean-100\\LibriSpeech\\train-clean-100\\4014\\186175: 100%|██████████| 86/86 [00:00<00:00, 42997.99it/s]\n",
      "Обработка train-clean-100\\LibriSpeech\\train-clean-100\\4014\\186176: 100%|██████████| 90/90 [00:00<00:00, 44981.81it/s]\n",
      "Обработка train-clean-100\\LibriSpeech\\train-clean-100\\4014\\186179: 100%|██████████| 96/96 [00:00<00:00, 47980.60it/s]\n",
      "Обработка train-clean-100\\LibriSpeech\\train-clean-100\\4014\\186183: 100%|██████████| 66/66 [00:00<00:00, 33026.02it/s]\n",
      "Обработка train-clean-100\\LibriSpeech\\train-clean-100\\4018: 0it [00:00, ?it/s]\n",
      "Обработка train-clean-100\\LibriSpeech\\train-clean-100\\4018\\103416: 100%|██████████| 80/80 [00:00<00:00, 39699.99it/s]\n",
      "Обработка train-clean-100\\LibriSpeech\\train-clean-100\\4018\\107312: 100%|██████████| 78/78 [00:00<00:00, 78080.12it/s]\n",
      "Обработка train-clean-100\\LibriSpeech\\train-clean-100\\4018\\107338: 100%|██████████| 68/68 [00:00<00:00, 34018.69it/s]\n",
      "Обработка train-clean-100\\LibriSpeech\\train-clean-100\\403: 0it [00:00, ?it/s]\n",
      "Обработка train-clean-100\\LibriSpeech\\train-clean-100\\403\\126855: 100%|██████████| 66/66 [00:00<00:00, 65879.12it/s]\n",
      "Обработка train-clean-100\\LibriSpeech\\train-clean-100\\403\\128339: 100%|██████████| 108/108 [00:00<00:00, 54049.02it/s]\n",
      "Обработка train-clean-100\\LibriSpeech\\train-clean-100\\403\\216: 100%|██████████| 60/60 [00:00<00:00, 39806.74it/s]\n",
      "Обработка train-clean-100\\LibriSpeech\\train-clean-100\\405: 0it [00:00, ?it/s]\n",
      "Обработка train-clean-100\\LibriSpeech\\train-clean-100\\405\\130894: 100%|██████████| 160/160 [00:00<00:00, 80024.88it/s]\n",
      "Обработка train-clean-100\\LibriSpeech\\train-clean-100\\405\\130895: 100%|██████████| 78/78 [00:00<00:00, 39044.72it/s]\n",
      "Обработка train-clean-100\\LibriSpeech\\train-clean-100\\4051: 0it [00:00, ?it/s]\n",
      "Обработка train-clean-100\\LibriSpeech\\train-clean-100\\4051\\10927: 100%|██████████| 58/58 [00:00<00:00, 25510.66it/s]\n",
      "Обработка train-clean-100\\LibriSpeech\\train-clean-100\\4051\\11217: 100%|██████████| 86/86 [00:00<00:00, 42854.95it/s]\n",
      "Обработка train-clean-100\\LibriSpeech\\train-clean-100\\4051\\11218: 100%|██████████| 128/128 [00:00<00:00, 63958.89it/s]\n",
      "Обработка train-clean-100\\LibriSpeech\\train-clean-100\\4088: 0it [00:00, ?it/s]\n",
      "Обработка train-clean-100\\LibriSpeech\\train-clean-100\\4088\\158077: 100%|██████████| 200/200 [00:00<00:00, 66397.09it/s]\n",
      "Обработка train-clean-100\\LibriSpeech\\train-clean-100\\4088\\158079: 100%|██████████| 40/40 [00:00<00:00, 39917.24it/s]\n",
      "Обработка train-clean-100\\LibriSpeech\\train-clean-100\\412: 0it [00:00, ?it/s]\n",
      "Обработка train-clean-100\\LibriSpeech\\train-clean-100\\412\\126975: 100%|██████████| 192/192 [00:00<00:00, 127583.39it/s]\n",
      "Обработка train-clean-100\\LibriSpeech\\train-clean-100\\4137: 0it [00:00, ?it/s]\n",
      "Обработка train-clean-100\\LibriSpeech\\train-clean-100\\4137\\11701: 100%|██████████| 108/108 [00:00<00:00, 36011.20it/s]\n",
      "Обработка train-clean-100\\LibriSpeech\\train-clean-100\\4137\\11702: 100%|██████████| 124/124 [00:00<00:00, 41153.16it/s]\n",
      "Обработка train-clean-100\\LibriSpeech\\train-clean-100\\4160: 0it [00:00, ?it/s]\n",
      "Обработка train-clean-100\\LibriSpeech\\train-clean-100\\4160\\11549: 100%|██████████| 80/80 [00:00<00:00, 39756.44it/s]\n",
      "Обработка train-clean-100\\LibriSpeech\\train-clean-100\\4160\\11550: 100%|██████████| 82/82 [00:00<00:00, 81947.33it/s]\n",
      "Обработка train-clean-100\\LibriSpeech\\train-clean-100\\4160\\14187: 100%|██████████| 60/60 [00:00<00:00, 41370.74it/s]\n",
      "Обработка train-clean-100\\LibriSpeech\\train-clean-100\\4195: 0it [00:00, ?it/s]\n",
      "Обработка train-clean-100\\LibriSpeech\\train-clean-100\\4195\\17507: 100%|██████████| 100/100 [00:00<00:00, 16665.23it/s]\n",
      "Обработка train-clean-100\\LibriSpeech\\train-clean-100\\4195\\186236: 100%|██████████| 60/60 [00:00<00:00, 19922.28it/s]\n",
      "Обработка train-clean-100\\LibriSpeech\\train-clean-100\\4195\\186237: 100%|██████████| 70/70 [00:00<00:00, 34602.39it/s]\n",
      "Обработка train-clean-100\\LibriSpeech\\train-clean-100\\4195\\186238: 100%|██████████| 58/58 [00:00<00:00, 28981.37it/s]\n",
      "Обработка train-clean-100\\LibriSpeech\\train-clean-100\\4214: 0it [00:00, ?it/s]\n",
      "Обработка train-clean-100\\LibriSpeech\\train-clean-100\\4214\\7146: 100%|██████████| 164/164 [00:00<00:00, 54544.91it/s]\n",
      "Обработка train-clean-100\\LibriSpeech\\train-clean-100\\426: 0it [00:00, ?it/s]\n",
      "Обработка train-clean-100\\LibriSpeech\\train-clean-100\\426\\122819: 100%|██████████| 76/76 [00:00<00:00, 76078.07it/s]\n",
      "Обработка train-clean-100\\LibriSpeech\\train-clean-100\\426\\122821: 100%|██████████| 88/88 [00:00<00:00, 35175.71it/s]\n",
      "Обработка train-clean-100\\LibriSpeech\\train-clean-100\\426\\122822: 100%|██████████| 74/74 [00:00<00:00, 36958.62it/s]\n",
      "Обработка train-clean-100\\LibriSpeech\\train-clean-100\\4267: 0it [00:00, ?it/s]\n",
      "Обработка train-clean-100\\LibriSpeech\\train-clean-100\\4267\\287369: 100%|██████████| 78/78 [00:00<00:00, 39012.13it/s]\n",
      "Обработка train-clean-100\\LibriSpeech\\train-clean-100\\4267\\72637: 100%|██████████| 74/74 [00:00<00:00, 37020.34it/s]\n",
      "Обработка train-clean-100\\LibriSpeech\\train-clean-100\\4267\\78186: 100%|██████████| 78/78 [00:00<00:00, 38886.93it/s]\n",
      "Обработка train-clean-100\\LibriSpeech\\train-clean-100\\4297: 0it [00:00, ?it/s]\n",
      "Обработка train-clean-100\\LibriSpeech\\train-clean-100\\4297\\13006: 100%|██████████| 92/92 [00:00<00:00, 48264.66it/s]\n",
      "Обработка train-clean-100\\LibriSpeech\\train-clean-100\\4297\\13009: 100%|██████████| 134/134 [00:00<00:00, 44733.90it/s]\n",
      "Обработка train-clean-100\\LibriSpeech\\train-clean-100\\4340: 0it [00:00, ?it/s]\n",
      "Обработка train-clean-100\\LibriSpeech\\train-clean-100\\4340\\15220: 100%|██████████| 204/204 [00:00<00:00, 68010.33it/s]\n",
      "Обработка train-clean-100\\LibriSpeech\\train-clean-100\\4362: 0it [00:00, ?it/s]\n",
      "Обработка train-clean-100\\LibriSpeech\\train-clean-100\\4362\\15663: 100%|██████████| 216/216 [00:00<00:00, 108098.04it/s]\n",
      "Обработка train-clean-100\\LibriSpeech\\train-clean-100\\4397: 0it [00:00, ?it/s]\n",
      "Обработка train-clean-100\\LibriSpeech\\train-clean-100\\4397\\15666: 100%|██████████| 56/56 [00:00<00:00, 18668.02it/s]\n",
      "Обработка train-clean-100\\LibriSpeech\\train-clean-100\\4397\\15668: 100%|██████████| 82/82 [00:00<00:00, 41032.32it/s]\n",
      "Обработка train-clean-100\\LibriSpeech\\train-clean-100\\4397\\15678: 100%|██████████| 90/90 [00:00<00:00, 44981.81it/s]\n",
      "Обработка train-clean-100\\LibriSpeech\\train-clean-100\\4406: 0it [00:00, ?it/s]\n",
      "Обработка train-clean-100\\LibriSpeech\\train-clean-100\\4406\\16882: 100%|██████████| 140/140 [00:00<00:00, 69557.28it/s]\n",
      "Обработка train-clean-100\\LibriSpeech\\train-clean-100\\4406\\16883: 100%|██████████| 124/124 [00:00<00:00, 41339.61it/s]\n",
      "Обработка train-clean-100\\LibriSpeech\\train-clean-100\\441: 0it [00:00, ?it/s]\n",
      "Обработка train-clean-100\\LibriSpeech\\train-clean-100\\441\\128982: 100%|██████████| 76/76 [00:00<00:00, 28748.84it/s]\n",
      "Обработка train-clean-100\\LibriSpeech\\train-clean-100\\441\\128988: 100%|██████████| 74/74 [00:00<00:00, 36805.23it/s]\n",
      "Обработка train-clean-100\\LibriSpeech\\train-clean-100\\441\\130108: 100%|██████████| 86/86 [00:00<00:00, 85842.49it/s]\n",
      "Обработка train-clean-100\\LibriSpeech\\train-clean-100\\4441: 0it [00:00, ?it/s]\n",
      "Обработка train-clean-100\\LibriSpeech\\train-clean-100\\4441\\76250: 100%|██████████| 80/80 [00:00<00:00, 39770.57it/s]\n",
      "Обработка train-clean-100\\LibriSpeech\\train-clean-100\\4441\\76262: 100%|██████████| 76/76 [00:00<00:00, 38011.82it/s]\n",
      "Обработка train-clean-100\\LibriSpeech\\train-clean-100\\4441\\76263: 100%|██████████| 98/98 [00:00<00:00, 48997.71it/s]\n",
      "Обработка train-clean-100\\LibriSpeech\\train-clean-100\\445: 0it [00:00, ?it/s]\n",
      "Обработка train-clean-100\\LibriSpeech\\train-clean-100\\445\\123857: 100%|██████████| 68/68 [00:00<00:00, 33994.36it/s]\n",
      "Обработка train-clean-100\\LibriSpeech\\train-clean-100\\445\\123860: 100%|██████████| 56/56 [00:00<00:00, 27842.70it/s]\n",
      "Обработка train-clean-100\\LibriSpeech\\train-clean-100\\446: 0it [00:00, ?it/s]\n",
      "Обработка train-clean-100\\LibriSpeech\\train-clean-100\\446\\123501: 100%|██████████| 124/124 [00:00<00:00, 61960.17it/s]\n",
      "Обработка train-clean-100\\LibriSpeech\\train-clean-100\\446\\123502: 100%|██████████| 102/102 [00:00<00:00, 51034.12it/s]\n",
      "Обработка train-clean-100\\LibriSpeech\\train-clean-100\\4481: 0it [00:00, ?it/s]\n",
      "Обработка train-clean-100\\LibriSpeech\\train-clean-100\\4481\\17498: 100%|██████████| 100/100 [00:00<00:00, 50033.45it/s]\n",
      "Обработка train-clean-100\\LibriSpeech\\train-clean-100\\4481\\17499: 100%|██████████| 98/98 [00:00<00:00, 48997.71it/s]\n",
      "Обработка train-clean-100\\LibriSpeech\\train-clean-100\\458: 0it [00:00, ?it/s]\n",
      "Обработка train-clean-100\\LibriSpeech\\train-clean-100\\458\\126290: 100%|██████████| 42/42 [00:00<00:00, 20976.51it/s]\n",
      "Обработка train-clean-100\\LibriSpeech\\train-clean-100\\458\\126294: 100%|██████████| 40/40 [00:00<00:00, 39955.27it/s]\n",
      "Обработка train-clean-100\\LibriSpeech\\train-clean-100\\458\\126305: 100%|██████████| 88/88 [00:00<00:00, 17604.63it/s]\n",
      "Обработка train-clean-100\\LibriSpeech\\train-clean-100\\460: 0it [00:00, ?it/s]\n",
      "Обработка train-clean-100\\LibriSpeech\\train-clean-100\\460\\172357: 100%|██████████| 54/54 [00:00<00:00, 27027.73it/s]\n",
      "Обработка train-clean-100\\LibriSpeech\\train-clean-100\\460\\172359: 100%|██████████| 202/202 [00:00<00:00, 33675.80it/s]\n",
      "Обработка train-clean-100\\LibriSpeech\\train-clean-100\\4640: 0it [00:00, ?it/s]\n",
      "Обработка train-clean-100\\LibriSpeech\\train-clean-100\\4640\\19187: 100%|██████████| 86/86 [00:00<00:00, 86150.02it/s]\n",
      "Обработка train-clean-100\\LibriSpeech\\train-clean-100\\4640\\19188: 100%|██████████| 84/84 [00:00<00:00, 41978.02it/s]\n",
      "Обработка train-clean-100\\LibriSpeech\\train-clean-100\\4640\\19189: 100%|██████████| 92/92 [00:00<00:00, 46014.31it/s]\n",
      "Обработка train-clean-100\\LibriSpeech\\train-clean-100\\4680: 0it [00:00, ?it/s]\n",
      "Обработка train-clean-100\\LibriSpeech\\train-clean-100\\4680\\16026: 100%|██████████| 84/84 [00:00<00:00, 41963.02it/s]\n",
      "Обработка train-clean-100\\LibriSpeech\\train-clean-100\\4680\\16041: 100%|██████████| 86/86 [00:00<00:00, 34180.82it/s]\n",
      "Обработка train-clean-100\\LibriSpeech\\train-clean-100\\4680\\16042: 100%|██████████| 82/82 [00:00<00:00, 40954.15it/s]\n",
      "Обработка train-clean-100\\LibriSpeech\\train-clean-100\\4788: 0it [00:00, ?it/s]\n",
      "Обработка train-clean-100\\LibriSpeech\\train-clean-100\\4788\\294466: 100%|██████████| 66/66 [00:00<00:00, 32959.17it/s]\n",
      "Обработка train-clean-100\\LibriSpeech\\train-clean-100\\4788\\91208: 100%|██████████| 72/72 [00:00<00:00, 36006.90it/s]\n",
      "Обработка train-clean-100\\LibriSpeech\\train-clean-100\\4788\\94904: 100%|██████████| 82/82 [00:00<00:00, 41027.43it/s]\n",
      "Обработка train-clean-100\\LibriSpeech\\train-clean-100\\481: 0it [00:00, ?it/s]\n",
      "Обработка train-clean-100\\LibriSpeech\\train-clean-100\\481\\123719: 100%|██████████| 86/86 [00:00<00:00, 43028.77it/s]\n",
      "Обработка train-clean-100\\LibriSpeech\\train-clean-100\\481\\123720: 100%|██████████| 174/174 [00:00<00:00, 57990.38it/s]\n",
      "Обработка train-clean-100\\LibriSpeech\\train-clean-100\\4813: 0it [00:00, ?it/s]\n",
      "Обработка train-clean-100\\LibriSpeech\\train-clean-100\\4813\\248638: 100%|██████████| 114/114 [00:00<00:00, 56895.60it/s]\n",
      "Обработка train-clean-100\\LibriSpeech\\train-clean-100\\4813\\248641: 100%|██████████| 112/112 [00:00<00:00, 24707.41it/s]\n",
      "Обработка train-clean-100\\LibriSpeech\\train-clean-100\\4830: 0it [00:00, ?it/s]\n",
      "Обработка train-clean-100\\LibriSpeech\\train-clean-100\\4830\\25898: 100%|██████████| 114/114 [00:00<00:00, 57058.55it/s]\n",
      "Обработка train-clean-100\\LibriSpeech\\train-clean-100\\4830\\25904: 100%|██████████| 104/104 [00:00<00:00, 51403.21it/s]\n",
      "Обработка train-clean-100\\LibriSpeech\\train-clean-100\\4853: 0it [00:00, ?it/s]\n",
      "Обработка train-clean-100\\LibriSpeech\\train-clean-100\\4853\\27670: 100%|██████████| 76/76 [00:00<00:00, 37998.22it/s]\n",
      "Обработка train-clean-100\\LibriSpeech\\train-clean-100\\4853\\27671: 100%|██████████| 84/84 [00:00<00:00, 41843.41it/s]\n",
      "Обработка train-clean-100\\LibriSpeech\\train-clean-100\\4853\\29413: 100%|██████████| 68/68 [00:00<00:00, 68037.37it/s]\n",
      "Обработка train-clean-100\\LibriSpeech\\train-clean-100\\4859: 0it [00:00, ?it/s]\n",
      "Обработка train-clean-100\\LibriSpeech\\train-clean-100\\4859\\22176: 100%|██████████| 52/52 [00:00<00:00, 52016.17it/s]\n",
      "Обработка train-clean-100\\LibriSpeech\\train-clean-100\\4859\\26870: 100%|██████████| 54/54 [00:00<00:00, 35809.08it/s]\n",
      "Обработка train-clean-100\\LibriSpeech\\train-clean-100\\4859\\29340: 100%|██████████| 86/86 [00:00<00:00, 42987.74it/s]\n",
      "Обработка train-clean-100\\LibriSpeech\\train-clean-100\\4898: 0it [00:00, ?it/s]\n",
      "Обработка train-clean-100\\LibriSpeech\\train-clean-100\\4898\\20016: 100%|██████████| 84/84 [00:00<00:00, 42023.08it/s]\n",
      "Обработка train-clean-100\\LibriSpeech\\train-clean-100\\4898\\28461: 100%|██████████| 140/140 [00:00<00:00, 92897.10it/s]\n",
      "Обработка train-clean-100\\LibriSpeech\\train-clean-100\\5022: 0it [00:00, ?it/s]\n",
      "Обработка train-clean-100\\LibriSpeech\\train-clean-100\\5022\\29405: 100%|██████████| 90/90 [00:00<00:00, 44368.52it/s]\n",
      "Обработка train-clean-100\\LibriSpeech\\train-clean-100\\5022\\29411: 100%|██████████| 144/144 [00:00<00:00, 57200.47it/s]\n",
      "Обработка train-clean-100\\LibriSpeech\\train-clean-100\\5049: 0it [00:00, ?it/s]\n",
      "Обработка train-clean-100\\LibriSpeech\\train-clean-100\\5049\\25947: 100%|██████████| 256/256 [00:00<00:00, 255409.57it/s]\n",
      "Обработка train-clean-100\\LibriSpeech\\train-clean-100\\5104: 0it [00:00, ?it/s]\n",
      "Обработка train-clean-100\\LibriSpeech\\train-clean-100\\5104\\33406: 100%|██████████| 126/126 [00:00<00:00, 62438.84it/s]\n",
      "Обработка train-clean-100\\LibriSpeech\\train-clean-100\\5104\\33407: 100%|██████████| 102/102 [00:00<00:00, 101211.03it/s]\n",
      "Обработка train-clean-100\\LibriSpeech\\train-clean-100\\5163: 0it [00:00, ?it/s]\n",
      "Обработка train-clean-100\\LibriSpeech\\train-clean-100\\5163\\18515: 100%|██████████| 104/104 [00:00<00:00, 103784.82it/s]\n",
      "Обработка train-clean-100\\LibriSpeech\\train-clean-100\\5163\\39921: 100%|██████████| 116/116 [00:00<00:00, 38638.76it/s]\n",
      "Обработка train-clean-100\\LibriSpeech\\train-clean-100\\5192: 0it [00:00, ?it/s]\n",
      "Обработка train-clean-100\\LibriSpeech\\train-clean-100\\5192\\19396: 100%|██████████| 68/68 [00:00<00:00, 22410.05it/s]\n",
      "Обработка train-clean-100\\LibriSpeech\\train-clean-100\\5192\\19397: 100%|██████████| 174/174 [00:00<00:00, 42241.64it/s]\n",
      "Обработка train-clean-100\\LibriSpeech\\train-clean-100\\5322: 0it [00:00, ?it/s]\n",
      "Обработка train-clean-100\\LibriSpeech\\train-clean-100\\5322\\7678: 100%|██████████| 82/82 [00:00<00:00, 41007.86it/s]\n",
      "Обработка train-clean-100\\LibriSpeech\\train-clean-100\\5322\\7679: 100%|██████████| 80/80 [00:00<00:00, 48948.84it/s]\n",
      "Обработка train-clean-100\\LibriSpeech\\train-clean-100\\5322\\7680: 100%|██████████| 70/70 [00:00<00:00, 35027.59it/s]\n",
      "Обработка train-clean-100\\LibriSpeech\\train-clean-100\\5339: 0it [00:00, ?it/s]\n",
      "Обработка train-clean-100\\LibriSpeech\\train-clean-100\\5339\\14133: 100%|██████████| 116/116 [00:00<00:00, 57942.03it/s]\n",
      "Обработка train-clean-100\\LibriSpeech\\train-clean-100\\5339\\14134: 100%|██████████| 162/162 [00:00<00:00, 80678.85it/s]\n",
      "Обработка train-clean-100\\LibriSpeech\\train-clean-100\\5390: 0it [00:00, ?it/s]\n",
      "Обработка train-clean-100\\LibriSpeech\\train-clean-100\\5390\\24512: 100%|██████████| 102/102 [00:00<00:00, 51009.78it/s]\n",
      "Обработка train-clean-100\\LibriSpeech\\train-clean-100\\5390\\30096: 100%|██████████| 70/70 [00:00<00:00, 70105.37it/s]\n",
      "Обработка train-clean-100\\LibriSpeech\\train-clean-100\\5390\\30102: 100%|██████████| 66/66 [00:00<00:00, 32990.59it/s]\n",
      "Обработка train-clean-100\\LibriSpeech\\train-clean-100\\5393: 0it [00:00, ?it/s]\n",
      "Обработка train-clean-100\\LibriSpeech\\train-clean-100\\5393\\19218: 100%|██████████| 126/126 [00:00<00:00, 42003.04it/s]\n",
      "Обработка train-clean-100\\LibriSpeech\\train-clean-100\\5393\\19219: 100%|██████████| 128/128 [00:00<00:00, 128284.57it/s]\n",
      "Обработка train-clean-100\\LibriSpeech\\train-clean-100\\5456: 0it [00:00, ?it/s]\n",
      "Обработка train-clean-100\\LibriSpeech\\train-clean-100\\5456\\24741: 100%|██████████| 52/52 [00:00<00:00, 52103.16it/s]\n",
      "Обработка train-clean-100\\LibriSpeech\\train-clean-100\\5456\\58161: 100%|██████████| 60/60 [00:00<00:00, 29998.60it/s]\n",
      "Обработка train-clean-100\\LibriSpeech\\train-clean-100\\5456\\62014: 100%|██████████| 40/40 [00:00<00:00, 20010.99it/s]\n",
      "Обработка train-clean-100\\LibriSpeech\\train-clean-100\\5456\\62043: 100%|██████████| 80/80 [00:00<00:00, 26683.44it/s]\n",
      "Обработка train-clean-100\\LibriSpeech\\train-clean-100\\5463: 0it [00:00, ?it/s]\n",
      "Обработка train-clean-100\\LibriSpeech\\train-clean-100\\5463\\39173: 100%|██████████| 130/130 [00:00<00:00, 64133.09it/s]\n",
      "Обработка train-clean-100\\LibriSpeech\\train-clean-100\\5463\\39174: 100%|██████████| 104/104 [00:00<00:00, 51720.13it/s]\n",
      "Обработка train-clean-100\\LibriSpeech\\train-clean-100\\5514: 0it [00:00, ?it/s]\n",
      "Обработка train-clean-100\\LibriSpeech\\train-clean-100\\5514\\19192: 100%|██████████| 104/104 [00:00<00:00, 51555.09it/s]\n",
      "Обработка train-clean-100\\LibriSpeech\\train-clean-100\\5514\\19193: 100%|██████████| 74/74 [00:00<00:00, 37002.68it/s]\n",
      "Обработка train-clean-100\\LibriSpeech\\train-clean-100\\5561: 0it [00:00, ?it/s]\n",
      "Обработка train-clean-100\\LibriSpeech\\train-clean-100\\5561\\39621: 100%|██████████| 94/94 [00:00<00:00, 47014.62it/s]\n",
      "Обработка train-clean-100\\LibriSpeech\\train-clean-100\\5561\\41615: 100%|██████████| 100/100 [00:00<00:00, 39733.84it/s]\n",
      "Обработка train-clean-100\\LibriSpeech\\train-clean-100\\5561\\41616: 100%|██████████| 80/80 [00:00<00:00, 39998.13it/s]\n",
      "Обработка train-clean-100\\LibriSpeech\\train-clean-100\\5652: 0it [00:00, ?it/s]\n",
      "Обработка train-clean-100\\LibriSpeech\\train-clean-100\\5652\\19215: 100%|██████████| 128/128 [00:00<00:00, 55860.05it/s]\n",
      "Обработка train-clean-100\\LibriSpeech\\train-clean-100\\5652\\39938: 100%|██████████| 136/136 [00:00<00:00, 54068.75it/s]\n",
      "Обработка train-clean-100\\LibriSpeech\\train-clean-100\\5678: 0it [00:00, ?it/s]\n",
      "Обработка train-clean-100\\LibriSpeech\\train-clean-100\\5678\\43301: 100%|██████████| 58/58 [00:00<00:00, 22926.17it/s]\n",
      "Обработка train-clean-100\\LibriSpeech\\train-clean-100\\5678\\43302: 100%|██████████| 84/84 [00:00<00:00, 83926.04it/s]\n",
      "Обработка train-clean-100\\LibriSpeech\\train-clean-100\\5678\\43303: 100%|██████████| 80/80 [00:00<00:00, 26694.06it/s]\n",
      "Обработка train-clean-100\\LibriSpeech\\train-clean-100\\5688: 0it [00:00, ?it/s]\n",
      "Обработка train-clean-100\\LibriSpeech\\train-clean-100\\5688\\15787: 100%|██████████| 94/94 [00:00<00:00, 46997.80it/s]\n",
      "Обработка train-clean-100\\LibriSpeech\\train-clean-100\\5688\\41232: 100%|██████████| 156/156 [00:00<00:00, 51999.64it/s]\n",
      "Обработка train-clean-100\\LibriSpeech\\train-clean-100\\5703: 0it [00:00, ?it/s]\n",
      "Обработка train-clean-100\\LibriSpeech\\train-clean-100\\5703\\47198: 100%|██████████| 122/122 [00:00<00:00, 60997.15it/s]\n",
      "Обработка train-clean-100\\LibriSpeech\\train-clean-100\\5703\\47212: 100%|██████████| 108/108 [00:00<00:00, 36042.71it/s]\n",
      "Обработка train-clean-100\\LibriSpeech\\train-clean-100\\5750: 0it [00:00, ?it/s]\n",
      "Обработка train-clean-100\\LibriSpeech\\train-clean-100\\5750\\100289: 100%|██████████| 180/180 [00:00<00:00, 119212.81it/s]\n",
      "Обработка train-clean-100\\LibriSpeech\\train-clean-100\\5750\\35690: 100%|██████████| 68/68 [00:00<00:00, 33998.41it/s]\n",
      "Обработка train-clean-100\\LibriSpeech\\train-clean-100\\5778: 0it [00:00, ?it/s]\n",
      "Обработка train-clean-100\\LibriSpeech\\train-clean-100\\5778\\12761: 100%|██████████| 102/102 [00:00<00:00, 34021.39it/s]\n",
      "Обработка train-clean-100\\LibriSpeech\\train-clean-100\\5778\\54535: 100%|██████████| 100/100 [00:00<00:00, 50021.51it/s]\n",
      "Обработка train-clean-100\\LibriSpeech\\train-clean-100\\5789: 0it [00:00, ?it/s]\n",
      "Обработка train-clean-100\\LibriSpeech\\train-clean-100\\5789\\57158: 100%|██████████| 76/76 [00:00<00:00, 37392.04it/s]\n",
      "Обработка train-clean-100\\LibriSpeech\\train-clean-100\\5789\\57195: 100%|██████████| 78/78 [00:00<00:00, 39068.03it/s]\n",
      "Обработка train-clean-100\\LibriSpeech\\train-clean-100\\5789\\70653: 100%|██████████| 76/76 [00:00<00:00, 43553.37it/s]\n",
      "Обработка train-clean-100\\LibriSpeech\\train-clean-100\\5808: 0it [00:00, ?it/s]\n",
      "Обработка train-clean-100\\LibriSpeech\\train-clean-100\\5808\\48608: 100%|██████████| 124/124 [00:00<00:00, 41293.66it/s]\n",
      "Обработка train-clean-100\\LibriSpeech\\train-clean-100\\5808\\54425: 100%|██████████| 120/120 [00:00<00:00, 59990.05it/s]\n",
      "Обработка train-clean-100\\LibriSpeech\\train-clean-100\\5867: 0it [00:00, ?it/s]\n",
      "Обработка train-clean-100\\LibriSpeech\\train-clean-100\\5867\\48852: 100%|██████████| 228/228 [00:00<00:00, 114035.45it/s]\n",
      "Обработка train-clean-100\\LibriSpeech\\train-clean-100\\587: 0it [00:00, ?it/s]\n",
      "Обработка train-clean-100\\LibriSpeech\\train-clean-100\\587\\41611: 100%|██████████| 62/62 [00:00<00:00, 31109.80it/s]\n",
      "Обработка train-clean-100\\LibriSpeech\\train-clean-100\\587\\41619: 100%|██████████| 60/60 [00:00<00:00, 41479.85it/s]\n",
      "Обработка train-clean-100\\LibriSpeech\\train-clean-100\\587\\54108: 100%|██████████| 118/118 [00:00<00:00, 118205.84it/s]\n",
      "Обработка train-clean-100\\LibriSpeech\\train-clean-100\\60: 0it [00:00, ?it/s]\n",
      "Обработка train-clean-100\\LibriSpeech\\train-clean-100\\60\\121082: 100%|██████████| 196/196 [00:00<00:00, 97972.06it/s]\n",
      "Обработка train-clean-100\\LibriSpeech\\train-clean-100\\6000: 0it [00:00, ?it/s]\n",
      "Обработка train-clean-100\\LibriSpeech\\train-clean-100\\6000\\55211: 100%|██████████| 126/126 [00:00<00:00, 41919.75it/s]\n",
      "Обработка train-clean-100\\LibriSpeech\\train-clean-100\\6000\\86686: 100%|██████████| 54/54 [00:00<00:00, 26832.42it/s]\n",
      "Обработка train-clean-100\\LibriSpeech\\train-clean-100\\6019: 0it [00:00, ?it/s]\n",
      "Обработка train-clean-100\\LibriSpeech\\train-clean-100\\6019\\3185: 100%|██████████| 226/226 [00:00<00:00, 56413.30it/s]\n",
      "Обработка train-clean-100\\LibriSpeech\\train-clean-100\\6064: 0it [00:00, ?it/s]\n",
      "Обработка train-clean-100\\LibriSpeech\\train-clean-100\\6064\\300880: 100%|██████████| 80/80 [00:00<00:00, 39841.41it/s]\n",
      "Обработка train-clean-100\\LibriSpeech\\train-clean-100\\6064\\56165: 100%|██████████| 76/76 [00:00<00:00, 21593.76it/s]\n",
      "Обработка train-clean-100\\LibriSpeech\\train-clean-100\\6064\\56168: 100%|██████████| 70/70 [00:00<00:00, 35040.13it/s]\n",
      "Обработка train-clean-100\\LibriSpeech\\train-clean-100\\6078: 0it [00:00, ?it/s]\n",
      "Обработка train-clean-100\\LibriSpeech\\train-clean-100\\6078\\54007: 100%|██████████| 106/106 [00:00<00:00, 52965.95it/s]\n",
      "Обработка train-clean-100\\LibriSpeech\\train-clean-100\\6078\\54013: 100%|██████████| 162/162 [00:00<00:00, 40408.99it/s]\n",
      "Обработка train-clean-100\\LibriSpeech\\train-clean-100\\6081: 0it [00:00, ?it/s]\n",
      "Обработка train-clean-100\\LibriSpeech\\train-clean-100\\6081\\41997: 100%|██████████| 80/80 [00:00<00:00, 40036.31it/s]\n",
      "Обработка train-clean-100\\LibriSpeech\\train-clean-100\\6081\\41998: 100%|██████████| 90/90 [00:00<00:00, 89899.35it/s]\n",
      "Обработка train-clean-100\\LibriSpeech\\train-clean-100\\6081\\42010: 100%|██████████| 78/78 [00:00<00:00, 25903.07it/s]\n",
      "Обработка train-clean-100\\LibriSpeech\\train-clean-100\\6147: 0it [00:00, ?it/s]\n",
      "Обработка train-clean-100\\LibriSpeech\\train-clean-100\\6147\\34605: 100%|██████████| 84/84 [00:00<00:00, 41798.73it/s]\n",
      "Обработка train-clean-100\\LibriSpeech\\train-clean-100\\6147\\34606: 100%|██████████| 72/72 [00:00<00:00, 36011.20it/s]\n",
      "Обработка train-clean-100\\LibriSpeech\\train-clean-100\\6147\\34607: 100%|██████████| 84/84 [00:00<00:00, 27897.82it/s]\n",
      "Обработка train-clean-100\\LibriSpeech\\train-clean-100\\6181: 0it [00:00, ?it/s]\n",
      "Обработка train-clean-100\\LibriSpeech\\train-clean-100\\6181\\216552: 100%|██████████| 230/230 [00:00<00:00, 114953.52it/s]\n",
      "Обработка train-clean-100\\LibriSpeech\\train-clean-100\\6209: 0it [00:00, ?it/s]\n",
      "Обработка train-clean-100\\LibriSpeech\\train-clean-100\\6209\\34599: 100%|██████████| 80/80 [00:00<00:00, 39983.83it/s]\n",
      "Обработка train-clean-100\\LibriSpeech\\train-clean-100\\6209\\34600: 100%|██████████| 74/74 [00:00<00:00, 48217.88it/s]\n",
      "Обработка train-clean-100\\LibriSpeech\\train-clean-100\\6209\\34601: 100%|██████████| 80/80 [00:00<00:00, 39936.24it/s]\n",
      "Обработка train-clean-100\\LibriSpeech\\train-clean-100\\625: 0it [00:00, ?it/s]\n",
      "Обработка train-clean-100\\LibriSpeech\\train-clean-100\\625\\132112: 100%|██████████| 120/120 [00:00<00:00, 59990.05it/s]\n",
      "Обработка train-clean-100\\LibriSpeech\\train-clean-100\\625\\132118: 100%|██████████| 104/104 [00:00<00:00, 52028.58it/s]\n",
      "Обработка train-clean-100\\LibriSpeech\\train-clean-100\\6272: 0it [00:00, ?it/s]\n",
      "Обработка train-clean-100\\LibriSpeech\\train-clean-100\\6272\\70168: 100%|██████████| 72/72 [00:00<00:00, 36015.49it/s]\n",
      "Обработка train-clean-100\\LibriSpeech\\train-clean-100\\6272\\70171: 100%|██████████| 86/86 [00:00<00:00, 85233.97it/s]\n",
      "Обработка train-clean-100\\LibriSpeech\\train-clean-100\\6272\\70191: 100%|██████████| 78/78 [00:00<00:00, 39054.04it/s]\n",
      "Обработка train-clean-100\\LibriSpeech\\train-clean-100\\6367: 0it [00:00, ?it/s]\n",
      "Обработка train-clean-100\\LibriSpeech\\train-clean-100\\6367\\65536: 100%|██████████| 152/152 [00:00<00:00, 63404.69it/s]\n",
      "Обработка train-clean-100\\LibriSpeech\\train-clean-100\\6367\\74004: 100%|██████████| 78/78 [00:00<00:00, 38988.88it/s]\n",
      "Обработка train-clean-100\\LibriSpeech\\train-clean-100\\6385: 0it [00:00, ?it/s]\n",
      "Обработка train-clean-100\\LibriSpeech\\train-clean-100\\6385\\220959: 100%|██████████| 90/90 [00:00<00:00, 22450.78it/s]\n",
      "Обработка train-clean-100\\LibriSpeech\\train-clean-100\\6385\\34655: 100%|██████████| 74/74 [00:00<00:00, 36980.64it/s]\n",
      "Обработка train-clean-100\\LibriSpeech\\train-clean-100\\6385\\34669: 100%|██████████| 68/68 [00:00<00:00, 33933.69it/s]\n",
      "Обработка train-clean-100\\LibriSpeech\\train-clean-100\\6415: 0it [00:00, ?it/s]\n",
      "Обработка train-clean-100\\LibriSpeech\\train-clean-100\\6415\\100596: 100%|██████████| 74/74 [00:00<00:00, 36848.93it/s]\n",
      "Обработка train-clean-100\\LibriSpeech\\train-clean-100\\6415\\111615: 100%|██████████| 82/82 [00:00<00:00, 58057.55it/s]\n",
      "Обработка train-clean-100\\LibriSpeech\\train-clean-100\\6415\\116629: 100%|██████████| 82/82 [00:00<00:00, 82084.23it/s]\n",
      "Обработка train-clean-100\\LibriSpeech\\train-clean-100\\6437: 0it [00:00, ?it/s]\n",
      "Обработка train-clean-100\\LibriSpeech\\train-clean-100\\6437\\66172: 100%|██████████| 92/92 [00:00<00:00, 45975.93it/s]\n",
      "Обработка train-clean-100\\LibriSpeech\\train-clean-100\\6437\\66173: 100%|██████████| 128/128 [00:00<00:00, 63829.62it/s]\n",
      "Обработка train-clean-100\\LibriSpeech\\train-clean-100\\6454: 0it [00:00, ?it/s]\n",
      "Обработка train-clean-100\\LibriSpeech\\train-clean-100\\6454\\107462: 100%|██████████| 78/78 [00:00<00:00, 77968.47it/s]\n",
      "Обработка train-clean-100\\LibriSpeech\\train-clean-100\\6454\\120342: 100%|██████████| 74/74 [00:00<00:00, 40225.31it/s]\n",
      "Обработка train-clean-100\\LibriSpeech\\train-clean-100\\6454\\93938: 100%|██████████| 74/74 [00:00<00:00, 73444.98it/s]\n",
      "Обработка train-clean-100\\LibriSpeech\\train-clean-100\\6476: 0it [00:00, ?it/s]\n",
      "Обработка train-clean-100\\LibriSpeech\\train-clean-100\\6476\\57446: 100%|██████████| 178/178 [00:00<00:00, 89102.05it/s]\n",
      "Обработка train-clean-100\\LibriSpeech\\train-clean-100\\6476\\96661: 100%|██████████| 62/62 [00:00<00:00, 61945.41it/s]\n",
      "Обработка train-clean-100\\LibriSpeech\\train-clean-100\\6529: 0it [00:00, ?it/s]\n",
      "Обработка train-clean-100\\LibriSpeech\\train-clean-100\\6529\\62554: 100%|██████████| 116/116 [00:00<00:00, 115211.76it/s]\n",
      "Обработка train-clean-100\\LibriSpeech\\train-clean-100\\6529\\62556: 100%|██████████| 102/102 [00:00<00:00, 34029.51it/s]\n",
      "Обработка train-clean-100\\LibriSpeech\\train-clean-100\\6531: 0it [00:00, ?it/s]\n",
      "Обработка train-clean-100\\LibriSpeech\\train-clean-100\\6531\\61334: 100%|██████████| 268/268 [00:00<00:00, 89311.42it/s]\n",
      "Обработка train-clean-100\\LibriSpeech\\train-clean-100\\6563: 0it [00:00, ?it/s]\n",
      "Обработка train-clean-100\\LibriSpeech\\train-clean-100\\6563\\285357: 100%|██████████| 92/92 [00:00<00:00, 45915.75it/s]\n",
      "Обработка train-clean-100\\LibriSpeech\\train-clean-100\\6563\\63821: 100%|██████████| 96/96 [00:00<00:00, 48009.20it/s]\n",
      "Обработка train-clean-100\\LibriSpeech\\train-clean-100\\669: 0it [00:00, ?it/s]\n",
      "Обработка train-clean-100\\LibriSpeech\\train-clean-100\\669\\129061: 100%|██████████| 174/174 [00:00<00:00, 173929.67it/s]\n",
      "Обработка train-clean-100\\LibriSpeech\\train-clean-100\\669\\129074: 100%|██████████| 66/66 [00:00<00:00, 32986.66it/s]\n",
      "Обработка train-clean-100\\LibriSpeech\\train-clean-100\\6818: 0it [00:00, ?it/s]\n",
      "Обработка train-clean-100\\LibriSpeech\\train-clean-100\\6818\\68772: 100%|██████████| 102/102 [00:00<00:00, 50967.24it/s]\n",
      "Обработка train-clean-100\\LibriSpeech\\train-clean-100\\6818\\76332: 100%|██████████| 116/116 [00:00<00:00, 38666.40it/s]\n",
      "Обработка train-clean-100\\LibriSpeech\\train-clean-100\\6836: 0it [00:00, ?it/s]\n",
      "Обработка train-clean-100\\LibriSpeech\\train-clean-100\\6836\\61803: 100%|██████████| 90/90 [00:00<00:00, 89177.26it/s]\n",
      "Обработка train-clean-100\\LibriSpeech\\train-clean-100\\6836\\61804: 100%|██████████| 80/80 [00:00<00:00, 5506.23it/s]\n",
      "Обработка train-clean-100\\LibriSpeech\\train-clean-100\\6836\\76549: 100%|██████████| 68/68 [00:00<00:00, 67875.46it/s]\n",
      "Обработка train-clean-100\\LibriSpeech\\train-clean-100\\6848: 0it [00:00, ?it/s]\n",
      "Обработка train-clean-100\\LibriSpeech\\train-clean-100\\6848\\252322: 100%|██████████| 66/66 [00:00<00:00, 22008.59it/s]\n",
      "Обработка train-clean-100\\LibriSpeech\\train-clean-100\\6848\\252323: 100%|██████████| 84/84 [00:00<00:00, 28006.48it/s]\n",
      "Обработка train-clean-100\\LibriSpeech\\train-clean-100\\6848\\76049: 100%|██████████| 74/74 [00:00<00:00, 24398.91it/s]\n",
      "Обработка train-clean-100\\LibriSpeech\\train-clean-100\\6880: 0it [00:00, ?it/s]\n",
      "Обработка train-clean-100\\LibriSpeech\\train-clean-100\\6880\\216547: 100%|██████████| 234/234 [00:00<00:00, 77770.77it/s]\n",
      "Обработка train-clean-100\\LibriSpeech\\train-clean-100\\6925: 0it [00:00, ?it/s]\n",
      "Обработка train-clean-100\\LibriSpeech\\train-clean-100\\6925\\80680: 100%|██████████| 174/174 [00:00<00:00, 57880.00it/s]\n",
      "Обработка train-clean-100\\LibriSpeech\\train-clean-100\\696: 0it [00:00, ?it/s]\n",
      "Обработка train-clean-100\\LibriSpeech\\train-clean-100\\696\\92939: 100%|██████████| 82/82 [00:00<00:00, 41066.62it/s]\n",
      "Обработка train-clean-100\\LibriSpeech\\train-clean-100\\696\\93314: 100%|██████████| 138/138 [00:00<00:00, 69112.11it/s]\n",
      "Обработка train-clean-100\\LibriSpeech\\train-clean-100\\7059: 0it [00:00, ?it/s]\n",
      "Обработка train-clean-100\\LibriSpeech\\train-clean-100\\7059\\77897: 100%|██████████| 68/68 [00:00<00:00, 34030.86it/s]\n",
      "Обработка train-clean-100\\LibriSpeech\\train-clean-100\\7059\\77900: 100%|██████████| 88/88 [00:00<00:00, 29344.79it/s]\n",
      "Обработка train-clean-100\\LibriSpeech\\train-clean-100\\7059\\88364: 100%|██████████| 72/72 [00:00<00:00, 35882.83it/s]\n",
      "Обработка train-clean-100\\LibriSpeech\\train-clean-100\\7067: 0it [00:00, ?it/s]\n",
      "Обработка train-clean-100\\LibriSpeech\\train-clean-100\\7067\\76047: 100%|██████████| 102/102 [00:00<00:00, 50659.44it/s]\n",
      "Обработка train-clean-100\\LibriSpeech\\train-clean-100\\7067\\76048: 100%|██████████| 124/124 [00:00<00:00, 62048.88it/s]\n",
      "Обработка train-clean-100\\LibriSpeech\\train-clean-100\\7078: 0it [00:00, ?it/s]\n",
      "Обработка train-clean-100\\LibriSpeech\\train-clean-100\\7078\\271888: 100%|██████████| 232/232 [00:00<00:00, 108276.24it/s]\n",
      "Обработка train-clean-100\\LibriSpeech\\train-clean-100\\7113: 0it [00:00, ?it/s]\n",
      "Обработка train-clean-100\\LibriSpeech\\train-clean-100\\7113\\86041: 100%|██████████| 224/224 [00:00<00:00, 74743.36it/s]\n",
      "Обработка train-clean-100\\LibriSpeech\\train-clean-100\\7148: 0it [00:00, ?it/s]\n",
      "Обработка train-clean-100\\LibriSpeech\\train-clean-100\\7148\\59157: 100%|██████████| 86/86 [00:00<00:00, 42707.81it/s]\n",
      "Обработка train-clean-100\\LibriSpeech\\train-clean-100\\7148\\7763: 100%|██████████| 74/74 [00:00<00:00, 29692.77it/s]\n",
      "Обработка train-clean-100\\LibriSpeech\\train-clean-100\\7148\\82991: 100%|██████████| 76/76 [00:00<00:00, 37813.42it/s]\n",
      "Обработка train-clean-100\\LibriSpeech\\train-clean-100\\7178: 0it [00:00, ?it/s]\n",
      "Обработка train-clean-100\\LibriSpeech\\train-clean-100\\7178\\34644: 100%|██████████| 154/154 [00:00<00:00, 56949.64it/s]\n",
      "Обработка train-clean-100\\LibriSpeech\\train-clean-100\\7178\\34645: 100%|██████████| 80/80 [00:00<00:00, 39888.77it/s]\n",
      "Обработка train-clean-100\\LibriSpeech\\train-clean-100\\7190: 0it [00:00, ?it/s]\n",
      "Обработка train-clean-100\\LibriSpeech\\train-clean-100\\7190\\90542: 100%|██████████| 170/170 [00:00<00:00, 85067.01it/s]\n",
      "Обработка train-clean-100\\LibriSpeech\\train-clean-100\\7190\\90543: 100%|██████████| 96/96 [00:00<00:00, 47969.17it/s]\n",
      "Обработка train-clean-100\\LibriSpeech\\train-clean-100\\7226: 0it [00:00, ?it/s]\n",
      "Обработка train-clean-100\\LibriSpeech\\train-clean-100\\7226\\86964: 100%|██████████| 124/124 [00:00<00:00, 123979.43it/s]\n",
      "Обработка train-clean-100\\LibriSpeech\\train-clean-100\\7226\\86965: 100%|██████████| 102/102 [00:00<00:00, 50749.59it/s]\n",
      "Обработка train-clean-100\\LibriSpeech\\train-clean-100\\7264: 0it [00:00, ?it/s]\n",
      "Обработка train-clean-100\\LibriSpeech\\train-clean-100\\7264\\92310: 100%|██████████| 68/68 [00:00<00:00, 33929.65it/s]\n",
      "Обработка train-clean-100\\LibriSpeech\\train-clean-100\\7264\\92314: 100%|██████████| 66/66 [00:00<00:00, 33018.14it/s]\n",
      "Обработка train-clean-100\\LibriSpeech\\train-clean-100\\7264\\92316: 100%|██████████| 94/94 [00:00<00:00, 23493.30it/s]\n",
      "Обработка train-clean-100\\LibriSpeech\\train-clean-100\\7278: 0it [00:00, ?it/s]\n",
      "Обработка train-clean-100\\LibriSpeech\\train-clean-100\\7278\\104730: 100%|██████████| 88/88 [00:00<00:00, 32368.57it/s]\n",
      "Обработка train-clean-100\\LibriSpeech\\train-clean-100\\7278\\246956: 100%|██████████| 74/74 [00:00<00:00, 37055.69it/s]\n",
      "Обработка train-clean-100\\LibriSpeech\\train-clean-100\\7278\\91083: 100%|██████████| 86/86 [00:00<00:00, 28686.98it/s]\n",
      "Обработка train-clean-100\\LibriSpeech\\train-clean-100\\730: 0it [00:00, ?it/s]\n",
      "Обработка train-clean-100\\LibriSpeech\\train-clean-100\\730\\358: 100%|██████████| 132/132 [00:00<00:00, 131978.10it/s]\n",
      "Обработка train-clean-100\\LibriSpeech\\train-clean-100\\730\\359: 100%|██████████| 104/104 [00:00<00:00, 23981.95it/s]\n",
      "Обработка train-clean-100\\LibriSpeech\\train-clean-100\\730\\360: 100%|██████████| 92/92 [00:00<00:00, 46052.75it/s]\n",
      "Обработка train-clean-100\\LibriSpeech\\train-clean-100\\7302: 0it [00:00, ?it/s]\n",
      "Обработка train-clean-100\\LibriSpeech\\train-clean-100\\7302\\86814: 100%|██████████| 102/102 [00:00<00:00, 34018.69it/s]\n",
      "Обработка train-clean-100\\LibriSpeech\\train-clean-100\\7302\\86815: 100%|██████████| 172/172 [00:00<00:00, 85934.52it/s]\n",
      "Обработка train-clean-100\\LibriSpeech\\train-clean-100\\7312: 0it [00:00, ?it/s]\n",
      "Обработка train-clean-100\\LibriSpeech\\train-clean-100\\7312\\92432: 100%|██████████| 54/54 [00:00<00:00, 21435.97it/s]\n",
      "Обработка train-clean-100\\LibriSpeech\\train-clean-100\\7367: 0it [00:00, ?it/s]\n",
      "Обработка train-clean-100\\LibriSpeech\\train-clean-100\\7367\\86737: 100%|██████████| 240/240 [00:00<00:00, 119439.13it/s]\n",
      "Обработка train-clean-100\\LibriSpeech\\train-clean-100\\7402: 0it [00:00, ?it/s]\n",
      "Обработка train-clean-100\\LibriSpeech\\train-clean-100\\7402\\59171: 100%|██████████| 100/100 [00:00<00:00, 50081.24it/s]\n",
      "Обработка train-clean-100\\LibriSpeech\\train-clean-100\\7402\\90848: 100%|██████████| 128/128 [00:00<00:00, 63632.92it/s]\n",
      "Обработка train-clean-100\\LibriSpeech\\train-clean-100\\7447: 0it [00:00, ?it/s]\n",
      "Обработка train-clean-100\\LibriSpeech\\train-clean-100\\7447\\91186: 100%|██████████| 90/90 [00:00<00:00, 45051.60it/s]\n",
      "Обработка train-clean-100\\LibriSpeech\\train-clean-100\\7447\\91187: 100%|██████████| 142/142 [00:00<00:00, 70971.30it/s]\n",
      "Обработка train-clean-100\\LibriSpeech\\train-clean-100\\7505: 0it [00:00, ?it/s]\n",
      "Обработка train-clean-100\\LibriSpeech\\train-clean-100\\7505\\258958: 100%|██████████| 74/74 [00:00<00:00, 29453.26it/s]\n",
      "Обработка train-clean-100\\LibriSpeech\\train-clean-100\\7505\\258964: 100%|██████████| 106/106 [00:00<00:00, 52808.67it/s]\n",
      "Обработка train-clean-100\\LibriSpeech\\train-clean-100\\7505\\83618: 100%|██████████| 56/56 [00:00<00:00, 55990.71it/s]\n",
      "Обработка train-clean-100\\LibriSpeech\\train-clean-100\\7511: 0it [00:00, ?it/s]\n",
      "Обработка train-clean-100\\LibriSpeech\\train-clean-100\\7511\\102419: 100%|██████████| 116/116 [00:00<00:00, 58052.65it/s]\n",
      "Обработка train-clean-100\\LibriSpeech\\train-clean-100\\7511\\102420: 100%|██████████| 104/104 [00:00<00:00, 51929.48it/s]\n",
      "Обработка train-clean-100\\LibriSpeech\\train-clean-100\\7517: 0it [00:00, ?it/s]\n",
      "Обработка train-clean-100\\LibriSpeech\\train-clean-100\\7517\\100429: 100%|██████████| 68/68 [00:00<00:00, 34026.80it/s]\n",
      "Обработка train-clean-100\\LibriSpeech\\train-clean-100\\7517\\100437: 100%|██████████| 72/72 [00:00<00:00, 28621.92it/s]\n",
      "Обработка train-clean-100\\LibriSpeech\\train-clean-100\\7517\\100442: 100%|██████████| 72/72 [00:00<00:00, 36028.38it/s]\n",
      "Обработка train-clean-100\\LibriSpeech\\train-clean-100\\7635: 0it [00:00, ?it/s]\n",
      "Обработка train-clean-100\\LibriSpeech\\train-clean-100\\7635\\105409: 100%|██████████| 146/146 [00:00<00:00, 73022.70it/s]\n",
      "Обработка train-clean-100\\LibriSpeech\\train-clean-100\\7635\\105661: 100%|██████████| 102/102 [00:00<00:00, 34013.28it/s]\n",
      "Обработка train-clean-100\\LibriSpeech\\train-clean-100\\7780: 0it [00:00, ?it/s]\n",
      "Обработка train-clean-100\\LibriSpeech\\train-clean-100\\7780\\274562: 100%|██████████| 214/214 [00:00<00:00, 71383.89it/s]\n",
      "Обработка train-clean-100\\LibriSpeech\\train-clean-100\\7794: 0it [00:00, ?it/s]\n",
      "Обработка train-clean-100\\LibriSpeech\\train-clean-100\\7794\\295947: 100%|██████████| 96/96 [00:00<00:00, 47843.77it/s]\n",
      "Обработка train-clean-100\\LibriSpeech\\train-clean-100\\7794\\295948: 100%|██████████| 56/56 [00:00<00:00, 28032.11it/s]\n",
      "Обработка train-clean-100\\LibriSpeech\\train-clean-100\\7794\\295955: 100%|██████████| 66/66 [00:00<00:00, 33006.33it/s]\n",
      "Обработка train-clean-100\\LibriSpeech\\train-clean-100\\78: 0it [00:00, ?it/s]\n",
      "Обработка train-clean-100\\LibriSpeech\\train-clean-100\\78\\368: 100%|██████████| 110/110 [00:00<00:00, 55056.50it/s]\n",
      "Обработка train-clean-100\\LibriSpeech\\train-clean-100\\78\\369: 100%|██████████| 130/130 [00:00<00:00, 43381.30it/s]\n",
      "Обработка train-clean-100\\LibriSpeech\\train-clean-100\\7800: 0it [00:00, ?it/s]\n",
      "Обработка train-clean-100\\LibriSpeech\\train-clean-100\\7800\\283478: 100%|██████████| 72/72 [00:00<00:00, 71833.94it/s]\n",
      "Обработка train-clean-100\\LibriSpeech\\train-clean-100\\7800\\283492: 100%|██████████| 84/84 [00:00<00:00, 41873.25it/s]\n",
      "Обработка train-clean-100\\LibriSpeech\\train-clean-100\\7800\\283493: 100%|██████████| 80/80 [00:00<00:00, 40007.67it/s]\n",
      "Обработка train-clean-100\\LibriSpeech\\train-clean-100\\7859: 0it [00:00, ?it/s]\n",
      "Обработка train-clean-100\\LibriSpeech\\train-clean-100\\7859\\102518: 100%|██████████| 72/72 [00:00<00:00, 71988.05it/s]\n",
      "Обработка train-clean-100\\LibriSpeech\\train-clean-100\\7859\\102519: 100%|██████████| 116/116 [00:00<00:00, 116230.12it/s]\n",
      "Обработка train-clean-100\\LibriSpeech\\train-clean-100\\7859\\102521: 100%|██████████| 38/38 [00:00<00:00, 19014.98it/s]\n",
      "Обработка train-clean-100\\LibriSpeech\\train-clean-100\\8014: 0it [00:00, ?it/s]\n",
      "Обработка train-clean-100\\LibriSpeech\\train-clean-100\\8014\\112586: 100%|██████████| 44/44 [00:00<00:00, 22710.97it/s]\n",
      "Обработка train-clean-100\\LibriSpeech\\train-clean-100\\8014\\112602: 100%|██████████| 86/86 [00:00<00:00, 34045.32it/s]\n",
      "Обработка train-clean-100\\LibriSpeech\\train-clean-100\\8014\\280382: 100%|██████████| 28/28 [00:00<00:00, 9322.16it/s]\n",
      "Обработка train-clean-100\\LibriSpeech\\train-clean-100\\8051: 0it [00:00, ?it/s]\n",
      "Обработка train-clean-100\\LibriSpeech\\train-clean-100\\8051\\118101: 100%|██████████| 78/78 [00:00<00:00, 78042.87it/s]\n",
      "Обработка train-clean-100\\LibriSpeech\\train-clean-100\\8051\\119902: 100%|██████████| 80/80 [00:00<00:00, 39841.41it/s]\n",
      "Обработка train-clean-100\\LibriSpeech\\train-clean-100\\8051\\295385: 100%|██████████| 80/80 [00:00<00:00, 80005.80it/s]\n",
      "Обработка train-clean-100\\LibriSpeech\\train-clean-100\\8063: 0it [00:00, ?it/s]\n",
      "Обработка train-clean-100\\LibriSpeech\\train-clean-100\\8063\\274112: 100%|██████████| 84/84 [00:00<00:00, 64515.94it/s]\n",
      "Обработка train-clean-100\\LibriSpeech\\train-clean-100\\8063\\274115: 100%|██████████| 76/76 [00:00<00:00, 37804.45it/s]\n",
      "Обработка train-clean-100\\LibriSpeech\\train-clean-100\\8063\\274116: 100%|██████████| 84/84 [00:00<00:00, 83389.71it/s]\n",
      "Обработка train-clean-100\\LibriSpeech\\train-clean-100\\8063\\274117: 100%|██████████| 74/74 [00:00<00:00, 36897.11it/s]\n",
      "Обработка train-clean-100\\LibriSpeech\\train-clean-100\\8088: 0it [00:00, ?it/s]\n",
      "Обработка train-clean-100\\LibriSpeech\\train-clean-100\\8088\\284756: 100%|██████████| 242/242 [00:00<00:00, 80743.10it/s]\n",
      "Обработка train-clean-100\\LibriSpeech\\train-clean-100\\8095: 0it [00:00, ?it/s]\n",
      "Обработка train-clean-100\\LibriSpeech\\train-clean-100\\8095\\274345: 100%|██████████| 74/74 [00:00<00:00, 37020.34it/s]\n",
      "Обработка train-clean-100\\LibriSpeech\\train-clean-100\\8095\\274346: 100%|██████████| 118/118 [00:00<00:00, 29491.59it/s]\n",
      "Обработка train-clean-100\\LibriSpeech\\train-clean-100\\8095\\274348: 100%|██████████| 38/38 [00:00<00:00, 18990.06it/s]\n",
      "Обработка train-clean-100\\LibriSpeech\\train-clean-100\\8098: 0it [00:00, ?it/s]\n",
      "Обработка train-clean-100\\LibriSpeech\\train-clean-100\\8098\\275181: 100%|██████████| 70/70 [00:00<00:00, 23331.32it/s]\n",
      "Обработка train-clean-100\\LibriSpeech\\train-clean-100\\8098\\278252: 100%|██████████| 84/84 [00:00<00:00, 41973.02it/s]\n",
      "Обработка train-clean-100\\LibriSpeech\\train-clean-100\\8098\\278278: 100%|██████████| 84/84 [00:00<00:00, 27997.58it/s]\n",
      "Обработка train-clean-100\\LibriSpeech\\train-clean-100\\8108: 0it [00:00, ?it/s]\n",
      "Обработка train-clean-100\\LibriSpeech\\train-clean-100\\8108\\274318: 100%|██████████| 100/100 [00:00<00:00, 49490.31it/s]\n",
      "Обработка train-clean-100\\LibriSpeech\\train-clean-100\\8108\\280354: 100%|██████████| 66/66 [00:00<00:00, 66162.54it/s]\n",
      "Обработка train-clean-100\\LibriSpeech\\train-clean-100\\8108\\280359: 100%|██████████| 60/60 [00:00<00:00, 29859.78it/s]\n",
      "Обработка train-clean-100\\LibriSpeech\\train-clean-100\\8123: 0it [00:00, ?it/s]\n",
      "Обработка train-clean-100\\LibriSpeech\\train-clean-100\\8123\\275193: 100%|██████████| 58/58 [00:00<00:00, 29235.62it/s]\n",
      "Обработка train-clean-100\\LibriSpeech\\train-clean-100\\8123\\275209: 100%|██████████| 72/72 [00:00<00:00, 35853.01it/s]\n",
      "Обработка train-clean-100\\LibriSpeech\\train-clean-100\\8123\\275216: 100%|██████████| 94/94 [00:00<00:00, 47003.41it/s]\n",
      "Обработка train-clean-100\\LibriSpeech\\train-clean-100\\8226: 0it [00:00, ?it/s]\n",
      "Обработка train-clean-100\\LibriSpeech\\train-clean-100\\8226\\274369: 100%|██████████| 130/130 [00:00<00:00, 64950.51it/s]\n",
      "Обработка train-clean-100\\LibriSpeech\\train-clean-100\\8226\\274371: 100%|██████████| 110/110 [00:00<00:00, 55036.79it/s]\n",
      "Обработка train-clean-100\\LibriSpeech\\train-clean-100\\8238: 0it [00:00, ?it/s]\n",
      "Обработка train-clean-100\\LibriSpeech\\train-clean-100\\8238\\274553: 100%|██████████| 152/152 [00:00<00:00, 75915.00it/s]\n",
      "Обработка train-clean-100\\LibriSpeech\\train-clean-100\\8238\\283452: 100%|██████████| 98/98 [00:00<00:00, 48863.74it/s]\n",
      "Обработка train-clean-100\\LibriSpeech\\train-clean-100\\83: 0it [00:00, ?it/s]\n",
      "Обработка train-clean-100\\LibriSpeech\\train-clean-100\\83\\11691: 100%|██████████| 94/94 [00:00<00:00, 47025.83it/s]\n",
      "Обработка train-clean-100\\LibriSpeech\\train-clean-100\\83\\3054: 100%|██████████| 42/42 [00:00<00:00, 41913.10it/s]\n",
      "Обработка train-clean-100\\LibriSpeech\\train-clean-100\\83\\9960: 100%|██████████| 116/116 [00:00<00:00, 115925.49it/s]\n",
      "Обработка train-clean-100\\LibriSpeech\\train-clean-100\\831: 0it [00:00, ?it/s]\n",
      "Обработка train-clean-100\\LibriSpeech\\train-clean-100\\831\\130739: 100%|██████████| 128/128 [00:00<00:00, 42531.17it/s]\n",
      "Обработка train-clean-100\\LibriSpeech\\train-clean-100\\831\\130746: 100%|██████████| 124/124 [00:00<00:00, 61520.43it/s]\n",
      "Обработка train-clean-100\\LibriSpeech\\train-clean-100\\8312: 0it [00:00, ?it/s]\n",
      "Обработка train-clean-100\\LibriSpeech\\train-clean-100\\8312\\279790: 100%|██████████| 106/106 [00:00<00:00, 35338.70it/s]\n",
      "Обработка train-clean-100\\LibriSpeech\\train-clean-100\\8312\\279791: 100%|██████████| 110/110 [00:00<00:00, 54703.99it/s]\n",
      "Обработка train-clean-100\\LibriSpeech\\train-clean-100\\8324: 0it [00:00, ?it/s]\n",
      "Обработка train-clean-100\\LibriSpeech\\train-clean-100\\8324\\286681: 100%|██████████| 52/52 [00:00<00:00, 41433.09it/s]\n",
      "Обработка train-clean-100\\LibriSpeech\\train-clean-100\\8324\\286682: 100%|██████████| 100/100 [00:00<00:00, 99983.41it/s]\n",
      "Обработка train-clean-100\\LibriSpeech\\train-clean-100\\8324\\286683: 100%|██████████| 80/80 [00:00<00:00, 26694.06it/s]\n",
      "Обработка train-clean-100\\LibriSpeech\\train-clean-100\\839: 0it [00:00, ?it/s]\n",
      "Обработка train-clean-100\\LibriSpeech\\train-clean-100\\839\\130898: 100%|██████████| 202/202 [00:00<00:00, 100887.05it/s]\n",
      "Обработка train-clean-100\\LibriSpeech\\train-clean-100\\8419: 0it [00:00, ?it/s]\n",
      "Обработка train-clean-100\\LibriSpeech\\train-clean-100\\8419\\286667: 100%|██████████| 64/64 [00:00<00:00, 32044.34it/s]\n",
      "Обработка train-clean-100\\LibriSpeech\\train-clean-100\\8419\\286676: 100%|██████████| 70/70 [00:00<00:00, 69938.37it/s]\n",
      "Обработка train-clean-100\\LibriSpeech\\train-clean-100\\8419\\293469: 100%|██████████| 54/54 [00:00<00:00, 27030.96it/s]\n",
      "Обработка train-clean-100\\LibriSpeech\\train-clean-100\\8419\\293473: 100%|██████████| 44/44 [00:00<00:00, 22017.34it/s]\n",
      "Обработка train-clean-100\\LibriSpeech\\train-clean-100\\8425: 0it [00:00, ?it/s]\n",
      "Обработка train-clean-100\\LibriSpeech\\train-clean-100\\8425\\246962: 100%|██████████| 64/64 [00:00<00:00, 64172.95it/s]\n",
      "Обработка train-clean-100\\LibriSpeech\\train-clean-100\\8425\\287387: 100%|██████████| 68/68 [00:00<00:00, 34006.52it/s]\n",
      "Обработка train-clean-100\\LibriSpeech\\train-clean-100\\8425\\291444: 100%|██████████| 42/42 [00:00<00:00, 20989.01it/s]\n",
      "Обработка train-clean-100\\LibriSpeech\\train-clean-100\\8425\\292520: 100%|██████████| 62/62 [00:00<00:00, 61476.80it/s]\n",
      "Обработка train-clean-100\\LibriSpeech\\train-clean-100\\8465: 0it [00:00, ?it/s]\n",
      "Обработка train-clean-100\\LibriSpeech\\train-clean-100\\8465\\246940: 100%|██████████| 66/66 [00:00<00:00, 66052.03it/s]\n",
      "Обработка train-clean-100\\LibriSpeech\\train-clean-100\\8465\\246942: 100%|██████████| 58/58 [00:00<00:00, 28926.23it/s]\n",
      "Обработка train-clean-100\\LibriSpeech\\train-clean-100\\8465\\246943: 100%|██████████| 62/62 [00:00<00:00, 31039.25it/s]\n",
      "Обработка train-clean-100\\LibriSpeech\\train-clean-100\\8465\\246947: 100%|██████████| 58/58 [00:00<00:00, 19339.35it/s]\n",
      "Обработка train-clean-100\\LibriSpeech\\train-clean-100\\8468: 0it [00:00, ?it/s]\n",
      "Обработка train-clean-100\\LibriSpeech\\train-clean-100\\8468\\286673: 100%|██████████| 84/84 [00:00<00:00, 42018.07it/s]\n",
      "Обработка train-clean-100\\LibriSpeech\\train-clean-100\\8468\\294887: 100%|██████████| 88/88 [00:00<00:00, 43997.94it/s]\n",
      "Обработка train-clean-100\\LibriSpeech\\train-clean-100\\8468\\295198: 100%|██████████| 70/70 [00:00<00:00, 35006.71it/s]\n",
      "Обработка train-clean-100\\LibriSpeech\\train-clean-100\\8580: 0it [00:00, ?it/s]\n",
      "Обработка train-clean-100\\LibriSpeech\\train-clean-100\\8580\\287363: 100%|██████████| 76/76 [00:00<00:00, 38171.13it/s]\n",
      "Обработка train-clean-100\\LibriSpeech\\train-clean-100\\8580\\287364: 100%|██████████| 102/102 [00:00<00:00, 102007.39it/s]\n",
      "Обработка train-clean-100\\LibriSpeech\\train-clean-100\\8609: 0it [00:00, ?it/s]\n",
      "Обработка train-clean-100\\LibriSpeech\\train-clean-100\\8609\\262281: 100%|██████████| 90/90 [00:00<00:00, 35855.56it/s]\n",
      "Обработка train-clean-100\\LibriSpeech\\train-clean-100\\8609\\283227: 100%|██████████| 144/144 [00:00<00:00, 47809.69it/s]\n",
      "Обработка train-clean-100\\LibriSpeech\\train-clean-100\\8629: 0it [00:00, ?it/s]\n",
      "Обработка train-clean-100\\LibriSpeech\\train-clean-100\\8629\\261139: 100%|██████████| 156/156 [00:00<00:00, 78024.26it/s]\n",
      "Обработка train-clean-100\\LibriSpeech\\train-clean-100\\8629\\261140: 100%|██████████| 104/104 [00:00<00:00, 34652.65it/s]\n",
      "Обработка train-clean-100\\LibriSpeech\\train-clean-100\\8630: 0it [00:00, ?it/s]\n",
      "Обработка train-clean-100\\LibriSpeech\\train-clean-100\\8630\\305212: 100%|██████████| 92/92 [00:00<00:00, 46030.77it/s]\n",
      "Обработка train-clean-100\\LibriSpeech\\train-clean-100\\8630\\305213: 100%|██████████| 112/112 [00:00<00:00, 55964.03it/s]\n",
      "Обработка train-clean-100\\LibriSpeech\\train-clean-100\\87: 0it [00:00, ?it/s]\n",
      "Обработка train-clean-100\\LibriSpeech\\train-clean-100\\87\\121553: 100%|██████████| 218/218 [00:00<00:00, 108968.93it/s]\n",
      "Обработка train-clean-100\\LibriSpeech\\train-clean-100\\8747: 0it [00:00, ?it/s]\n",
      "Обработка train-clean-100\\LibriSpeech\\train-clean-100\\8747\\293952: 100%|██████████| 222/222 [00:00<00:00, 110981.58it/s]\n",
      "Обработка train-clean-100\\LibriSpeech\\train-clean-100\\8770: 0it [00:00, ?it/s]\n",
      "Обработка train-clean-100\\LibriSpeech\\train-clean-100\\8770\\295462: 100%|██████████| 86/86 [00:00<00:00, 87636.09it/s]\n",
      "Обработка train-clean-100\\LibriSpeech\\train-clean-100\\8770\\295463: 100%|██████████| 58/58 [00:00<00:00, 28998.64it/s]\n",
      "Обработка train-clean-100\\LibriSpeech\\train-clean-100\\8770\\295465: 100%|██████████| 84/84 [00:00<00:00, 84287.45it/s]\n",
      "Обработка train-clean-100\\LibriSpeech\\train-clean-100\\8797: 0it [00:00, ?it/s]\n",
      "Обработка train-clean-100\\LibriSpeech\\train-clean-100\\8797\\294123: 100%|██████████| 210/210 [00:00<00:00, 52503.81it/s]\n",
      "Обработка train-clean-100\\LibriSpeech\\train-clean-100\\8838: 0it [00:00, ?it/s]\n",
      "Обработка train-clean-100\\LibriSpeech\\train-clean-100\\8838\\298545: 100%|██████████| 108/108 [00:00<00:00, 107776.55it/s]\n",
      "Обработка train-clean-100\\LibriSpeech\\train-clean-100\\8838\\298546: 100%|██████████| 110/110 [00:00<00:00, 72863.78it/s]\n",
      "Обработка train-clean-100\\LibriSpeech\\train-clean-100\\887: 0it [00:00, ?it/s]\n",
      "Обработка train-clean-100\\LibriSpeech\\train-clean-100\\887\\123289: 100%|██████████| 82/82 [00:00<00:00, 38827.38it/s]\n",
      "Обработка train-clean-100\\LibriSpeech\\train-clean-100\\887\\123290: 100%|██████████| 66/66 [00:00<00:00, 6923.54it/s]\n",
      "Обработка train-clean-100\\LibriSpeech\\train-clean-100\\887\\123291: 100%|██████████| 88/88 [00:00<00:00, 29233.23it/s]\n",
      "Обработка train-clean-100\\LibriSpeech\\train-clean-100\\89: 0it [00:00, ?it/s]\n",
      "Обработка train-clean-100\\LibriSpeech\\train-clean-100\\89\\218: 100%|██████████| 118/118 [00:00<00:00, 59060.61it/s]\n",
      "Обработка train-clean-100\\LibriSpeech\\train-clean-100\\89\\219: 100%|██████████| 132/132 [00:00<00:00, 65824.29it/s]\n",
      "Обработка train-clean-100\\LibriSpeech\\train-clean-100\\8975: 0it [00:00, ?it/s]\n",
      "Обработка train-clean-100\\LibriSpeech\\train-clean-100\\8975\\270782: 100%|██████████| 232/232 [00:00<00:00, 116008.41it/s]\n",
      "Обработка train-clean-100\\LibriSpeech\\train-clean-100\\909: 0it [00:00, ?it/s]\n",
      "Обработка train-clean-100\\LibriSpeech\\train-clean-100\\909\\131041: 100%|██████████| 66/66 [00:00<00:00, 32967.02it/s]\n",
      "Обработка train-clean-100\\LibriSpeech\\train-clean-100\\909\\131044: 100%|██████████| 70/70 [00:00<00:00, 34940.05it/s]\n",
      "Обработка train-clean-100\\LibriSpeech\\train-clean-100\\909\\131045: 100%|██████████| 90/90 [00:00<00:00, 89835.16it/s]\n",
      "Обработка train-clean-100\\LibriSpeech\\train-clean-100\\911: 0it [00:00, ?it/s]\n",
      "Обработка train-clean-100\\LibriSpeech\\train-clean-100\\911\\128684: 100%|██████████| 186/186 [00:00<00:00, 74200.17it/s]\n",
      "Обработка train-clean-100\\LibriSpeech\\train-clean-100\\911\\130578: 100%|██████████| 44/44 [00:00<?, ?it/s]\n"
     ]
    }
   ],
   "source": [
    "def convert_trans_to_csv(root_dir):\n",
    "    for root, dirs, files in os.walk(root_dir):\n",
    "        for file in tqdm(files, desc = f\"Обработка {root}\"):\n",
    "            if not file.endswith('.trans.txt'):\n",
    "                continue\n",
    "\n",
    "            trans_path = os.path.join(root, file)\n",
    "            csv_path = os.path.join(root, file.replace('.trans.txt', 'trans.csv'))\n",
    "            \n",
    "            with open(trans_path, 'r') as f_in, open(csv_path, 'w', newline='') as f_out:\n",
    "                writer = csv.writer(f_out)\n",
    "                writer.writerow(['id', 'text'])  # Заголовки\n",
    "                \n",
    "                for line in f_in:\n",
    "                    line = line.strip()\n",
    "                    if not line:\n",
    "                        continue\n",
    "                    \n",
    "                    # Разделение ID и текста (первое слово — ID)\n",
    "                    parts = line.split(' ', 1)\n",
    "                    if len(parts) < 2:\n",
    "                        continue  # Пропуск некорректных строк\n",
    "                    \n",
    "                    utterance_id, text = parts\n",
    "                    writer.writerow([utterance_id, text])\n",
    "\n",
    "dataset_path = \"train-clean-100\"  # Путь к корневой папке датасета\n",
    "convert_trans_to_csv(dataset_path)"
   ]
  },
  {
   "cell_type": "code",
   "execution_count": 149,
   "id": "6733bb4b",
   "metadata": {},
   "outputs": [],
   "source": [
    "file_path = \"train-clean-100/LibriSpeech/SPEAKERS.TXT\"\n",
    "with open(file_path, \"r\", encoding=\"utf-8\") as file:\n",
    "    lines = file.readlines()\n",
    "\n",
    "# Skip the header and process the content\n",
    "header_line = lines[0].strip()\n",
    "data_lines = [line.strip() for line in lines[1:] if \"train-clean-100\" in line]\n",
    "\n",
    "# Extract columns using the header\n",
    "columns = [col.strip() for col in header_line.split(\"|\")]\n",
    "\n",
    "# Parse rows into a list of dictionaries\n",
    "data = []\n",
    "for line in data_lines:\n",
    "    values = [val.strip() for val in line.split(\"|\")]\n",
    "    if len(values) == len(columns):\n",
    "        row = dict(zip(columns, values))\n",
    "        data.append(row)\n",
    "\n",
    "# Create DataFrame and save as CSV\n",
    "df = pd.DataFrame(data)\n",
    "csv_output_path = \"speakers.csv\"\n",
    "df.to_csv(csv_output_path, index=False)"
   ]
  },
  {
   "cell_type": "code",
   "execution_count": null,
   "id": "50801fce",
   "metadata": {},
   "outputs": [
    {
     "data": {
      "text/html": [
       "<div>\n",
       "<style scoped>\n",
       "    .dataframe tbody tr th:only-of-type {\n",
       "        vertical-align: middle;\n",
       "    }\n",
       "\n",
       "    .dataframe tbody tr th {\n",
       "        vertical-align: top;\n",
       "    }\n",
       "\n",
       "    .dataframe thead th {\n",
       "        text-align: right;\n",
       "    }\n",
       "</style>\n",
       "<table border=\"1\" class=\"dataframe\">\n",
       "  <thead>\n",
       "    <tr style=\"text-align: right;\">\n",
       "      <th></th>\n",
       "      <th>ID</th>\n",
       "      <th>READER</th>\n",
       "      <th>MINUTES</th>\n",
       "      <th>SUBSET</th>\n",
       "      <th>PROJ.</th>\n",
       "      <th>BOOK ID</th>\n",
       "      <th>CH. TITLE</th>\n",
       "      <th>PROJECT TITLE</th>\n",
       "    </tr>\n",
       "  </thead>\n",
       "  <tbody>\n",
       "    <tr>\n",
       "      <th>0</th>\n",
       "      <td>198</td>\n",
       "      <td>19</td>\n",
       "      <td>8.42</td>\n",
       "      <td>train-clean-100</td>\n",
       "      <td>219</td>\n",
       "      <td>121</td>\n",
       "      <td>Chapter 01</td>\n",
       "      <td>Northanger Abbey</td>\n",
       "    </tr>\n",
       "    <tr>\n",
       "      <th>1</th>\n",
       "      <td>209</td>\n",
       "      <td>198</td>\n",
       "      <td>8.20</td>\n",
       "      <td>train-clean-100</td>\n",
       "      <td>219</td>\n",
       "      <td>121</td>\n",
       "      <td>Chapter 12</td>\n",
       "      <td>Northanger Abbey</td>\n",
       "    </tr>\n",
       "    <tr>\n",
       "      <th>2</th>\n",
       "      <td>216</td>\n",
       "      <td>403</td>\n",
       "      <td>6.30</td>\n",
       "      <td>train-clean-100</td>\n",
       "      <td>219</td>\n",
       "      <td>121</td>\n",
       "      <td>Chapter 19</td>\n",
       "      <td>Northanger Abbey</td>\n",
       "    </tr>\n",
       "    <tr>\n",
       "      <th>3</th>\n",
       "      <td>218</td>\n",
       "      <td>89</td>\n",
       "      <td>12.78</td>\n",
       "      <td>train-clean-100</td>\n",
       "      <td>219</td>\n",
       "      <td>121</td>\n",
       "      <td>Chapter 21</td>\n",
       "      <td>Northanger Abbey</td>\n",
       "    </tr>\n",
       "    <tr>\n",
       "      <th>4</th>\n",
       "      <td>219</td>\n",
       "      <td>89</td>\n",
       "      <td>12.30</td>\n",
       "      <td>train-clean-100</td>\n",
       "      <td>219</td>\n",
       "      <td>121</td>\n",
       "      <td>Chapter 22</td>\n",
       "      <td>Northanger Abbey</td>\n",
       "    </tr>\n",
       "    <tr>\n",
       "      <th>...</th>\n",
       "      <td>...</td>\n",
       "      <td>...</td>\n",
       "      <td>...</td>\n",
       "      <td>...</td>\n",
       "      <td>...</td>\n",
       "      <td>...</td>\n",
       "      <td>...</td>\n",
       "      <td>...</td>\n",
       "    </tr>\n",
       "    <tr>\n",
       "      <th>580</th>\n",
       "      <td>298545</td>\n",
       "      <td>8838</td>\n",
       "      <td>12.55</td>\n",
       "      <td>train-clean-100</td>\n",
       "      <td>8386</td>\n",
       "      <td>10446</td>\n",
       "      <td>The Croxley Master - I, part 1</td>\n",
       "      <td>Green Flag and Other Stories of War and Sport</td>\n",
       "    </tr>\n",
       "    <tr>\n",
       "      <th>581</th>\n",
       "      <td>298546</td>\n",
       "      <td>8838</td>\n",
       "      <td>12.51</td>\n",
       "      <td>train-clean-100</td>\n",
       "      <td>8386</td>\n",
       "      <td>10446</td>\n",
       "      <td>The Croxley Master - I, part 2</td>\n",
       "      <td>Green Flag and Other Stories of War and Sport</td>\n",
       "    </tr>\n",
       "    <tr>\n",
       "      <th>582</th>\n",
       "      <td>300880</td>\n",
       "      <td>6064</td>\n",
       "      <td>8.82</td>\n",
       "      <td>train-clean-100</td>\n",
       "      <td>8473</td>\n",
       "      <td>44326</td>\n",
       "      <td>Chapter 10</td>\n",
       "      <td>Wanted: A Husband</td>\n",
       "    </tr>\n",
       "    <tr>\n",
       "      <th>583</th>\n",
       "      <td>305212</td>\n",
       "      <td>8630</td>\n",
       "      <td>10.50</td>\n",
       "      <td>train-clean-100</td>\n",
       "      <td>8645</td>\n",
       "      <td>35941</td>\n",
       "      <td>How Augustine Went to Carthage and How Patrici...</td>\n",
       "      <td>Life of Saint Monica</td>\n",
       "    </tr>\n",
       "    <tr>\n",
       "      <th>584</th>\n",
       "      <td>305213</td>\n",
       "      <td>8630</td>\n",
       "      <td>13.00</td>\n",
       "      <td>train-clean-100</td>\n",
       "      <td>8645</td>\n",
       "      <td>35941</td>\n",
       "      <td>How St. Monica Lived in the Days of Her Widowh...</td>\n",
       "      <td>Life of Saint Monica</td>\n",
       "    </tr>\n",
       "  </tbody>\n",
       "</table>\n",
       "<p>585 rows × 8 columns</p>\n",
       "</div>"
      ],
      "text/plain": [
       "         ID READER MINUTES           SUBSET PROJ. BOOK ID  \\\n",
       "0       198     19    8.42  train-clean-100   219     121   \n",
       "1       209    198    8.20  train-clean-100   219     121   \n",
       "2       216    403    6.30  train-clean-100   219     121   \n",
       "3       218     89   12.78  train-clean-100   219     121   \n",
       "4       219     89   12.30  train-clean-100   219     121   \n",
       "..      ...    ...     ...              ...   ...     ...   \n",
       "580  298545   8838   12.55  train-clean-100  8386   10446   \n",
       "581  298546   8838   12.51  train-clean-100  8386   10446   \n",
       "582  300880   6064    8.82  train-clean-100  8473   44326   \n",
       "583  305212   8630   10.50  train-clean-100  8645   35941   \n",
       "584  305213   8630   13.00  train-clean-100  8645   35941   \n",
       "\n",
       "                                             CH. TITLE  \\\n",
       "0                                           Chapter 01   \n",
       "1                                           Chapter 12   \n",
       "2                                           Chapter 19   \n",
       "3                                           Chapter 21   \n",
       "4                                           Chapter 22   \n",
       "..                                                 ...   \n",
       "580                     The Croxley Master - I, part 1   \n",
       "581                     The Croxley Master - I, part 2   \n",
       "582                                         Chapter 10   \n",
       "583  How Augustine Went to Carthage and How Patrici...   \n",
       "584  How St. Monica Lived in the Days of Her Widowh...   \n",
       "\n",
       "                                     PROJECT TITLE  \n",
       "0                                 Northanger Abbey  \n",
       "1                                 Northanger Abbey  \n",
       "2                                 Northanger Abbey  \n",
       "3                                 Northanger Abbey  \n",
       "4                                 Northanger Abbey  \n",
       "..                                             ...  \n",
       "580  Green Flag and Other Stories of War and Sport  \n",
       "581  Green Flag and Other Stories of War and Sport  \n",
       "582                              Wanted: A Husband  \n",
       "583                           Life of Saint Monica  \n",
       "584                           Life of Saint Monica  \n",
       "\n",
       "[585 rows x 8 columns]"
      ]
     },
     "execution_count": 30,
     "metadata": {},
     "output_type": "execute_result"
    }
   ],
   "source": [
    "df"
   ]
  },
  {
   "cell_type": "code",
   "execution_count": 6,
   "id": "1975518d",
   "metadata": {},
   "outputs": [
    {
     "data": {
      "text/html": [
       "<div>\n",
       "<style scoped>\n",
       "    .dataframe tbody tr th:only-of-type {\n",
       "        vertical-align: middle;\n",
       "    }\n",
       "\n",
       "    .dataframe tbody tr th {\n",
       "        vertical-align: top;\n",
       "    }\n",
       "\n",
       "    .dataframe thead th {\n",
       "        text-align: right;\n",
       "    }\n",
       "</style>\n",
       "<table border=\"1\" class=\"dataframe\">\n",
       "  <thead>\n",
       "    <tr style=\"text-align: right;\">\n",
       "      <th></th>\n",
       "      <th>ID</th>\n",
       "      <th>READER</th>\n",
       "      <th>MINUTES</th>\n",
       "      <th>SUBSET</th>\n",
       "      <th>PROJ.</th>\n",
       "      <th>BOOK ID</th>\n",
       "      <th>CH. TITLE</th>\n",
       "      <th>PROJECT TITLE</th>\n",
       "    </tr>\n",
       "  </thead>\n",
       "  <tbody>\n",
       "    <tr>\n",
       "      <th>0</th>\n",
       "      <td>198</td>\n",
       "      <td>19</td>\n",
       "      <td>8.42</td>\n",
       "      <td>train-clean-100</td>\n",
       "      <td>219</td>\n",
       "      <td>121</td>\n",
       "      <td>Chapter 01</td>\n",
       "      <td>Northanger Abbey</td>\n",
       "    </tr>\n",
       "    <tr>\n",
       "      <th>1</th>\n",
       "      <td>209</td>\n",
       "      <td>198</td>\n",
       "      <td>8.20</td>\n",
       "      <td>train-clean-100</td>\n",
       "      <td>219</td>\n",
       "      <td>121</td>\n",
       "      <td>Chapter 12</td>\n",
       "      <td>Northanger Abbey</td>\n",
       "    </tr>\n",
       "    <tr>\n",
       "      <th>2</th>\n",
       "      <td>216</td>\n",
       "      <td>403</td>\n",
       "      <td>6.30</td>\n",
       "      <td>train-clean-100</td>\n",
       "      <td>219</td>\n",
       "      <td>121</td>\n",
       "      <td>Chapter 19</td>\n",
       "      <td>Northanger Abbey</td>\n",
       "    </tr>\n",
       "    <tr>\n",
       "      <th>3</th>\n",
       "      <td>218</td>\n",
       "      <td>89</td>\n",
       "      <td>12.78</td>\n",
       "      <td>train-clean-100</td>\n",
       "      <td>219</td>\n",
       "      <td>121</td>\n",
       "      <td>Chapter 21</td>\n",
       "      <td>Northanger Abbey</td>\n",
       "    </tr>\n",
       "    <tr>\n",
       "      <th>4</th>\n",
       "      <td>219</td>\n",
       "      <td>89</td>\n",
       "      <td>12.30</td>\n",
       "      <td>train-clean-100</td>\n",
       "      <td>219</td>\n",
       "      <td>121</td>\n",
       "      <td>Chapter 22</td>\n",
       "      <td>Northanger Abbey</td>\n",
       "    </tr>\n",
       "    <tr>\n",
       "      <th>...</th>\n",
       "      <td>...</td>\n",
       "      <td>...</td>\n",
       "      <td>...</td>\n",
       "      <td>...</td>\n",
       "      <td>...</td>\n",
       "      <td>...</td>\n",
       "      <td>...</td>\n",
       "      <td>...</td>\n",
       "    </tr>\n",
       "    <tr>\n",
       "      <th>580</th>\n",
       "      <td>298545</td>\n",
       "      <td>8838</td>\n",
       "      <td>12.55</td>\n",
       "      <td>train-clean-100</td>\n",
       "      <td>8386</td>\n",
       "      <td>10446</td>\n",
       "      <td>The Croxley Master - I, part 1</td>\n",
       "      <td>Green Flag and Other Stories of War and Sport</td>\n",
       "    </tr>\n",
       "    <tr>\n",
       "      <th>581</th>\n",
       "      <td>298546</td>\n",
       "      <td>8838</td>\n",
       "      <td>12.51</td>\n",
       "      <td>train-clean-100</td>\n",
       "      <td>8386</td>\n",
       "      <td>10446</td>\n",
       "      <td>The Croxley Master - I, part 2</td>\n",
       "      <td>Green Flag and Other Stories of War and Sport</td>\n",
       "    </tr>\n",
       "    <tr>\n",
       "      <th>582</th>\n",
       "      <td>300880</td>\n",
       "      <td>6064</td>\n",
       "      <td>8.82</td>\n",
       "      <td>train-clean-100</td>\n",
       "      <td>8473</td>\n",
       "      <td>44326</td>\n",
       "      <td>Chapter 10</td>\n",
       "      <td>Wanted: A Husband</td>\n",
       "    </tr>\n",
       "    <tr>\n",
       "      <th>583</th>\n",
       "      <td>305212</td>\n",
       "      <td>8630</td>\n",
       "      <td>10.50</td>\n",
       "      <td>train-clean-100</td>\n",
       "      <td>8645</td>\n",
       "      <td>35941</td>\n",
       "      <td>How Augustine Went to Carthage and How Patrici...</td>\n",
       "      <td>Life of Saint Monica</td>\n",
       "    </tr>\n",
       "    <tr>\n",
       "      <th>584</th>\n",
       "      <td>305213</td>\n",
       "      <td>8630</td>\n",
       "      <td>13.00</td>\n",
       "      <td>train-clean-100</td>\n",
       "      <td>8645</td>\n",
       "      <td>35941</td>\n",
       "      <td>How St. Monica Lived in the Days of Her Widowh...</td>\n",
       "      <td>Life of Saint Monica</td>\n",
       "    </tr>\n",
       "  </tbody>\n",
       "</table>\n",
       "<p>585 rows × 8 columns</p>\n",
       "</div>"
      ],
      "text/plain": [
       "         ID  READER  MINUTES           SUBSET  PROJ.  BOOK ID  \\\n",
       "0       198      19     8.42  train-clean-100    219      121   \n",
       "1       209     198     8.20  train-clean-100    219      121   \n",
       "2       216     403     6.30  train-clean-100    219      121   \n",
       "3       218      89    12.78  train-clean-100    219      121   \n",
       "4       219      89    12.30  train-clean-100    219      121   \n",
       "..      ...     ...      ...              ...    ...      ...   \n",
       "580  298545    8838    12.55  train-clean-100   8386    10446   \n",
       "581  298546    8838    12.51  train-clean-100   8386    10446   \n",
       "582  300880    6064     8.82  train-clean-100   8473    44326   \n",
       "583  305212    8630    10.50  train-clean-100   8645    35941   \n",
       "584  305213    8630    13.00  train-clean-100   8645    35941   \n",
       "\n",
       "                                             CH. TITLE  \\\n",
       "0                                           Chapter 01   \n",
       "1                                           Chapter 12   \n",
       "2                                           Chapter 19   \n",
       "3                                           Chapter 21   \n",
       "4                                           Chapter 22   \n",
       "..                                                 ...   \n",
       "580                     The Croxley Master - I, part 1   \n",
       "581                     The Croxley Master - I, part 2   \n",
       "582                                         Chapter 10   \n",
       "583  How Augustine Went to Carthage and How Patrici...   \n",
       "584  How St. Monica Lived in the Days of Her Widowh...   \n",
       "\n",
       "                                     PROJECT TITLE  \n",
       "0                                 Northanger Abbey  \n",
       "1                                 Northanger Abbey  \n",
       "2                                 Northanger Abbey  \n",
       "3                                 Northanger Abbey  \n",
       "4                                 Northanger Abbey  \n",
       "..                                             ...  \n",
       "580  Green Flag and Other Stories of War and Sport  \n",
       "581  Green Flag and Other Stories of War and Sport  \n",
       "582                              Wanted: A Husband  \n",
       "583                           Life of Saint Monica  \n",
       "584                           Life of Saint Monica  \n",
       "\n",
       "[585 rows x 8 columns]"
      ]
     },
     "execution_count": 6,
     "metadata": {},
     "output_type": "execute_result"
    }
   ],
   "source": [
    "data = pd.read_csv('train-clean-100/LibriSpeech/train_clean_100_chapters.csv')\n",
    "data"
   ]
  },
  {
   "cell_type": "code",
   "execution_count": null,
   "id": "b8b55f46",
   "metadata": {},
   "outputs": [
    {
     "name": "stderr",
     "output_type": "stream",
     "text": [
      "  0%|          | 1/320 [00:11<59:34, 11.21s/it]"
     ]
    },
    {
     "name": "stdout",
     "output_type": "stream",
     "text": [
      "[Успех] 121: Обложка найдена через OpenLibrary\n"
     ]
    },
    {
     "name": "stderr",
     "output_type": "stream",
     "text": [
      "  1%|          | 2/320 [00:13<31:23,  5.92s/it]"
     ]
    },
    {
     "name": "stdout",
     "output_type": "stream",
     "text": [
      "[Успех] 84: Обложка найдена через OpenLibrary\n"
     ]
    },
    {
     "name": "stderr",
     "output_type": "stream",
     "text": [
      "  1%|          | 3/320 [00:15<21:38,  4.09s/it]"
     ]
    },
    {
     "name": "stdout",
     "output_type": "stream",
     "text": [
      "[Успех] 1210: Обложка найдена через OpenLibrary\n"
     ]
    },
    {
     "name": "stderr",
     "output_type": "stream",
     "text": [
      "  1%|▏         | 4/320 [00:17<16:57,  3.22s/it]"
     ]
    },
    {
     "name": "stdout",
     "output_type": "stream",
     "text": [
      "[Успех] 376: Обложка найдена через OpenLibrary\n"
     ]
    },
    {
     "name": "stderr",
     "output_type": "stream",
     "text": [
      "  2%|▏         | 5/320 [00:24<25:07,  4.79s/it]"
     ]
    },
    {
     "name": "stdout",
     "output_type": "stream",
     "text": [
      "[Успех] 45: Обложка найдена через OpenLibrary\n"
     ]
    },
    {
     "name": "stderr",
     "output_type": "stream",
     "text": [
      "  2%|▏         | 6/320 [00:26<19:25,  3.71s/it]"
     ]
    },
    {
     "name": "stdout",
     "output_type": "stream",
     "text": [
      "[Успех] 19066: Обложка найдена через OpenLibrary\n"
     ]
    },
    {
     "name": "stderr",
     "output_type": "stream",
     "text": [
      "  2%|▏         | 7/320 [00:34<26:09,  5.02s/it]"
     ]
    },
    {
     "name": "stdout",
     "output_type": "stream",
     "text": [
      "[Успех] 3154: Обложка найдена через OpenLibrary\n"
     ]
    },
    {
     "name": "stderr",
     "output_type": "stream",
     "text": [
      "  2%|▎         | 8/320 [00:36<21:59,  4.23s/it]"
     ]
    },
    {
     "name": "stdout",
     "output_type": "stream",
     "text": [
      "[Успех] 1831: Обложка найдена через OpenLibrary\n"
     ]
    },
    {
     "name": "stderr",
     "output_type": "stream",
     "text": [
      "  3%|▎         | 9/320 [00:38<17:17,  3.34s/it]"
     ]
    },
    {
     "name": "stdout",
     "output_type": "stream",
     "text": [
      "[Успех] 2046: Обложка найдена через OpenLibrary\n"
     ]
    },
    {
     "name": "stderr",
     "output_type": "stream",
     "text": [
      "  3%|▎         | 10/320 [00:39<14:48,  2.87s/it]"
     ]
    },
    {
     "name": "stdout",
     "output_type": "stream",
     "text": [
      "[Успех] 3424: Обложка найдена через OpenLibrary\n"
     ]
    },
    {
     "name": "stderr",
     "output_type": "stream",
     "text": [
      "  3%|▎         | 11/320 [00:41<13:28,  2.62s/it]"
     ]
    },
    {
     "name": "stdout",
     "output_type": "stream",
     "text": [
      "[Успех] 14851: Обложка найдена через OpenLibrary\n"
     ]
    },
    {
     "name": "stderr",
     "output_type": "stream",
     "text": [
      "  4%|▍         | 12/320 [00:43<12:21,  2.41s/it]"
     ]
    },
    {
     "name": "stdout",
     "output_type": "stream",
     "text": [
      "[Успех] 3322: Обложка найдена через OpenLibrary\n"
     ]
    },
    {
     "name": "stderr",
     "output_type": "stream",
     "text": [
      "  4%|▍         | 13/320 [00:45<11:10,  2.18s/it]"
     ]
    },
    {
     "name": "stdout",
     "output_type": "stream",
     "text": [
      "[Успех] 21048: Обложка найдена через OpenLibrary\n"
     ]
    },
    {
     "name": "stderr",
     "output_type": "stream",
     "text": [
      "  5%|▍         | 15/320 [00:51<13:11,  2.59s/it]"
     ]
    },
    {
     "name": "stdout",
     "output_type": "stream",
     "text": [
      "[Успех] 2148: Обложка найдена через OpenLibrary\n"
     ]
    },
    {
     "name": "stderr",
     "output_type": "stream",
     "text": [
      "  5%|▌         | 16/320 [00:57<17:44,  3.50s/it]"
     ]
    },
    {
     "name": "stdout",
     "output_type": "stream",
     "text": [
      "[Успех] 4761: Обложка найдена через OpenLibrary\n"
     ]
    },
    {
     "name": "stderr",
     "output_type": "stream",
     "text": [
      "  5%|▌         | 17/320 [01:00<16:20,  3.24s/it]"
     ]
    },
    {
     "name": "stdout",
     "output_type": "stream",
     "text": [
      "[Успех] 10378: Обложка найдена через OpenLibrary\n"
     ]
    },
    {
     "name": "stderr",
     "output_type": "stream",
     "text": [
      "  6%|▌         | 18/320 [01:03<15:44,  3.13s/it]"
     ]
    },
    {
     "name": "stdout",
     "output_type": "stream",
     "text": [
      "[Успех] 21510: Обложка найдена через OpenLibrary\n"
     ]
    },
    {
     "name": "stderr",
     "output_type": "stream",
     "text": [
      "  6%|▌         | 19/320 [01:04<13:39,  2.72s/it]"
     ]
    },
    {
     "name": "stdout",
     "output_type": "stream",
     "text": [
      "[Успех] 5978: Обложка найдена через OpenLibrary\n"
     ]
    },
    {
     "name": "stderr",
     "output_type": "stream",
     "text": [
      "  6%|▋         | 20/320 [01:10<18:00,  3.60s/it]"
     ]
    },
    {
     "name": "stdout",
     "output_type": "stream",
     "text": [
      "[Успех] 135: Обложка найдена через OpenLibrary\n"
     ]
    },
    {
     "name": "stderr",
     "output_type": "stream",
     "text": [
      "  7%|▋         | 21/320 [01:15<20:06,  4.04s/it]"
     ]
    },
    {
     "name": "stdout",
     "output_type": "stream",
     "text": [
      "[Успех] 21904: Обложка найдена через OpenLibrary\n"
     ]
    },
    {
     "name": "stderr",
     "output_type": "stream",
     "text": [
      "  7%|▋         | 22/320 [01:17<16:19,  3.29s/it]"
     ]
    },
    {
     "name": "stdout",
     "output_type": "stream",
     "text": [
      "[Успех] 1399: Обложка найдена через OpenLibrary\n"
     ]
    },
    {
     "name": "stderr",
     "output_type": "stream",
     "text": [
      "  7%|▋         | 23/320 [01:22<19:46,  4.00s/it]"
     ]
    },
    {
     "name": "stdout",
     "output_type": "stream",
     "text": [
      "[Успех] 976: Обложка найдена через OpenLibrary\n"
     ]
    },
    {
     "name": "stderr",
     "output_type": "stream",
     "text": [
      "  8%|▊         | 24/320 [01:25<17:20,  3.51s/it]"
     ]
    },
    {
     "name": "stdout",
     "output_type": "stream",
     "text": [
      "[Успех] 27990: Обложка найдена через OpenLibrary\n"
     ]
    },
    {
     "name": "stderr",
     "output_type": "stream",
     "text": [
      "  8%|▊         | 25/320 [01:26<14:23,  2.93s/it]"
     ]
    },
    {
     "name": "stdout",
     "output_type": "stream",
     "text": [
      "[Успех] 19499: Обложка найдена через OpenLibrary\n"
     ]
    },
    {
     "name": "stderr",
     "output_type": "stream",
     "text": [
      "  8%|▊         | 26/320 [01:29<14:16,  2.91s/it]"
     ]
    },
    {
     "name": "stdout",
     "output_type": "stream",
     "text": [
      "[Успех] 27771: Обложка найдена через OpenLibrary\n"
     ]
    },
    {
     "name": "stderr",
     "output_type": "stream",
     "text": [
      "  8%|▊         | 27/320 [01:34<16:21,  3.35s/it]"
     ]
    },
    {
     "name": "stdout",
     "output_type": "stream",
     "text": [
      "[Успех] 2741: Обложка найдена через OpenLibrary\n"
     ]
    },
    {
     "name": "stderr",
     "output_type": "stream",
     "text": [
      "  9%|▉         | 28/320 [01:36<14:27,  2.97s/it]"
     ]
    },
    {
     "name": "stdout",
     "output_type": "stream",
     "text": [
      "[Успех] 8166: Обложка найдена через Gutenberg\n"
     ]
    },
    {
     "name": "stderr",
     "output_type": "stream",
     "text": [
      "  9%|▉         | 29/320 [01:37<12:33,  2.59s/it]"
     ]
    },
    {
     "name": "stdout",
     "output_type": "stream",
     "text": [
      "[Успех] 14293: Обложка найдена через OpenLibrary\n"
     ]
    },
    {
     "name": "stderr",
     "output_type": "stream",
     "text": [
      "  9%|▉         | 30/320 [01:40<11:59,  2.48s/it]"
     ]
    },
    {
     "name": "stdout",
     "output_type": "stream",
     "text": [
      "[Успех] 29543: Обложка найдена через Gutenberg\n"
     ]
    },
    {
     "name": "stderr",
     "output_type": "stream",
     "text": [
      " 10%|▉         | 31/320 [01:44<14:58,  3.11s/it]"
     ]
    },
    {
     "name": "stdout",
     "output_type": "stream",
     "text": [
      "[Успех] 7882: Обложка найдена через OpenLibrary\n"
     ]
    },
    {
     "name": "stderr",
     "output_type": "stream",
     "text": [
      " 10%|█         | 32/320 [01:49<17:43,  3.69s/it]"
     ]
    },
    {
     "name": "stdout",
     "output_type": "stream",
     "text": [
      "[Успех] 2158: Обложка найдена через OpenLibrary\n"
     ]
    },
    {
     "name": "stderr",
     "output_type": "stream",
     "text": [
      " 10%|█         | 33/320 [01:52<16:58,  3.55s/it]"
     ]
    },
    {
     "name": "stdout",
     "output_type": "stream",
     "text": [
      "[Успех] 4540: Обложка найдена через OpenLibrary\n"
     ]
    },
    {
     "name": "stderr",
     "output_type": "stream",
     "text": [
      " 11%|█         | 34/320 [01:54<14:39,  3.07s/it]"
     ]
    },
    {
     "name": "stdout",
     "output_type": "stream",
     "text": [
      "[Успех] 4537: Обложка найдена через OpenLibrary\n"
     ]
    },
    {
     "name": "stderr",
     "output_type": "stream",
     "text": [
      " 11%|█         | 35/320 [02:00<17:43,  3.73s/it]"
     ]
    },
    {
     "name": "stdout",
     "output_type": "stream",
     "text": [
      "[Успех] 11128: Обложка найдена через OpenLibrary\n"
     ]
    },
    {
     "name": "stderr",
     "output_type": "stream",
     "text": [
      " 11%|█▏        | 36/320 [02:02<16:19,  3.45s/it]"
     ]
    },
    {
     "name": "stdout",
     "output_type": "stream",
     "text": [
      "[Успех] 6933: Обложка найдена через Gutenberg\n"
     ]
    },
    {
     "name": "stderr",
     "output_type": "stream",
     "text": [
      " 12%|█▏        | 37/320 [02:05<14:23,  3.05s/it]"
     ]
    },
    {
     "name": "stdout",
     "output_type": "stream",
     "text": [
      "[Успех] 3795: Обложка найдена через OpenLibrary\n"
     ]
    },
    {
     "name": "stderr",
     "output_type": "stream",
     "text": [
      " 12%|█▏        | 38/320 [02:08<14:17,  3.04s/it]"
     ]
    },
    {
     "name": "stdout",
     "output_type": "stream",
     "text": [
      "[Успех] 326: Обложка найдена через Gutenberg\n"
     ]
    },
    {
     "name": "stderr",
     "output_type": "stream",
     "text": [
      " 12%|█▏        | 39/320 [02:10<13:02,  2.78s/it]"
     ]
    },
    {
     "name": "stdout",
     "output_type": "stream",
     "text": [
      "[Пропуск] 1000010: Обложка не найдена ни в одном источнике\n"
     ]
    },
    {
     "name": "stderr",
     "output_type": "stream",
     "text": [
      " 13%|█▎        | 41/320 [02:13<09:58,  2.15s/it]"
     ]
    },
    {
     "name": "stdout",
     "output_type": "stream",
     "text": [
      "[Успех] 851: Обложка найдена через Gutenberg\n"
     ]
    },
    {
     "name": "stderr",
     "output_type": "stream",
     "text": [
      " 13%|█▎        | 42/320 [02:14<09:07,  1.97s/it]"
     ]
    },
    {
     "name": "stdout",
     "output_type": "stream",
     "text": [
      "[Успех] 16566: Обложка найдена через OpenLibrary\n"
     ]
    },
    {
     "name": "stderr",
     "output_type": "stream",
     "text": [
      " 13%|█▎        | 43/320 [02:16<08:35,  1.86s/it]"
     ]
    },
    {
     "name": "stdout",
     "output_type": "stream",
     "text": [
      "[Успех] 6987: Обложка найдена через OpenLibrary\n"
     ]
    },
    {
     "name": "stderr",
     "output_type": "stream",
     "text": [
      " 14%|█▍        | 45/320 [02:18<06:55,  1.51s/it]"
     ]
    },
    {
     "name": "stdout",
     "output_type": "stream",
     "text": [
      "[Пропуск] 1079: Обложка не найдена ни в одном источнике\n"
     ]
    },
    {
     "name": "stderr",
     "output_type": "stream",
     "text": [
      " 14%|█▍        | 46/320 [02:19<06:48,  1.49s/it]"
     ]
    },
    {
     "name": "stdout",
     "output_type": "stream",
     "text": [
      "[Успех] 17189: Обложка найдена через OpenLibrary\n"
     ]
    },
    {
     "name": "stderr",
     "output_type": "stream",
     "text": [
      " 15%|█▍        | 47/320 [02:22<08:11,  1.80s/it]"
     ]
    },
    {
     "name": "stdout",
     "output_type": "stream",
     "text": [
      "[Успех] 6754: Обложка найдена через Gutenberg\n"
     ]
    },
    {
     "name": "stderr",
     "output_type": "stream",
     "text": [
      " 15%|█▌        | 48/320 [02:24<09:02,  1.99s/it]"
     ]
    },
    {
     "name": "stdout",
     "output_type": "stream",
     "text": [
      "[Пропуск] 2600: Обложка не найдена ни в одном источнике\n"
     ]
    },
    {
     "name": "stderr",
     "output_type": "stream",
     "text": [
      " 15%|█▌        | 49/320 [02:31<14:40,  3.25s/it]"
     ]
    },
    {
     "name": "stdout",
     "output_type": "stream",
     "text": [
      "[Успех] 30908: Обложка найдена через OpenLibrary\n"
     ]
    },
    {
     "name": "stderr",
     "output_type": "stream",
     "text": [
      " 16%|█▌        | 50/320 [02:38<18:48,  4.18s/it]"
     ]
    },
    {
     "name": "stdout",
     "output_type": "stream",
     "text": [
      "[Успех] 3800: Обложка найдена через OpenLibrary\n"
     ]
    },
    {
     "name": "stderr",
     "output_type": "stream",
     "text": [
      " 16%|█▌        | 51/320 [02:43<20:40,  4.61s/it]"
     ]
    },
    {
     "name": "stdout",
     "output_type": "stream",
     "text": [
      "[Успех] 26041: Обложка найдена через OpenLibrary\n"
     ]
    },
    {
     "name": "stderr",
     "output_type": "stream",
     "text": [
      " 16%|█▋        | 52/320 [02:46<17:35,  3.94s/it]"
     ]
    },
    {
     "name": "stdout",
     "output_type": "stream",
     "text": [
      "[Успех] 3050: Обложка найдена через OpenLibrary\n"
     ]
    },
    {
     "name": "stderr",
     "output_type": "stream",
     "text": [
      " 17%|█▋        | 53/320 [02:47<14:10,  3.18s/it]"
     ]
    },
    {
     "name": "stdout",
     "output_type": "stream",
     "text": [
      "[Успех] 22781: Обложка найдена через OpenLibrary\n"
     ]
    },
    {
     "name": "stderr",
     "output_type": "stream",
     "text": [
      " 17%|█▋        | 54/320 [02:49<13:22,  3.02s/it]"
     ]
    },
    {
     "name": "stdout",
     "output_type": "stream",
     "text": [
      "[Пропуск] 2600: Обложка не найдена ни в одном источнике\n"
     ]
    },
    {
     "name": "stderr",
     "output_type": "stream",
     "text": [
      " 17%|█▋        | 55/320 [02:51<11:18,  2.56s/it]"
     ]
    },
    {
     "name": "stdout",
     "output_type": "stream",
     "text": [
      "[Успех] 22215: Обложка найдена через OpenLibrary\n"
     ]
    },
    {
     "name": "stderr",
     "output_type": "stream",
     "text": [
      " 18%|█▊        | 56/320 [02:54<11:36,  2.64s/it]"
     ]
    },
    {
     "name": "stdout",
     "output_type": "stream",
     "text": [
      "[Успех] 13437: Обложка найдена через Gutenberg\n"
     ]
    },
    {
     "name": "stderr",
     "output_type": "stream",
     "text": [
      " 18%|█▊        | 57/320 [02:55<10:00,  2.28s/it]"
     ]
    },
    {
     "name": "stdout",
     "output_type": "stream",
     "text": [
      "[Успех] 19087: Обложка найдена через OpenLibrary\n"
     ]
    },
    {
     "name": "stderr",
     "output_type": "stream",
     "text": [
      " 18%|█▊        | 58/320 [02:57<08:48,  2.02s/it]"
     ]
    },
    {
     "name": "stdout",
     "output_type": "stream",
     "text": [
      "[Успех] 22409: Обложка найдена через OpenLibrary\n"
     ]
    },
    {
     "name": "stderr",
     "output_type": "stream",
     "text": [
      " 18%|█▊        | 59/320 [02:59<08:52,  2.04s/it]"
     ]
    },
    {
     "name": "stdout",
     "output_type": "stream",
     "text": [
      "[Успех] 7345: Обложка найдена через OpenLibrary\n"
     ]
    },
    {
     "name": "stderr",
     "output_type": "stream",
     "text": [
      " 19%|█▉        | 60/320 [03:04<13:14,  3.05s/it]"
     ]
    },
    {
     "name": "stdout",
     "output_type": "stream",
     "text": [
      "[Успех] 3178: Обложка найдена через OpenLibrary\n"
     ]
    },
    {
     "name": "stderr",
     "output_type": "stream",
     "text": [
      " 19%|█▉        | 61/320 [03:07<12:33,  2.91s/it]"
     ]
    },
    {
     "name": "stdout",
     "output_type": "stream",
     "text": [
      "[Пропуск] 2600: Обложка не найдена ни в одном источнике\n"
     ]
    },
    {
     "name": "stderr",
     "output_type": "stream",
     "text": [
      " 19%|█▉        | 62/320 [03:09<11:05,  2.58s/it]"
     ]
    },
    {
     "name": "stdout",
     "output_type": "stream",
     "text": [
      "[Успех] 3634: Обложка найдена через OpenLibrary\n"
     ]
    },
    {
     "name": "stderr",
     "output_type": "stream",
     "text": [
      " 20%|█▉        | 63/320 [03:10<09:31,  2.22s/it]"
     ]
    },
    {
     "name": "stdout",
     "output_type": "stream",
     "text": [
      "[Успех] 10359: Обложка найдена через OpenLibrary\n"
     ]
    },
    {
     "name": "stderr",
     "output_type": "stream",
     "text": [
      " 20%|██        | 64/320 [03:15<13:17,  3.12s/it]"
     ]
    },
    {
     "name": "stdout",
     "output_type": "stream",
     "text": [
      "[Успех] 24811: Обложка найдена через OpenLibrary\n"
     ]
    },
    {
     "name": "stderr",
     "output_type": "stream",
     "text": [
      " 20%|██        | 65/320 [03:19<14:50,  3.49s/it]"
     ]
    },
    {
     "name": "stdout",
     "output_type": "stream",
     "text": [
      "[Успех] 12587: Обложка найдена через OpenLibrary\n"
     ]
    },
    {
     "name": "stderr",
     "output_type": "stream",
     "text": [
      " 21%|██        | 66/320 [03:22<13:44,  3.24s/it]"
     ]
    },
    {
     "name": "stdout",
     "output_type": "stream",
     "text": [
      "[Пропуск] 10800: Обложка не найдена ни в одном источнике\n"
     ]
    },
    {
     "name": "stderr",
     "output_type": "stream",
     "text": [
      " 21%|██        | 67/320 [03:24<12:01,  2.85s/it]"
     ]
    },
    {
     "name": "stdout",
     "output_type": "stream",
     "text": [
      "[Успех] 2488: Обложка найдена через OpenLibrary\n"
     ]
    },
    {
     "name": "stderr",
     "output_type": "stream",
     "text": [
      " 21%|██▏       | 68/320 [03:28<13:10,  3.14s/it]"
     ]
    },
    {
     "name": "stdout",
     "output_type": "stream",
     "text": [
      "[Успех] 2860: Обложка найдена через OpenLibrary\n"
     ]
    },
    {
     "name": "stderr",
     "output_type": "stream",
     "text": [
      " 22%|██▏       | 69/320 [03:32<14:35,  3.49s/it]"
     ]
    },
    {
     "name": "stdout",
     "output_type": "stream",
     "text": [
      "[Успех] 2609: Обложка найдена через OpenLibrary\n"
     ]
    },
    {
     "name": "stderr",
     "output_type": "stream",
     "text": [
      " 22%|██▏       | 70/320 [03:36<15:00,  3.60s/it]"
     ]
    },
    {
     "name": "stdout",
     "output_type": "stream",
     "text": [
      "[Успех] 24874: Обложка найдена через OpenLibrary\n"
     ]
    },
    {
     "name": "stderr",
     "output_type": "stream",
     "text": [
      " 22%|██▏       | 71/320 [03:41<15:58,  3.85s/it]"
     ]
    },
    {
     "name": "stdout",
     "output_type": "stream",
     "text": [
      "[Успех] 22775: Обложка найдена через OpenLibrary\n"
     ]
    },
    {
     "name": "stderr",
     "output_type": "stream",
     "text": [
      " 22%|██▎       | 72/320 [03:43<13:45,  3.33s/it]"
     ]
    },
    {
     "name": "stdout",
     "output_type": "stream",
     "text": [
      "[Пропуск] 13610: Обложка не найдена ни в одном источнике\n"
     ]
    },
    {
     "name": "stderr",
     "output_type": "stream",
     "text": [
      " 23%|██▎       | 73/320 [03:44<11:17,  2.74s/it]"
     ]
    },
    {
     "name": "stdout",
     "output_type": "stream",
     "text": [
      "[Успех] 17811: Обложка найдена через OpenLibrary\n"
     ]
    },
    {
     "name": "stderr",
     "output_type": "stream",
     "text": [
      " 23%|██▎       | 74/320 [03:47<11:14,  2.74s/it]"
     ]
    },
    {
     "name": "stdout",
     "output_type": "stream",
     "text": [
      "[Пропуск] 4071: Обложка не найдена ни в одном источнике\n"
     ]
    },
    {
     "name": "stderr",
     "output_type": "stream",
     "text": [
      " 23%|██▎       | 75/320 [03:53<15:53,  3.89s/it]"
     ]
    },
    {
     "name": "stdout",
     "output_type": "stream",
     "text": [
      "[Успех] 14021: Обложка найдена через OpenLibrary\n"
     ]
    },
    {
     "name": "stderr",
     "output_type": "stream",
     "text": [
      " 24%|██▍       | 76/320 [03:55<12:40,  3.12s/it]"
     ]
    },
    {
     "name": "stdout",
     "output_type": "stream",
     "text": [
      "[Успех] 9746: Обложка найдена через OpenLibrary\n"
     ]
    },
    {
     "name": "stderr",
     "output_type": "stream",
     "text": [
      " 24%|██▍       | 77/320 [03:59<14:14,  3.52s/it]"
     ]
    },
    {
     "name": "stdout",
     "output_type": "stream",
     "text": [
      "[Успех] 17780: Обложка найдена через OpenLibrary\n"
     ]
    },
    {
     "name": "stderr",
     "output_type": "stream",
     "text": [
      " 24%|██▍       | 78/320 [04:02<13:28,  3.34s/it]"
     ]
    },
    {
     "name": "stdout",
     "output_type": "stream",
     "text": [
      "[Пропуск] 10869: Обложка не найдена ни в одном источнике\n"
     ]
    },
    {
     "name": "stderr",
     "output_type": "stream",
     "text": [
      " 25%|██▍       | 79/320 [04:06<14:27,  3.60s/it]"
     ]
    },
    {
     "name": "stdout",
     "output_type": "stream",
     "text": [
      "[Успех] 3438: Обложка найдена через OpenLibrary\n"
     ]
    },
    {
     "name": "stderr",
     "output_type": "stream",
     "text": [
      " 25%|██▌       | 80/320 [04:11<15:50,  3.96s/it]"
     ]
    },
    {
     "name": "stdout",
     "output_type": "stream",
     "text": [
      "[Успех] 4599: Обложка найдена через OpenLibrary\n"
     ]
    },
    {
     "name": "stderr",
     "output_type": "stream",
     "text": [
      " 25%|██▌       | 81/320 [04:13<13:02,  3.27s/it]"
     ]
    },
    {
     "name": "stdout",
     "output_type": "stream",
     "text": [
      "[Успех] 1751: Обложка найдена через OpenLibrary\n"
     ]
    },
    {
     "name": "stderr",
     "output_type": "stream",
     "text": [
      " 26%|██▌       | 82/320 [04:14<11:00,  2.78s/it]"
     ]
    },
    {
     "name": "stdout",
     "output_type": "stream",
     "text": [
      "[Успех] 1839: Обложка найдена через OpenLibrary\n"
     ]
    },
    {
     "name": "stderr",
     "output_type": "stream",
     "text": [
      " 26%|██▌       | 83/320 [04:16<10:07,  2.56s/it]"
     ]
    },
    {
     "name": "stdout",
     "output_type": "stream",
     "text": [
      "[Успех] 17854: Обложка найдена через OpenLibrary\n"
     ]
    },
    {
     "name": "stderr",
     "output_type": "stream",
     "text": [
      " 26%|██▋       | 84/320 [04:19<10:14,  2.60s/it]"
     ]
    },
    {
     "name": "stdout",
     "output_type": "stream",
     "text": [
      "[Успех] 32628: Обложка найдена через OpenLibrary\n"
     ]
    },
    {
     "name": "stderr",
     "output_type": "stream",
     "text": [
      " 27%|██▋       | 85/320 [04:22<10:05,  2.58s/it]"
     ]
    },
    {
     "name": "stdout",
     "output_type": "stream",
     "text": [
      "[Успех] 362: Обложка найдена через Gutenberg\n"
     ]
    },
    {
     "name": "stderr",
     "output_type": "stream",
     "text": [
      " 27%|██▋       | 86/320 [04:23<08:58,  2.30s/it]"
     ]
    },
    {
     "name": "stdout",
     "output_type": "stream",
     "text": [
      "[Успех] 34944: Обложка найдена через OpenLibrary\n"
     ]
    },
    {
     "name": "stderr",
     "output_type": "stream",
     "text": [
      " 27%|██▋       | 87/320 [04:26<09:08,  2.35s/it]"
     ]
    },
    {
     "name": "stdout",
     "output_type": "stream",
     "text": [
      "[Успех] 5118: Обложка найдена через OpenLibrary\n"
     ]
    },
    {
     "name": "stderr",
     "output_type": "stream",
     "text": [
      " 28%|██▊       | 88/320 [04:30<11:25,  2.95s/it]"
     ]
    },
    {
     "name": "stdout",
     "output_type": "stream",
     "text": [
      "[Успех] 13015: Обложка найдена через OpenLibrary\n"
     ]
    },
    {
     "name": "stderr",
     "output_type": "stream",
     "text": [
      " 28%|██▊       | 89/320 [04:35<14:07,  3.67s/it]"
     ]
    },
    {
     "name": "stdout",
     "output_type": "stream",
     "text": [
      "[Успех] 18734: Обложка найдена через OpenLibrary\n"
     ]
    },
    {
     "name": "stderr",
     "output_type": "stream",
     "text": [
      " 28%|██▊       | 90/320 [04:38<13:15,  3.46s/it]"
     ]
    },
    {
     "name": "stdout",
     "output_type": "stream",
     "text": [
      "[Успех] 12600: Обложка найдена через OpenLibrary\n"
     ]
    },
    {
     "name": "stderr",
     "output_type": "stream",
     "text": [
      " 28%|██▊       | 91/320 [04:41<11:51,  3.11s/it]"
     ]
    },
    {
     "name": "stdout",
     "output_type": "stream",
     "text": [
      "[Успех] 16653: Обложка найдена через OpenLibrary\n"
     ]
    },
    {
     "name": "stderr",
     "output_type": "stream",
     "text": [
      " 29%|██▉       | 92/320 [04:44<11:35,  3.05s/it]"
     ]
    },
    {
     "name": "stdout",
     "output_type": "stream",
     "text": [
      "[Успех] 35587: Обложка найдена через Gutenberg\n"
     ]
    },
    {
     "name": "stderr",
     "output_type": "stream",
     "text": [
      " 29%|██▉       | 93/320 [04:48<12:44,  3.37s/it]"
     ]
    },
    {
     "name": "stdout",
     "output_type": "stream",
     "text": [
      "[Успех] 19323: Обложка найдена через OpenLibrary\n"
     ]
    },
    {
     "name": "stderr",
     "output_type": "stream",
     "text": [
      " 29%|██▉       | 94/320 [04:52<13:51,  3.68s/it]"
     ]
    },
    {
     "name": "stdout",
     "output_type": "stream",
     "text": [
      "[Успех] 1268: Обложка найдена через OpenLibrary\n"
     ]
    },
    {
     "name": "stderr",
     "output_type": "stream",
     "text": [
      " 30%|██▉       | 95/320 [04:56<14:20,  3.83s/it]"
     ]
    },
    {
     "name": "stdout",
     "output_type": "stream",
     "text": [
      "[Успех] 20064: Обложка найдена через OpenLibrary\n"
     ]
    },
    {
     "name": "stderr",
     "output_type": "stream",
     "text": [
      " 30%|███       | 96/320 [05:00<14:24,  3.86s/it]"
     ]
    },
    {
     "name": "stdout",
     "output_type": "stream",
     "text": [
      "[Успех] 24876: Обложка найдена через OpenLibrary\n"
     ]
    },
    {
     "name": "stderr",
     "output_type": "stream",
     "text": [
      " 30%|███       | 97/320 [05:03<13:15,  3.57s/it]"
     ]
    },
    {
     "name": "stdout",
     "output_type": "stream",
     "text": [
      "[Успех] 1948: Обложка найдена через Gutenberg\n"
     ]
    },
    {
     "name": "stderr",
     "output_type": "stream",
     "text": [
      " 31%|███       | 98/320 [05:08<15:01,  4.06s/it]"
     ]
    },
    {
     "name": "stdout",
     "output_type": "stream",
     "text": [
      "[Успех] 21959: Обложка найдена через OpenLibrary\n"
     ]
    },
    {
     "name": "stderr",
     "output_type": "stream",
     "text": [
      " 31%|███       | 99/320 [05:10<12:09,  3.30s/it]"
     ]
    },
    {
     "name": "stdout",
     "output_type": "stream",
     "text": [
      "[Успех] 13110: Обложка найдена через OpenLibrary\n"
     ]
    },
    {
     "name": "stderr",
     "output_type": "stream",
     "text": [
      " 31%|███▏      | 100/320 [05:15<14:32,  3.96s/it]"
     ]
    },
    {
     "name": "stdout",
     "output_type": "stream",
     "text": [
      "[Успех] 12347: Обложка найдена через OpenLibrary\n"
     ]
    },
    {
     "name": "stderr",
     "output_type": "stream",
     "text": [
      " 32%|███▏      | 101/320 [05:17<12:08,  3.33s/it]"
     ]
    },
    {
     "name": "stdout",
     "output_type": "stream",
     "text": [
      "[Успех] 21854: Обложка найдена через OpenLibrary\n"
     ]
    },
    {
     "name": "stderr",
     "output_type": "stream",
     "text": [
      " 32%|███▏      | 102/320 [05:19<10:31,  2.90s/it]"
     ]
    },
    {
     "name": "stdout",
     "output_type": "stream",
     "text": [
      "[Успех] 25493: Обложка найдена через Gutenberg\n"
     ]
    },
    {
     "name": "stderr",
     "output_type": "stream",
     "text": [
      " 32%|███▏      | 103/320 [05:26<14:53,  4.12s/it]"
     ]
    },
    {
     "name": "stdout",
     "output_type": "stream",
     "text": [
      "[Успех] 24877: Обложка найдена через OpenLibrary\n"
     ]
    },
    {
     "name": "stderr",
     "output_type": "stream",
     "text": [
      " 32%|███▎      | 104/320 [05:28<12:32,  3.48s/it]"
     ]
    },
    {
     "name": "stdout",
     "output_type": "stream",
     "text": [
      "[Успех] 1734: Обложка найдена через OpenLibrary\n"
     ]
    },
    {
     "name": "stderr",
     "output_type": "stream",
     "text": [
      " 33%|███▎      | 105/320 [05:31<11:30,  3.21s/it]"
     ]
    },
    {
     "name": "stdout",
     "output_type": "stream",
     "text": [
      "[Успех] 37039: Обложка найдена через OpenLibrary\n"
     ]
    },
    {
     "name": "stderr",
     "output_type": "stream",
     "text": [
      " 33%|███▎      | 106/320 [05:34<11:47,  3.31s/it]"
     ]
    },
    {
     "name": "stdout",
     "output_type": "stream",
     "text": [
      "[Успех] 30905: Обложка найдена через Gutenberg\n"
     ]
    },
    {
     "name": "stderr",
     "output_type": "stream",
     "text": [
      " 33%|███▎      | 107/320 [05:36<10:03,  2.83s/it]"
     ]
    },
    {
     "name": "stdout",
     "output_type": "stream",
     "text": [
      "[Пропуск] 5136: Обложка не найдена ни в одном источнике\n"
     ]
    },
    {
     "name": "stderr",
     "output_type": "stream",
     "text": [
      " 34%|███▍      | 108/320 [05:37<08:28,  2.40s/it]"
     ]
    },
    {
     "name": "stdout",
     "output_type": "stream",
     "text": [
      "[Успех] 7502: Обложка найдена через OpenLibrary\n"
     ]
    },
    {
     "name": "stderr",
     "output_type": "stream",
     "text": [
      " 34%|███▍      | 109/320 [05:46<15:17,  4.35s/it]"
     ]
    },
    {
     "name": "stdout",
     "output_type": "stream",
     "text": [
      "[Успех] 24432: Обложка найдена через OpenLibrary\n",
      "[Ошибка] 27826: Не удалось скачать с OpenLibrary (https://covers.openlibrary.org/b/id/11213284-M.jpg): HTTPSConnectionPool(host='archive.org', port=443): Read timed out. (read timeout=10)\n"
     ]
    },
    {
     "name": "stderr",
     "output_type": "stream",
     "text": [
      " 34%|███▍      | 110/320 [06:00<25:23,  7.25s/it]"
     ]
    },
    {
     "name": "stdout",
     "output_type": "stream",
     "text": [
      "[Успех] 27826: Обложка найдена через Gutenberg\n"
     ]
    },
    {
     "name": "stderr",
     "output_type": "stream",
     "text": [
      " 35%|███▍      | 111/320 [06:02<19:13,  5.52s/it]"
     ]
    },
    {
     "name": "stdout",
     "output_type": "stream",
     "text": [
      "[Успех] 2866: Обложка найдена через OpenLibrary\n",
      "[Ошибка] 19347: Не удалось скачать с OpenLibrary (https://covers.openlibrary.org/b/id/12707846-M.jpg): HTTPSConnectionPool(host='archive.org', port=443): Read timed out. (read timeout=10)\n"
     ]
    },
    {
     "name": "stderr",
     "output_type": "stream",
     "text": [
      " 35%|███▌      | 112/320 [06:16<28:22,  8.18s/it]"
     ]
    },
    {
     "name": "stdout",
     "output_type": "stream",
     "text": [
      "[Успех] 19347: Обложка найдена через Gutenberg\n"
     ]
    },
    {
     "name": "stderr",
     "output_type": "stream",
     "text": [
      " 35%|███▌      | 113/320 [06:26<29:36,  8.58s/it]"
     ]
    },
    {
     "name": "stdout",
     "output_type": "stream",
     "text": [
      "[Успех] 3282: Обложка найдена через OpenLibrary\n"
     ]
    },
    {
     "name": "stderr",
     "output_type": "stream",
     "text": [
      " 36%|███▌      | 114/320 [06:28<22:57,  6.69s/it]"
     ]
    },
    {
     "name": "stdout",
     "output_type": "stream",
     "text": [
      "[Успех] 35862: Обложка найдена через Gutenberg\n"
     ]
    },
    {
     "name": "stderr",
     "output_type": "stream",
     "text": [
      " 36%|███▌      | 115/320 [06:36<23:57,  7.01s/it]"
     ]
    },
    {
     "name": "stdout",
     "output_type": "stream",
     "text": [
      "[Успех] 1184: Обложка найдена через OpenLibrary\n"
     ]
    },
    {
     "name": "stderr",
     "output_type": "stream",
     "text": [
      " 36%|███▋      | 116/320 [06:38<19:11,  5.65s/it]"
     ]
    },
    {
     "name": "stdout",
     "output_type": "stream",
     "text": [
      "[Успех] 38556: Обложка найдена через Gutenberg\n"
     ]
    },
    {
     "name": "stderr",
     "output_type": "stream",
     "text": [
      " 37%|███▋      | 117/320 [06:46<21:41,  6.41s/it]"
     ]
    },
    {
     "name": "stdout",
     "output_type": "stream",
     "text": [
      "[Успех] 13029: Обложка найдена через OpenLibrary\n"
     ]
    },
    {
     "name": "stderr",
     "output_type": "stream",
     "text": [
      " 37%|███▋      | 118/320 [06:49<17:54,  5.32s/it]"
     ]
    },
    {
     "name": "stdout",
     "output_type": "stream",
     "text": [
      "[Успех] 34468: Обложка найдена через Gutenberg\n"
     ]
    },
    {
     "name": "stderr",
     "output_type": "stream",
     "text": [
      " 37%|███▋      | 119/320 [06:55<18:35,  5.55s/it]"
     ]
    },
    {
     "name": "stdout",
     "output_type": "stream",
     "text": [
      "[Успех] 19207: Обложка найдена через OpenLibrary\n"
     ]
    },
    {
     "name": "stderr",
     "output_type": "stream",
     "text": [
      " 38%|███▊      | 120/320 [06:57<15:02,  4.51s/it]"
     ]
    },
    {
     "name": "stdout",
     "output_type": "stream",
     "text": [
      "[Успех] 35950: Обложка найдена через OpenLibrary\n"
     ]
    },
    {
     "name": "stderr",
     "output_type": "stream",
     "text": [
      " 38%|███▊      | 121/320 [07:00<13:20,  4.02s/it]"
     ]
    },
    {
     "name": "stdout",
     "output_type": "stream",
     "text": [
      "[Успех] 18284: Обложка найдена через Gutenberg\n"
     ]
    },
    {
     "name": "stderr",
     "output_type": "stream",
     "text": [
      " 38%|███▊      | 122/320 [07:06<15:35,  4.72s/it]"
     ]
    },
    {
     "name": "stdout",
     "output_type": "stream",
     "text": [
      "[Успех] 15268: Обложка найдена через OpenLibrary\n"
     ]
    },
    {
     "name": "stderr",
     "output_type": "stream",
     "text": [
      " 38%|███▊      | 123/320 [07:12<16:35,  5.05s/it]"
     ]
    },
    {
     "name": "stdout",
     "output_type": "stream",
     "text": [
      "[Успех] 18018: Обложка найдена через OpenLibrary\n"
     ]
    },
    {
     "name": "stderr",
     "output_type": "stream",
     "text": [
      " 39%|███▉      | 124/320 [07:15<13:58,  4.28s/it]"
     ]
    },
    {
     "name": "stdout",
     "output_type": "stream",
     "text": [
      "[Успех] 8642: Обложка найдена через Gutenberg\n"
     ]
    },
    {
     "name": "stderr",
     "output_type": "stream",
     "text": [
      " 39%|███▉      | 125/320 [07:18<12:54,  3.97s/it]"
     ]
    },
    {
     "name": "stdout",
     "output_type": "stream",
     "text": [
      "[Успех] 25652: Обложка найдена через Gutenberg\n"
     ]
    },
    {
     "name": "stderr",
     "output_type": "stream",
     "text": [
      " 39%|███▉      | 126/320 [07:23<13:28,  4.17s/it]"
     ]
    },
    {
     "name": "stdout",
     "output_type": "stream",
     "text": [
      "[Успех] 39324: Обложка найдена через OpenLibrary\n"
     ]
    },
    {
     "name": "stderr",
     "output_type": "stream",
     "text": [
      " 40%|███▉      | 127/320 [07:29<15:37,  4.86s/it]"
     ]
    },
    {
     "name": "stdout",
     "output_type": "stream",
     "text": [
      "[Успех] 25333: Обложка найдена через OpenLibrary\n"
     ]
    },
    {
     "name": "stderr",
     "output_type": "stream",
     "text": [
      " 40%|████      | 128/320 [07:31<12:57,  4.05s/it]"
     ]
    },
    {
     "name": "stdout",
     "output_type": "stream",
     "text": [
      "[Успех] 5669: Обложка найдена через OpenLibrary\n"
     ]
    },
    {
     "name": "stderr",
     "output_type": "stream",
     "text": [
      " 40%|████      | 129/320 [07:33<10:29,  3.29s/it]"
     ]
    },
    {
     "name": "stdout",
     "output_type": "stream",
     "text": [
      "[Успех] 2395: Обложка найдена через OpenLibrary\n"
     ]
    },
    {
     "name": "stderr",
     "output_type": "stream",
     "text": [
      " 41%|████      | 130/320 [07:38<12:42,  4.01s/it]"
     ]
    },
    {
     "name": "stdout",
     "output_type": "stream",
     "text": [
      "[Успех] 27448: Обложка найдена через OpenLibrary\n"
     ]
    },
    {
     "name": "stderr",
     "output_type": "stream",
     "text": [
      " 41%|████      | 131/320 [07:40<10:44,  3.41s/it]"
     ]
    },
    {
     "name": "stdout",
     "output_type": "stream",
     "text": [
      "[Успех] 5803: Обложка найдена через OpenLibrary\n"
     ]
    },
    {
     "name": "stderr",
     "output_type": "stream",
     "text": [
      " 41%|████▏     | 132/320 [07:42<08:47,  2.80s/it]"
     ]
    },
    {
     "name": "stdout",
     "output_type": "stream",
     "text": [
      "[Успех] 21639: Обложка найдена через OpenLibrary\n"
     ]
    },
    {
     "name": "stderr",
     "output_type": "stream",
     "text": [
      " 42%|████▏     | 133/320 [07:43<07:29,  2.40s/it]"
     ]
    },
    {
     "name": "stdout",
     "output_type": "stream",
     "text": [
      "[Успех] 28572: Обложка найдена через OpenLibrary\n"
     ]
    },
    {
     "name": "stderr",
     "output_type": "stream",
     "text": [
      " 42%|████▏     | 134/320 [07:47<08:14,  2.66s/it]"
     ]
    },
    {
     "name": "stdout",
     "output_type": "stream",
     "text": [
      "[Успех] 37756: Обложка найдена через Gutenberg\n"
     ]
    },
    {
     "name": "stderr",
     "output_type": "stream",
     "text": [
      " 42%|████▏     | 135/320 [07:49<07:46,  2.52s/it]"
     ]
    },
    {
     "name": "stdout",
     "output_type": "stream",
     "text": [
      "[Успех] 1693: Обложка найдена через OpenLibrary\n"
     ]
    },
    {
     "name": "stderr",
     "output_type": "stream",
     "text": [
      " 42%|████▎     | 136/320 [07:52<08:25,  2.75s/it]"
     ]
    },
    {
     "name": "stdout",
     "output_type": "stream",
     "text": [
      "[Успех] 20183: Обложка найдена через Gutenberg\n"
     ]
    },
    {
     "name": "stderr",
     "output_type": "stream",
     "text": [
      " 43%|████▎     | 137/320 [07:53<07:09,  2.35s/it]"
     ]
    },
    {
     "name": "stdout",
     "output_type": "stream",
     "text": [
      "[Успех] 60: Обложка найдена через OpenLibrary\n"
     ]
    },
    {
     "name": "stderr",
     "output_type": "stream",
     "text": [
      " 43%|████▎     | 138/320 [07:55<06:37,  2.18s/it]"
     ]
    },
    {
     "name": "stdout",
     "output_type": "stream",
     "text": [
      "[Успех] 19213: Обложка найдена через OpenLibrary\n"
     ]
    },
    {
     "name": "stderr",
     "output_type": "stream",
     "text": [
      " 43%|████▎     | 139/320 [07:57<06:18,  2.09s/it]"
     ]
    },
    {
     "name": "stdout",
     "output_type": "stream",
     "text": [
      "[Успех] 3760: Обложка найдена через OpenLibrary\n"
     ]
    },
    {
     "name": "stderr",
     "output_type": "stream",
     "text": [
      " 44%|████▍     | 140/320 [08:01<07:40,  2.56s/it]"
     ]
    },
    {
     "name": "stdout",
     "output_type": "stream",
     "text": [
      "[Успех] 9363: Обложка найдена через Gutenberg\n"
     ]
    },
    {
     "name": "stderr",
     "output_type": "stream",
     "text": [
      " 44%|████▍     | 141/320 [08:08<11:51,  3.97s/it]"
     ]
    },
    {
     "name": "stdout",
     "output_type": "stream",
     "text": [
      "[Успех] 22699: Обложка найдена через OpenLibrary\n"
     ]
    },
    {
     "name": "stderr",
     "output_type": "stream",
     "text": [
      " 44%|████▍     | 142/320 [08:09<09:27,  3.19s/it]"
     ]
    },
    {
     "name": "stdout",
     "output_type": "stream",
     "text": [
      "[Успех] 41666: Обложка найдена через OpenLibrary\n"
     ]
    },
    {
     "name": "stderr",
     "output_type": "stream",
     "text": [
      " 45%|████▍     | 143/320 [08:20<15:43,  5.33s/it]"
     ]
    },
    {
     "name": "stdout",
     "output_type": "stream",
     "text": [
      "[Успех] 14627: Обложка найдена через OpenLibrary\n"
     ]
    },
    {
     "name": "stderr",
     "output_type": "stream",
     "text": [
      " 45%|████▌     | 144/320 [08:22<12:47,  4.36s/it]"
     ]
    },
    {
     "name": "stdout",
     "output_type": "stream",
     "text": [
      "[Пропуск] 15263: Обложка не найдена ни в одном источнике\n"
     ]
    },
    {
     "name": "stderr",
     "output_type": "stream",
     "text": [
      " 45%|████▌     | 145/320 [08:35<20:08,  6.90s/it]"
     ]
    },
    {
     "name": "stdout",
     "output_type": "stream",
     "text": [
      "[Успех] 14055: Обложка найдена через OpenLibrary\n"
     ]
    },
    {
     "name": "stderr",
     "output_type": "stream",
     "text": [
      " 46%|████▌     | 146/320 [08:37<15:49,  5.46s/it]"
     ]
    },
    {
     "name": "stdout",
     "output_type": "stream",
     "text": [
      "[Успех] 32455: Обложка найдена через OpenLibrary\n"
     ]
    },
    {
     "name": "stderr",
     "output_type": "stream",
     "text": [
      " 46%|████▋     | 148/320 [08:50<17:08,  5.98s/it]"
     ]
    },
    {
     "name": "stdout",
     "output_type": "stream",
     "text": [
      "[Успех] 805: Обложка найдена через OpenLibrary\n"
     ]
    },
    {
     "name": "stderr",
     "output_type": "stream",
     "text": [
      " 47%|████▋     | 149/320 [08:52<14:29,  5.08s/it]"
     ]
    },
    {
     "name": "stdout",
     "output_type": "stream",
     "text": [
      "[Успех] 1004: Обложка найдена через OpenLibrary\n"
     ]
    },
    {
     "name": "stderr",
     "output_type": "stream",
     "text": [
      " 47%|████▋     | 150/320 [08:54<11:54,  4.21s/it]"
     ]
    },
    {
     "name": "stdout",
     "output_type": "stream",
     "text": [
      "[Успех] 5312: Обложка найдена через OpenLibrary\n"
     ]
    },
    {
     "name": "stderr",
     "output_type": "stream",
     "text": [
      " 47%|████▋     | 151/320 [08:57<10:39,  3.79s/it]"
     ]
    },
    {
     "name": "stdout",
     "output_type": "stream",
     "text": [
      "[Успех] 1989: Обложка найдена через Gutenberg\n"
     ]
    },
    {
     "name": "stderr",
     "output_type": "stream",
     "text": [
      " 48%|████▊     | 152/320 [08:59<09:06,  3.25s/it]"
     ]
    },
    {
     "name": "stdout",
     "output_type": "stream",
     "text": [
      "[Успех] 14328: Обложка найдена через OpenLibrary\n"
     ]
    },
    {
     "name": "stderr",
     "output_type": "stream",
     "text": [
      " 48%|████▊     | 153/320 [09:12<17:22,  6.24s/it]"
     ]
    },
    {
     "name": "stdout",
     "output_type": "stream",
     "text": [
      "[Успех] 158: Обложка найдена через OpenLibrary\n"
     ]
    },
    {
     "name": "stderr",
     "output_type": "stream",
     "text": [
      " 48%|████▊     | 154/320 [09:25<22:14,  8.04s/it]"
     ]
    },
    {
     "name": "stdout",
     "output_type": "stream",
     "text": [
      "[Успех] 5658: Обложка найдена через OpenLibrary\n"
     ]
    },
    {
     "name": "stderr",
     "output_type": "stream",
     "text": [
      " 48%|████▊     | 155/320 [09:27<17:18,  6.29s/it]"
     ]
    },
    {
     "name": "stdout",
     "output_type": "stream",
     "text": [
      "[Успех] 964: Обложка найдена через OpenLibrary\n"
     ]
    },
    {
     "name": "stderr",
     "output_type": "stream",
     "text": [
      " 49%|████▉     | 156/320 [09:39<22:13,  8.13s/it]"
     ]
    },
    {
     "name": "stdout",
     "output_type": "stream",
     "text": [
      "[Успех] 1257: Обложка найдена через OpenLibrary\n"
     ]
    },
    {
     "name": "stderr",
     "output_type": "stream",
     "text": [
      " 49%|████▉     | 157/320 [09:51<24:40,  9.08s/it]"
     ]
    },
    {
     "name": "stdout",
     "output_type": "stream",
     "text": [
      "[Успех] 3659: Обложка найдена через OpenLibrary\n"
     ]
    },
    {
     "name": "stderr",
     "output_type": "stream",
     "text": [
      " 49%|████▉     | 158/320 [09:59<24:17,  9.00s/it]"
     ]
    },
    {
     "name": "stdout",
     "output_type": "stream",
     "text": [
      "[Успех] 940: Обложка найдена через OpenLibrary\n"
     ]
    },
    {
     "name": "stderr",
     "output_type": "stream",
     "text": [
      " 50%|████▉     | 159/320 [10:08<24:03,  8.97s/it]"
     ]
    },
    {
     "name": "stdout",
     "output_type": "stream",
     "text": [
      "[Успех] 47: Обложка найдена через OpenLibrary\n"
     ]
    },
    {
     "name": "stderr",
     "output_type": "stream",
     "text": [
      " 50%|█████     | 160/320 [10:17<23:18,  8.74s/it]"
     ]
    },
    {
     "name": "stdout",
     "output_type": "stream",
     "text": [
      "[Успех] 4363: Обложка найдена через OpenLibrary\n"
     ]
    },
    {
     "name": "stderr",
     "output_type": "stream",
     "text": [
      " 50%|█████     | 161/320 [10:19<17:46,  6.71s/it]"
     ]
    },
    {
     "name": "stdout",
     "output_type": "stream",
     "text": [
      "[Успех] 3748: Обложка найдена через OpenLibrary\n"
     ]
    },
    {
     "name": "stderr",
     "output_type": "stream",
     "text": [
      " 51%|█████     | 162/320 [10:20<13:39,  5.19s/it]"
     ]
    },
    {
     "name": "stdout",
     "output_type": "stream",
     "text": [
      "[Успех] 1468: Обложка найдена через OpenLibrary\n"
     ]
    },
    {
     "name": "stderr",
     "output_type": "stream",
     "text": [
      " 51%|█████     | 163/320 [10:22<11:07,  4.25s/it]"
     ]
    },
    {
     "name": "stdout",
     "output_type": "stream",
     "text": [
      "[Успех] 62: Обложка найдена через OpenLibrary\n"
     ]
    },
    {
     "name": "stderr",
     "output_type": "stream",
     "text": [
      " 51%|█████▏    | 164/320 [10:34<16:40,  6.41s/it]"
     ]
    },
    {
     "name": "stdout",
     "output_type": "stream",
     "text": [
      "[Успех] 600: Обложка найдена через OpenLibrary\n",
      "[Ошибка] 1041: Не удалось скачать с OpenLibrary (https://covers.openlibrary.org/b/id/8222090-M.jpg): HTTPSConnectionPool(host='archive.org', port=443): Read timed out. (read timeout=10)\n"
     ]
    },
    {
     "name": "stderr",
     "output_type": "stream",
     "text": [
      " 52%|█████▏    | 165/320 [10:48<22:36,  8.75s/it]"
     ]
    },
    {
     "name": "stdout",
     "output_type": "stream",
     "text": [
      "[Успех] 1041: Обложка найдена через Gutenberg\n"
     ]
    },
    {
     "name": "stderr",
     "output_type": "stream",
     "text": [
      " 52%|█████▏    | 166/320 [11:00<24:52,  9.69s/it]"
     ]
    },
    {
     "name": "stdout",
     "output_type": "stream",
     "text": [
      "[Успех] 1342: Обложка найдена через OpenLibrary\n"
     ]
    },
    {
     "name": "stderr",
     "output_type": "stream",
     "text": [
      " 52%|█████▏    | 167/320 [11:03<19:34,  7.68s/it]"
     ]
    },
    {
     "name": "stdout",
     "output_type": "stream",
     "text": [
      "[Успех] 59: Обложка найдена через Gutenberg\n"
     ]
    },
    {
     "name": "stderr",
     "output_type": "stream",
     "text": [
      " 52%|█████▎    | 168/320 [11:13<21:19,  8.42s/it]"
     ]
    },
    {
     "name": "stdout",
     "output_type": "stream",
     "text": [
      "[Успех] 543: Обложка найдена через OpenLibrary\n"
     ]
    },
    {
     "name": "stderr",
     "output_type": "stream",
     "text": [
      " 53%|█████▎    | 169/320 [11:15<16:31,  6.57s/it]"
     ]
    },
    {
     "name": "stdout",
     "output_type": "stream",
     "text": [
      "[Успех] 24055: Обложка найдена через OpenLibrary\n"
     ]
    },
    {
     "name": "stderr",
     "output_type": "stream",
     "text": [
      " 53%|█████▎    | 170/320 [11:17<12:37,  5.05s/it]"
     ]
    },
    {
     "name": "stdout",
     "output_type": "stream",
     "text": [
      "[Успех] 6917: Обложка найдена через OpenLibrary\n"
     ]
    },
    {
     "name": "stderr",
     "output_type": "stream",
     "text": [
      " 53%|█████▎    | 171/320 [11:19<10:41,  4.31s/it]"
     ]
    },
    {
     "name": "stdout",
     "output_type": "stream",
     "text": [
      "[Пропуск] 8318: Обложка не найдена ни в одном источнике\n"
     ]
    },
    {
     "name": "stderr",
     "output_type": "stream",
     "text": [
      " 54%|█████▍    | 172/320 [11:22<09:33,  3.88s/it]"
     ]
    },
    {
     "name": "stdout",
     "output_type": "stream",
     "text": [
      "[Успех] 14971: Обложка найдена через OpenLibrary\n"
     ]
    },
    {
     "name": "stderr",
     "output_type": "stream",
     "text": [
      " 54%|█████▍    | 173/320 [11:30<12:40,  5.17s/it]"
     ]
    },
    {
     "name": "stdout",
     "output_type": "stream",
     "text": [
      "[Успех] 697: Обложка найдена через OpenLibrary\n"
     ]
    },
    {
     "name": "stderr",
     "output_type": "stream",
     "text": [
      " 54%|█████▍    | 174/320 [11:39<15:18,  6.29s/it]"
     ]
    },
    {
     "name": "stdout",
     "output_type": "stream",
     "text": [
      "[Успех] 2591: Обложка найдена через OpenLibrary\n"
     ]
    },
    {
     "name": "stderr",
     "output_type": "stream",
     "text": [
      " 55%|█████▍    | 175/320 [11:50<18:48,  7.78s/it]"
     ]
    },
    {
     "name": "stdout",
     "output_type": "stream",
     "text": [
      "[Успех] 9845: Обложка найдена через OpenLibrary\n"
     ]
    },
    {
     "name": "stderr",
     "output_type": "stream",
     "text": [
      " 55%|█████▌    | 176/320 [12:04<22:48,  9.50s/it]"
     ]
    },
    {
     "name": "stdout",
     "output_type": "stream",
     "text": [
      "[Успех] 5342: Обложка найдена через OpenLibrary\n"
     ]
    },
    {
     "name": "stderr",
     "output_type": "stream",
     "text": [
      " 55%|█████▌    | 177/320 [12:06<17:15,  7.24s/it]"
     ]
    },
    {
     "name": "stdout",
     "output_type": "stream",
     "text": [
      "[Успех] 501: Обложка найдена через OpenLibrary\n"
     ]
    },
    {
     "name": "stderr",
     "output_type": "stream",
     "text": [
      " 56%|█████▌    | 178/320 [12:08<13:18,  5.62s/it]"
     ]
    },
    {
     "name": "stdout",
     "output_type": "stream",
     "text": [
      "[Успех] 204: Обложка найдена через OpenLibrary\n"
     ]
    },
    {
     "name": "stderr",
     "output_type": "stream",
     "text": [
      " 56%|█████▌    | 179/320 [12:21<18:36,  7.92s/it]"
     ]
    },
    {
     "name": "stdout",
     "output_type": "stream",
     "text": [
      "[Успех] 120: Обложка найдена через OpenLibrary\n"
     ]
    },
    {
     "name": "stderr",
     "output_type": "stream",
     "text": [
      " 56%|█████▋    | 180/320 [12:33<20:56,  8.98s/it]"
     ]
    },
    {
     "name": "stdout",
     "output_type": "stream",
     "text": [
      "[Успех] 7091: Обложка найдена через OpenLibrary\n",
      "[Ошибка] 5921: Не удалось скачать с OpenLibrary (https://covers.openlibrary.org/b/id/14428305-M.jpg): HTTPSConnectionPool(host='archive.org', port=443): Read timed out. (read timeout=10)\n"
     ]
    },
    {
     "name": "stderr",
     "output_type": "stream",
     "text": [
      " 57%|█████▋    | 181/320 [12:47<24:40, 10.65s/it]"
     ]
    },
    {
     "name": "stdout",
     "output_type": "stream",
     "text": [
      "[Пропуск] 5921: Обложка не найдена ни в одном источнике\n"
     ]
    },
    {
     "name": "stderr",
     "output_type": "stream",
     "text": [
      " 57%|█████▋    | 182/320 [13:00<25:59, 11.30s/it]"
     ]
    },
    {
     "name": "stdout",
     "output_type": "stream",
     "text": [
      "[Успех] 98: Обложка найдена через OpenLibrary\n"
     ]
    },
    {
     "name": "stderr",
     "output_type": "stream",
     "text": [
      " 57%|█████▋    | 183/320 [13:03<20:03,  8.78s/it]"
     ]
    },
    {
     "name": "stdout",
     "output_type": "stream",
     "text": [
      "[Успех] 18542: Обложка найдена через OpenLibrary\n"
     ]
    },
    {
     "name": "stderr",
     "output_type": "stream",
     "text": [
      " 57%|█████▊    | 184/320 [13:05<15:35,  6.88s/it]"
     ]
    },
    {
     "name": "stdout",
     "output_type": "stream",
     "text": [
      "[Успех] 18992: Обложка найдена через OpenLibrary\n"
     ]
    },
    {
     "name": "stderr",
     "output_type": "stream",
     "text": [
      " 58%|█████▊    | 185/320 [13:09<13:06,  5.82s/it]"
     ]
    },
    {
     "name": "stdout",
     "output_type": "stream",
     "text": [
      "[Успех] 32547: Обложка найдена через OpenLibrary\n"
     ]
    },
    {
     "name": "stderr",
     "output_type": "stream",
     "text": [
      " 58%|█████▊    | 186/320 [13:12<11:19,  5.07s/it]"
     ]
    },
    {
     "name": "stdout",
     "output_type": "stream",
     "text": [
      "[Успех] 17188: Обложка найдена через OpenLibrary\n"
     ]
    },
    {
     "name": "stderr",
     "output_type": "stream",
     "text": [
      " 58%|█████▊    | 187/320 [13:15<10:03,  4.54s/it]"
     ]
    },
    {
     "name": "stdout",
     "output_type": "stream",
     "text": [
      "[Успех] 599: Обложка найдена через OpenLibrary\n"
     ]
    },
    {
     "name": "stderr",
     "output_type": "stream",
     "text": [
      " 59%|█████▉    | 188/320 [13:31<17:17,  7.86s/it]"
     ]
    },
    {
     "name": "stdout",
     "output_type": "stream",
     "text": [
      "[Успех] 2944: Обложка найдена через OpenLibrary\n"
     ]
    },
    {
     "name": "stderr",
     "output_type": "stream",
     "text": [
      " 59%|█████▉    | 189/320 [13:35<14:33,  6.67s/it]"
     ]
    },
    {
     "name": "stdout",
     "output_type": "stream",
     "text": [
      "[Успех] 370: Обложка найдена через Gutenberg\n"
     ]
    },
    {
     "name": "stderr",
     "output_type": "stream",
     "text": [
      " 59%|█████▉    | 190/320 [13:46<17:18,  7.99s/it]"
     ]
    },
    {
     "name": "stdout",
     "output_type": "stream",
     "text": [
      "[Успех] 161: Обложка найдена через OpenLibrary\n"
     ]
    },
    {
     "name": "stderr",
     "output_type": "stream",
     "text": [
      " 60%|█████▉    | 191/320 [13:59<20:16,  9.43s/it]"
     ]
    },
    {
     "name": "stdout",
     "output_type": "stream",
     "text": [
      "[Успех] 73: Обложка найдена через OpenLibrary\n"
     ]
    },
    {
     "name": "stderr",
     "output_type": "stream",
     "text": [
      " 60%|██████    | 192/320 [14:00<14:57,  7.01s/it]"
     ]
    },
    {
     "name": "stdout",
     "output_type": "stream",
     "text": [
      "[Успех] 18362: Обложка найдена через OpenLibrary\n"
     ]
    },
    {
     "name": "stderr",
     "output_type": "stream",
     "text": [
      " 60%|██████    | 193/320 [14:02<11:39,  5.51s/it]"
     ]
    },
    {
     "name": "stdout",
     "output_type": "stream",
     "text": [
      "[Пропуск] 11938: Обложка не найдена ни в одном источнике\n",
      "[Ошибка] 7469: Не удалось скачать с OpenLibrary (https://covers.openlibrary.org/b/id/8243960-M.jpg): HTTPSConnectionPool(host='archive.org', port=443): Read timed out. (read timeout=10)\n"
     ]
    },
    {
     "name": "stderr",
     "output_type": "stream",
     "text": [
      " 61%|██████    | 194/320 [14:16<16:52,  8.04s/it]"
     ]
    },
    {
     "name": "stdout",
     "output_type": "stream",
     "text": [
      "[Успех] 7469: Обложка найдена через Gutenberg\n"
     ]
    },
    {
     "name": "stderr",
     "output_type": "stream",
     "text": [
      " 61%|██████    | 195/320 [14:18<12:53,  6.19s/it]"
     ]
    },
    {
     "name": "stdout",
     "output_type": "stream",
     "text": [
      "[Успех] 1264: Обложка найдена через OpenLibrary\n"
     ]
    },
    {
     "name": "stderr",
     "output_type": "stream",
     "text": [
      " 62%|██████▏   | 197/320 [14:20<08:02,  3.92s/it]"
     ]
    },
    {
     "name": "stdout",
     "output_type": "stream",
     "text": [
      "[Успех] 1404: Обложка найдена через OpenLibrary\n"
     ]
    },
    {
     "name": "stderr",
     "output_type": "stream",
     "text": [
      " 62%|██████▏   | 198/320 [14:23<07:10,  3.53s/it]"
     ]
    },
    {
     "name": "stdout",
     "output_type": "stream",
     "text": [
      "[Успех] 4925: Обложка найдена через OpenLibrary\n"
     ]
    },
    {
     "name": "stderr",
     "output_type": "stream",
     "text": [
      " 62%|██████▏   | 199/320 [14:26<06:48,  3.38s/it]"
     ]
    },
    {
     "name": "stdout",
     "output_type": "stream",
     "text": [
      "[Успех] 22472: Обложка найдена через OpenLibrary\n"
     ]
    },
    {
     "name": "stderr",
     "output_type": "stream",
     "text": [
      " 62%|██████▎   | 200/320 [14:28<06:28,  3.24s/it]"
     ]
    },
    {
     "name": "stdout",
     "output_type": "stream",
     "text": [
      "[Успех] 969: Обложка найдена через OpenLibrary\n"
     ]
    },
    {
     "name": "stderr",
     "output_type": "stream",
     "text": [
      " 63%|██████▎   | 201/320 [14:31<06:06,  3.08s/it]"
     ]
    },
    {
     "name": "stdout",
     "output_type": "stream",
     "text": [
      "[Успех] 408: Обложка найдена через OpenLibrary\n"
     ]
    },
    {
     "name": "stderr",
     "output_type": "stream",
     "text": [
      " 63%|██████▎   | 202/320 [14:33<05:37,  2.86s/it]"
     ]
    },
    {
     "name": "stdout",
     "output_type": "stream",
     "text": [
      "[Успех] 3268: Обложка найдена через OpenLibrary\n"
     ]
    },
    {
     "name": "stderr",
     "output_type": "stream",
     "text": [
      " 63%|██████▎   | 203/320 [14:45<10:31,  5.40s/it]"
     ]
    },
    {
     "name": "stdout",
     "output_type": "stream",
     "text": [
      "[Успех] 19942: Обложка найдена через OpenLibrary\n"
     ]
    },
    {
     "name": "stderr",
     "output_type": "stream",
     "text": [
      " 64%|██████▍   | 204/320 [14:49<09:29,  4.91s/it]"
     ]
    },
    {
     "name": "stdout",
     "output_type": "stream",
     "text": [
      "[Успех] 3454: Обложка найдена через OpenLibrary\n",
      "[Ошибка] 20190: Не удалось скачать с OpenLibrary (https://covers.openlibrary.org/b/id/9100090-M.jpg): HTTPSConnectionPool(host='archive.org', port=443): Read timed out. (read timeout=10)\n"
     ]
    },
    {
     "name": "stderr",
     "output_type": "stream",
     "text": [
      " 64%|██████▍   | 205/320 [15:05<15:35,  8.13s/it]"
     ]
    },
    {
     "name": "stdout",
     "output_type": "stream",
     "text": [
      "[Успех] 20190: Обложка найдена через Gutenberg\n"
     ]
    },
    {
     "name": "stderr",
     "output_type": "stream",
     "text": [
      " 64%|██████▍   | 206/320 [15:19<19:03, 10.03s/it]"
     ]
    },
    {
     "name": "stdout",
     "output_type": "stream",
     "text": [
      "[Успех] 16: Обложка найдена через OpenLibrary\n"
     ]
    },
    {
     "name": "stderr",
     "output_type": "stream",
     "text": [
      " 65%|██████▍   | 207/320 [15:22<15:02,  7.99s/it]"
     ]
    },
    {
     "name": "stdout",
     "output_type": "stream",
     "text": [
      "[Успех] 2833: Обложка найдена через Gutenberg\n"
     ]
    },
    {
     "name": "stderr",
     "output_type": "stream",
     "text": [
      " 65%|██████▌   | 208/320 [15:24<11:30,  6.17s/it]"
     ]
    },
    {
     "name": "stdout",
     "output_type": "stream",
     "text": [
      "[Успех] 2688: Обложка найдена через OpenLibrary\n"
     ]
    },
    {
     "name": "stderr",
     "output_type": "stream",
     "text": [
      " 65%|██████▌   | 209/320 [15:36<14:21,  7.76s/it]"
     ]
    },
    {
     "name": "stdout",
     "output_type": "stream",
     "text": [
      "[Успех] 416: Обложка найдена через OpenLibrary\n"
     ]
    },
    {
     "name": "stderr",
     "output_type": "stream",
     "text": [
      " 66%|██████▌   | 210/320 [15:38<11:17,  6.16s/it]"
     ]
    },
    {
     "name": "stdout",
     "output_type": "stream",
     "text": [
      "[Успех] 6471: Обложка найдена через OpenLibrary\n"
     ]
    },
    {
     "name": "stderr",
     "output_type": "stream",
     "text": [
      " 66%|██████▌   | 211/320 [15:40<08:56,  4.92s/it]"
     ]
    },
    {
     "name": "stdout",
     "output_type": "stream",
     "text": [
      "[Успех] 2441: Обложка найдена через OpenLibrary\n"
     ]
    },
    {
     "name": "stderr",
     "output_type": "stream",
     "text": [
      " 66%|██████▋   | 212/320 [15:43<07:31,  4.18s/it]"
     ]
    },
    {
     "name": "stdout",
     "output_type": "stream",
     "text": [
      "[Успех] 5664: Обложка найдена через Gutenberg\n"
     ]
    },
    {
     "name": "stderr",
     "output_type": "stream",
     "text": [
      " 67%|██████▋   | 213/320 [15:55<11:51,  6.65s/it]"
     ]
    },
    {
     "name": "stdout",
     "output_type": "stream",
     "text": [
      "[Успех] 2814: Обложка найдена через OpenLibrary\n"
     ]
    },
    {
     "name": "stderr",
     "output_type": "stream",
     "text": [
      " 67%|██████▋   | 214/320 [15:57<09:19,  5.28s/it]"
     ]
    },
    {
     "name": "stdout",
     "output_type": "stream",
     "text": [
      "[Успех] 20830: Обложка найдена через Gutenberg\n"
     ]
    },
    {
     "name": "stderr",
     "output_type": "stream",
     "text": [
      " 67%|██████▋   | 215/320 [16:07<11:26,  6.54s/it]"
     ]
    },
    {
     "name": "stdout",
     "output_type": "stream",
     "text": [
      "[Успех] 5946: Обложка найдена через OpenLibrary\n"
     ]
    },
    {
     "name": "stderr",
     "output_type": "stream",
     "text": [
      " 68%|██████▊   | 216/320 [16:08<08:51,  5.11s/it]"
     ]
    },
    {
     "name": "stdout",
     "output_type": "stream",
     "text": [
      "[Успех] 83: Обложка найдена через OpenLibrary\n"
     ]
    },
    {
     "name": "stderr",
     "output_type": "stream",
     "text": [
      " 68%|██████▊   | 217/320 [16:10<07:12,  4.20s/it]"
     ]
    },
    {
     "name": "stdout",
     "output_type": "stream",
     "text": [
      "[Успех] 12163: Обложка найдена через OpenLibrary\n"
     ]
    },
    {
     "name": "stderr",
     "output_type": "stream",
     "text": [
      " 68%|██████▊   | 218/320 [16:14<06:33,  3.86s/it]"
     ]
    },
    {
     "name": "stdout",
     "output_type": "stream",
     "text": [
      "[Успех] 18247: Обложка найдена через OpenLibrary\n"
     ]
    },
    {
     "name": "stderr",
     "output_type": "stream",
     "text": [
      " 68%|██████▊   | 219/320 [16:16<05:46,  3.43s/it]"
     ]
    },
    {
     "name": "stdout",
     "output_type": "stream",
     "text": [
      "[Успех] 14770: Обложка найдена через OpenLibrary\n"
     ]
    },
    {
     "name": "stderr",
     "output_type": "stream",
     "text": [
      " 69%|██████▉   | 220/320 [16:27<09:25,  5.65s/it]"
     ]
    },
    {
     "name": "stdout",
     "output_type": "stream",
     "text": [
      "[Успех] 498: Обложка найдена через OpenLibrary\n"
     ]
    },
    {
     "name": "stderr",
     "output_type": "stream",
     "text": [
      " 69%|██████▉   | 221/320 [16:29<07:36,  4.61s/it]"
     ]
    },
    {
     "name": "stdout",
     "output_type": "stream",
     "text": [
      "[Успех] 15082: Обложка найдена через OpenLibrary\n"
     ]
    },
    {
     "name": "stderr",
     "output_type": "stream",
     "text": [
      " 69%|██████▉   | 222/320 [16:31<06:17,  3.86s/it]"
     ]
    },
    {
     "name": "stdout",
     "output_type": "stream",
     "text": [
      "[Успех] 944: Обложка найдена через OpenLibrary\n"
     ]
    },
    {
     "name": "stderr",
     "output_type": "stream",
     "text": [
      " 70%|██████▉   | 223/320 [16:34<05:42,  3.53s/it]"
     ]
    },
    {
     "name": "stdout",
     "output_type": "stream",
     "text": [
      "[Успех] 18972: Обложка найдена через Gutenberg\n"
     ]
    },
    {
     "name": "stderr",
     "output_type": "stream",
     "text": [
      " 70%|███████   | 224/320 [16:36<05:02,  3.15s/it]"
     ]
    },
    {
     "name": "stdout",
     "output_type": "stream",
     "text": [
      "[Успех] 19090: Обложка найдена через OpenLibrary\n"
     ]
    },
    {
     "name": "stderr",
     "output_type": "stream",
     "text": [
      " 70%|███████   | 225/320 [16:46<08:03,  5.09s/it]"
     ]
    },
    {
     "name": "stdout",
     "output_type": "stream",
     "text": [
      "[Успех] 4276: Обложка найдена через OpenLibrary\n"
     ]
    },
    {
     "name": "stderr",
     "output_type": "stream",
     "text": [
      " 71%|███████   | 226/320 [16:48<06:32,  4.18s/it]"
     ]
    },
    {
     "name": "stdout",
     "output_type": "stream",
     "text": [
      "[Успех] 507: Обложка найдена через OpenLibrary\n"
     ]
    },
    {
     "name": "stderr",
     "output_type": "stream",
     "text": [
      " 71%|███████   | 227/320 [16:51<06:12,  4.00s/it]"
     ]
    },
    {
     "name": "stdout",
     "output_type": "stream",
     "text": [
      "[Успех] 291: Обложка найдена через OpenLibrary\n"
     ]
    },
    {
     "name": "stderr",
     "output_type": "stream",
     "text": [
      " 71%|███████▏  | 228/320 [16:53<05:12,  3.40s/it]"
     ]
    },
    {
     "name": "stdout",
     "output_type": "stream",
     "text": [
      "[Успех] 10136: Обложка найдена через OpenLibrary\n"
     ]
    },
    {
     "name": "stderr",
     "output_type": "stream",
     "text": [
      " 72%|███████▏  | 229/320 [16:55<04:26,  2.93s/it]"
     ]
    },
    {
     "name": "stdout",
     "output_type": "stream",
     "text": [
      "[Успех] 3074: Обложка найдена через OpenLibrary\n"
     ]
    },
    {
     "name": "stderr",
     "output_type": "stream",
     "text": [
      " 72%|███████▏  | 230/320 [17:07<08:29,  5.66s/it]"
     ]
    },
    {
     "name": "stdout",
     "output_type": "stream",
     "text": [
      "[Успех] 2834: Обложка найдена через OpenLibrary\n"
     ]
    },
    {
     "name": "stderr",
     "output_type": "stream",
     "text": [
      " 72%|███████▏  | 231/320 [17:16<09:53,  6.67s/it]"
     ]
    },
    {
     "name": "stdout",
     "output_type": "stream",
     "text": [
      "[Успех] 17797: Обложка найдена через OpenLibrary\n"
     ]
    },
    {
     "name": "stderr",
     "output_type": "stream",
     "text": [
      " 72%|███████▎  | 232/320 [17:18<07:40,  5.24s/it]"
     ]
    },
    {
     "name": "stdout",
     "output_type": "stream",
     "text": [
      "[Успех] 3688: Обложка найдена через OpenLibrary\n"
     ]
    },
    {
     "name": "stderr",
     "output_type": "stream",
     "text": [
      " 73%|███████▎  | 233/320 [17:20<06:06,  4.22s/it]"
     ]
    },
    {
     "name": "stdout",
     "output_type": "stream",
     "text": [
      "[Успех] 640: Обложка найдена через OpenLibrary\n"
     ]
    },
    {
     "name": "stderr",
     "output_type": "stream",
     "text": [
      " 73%|███████▎  | 234/320 [17:30<08:20,  5.82s/it]"
     ]
    },
    {
     "name": "stdout",
     "output_type": "stream",
     "text": [
      "[Успех] 21032: Обложка найдена через OpenLibrary\n"
     ]
    },
    {
     "name": "stderr",
     "output_type": "stream",
     "text": [
      " 73%|███████▎  | 235/320 [17:32<06:38,  4.69s/it]"
     ]
    },
    {
     "name": "stdout",
     "output_type": "stream",
     "text": [
      "[Успех] 20912: Обложка найдена через OpenLibrary\n",
      "[Ошибка] 19810: Не удалось скачать с OpenLibrary (https://covers.openlibrary.org/b/id/8369013-M.jpg): HTTPSConnectionPool(host='archive.org', port=443): Read timed out. (read timeout=10)\n"
     ]
    },
    {
     "name": "stderr",
     "output_type": "stream",
     "text": [
      " 74%|███████▍  | 236/320 [17:46<10:30,  7.51s/it]"
     ]
    },
    {
     "name": "stdout",
     "output_type": "stream",
     "text": [
      "[Успех] 19810: Обложка найдена через Gutenberg\n"
     ]
    },
    {
     "name": "stderr",
     "output_type": "stream",
     "text": [
      " 74%|███████▍  | 237/320 [17:47<07:54,  5.72s/it]"
     ]
    },
    {
     "name": "stdout",
     "output_type": "stream",
     "text": [
      "[Успех] 11093: Обложка найдена через OpenLibrary\n",
      "[Ошибка] 3499: Не удалось скачать с OpenLibrary (https://covers.openlibrary.org/b/id/13166184-M.jpg): HTTPSConnectionPool(host='archive.org', port=443): Read timed out. (read timeout=10)\n"
     ]
    },
    {
     "name": "stderr",
     "output_type": "stream",
     "text": [
      " 74%|███████▍  | 238/320 [18:01<11:12,  8.20s/it]"
     ]
    },
    {
     "name": "stdout",
     "output_type": "stream",
     "text": [
      "[Успех] 3499: Обложка найдена через Gutenberg\n"
     ]
    },
    {
     "name": "stderr",
     "output_type": "stream",
     "text": [
      " 75%|███████▍  | 239/320 [18:13<12:35,  9.32s/it]"
     ]
    },
    {
     "name": "stdout",
     "output_type": "stream",
     "text": [
      "[Успех] 1000006: Обложка найдена через OpenLibrary\n"
     ]
    },
    {
     "name": "stderr",
     "output_type": "stream",
     "text": [
      " 75%|███████▌  | 240/320 [18:25<13:25, 10.07s/it]"
     ]
    },
    {
     "name": "stdout",
     "output_type": "stream",
     "text": [
      "[Успех] 5267: Обложка найдена через OpenLibrary\n"
     ]
    },
    {
     "name": "stderr",
     "output_type": "stream",
     "text": [
      " 75%|███████▌  | 241/320 [18:36<13:35, 10.33s/it]"
     ]
    },
    {
     "name": "stdout",
     "output_type": "stream",
     "text": [
      "[Успех] 1557: Обложка найдена через OpenLibrary\n"
     ]
    },
    {
     "name": "stderr",
     "output_type": "stream",
     "text": [
      " 76%|███████▌  | 242/320 [18:48<14:03, 10.82s/it]"
     ]
    },
    {
     "name": "stdout",
     "output_type": "stream",
     "text": [
      "[Успех] 22302: Обложка найдена через OpenLibrary\n"
     ]
    },
    {
     "name": "stderr",
     "output_type": "stream",
     "text": [
      " 76%|███████▌  | 243/320 [18:50<10:29,  8.18s/it]"
     ]
    },
    {
     "name": "stdout",
     "output_type": "stream",
     "text": [
      "[Успех] 1218: Обложка найдена через OpenLibrary\n"
     ]
    },
    {
     "name": "stderr",
     "output_type": "stream",
     "text": [
      " 76%|███████▋  | 244/320 [19:03<12:11,  9.62s/it]"
     ]
    },
    {
     "name": "stdout",
     "output_type": "stream",
     "text": [
      "[Успех] 3725: Обложка найдена через OpenLibrary\n"
     ]
    },
    {
     "name": "stderr",
     "output_type": "stream",
     "text": [
      " 77%|███████▋  | 245/320 [19:05<09:15,  7.41s/it]"
     ]
    },
    {
     "name": "stdout",
     "output_type": "stream",
     "text": [
      "[Успех] 4229: Обложка найдена через Gutenberg\n"
     ]
    },
    {
     "name": "stderr",
     "output_type": "stream",
     "text": [
      " 77%|███████▋  | 246/320 [19:08<07:24,  6.01s/it]"
     ]
    },
    {
     "name": "stdout",
     "output_type": "stream",
     "text": [
      "[Успех] 11880: Обложка найдена через Gutenberg\n"
     ]
    },
    {
     "name": "stderr",
     "output_type": "stream",
     "text": [
      " 77%|███████▋  | 247/320 [19:10<05:52,  4.82s/it]"
     ]
    },
    {
     "name": "stdout",
     "output_type": "stream",
     "text": [
      "[Успех] 10743: Обложка найдена через OpenLibrary\n"
     ]
    },
    {
     "name": "stderr",
     "output_type": "stream",
     "text": [
      " 78%|███████▊  | 248/320 [19:12<04:45,  3.97s/it]"
     ]
    },
    {
     "name": "stdout",
     "output_type": "stream",
     "text": [
      "[Успех] 3335: Обложка найдена через OpenLibrary\n"
     ]
    },
    {
     "name": "stderr",
     "output_type": "stream",
     "text": [
      " 78%|███████▊  | 249/320 [19:13<03:45,  3.18s/it]"
     ]
    },
    {
     "name": "stdout",
     "output_type": "stream",
     "text": [
      "[Успех] 11146: Обложка найдена через OpenLibrary\n"
     ]
    },
    {
     "name": "stderr",
     "output_type": "stream",
     "text": [
      " 78%|███████▊  | 250/320 [19:15<03:09,  2.71s/it]"
     ]
    },
    {
     "name": "stdout",
     "output_type": "stream",
     "text": [
      "[Успех] 3604: Обложка найдена через OpenLibrary\n"
     ]
    },
    {
     "name": "stderr",
     "output_type": "stream",
     "text": [
      " 78%|███████▊  | 251/320 [19:17<02:54,  2.52s/it]"
     ]
    },
    {
     "name": "stdout",
     "output_type": "stream",
     "text": [
      "[Успех] 24872: Обложка найдена через Gutenberg\n"
     ]
    },
    {
     "name": "stderr",
     "output_type": "stream",
     "text": [
      " 79%|███████▉  | 252/320 [19:20<02:57,  2.61s/it]"
     ]
    },
    {
     "name": "stdout",
     "output_type": "stream",
     "text": [
      "[Успех] 3479: Обложка найдена через Gutenberg\n"
     ]
    },
    {
     "name": "stderr",
     "output_type": "stream",
     "text": [
      " 79%|███████▉  | 253/320 [19:29<05:01,  4.50s/it]"
     ]
    },
    {
     "name": "stdout",
     "output_type": "stream",
     "text": [
      "[Успех] 2600: Обложка найдена через OpenLibrary\n"
     ]
    },
    {
     "name": "stderr",
     "output_type": "stream",
     "text": [
      " 80%|███████▉  | 255/320 [19:31<03:14,  2.99s/it]"
     ]
    },
    {
     "name": "stdout",
     "output_type": "stream",
     "text": [
      "[Успех] 6911: Обложка найдена через Gutenberg\n"
     ]
    },
    {
     "name": "stderr",
     "output_type": "stream",
     "text": [
      " 80%|████████  | 256/320 [19:39<04:27,  4.18s/it]"
     ]
    },
    {
     "name": "stdout",
     "output_type": "stream",
     "text": [
      "[Успех] 22814: Обложка найдена через OpenLibrary\n"
     ]
    },
    {
     "name": "stderr",
     "output_type": "stream",
     "text": [
      " 80%|████████  | 257/320 [19:41<03:47,  3.61s/it]"
     ]
    },
    {
     "name": "stdout",
     "output_type": "stream",
     "text": [
      "[Успех] 6440: Обложка найдена через OpenLibrary\n"
     ]
    },
    {
     "name": "stderr",
     "output_type": "stream",
     "text": [
      " 81%|████████  | 258/320 [19:49<04:56,  4.78s/it]"
     ]
    },
    {
     "name": "stdout",
     "output_type": "stream",
     "text": [
      "[Успех] 2850: Обложка найдена через OpenLibrary\n"
     ]
    },
    {
     "name": "stderr",
     "output_type": "stream",
     "text": [
      " 81%|████████  | 259/320 [19:51<04:12,  4.13s/it]"
     ]
    },
    {
     "name": "stdout",
     "output_type": "stream",
     "text": [
      "[Успех] 23772: Обложка найдена через Gutenberg\n"
     ]
    },
    {
     "name": "stderr",
     "output_type": "stream",
     "text": [
      " 81%|████████▏ | 260/320 [19:53<03:34,  3.57s/it]"
     ]
    },
    {
     "name": "stdout",
     "output_type": "stream",
     "text": [
      "[Успех] 4926: Обложка найдена через OpenLibrary\n"
     ]
    },
    {
     "name": "stderr",
     "output_type": "stream",
     "text": [
      " 82%|████████▏ | 261/320 [19:56<03:15,  3.31s/it]"
     ]
    },
    {
     "name": "stdout",
     "output_type": "stream",
     "text": [
      "[Пропуск] 3533: Обложка не найдена ни в одном источнике\n"
     ]
    },
    {
     "name": "stderr",
     "output_type": "stream",
     "text": [
      " 82%|████████▏ | 263/320 [19:58<02:11,  2.30s/it]"
     ]
    },
    {
     "name": "stdout",
     "output_type": "stream",
     "text": [
      "[Успех] 3721: Обложка найдена через OpenLibrary\n"
     ]
    },
    {
     "name": "stderr",
     "output_type": "stream",
     "text": [
      " 82%|████████▎ | 264/320 [20:08<03:52,  4.16s/it]"
     ]
    },
    {
     "name": "stdout",
     "output_type": "stream",
     "text": [
      "[Успех] 13193: Обложка найдена через OpenLibrary\n"
     ]
    },
    {
     "name": "stderr",
     "output_type": "stream",
     "text": [
      " 83%|████████▎ | 265/320 [20:17<05:02,  5.49s/it]"
     ]
    },
    {
     "name": "stdout",
     "output_type": "stream",
     "text": [
      "[Успех] 18640: Обложка найдена через OpenLibrary\n"
     ]
    },
    {
     "name": "stderr",
     "output_type": "stream",
     "text": [
      " 83%|████████▎ | 266/320 [20:29<06:18,  7.00s/it]"
     ]
    },
    {
     "name": "stdout",
     "output_type": "stream",
     "text": [
      "[Успех] 1028: Обложка найдена через OpenLibrary\n"
     ]
    },
    {
     "name": "stderr",
     "output_type": "stream",
     "text": [
      " 83%|████████▎ | 267/320 [20:30<04:56,  5.59s/it]"
     ]
    },
    {
     "name": "stdout",
     "output_type": "stream",
     "text": [
      "[Пропуск] 1079: Обложка не найдена ни в одном источнике\n"
     ]
    },
    {
     "name": "stderr",
     "output_type": "stream",
     "text": [
      " 84%|████████▍ | 268/320 [20:32<03:54,  4.50s/it]"
     ]
    },
    {
     "name": "stdout",
     "output_type": "stream",
     "text": [
      "[Успех] 5122: Обложка найдена через OpenLibrary\n"
     ]
    },
    {
     "name": "stderr",
     "output_type": "stream",
     "text": [
      " 84%|████████▍ | 269/320 [20:35<03:17,  3.88s/it]"
     ]
    },
    {
     "name": "stdout",
     "output_type": "stream",
     "text": [
      "[Пропуск] 10030: Обложка не найдена ни в одном источнике\n"
     ]
    },
    {
     "name": "stderr",
     "output_type": "stream",
     "text": [
      " 84%|████████▍ | 270/320 [20:36<02:44,  3.29s/it]"
     ]
    },
    {
     "name": "stdout",
     "output_type": "stream",
     "text": [
      "[Пропуск] 1098: Обложка не найдена ни в одном источнике\n"
     ]
    },
    {
     "name": "stderr",
     "output_type": "stream",
     "text": [
      " 85%|████████▍ | 271/320 [20:47<04:19,  5.29s/it]"
     ]
    },
    {
     "name": "stdout",
     "output_type": "stream",
     "text": [
      "[Успех] 19342: Обложка найдена через OpenLibrary\n"
     ]
    },
    {
     "name": "stderr",
     "output_type": "stream",
     "text": [
      " 85%|████████▌ | 272/320 [20:50<03:44,  4.67s/it]"
     ]
    },
    {
     "name": "stdout",
     "output_type": "stream",
     "text": [
      "[Успех] 27683: Обложка найдена через OpenLibrary\n"
     ]
    },
    {
     "name": "stderr",
     "output_type": "stream",
     "text": [
      " 85%|████████▌ | 273/320 [21:03<05:32,  7.08s/it]"
     ]
    },
    {
     "name": "stdout",
     "output_type": "stream",
     "text": [
      "[Успех] 1608: Обложка найдена через OpenLibrary\n"
     ]
    },
    {
     "name": "stderr",
     "output_type": "stream",
     "text": [
      " 86%|████████▌ | 274/320 [21:06<04:33,  5.95s/it]"
     ]
    },
    {
     "name": "stdout",
     "output_type": "stream",
     "text": [
      "[Успех] 27969: Обложка найдена через Gutenberg\n",
      "[Ошибка] 479: Не удалось скачать с OpenLibrary (https://covers.openlibrary.org/b/id/12622062-M.jpg): HTTPSConnectionPool(host='archive.org', port=443): Read timed out. (read timeout=10)\n"
     ]
    },
    {
     "name": "stderr",
     "output_type": "stream",
     "text": [
      " 86%|████████▌ | 275/320 [21:20<06:16,  8.37s/it]"
     ]
    },
    {
     "name": "stdout",
     "output_type": "stream",
     "text": [
      "[Пропуск] 479: Обложка не найдена ни в одном источнике\n"
     ]
    },
    {
     "name": "stderr",
     "output_type": "stream",
     "text": [
      " 86%|████████▋ | 276/320 [21:21<04:35,  6.26s/it]"
     ]
    },
    {
     "name": "stdout",
     "output_type": "stream",
     "text": [
      "[Успех] 4020: Обложка найдена через OpenLibrary\n",
      "[Ошибка] 6882: Не удалось скачать с OpenLibrary (https://covers.openlibrary.org/b/id/10923389-M.jpg): HTTPSConnectionPool(host='archive.org', port=443): Read timed out. (read timeout=10)\n"
     ]
    },
    {
     "name": "stderr",
     "output_type": "stream",
     "text": [
      " 87%|████████▋ | 277/320 [21:36<06:13,  8.68s/it]"
     ]
    },
    {
     "name": "stdout",
     "output_type": "stream",
     "text": [
      "[Успех] 6882: Обложка найдена через Gutenberg\n"
     ]
    },
    {
     "name": "stderr",
     "output_type": "stream",
     "text": [
      " 87%|████████▋ | 278/320 [21:49<07:01, 10.03s/it]"
     ]
    },
    {
     "name": "stdout",
     "output_type": "stream",
     "text": [
      "[Успех] 22079: Обложка найдена через OpenLibrary\n"
     ]
    },
    {
     "name": "stderr",
     "output_type": "stream",
     "text": [
      " 87%|████████▋ | 279/320 [21:52<05:25,  7.95s/it]"
     ]
    },
    {
     "name": "stdout",
     "output_type": "stream",
     "text": [
      "[Успех] 10123: Обложка найдена через OpenLibrary\n"
     ]
    },
    {
     "name": "stderr",
     "output_type": "stream",
     "text": [
      " 88%|████████▊ | 280/320 [21:57<04:40,  7.00s/it]"
     ]
    },
    {
     "name": "stdout",
     "output_type": "stream",
     "text": [
      "[Успех] 360: Обложка найдена через Gutenberg\n"
     ]
    },
    {
     "name": "stderr",
     "output_type": "stream",
     "text": [
      " 88%|████████▊ | 281/320 [22:02<04:12,  6.47s/it]"
     ]
    },
    {
     "name": "stdout",
     "output_type": "stream",
     "text": [
      "[Успех] 19289: Обложка найдена через Gutenberg\n"
     ]
    },
    {
     "name": "stderr",
     "output_type": "stream",
     "text": [
      " 88%|████████▊ | 282/320 [22:16<05:35,  8.83s/it]"
     ]
    },
    {
     "name": "stdout",
     "output_type": "stream",
     "text": [
      "[Успех] 5976: Обложка найдена через OpenLibrary\n"
     ]
    },
    {
     "name": "stderr",
     "output_type": "stream",
     "text": [
      " 88%|████████▊ | 283/320 [22:31<06:33, 10.63s/it]"
     ]
    },
    {
     "name": "stdout",
     "output_type": "stream",
     "text": [
      "[Успех] 21895: Обложка найдена через OpenLibrary\n"
     ]
    },
    {
     "name": "stderr",
     "output_type": "stream",
     "text": [
      " 89%|████████▉ | 284/320 [22:38<05:44,  9.57s/it]"
     ]
    },
    {
     "name": "stdout",
     "output_type": "stream",
     "text": [
      "[Успех] 33556: Обложка найдена через OpenLibrary\n"
     ]
    },
    {
     "name": "stderr",
     "output_type": "stream",
     "text": [
      " 89%|████████▉ | 285/320 [22:48<05:34,  9.55s/it]"
     ]
    },
    {
     "name": "stdout",
     "output_type": "stream",
     "text": [
      "[Успех] 40077: Обложка найдена через OpenLibrary\n"
     ]
    },
    {
     "name": "stderr",
     "output_type": "stream",
     "text": [
      " 89%|████████▉ | 286/320 [23:08<07:20, 12.95s/it]"
     ]
    },
    {
     "name": "stdout",
     "output_type": "stream",
     "text": [
      "[Успех] 5162: Обложка найдена через OpenLibrary\n"
     ]
    },
    {
     "name": "stderr",
     "output_type": "stream",
     "text": [
      " 90%|████████▉ | 287/320 [23:19<06:38, 12.09s/it]"
     ]
    },
    {
     "name": "stdout",
     "output_type": "stream",
     "text": [
      "[Успех] 9192: Обложка найдена через OpenLibrary\n"
     ]
    },
    {
     "name": "stderr",
     "output_type": "stream",
     "text": [
      " 90%|█████████ | 288/320 [23:38<07:41, 14.41s/it]"
     ]
    },
    {
     "name": "stdout",
     "output_type": "stream",
     "text": [
      "[Успех] 38219: Обложка найдена через OpenLibrary\n"
     ]
    },
    {
     "name": "stderr",
     "output_type": "stream",
     "text": [
      " 90%|█████████ | 289/320 [23:45<06:13, 12.04s/it]"
     ]
    },
    {
     "name": "stdout",
     "output_type": "stream",
     "text": [
      "[Успех] 40999: Обложка найдена через OpenLibrary\n"
     ]
    },
    {
     "name": "stderr",
     "output_type": "stream",
     "text": [
      " 91%|█████████ | 290/320 [24:01<06:35, 13.17s/it]"
     ]
    },
    {
     "name": "stdout",
     "output_type": "stream",
     "text": [
      "[Успех] 2710: Обложка найдена через OpenLibrary\n"
     ]
    },
    {
     "name": "stderr",
     "output_type": "stream",
     "text": [
      " 91%|█████████ | 291/320 [24:05<05:08, 10.63s/it]"
     ]
    },
    {
     "name": "stdout",
     "output_type": "stream",
     "text": [
      "[Успех] 10624: Обложка найдена через OpenLibrary\n"
     ]
    },
    {
     "name": "stderr",
     "output_type": "stream",
     "text": [
      " 91%|█████████▏| 292/320 [24:09<04:02,  8.64s/it]"
     ]
    },
    {
     "name": "stdout",
     "output_type": "stream",
     "text": [
      "[Успех] 19215: Обложка найдена через OpenLibrary\n"
     ]
    },
    {
     "name": "stderr",
     "output_type": "stream",
     "text": [
      " 92%|█████████▏| 293/320 [24:23<04:36, 10.23s/it]"
     ]
    },
    {
     "name": "stdout",
     "output_type": "stream",
     "text": [
      "[Успех] 2150: Обложка найдена через OpenLibrary\n"
     ]
    },
    {
     "name": "stderr",
     "output_type": "stream",
     "text": [
      " 92%|█████████▏| 294/320 [24:25<03:21,  7.74s/it]"
     ]
    },
    {
     "name": "stdout",
     "output_type": "stream",
     "text": [
      "[Успех] 8075: Обложка найдена через OpenLibrary\n"
     ]
    },
    {
     "name": "stderr",
     "output_type": "stream",
     "text": [
      " 92%|█████████▏| 295/320 [24:27<02:27,  5.91s/it]"
     ]
    },
    {
     "name": "stdout",
     "output_type": "stream",
     "text": [
      "[Успех] 42214: Обложка найдена через OpenLibrary\n"
     ]
    },
    {
     "name": "stderr",
     "output_type": "stream",
     "text": [
      " 92%|█████████▎| 296/320 [24:40<03:11,  7.98s/it]"
     ]
    },
    {
     "name": "stdout",
     "output_type": "stream",
     "text": [
      "[Успех] 19734: Обложка найдена через OpenLibrary\n"
     ]
    },
    {
     "name": "stderr",
     "output_type": "stream",
     "text": [
      " 93%|█████████▎| 297/320 [24:41<02:19,  6.08s/it]"
     ]
    },
    {
     "name": "stdout",
     "output_type": "stream",
     "text": [
      "[Успех] 15202: Обложка найдена через OpenLibrary\n"
     ]
    },
    {
     "name": "stderr",
     "output_type": "stream",
     "text": [
      " 93%|█████████▎| 298/320 [24:52<02:43,  7.42s/it]"
     ]
    },
    {
     "name": "stdout",
     "output_type": "stream",
     "text": [
      "[Успех] 5773: Обложка найдена через OpenLibrary\n"
     ]
    },
    {
     "name": "stderr",
     "output_type": "stream",
     "text": [
      " 93%|█████████▎| 299/320 [24:55<02:10,  6.21s/it]"
     ]
    },
    {
     "name": "stdout",
     "output_type": "stream",
     "text": [
      "[Успех] 26950: Обложка найдена через Gutenberg\n"
     ]
    },
    {
     "name": "stderr",
     "output_type": "stream",
     "text": [
      " 94%|█████████▍| 300/320 [24:58<01:40,  5.05s/it]"
     ]
    },
    {
     "name": "stdout",
     "output_type": "stream",
     "text": [
      "[Успех] 42630: Обложка найдена через Gutenberg\n"
     ]
    },
    {
     "name": "stderr",
     "output_type": "stream",
     "text": [
      " 94%|█████████▍| 301/320 [25:00<01:21,  4.31s/it]"
     ]
    },
    {
     "name": "stdout",
     "output_type": "stream",
     "text": [
      "[Пропуск] 29607: Обложка не найдена ни в одном источнике\n"
     ]
    },
    {
     "name": "stderr",
     "output_type": "stream",
     "text": [
      " 94%|█████████▍| 302/320 [25:02<01:01,  3.43s/it]"
     ]
    },
    {
     "name": "stdout",
     "output_type": "stream",
     "text": [
      "[Успех] 793: Обложка найдена через OpenLibrary\n"
     ]
    },
    {
     "name": "stderr",
     "output_type": "stream",
     "text": [
      " 95%|█████████▍| 303/320 [25:03<00:48,  2.83s/it]"
     ]
    },
    {
     "name": "stdout",
     "output_type": "stream",
     "text": [
      "[Успех] 35002: Обложка найдена через OpenLibrary\n"
     ]
    },
    {
     "name": "stderr",
     "output_type": "stream",
     "text": [
      " 95%|█████████▌| 304/320 [25:06<00:47,  2.94s/it]"
     ]
    },
    {
     "name": "stdout",
     "output_type": "stream",
     "text": [
      "[Успех] 1282: Обложка найдена через Gutenberg\n"
     ]
    },
    {
     "name": "stderr",
     "output_type": "stream",
     "text": [
      " 95%|█████████▌| 305/320 [25:17<01:20,  5.38s/it]"
     ]
    },
    {
     "name": "stdout",
     "output_type": "stream",
     "text": [
      "[Успех] 43005: Обложка найдена через OpenLibrary\n"
     ]
    },
    {
     "name": "stderr",
     "output_type": "stream",
     "text": [
      " 96%|█████████▌| 306/320 [25:21<01:06,  4.79s/it]"
     ]
    },
    {
     "name": "stdout",
     "output_type": "stream",
     "text": [
      "[Пропуск] 13042: Обложка не найдена ни в одном источнике\n"
     ]
    },
    {
     "name": "stderr",
     "output_type": "stream",
     "text": [
      " 96%|█████████▌| 307/320 [25:31<01:25,  6.56s/it]"
     ]
    },
    {
     "name": "stdout",
     "output_type": "stream",
     "text": [
      "[Успех] 36508: Обложка найдена через OpenLibrary\n"
     ]
    },
    {
     "name": "stderr",
     "output_type": "stream",
     "text": [
      " 96%|█████████▋| 308/320 [25:33<01:00,  5.08s/it]"
     ]
    },
    {
     "name": "stdout",
     "output_type": "stream",
     "text": [
      "[Успех] 34943: Обложка найдена через OpenLibrary\n"
     ]
    },
    {
     "name": "stderr",
     "output_type": "stream",
     "text": [
      " 97%|█████████▋| 309/320 [25:44<01:16,  6.95s/it]"
     ]
    },
    {
     "name": "stdout",
     "output_type": "stream",
     "text": [
      "[Успех] 42056: Обложка найдена через OpenLibrary\n"
     ]
    },
    {
     "name": "stderr",
     "output_type": "stream",
     "text": [
      " 97%|█████████▋| 310/320 [25:46<00:54,  5.44s/it]"
     ]
    },
    {
     "name": "stdout",
     "output_type": "stream",
     "text": [
      "[Успех] 4953: Обложка найдена через OpenLibrary\n"
     ]
    },
    {
     "name": "stderr",
     "output_type": "stream",
     "text": [
      " 97%|█████████▋| 311/320 [25:49<00:41,  4.65s/it]"
     ]
    },
    {
     "name": "stdout",
     "output_type": "stream",
     "text": [
      "[Успех] 43699: Обложка найдена через Gutenberg\n"
     ]
    },
    {
     "name": "stderr",
     "output_type": "stream",
     "text": [
      " 98%|█████████▊| 312/320 [25:51<00:31,  3.90s/it]"
     ]
    },
    {
     "name": "stdout",
     "output_type": "stream",
     "text": [
      "[Пропуск] 15263: Обложка не найдена ни в одном источнике\n"
     ]
    },
    {
     "name": "stderr",
     "output_type": "stream",
     "text": [
      " 98%|█████████▊| 313/320 [25:53<00:22,  3.14s/it]"
     ]
    },
    {
     "name": "stdout",
     "output_type": "stream",
     "text": [
      "[Успех] 2486: Обложка найдена через OpenLibrary\n"
     ]
    },
    {
     "name": "stderr",
     "output_type": "stream",
     "text": [
      " 98%|█████████▊| 314/320 [25:54<00:16,  2.75s/it]"
     ]
    },
    {
     "name": "stdout",
     "output_type": "stream",
     "text": [
      "[Успех] 13042: Обложка найдена через OpenLibrary\n"
     ]
    },
    {
     "name": "stderr",
     "output_type": "stream",
     "text": [
      " 98%|█████████▊| 315/320 [25:57<00:12,  2.58s/it]"
     ]
    },
    {
     "name": "stdout",
     "output_type": "stream",
     "text": [
      "[Успех] 22925: Обложка найдена через OpenLibrary\n"
     ]
    },
    {
     "name": "stderr",
     "output_type": "stream",
     "text": [
      " 99%|█████████▉| 316/320 [25:59<00:10,  2.59s/it]"
     ]
    },
    {
     "name": "stdout",
     "output_type": "stream",
     "text": [
      "[Успех] 15164: Обложка найдена через Gutenberg\n"
     ]
    },
    {
     "name": "stderr",
     "output_type": "stream",
     "text": [
      " 99%|█████████▉| 317/320 [26:12<00:16,  5.65s/it]"
     ]
    },
    {
     "name": "stdout",
     "output_type": "stream",
     "text": [
      "[Успех] 12060: Обложка найдена через OpenLibrary\n"
     ]
    },
    {
     "name": "stderr",
     "output_type": "stream",
     "text": [
      " 99%|█████████▉| 318/320 [26:22<00:13,  6.88s/it]"
     ]
    },
    {
     "name": "stdout",
     "output_type": "stream",
     "text": [
      "[Успех] 10446: Обложка найдена через OpenLibrary\n"
     ]
    },
    {
     "name": "stderr",
     "output_type": "stream",
     "text": [
      "100%|█████████▉| 319/320 [26:25<00:05,  5.76s/it]"
     ]
    },
    {
     "name": "stdout",
     "output_type": "stream",
     "text": [
      "[Успех] 44326: Обложка найдена через Gutenberg\n"
     ]
    },
    {
     "name": "stderr",
     "output_type": "stream",
     "text": [
      "100%|██████████| 320/320 [26:27<00:00,  4.96s/it]"
     ]
    },
    {
     "name": "stdout",
     "output_type": "stream",
     "text": [
      "[Успех] 35941: Обложка найдена через Gutenberg\n",
      "\n",
      "Итог: Скачано 298/320 обложек.\n"
     ]
    },
    {
     "name": "stderr",
     "output_type": "stream",
     "text": [
      "\n"
     ]
    }
   ],
   "source": [
    "# Настройки\n",
    "CSV_PATH = \"train-clean-100/LibriSpeech/train_clean_100_chapters.csv\"\n",
    "COVERS_DIR = \"book_covers\"\n",
    "\n",
    "# Создание папки для обложек\n",
    "os.makedirs(COVERS_DIR, exist_ok=True)\n",
    "\n",
    "def get_gutenberg_cover_url(title):\n",
    "    \"\"\"Ищет URL обложки на Project Gutenberg.\"\"\"\n",
    "    search_url = f\"https://www.gutenberg.org/ebooks/search/?query={title}\"\n",
    "    try:\n",
    "        response = requests.get(search_url, timeout=10)\n",
    "        soup = BeautifulSoup(response.text, 'html.parser')\n",
    "        book_link = soup.find(\"a\", href=lambda x: x and \"/ebooks/\" in x)\n",
    "        if book_link:\n",
    "            book_id = book_link[\"href\"].split(\"/\")[-1]\n",
    "            return f\"https://www.gutenberg.org/cache/epub/{book_id}/pg{book_id}.cover.medium.jpg\"\n",
    "    except Exception as e:\n",
    "        print(f\"[Gutenberg] Ошибка для '{title}': {e}\")\n",
    "    return None\n",
    "\n",
    "def get_openlibrary_cover_url(title):\n",
    "    \"\"\"Ищет URL обложки на Open Library.\"\"\"\n",
    "    try:\n",
    "        url = f\"https://openlibrary.org/search.json?q={title}\"\n",
    "        response = requests.get(url, timeout=10).json()\n",
    "        if response[\"num_found\"] > 0:\n",
    "            cover_id = response[\"docs\"][0].get(\"cover_i\")\n",
    "            if cover_id:\n",
    "                return f\"https://covers.openlibrary.org/b/id/{cover_id}-M.jpg\"\n",
    "    except Exception as e:\n",
    "        print(f\"[OpenLibrary] Ошибка для '{title}': {e}\")\n",
    "    return None\n",
    "\n",
    "def download_cover(book_id, title):\n",
    "    \"\"\"Скачивает обложку, если её ещё нет.\"\"\"\n",
    "    cover_path = f\"{COVERS_DIR}/{book_id}.jpg\"\n",
    "    \n",
    "    # Если обложка уже существует - пропускаем\n",
    "    if os.path.exists(cover_path):\n",
    "        return True\n",
    "    \n",
    "    # Порядок проверки источников\n",
    "    apis = [\n",
    "        (\"OpenLibrary\", lambda: get_openlibrary_cover_url(title)),\n",
    "        (\"Gutenberg\", lambda: get_gutenberg_cover_url(title)),\n",
    "    ]\n",
    "    \n",
    "    for source, api_func in apis:\n",
    "        cover_url = api_func()\n",
    "        if cover_url:\n",
    "            try:\n",
    "                response = requests.get(cover_url, stream=True, timeout=10)\n",
    "                if response.status_code == 200:\n",
    "                    with open(cover_path, \"wb\") as f:\n",
    "                        f.write(response.content)\n",
    "                    print(f\"[Успех] {book_id}: Обложка найдена через {source}\")\n",
    "                    return True\n",
    "            except Exception as e:\n",
    "                print(f\"[Ошибка] {book_id}: Не удалось скачать с {source} ({cover_url}): {e}\")\n",
    "    \n",
    "    print(f\"[Пропуск] {book_id}: Обложка не найдена ни в одном источнике\")\n",
    "    return False\n",
    "\n",
    "# Основной процесс\n",
    "df = pd.read_csv(CSV_PATH)\n",
    "unique_books = df[\"BOOK ID\"].drop_duplicates()\n",
    "\n",
    "success_count = 0\n",
    "for _, row in tqdm(unique_books.iterrows(), total=len(unique_books)):\n",
    "    if download_cover(row[\"BOOK ID\"], row[\"PROJECT TITLE\"]):\n",
    "        success_count += 1\n",
    "\n",
    "print(f\"\\nИтог: Скачано {success_count}/{len(unique_books)} обложек.\")"
   ]
  },
  {
   "cell_type": "markdown",
   "id": "46e34273",
   "metadata": {},
   "source": [
    "## Загрузка иллюстраций"
   ]
  },
  {
   "cell_type": "code",
   "execution_count": 6,
   "id": "f71969ed",
   "metadata": {},
   "outputs": [
    {
     "data": {
      "text/plain": [
       "['Northanger Abbey',\n",
       " 'Frankenstein, or The Modern Prometheus',\n",
       " 'Kwaidan: Stories and Studies of Strange Things',\n",
       " 'Journal of the Plague Year',\n",
       " 'Anne of Green Gables (version 3)',\n",
       " 'Brigands of the Moon',\n",
       " 'Surprising Adventures of Baron Munchausen',\n",
       " 'Lock and Key Library',\n",
       " \"Clotel, or, The President's Daughter\",\n",
       " 'For the Term of His Natural Life',\n",
       " 'Uncle Silas',\n",
       " 'East Lynne',\n",
       " 'Just Patty',\n",
       " 'Anne of Green Gables (version 5)',\n",
       " 'Works of Edgar Allan Poe, Raven Edition, Volume 2',\n",
       " 'Cossacks',\n",
       " 'Autobiography',\n",
       " 'Legacy',\n",
       " 'Autobiography of Anthony Trollope',\n",
       " 'Miserables Vol. 3',\n",
       " 'Millionaire Baby',\n",
       " 'Anna Karenina, Book 2',\n",
       " 'Tanglewood Tales',\n",
       " 'Theo',\n",
       " 'Music Notation and Terminology',\n",
       " 'Once on a Time',\n",
       " 'Celebrated Crimes, Vol. 1',\n",
       " 'Gargantua and Pantagruel, Book I',\n",
       " 'Complete Book of Cheese',\n",
       " 'Ox-Team Days on the Oregon Trail',\n",
       " 'Life of Kit Carson',\n",
       " 'Prime Minister',\n",
       " 'In His Steps',\n",
       " \"Sylvia's Lovers\",\n",
       " 'Red Thumb Mark',\n",
       " 'Jesuits in North America in the 17th Century',\n",
       " 'Under the Lilacs',\n",
       " 'Steep Trails',\n",
       " 'Autobiography of Cockney Tom',\n",
       " 'Miserables Vol. 4',\n",
       " 'Narrative of the Captivity and Restoration of Mrs. Mary Rowlandson',\n",
       " \"Aunt Jane's Nieces Abroad\",\n",
       " 'Five Little Peppers Abroad',\n",
       " 'Miserables Vol. 5',\n",
       " 'Life and Opinions of Tristram Shandy, Gentleman, Vol. 4',\n",
       " 'Autumn Leaves, Original Pieces in Prose and Verse',\n",
       " 'Tale of Brownie Beaver',\n",
       " 'War and Peace, Book 15: 1812-1813',\n",
       " 'Bible in Its Making',\n",
       " 'Ethics',\n",
       " \"Aunt Jo's Scrapbag\",\n",
       " 'Notes of a War Correspondent',\n",
       " '32 Caliber',\n",
       " 'War and Peace, Book 16: First Epilogue 1813-1820',\n",
       " 'Frozen Pirate',\n",
       " 'Best Russian Short Stories',\n",
       " 'King Nobody Wanted',\n",
       " 'Woman Who Went to Alaska',\n",
       " 'Travels in Alaska',\n",
       " 'Gilded Age',\n",
       " 'War and Peace, Book 17: Second Epilogue',\n",
       " 'Guilty River',\n",
       " \"Aunt Jane's Nieces at Millville\",\n",
       " 'Viking Tales',\n",
       " 'Man Who Laughs',\n",
       " 'Anatomy of Melancholy Volume 2',\n",
       " 'Twenty Thousand Leagues Under the Sea (Version 2)',\n",
       " 'Framley Parsonage',\n",
       " 'Vicomte De Bragelonne',\n",
       " 'Lucy Maud Montgomery Short Stories, 1902 to 1903',\n",
       " 'Psychotherapy',\n",
       " 'Studies in the Psychology of Sex, Volume One',\n",
       " \"Grace Harlowe's Junior Year at High School; or, Fast Friends in the Sororities\",\n",
       " 'Monsieur Lecoq Part 1: The Inquiry',\n",
       " 'Lord of the World',\n",
       " 'Ashiel Mystery - A Detective Story',\n",
       " 'Scenes of Clerical Life',\n",
       " 'Abandoned Room',\n",
       " 'Book of A Thousand Nights and a Night (Arabian Nights), Volume 04',\n",
       " 'Small House at Allington',\n",
       " 'Twilight Land',\n",
       " 'Other Things Being Equal',\n",
       " 'Sport of the Gods',\n",
       " \"Child's Book of American Biography\",\n",
       " \"Miss Billy's Decision\",\n",
       " 'Brenda, Her School and Her Club',\n",
       " 'American Senator',\n",
       " 'Tales of Old Japan',\n",
       " 'Wit and Humor of America, Vol 03',\n",
       " 'Old and New Masters',\n",
       " 'Myths of Babylonia and Assyria',\n",
       " 'Headless Horseman - A Strange Tale of Texas',\n",
       " 'Wit and Humor of America, Vol 05',\n",
       " 'Mysterious Island (version 2)',\n",
       " 'Captains of Industry',\n",
       " 'Lucy Maud Montgomery Short Stories, 1905-1906',\n",
       " 'Story of a Bad Boy',\n",
       " 'Letters from a Self-Made Merchant to His Son',\n",
       " \"Aunt Jane's Nieces at Work\",\n",
       " 'Morgesons',\n",
       " \"Trent's Last Case (Version 2)\",\n",
       " 'Cathedral Courtship',\n",
       " 'Lucy Maud Montgomery Short Stories, 1907-1908',\n",
       " 'Secret Places of the Heart',\n",
       " 'Red Room',\n",
       " 'Boarded Up House',\n",
       " 'Around the World on a Bicycle, Vol. 1',\n",
       " 'Annie Kilburn',\n",
       " 'Wit and Humor of America, Vol 08',\n",
       " 'Olive Fairy Book',\n",
       " 'Windsor Castle, Book 1',\n",
       " 'Myths of the New World',\n",
       " 'Brown Fairy Book',\n",
       " 'Celtic Folk and Fairy Tales',\n",
       " 'Count of Monte Cristo (version 2)',\n",
       " 'Historic Waterways',\n",
       " 'Art of the Moving Picture',\n",
       " 'Christopher Quarles College Professor and Master Detective',\n",
       " 'Firelight Fairy Book',\n",
       " 'Lives of Poor Boys Who Became Famous',\n",
       " 'For Every Music Lover',\n",
       " 'John Stuart Mill; His Life and Works',\n",
       " 'Free Press',\n",
       " 'Woman in the Nineteenth Century',\n",
       " 'Treasury of Heroes and Heroines',\n",
       " 'Literary Sense',\n",
       " 'Great K. & A. Train-Robbery',\n",
       " 'Considerations on Representative Government',\n",
       " 'Golden Fleece and the Heroes Who Lived Before Achilles',\n",
       " 'Indian To-day',\n",
       " 'Not That It Matters',\n",
       " 'When Patty Went to College',\n",
       " 'Letters on an Elk Hunt',\n",
       " 'Byzantine Empire',\n",
       " 'Dangerous Days',\n",
       " 'John Quincy Adams',\n",
       " 'Scarlet Pimpernel (Version 2)',\n",
       " 'History of England from the Invasion of Julius Caesar to the Revolution of 1688, Volume 1C',\n",
       " 'Sybil, or the Two Nations',\n",
       " 'Best British Short Stories of 1922',\n",
       " 'Pipefuls',\n",
       " 'Story of Ancient Irish Civilisation',\n",
       " 'Veronica',\n",
       " 'Underground Railroad, Part 2',\n",
       " 'Food Guide for War Service at Home',\n",
       " 'Christmas Eve and Christmas Day',\n",
       " 'Count of Monte Cristo',\n",
       " 'This Side of Paradise',\n",
       " 'Divine Comedy',\n",
       " 'Mother Goose in Prose',\n",
       " 'Foolish Dictionary',\n",
       " 'Consolation of Philosophy',\n",
       " 'Emma',\n",
       " 'Lord Jim',\n",
       " 'Merry Adventures of Robin Hood',\n",
       " 'Three Musketeers',\n",
       " 'Rosary',\n",
       " 'Last of the Mohicans',\n",
       " 'Anne of Avonlea',\n",
       " 'Beyond Good and Evil',\n",
       " 'Journey to the Interior of the Earth',\n",
       " 'History of England, from the Accession of James II - (Volume 1, Chapter 05)',\n",
       " 'Princess of Mars',\n",
       " 'Notes from the Underground',\n",
       " \"Shakespeare's Sonnets\",\n",
       " 'Pride and Prejudice',\n",
       " 'Discourse on the Method of Rightly Conducting Ones Reason and of Seeking Truth',\n",
       " 'Main Street',\n",
       " 'Sayings of Confucius',\n",
       " 'Gerrard Street Mystery and Other Weird Tales',\n",
       " 'Bible (DRV) Apocrypha/Deuterocanon: Judith',\n",
       " 'History of Holland',\n",
       " 'Light Princess',\n",
       " \"Grimms' Fairy Tales\",\n",
       " 'Spy',\n",
       " 'Story Girl',\n",
       " 'Story of Doctor Dolittle',\n",
       " 'Innocence of Father Brown',\n",
       " 'Treasure Island',\n",
       " 'Yosemite',\n",
       " 'Don Quixote - Vol. 1',\n",
       " 'Tale of Two Cities',\n",
       " 'How to Cook Fish',\n",
       " 'Current Superstitions',\n",
       " 'Essays in Radical Empiricism',\n",
       " 'Buccaneers and Pirates of Our Coasts',\n",
       " 'Vanity Fair',\n",
       " 'Essays, First Series',\n",
       " 'Fortunes and Misfortunes of the Famous Moll Flanders',\n",
       " 'Sense and Sensibility',\n",
       " 'Red Badge of Courage',\n",
       " 'Fifteen Thousand Useful Phrases',\n",
       " 'Folklore of the Santal Parganas, Vol. 1',\n",
       " 'Daniel Deronda',\n",
       " 'Wheels of Chance',\n",
       " 'Twenty Thousand Leagues Under the Sea',\n",
       " 'Federalist Papers',\n",
       " 'Bulfinchs Mythology: The Age of Fable',\n",
       " 'Book of the Damned',\n",
       " 'Tenant of Wildfell Hall',\n",
       " 'Souls of Black Folk',\n",
       " 'Mysteries of Udolpho',\n",
       " 'Candide',\n",
       " 'Lilac Fairy Book',\n",
       " 'Handy Cyclopedia of Things Worth Knowing',\n",
       " 'Peter Pan',\n",
       " 'Portrait of a Lady Vol 1',\n",
       " 'Clue of the Twisted Candle',\n",
       " 'Winesburg, Ohio',\n",
       " 'Children of the New Forest',\n",
       " 'Burgess Animal Book for Children',\n",
       " 'Arabian Nights Entertainments, Volume 01',\n",
       " 'Dubliners',\n",
       " 'Good Housekeeping Marriage Book',\n",
       " 'Don Quixote - Vol. 2',\n",
       " 'Round the Moon',\n",
       " 'Sleeper Awakes',\n",
       " 'Last Man',\n",
       " 'Life in a Thousand Worlds',\n",
       " 'Rebecca of Sunnybrook Farm',\n",
       " 'Life of the Spirit and the Life of Today',\n",
       " 'Voyage of the Beagle',\n",
       " 'Zadig or the Book of Fate',\n",
       " 'Star Hunter',\n",
       " 'North and South',\n",
       " 'Adam Bede',\n",
       " 'Golden Age',\n",
       " 'Book of Household Management',\n",
       " 'Burgess Bird Book for Children',\n",
       " 'Portrait of a Lady Vol 2',\n",
       " 'Memoir of Jane Austen',\n",
       " 'Chronicles of Clovis',\n",
       " 'Yellow Fairy Book',\n",
       " 'Exercises in Knitting',\n",
       " 'Daffodil Mystery',\n",
       " 'My Antonia',\n",
       " \"Trailin'!\",\n",
       " \"Jo's Boys\",\n",
       " 'Wings of the Dove',\n",
       " 'Sister Carrie',\n",
       " 'Men of Iron',\n",
       " 'Western United States',\n",
       " 'Adventures of Jimmie Dale',\n",
       " 'Famous Men of the Middle Ages',\n",
       " 'South Pole; an account of the Norwegian Antarctic expedition in the Fram, 1910-12',\n",
       " 'Ronicky Doone',\n",
       " 'Moonfleet',\n",
       " 'Theodore Roosevelt: an Autobiography',\n",
       " 'Expedition of the Donner Party and its Tragic Fate',\n",
       " 'Jailed For Freedom',\n",
       " 'Tale of Master Meadow Mouse',\n",
       " 'Metal Monster',\n",
       " 'War and Peace, Book 10: 1812',\n",
       " 'Miserables Vol. 2',\n",
       " 'Majesty of Calmness',\n",
       " 'Practical Guide to Self-Hypnosis',\n",
       " 'Elsie Dinsmore',\n",
       " 'Wars of the Jews',\n",
       " 'Devotions upon Emergent Occasions',\n",
       " 'Age of Chivalry',\n",
       " 'Sunshine Sketches of a Little Town (version 2)',\n",
       " 'War and Peace, Book 11: 1812',\n",
       " 'Pioneers of France in the New World',\n",
       " 'Supreme Personality',\n",
       " 'Phineas Redux',\n",
       " 'Professor',\n",
       " 'Life and Opinions of Tristram Shandy, Gentleman Vol. 2',\n",
       " 'Trail of the Lonesome Pine',\n",
       " 'Life of Honorable William F. Cody, Known as Buffalo Bill The Famous Hunter, Scout and Guide',\n",
       " 'Turmoil (Growth Trilogy Vol 1)',\n",
       " 'Complete Hypnotism, Mesmerism, Mind-Reading and Spiritualism',\n",
       " 'World I Live In',\n",
       " 'Camille',\n",
       " 'County Regiment',\n",
       " 'Little Lord Fauntleroy (version 2)',\n",
       " 'Arcadian Adventures with the Idle Rich',\n",
       " 'This Simian World',\n",
       " 'Brighton Boys in the Radio Service',\n",
       " \"Aunt Jane's Nieces\",\n",
       " 'What is Property? An Inquiry into the Principle of Right and of Government',\n",
       " 'Some Answered Questions',\n",
       " 'Thomas Wingfold, Curate',\n",
       " 'Old Coast Road From Boston to Plymouth',\n",
       " 'Fortunes of Glencore',\n",
       " 'Principles of Economics with Applications to Practical Problems',\n",
       " 'Agatha Webb',\n",
       " 'Channings',\n",
       " 'General Introduction to Psychoanalysis',\n",
       " 'Stolen Souls',\n",
       " 'Louise de la Valliere',\n",
       " 'John Silence',\n",
       " 'History of England from the Invasion of Julius Caesar to the Revolution of 1688, Volume 1E',\n",
       " 'Works of Edgar Allan Poe, Raven Edition, Volume 4',\n",
       " 'Junior Classics Volume 8: Animal and Nature Stories',\n",
       " \"On A Donkey's Hurricane Deck\",\n",
       " 'Fairy Book',\n",
       " \"Young Folks' Treasury, Volume 2\",\n",
       " 'Annals of a Quiet Neighbourhood',\n",
       " 'Humorous Ghost Stories',\n",
       " 'Outdoor Chums in the Big Woods',\n",
       " 'Astounding Stories 03, March 1930',\n",
       " 'Aeroplanes and Dirigibles of War',\n",
       " 'Among the Pond People',\n",
       " 'Tom Swift Among the Diamond Makers',\n",
       " 'Inevitable',\n",
       " \"Knickerbocker's History of New York, Vol. 1\",\n",
       " 'Eight Harvard Poets',\n",
       " 'Among the Meadow People',\n",
       " 'Red Window',\n",
       " 'Revolution, and other Essays',\n",
       " 'Phantom Town Mystery',\n",
       " 'Underground Railroad, Part 5',\n",
       " 'Queer Little Folks',\n",
       " \"Knickerbocker's History of New York, Vol. 2\",\n",
       " 'Story of Young Abraham Lincoln',\n",
       " 'Folk Tales Every Child Should Know',\n",
       " 'Lucinda',\n",
       " 'Green Flag and Other Stories of War and Sport',\n",
       " 'Wanted: A Husband',\n",
       " 'Life of Saint Monica']"
      ]
     },
     "execution_count": 6,
     "metadata": {},
     "output_type": "execute_result"
    }
   ],
   "source": [
    "# Основной процесс\n",
    "CSV_PATH = \"train-clean-100/LibriSpeech/train_clean_100_chapters.csv\"\n",
    "df = pd.read_csv(CSV_PATH)\n",
    "unique_books = df[\"PROJECT TITLE\"].drop_duplicates().to_list()\n",
    "unique_books"
   ]
  },
  {
   "cell_type": "code",
   "execution_count": 1,
   "id": "db500971",
   "metadata": {},
   "outputs": [
    {
     "name": "stderr",
     "output_type": "stream",
     "text": [
      "Книги:   0%|          | 1/320 [00:02<11:46,  2.22s/it]"
     ]
    },
    {
     "name": "stdout",
     "output_type": "stream",
     "text": [
      "[Пропуск] 121 (Northanger Abbey): нет изображений\n"
     ]
    },
    {
     "name": "stderr",
     "output_type": "stream",
     "text": [
      "Книги:   1%|          | 2/320 [00:05<13:49,  2.61s/it]"
     ]
    },
    {
     "name": "stdout",
     "output_type": "stream",
     "text": [
      "[Пропуск] 84 (Frankenstein, or The Modern Prometheus): нет изображений\n"
     ]
    },
    {
     "name": "stderr",
     "output_type": "stream",
     "text": [
      "Книги:   1%|          | 3/320 [00:10<20:35,  3.90s/it]"
     ]
    },
    {
     "name": "stdout",
     "output_type": "stream",
     "text": [
      "[Успех] 1210 (Kwaidan: Stories and Studies of Strange Things): загружено 2 изображений\n"
     ]
    },
    {
     "name": "stderr",
     "output_type": "stream",
     "text": [
      "Книги:   1%|▏         | 4/320 [00:14<20:58,  3.98s/it]"
     ]
    },
    {
     "name": "stdout",
     "output_type": "stream",
     "text": [
      "[Успех] 376 (Journal of the Plague Year): загружено 2 изображений\n"
     ]
    },
    {
     "name": "stderr",
     "output_type": "stream",
     "text": [
      "Книги:   2%|▏         | 5/320 [00:15<14:28,  2.76s/it]"
     ]
    },
    {
     "name": "stdout",
     "output_type": "stream",
     "text": [
      "[Пропуск] 45 (Anne of Green Gables (version 3)): не найден на Gutenberg\n"
     ]
    },
    {
     "name": "stderr",
     "output_type": "stream",
     "text": [
      "Книги:   2%|▏         | 6/320 [03:17<5:33:00, 63.63s/it]"
     ]
    },
    {
     "name": "stdout",
     "output_type": "stream",
     "text": [
      "[Успех] 19066 (Brigands of the Moon): загружено 289 изображений\n"
     ]
    },
    {
     "name": "stderr",
     "output_type": "stream",
     "text": [
      "Книги:   2%|▏         | 7/320 [03:19<3:47:06, 43.54s/it]"
     ]
    },
    {
     "name": "stdout",
     "output_type": "stream",
     "text": [
      "[Пропуск] 3154 (Surprising Adventures of Baron Munchausen): нет изображений\n"
     ]
    },
    {
     "name": "stderr",
     "output_type": "stream",
     "text": [
      "Книги:   2%|▎         | 8/320 [03:23<2:42:12, 31.19s/it]"
     ]
    },
    {
     "name": "stdout",
     "output_type": "stream",
     "text": [
      "[Успех] 1831 (Lock and Key Library): загружено 3 изображений\n"
     ]
    },
    {
     "name": "stderr",
     "output_type": "stream",
     "text": [
      "Книги:   3%|▎         | 9/320 [03:25<1:53:07, 21.83s/it]"
     ]
    },
    {
     "name": "stdout",
     "output_type": "stream",
     "text": [
      "[Пропуск] 2046 (Clotel, or, The President's Daughter): нет изображений\n"
     ]
    },
    {
     "name": "stderr",
     "output_type": "stream",
     "text": [
      "Книги:   3%|▎         | 10/320 [03:29<1:24:27, 16.35s/it]"
     ]
    },
    {
     "name": "stdout",
     "output_type": "stream",
     "text": [
      "[Пропуск] 3424 (For the Term of His Natural Life): нет изображений\n"
     ]
    },
    {
     "name": "stderr",
     "output_type": "stream",
     "text": [
      "Книги:   3%|▎         | 11/320 [03:32<1:03:51, 12.40s/it]"
     ]
    },
    {
     "name": "stdout",
     "output_type": "stream",
     "text": [
      "[Пропуск] 14851 (Uncle Silas): нет изображений\n"
     ]
    },
    {
     "name": "stderr",
     "output_type": "stream",
     "text": [
      "Книги:   4%|▍         | 12/320 [03:37<51:13,  9.98s/it]  "
     ]
    },
    {
     "name": "stdout",
     "output_type": "stream",
     "text": [
      "[Пропуск] 3322 (East Lynne): нет изображений\n"
     ]
    },
    {
     "name": "stderr",
     "output_type": "stream",
     "text": [
      "Книги:   4%|▍         | 13/320 [03:43<45:45,  8.94s/it]"
     ]
    },
    {
     "name": "stdout",
     "output_type": "stream",
     "text": [
      "[Успех] 21048 (Just Patty): загружено 2 изображений\n"
     ]
    },
    {
     "name": "stderr",
     "output_type": "stream",
     "text": [
      "Книги:   4%|▍         | 14/320 [03:44<32:47,  6.43s/it]"
     ]
    },
    {
     "name": "stdout",
     "output_type": "stream",
     "text": [
      "[Пропуск] 45 (Anne of Green Gables (version 5)): не найден на Gutenberg\n"
     ]
    },
    {
     "name": "stderr",
     "output_type": "stream",
     "text": [
      "Книги:   5%|▍         | 15/320 [03:44<23:46,  4.68s/it]"
     ]
    },
    {
     "name": "stdout",
     "output_type": "stream",
     "text": [
      "[Пропуск] 2148 (Works of Edgar Allan Poe, Raven Edition, Volume 2): не найден на Gutenberg\n"
     ]
    },
    {
     "name": "stderr",
     "output_type": "stream",
     "text": [
      "Книги:   5%|▌         | 16/320 [03:47<19:43,  3.89s/it]"
     ]
    },
    {
     "name": "stdout",
     "output_type": "stream",
     "text": [
      "[Пропуск] 4761 (Cossacks): нет изображений\n"
     ]
    },
    {
     "name": "stderr",
     "output_type": "stream",
     "text": [
      "Книги:   5%|▌         | 17/320 [04:02<36:52,  7.30s/it]"
     ]
    },
    {
     "name": "stdout",
     "output_type": "stream",
     "text": [
      "[Успех] 10378 (Autobiography): загружено 14 изображений\n"
     ]
    },
    {
     "name": "stderr",
     "output_type": "stream",
     "text": [
      "Книги:   6%|▌         | 18/320 [04:40<1:23:27, 16.58s/it]"
     ]
    },
    {
     "name": "stdout",
     "output_type": "stream",
     "text": [
      "[Успех] 21510 (Legacy): загружено 39 изображений\n"
     ]
    },
    {
     "name": "stderr",
     "output_type": "stream",
     "text": [
      "Книги:   6%|▌         | 19/320 [04:43<1:02:59, 12.55s/it]"
     ]
    },
    {
     "name": "stdout",
     "output_type": "stream",
     "text": [
      "[Пропуск] 5978 (Autobiography of Anthony Trollope): нет изображений\n"
     ]
    },
    {
     "name": "stderr",
     "output_type": "stream",
     "text": [
      "Книги:   6%|▋         | 20/320 [04:47<49:28,  9.90s/it]  "
     ]
    },
    {
     "name": "stdout",
     "output_type": "stream",
     "text": [
      "[Успех] 135 (Miserables Vol. 3): загружено 1 изображений\n"
     ]
    },
    {
     "name": "stderr",
     "output_type": "stream",
     "text": [
      "Книги:   7%|▋         | 21/320 [04:56<48:54,  9.81s/it]"
     ]
    },
    {
     "name": "stdout",
     "output_type": "stream",
     "text": [
      "[Успех] 21904 (Millionaire Baby): загружено 9 изображений\n"
     ]
    },
    {
     "name": "stderr",
     "output_type": "stream",
     "text": [
      "Книги:   7%|▋         | 22/320 [04:57<34:59,  7.04s/it]"
     ]
    },
    {
     "name": "stdout",
     "output_type": "stream",
     "text": [
      "[Пропуск] 1399 (Anna Karenina, Book 2): не найден на Gutenberg\n"
     ]
    },
    {
     "name": "stderr",
     "output_type": "stream",
     "text": [
      "Книги:   7%|▋         | 23/320 [05:00<28:27,  5.75s/it]"
     ]
    },
    {
     "name": "stdout",
     "output_type": "stream",
     "text": [
      "[Пропуск] 976 (Tanglewood Tales): нет изображений\n"
     ]
    },
    {
     "name": "stderr",
     "output_type": "stream",
     "text": [
      "Книги:   8%|▊         | 24/320 [05:58<1:46:30, 21.59s/it]"
     ]
    },
    {
     "name": "stdout",
     "output_type": "stream",
     "text": [
      "[Успех] 27990 (Theo): загружено 71 изображений\n"
     ]
    },
    {
     "name": "stderr",
     "output_type": "stream",
     "text": [
      "Книги:   8%|▊         | 25/320 [08:36<5:06:28, 62.33s/it]"
     ]
    },
    {
     "name": "stdout",
     "output_type": "stream",
     "text": [
      "[Успех] 19499 (Music Notation and Terminology): загружено 226 изображений\n"
     ]
    },
    {
     "name": "stderr",
     "output_type": "stream",
     "text": [
      "Книги:   8%|▊         | 26/320 [08:42<3:42:59, 45.51s/it]"
     ]
    },
    {
     "name": "stdout",
     "output_type": "stream",
     "text": [
      "[Успех] 27771 (Once on a Time): загружено 4 изображений\n"
     ]
    },
    {
     "name": "stderr",
     "output_type": "stream",
     "text": [
      "Книги:   8%|▊         | 27/320 [08:43<2:36:28, 32.04s/it]"
     ]
    },
    {
     "name": "stdout",
     "output_type": "stream",
     "text": [
      "[Пропуск] 2741 (Celebrated Crimes, Vol. 1): не найден на Gutenberg\n"
     ]
    },
    {
     "name": "stderr",
     "output_type": "stream",
     "text": [
      "Книги:   9%|▉         | 28/320 [09:53<3:31:24, 43.44s/it]"
     ]
    },
    {
     "name": "stdout",
     "output_type": "stream",
     "text": [
      "[Успех] 8166 (Gargantua and Pantagruel, Book I): загружено 54 изображений\n"
     ]
    },
    {
     "name": "stderr",
     "output_type": "stream",
     "text": [
      "Книги:   9%|▉         | 29/320 [11:59<5:31:28, 68.35s/it]"
     ]
    },
    {
     "name": "stdout",
     "output_type": "stream",
     "text": [
      "[Успех] 14293 (Complete Book of Cheese): загружено 193 изображений\n"
     ]
    },
    {
     "name": "stderr",
     "output_type": "stream",
     "text": [
      "Книги:   9%|▉         | 30/320 [13:49<6:30:34, 80.81s/it]"
     ]
    },
    {
     "name": "stdout",
     "output_type": "stream",
     "text": [
      "[Успех] 29543 (Ox-Team Days on the Oregon Trail): загружено 127 изображений\n"
     ]
    },
    {
     "name": "stderr",
     "output_type": "stream",
     "text": [
      "Книги:  10%|▉         | 31/320 [14:03<4:52:34, 60.74s/it]"
     ]
    },
    {
     "name": "stdout",
     "output_type": "stream",
     "text": [
      "[Успех] 7882 (Life of Kit Carson): загружено 9 изображений\n"
     ]
    },
    {
     "name": "stderr",
     "output_type": "stream",
     "text": [
      "Книги:  10%|█         | 32/320 [14:07<3:30:25, 43.84s/it]"
     ]
    },
    {
     "name": "stdout",
     "output_type": "stream",
     "text": [
      "[Успех] 2158 (Prime Minister): загружено 2 изображений\n"
     ]
    },
    {
     "name": "stderr",
     "output_type": "stream",
     "text": [
      "Книги:  10%|█         | 33/320 [15:32<4:27:52, 56.00s/it]"
     ]
    },
    {
     "name": "stdout",
     "output_type": "stream",
     "text": [
      "[Успех] 4540 (In His Steps): загружено 80 изображений\n"
     ]
    },
    {
     "name": "stderr",
     "output_type": "stream",
     "text": [
      "Книги:  11%|█         | 34/320 [15:35<3:11:49, 40.24s/it]"
     ]
    },
    {
     "name": "stdout",
     "output_type": "stream",
     "text": [
      "[Пропуск] 4537 (Sylvia's Lovers): нет изображений\n"
     ]
    },
    {
     "name": "stderr",
     "output_type": "stream",
     "text": [
      "Книги:  11%|█         | 35/320 [15:38<2:17:31, 28.95s/it]"
     ]
    },
    {
     "name": "stdout",
     "output_type": "stream",
     "text": [
      "[Пропуск] 11128 (Red Thumb Mark): нет изображений\n"
     ]
    },
    {
     "name": "stderr",
     "output_type": "stream",
     "text": [
      "Книги:  11%|█▏        | 36/320 [15:42<1:42:37, 21.68s/it]"
     ]
    },
    {
     "name": "stdout",
     "output_type": "stream",
     "text": [
      "[Пропуск] 6933 (Jesuits in North America in the 17th Century): нет изображений\n"
     ]
    },
    {
     "name": "stderr",
     "output_type": "stream",
     "text": [
      "Книги:  12%|█▏        | 37/320 [16:34<2:24:16, 30.59s/it]"
     ]
    },
    {
     "name": "stdout",
     "output_type": "stream",
     "text": [
      "[Успех] 3795 (Under the Lilacs): загружено 53 изображений\n"
     ]
    },
    {
     "name": "stderr",
     "output_type": "stream",
     "text": [
      "Книги:  12%|█▏        | 38/320 [16:54<2:09:45, 27.61s/it]"
     ]
    },
    {
     "name": "stdout",
     "output_type": "stream",
     "text": [
      "[Успех] 326 (Steep Trails): загружено 13 изображений\n"
     ]
    },
    {
     "name": "stderr",
     "output_type": "stream",
     "text": [
      "Книги:  12%|█▏        | 39/320 [16:55<1:31:08, 19.46s/it]"
     ]
    },
    {
     "name": "stdout",
     "output_type": "stream",
     "text": [
      "[Пропуск] 1000010 (Autobiography of Cockney Tom): не найден на Gutenberg\n"
     ]
    },
    {
     "name": "stderr",
     "output_type": "stream",
     "text": [
      "Книги:  12%|█▎        | 40/320 [16:56<1:04:24, 13.80s/it]"
     ]
    },
    {
     "name": "stdout",
     "output_type": "stream",
     "text": [
      "[Пропуск] 135 (Miserables Vol. 4): не найден на Gutenberg\n"
     ]
    },
    {
     "name": "stderr",
     "output_type": "stream",
     "text": [
      "Книги:  13%|█▎        | 41/320 [16:57<47:09, 10.14s/it]  "
     ]
    },
    {
     "name": "stdout",
     "output_type": "stream",
     "text": [
      "[Пропуск] 851 (Narrative of the Captivity and Restoration of Mrs. Mary Rowlandson): нет изображений\n"
     ]
    },
    {
     "name": "stderr",
     "output_type": "stream",
     "text": [
      "Книги:  13%|█▎        | 42/320 [17:09<49:44, 10.74s/it]"
     ]
    },
    {
     "name": "stdout",
     "output_type": "stream",
     "text": [
      "[Успех] 16566 (Aunt Jane's Nieces Abroad): загружено 14 изображений\n"
     ]
    },
    {
     "name": "stderr",
     "output_type": "stream",
     "text": [
      "Книги:  13%|█▎        | 43/320 [17:10<36:06,  7.82s/it]"
     ]
    },
    {
     "name": "stdout",
     "output_type": "stream",
     "text": [
      "[Пропуск] 6987 (Five Little Peppers Abroad): нет изображений\n"
     ]
    },
    {
     "name": "stderr",
     "output_type": "stream",
     "text": [
      "Книги:  14%|█▍        | 44/320 [17:11<26:02,  5.66s/it]"
     ]
    },
    {
     "name": "stdout",
     "output_type": "stream",
     "text": [
      "[Пропуск] 135 (Miserables Vol. 5): не найден на Gutenberg\n"
     ]
    },
    {
     "name": "stderr",
     "output_type": "stream",
     "text": [
      "Книги:  14%|█▍        | 45/320 [17:11<19:00,  4.15s/it]"
     ]
    },
    {
     "name": "stdout",
     "output_type": "stream",
     "text": [
      "[Пропуск] 1079 (Life and Opinions of Tristram Shandy, Gentleman, Vol. 4): не найден на Gutenberg\n"
     ]
    },
    {
     "name": "stderr",
     "output_type": "stream",
     "text": [
      "Книги:  14%|█▍        | 46/320 [17:13<15:54,  3.48s/it]"
     ]
    },
    {
     "name": "stdout",
     "output_type": "stream",
     "text": [
      "[Пропуск] 17189 (Autumn Leaves, Original Pieces in Prose and Verse): нет изображений\n"
     ]
    },
    {
     "name": "stderr",
     "output_type": "stream",
     "text": [
      "Книги:  15%|█▍        | 47/320 [17:15<12:38,  2.78s/it]"
     ]
    },
    {
     "name": "stdout",
     "output_type": "stream",
     "text": [
      "[Пропуск] 6754 (Tale of Brownie Beaver): нет изображений\n"
     ]
    },
    {
     "name": "stderr",
     "output_type": "stream",
     "text": [
      "Книги:  15%|█▌        | 48/320 [17:15<09:39,  2.13s/it]"
     ]
    },
    {
     "name": "stdout",
     "output_type": "stream",
     "text": [
      "[Пропуск] 2600 (War and Peace, Book 15: 1812-1813): не найден на Gutenberg\n"
     ]
    },
    {
     "name": "stderr",
     "output_type": "stream",
     "text": [
      "Книги:  15%|█▌        | 49/320 [18:17<1:30:48, 20.11s/it]"
     ]
    },
    {
     "name": "stdout",
     "output_type": "stream",
     "text": [
      "[Успех] 30908 (Bible in Its Making): загружено 59 изображений\n"
     ]
    },
    {
     "name": "stderr",
     "output_type": "stream",
     "text": [
      "Книги:  16%|█▌        | 50/320 [18:20<1:07:39, 15.04s/it]"
     ]
    },
    {
     "name": "stdout",
     "output_type": "stream",
     "text": [
      "[Пропуск] 3800 (Ethics): нет изображений\n"
     ]
    },
    {
     "name": "stderr",
     "output_type": "stream",
     "text": [
      "Книги:  16%|█▌        | 51/320 [18:21<47:58, 10.70s/it]  "
     ]
    },
    {
     "name": "stdout",
     "output_type": "stream",
     "text": [
      "[Пропуск] 26041 (Aunt Jo's Scrapbag): не найден на Gutenberg\n"
     ]
    },
    {
     "name": "stderr",
     "output_type": "stream",
     "text": [
      "Книги:  16%|█▋        | 52/320 [18:34<50:20, 11.27s/it]"
     ]
    },
    {
     "name": "stdout",
     "output_type": "stream",
     "text": [
      "[Успех] 3050 (Notes of a War Correspondent): загружено 14 изображений\n"
     ]
    },
    {
     "name": "stderr",
     "output_type": "stream",
     "text": [
      "Книги:  17%|█▋        | 53/320 [18:35<36:44,  8.26s/it]"
     ]
    },
    {
     "name": "stdout",
     "output_type": "stream",
     "text": [
      "[Пропуск] 22781 (32 Caliber): нет изображений\n"
     ]
    },
    {
     "name": "stderr",
     "output_type": "stream",
     "text": [
      "Книги:  17%|█▋        | 54/320 [18:36<26:34,  6.00s/it]"
     ]
    },
    {
     "name": "stdout",
     "output_type": "stream",
     "text": [
      "[Пропуск] 2600 (War and Peace, Book 16: First Epilogue 1813-1820): не найден на Gutenberg\n"
     ]
    },
    {
     "name": "stderr",
     "output_type": "stream",
     "text": [
      "Книги:  17%|█▋        | 55/320 [18:39<22:29,  5.09s/it]"
     ]
    },
    {
     "name": "stdout",
     "output_type": "stream",
     "text": [
      "[Пропуск] 22215 (Frozen Pirate): нет изображений\n"
     ]
    },
    {
     "name": "stderr",
     "output_type": "stream",
     "text": [
      "Книги:  18%|█▊        | 56/320 [18:42<20:49,  4.73s/it]"
     ]
    },
    {
     "name": "stdout",
     "output_type": "stream",
     "text": [
      "[Успех] 13437 (Best Russian Short Stories): загружено 1 изображений\n"
     ]
    },
    {
     "name": "stderr",
     "output_type": "stream",
     "text": [
      "Книги:  18%|█▊        | 57/320 [20:02<1:59:23, 27.24s/it]"
     ]
    },
    {
     "name": "stdout",
     "output_type": "stream",
     "text": [
      "[Успех] 19087 (King Nobody Wanted): загружено 91 изображений\n"
     ]
    },
    {
     "name": "stderr",
     "output_type": "stream",
     "text": [
      "Книги:  18%|█▊        | 58/320 [20:43<2:16:47, 31.33s/it]"
     ]
    },
    {
     "name": "stdout",
     "output_type": "stream",
     "text": [
      "[Успех] 22409 (Woman Who Went to Alaska): загружено 56 изображений\n"
     ]
    },
    {
     "name": "stderr",
     "output_type": "stream",
     "text": [
      "Книги:  18%|█▊        | 59/320 [20:45<1:37:56, 22.52s/it]"
     ]
    },
    {
     "name": "stdout",
     "output_type": "stream",
     "text": [
      "[Пропуск] 7345 (Travels in Alaska): нет изображений\n",
      "[Скачивание] Ошибка https://www.gutenberg.org/files/3178/3178-h/images/p545.jpg: HTTPSConnectionPool(host='www.gutenberg.org', port=443): Max retries exceeded with url: /files/3178/3178-h/images/p545.jpg (Caused by ConnectTimeoutError(<urllib3.connection.HTTPSConnection object at 0x000001A80B6B8F10>, 'Connection to www.gutenberg.org timed out. (connect timeout=10)'))\n"
     ]
    },
    {
     "name": "stderr",
     "output_type": "stream",
     "text": [
      "Книги:  19%|█▉        | 60/320 [23:59<5:20:24, 73.94s/it]"
     ]
    },
    {
     "name": "stdout",
     "output_type": "stream",
     "text": [
      "[Успех] 3178 (Gilded Age): загружено 211 изображений\n"
     ]
    },
    {
     "name": "stderr",
     "output_type": "stream",
     "text": [
      "Книги:  19%|█▉        | 61/320 [24:00<3:44:13, 51.94s/it]"
     ]
    },
    {
     "name": "stdout",
     "output_type": "stream",
     "text": [
      "[Пропуск] 2600 (War and Peace, Book 17: Second Epilogue): не найден на Gutenberg\n"
     ]
    },
    {
     "name": "stderr",
     "output_type": "stream",
     "text": [
      "Книги:  19%|█▉        | 62/320 [24:02<2:39:19, 37.05s/it]"
     ]
    },
    {
     "name": "stdout",
     "output_type": "stream",
     "text": [
      "[Пропуск] 3634 (Guilty River): нет изображений\n"
     ]
    },
    {
     "name": "stderr",
     "output_type": "stream",
     "text": [
      "Книги:  20%|█▉        | 63/320 [24:03<1:52:35, 26.29s/it]"
     ]
    },
    {
     "name": "stdout",
     "output_type": "stream",
     "text": [
      "[Пропуск] 10359 (Aunt Jane's Nieces at Millville): нет изображений\n"
     ]
    },
    {
     "name": "stderr",
     "output_type": "stream",
     "text": [
      "Книги:  20%|██        | 64/320 [24:49<2:16:51, 32.07s/it]"
     ]
    },
    {
     "name": "stdout",
     "output_type": "stream",
     "text": [
      "[Успех] 24811 (Viking Tales): загружено 60 изображений\n"
     ]
    },
    {
     "name": "stderr",
     "output_type": "stream",
     "text": [
      "Книги:  20%|██        | 65/320 [24:52<1:39:17, 23.36s/it]"
     ]
    },
    {
     "name": "stdout",
     "output_type": "stream",
     "text": [
      "[Пропуск] 12587 (Man Who Laughs): нет изображений\n"
     ]
    },
    {
     "name": "stderr",
     "output_type": "stream",
     "text": [
      "Книги:  21%|██        | 66/320 [24:52<1:10:04, 16.55s/it]"
     ]
    },
    {
     "name": "stdout",
     "output_type": "stream",
     "text": [
      "[Пропуск] 10800 (Anatomy of Melancholy Volume 2): не найден на Gutenberg\n"
     ]
    },
    {
     "name": "stderr",
     "output_type": "stream",
     "text": [
      "Книги:  21%|██        | 67/320 [24:53<49:34, 11.76s/it]  "
     ]
    },
    {
     "name": "stdout",
     "output_type": "stream",
     "text": [
      "[Пропуск] 2488 (Twenty Thousand Leagues Under the Sea (Version 2)): не найден на Gutenberg\n"
     ]
    },
    {
     "name": "stderr",
     "output_type": "stream",
     "text": [
      "Книги:  21%|██▏       | 68/320 [25:03<47:15, 11.25s/it]"
     ]
    },
    {
     "name": "stdout",
     "output_type": "stream",
     "text": [
      "[Успех] 2860 (Framley Parsonage): загружено 6 изображений\n"
     ]
    },
    {
     "name": "stderr",
     "output_type": "stream",
     "text": [
      "Книги:  22%|██▏       | 69/320 [25:07<38:13,  9.14s/it]"
     ]
    },
    {
     "name": "stdout",
     "output_type": "stream",
     "text": [
      "[Пропуск] 2609 (Vicomte De Bragelonne): нет изображений\n"
     ]
    },
    {
     "name": "stderr",
     "output_type": "stream",
     "text": [
      "Книги:  22%|██▏       | 70/320 [25:10<30:09,  7.24s/it]"
     ]
    },
    {
     "name": "stdout",
     "output_type": "stream",
     "text": [
      "[Пропуск] 24874 (Lucy Maud Montgomery Short Stories, 1902 to 1903): нет изображений\n"
     ]
    },
    {
     "name": "stderr",
     "output_type": "stream",
     "text": [
      "Книги:  22%|██▏       | 71/320 [25:13<24:31,  5.91s/it]"
     ]
    },
    {
     "name": "stdout",
     "output_type": "stream",
     "text": [
      "[Пропуск] 22775 (Psychotherapy): нет изображений\n"
     ]
    },
    {
     "name": "stderr",
     "output_type": "stream",
     "text": [
      "Книги:  22%|██▎       | 72/320 [25:13<17:44,  4.29s/it]"
     ]
    },
    {
     "name": "stdout",
     "output_type": "stream",
     "text": [
      "[Пропуск] 13610 (Studies in the Psychology of Sex, Volume One): не найден на Gutenberg\n"
     ]
    },
    {
     "name": "stderr",
     "output_type": "stream",
     "text": [
      "Книги:  23%|██▎       | 73/320 [25:34<38:32,  9.36s/it]"
     ]
    },
    {
     "name": "stdout",
     "output_type": "stream",
     "text": [
      "[Успех] 17811 (Grace Harlowe's Junior Year at High School; or, Fast Friends in the Sororities): загружено 26 изображений\n"
     ]
    },
    {
     "name": "stderr",
     "output_type": "stream",
     "text": [
      "Книги:  23%|██▎       | 74/320 [25:35<27:38,  6.74s/it]"
     ]
    },
    {
     "name": "stdout",
     "output_type": "stream",
     "text": [
      "[Пропуск] 4071 (Monsieur Lecoq Part 1: The Inquiry): не найден на Gutenberg\n"
     ]
    },
    {
     "name": "stderr",
     "output_type": "stream",
     "text": [
      "Книги:  23%|██▎       | 75/320 [25:38<23:01,  5.64s/it]"
     ]
    },
    {
     "name": "stdout",
     "output_type": "stream",
     "text": [
      "[Пропуск] 14021 (Lord of the World): нет изображений\n"
     ]
    },
    {
     "name": "stderr",
     "output_type": "stream",
     "text": [
      "Книги:  24%|██▍       | 76/320 [25:39<17:24,  4.28s/it]"
     ]
    },
    {
     "name": "stdout",
     "output_type": "stream",
     "text": [
      "[Пропуск] 9746 (Ashiel Mystery - A Detective Story): нет изображений\n"
     ]
    },
    {
     "name": "stderr",
     "output_type": "stream",
     "text": [
      "Книги:  24%|██▍       | 77/320 [25:43<16:03,  3.97s/it]"
     ]
    },
    {
     "name": "stdout",
     "output_type": "stream",
     "text": [
      "[Пропуск] 17780 (Scenes of Clerical Life): нет изображений\n"
     ]
    },
    {
     "name": "stderr",
     "output_type": "stream",
     "text": [
      "Книги:  24%|██▍       | 78/320 [25:44<12:27,  3.09s/it]"
     ]
    },
    {
     "name": "stdout",
     "output_type": "stream",
     "text": [
      "[Пропуск] 10869 (Abandoned Room): нет изображений\n"
     ]
    },
    {
     "name": "stderr",
     "output_type": "stream",
     "text": [
      "Книги:  25%|██▍       | 79/320 [25:47<12:15,  3.05s/it]"
     ]
    },
    {
     "name": "stdout",
     "output_type": "stream",
     "text": [
      "[Пропуск] 3438 (Book of A Thousand Nights and a Night (Arabian Nights), Volume 04): нет изображений\n"
     ]
    },
    {
     "name": "stderr",
     "output_type": "stream",
     "text": [
      "Книги:  25%|██▌       | 80/320 [26:27<56:38, 14.16s/it]"
     ]
    },
    {
     "name": "stdout",
     "output_type": "stream",
     "text": [
      "[Успех] 4599 (Small House at Allington): загружено 37 изображений\n"
     ]
    },
    {
     "name": "stderr",
     "output_type": "stream",
     "text": [
      "Книги:  25%|██▌       | 81/320 [26:58<1:16:33, 19.22s/it]"
     ]
    },
    {
     "name": "stdout",
     "output_type": "stream",
     "text": [
      "[Успех] 1751 (Twilight Land): загружено 28 изображений\n"
     ]
    },
    {
     "name": "stderr",
     "output_type": "stream",
     "text": [
      "Книги:  26%|██▌       | 82/320 [27:01<57:56, 14.61s/it]  "
     ]
    },
    {
     "name": "stdout",
     "output_type": "stream",
     "text": [
      "[Пропуск] 1839 (Other Things Being Equal): нет изображений\n"
     ]
    },
    {
     "name": "stderr",
     "output_type": "stream",
     "text": [
      "Книги:  26%|██▌       | 83/320 [27:04<43:00, 10.89s/it]"
     ]
    },
    {
     "name": "stdout",
     "output_type": "stream",
     "text": [
      "[Пропуск] 17854 (Sport of the Gods): нет изображений\n"
     ]
    },
    {
     "name": "stderr",
     "output_type": "stream",
     "text": [
      "Книги:  26%|██▋       | 84/320 [27:07<33:35,  8.54s/it]"
     ]
    },
    {
     "name": "stdout",
     "output_type": "stream",
     "text": [
      "[Успех] 32628 (Child's Book of American Biography): загружено 1 изображений\n"
     ]
    },
    {
     "name": "stderr",
     "output_type": "stream",
     "text": [
      "Книги:  27%|██▋       | 85/320 [27:10<26:58,  6.89s/it]"
     ]
    },
    {
     "name": "stdout",
     "output_type": "stream",
     "text": [
      "[Пропуск] 362 (Miss Billy's Decision): нет изображений\n"
     ]
    },
    {
     "name": "stderr",
     "output_type": "stream",
     "text": [
      "Книги:  27%|██▋       | 86/320 [27:18<28:05,  7.20s/it]"
     ]
    },
    {
     "name": "stdout",
     "output_type": "stream",
     "text": [
      "[Успех] 34944 (Brenda, Her School and Her Club): загружено 5 изображений\n"
     ]
    },
    {
     "name": "stderr",
     "output_type": "stream",
     "text": [
      "Книги:  27%|██▋       | 87/320 [29:22<2:44:16, 42.30s/it]"
     ]
    },
    {
     "name": "stdout",
     "output_type": "stream",
     "text": [
      "[Успех] 5118 (American Senator): загружено 118 изображений\n"
     ]
    },
    {
     "name": "stderr",
     "output_type": "stream",
     "text": [
      "Книги:  28%|██▊       | 88/320 [29:24<1:57:18, 30.34s/it]"
     ]
    },
    {
     "name": "stdout",
     "output_type": "stream",
     "text": [
      "[Пропуск] 13015 (Tales of Old Japan): нет изображений\n"
     ]
    },
    {
     "name": "stderr",
     "output_type": "stream",
     "text": [
      "Книги:  28%|██▊       | 89/320 [29:38<1:37:33, 25.34s/it]"
     ]
    },
    {
     "name": "stdout",
     "output_type": "stream",
     "text": [
      "[Успех] 18734 (Wit and Humor of America, Vol 03): загружено 14 изображений\n"
     ]
    },
    {
     "name": "stderr",
     "output_type": "stream",
     "text": [
      "Книги:  28%|██▊       | 90/320 [30:28<2:05:27, 32.73s/it]"
     ]
    },
    {
     "name": "stdout",
     "output_type": "stream",
     "text": [
      "[Успех] 12600 (Old and New Masters): загружено 49 изображений\n"
     ]
    },
    {
     "name": "stderr",
     "output_type": "stream",
     "text": [
      "Книги:  28%|██▊       | 91/320 [31:12<2:18:05, 36.18s/it]"
     ]
    },
    {
     "name": "stdout",
     "output_type": "stream",
     "text": [
      "[Успех] 16653 (Myths of Babylonia and Assyria): загружено 42 изображений\n"
     ]
    },
    {
     "name": "stderr",
     "output_type": "stream",
     "text": [
      "Книги:  29%|██▉       | 92/320 [31:17<1:41:24, 26.69s/it]"
     ]
    },
    {
     "name": "stdout",
     "output_type": "stream",
     "text": [
      "[Пропуск] 35587 (Headless Horseman - A Strange Tale of Texas): нет изображений\n"
     ]
    },
    {
     "name": "stderr",
     "output_type": "stream",
     "text": [
      "Книги:  29%|██▉       | 93/320 [31:38<1:34:49, 25.06s/it]"
     ]
    },
    {
     "name": "stdout",
     "output_type": "stream",
     "text": [
      "[Успех] 19323 (Wit and Humor of America, Vol 05): загружено 12 изображений\n"
     ]
    },
    {
     "name": "stderr",
     "output_type": "stream",
     "text": [
      "Книги:  29%|██▉       | 94/320 [31:39<1:07:20, 17.88s/it]"
     ]
    },
    {
     "name": "stdout",
     "output_type": "stream",
     "text": [
      "[Пропуск] 1268 (Mysterious Island (version 2)): не найден на Gutenberg\n"
     ]
    },
    {
     "name": "stderr",
     "output_type": "stream",
     "text": [
      "Книги:  30%|██▉       | 95/320 [31:42<49:41, 13.25s/it]  "
     ]
    },
    {
     "name": "stdout",
     "output_type": "stream",
     "text": [
      "[Пропуск] 20064 (Captains of Industry): нет изображений\n"
     ]
    },
    {
     "name": "stderr",
     "output_type": "stream",
     "text": [
      "Книги:  30%|███       | 96/320 [31:46<40:08, 10.75s/it]"
     ]
    },
    {
     "name": "stdout",
     "output_type": "stream",
     "text": [
      "[Успех] 24876 (Lucy Maud Montgomery Short Stories, 1905-1906): загружено 2 изображений\n"
     ]
    },
    {
     "name": "stderr",
     "output_type": "stream",
     "text": [
      "Книги:  30%|███       | 97/320 [31:57<39:07, 10.53s/it]"
     ]
    },
    {
     "name": "stdout",
     "output_type": "stream",
     "text": [
      "[Поиск ID] Ошибка для 'Story of a Bad Boy': HTTPSConnectionPool(host='www.gutenberg.org', port=443): Max retries exceeded with url: /ebooks/search/?query=Story+of+a+Bad+Boy (Caused by ConnectTimeoutError(<urllib3.connection.HTTPSConnection object at 0x000001A80BC08C10>, 'Connection to www.gutenberg.org timed out. (connect timeout=10)'))\n",
      "[Пропуск] 1948 (Story of a Bad Boy): не найден на Gutenberg\n"
     ]
    },
    {
     "name": "stderr",
     "output_type": "stream",
     "text": [
      "Книги:  31%|███       | 98/320 [32:18<50:59, 13.78s/it]"
     ]
    },
    {
     "name": "stdout",
     "output_type": "stream",
     "text": [
      "[Успех] 21959 (Letters from a Self-Made Merchant to His Son): загружено 19 изображений\n"
     ]
    },
    {
     "name": "stderr",
     "output_type": "stream",
     "text": [
      "Книги:  31%|███       | 99/320 [32:20<37:57, 10.30s/it]"
     ]
    },
    {
     "name": "stdout",
     "output_type": "stream",
     "text": [
      "[Пропуск] 13110 (Aunt Jane's Nieces at Work): нет изображений\n"
     ]
    },
    {
     "name": "stderr",
     "output_type": "stream",
     "text": [
      "Книги:  31%|███▏      | 100/320 [32:21<27:38,  7.54s/it]"
     ]
    },
    {
     "name": "stdout",
     "output_type": "stream",
     "text": [
      "[Пропуск] 12347 (Morgesons): нет изображений\n"
     ]
    },
    {
     "name": "stderr",
     "output_type": "stream",
     "text": [
      "Книги:  32%|███▏      | 101/320 [32:22<19:53,  5.45s/it]"
     ]
    },
    {
     "name": "stdout",
     "output_type": "stream",
     "text": [
      "[Пропуск] 21854 (Trent's Last Case (Version 2)): не найден на Gutenberg\n"
     ]
    },
    {
     "name": "stderr",
     "output_type": "stream",
     "text": [
      "Книги:  32%|███▏      | 102/320 [32:23<15:47,  4.34s/it]"
     ]
    },
    {
     "name": "stdout",
     "output_type": "stream",
     "text": [
      "[Пропуск] 25493 (Cathedral Courtship): нет изображений\n"
     ]
    },
    {
     "name": "stderr",
     "output_type": "stream",
     "text": [
      "Книги:  32%|███▏      | 103/320 [32:29<17:17,  4.78s/it]"
     ]
    },
    {
     "name": "stdout",
     "output_type": "stream",
     "text": [
      "[Успех] 24877 (Lucy Maud Montgomery Short Stories, 1907-1908): загружено 3 изображений\n"
     ]
    },
    {
     "name": "stderr",
     "output_type": "stream",
     "text": [
      "Книги:  32%|███▎      | 104/320 [32:32<14:53,  4.14s/it]"
     ]
    },
    {
     "name": "stdout",
     "output_type": "stream",
     "text": [
      "[Пропуск] 1734 (Secret Places of the Heart): нет изображений\n"
     ]
    },
    {
     "name": "stderr",
     "output_type": "stream",
     "text": [
      "Книги:  33%|███▎      | 105/320 [32:35<13:53,  3.88s/it]"
     ]
    },
    {
     "name": "stdout",
     "output_type": "stream",
     "text": [
      "[Пропуск] 37039 (Red Room): нет изображений\n"
     ]
    },
    {
     "name": "stderr",
     "output_type": "stream",
     "text": [
      "Книги:  33%|███▎      | 106/320 [32:40<14:22,  4.03s/it]"
     ]
    },
    {
     "name": "stdout",
     "output_type": "stream",
     "text": [
      "[Успех] 30905 (Boarded Up House): загружено 1 изображений\n"
     ]
    },
    {
     "name": "stderr",
     "output_type": "stream",
     "text": [
      "Книги:  33%|███▎      | 107/320 [32:40<10:37,  2.99s/it]"
     ]
    },
    {
     "name": "stdout",
     "output_type": "stream",
     "text": [
      "[Пропуск] 5136 (Around the World on a Bicycle, Vol. 1): не найден на Gutenberg\n"
     ]
    },
    {
     "name": "stderr",
     "output_type": "stream",
     "text": [
      "Книги:  34%|███▍      | 108/320 [32:43<10:01,  2.84s/it]"
     ]
    },
    {
     "name": "stdout",
     "output_type": "stream",
     "text": [
      "[Пропуск] 7502 (Annie Kilburn): нет изображений\n"
     ]
    },
    {
     "name": "stderr",
     "output_type": "stream",
     "text": [
      "Книги:  34%|███▍      | 109/320 [32:56<21:30,  6.12s/it]"
     ]
    },
    {
     "name": "stdout",
     "output_type": "stream",
     "text": [
      "[Успех] 24432 (Wit and Humor of America, Vol 08): загружено 11 изображений\n"
     ]
    },
    {
     "name": "stderr",
     "output_type": "stream",
     "text": [
      "Книги:  34%|███▍      | 110/320 [33:56<1:17:29, 22.14s/it]"
     ]
    },
    {
     "name": "stdout",
     "output_type": "stream",
     "text": [
      "[Успех] 27826 (Olive Fairy Book): загружено 54 изображений\n"
     ]
    },
    {
     "name": "stderr",
     "output_type": "stream",
     "text": [
      "Книги:  35%|███▍      | 111/320 [33:57<54:37, 15.68s/it]  "
     ]
    },
    {
     "name": "stdout",
     "output_type": "stream",
     "text": [
      "[Пропуск] 2866 (Windsor Castle, Book 1): не найден на Gutenberg\n"
     ]
    },
    {
     "name": "stderr",
     "output_type": "stream",
     "text": [
      "Книги:  35%|███▌      | 112/320 [33:58<39:13, 11.32s/it]"
     ]
    },
    {
     "name": "stdout",
     "output_type": "stream",
     "text": [
      "[Пропуск] 19347 (Myths of the New World): нет изображений\n"
     ]
    },
    {
     "name": "stderr",
     "output_type": "stream",
     "text": [
      "Книги:  35%|███▌      | 113/320 [34:50<1:21:10, 23.53s/it]"
     ]
    },
    {
     "name": "stdout",
     "output_type": "stream",
     "text": [
      "[Успех] 3282 (Brown Fairy Book): загружено 53 изображений\n"
     ]
    },
    {
     "name": "stderr",
     "output_type": "stream",
     "text": [
      "Книги:  36%|███▌      | 114/320 [36:01<2:09:39, 37.76s/it]"
     ]
    },
    {
     "name": "stdout",
     "output_type": "stream",
     "text": [
      "[Успех] 35862 (Celtic Folk and Fairy Tales): загружено 80 изображений\n"
     ]
    },
    {
     "name": "stderr",
     "output_type": "stream",
     "text": [
      "Книги:  36%|███▌      | 115/320 [36:01<1:30:57, 26.62s/it]"
     ]
    },
    {
     "name": "stdout",
     "output_type": "stream",
     "text": [
      "[Пропуск] 1184 (Count of Monte Cristo (version 2)): не найден на Gutenberg\n"
     ]
    },
    {
     "name": "stderr",
     "output_type": "stream",
     "text": [
      "Книги:  36%|███▋      | 116/320 [36:03<1:05:05, 19.15s/it]"
     ]
    },
    {
     "name": "stdout",
     "output_type": "stream",
     "text": [
      "[Пропуск] 38556 (Historic Waterways): нет изображений\n"
     ]
    },
    {
     "name": "stderr",
     "output_type": "stream",
     "text": [
      "Книги:  37%|███▋      | 117/320 [36:14<56:03, 16.57s/it]  "
     ]
    },
    {
     "name": "stdout",
     "output_type": "stream",
     "text": [
      "[Успех] 13029 (Art of the Moving Picture): загружено 13 изображений\n"
     ]
    },
    {
     "name": "stderr",
     "output_type": "stream",
     "text": [
      "Книги:  37%|███▋      | 118/320 [36:17<42:33, 12.64s/it]"
     ]
    },
    {
     "name": "stdout",
     "output_type": "stream",
     "text": [
      "[Успех] 34468 (Christopher Quarles College Professor and Master Detective): загружено 1 изображений\n"
     ]
    },
    {
     "name": "stderr",
     "output_type": "stream",
     "text": [
      "Книги:  37%|███▋      | 119/320 [36:31<44:09, 13.18s/it]"
     ]
    },
    {
     "name": "stdout",
     "output_type": "stream",
     "text": [
      "[Успех] 19207 (Firelight Fairy Book): загружено 13 изображений\n"
     ]
    },
    {
     "name": "stderr",
     "output_type": "stream",
     "text": [
      "Книги:  38%|███▊      | 120/320 [36:59<58:14, 17.47s/it]"
     ]
    },
    {
     "name": "stdout",
     "output_type": "stream",
     "text": [
      "[Успех] 35950 (Lives of Poor Boys Who Became Famous): загружено 24 изображений\n"
     ]
    },
    {
     "name": "stderr",
     "output_type": "stream",
     "text": [
      "Книги:  38%|███▊      | 121/320 [41:20<5:00:20, 90.56s/it]"
     ]
    },
    {
     "name": "stdout",
     "output_type": "stream",
     "text": [
      "[Успех] 18284 (For Every Music Lover): загружено 256 изображений\n"
     ]
    },
    {
     "name": "stderr",
     "output_type": "stream",
     "text": [
      "Книги:  38%|███▊      | 122/320 [41:22<3:31:15, 64.02s/it]"
     ]
    },
    {
     "name": "stdout",
     "output_type": "stream",
     "text": [
      "[Пропуск] 15268 (John Stuart Mill; His Life and Works): нет изображений\n"
     ]
    },
    {
     "name": "stderr",
     "output_type": "stream",
     "text": [
      "Книги:  38%|███▊      | 123/320 [41:24<2:28:42, 45.29s/it]"
     ]
    },
    {
     "name": "stdout",
     "output_type": "stream",
     "text": [
      "[Пропуск] 18018 (Free Press): нет изображений\n"
     ]
    },
    {
     "name": "stderr",
     "output_type": "stream",
     "text": [
      "Книги:  39%|███▉      | 124/320 [41:28<1:47:52, 33.02s/it]"
     ]
    },
    {
     "name": "stdout",
     "output_type": "stream",
     "text": [
      "[Успех] 8642 (Woman in the Nineteenth Century): загружено 1 изображений\n"
     ]
    },
    {
     "name": "stderr",
     "output_type": "stream",
     "text": [
      "Книги:  39%|███▉      | 125/320 [41:38<1:24:36, 26.04s/it]"
     ]
    },
    {
     "name": "stdout",
     "output_type": "stream",
     "text": [
      "[Успех] 25652 (Treasury of Heroes and Heroines): загружено 7 изображений\n"
     ]
    },
    {
     "name": "stderr",
     "output_type": "stream",
     "text": [
      "Книги:  39%|███▉      | 126/320 [41:41<1:01:30, 19.02s/it]"
     ]
    },
    {
     "name": "stdout",
     "output_type": "stream",
     "text": [
      "[Пропуск] 39324 (Literary Sense): нет изображений\n"
     ]
    },
    {
     "name": "stderr",
     "output_type": "stream",
     "text": [
      "Книги:  40%|███▉      | 127/320 [41:47<48:57, 15.22s/it]  "
     ]
    },
    {
     "name": "stdout",
     "output_type": "stream",
     "text": [
      "[Успех] 25333 (Great K. & A. Train-Robbery): загружено 4 изображений\n"
     ]
    },
    {
     "name": "stderr",
     "output_type": "stream",
     "text": [
      "Книги:  40%|████      | 128/320 [41:49<36:28, 11.40s/it]"
     ]
    },
    {
     "name": "stdout",
     "output_type": "stream",
     "text": [
      "[Пропуск] 5669 (Considerations on Representative Government): нет изображений\n"
     ]
    },
    {
     "name": "stderr",
     "output_type": "stream",
     "text": [
      "Книги:  40%|████      | 129/320 [41:51<26:33,  8.34s/it]"
     ]
    },
    {
     "name": "stdout",
     "output_type": "stream",
     "text": [
      "[Пропуск] 2395 (Golden Fleece and the Heroes Who Lived Before Achilles): нет изображений\n"
     ]
    },
    {
     "name": "stderr",
     "output_type": "stream",
     "text": [
      "Книги:  41%|████      | 130/320 [44:55<3:13:57, 61.25s/it]"
     ]
    },
    {
     "name": "stdout",
     "output_type": "stream",
     "text": [
      "[Успех] 27448 (Indian To-day): загружено 140 изображений\n"
     ]
    },
    {
     "name": "stderr",
     "output_type": "stream",
     "text": [
      "Книги:  41%|████      | 131/320 [44:57<2:17:01, 43.50s/it]"
     ]
    },
    {
     "name": "stdout",
     "output_type": "stream",
     "text": [
      "[Пропуск] 5803 (Not That It Matters): нет изображений\n"
     ]
    },
    {
     "name": "stderr",
     "output_type": "stream",
     "text": [
      "Книги:  41%|████▏     | 132/320 [45:15<1:52:14, 35.82s/it]"
     ]
    },
    {
     "name": "stdout",
     "output_type": "stream",
     "text": [
      "[Успех] 21639 (When Patty Went to College): загружено 22 изображений\n"
     ]
    },
    {
     "name": "stderr",
     "output_type": "stream",
     "text": [
      "Книги:  42%|████▏     | 133/320 [45:18<1:20:33, 25.84s/it]"
     ]
    },
    {
     "name": "stdout",
     "output_type": "stream",
     "text": [
      "[Успех] 28572 (Letters on an Elk Hunt): загружено 1 изображений\n"
     ]
    },
    {
     "name": "stderr",
     "output_type": "stream",
     "text": [
      "Книги:  42%|████▏     | 134/320 [45:42<1:18:38, 25.37s/it]"
     ]
    },
    {
     "name": "stdout",
     "output_type": "stream",
     "text": [
      "[Успех] 37756 (Byzantine Empire): загружено 13 изображений\n"
     ]
    },
    {
     "name": "stderr",
     "output_type": "stream",
     "text": [
      "Книги:  42%|████▏     | 135/320 [45:44<56:29, 18.32s/it]  "
     ]
    },
    {
     "name": "stdout",
     "output_type": "stream",
     "text": [
      "[Пропуск] 1693 (Dangerous Days): нет изображений\n"
     ]
    },
    {
     "name": "stderr",
     "output_type": "stream",
     "text": [
      "Книги:  42%|████▎     | 136/320 [46:53<1:42:36, 33.46s/it]"
     ]
    },
    {
     "name": "stdout",
     "output_type": "stream",
     "text": [
      "[Успех] 20183 (John Quincy Adams): загружено 65 изображений\n"
     ]
    },
    {
     "name": "stderr",
     "output_type": "stream",
     "text": [
      "Книги:  43%|████▎     | 137/320 [46:53<1:12:00, 23.61s/it]"
     ]
    },
    {
     "name": "stdout",
     "output_type": "stream",
     "text": [
      "[Пропуск] 60 (Scarlet Pimpernel (Version 2)): не найден на Gutenberg\n"
     ]
    },
    {
     "name": "stderr",
     "output_type": "stream",
     "text": [
      "Книги:  43%|████▎     | 138/320 [46:54<50:41, 16.71s/it]  "
     ]
    },
    {
     "name": "stdout",
     "output_type": "stream",
     "text": [
      "[Пропуск] 19213 (History of England from the Invasion of Julius Caesar to the Revolution of 1688, Volume 1C): не найден на Gutenberg\n"
     ]
    },
    {
     "name": "stderr",
     "output_type": "stream",
     "text": [
      "Книги:  43%|████▎     | 139/320 [46:57<38:08, 12.64s/it]"
     ]
    },
    {
     "name": "stdout",
     "output_type": "stream",
     "text": [
      "[Пропуск] 3760 (Sybil, or the Two Nations): нет изображений\n"
     ]
    },
    {
     "name": "stderr",
     "output_type": "stream",
     "text": [
      "Книги:  44%|████▍     | 140/320 [47:00<29:23,  9.80s/it]"
     ]
    },
    {
     "name": "stdout",
     "output_type": "stream",
     "text": [
      "[Пропуск] 9363 (Best British Short Stories of 1922): нет изображений\n"
     ]
    },
    {
     "name": "stderr",
     "output_type": "stream",
     "text": [
      "Книги:  44%|████▍     | 141/320 [47:02<21:35,  7.24s/it]"
     ]
    },
    {
     "name": "stdout",
     "output_type": "stream",
     "text": [
      "[Пропуск] 22699 (Pipefuls): нет изображений\n"
     ]
    },
    {
     "name": "stderr",
     "output_type": "stream",
     "text": [
      "Книги:  44%|████▍     | 142/320 [47:02<15:35,  5.25s/it]"
     ]
    },
    {
     "name": "stdout",
     "output_type": "stream",
     "text": [
      "[Пропуск] 41666 (Story of Ancient Irish Civilisation): не найден на Gutenberg\n"
     ]
    },
    {
     "name": "stderr",
     "output_type": "stream",
     "text": [
      "Книги:  45%|████▍     | 143/320 [47:05<13:43,  4.65s/it]"
     ]
    },
    {
     "name": "stdout",
     "output_type": "stream",
     "text": [
      "[Пропуск] 14627 (Veronica): нет изображений\n"
     ]
    },
    {
     "name": "stderr",
     "output_type": "stream",
     "text": [
      "Книги:  45%|████▌     | 144/320 [47:06<10:01,  3.42s/it]"
     ]
    },
    {
     "name": "stdout",
     "output_type": "stream",
     "text": [
      "[Пропуск] 15263 (Underground Railroad, Part 2): не найден на Gutenberg\n"
     ]
    },
    {
     "name": "stderr",
     "output_type": "stream",
     "text": [
      "Книги:  45%|████▌     | 145/320 [47:12<11:50,  4.06s/it]"
     ]
    },
    {
     "name": "stdout",
     "output_type": "stream",
     "text": [
      "[Успех] 14055 (Food Guide for War Service at Home): загружено 4 изображений\n"
     ]
    },
    {
     "name": "stderr",
     "output_type": "stream",
     "text": [
      "Книги:  46%|████▌     | 146/320 [50:20<2:51:50, 59.26s/it]"
     ]
    },
    {
     "name": "stdout",
     "output_type": "stream",
     "text": [
      "[Успех] 32455 (Christmas Eve and Christmas Day): загружено 140 изображений\n"
     ]
    },
    {
     "name": "stderr",
     "output_type": "stream",
     "text": [
      "Книги:  46%|████▌     | 147/320 [1:01:00<11:13:31, 233.59s/it]"
     ]
    },
    {
     "name": "stdout",
     "output_type": "stream",
     "text": [
      "[Успех] 1184 (Count of Monte Cristo): загружено 449 изображений\n"
     ]
    },
    {
     "name": "stderr",
     "output_type": "stream",
     "text": [
      "Книги:  46%|████▋     | 148/320 [1:01:04<7:52:22, 164.78s/it] "
     ]
    },
    {
     "name": "stdout",
     "output_type": "stream",
     "text": [
      "[Успех] 805 (This Side of Paradise): загружено 1 изображений\n"
     ]
    },
    {
     "name": "stderr",
     "output_type": "stream",
     "text": [
      "Книги:  47%|████▋     | 149/320 [1:04:20<8:16:11, 174.10s/it]"
     ]
    },
    {
     "name": "stdout",
     "output_type": "stream",
     "text": [
      "[Успех] 1004 (Divine Comedy): загружено 138 изображений\n"
     ]
    },
    {
     "name": "stderr",
     "output_type": "stream",
     "text": [
      "Книги:  47%|████▋     | 150/320 [1:04:21<5:46:20, 122.24s/it]"
     ]
    },
    {
     "name": "stdout",
     "output_type": "stream",
     "text": [
      "[Пропуск] 5312 (Mother Goose in Prose): нет изображений\n"
     ]
    },
    {
     "name": "stderr",
     "output_type": "stream",
     "text": [
      "Книги:  47%|████▋     | 151/320 [1:04:22<4:01:59, 85.92s/it] "
     ]
    },
    {
     "name": "stdout",
     "output_type": "stream",
     "text": [
      "[Пропуск] 1989 (Foolish Dictionary): нет изображений\n"
     ]
    },
    {
     "name": "stderr",
     "output_type": "stream",
     "text": [
      "Книги:  48%|████▊     | 152/320 [1:04:25<2:50:42, 60.97s/it]"
     ]
    },
    {
     "name": "stdout",
     "output_type": "stream",
     "text": [
      "[Успех] 14328 (Consolation of Philosophy): загружено 1 изображений\n"
     ]
    },
    {
     "name": "stderr",
     "output_type": "stream",
     "text": [
      "Книги:  48%|████▊     | 153/320 [1:04:29<2:01:35, 43.68s/it]"
     ]
    },
    {
     "name": "stdout",
     "output_type": "stream",
     "text": [
      "[Пропуск] 158 (Emma): нет изображений\n"
     ]
    },
    {
     "name": "stderr",
     "output_type": "stream",
     "text": [
      "Книги:  48%|████▊     | 154/320 [1:04:32<1:27:47, 31.73s/it]"
     ]
    },
    {
     "name": "stdout",
     "output_type": "stream",
     "text": [
      "[Пропуск] 5658 (Lord Jim): нет изображений\n"
     ]
    },
    {
     "name": "stderr",
     "output_type": "stream",
     "text": [
      "Книги:  48%|████▊     | 155/320 [1:04:49<1:14:43, 27.18s/it]"
     ]
    },
    {
     "name": "stdout",
     "output_type": "stream",
     "text": [
      "[Успех] 964 (Merry Adventures of Robin Hood): загружено 13 изображений\n"
     ]
    },
    {
     "name": "stderr",
     "output_type": "stream",
     "text": [
      "Книги:  49%|████▉     | 156/320 [1:04:52<54:18, 19.87s/it]  "
     ]
    },
    {
     "name": "stdout",
     "output_type": "stream",
     "text": [
      "[Пропуск] 1257 (Three Musketeers): нет изображений\n"
     ]
    },
    {
     "name": "stderr",
     "output_type": "stream",
     "text": [
      "Книги:  49%|████▉     | 157/320 [1:04:53<38:39, 14.23s/it]"
     ]
    },
    {
     "name": "stdout",
     "output_type": "stream",
     "text": [
      "[Пропуск] 3659 (Rosary): нет изображений\n"
     ]
    },
    {
     "name": "stderr",
     "output_type": "stream",
     "text": [
      "Книги:  49%|████▉     | 158/320 [1:05:30<56:36, 20.97s/it]"
     ]
    },
    {
     "name": "stdout",
     "output_type": "stream",
     "text": [
      "[Успех] 940 (Last of the Mohicans): загружено 22 изображений\n"
     ]
    },
    {
     "name": "stderr",
     "output_type": "stream",
     "text": [
      "Книги:  50%|████▉     | 159/320 [1:05:33<42:29, 15.83s/it]"
     ]
    },
    {
     "name": "stdout",
     "output_type": "stream",
     "text": [
      "[Успех] 47 (Anne of Avonlea): загружено 1 изображений\n"
     ]
    },
    {
     "name": "stderr",
     "output_type": "stream",
     "text": [
      "Книги:  50%|█████     | 160/320 [1:05:35<31:09, 11.68s/it]"
     ]
    },
    {
     "name": "stdout",
     "output_type": "stream",
     "text": [
      "[Пропуск] 4363 (Beyond Good and Evil): нет изображений\n"
     ]
    },
    {
     "name": "stderr",
     "output_type": "stream",
     "text": [
      "Книги:  50%|█████     | 161/320 [1:05:36<22:32,  8.51s/it]"
     ]
    },
    {
     "name": "stdout",
     "output_type": "stream",
     "text": [
      "[Пропуск] 3748 (Journey to the Interior of the Earth): нет изображений\n"
     ]
    },
    {
     "name": "stderr",
     "output_type": "stream",
     "text": [
      "Книги:  51%|█████     | 162/320 [1:05:37<16:06,  6.12s/it]"
     ]
    },
    {
     "name": "stdout",
     "output_type": "stream",
     "text": [
      "[Пропуск] 1468 (History of England, from the Accession of James II - (Volume 1, Chapter 05)): не найден на Gutenberg\n"
     ]
    },
    {
     "name": "stderr",
     "output_type": "stream",
     "text": [
      "Книги:  51%|█████     | 163/320 [1:05:47<18:49,  7.20s/it]"
     ]
    },
    {
     "name": "stdout",
     "output_type": "stream",
     "text": [
      "[Успех] 62 (Princess of Mars): загружено 5 изображений\n"
     ]
    },
    {
     "name": "stderr",
     "output_type": "stream",
     "text": [
      "Книги:  51%|█████▏    | 164/320 [1:05:50<15:25,  5.93s/it]"
     ]
    },
    {
     "name": "stdout",
     "output_type": "stream",
     "text": [
      "[Пропуск] 600 (Notes from the Underground): нет изображений\n"
     ]
    },
    {
     "name": "stderr",
     "output_type": "stream",
     "text": [
      "Книги:  52%|█████▏    | 165/320 [1:05:53<13:29,  5.22s/it]"
     ]
    },
    {
     "name": "stdout",
     "output_type": "stream",
     "text": [
      "[Успех] 1041 (Shakespeare's Sonnets): загружено 1 изображений\n"
     ]
    },
    {
     "name": "stderr",
     "output_type": "stream",
     "text": [
      "Книги:  52%|█████▏    | 166/320 [1:09:04<2:36:25, 60.95s/it]"
     ]
    },
    {
     "name": "stdout",
     "output_type": "stream",
     "text": [
      "[Успех] 1342 (Pride and Prejudice): загружено 164 изображений\n"
     ]
    },
    {
     "name": "stderr",
     "output_type": "stream",
     "text": [
      "Книги:  52%|█████▏    | 167/320 [1:09:06<1:50:08, 43.19s/it]"
     ]
    },
    {
     "name": "stdout",
     "output_type": "stream",
     "text": [
      "[Пропуск] 59 (Discourse on the Method of Rightly Conducting Ones Reason and of Seeking Truth): нет изображений\n"
     ]
    },
    {
     "name": "stderr",
     "output_type": "stream",
     "text": [
      "Книги:  52%|█████▎    | 168/320 [1:09:10<1:19:27, 31.36s/it]"
     ]
    },
    {
     "name": "stdout",
     "output_type": "stream",
     "text": [
      "[Пропуск] 543 (Main Street): нет изображений\n"
     ]
    },
    {
     "name": "stderr",
     "output_type": "stream",
     "text": [
      "Книги:  53%|█████▎    | 169/320 [1:09:12<57:10, 22.72s/it]  "
     ]
    },
    {
     "name": "stdout",
     "output_type": "stream",
     "text": [
      "[Пропуск] 24055 (Sayings of Confucius): нет изображений\n"
     ]
    },
    {
     "name": "stderr",
     "output_type": "stream",
     "text": [
      "Книги:  53%|█████▎    | 170/320 [1:09:14<40:40, 16.27s/it]"
     ]
    },
    {
     "name": "stdout",
     "output_type": "stream",
     "text": [
      "[Пропуск] 6917 (Gerrard Street Mystery and Other Weird Tales): нет изображений\n"
     ]
    },
    {
     "name": "stderr",
     "output_type": "stream",
     "text": [
      "Книги:  53%|█████▎    | 171/320 [1:09:14<28:44, 11.58s/it]"
     ]
    },
    {
     "name": "stdout",
     "output_type": "stream",
     "text": [
      "[Пропуск] 8318 (Bible (DRV) Apocrypha/Deuterocanon: Judith): не найден на Gutenberg\n"
     ]
    },
    {
     "name": "stderr",
     "output_type": "stream",
     "text": [
      "Книги:  54%|█████▍    | 172/320 [1:10:11<1:01:57, 25.12s/it]"
     ]
    },
    {
     "name": "stdout",
     "output_type": "stream",
     "text": [
      "[Успех] 14971 (History of Holland): загружено 36 изображений\n"
     ]
    },
    {
     "name": "stderr",
     "output_type": "stream",
     "text": [
      "Книги:  54%|█████▍    | 173/320 [1:10:15<45:45, 18.68s/it]  "
     ]
    },
    {
     "name": "stdout",
     "output_type": "stream",
     "text": [
      "[Пропуск] 697 (Light Princess): нет изображений\n"
     ]
    },
    {
     "name": "stderr",
     "output_type": "stream",
     "text": [
      "Книги:  54%|█████▍    | 174/320 [1:10:17<33:53, 13.93s/it]"
     ]
    },
    {
     "name": "stdout",
     "output_type": "stream",
     "text": [
      "[Пропуск] 2591 (Grimms' Fairy Tales): нет изображений\n"
     ]
    },
    {
     "name": "stderr",
     "output_type": "stream",
     "text": [
      "Книги:  55%|█████▍    | 175/320 [1:10:32<34:01, 14.08s/it]"
     ]
    },
    {
     "name": "stdout",
     "output_type": "stream",
     "text": [
      "[Успех] 9845 (Spy): загружено 8 изображений\n"
     ]
    },
    {
     "name": "stderr",
     "output_type": "stream",
     "text": [
      "Книги:  55%|█████▌    | 176/320 [1:10:35<25:58, 10.82s/it]"
     ]
    },
    {
     "name": "stdout",
     "output_type": "stream",
     "text": [
      "[Пропуск] 5342 (Story Girl): нет изображений\n"
     ]
    },
    {
     "name": "stderr",
     "output_type": "stream",
     "text": [
      "Книги:  55%|█████▌    | 177/320 [1:11:21<50:36, 21.23s/it]"
     ]
    },
    {
     "name": "stdout",
     "output_type": "stream",
     "text": [
      "[Успех] 501 (Story of Doctor Dolittle): загружено 54 изображений\n"
     ]
    },
    {
     "name": "stderr",
     "output_type": "stream",
     "text": [
      "Книги:  56%|█████▌    | 178/320 [1:11:23<37:00, 15.64s/it]"
     ]
    },
    {
     "name": "stdout",
     "output_type": "stream",
     "text": [
      "[Пропуск] 204 (Innocence of Father Brown): нет изображений\n"
     ]
    },
    {
     "name": "stderr",
     "output_type": "stream",
     "text": [
      "Книги:  56%|█████▌    | 179/320 [1:14:27<2:35:24, 66.13s/it]"
     ]
    },
    {
     "name": "stdout",
     "output_type": "stream",
     "text": [
      "[Успех] 120 (Treasure Island): загружено 156 изображений\n"
     ]
    },
    {
     "name": "stderr",
     "output_type": "stream",
     "text": [
      "Книги:  56%|█████▋    | 180/320 [1:14:28<1:48:47, 46.63s/it]"
     ]
    },
    {
     "name": "stdout",
     "output_type": "stream",
     "text": [
      "[Пропуск] 7091 (Yosemite): нет изображений\n"
     ]
    },
    {
     "name": "stderr",
     "output_type": "stream",
     "text": [
      "Книги:  57%|█████▋    | 181/320 [1:14:29<1:15:56, 32.78s/it]"
     ]
    },
    {
     "name": "stdout",
     "output_type": "stream",
     "text": [
      "[Пропуск] 5921 (Don Quixote - Vol. 1): не найден на Gutenberg\n"
     ]
    },
    {
     "name": "stderr",
     "output_type": "stream",
     "text": [
      "Книги:  57%|█████▋    | 182/320 [1:14:51<1:08:00, 29.57s/it]"
     ]
    },
    {
     "name": "stdout",
     "output_type": "stream",
     "text": [
      "[Успех] 98 (Tale of Two Cities): загружено 16 изображений\n"
     ]
    },
    {
     "name": "stderr",
     "output_type": "stream",
     "text": [
      "Книги:  57%|█████▋    | 183/320 [1:14:53<48:54, 21.42s/it]  "
     ]
    },
    {
     "name": "stdout",
     "output_type": "stream",
     "text": [
      "[Пропуск] 18542 (How to Cook Fish): нет изображений\n"
     ]
    },
    {
     "name": "stderr",
     "output_type": "stream",
     "text": [
      "Книги:  57%|█████▊    | 184/320 [1:14:54<34:42, 15.31s/it]"
     ]
    },
    {
     "name": "stdout",
     "output_type": "stream",
     "text": [
      "[Пропуск] 18992 (Current Superstitions): нет изображений\n"
     ]
    },
    {
     "name": "stderr",
     "output_type": "stream",
     "text": [
      "Книги:  58%|█████▊    | 185/320 [1:14:59<27:39, 12.29s/it]"
     ]
    },
    {
     "name": "stdout",
     "output_type": "stream",
     "text": [
      "[Успех] 32547 (Essays in Radical Empiricism): загружено 1 изображений\n"
     ]
    },
    {
     "name": "stderr",
     "output_type": "stream",
     "text": [
      "Книги:  58%|█████▊    | 186/320 [1:15:01<20:02,  8.97s/it]"
     ]
    },
    {
     "name": "stdout",
     "output_type": "stream",
     "text": [
      "[Пропуск] 17188 (Buccaneers and Pirates of Our Coasts): нет изображений\n"
     ]
    },
    {
     "name": "stderr",
     "output_type": "stream",
     "text": [
      "Книги:  58%|█████▊    | 187/320 [1:15:08<18:53,  8.53s/it]"
     ]
    },
    {
     "name": "stdout",
     "output_type": "stream",
     "text": [
      "[Пропуск] 599 (Vanity Fair): нет изображений\n"
     ]
    },
    {
     "name": "stderr",
     "output_type": "stream",
     "text": [
      "Книги:  59%|█████▉    | 188/320 [1:15:26<24:44, 11.25s/it]"
     ]
    },
    {
     "name": "stdout",
     "output_type": "stream",
     "text": [
      "[Успех] 2944 (Essays, First Series): загружено 11 изображений\n"
     ]
    },
    {
     "name": "stderr",
     "output_type": "stream",
     "text": [
      "Книги:  59%|█████▉    | 189/320 [1:15:27<17:59,  8.24s/it]"
     ]
    },
    {
     "name": "stdout",
     "output_type": "stream",
     "text": [
      "[Пропуск] 370 (Fortunes and Misfortunes of the Famous Moll Flanders): нет изображений\n"
     ]
    },
    {
     "name": "stderr",
     "output_type": "stream",
     "text": [
      "Книги:  59%|█████▉    | 190/320 [1:15:30<14:20,  6.62s/it]"
     ]
    },
    {
     "name": "stdout",
     "output_type": "stream",
     "text": [
      "[Пропуск] 161 (Sense and Sensibility): нет изображений\n"
     ]
    },
    {
     "name": "stderr",
     "output_type": "stream",
     "text": [
      "Книги:  60%|█████▉    | 191/320 [1:15:34<12:29,  5.81s/it]"
     ]
    },
    {
     "name": "stdout",
     "output_type": "stream",
     "text": [
      "[Успех] 73 (Red Badge of Courage): загружено 1 изображений\n"
     ]
    },
    {
     "name": "stderr",
     "output_type": "stream",
     "text": [
      "Книги:  60%|██████    | 192/320 [1:15:35<09:24,  4.41s/it]"
     ]
    },
    {
     "name": "stdout",
     "output_type": "stream",
     "text": [
      "[Пропуск] 18362 (Fifteen Thousand Useful Phrases): нет изображений\n"
     ]
    },
    {
     "name": "stderr",
     "output_type": "stream",
     "text": [
      "Книги:  60%|██████    | 193/320 [1:15:35<06:55,  3.27s/it]"
     ]
    },
    {
     "name": "stdout",
     "output_type": "stream",
     "text": [
      "[Пропуск] 11938 (Folklore of the Santal Parganas, Vol. 1): не найден на Gutenberg\n"
     ]
    },
    {
     "name": "stderr",
     "output_type": "stream",
     "text": [
      "Книги:  61%|██████    | 194/320 [1:15:41<08:11,  3.90s/it]"
     ]
    },
    {
     "name": "stdout",
     "output_type": "stream",
     "text": [
      "[Пропуск] 7469 (Daniel Deronda): нет изображений\n"
     ]
    },
    {
     "name": "stderr",
     "output_type": "stream",
     "text": [
      "Книги:  61%|██████    | 195/320 [1:15:44<07:20,  3.53s/it]"
     ]
    },
    {
     "name": "stdout",
     "output_type": "stream",
     "text": [
      "[Пропуск] 1264 (Wheels of Chance): нет изображений\n"
     ]
    },
    {
     "name": "stderr",
     "output_type": "stream",
     "text": [
      "Книги:  61%|██████▏   | 196/320 [1:16:09<20:49, 10.07s/it]"
     ]
    },
    {
     "name": "stdout",
     "output_type": "stream",
     "text": [
      "[Успех] 2488 (Twenty Thousand Leagues Under the Sea): загружено 12 изображений\n"
     ]
    },
    {
     "name": "stderr",
     "output_type": "stream",
     "text": [
      "Книги:  62%|██████▏   | 197/320 [1:16:10<15:14,  7.43s/it]"
     ]
    },
    {
     "name": "stdout",
     "output_type": "stream",
     "text": [
      "[Пропуск] 1404 (Federalist Papers): нет изображений\n"
     ]
    },
    {
     "name": "stderr",
     "output_type": "stream",
     "text": [
      "Книги:  62%|██████▏   | 198/320 [1:16:11<11:18,  5.56s/it]"
     ]
    },
    {
     "name": "stdout",
     "output_type": "stream",
     "text": [
      "[Пропуск] 4925 (Bulfinchs Mythology: The Age of Fable): нет изображений\n"
     ]
    },
    {
     "name": "stderr",
     "output_type": "stream",
     "text": [
      "Книги:  62%|██████▏   | 199/320 [1:16:13<08:56,  4.43s/it]"
     ]
    },
    {
     "name": "stdout",
     "output_type": "stream",
     "text": [
      "[Пропуск] 22472 (Book of the Damned): нет изображений\n"
     ]
    },
    {
     "name": "stderr",
     "output_type": "stream",
     "text": [
      "Книги:  62%|██████▎   | 200/320 [1:16:23<12:22,  6.19s/it]"
     ]
    },
    {
     "name": "stdout",
     "output_type": "stream",
     "text": [
      "[Успех] 969 (Tenant of Wildfell Hall): загружено 7 изображений\n"
     ]
    },
    {
     "name": "stderr",
     "output_type": "stream",
     "text": [
      "Книги:  63%|██████▎   | 201/320 [1:16:45<21:30, 10.84s/it]"
     ]
    },
    {
     "name": "stdout",
     "output_type": "stream",
     "text": [
      "[Успех] 408 (Souls of Black Folk): загружено 18 изображений\n"
     ]
    },
    {
     "name": "stderr",
     "output_type": "stream",
     "text": [
      "Книги:  63%|██████▎   | 202/320 [1:16:51<18:16,  9.29s/it]"
     ]
    },
    {
     "name": "stdout",
     "output_type": "stream",
     "text": [
      "[Успех] 3268 (Mysteries of Udolpho): загружено 1 изображений\n"
     ]
    },
    {
     "name": "stderr",
     "output_type": "stream",
     "text": [
      "Книги:  63%|██████▎   | 203/320 [1:16:52<13:22,  6.86s/it]"
     ]
    },
    {
     "name": "stdout",
     "output_type": "stream",
     "text": [
      "[Пропуск] 19942 (Candide): нет изображений\n"
     ]
    },
    {
     "name": "stderr",
     "output_type": "stream",
     "text": [
      "Книги:  64%|██████▍   | 204/320 [1:17:47<41:06, 21.26s/it]"
     ]
    },
    {
     "name": "stdout",
     "output_type": "stream",
     "text": [
      "[Успех] 3454 (Lilac Fairy Book): загружено 53 изображений\n"
     ]
    },
    {
     "name": "stderr",
     "output_type": "stream",
     "text": [
      "Книги:  64%|██████▍   | 205/320 [1:19:11<1:16:53, 40.11s/it]"
     ]
    },
    {
     "name": "stdout",
     "output_type": "stream",
     "text": [
      "[Успех] 20190 (Handy Cyclopedia of Things Worth Knowing): загружено 86 изображений\n"
     ]
    },
    {
     "name": "stderr",
     "output_type": "stream",
     "text": [
      "Книги:  64%|██████▍   | 206/320 [1:19:13<54:27, 28.67s/it]  "
     ]
    },
    {
     "name": "stdout",
     "output_type": "stream",
     "text": [
      "[Пропуск] 16 (Peter Pan): нет изображений\n"
     ]
    },
    {
     "name": "stderr",
     "output_type": "stream",
     "text": [
      "Книги:  65%|██████▍   | 207/320 [1:19:16<39:41, 21.08s/it]"
     ]
    },
    {
     "name": "stdout",
     "output_type": "stream",
     "text": [
      "[Пропуск] 2833 (Portrait of a Lady Vol 1): нет изображений\n"
     ]
    },
    {
     "name": "stderr",
     "output_type": "stream",
     "text": [
      "Книги:  65%|██████▌   | 208/320 [1:19:17<28:13, 15.12s/it]"
     ]
    },
    {
     "name": "stdout",
     "output_type": "stream",
     "text": [
      "[Пропуск] 2688 (Clue of the Twisted Candle): нет изображений\n"
     ]
    },
    {
     "name": "stderr",
     "output_type": "stream",
     "text": [
      "Книги:  65%|██████▌   | 209/320 [1:19:20<20:55, 11.31s/it]"
     ]
    },
    {
     "name": "stdout",
     "output_type": "stream",
     "text": [
      "[Пропуск] 416 (Winesburg, Ohio): нет изображений\n"
     ]
    },
    {
     "name": "stderr",
     "output_type": "stream",
     "text": [
      "Книги:  66%|██████▌   | 210/320 [1:20:57<1:07:42, 36.93s/it]"
     ]
    },
    {
     "name": "stdout",
     "output_type": "stream",
     "text": [
      "[Успех] 6471 (Children of the New Forest): загружено 103 изображений\n"
     ]
    },
    {
     "name": "stderr",
     "output_type": "stream",
     "text": [
      "Книги:  66%|██████▌   | 211/320 [1:20:58<47:37, 26.22s/it]  "
     ]
    },
    {
     "name": "stdout",
     "output_type": "stream",
     "text": [
      "[Пропуск] 2441 (Burgess Animal Book for Children): нет изображений\n"
     ]
    },
    {
     "name": "stderr",
     "output_type": "stream",
     "text": [
      "Книги:  66%|██████▋   | 212/320 [1:20:59<33:43, 18.74s/it]"
     ]
    },
    {
     "name": "stdout",
     "output_type": "stream",
     "text": [
      "[Пропуск] 5664 (Arabian Nights Entertainments, Volume 01): нет изображений\n"
     ]
    },
    {
     "name": "stderr",
     "output_type": "stream",
     "text": [
      "Книги:  67%|██████▋   | 213/320 [1:21:12<30:30, 17.11s/it]"
     ]
    },
    {
     "name": "stdout",
     "output_type": "stream",
     "text": [
      "[Успех] 2814 (Dubliners): загружено 4 изображений\n"
     ]
    },
    {
     "name": "stderr",
     "output_type": "stream",
     "text": [
      "Книги:  67%|██████▋   | 214/320 [1:21:14<21:46, 12.33s/it]"
     ]
    },
    {
     "name": "stdout",
     "output_type": "stream",
     "text": [
      "[Пропуск] 20830 (Good Housekeeping Marriage Book): нет изображений\n"
     ]
    },
    {
     "name": "stderr",
     "output_type": "stream",
     "text": [
      "Книги:  67%|██████▋   | 215/320 [1:21:14<15:25,  8.82s/it]"
     ]
    },
    {
     "name": "stdout",
     "output_type": "stream",
     "text": [
      "[Пропуск] 5946 (Don Quixote - Vol. 2): не найден на Gutenberg\n"
     ]
    },
    {
     "name": "stderr",
     "output_type": "stream",
     "text": [
      "Книги:  68%|██████▊   | 216/320 [1:21:18<12:53,  7.44s/it]"
     ]
    },
    {
     "name": "stdout",
     "output_type": "stream",
     "text": [
      "[Успех] 83 (Round the Moon): загружено 1 изображений\n"
     ]
    },
    {
     "name": "stderr",
     "output_type": "stream",
     "text": [
      "Книги:  68%|██████▊   | 217/320 [1:21:21<10:23,  6.06s/it]"
     ]
    },
    {
     "name": "stdout",
     "output_type": "stream",
     "text": [
      "[Пропуск] 12163 (Sleeper Awakes): нет изображений\n"
     ]
    },
    {
     "name": "stderr",
     "output_type": "stream",
     "text": [
      "Книги:  68%|██████▊   | 218/320 [1:24:28<1:42:15, 60.15s/it]"
     ]
    },
    {
     "name": "stdout",
     "output_type": "stream",
     "text": [
      "[Успех] 18247 (Last Man): загружено 208 изображений\n"
     ]
    },
    {
     "name": "stderr",
     "output_type": "stream",
     "text": [
      "Книги:  68%|██████▊   | 219/320 [1:24:40<1:17:08, 45.83s/it]"
     ]
    },
    {
     "name": "stdout",
     "output_type": "stream",
     "text": [
      "[Успех] 14770 (Life in a Thousand Worlds): загружено 9 изображений\n"
     ]
    },
    {
     "name": "stderr",
     "output_type": "stream",
     "text": [
      "Книги:  69%|██████▉   | 220/320 [1:24:43<54:46, 32.87s/it]  "
     ]
    },
    {
     "name": "stdout",
     "output_type": "stream",
     "text": [
      "[Пропуск] 498 (Rebecca of Sunnybrook Farm): нет изображений\n"
     ]
    },
    {
     "name": "stderr",
     "output_type": "stream",
     "text": [
      "Книги:  69%|██████▉   | 221/320 [1:24:43<38:17, 23.20s/it]"
     ]
    },
    {
     "name": "stdout",
     "output_type": "stream",
     "text": [
      "[Пропуск] 15082 (Life of the Spirit and the Life of Today): не найден на Gutenberg\n"
     ]
    },
    {
     "name": "stderr",
     "output_type": "stream",
     "text": [
      "Книги:  69%|██████▉   | 222/320 [1:25:12<40:28, 24.78s/it]"
     ]
    },
    {
     "name": "stdout",
     "output_type": "stream",
     "text": [
      "[Успех] 944 (Voyage of the Beagle): загружено 26 изображений\n"
     ]
    },
    {
     "name": "stderr",
     "output_type": "stream",
     "text": [
      "Книги:  70%|██████▉   | 223/320 [1:25:15<29:37, 18.33s/it]"
     ]
    },
    {
     "name": "stdout",
     "output_type": "stream",
     "text": [
      "[Успех] 18972 (Zadig or the Book of Fate): загружено 1 изображений\n"
     ]
    },
    {
     "name": "stderr",
     "output_type": "stream",
     "text": [
      "Книги:  70%|███████   | 224/320 [1:25:19<22:24, 14.00s/it]"
     ]
    },
    {
     "name": "stdout",
     "output_type": "stream",
     "text": [
      "[Успех] 19090 (Star Hunter): загружено 2 изображений\n"
     ]
    },
    {
     "name": "stderr",
     "output_type": "stream",
     "text": [
      "Книги:  70%|███████   | 225/320 [1:25:26<18:45, 11.85s/it]"
     ]
    },
    {
     "name": "stdout",
     "output_type": "stream",
     "text": [
      "[Успех] 4276 (North and South): загружено 4 изображений\n"
     ]
    },
    {
     "name": "stderr",
     "output_type": "stream",
     "text": [
      "Книги:  71%|███████   | 226/320 [1:25:30<14:58,  9.56s/it]"
     ]
    },
    {
     "name": "stdout",
     "output_type": "stream",
     "text": [
      "[Пропуск] 507 (Adam Bede): нет изображений\n"
     ]
    },
    {
     "name": "stderr",
     "output_type": "stream",
     "text": [
      "Книги:  71%|███████   | 227/320 [1:26:03<25:37, 16.53s/it]"
     ]
    },
    {
     "name": "stdout",
     "output_type": "stream",
     "text": [
      "[Успех] 291 (Golden Age): загружено 35 изображений\n"
     ]
    },
    {
     "name": "stderr",
     "output_type": "stream",
     "text": [
      "Книги:  71%|███████▏  | 228/320 [1:26:04<18:17, 11.93s/it]"
     ]
    },
    {
     "name": "stdout",
     "output_type": "stream",
     "text": [
      "[Пропуск] 10136 (Book of Household Management): нет изображений\n"
     ]
    },
    {
     "name": "stderr",
     "output_type": "stream",
     "text": [
      "Книги:  72%|███████▏  | 229/320 [1:26:05<13:10,  8.68s/it]"
     ]
    },
    {
     "name": "stdout",
     "output_type": "stream",
     "text": [
      "[Пропуск] 3074 (Burgess Bird Book for Children): нет изображений\n"
     ]
    },
    {
     "name": "stderr",
     "output_type": "stream",
     "text": [
      "Книги:  72%|███████▏  | 230/320 [1:26:08<10:23,  6.93s/it]"
     ]
    },
    {
     "name": "stdout",
     "output_type": "stream",
     "text": [
      "[Пропуск] 2834 (Portrait of a Lady Vol 2): нет изображений\n"
     ]
    },
    {
     "name": "stderr",
     "output_type": "stream",
     "text": [
      "Книги:  72%|███████▏  | 231/320 [1:26:15<10:25,  7.03s/it]"
     ]
    },
    {
     "name": "stdout",
     "output_type": "stream",
     "text": [
      "[Успех] 17797 (Memoir of Jane Austen): загружено 5 изображений\n"
     ]
    },
    {
     "name": "stderr",
     "output_type": "stream",
     "text": [
      "Книги:  72%|███████▎  | 232/320 [1:26:18<08:16,  5.64s/it]"
     ]
    },
    {
     "name": "stdout",
     "output_type": "stream",
     "text": [
      "[Пропуск] 3688 (Chronicles of Clovis): нет изображений\n"
     ]
    },
    {
     "name": "stderr",
     "output_type": "stream",
     "text": [
      "Книги:  73%|███████▎  | 233/320 [1:26:21<07:01,  4.85s/it]"
     ]
    },
    {
     "name": "stdout",
     "output_type": "stream",
     "text": [
      "[Пропуск] 640 (Yellow Fairy Book): нет изображений\n"
     ]
    },
    {
     "name": "stderr",
     "output_type": "stream",
     "text": [
      "Книги:  73%|███████▎  | 234/320 [1:26:25<06:47,  4.74s/it]"
     ]
    },
    {
     "name": "stdout",
     "output_type": "stream",
     "text": [
      "[Успех] 21032 (Exercises in Knitting): загружено 3 изображений\n"
     ]
    },
    {
     "name": "stderr",
     "output_type": "stream",
     "text": [
      "Книги:  73%|███████▎  | 235/320 [1:26:28<05:53,  4.16s/it]"
     ]
    },
    {
     "name": "stdout",
     "output_type": "stream",
     "text": [
      "[Пропуск] 20912 (Daffodil Mystery): нет изображений\n"
     ]
    },
    {
     "name": "stderr",
     "output_type": "stream",
     "text": [
      "Книги:  74%|███████▍  | 236/320 [1:26:42<09:47,  7.00s/it]"
     ]
    },
    {
     "name": "stdout",
     "output_type": "stream",
     "text": [
      "[Успех] 19810 (My Antonia): загружено 7 изображений\n"
     ]
    },
    {
     "name": "stderr",
     "output_type": "stream",
     "text": [
      "Книги:  74%|███████▍  | 237/320 [1:26:43<07:13,  5.22s/it]"
     ]
    },
    {
     "name": "stdout",
     "output_type": "stream",
     "text": [
      "[Пропуск] 11093 (Trailin'!): нет изображений\n"
     ]
    },
    {
     "name": "stderr",
     "output_type": "stream",
     "text": [
      "Книги:  74%|███████▍  | 238/320 [1:26:46<06:19,  4.63s/it]"
     ]
    },
    {
     "name": "stdout",
     "output_type": "stream",
     "text": [
      "[Пропуск] 3499 (Jo's Boys): нет изображений\n"
     ]
    },
    {
     "name": "stderr",
     "output_type": "stream",
     "text": [
      "Книги:  75%|███████▍  | 239/320 [1:26:49<05:27,  4.04s/it]"
     ]
    },
    {
     "name": "stdout",
     "output_type": "stream",
     "text": [
      "[Пропуск] 1000006 (Wings of the Dove): нет изображений\n"
     ]
    },
    {
     "name": "stderr",
     "output_type": "stream",
     "text": [
      "Книги:  75%|███████▌  | 240/320 [1:26:58<07:30,  5.64s/it]"
     ]
    },
    {
     "name": "stdout",
     "output_type": "stream",
     "text": [
      "[Успех] 5267 (Sister Carrie): загружено 1 изображений\n"
     ]
    },
    {
     "name": "stderr",
     "output_type": "stream",
     "text": [
      "Книги:  75%|███████▌  | 241/320 [1:27:03<07:03,  5.36s/it]"
     ]
    },
    {
     "name": "stdout",
     "output_type": "stream",
     "text": [
      "[Успех] 1557 (Men of Iron): загружено 1 изображений\n"
     ]
    },
    {
     "name": "stderr",
     "output_type": "stream",
     "text": [
      "Книги:  76%|███████▌  | 242/320 [1:30:11<1:18:23, 60.30s/it]"
     ]
    },
    {
     "name": "stdout",
     "output_type": "stream",
     "text": [
      "[Успех] 22302 (Western United States): загружено 208 изображений\n"
     ]
    },
    {
     "name": "stderr",
     "output_type": "stream",
     "text": [
      "Книги:  76%|███████▌  | 243/320 [1:30:15<55:39, 43.37s/it]  "
     ]
    },
    {
     "name": "stdout",
     "output_type": "stream",
     "text": [
      "[Пропуск] 1218 (Adventures of Jimmie Dale): нет изображений\n"
     ]
    },
    {
     "name": "stderr",
     "output_type": "stream",
     "text": [
      "Книги:  76%|███████▋  | 244/320 [1:31:40<1:10:48, 55.90s/it]"
     ]
    },
    {
     "name": "stdout",
     "output_type": "stream",
     "text": [
      "[Успех] 3725 (Famous Men of the Middle Ages): загружено 74 изображений\n"
     ]
    },
    {
     "name": "stderr",
     "output_type": "stream",
     "text": [
      "Книги:  77%|███████▋  | 245/320 [1:31:41<49:08, 39.32s/it]  "
     ]
    },
    {
     "name": "stdout",
     "output_type": "stream",
     "text": [
      "[Пропуск] 4229 (South Pole; an account of the Norwegian Antarctic expedition in the Fram, 1910-12): не найден на Gutenberg\n"
     ]
    },
    {
     "name": "stderr",
     "output_type": "stream",
     "text": [
      "Книги:  77%|███████▋  | 246/320 [1:31:42<34:21, 27.85s/it]"
     ]
    },
    {
     "name": "stdout",
     "output_type": "stream",
     "text": [
      "[Пропуск] 11880 (Ronicky Doone): нет изображений\n"
     ]
    },
    {
     "name": "stderr",
     "output_type": "stream",
     "text": [
      "Книги:  77%|███████▋  | 247/320 [1:31:43<24:08, 19.84s/it]"
     ]
    },
    {
     "name": "stdout",
     "output_type": "stream",
     "text": [
      "[Пропуск] 10743 (Moonfleet): нет изображений\n"
     ]
    },
    {
     "name": "stderr",
     "output_type": "stream",
     "text": [
      "Книги:  78%|███████▊  | 248/320 [1:31:47<17:58, 14.98s/it]"
     ]
    },
    {
     "name": "stdout",
     "output_type": "stream",
     "text": [
      "[Пропуск] 3335 (Theodore Roosevelt: an Autobiography): нет изображений\n"
     ]
    },
    {
     "name": "stderr",
     "output_type": "stream",
     "text": [
      "Книги:  78%|███████▊  | 249/320 [1:32:40<31:15, 26.41s/it]"
     ]
    },
    {
     "name": "stdout",
     "output_type": "stream",
     "text": [
      "[Успех] 11146 (Expedition of the Donner Party and its Tragic Fate): загружено 56 изображений\n"
     ]
    },
    {
     "name": "stderr",
     "output_type": "stream",
     "text": [
      "Книги:  78%|███████▊  | 250/320 [1:32:43<22:46, 19.52s/it]"
     ]
    },
    {
     "name": "stdout",
     "output_type": "stream",
     "text": [
      "[Пропуск] 3604 (Jailed For Freedom): нет изображений\n"
     ]
    },
    {
     "name": "stderr",
     "output_type": "stream",
     "text": [
      "Книги:  78%|███████▊  | 251/320 [1:33:28<31:01, 26.98s/it]"
     ]
    },
    {
     "name": "stdout",
     "output_type": "stream",
     "text": [
      "[Успех] 24872 (Tale of Master Meadow Mouse): загружено 54 изображений\n"
     ]
    },
    {
     "name": "stderr",
     "output_type": "stream",
     "text": [
      "Книги:  79%|███████▉  | 252/320 [1:33:31<22:29, 19.84s/it]"
     ]
    },
    {
     "name": "stdout",
     "output_type": "stream",
     "text": [
      "[Пропуск] 3479 (Metal Monster): нет изображений\n"
     ]
    },
    {
     "name": "stderr",
     "output_type": "stream",
     "text": [
      "Книги:  79%|███████▉  | 253/320 [1:33:31<15:42, 14.07s/it]"
     ]
    },
    {
     "name": "stdout",
     "output_type": "stream",
     "text": [
      "[Пропуск] 2600 (War and Peace, Book 10: 1812): не найден на Gutenberg\n"
     ]
    },
    {
     "name": "stderr",
     "output_type": "stream",
     "text": [
      "Книги:  79%|███████▉  | 254/320 [1:33:35<11:59, 10.90s/it]"
     ]
    },
    {
     "name": "stdout",
     "output_type": "stream",
     "text": [
      "[Успех] 135 (Miserables Vol. 2): загружено 1 изображений\n"
     ]
    },
    {
     "name": "stderr",
     "output_type": "stream",
     "text": [
      "Книги:  80%|███████▉  | 255/320 [1:33:36<08:45,  8.08s/it]"
     ]
    },
    {
     "name": "stdout",
     "output_type": "stream",
     "text": [
      "[Пропуск] 6911 (Majesty of Calmness): нет изображений\n"
     ]
    },
    {
     "name": "stderr",
     "output_type": "stream",
     "text": [
      "Книги:  80%|████████  | 256/320 [1:33:48<09:54,  9.28s/it]"
     ]
    },
    {
     "name": "stdout",
     "output_type": "stream",
     "text": [
      "[Успех] 22814 (Practical Guide to Self-Hypnosis): загружено 11 изображений\n"
     ]
    },
    {
     "name": "stderr",
     "output_type": "stream",
     "text": [
      "Книги:  80%|████████  | 257/320 [1:33:50<07:14,  6.90s/it]"
     ]
    },
    {
     "name": "stdout",
     "output_type": "stream",
     "text": [
      "[Пропуск] 6440 (Elsie Dinsmore): нет изображений\n"
     ]
    },
    {
     "name": "stderr",
     "output_type": "stream",
     "text": [
      "Книги:  81%|████████  | 258/320 [1:33:54<06:24,  6.21s/it]"
     ]
    },
    {
     "name": "stdout",
     "output_type": "stream",
     "text": [
      "[Пропуск] 2850 (Wars of the Jews): нет изображений\n"
     ]
    },
    {
     "name": "stderr",
     "output_type": "stream",
     "text": [
      "Книги:  81%|████████  | 259/320 [1:33:58<05:34,  5.48s/it]"
     ]
    },
    {
     "name": "stdout",
     "output_type": "stream",
     "text": [
      "[Успех] 23772 (Devotions upon Emergent Occasions): загружено 2 изображений\n"
     ]
    },
    {
     "name": "stderr",
     "output_type": "stream",
     "text": [
      "Книги:  81%|████████▏ | 260/320 [1:33:59<04:12,  4.21s/it]"
     ]
    },
    {
     "name": "stdout",
     "output_type": "stream",
     "text": [
      "[Пропуск] 4926 (Age of Chivalry): нет изображений\n"
     ]
    },
    {
     "name": "stderr",
     "output_type": "stream",
     "text": [
      "Книги:  82%|████████▏ | 261/320 [1:34:00<03:04,  3.13s/it]"
     ]
    },
    {
     "name": "stdout",
     "output_type": "stream",
     "text": [
      "[Пропуск] 3533 (Sunshine Sketches of a Little Town (version 2)): не найден на Gutenberg\n"
     ]
    },
    {
     "name": "stderr",
     "output_type": "stream",
     "text": [
      "Книги:  82%|████████▏ | 262/320 [1:34:01<02:17,  2.38s/it]"
     ]
    },
    {
     "name": "stdout",
     "output_type": "stream",
     "text": [
      "[Пропуск] 2600 (War and Peace, Book 11: 1812): не найден на Gutenberg\n"
     ]
    },
    {
     "name": "stderr",
     "output_type": "stream",
     "text": [
      "Книги:  82%|████████▏ | 263/320 [1:34:03<02:19,  2.45s/it]"
     ]
    },
    {
     "name": "stdout",
     "output_type": "stream",
     "text": [
      "[Пропуск] 3721 (Pioneers of France in the New World): нет изображений\n"
     ]
    },
    {
     "name": "stderr",
     "output_type": "stream",
     "text": [
      "Книги:  82%|████████▎ | 264/320 [1:34:07<02:35,  2.77s/it]"
     ]
    },
    {
     "name": "stdout",
     "output_type": "stream",
     "text": [
      "[Успех] 13193 (Supreme Personality): загружено 1 изображений\n",
      "[Скачивание] Ошибка https://www.gutenberg.org/files/18640/18640-h/images/ill61-t.jpg: HTTPSConnectionPool(host='www.gutenberg.org', port=443): Max retries exceeded with url: /files/18640/18640-h/images/ill61-t.jpg (Caused by ConnectTimeoutError(<urllib3.connection.HTTPSConnection object at 0x000001A80CB91BA0>, 'Connection to www.gutenberg.org timed out. (connect timeout=10)'))\n"
     ]
    },
    {
     "name": "stderr",
     "output_type": "stream",
     "text": [
      "Книги:  83%|████████▎ | 265/320 [1:34:45<12:16, 13.39s/it]"
     ]
    },
    {
     "name": "stdout",
     "output_type": "stream",
     "text": [
      "[Успех] 18640 (Phineas Redux): загружено 23 изображений\n"
     ]
    },
    {
     "name": "stderr",
     "output_type": "stream",
     "text": [
      "Книги:  83%|████████▎ | 266/320 [1:34:47<09:07, 10.13s/it]"
     ]
    },
    {
     "name": "stdout",
     "output_type": "stream",
     "text": [
      "[Пропуск] 1028 (Professor): нет изображений\n"
     ]
    },
    {
     "name": "stderr",
     "output_type": "stream",
     "text": [
      "Книги:  83%|████████▎ | 267/320 [1:34:48<06:24,  7.25s/it]"
     ]
    },
    {
     "name": "stdout",
     "output_type": "stream",
     "text": [
      "[Пропуск] 1079 (Life and Opinions of Tristram Shandy, Gentleman Vol. 2): не найден на Gutenberg\n"
     ]
    },
    {
     "name": "stderr",
     "output_type": "stream",
     "text": [
      "Книги:  84%|████████▍ | 268/320 [1:34:57<06:37,  7.64s/it]"
     ]
    },
    {
     "name": "stdout",
     "output_type": "stream",
     "text": [
      "[Успех] 5122 (Trail of the Lonesome Pine): загружено 8 изображений\n"
     ]
    },
    {
     "name": "stderr",
     "output_type": "stream",
     "text": [
      "Книги:  84%|████████▍ | 269/320 [1:34:57<04:42,  5.53s/it]"
     ]
    },
    {
     "name": "stdout",
     "output_type": "stream",
     "text": [
      "[Пропуск] 10030 (Life of Honorable William F. Cody, Known as Buffalo Bill The Famous Hunter, Scout and Guide): не найден на Gutenberg\n"
     ]
    },
    {
     "name": "stderr",
     "output_type": "stream",
     "text": [
      "Книги:  84%|████████▍ | 270/320 [1:34:58<03:21,  4.03s/it]"
     ]
    },
    {
     "name": "stdout",
     "output_type": "stream",
     "text": [
      "[Пропуск] 1098 (Turmoil (Growth Trilogy Vol 1)): не найден на Gutenberg\n"
     ]
    },
    {
     "name": "stderr",
     "output_type": "stream",
     "text": [
      "Книги:  85%|████████▍ | 271/320 [1:35:00<02:45,  3.38s/it]"
     ]
    },
    {
     "name": "stdout",
     "output_type": "stream",
     "text": [
      "[Пропуск] 19342 (Complete Hypnotism, Mesmerism, Mind-Reading and Spiritualism): нет изображений\n"
     ]
    },
    {
     "name": "stderr",
     "output_type": "stream",
     "text": [
      "Книги:  85%|████████▌ | 272/320 [1:35:05<03:05,  3.86s/it]"
     ]
    },
    {
     "name": "stdout",
     "output_type": "stream",
     "text": [
      "[Успех] 27683 (World I Live In): загружено 4 изображений\n"
     ]
    },
    {
     "name": "stderr",
     "output_type": "stream",
     "text": [
      "Книги:  85%|████████▌ | 273/320 [1:35:08<02:58,  3.79s/it]"
     ]
    },
    {
     "name": "stdout",
     "output_type": "stream",
     "text": [
      "[Пропуск] 1608 (Camille): нет изображений\n"
     ]
    },
    {
     "name": "stderr",
     "output_type": "stream",
     "text": [
      "Книги:  86%|████████▌ | 274/320 [1:35:32<07:31,  9.82s/it]"
     ]
    },
    {
     "name": "stdout",
     "output_type": "stream",
     "text": [
      "[Успех] 27969 (County Regiment): загружено 21 изображений\n"
     ]
    },
    {
     "name": "stderr",
     "output_type": "stream",
     "text": [
      "Книги:  86%|████████▌ | 275/320 [1:35:33<05:17,  7.06s/it]"
     ]
    },
    {
     "name": "stdout",
     "output_type": "stream",
     "text": [
      "[Пропуск] 479 (Little Lord Fauntleroy (version 2)): не найден на Gutenberg\n"
     ]
    },
    {
     "name": "stderr",
     "output_type": "stream",
     "text": [
      "Книги:  86%|████████▋ | 276/320 [1:35:35<04:09,  5.67s/it]"
     ]
    },
    {
     "name": "stdout",
     "output_type": "stream",
     "text": [
      "[Пропуск] 4020 (Arcadian Adventures with the Idle Rich): нет изображений\n"
     ]
    },
    {
     "name": "stderr",
     "output_type": "stream",
     "text": [
      "Книги:  87%|████████▋ | 277/320 [1:35:37<03:15,  4.54s/it]"
     ]
    },
    {
     "name": "stdout",
     "output_type": "stream",
     "text": [
      "[Пропуск] 6882 (This Simian World): нет изображений\n"
     ]
    },
    {
     "name": "stderr",
     "output_type": "stream",
     "text": [
      "Книги:  87%|████████▋ | 278/320 [1:35:52<05:24,  7.72s/it]"
     ]
    },
    {
     "name": "stdout",
     "output_type": "stream",
     "text": [
      "[Успех] 22079 (Brighton Boys in the Radio Service): загружено 18 изображений\n"
     ]
    },
    {
     "name": "stderr",
     "output_type": "stream",
     "text": [
      "Книги:  87%|████████▋ | 279/320 [1:36:04<06:08,  9.00s/it]"
     ]
    },
    {
     "name": "stdout",
     "output_type": "stream",
     "text": [
      "[Успех] 10123 (Aunt Jane's Nieces): загружено 14 изображений\n"
     ]
    },
    {
     "name": "stderr",
     "output_type": "stream",
     "text": [
      "Книги:  88%|████████▊ | 280/320 [1:36:08<04:56,  7.41s/it]"
     ]
    },
    {
     "name": "stdout",
     "output_type": "stream",
     "text": [
      "[Пропуск] 360 (What is Property? An Inquiry into the Principle of Right and of Government): нет изображений\n"
     ]
    },
    {
     "name": "stderr",
     "output_type": "stream",
     "text": [
      "Книги:  88%|████████▊ | 281/320 [1:36:10<03:50,  5.92s/it]"
     ]
    },
    {
     "name": "stdout",
     "output_type": "stream",
     "text": [
      "[Успех] 19289 (Some Answered Questions): загружено 1 изображений\n"
     ]
    },
    {
     "name": "stderr",
     "output_type": "stream",
     "text": [
      "Книги:  88%|████████▊ | 282/320 [1:36:16<03:41,  5.82s/it]"
     ]
    },
    {
     "name": "stdout",
     "output_type": "stream",
     "text": [
      "[Пропуск] 5976 (Thomas Wingfold, Curate): нет изображений\n"
     ]
    },
    {
     "name": "stderr",
     "output_type": "stream",
     "text": [
      "Книги:  88%|████████▊ | 283/320 [1:36:45<07:52, 12.78s/it]"
     ]
    },
    {
     "name": "stdout",
     "output_type": "stream",
     "text": [
      "[Успех] 21895 (Old Coast Road From Boston to Plymouth): загружено 31 изображений\n"
     ]
    },
    {
     "name": "stderr",
     "output_type": "stream",
     "text": [
      "Книги:  89%|████████▉ | 284/320 [1:36:55<07:12, 12.02s/it]"
     ]
    },
    {
     "name": "stdout",
     "output_type": "stream",
     "text": [
      "[Успех] 33556 (Fortunes of Glencore): загружено 6 изображений\n"
     ]
    },
    {
     "name": "stderr",
     "output_type": "stream",
     "text": [
      "Книги:  89%|████████▉ | 285/320 [1:37:08<07:06, 12.19s/it]"
     ]
    },
    {
     "name": "stdout",
     "output_type": "stream",
     "text": [
      "[Успех] 40077 (Principles of Economics with Applications to Practical Problems): загружено 10 изображений\n"
     ]
    },
    {
     "name": "stderr",
     "output_type": "stream",
     "text": [
      "Книги:  89%|████████▉ | 286/320 [1:37:09<05:02,  8.90s/it]"
     ]
    },
    {
     "name": "stdout",
     "output_type": "stream",
     "text": [
      "[Пропуск] 5162 (Agatha Webb): нет изображений\n"
     ]
    },
    {
     "name": "stderr",
     "output_type": "stream",
     "text": [
      "Книги:  90%|████████▉ | 287/320 [1:37:12<03:56,  7.16s/it]"
     ]
    },
    {
     "name": "stdout",
     "output_type": "stream",
     "text": [
      "[Пропуск] 9192 (Channings): нет изображений\n"
     ]
    },
    {
     "name": "stderr",
     "output_type": "stream",
     "text": [
      "Книги:  90%|█████████ | 288/320 [1:37:19<03:44,  7.03s/it]"
     ]
    },
    {
     "name": "stdout",
     "output_type": "stream",
     "text": [
      "[Успех] 38219 (General Introduction to Psychoanalysis): загружено 2 изображений\n"
     ]
    },
    {
     "name": "stderr",
     "output_type": "stream",
     "text": [
      "Книги:  90%|█████████ | 289/320 [1:37:25<03:29,  6.76s/it]"
     ]
    },
    {
     "name": "stdout",
     "output_type": "stream",
     "text": [
      "[Успех] 40999 (Stolen Souls): загружено 4 изображений\n"
     ]
    },
    {
     "name": "stderr",
     "output_type": "stream",
     "text": [
      "Книги:  91%|█████████ | 290/320 [1:37:26<02:27,  4.92s/it]"
     ]
    },
    {
     "name": "stdout",
     "output_type": "stream",
     "text": [
      "[Пропуск] 2710 (Louise de la Valliere): не найден на Gutenberg\n"
     ]
    },
    {
     "name": "stderr",
     "output_type": "stream",
     "text": [
      "Книги:  91%|█████████ | 291/320 [1:37:30<02:17,  4.73s/it]"
     ]
    },
    {
     "name": "stdout",
     "output_type": "stream",
     "text": [
      "[Успех] 10624 (John Silence): загружено 1 изображений\n"
     ]
    },
    {
     "name": "stderr",
     "output_type": "stream",
     "text": [
      "Книги:  91%|█████████▏| 292/320 [1:37:30<01:37,  3.50s/it]"
     ]
    },
    {
     "name": "stdout",
     "output_type": "stream",
     "text": [
      "[Пропуск] 19215 (History of England from the Invasion of Julius Caesar to the Revolution of 1688, Volume 1E): не найден на Gutenberg\n"
     ]
    },
    {
     "name": "stderr",
     "output_type": "stream",
     "text": [
      "Книги:  92%|█████████▏| 293/320 [1:37:31<01:10,  2.61s/it]"
     ]
    },
    {
     "name": "stdout",
     "output_type": "stream",
     "text": [
      "[Пропуск] 2150 (Works of Edgar Allan Poe, Raven Edition, Volume 4): не найден на Gutenberg\n"
     ]
    },
    {
     "name": "stderr",
     "output_type": "stream",
     "text": [
      "Книги:  92%|█████████▏| 294/320 [1:37:32<00:56,  2.16s/it]"
     ]
    },
    {
     "name": "stdout",
     "output_type": "stream",
     "text": [
      "[Пропуск] 8075 (Junior Classics Volume 8: Animal and Nature Stories): нет изображений\n"
     ]
    },
    {
     "name": "stderr",
     "output_type": "stream",
     "text": [
      "Книги:  92%|█████████▏| 295/320 [1:38:08<05:03, 12.14s/it]"
     ]
    },
    {
     "name": "stdout",
     "output_type": "stream",
     "text": [
      "[Успех] 42214 (On A Donkey's Hurricane Deck): загружено 36 изображений\n"
     ]
    },
    {
     "name": "stderr",
     "output_type": "stream",
     "text": [
      "Книги:  92%|█████████▎| 296/320 [1:38:10<03:42,  9.25s/it]"
     ]
    },
    {
     "name": "stdout",
     "output_type": "stream",
     "text": [
      "[Пропуск] 19734 (Fairy Book): нет изображений\n"
     ]
    },
    {
     "name": "stderr",
     "output_type": "stream",
     "text": [
      "Книги:  93%|█████████▎| 297/320 [1:38:28<04:36, 12.02s/it]"
     ]
    },
    {
     "name": "stdout",
     "output_type": "stream",
     "text": [
      "[Успех] 15202 (Young Folks' Treasury, Volume 2): загружено 18 изображений\n"
     ]
    },
    {
     "name": "stderr",
     "output_type": "stream",
     "text": [
      "Книги:  93%|█████████▎| 298/320 [1:38:32<03:30,  9.55s/it]"
     ]
    },
    {
     "name": "stdout",
     "output_type": "stream",
     "text": [
      "[Пропуск] 5773 (Annals of a Quiet Neighbourhood): нет изображений\n"
     ]
    },
    {
     "name": "stderr",
     "output_type": "stream",
     "text": [
      "Книги:  93%|█████████▎| 299/320 [1:40:29<14:38, 41.83s/it]"
     ]
    },
    {
     "name": "stdout",
     "output_type": "stream",
     "text": [
      "[Успех] 26950 (Humorous Ghost Stories): загружено 118 изображений\n"
     ]
    },
    {
     "name": "stderr",
     "output_type": "stream",
     "text": [
      "Книги:  94%|█████████▍| 300/320 [1:40:33<10:05, 30.26s/it]"
     ]
    },
    {
     "name": "stdout",
     "output_type": "stream",
     "text": [
      "[Успех] 42630 (Outdoor Chums in the Big Woods): загружено 1 изображений\n"
     ]
    },
    {
     "name": "stderr",
     "output_type": "stream",
     "text": [
      "Книги:  94%|█████████▍| 301/320 [1:40:33<06:46, 21.37s/it]"
     ]
    },
    {
     "name": "stdout",
     "output_type": "stream",
     "text": [
      "[Пропуск] 29607 (Astounding Stories 03, March 1930): не найден на Gutenberg\n"
     ]
    },
    {
     "name": "stderr",
     "output_type": "stream",
     "text": [
      "Книги:  94%|█████████▍| 302/320 [1:40:36<04:42, 15.71s/it]"
     ]
    },
    {
     "name": "stdout",
     "output_type": "stream",
     "text": [
      "[Пропуск] 793 (Aeroplanes and Dirigibles of War): нет изображений\n"
     ]
    },
    {
     "name": "stderr",
     "output_type": "stream",
     "text": [
      "Книги:  95%|█████████▍| 303/320 [1:41:21<06:58, 24.62s/it]"
     ]
    },
    {
     "name": "stdout",
     "output_type": "stream",
     "text": [
      "[Успех] 35002 (Among the Pond People): загружено 48 изображений\n"
     ]
    },
    {
     "name": "stderr",
     "output_type": "stream",
     "text": [
      "Книги:  95%|█████████▌| 304/320 [1:41:23<04:45, 17.86s/it]"
     ]
    },
    {
     "name": "stdout",
     "output_type": "stream",
     "text": [
      "[Пропуск] 1282 (Tom Swift Among the Diamond Makers): нет изображений\n"
     ]
    },
    {
     "name": "stderr",
     "output_type": "stream",
     "text": [
      "Книги:  95%|█████████▌| 305/320 [1:41:24<03:12, 12.84s/it]"
     ]
    },
    {
     "name": "stdout",
     "output_type": "stream",
     "text": [
      "[Пропуск] 43005 (Inevitable): нет изображений\n"
     ]
    },
    {
     "name": "stderr",
     "output_type": "stream",
     "text": [
      "Книги:  96%|█████████▌| 306/320 [1:41:25<02:07,  9.13s/it]"
     ]
    },
    {
     "name": "stdout",
     "output_type": "stream",
     "text": [
      "[Пропуск] 13042 (Knickerbocker's History of New York, Vol. 1): не найден на Gutenberg\n"
     ]
    },
    {
     "name": "stderr",
     "output_type": "stream",
     "text": [
      "Книги:  96%|█████████▌| 307/320 [1:41:27<01:30,  6.94s/it]"
     ]
    },
    {
     "name": "stdout",
     "output_type": "stream",
     "text": [
      "[Успех] 36508 (Eight Harvard Poets): загружено 1 изображений\n"
     ]
    },
    {
     "name": "stderr",
     "output_type": "stream",
     "text": [
      "Книги:  96%|█████████▋| 308/320 [1:41:38<01:40,  8.35s/it]"
     ]
    },
    {
     "name": "stdout",
     "output_type": "stream",
     "text": [
      "[Успех] 34943 (Among the Meadow People): загружено 13 изображений\n"
     ]
    },
    {
     "name": "stderr",
     "output_type": "stream",
     "text": [
      "Книги:  97%|█████████▋| 309/320 [1:41:41<01:13,  6.65s/it]"
     ]
    },
    {
     "name": "stdout",
     "output_type": "stream",
     "text": [
      "[Успех] 42056 (Red Window): загружено 1 изображений\n"
     ]
    },
    {
     "name": "stderr",
     "output_type": "stream",
     "text": [
      "Книги:  97%|█████████▋| 310/320 [1:41:42<00:50,  5.05s/it]"
     ]
    },
    {
     "name": "stdout",
     "output_type": "stream",
     "text": [
      "[Пропуск] 4953 (Revolution, and other Essays): нет изображений\n"
     ]
    },
    {
     "name": "stderr",
     "output_type": "stream",
     "text": [
      "Книги:  97%|█████████▋| 311/320 [1:41:46<00:40,  4.55s/it]"
     ]
    },
    {
     "name": "stdout",
     "output_type": "stream",
     "text": [
      "[Успех] 43699 (Phantom Town Mystery): загружено 3 изображений\n"
     ]
    },
    {
     "name": "stderr",
     "output_type": "stream",
     "text": [
      "Книги:  98%|█████████▊| 312/320 [1:41:46<00:26,  3.32s/it]"
     ]
    },
    {
     "name": "stdout",
     "output_type": "stream",
     "text": [
      "[Пропуск] 15263 (Underground Railroad, Part 5): не найден на Gutenberg\n"
     ]
    },
    {
     "name": "stderr",
     "output_type": "stream",
     "text": [
      "Книги:  98%|█████████▊| 313/320 [1:41:53<00:30,  4.29s/it]"
     ]
    },
    {
     "name": "stdout",
     "output_type": "stream",
     "text": [
      "[Успех] 2486 (Queer Little Folks): загружено 9 изображений\n"
     ]
    },
    {
     "name": "stderr",
     "output_type": "stream",
     "text": [
      "Книги:  98%|█████████▊| 314/320 [1:41:53<00:18,  3.13s/it]"
     ]
    },
    {
     "name": "stdout",
     "output_type": "stream",
     "text": [
      "[Пропуск] 13042 (Knickerbocker's History of New York, Vol. 2): не найден на Gutenberg\n"
     ]
    },
    {
     "name": "stderr",
     "output_type": "stream",
     "text": [
      "Книги:  98%|█████████▊| 315/320 [1:42:03<00:26,  5.23s/it]"
     ]
    },
    {
     "name": "stdout",
     "output_type": "stream",
     "text": [
      "[Успех] 22925 (Story of Young Abraham Lincoln): загружено 18 изображений\n"
     ]
    },
    {
     "name": "stderr",
     "output_type": "stream",
     "text": [
      "Книги:  99%|█████████▉| 316/320 [1:42:06<00:17,  4.47s/it]"
     ]
    },
    {
     "name": "stdout",
     "output_type": "stream",
     "text": [
      "[Успех] 15164 (Folk Tales Every Child Should Know): загружено 2 изображений\n"
     ]
    },
    {
     "name": "stderr",
     "output_type": "stream",
     "text": [
      "Книги:  99%|█████████▉| 317/320 [1:42:07<00:10,  3.40s/it]"
     ]
    },
    {
     "name": "stdout",
     "output_type": "stream",
     "text": [
      "[Пропуск] 12060 (Lucinda): нет изображений\n"
     ]
    },
    {
     "name": "stderr",
     "output_type": "stream",
     "text": [
      "Книги:  99%|█████████▉| 318/320 [1:42:09<00:05,  2.91s/it]"
     ]
    },
    {
     "name": "stdout",
     "output_type": "stream",
     "text": [
      "[Пропуск] 10446 (Green Flag and Other Stories of War and Sport): нет изображений\n"
     ]
    },
    {
     "name": "stderr",
     "output_type": "stream",
     "text": [
      "Книги: 100%|█████████▉| 319/320 [1:42:12<00:02,  2.96s/it]"
     ]
    },
    {
     "name": "stdout",
     "output_type": "stream",
     "text": [
      "[Успех] 44326 (Wanted: A Husband): загружено 2 изображений\n"
     ]
    },
    {
     "name": "stderr",
     "output_type": "stream",
     "text": [
      "Книги: 100%|██████████| 320/320 [1:42:13<00:00, 19.17s/it]"
     ]
    },
    {
     "name": "stdout",
     "output_type": "stream",
     "text": [
      "[Пропуск] 35941 (Life of Saint Monica): нет изображений\n",
      "\n",
      "Итог: Иллюстрации найдены у 135 книг из 320\n"
     ]
    },
    {
     "name": "stderr",
     "output_type": "stream",
     "text": [
      "\n"
     ]
    }
   ],
   "source": [
    "import pandas as pd\n",
    "import requests\n",
    "from bs4 import BeautifulSoup\n",
    "import os\n",
    "from tqdm import tqdm\n",
    "from urllib.parse import quote_plus\n",
    "\n",
    "# Настройки\n",
    "CSV_PATH = \"train-clean-100/LibriSpeech/train_clean_100_chapters.csv\"\n",
    "ILLUSTRATIONS_DIR = \"book_illustrations\"\n",
    "\n",
    "# Создание папки\n",
    "os.makedirs(ILLUSTRATIONS_DIR, exist_ok=True)\n",
    "\n",
    "def get_gutenberg_id_by_title(title):\n",
    "    \"\"\"Ищет ID книги по названию на Gutenberg.\"\"\"\n",
    "    search_url = f\"https://www.gutenberg.org/ebooks/search/?query={quote_plus(title)}\"\n",
    "    try:\n",
    "        response = requests.get(search_url, timeout=10)\n",
    "        soup = BeautifulSoup(response.text, \"html.parser\")\n",
    "        link = soup.find(\"li\", class_=\"booklink\")\n",
    "        if link:\n",
    "            href = link.find(\"a\", class_=\"link\")[\"href\"]\n",
    "            return int(href.strip(\"/\").split(\"/\")[-1])\n",
    "    except Exception as e:\n",
    "        print(f\"[Поиск ID] Ошибка для '{title}': {e}\")\n",
    "    return None\n",
    "\n",
    "def download_illustrations(book_id, save_subdir):\n",
    "    \"\"\"Скачивает все изображения из HTML-версии книги.\"\"\"\n",
    "    html_url = f\"https://www.gutenberg.org/files/{book_id}/{book_id}-h/{book_id}-h.htm\"\n",
    "    try:\n",
    "        response = requests.get(html_url, timeout=10)\n",
    "        if response.status_code != 200:\n",
    "            return 0\n",
    "        soup = BeautifulSoup(response.content, \"lxml-xml\")\n",
    "        img_tags = soup.find_all(\"img\")\n",
    "        \n",
    "        os.makedirs(save_subdir, exist_ok=True)\n",
    "        count = 0\n",
    "        for img in img_tags:\n",
    "            src = img.get(\"src\")\n",
    "            if src:\n",
    "                full_url = html_url.rsplit(\"/\", 1)[0] + \"/\" + src\n",
    "                img_name = os.path.basename(src).split(\"?\")[0]\n",
    "                img_path = os.path.join(save_subdir, img_name)\n",
    "                try:\n",
    "                    img_data = requests.get(full_url, timeout=10).content\n",
    "                    with open(img_path, \"wb\") as f:\n",
    "                        f.write(img_data)\n",
    "                    count += 1\n",
    "                except Exception as e:\n",
    "                    print(f\"[Скачивание] Ошибка {full_url}: {e}\")\n",
    "        return count\n",
    "    except Exception as e:\n",
    "        print(f\"[HTML] Ошибка при загрузке HTML для ID {book_id}: {e}\")\n",
    "        return 0\n",
    "\n",
    "# Основной процесс\n",
    "df = pd.read_csv(CSV_PATH)\n",
    "unique_books = df[[\"BOOK ID\", \"PROJECT TITLE\"]].drop_duplicates()\n",
    "\n",
    "not_found = []\n",
    "success_count = 0\n",
    "\n",
    "for _, row in tqdm(unique_books.iterrows(), total=len(unique_books), desc=\"Книги\"):\n",
    "    book_id = row[\"BOOK ID\"]\n",
    "    title = row[\"PROJECT TITLE\"]\n",
    "    gutenberg_id = get_gutenberg_id_by_title(title)\n",
    "    \n",
    "    if gutenberg_id:\n",
    "        save_path = os.path.join(ILLUSTRATIONS_DIR, str(book_id))\n",
    "        count = download_illustrations(gutenberg_id, save_path)\n",
    "        if count > 0:\n",
    "            print(f\"[Успех] {book_id} ({title}): загружено {count} изображений\")\n",
    "            success_count += 1\n",
    "        else:\n",
    "            print(f\"[Пропуск] {book_id} ({title}): нет изображений\")\n",
    "            not_found.append({\"BOOK ID\": book_id, \"TITLE\": title, \"REASON\": \"Нет изображений\"})\n",
    "    else:\n",
    "        print(f\"[Пропуск] {book_id} ({title}): не найден на Gutenberg\")\n",
    "        not_found.append({\"BOOK ID\": book_id, \"TITLE\": title, \"REASON\": \"Не найден на Gutenberg\"})\n",
    "\n",
    "# Сохраняем список неудачных загрузок\n",
    "not_found_df = pd.DataFrame(not_found)\n",
    "not_found_df.to_csv(\"not_found_illustrations.csv\", index=False)\n",
    "\n",
    "print(f\"\\nИтог: Иллюстрации найдены у {success_count} книг из {len(unique_books)}\")\n",
    "# print(f\"Список пропущенных сохранён в not_found_illustrations.csv\")"
   ]
  },
  {
   "cell_type": "code",
   "execution_count": null,
   "id": "d85ce680",
   "metadata": {},
   "outputs": [
    {
     "name": "stderr",
     "output_type": "stream",
     "text": [
      "Загрузка обложек:  57%|█████▊    | 69/120 [00:01<00:01, 36.64it/s]"
     ]
    },
    {
     "name": "stdout",
     "output_type": "stream",
     "text": [
      "[Пропуск] 10030: Обложка не найдена ни в одном источнике\n"
     ]
    },
    {
     "name": "stderr",
     "output_type": "stream",
     "text": [
      "Загрузка обложек: 100%|██████████| 120/120 [00:03<00:00, 32.77it/s]"
     ]
    },
    {
     "name": "stdout",
     "output_type": "stream",
     "text": [
      "[Пропуск] 29607: Обложка не найдена ни в одном источнике\n",
      "\n",
      "Итог: Скачано 118/120 обложек.\n"
     ]
    },
    {
     "name": "stderr",
     "output_type": "stream",
     "text": [
      "\n"
     ]
    }
   ],
   "source": [
    "import pandas as pd\n",
    "import requests\n",
    "from bs4 import BeautifulSoup\n",
    "import os\n",
    "from tqdm import tqdm\n",
    "\n",
    "# Настройки\n",
    "CSV_PATH = \"train-clean-100/LibriSpeech/train_clean_100_chapters.csv\"\n",
    "COVERS_DIR = \"book_covers\"\n",
    "false_cover = []\n",
    "# Создание папки-родителя\n",
    "os.makedirs(COVERS_DIR, exist_ok=True)\n",
    "\n",
    "def get_gutenberg_cover_url(title):\n",
    "    search_url = f\"https://www.gutenberg.org/ebooks/search/?query={title}\"\n",
    "    try:\n",
    "        response = requests.get(search_url, timeout=10)\n",
    "        soup = BeautifulSoup(response.text, 'html.parser')\n",
    "        book_link = soup.find(\"a\", href=lambda x: x and \"/ebooks/\" in x)\n",
    "        if book_link:\n",
    "            book_id = book_link[\"href\"].split(\"/\")[-1]\n",
    "            return f\"https://www.gutenberg.org/cache/epub/{book_id}/pg{book_id}.cover.medium.jpg\"\n",
    "    except Exception as e:\n",
    "        print(f\"[Gutenberg] Ошибка для '{title}': {e}\")\n",
    "    return None\n",
    "\n",
    "def get_openlibrary_cover_url(title):\n",
    "    try:\n",
    "        url = f\"https://openlibrary.org/search.json?q={title}\"\n",
    "        response = requests.get(url, timeout=10).json()\n",
    "        if response[\"num_found\"] > 0:\n",
    "            cover_id = response[\"docs\"][0].get(\"cover_i\")\n",
    "            if cover_id:\n",
    "                return f\"https://covers.openlibrary.org/b/id/{cover_id}-M.jpg\"\n",
    "    except Exception as e:\n",
    "        print(f\"[OpenLibrary] Ошибка для '{title}': {e}\")\n",
    "    return None\n",
    "\n",
    "def download_cover(book_id, title):\n",
    "    \"\"\"Скачивает обложку и сохраняет как cover.jpg в папке по book_id.\"\"\"\n",
    "    book_dir = os.path.join(COVERS_DIR, str(book_id))\n",
    "    cover_path = os.path.join(book_dir, \"cover.jpg\")\n",
    "\n",
    "    if os.path.exists(cover_path):\n",
    "        return True\n",
    "\n",
    "    os.makedirs(book_dir, exist_ok=True)\n",
    "\n",
    "    apis = [\n",
    "        (\"OpenLibrary\", lambda: get_openlibrary_cover_url(title)),\n",
    "        (\"Gutenberg\", lambda: get_gutenberg_cover_url(title)),\n",
    "    ]\n",
    "\n",
    "    for source, api_func in apis:\n",
    "        cover_url = api_func()\n",
    "        if cover_url:\n",
    "            try:\n",
    "                response = requests.get(cover_url, stream=True, timeout=10)\n",
    "                if response.status_code == 200:\n",
    "                    with open(cover_path, \"wb\") as f:\n",
    "                        f.write(response.content)\n",
    "                    print(f\"[Успех] {book_id}: Обложка сохранена из {source}\")\n",
    "                    return True\n",
    "            except Exception as e:\n",
    "                print(f\"[Ошибка] {book_id}: Скачивание из {source} ({cover_url}): {e}\")\n",
    "\n",
    "    print(f\"[Пропуск] {book_id}: Обложка не найдена ни в одном источнике\")\n",
    "    false_cover.append(book_id)\n",
    "    return False\n",
    "\n",
    "# Основной процесс\n",
    "df = pd.read_csv(CSV_PATH)\n",
    "unique_books = df[[\"BOOK ID\", \"PROJECT TITLE\"]].drop_duplicates()\n",
    "\n",
    "success_count = 0\n",
    "for _, row in tqdm(unique_books.iterrows(), total=len(unique_books), desc=\"Загрузка обложек\"):\n",
    "    if download_cover(row[\"BOOK ID\"], row[\"PROJECT TITLE\"]):\n",
    "        success_count += 1\n",
    "\n",
    "print(f\"\\nИтог: Скачано {success_count}/{len(unique_books)} обложек.\")"
   ]
  },
  {
   "cell_type": "markdown",
   "id": "99b545fd",
   "metadata": {},
   "source": [
    "## Добавление жанра"
   ]
  },
  {
   "cell_type": "code",
   "execution_count": null,
   "id": "c7a8087b",
   "metadata": {},
   "outputs": [
    {
     "name": "stderr",
     "output_type": "stream",
     "text": [
      "Получение жанров: 100%|██████████| 585/585 [15:08<00:00,  1.55s/it]\n"
     ]
    }
   ],
   "source": [
    "# Загрузка данных\n",
    "df = pd.read_csv(\"train-clean-100/LibriSpeech/train_clean_100_chapters.csv\")\n",
    "\n",
    "# Убедимся, что столбец 'ID' содержит уникальные значения\n",
    "book_ids = df[\"BOOK ID\"]\n",
    "\n",
    "# Словарь для кэширования результатов\n",
    "id_to_genre = {}\n",
    "\n",
    "# Функция запроса жанра по ID\n",
    "def get_genre(book_id):\n",
    "    url = f\"https://gutendex.com/books/{book_id}/\"\n",
    "    try:\n",
    "        response = requests.get(url, timeout=10)\n",
    "        if response.status_code == 200:\n",
    "            data = response.json()\n",
    "            subjects = data.get(\"subjects\", [])\n",
    "            return \"; \".join(subjects) if subjects else \"Unknown\"\n",
    "        else:\n",
    "            return \"Not Found\"\n",
    "    except Exception:\n",
    "        return \"Error\"\n",
    "\n",
    "# Обработка с прогресс-баром\n",
    "for book_id in tqdm(book_ids, desc=\"Получение жанров\"):\n",
    "    genre = get_genre(book_id)\n",
    "    id_to_genre[book_id] = genre\n",
    "    time.sleep(1)  # Пауза в 1 секунду для уважения к API\n",
    "\n",
    "# Присвоение жанров в DataFrame\n",
    "df[\"Genre\"] = df[\"BOOK ID\"].map(id_to_genre)\n",
    "\n",
    "# Сохранение результата\n",
    "df.to_csv(\"train_with_genre.csv\", index = False)"
   ]
  },
  {
   "cell_type": "code",
   "execution_count": 8,
   "id": "a87c7e46",
   "metadata": {},
   "outputs": [
    {
     "name": "stderr",
     "output_type": "stream",
     "text": [
      "Поиск жанров OpenLibrary:   0%|          | 0/585 [00:00<?, ?it/s]"
     ]
    },
    {
     "name": "stderr",
     "output_type": "stream",
     "text": [
      "Поиск жанров OpenLibrary: 100%|██████████| 585/585 [28:53<00:00,  2.96s/it]\n"
     ]
    }
   ],
   "source": [
    "import pandas as pd\n",
    "import requests\n",
    "import time\n",
    "from tqdm import tqdm\n",
    "\n",
    "# Загрузка данных\n",
    "df = pd.read_csv(\"train-clean-100/LibriSpeech/train_clean_100_chapters.csv\")\n",
    "\n",
    "# Получение уникальных ID\n",
    "book_ids = df[\"BOOK ID\"]\n",
    "\n",
    "# Подготовка\n",
    "id_to_genre = {}\n",
    "\n",
    "# Основная функция поиска жанра\n",
    "def get_genre_openlibrary(book_id, title):\n",
    "    # 1. Попробовать найти по Gutenberg ID\n",
    "    id_url = f\"https://openlibrary.org/search.json?gutenberg_id={book_id}\"\n",
    "    try:\n",
    "        response = requests.get(id_url, timeout=10)\n",
    "        if response.status_code == 200:\n",
    "            data = response.json()\n",
    "            if data[\"numFound\"] > 0:\n",
    "                subjects = data[\"docs\"][0].get(\"subject\", [])\n",
    "                if subjects:\n",
    "                    return \"; \".join(subjects)\n",
    "    except Exception:\n",
    "        pass\n",
    "\n",
    "    # 2. Если не найдено — искать по названию\n",
    "    title_url = f\"https://openlibrary.org/search.json?title={requests.utils.quote(title)}\"\n",
    "    try:\n",
    "        response = requests.get(title_url, timeout=10)\n",
    "        if response.status_code == 200:\n",
    "            data = response.json()\n",
    "            if data[\"numFound\"] > 0:\n",
    "                subjects = data[\"docs\"][0].get(\"subject\", [])\n",
    "                if subjects:\n",
    "                    return \"; \".join(subjects)\n",
    "                else:\n",
    "                    return \"Unknown\"\n",
    "            else:\n",
    "                return \"Not Found\"\n",
    "    except Exception:\n",
    "        return \"Error\"\n",
    "\n",
    "# Прогресс по строкам\n",
    "for _, row in tqdm(df.iterrows(), total=len(df), desc=\"Поиск жанров OpenLibrary\"):\n",
    "    book_id = row[\"BOOK ID\"]\n",
    "    title = row[\"PROJECT TITLE\"]\n",
    "    genre = get_genre_openlibrary(book_id, title)\n",
    "    id_to_genre[book_id] = genre\n",
    "    time.sleep(1)  # Пауза между запросами\n",
    "\n",
    "# Добавление результатов в DataFrame\n",
    "df[\"Genre\"] = df[\"BOOK ID\"].map(id_to_genre)\n",
    "\n",
    "# Сохранение\n",
    "df.to_csv(\"train_with_genre_openlibrary.csv\", index=False)"
   ]
  },
  {
   "cell_type": "markdown",
   "id": "bbc50a0d",
   "metadata": {},
   "source": [
    "## Объединение всех csv в один"
   ]
  },
  {
   "cell_type": "code",
   "execution_count": 17,
   "id": "7a08c3b3",
   "metadata": {},
   "outputs": [
    {
     "name": "stderr",
     "output_type": "stream",
     "text": [
      "839it [00:00, 1198.39it/s]\n"
     ]
    },
    {
     "name": "stdout",
     "output_type": "stream",
     "text": [
      "Объединённый файл сохранён как: all_POS_NER.csv\n"
     ]
    }
   ],
   "source": [
    "def combine_csv_files(root_dir, output_path='all_POS_NER.csv'):\n",
    "    all_dfs = []\n",
    "    \n",
    "    for subdir, _, files in tqdm(os.walk(root_dir)):\n",
    "        for file in files:\n",
    "            if file.endswith('.csv'):\n",
    "                csv_path = os.path.join(subdir, file)\n",
    "                try:\n",
    "                    df = pd.read_csv(csv_path)\n",
    "                    df['source_file'] = csv_path  # Добавим имя файла как метаинформацию\n",
    "                    all_dfs.append(df)\n",
    "                except Exception as e:\n",
    "                    print(f\"Ошибка при чтении {csv_path}: {e}\")\n",
    "    \n",
    "    if all_dfs:\n",
    "        combined_df = pd.concat(all_dfs, ignore_index=True)\n",
    "        combined_df.to_csv(output_path, index=False)\n",
    "        print(f\"Объединённый файл сохранён как: {output_path}\")\n",
    "    else:\n",
    "        print(\"Не найдено CSV-файлов для объединения.\")\n",
    "\n",
    "# Запуска\n",
    "combine_csv_files('train-clean-100')"
   ]
  },
  {
   "cell_type": "markdown",
   "id": "5119dcc7",
   "metadata": {},
   "source": [
    "## Восстановление регистра"
   ]
  },
  {
   "cell_type": "code",
   "execution_count": 42,
   "id": "fe38f0a9",
   "metadata": {},
   "outputs": [
    {
     "name": "stderr",
     "output_type": "stream",
     "text": [
      "d:\\Python310\\lib\\site-packages\\onnxruntime\\capi\\onnxruntime_inference_collection.py:121: UserWarning: Specified provider 'CUDAExecutionProvider' is not in available provider names.Available providers: 'AzureExecutionProvider, CPUExecutionProvider'\n",
      "  warnings.warn(\n",
      "Restoring texts: 100%|██████████| 1784/1784 [44:52<00:00,  1.51s/it]\n"
     ]
    }
   ],
   "source": [
    "import pandas as pd\n",
    "from typing import List\n",
    "from punctuators.models import PunctCapSegModelONNX\n",
    "\n",
    "# Загружаем модель один раз\n",
    "model: PunctCapSegModelONNX = PunctCapSegModelONNX.from_pretrained(\"1-800-BAD-CODE/xlm-roberta_punctuation_fullstop_truecase\")\n",
    "\n",
    "# Загружаем датафрейм\n",
    "df = pd.read_csv(\"all_POS_NER_split.csv\")\n",
    "\n",
    "def restore_texts(texts: List[str]) -> List[str]:\n",
    "    # infer принимает список текстов и возвращает список списков (вариантов восстановления)\n",
    "    results = model.infer(texts = texts, apply_sbd = True)\n",
    "    # Возьмем первый вариант для каждого текста\n",
    "    restored = [out[0] if out else txt for out, txt in zip(results, texts)]\n",
    "    return restored\n",
    "\n",
    "# Обработка батчами с прогрессбаром tqdm\n",
    "batch_size = 16\n",
    "restored_texts = []\n",
    "\n",
    "for i in tqdm(range(0, len(df), batch_size), desc=\"Restoring texts\"):\n",
    "    batch_texts = df['text'].iloc[i:i+batch_size].str.lower().tolist()\n",
    "    batch_restored = restore_texts(batch_texts)\n",
    "    restored_texts.extend(batch_restored)\n",
    "\n",
    "df['text'] = restored_texts\n",
    "\n",
    "# Сохраняем результат\n",
    "df.to_csv(\"restored_text.csv\", index = False)"
   ]
  },
  {
   "cell_type": "code",
   "execution_count": 60,
   "id": "4d23b2e6",
   "metadata": {},
   "outputs": [],
   "source": [
    "df['text'] = df['text'].str.replace(f'[{string.punctuation}]', '', regex=True)\n",
    "df.to_csv('restored_text.csv')"
   ]
  },
  {
   "cell_type": "markdown",
   "id": "f81c317e",
   "metadata": {},
   "source": [
    "## Разметка именнованных сущностей"
   ]
  },
  {
   "cell_type": "code",
   "execution_count": null,
   "id": "b980e076",
   "metadata": {},
   "outputs": [],
   "source": [
    "nlp = spacy.load(\"en_core_web_sm\")"
   ]
  },
  {
   "cell_type": "code",
   "execution_count": null,
   "id": "6a0d4be3",
   "metadata": {},
   "outputs": [
    {
     "name": "stderr",
     "output_type": "stream",
     "text": [
      "POS для restored_text.csv: 100%|██████████| 28539/28539 [03:49<00:00, 124.15it/s]\n"
     ]
    }
   ],
   "source": [
    "# Функция для разметки по именнованным сущностям\n",
    "def ner_tag_text(text):\n",
    "    doc = nlp(text)\n",
    "    return \" \".join([f\"{ent.text}_{ent.label_}\" for ent in doc.ents])\n",
    "\n",
    "# Функция применения разметки ко всем строкам в датафрейме с транскрипциями\n",
    "def process_csv(csv_path):\n",
    "    df = pd.read_csv(csv_path)\n",
    "    if 'text' in df.columns:\n",
    "        tqdm.pandas(desc=f'POS для {os.path.basename(csv_path)}')\n",
    "        df['ner_tags'] = df['text'].progress_apply(ner_tag_text)\n",
    "        df.to_csv(csv_path, index=False)\n",
    "    else:\n",
    "        print(f\"Пропущено (нет 'text'): {csv_path}\")\n",
    "\n",
    "# Запуск\n",
    "process_csv('restored_text.csv')"
   ]
  },
  {
   "cell_type": "markdown",
   "id": "aca92afe",
   "metadata": {},
   "source": [
    "## Разметка по морфологии"
   ]
  },
  {
   "cell_type": "code",
   "execution_count": 53,
   "id": "c2fd0abf",
   "metadata": {},
   "outputs": [
    {
     "name": "stderr",
     "output_type": "stream",
     "text": [
      "[nltk_data] Downloading package punkt to\n",
      "[nltk_data]     C:\\Users\\HUAWEI\\AppData\\Roaming\\nltk_data...\n",
      "[nltk_data]   Unzipping tokenizers\\punkt.zip.\n",
      "[nltk_data] Downloading package averaged_perceptron_tagger to\n",
      "[nltk_data]     C:\\Users\\HUAWEI\\AppData\\Roaming\\nltk_data...\n",
      "[nltk_data]   Unzipping taggers\\averaged_perceptron_tagger.zip.\n",
      "[nltk_data] Downloading package averaged_perceptron_tagger_eng to\n",
      "[nltk_data]     C:\\Users\\HUAWEI\\AppData\\Roaming\\nltk_data...\n",
      "[nltk_data]   Unzipping taggers\\averaged_perceptron_tagger_eng.zip.\n",
      "[nltk_data] Downloading package universal_tagset to\n",
      "[nltk_data]     C:\\Users\\HUAWEI\\AppData\\Roaming\\nltk_data...\n",
      "[nltk_data]   Unzipping taggers\\universal_tagset.zip.\n"
     ]
    },
    {
     "data": {
      "text/plain": [
       "True"
      ]
     },
     "execution_count": 53,
     "metadata": {},
     "output_type": "execute_result"
    }
   ],
   "source": [
    "nltk.download('punkt', force = True)                           # Токенизатор\n",
    "nltk.download('averaged_perceptron_tagger', force = True)      # POS-теггер\n",
    "nltk.download('averaged_perceptron_tagger_eng', force = True)\n",
    "nltk.download('universal_tagset', force = True)                # Универсальные теги"
   ]
  },
  {
   "cell_type": "code",
   "execution_count": null,
   "id": "140ad507",
   "metadata": {},
   "outputs": [
    {
     "name": "stderr",
     "output_type": "stream",
     "text": [
      "POS для restored_text.csv: 100%|██████████| 28539/28539 [00:21<00:00, 1342.83it/s]\n"
     ]
    }
   ],
   "source": [
    "# Функция для разметки по частям речи\n",
    "def pos_tag_text(text):\n",
    "    words = word_tokenize(text)  # Токенизация\n",
    "    tags = pos_tag(words)        # Получаем (слово, тег)\n",
    "    # Конвертируем теги в универсальный набор и объединяем с словами через \"_\"\n",
    "    tagged_words = [f\"{word}_{map_tag('en-ptb', 'universal', tag)}\" for word, tag in tags]\n",
    "    return ' '.join(tagged_words)  # Возвращаем строку с объединёнными словами\n",
    "\n",
    "# Функция применения разметки ко всем строкам в датафрейме с транскрипциями\n",
    "def process_csv(csv_path):\n",
    "    df = pd.read_csv(csv_path)\n",
    "    if 'text' in df.columns:\n",
    "        tqdm.pandas(desc=f'POS для {os.path.basename(csv_path)}')\n",
    "        df['pos_tags'] = df['text'].progress_apply(pos_tag_text)\n",
    "        df.to_csv(csv_path, index=False)\n",
    "    else:\n",
    "        print(f\"Пропущено (нет 'text'): {csv_path}\")\n",
    "\n",
    "# Запуск\n",
    "process_csv('restored_text.csv')"
   ]
  },
  {
   "cell_type": "markdown",
   "id": "eca7fa75",
   "metadata": {},
   "source": [
    "## Разметка по атмосфере"
   ]
  },
  {
   "cell_type": "code",
   "execution_count": 72,
   "id": "90f5b021",
   "metadata": {},
   "outputs": [
    {
     "data": {
      "text/html": [
       "<div>\n",
       "<style scoped>\n",
       "    .dataframe tbody tr th:only-of-type {\n",
       "        vertical-align: middle;\n",
       "    }\n",
       "\n",
       "    .dataframe tbody tr th {\n",
       "        vertical-align: top;\n",
       "    }\n",
       "\n",
       "    .dataframe thead th {\n",
       "        text-align: right;\n",
       "    }\n",
       "</style>\n",
       "<table border=\"1\" class=\"dataframe\">\n",
       "  <thead>\n",
       "    <tr style=\"text-align: right;\">\n",
       "      <th></th>\n",
       "      <th>word</th>\n",
       "      <th>emotion</th>\n",
       "      <th>score</th>\n",
       "    </tr>\n",
       "  </thead>\n",
       "  <tbody>\n",
       "    <tr>\n",
       "      <th>0</th>\n",
       "      <td>aback</td>\n",
       "      <td>anger</td>\n",
       "      <td>0</td>\n",
       "    </tr>\n",
       "    <tr>\n",
       "      <th>1</th>\n",
       "      <td>aback</td>\n",
       "      <td>anticipation</td>\n",
       "      <td>0</td>\n",
       "    </tr>\n",
       "    <tr>\n",
       "      <th>2</th>\n",
       "      <td>aback</td>\n",
       "      <td>disgust</td>\n",
       "      <td>0</td>\n",
       "    </tr>\n",
       "    <tr>\n",
       "      <th>3</th>\n",
       "      <td>aback</td>\n",
       "      <td>fear</td>\n",
       "      <td>0</td>\n",
       "    </tr>\n",
       "    <tr>\n",
       "      <th>4</th>\n",
       "      <td>aback</td>\n",
       "      <td>joy</td>\n",
       "      <td>0</td>\n",
       "    </tr>\n",
       "    <tr>\n",
       "      <th>...</th>\n",
       "      <td>...</td>\n",
       "      <td>...</td>\n",
       "      <td>...</td>\n",
       "    </tr>\n",
       "    <tr>\n",
       "      <th>141535</th>\n",
       "      <td>zoom</td>\n",
       "      <td>negative</td>\n",
       "      <td>0</td>\n",
       "    </tr>\n",
       "    <tr>\n",
       "      <th>141536</th>\n",
       "      <td>zoom</td>\n",
       "      <td>positive</td>\n",
       "      <td>0</td>\n",
       "    </tr>\n",
       "    <tr>\n",
       "      <th>141537</th>\n",
       "      <td>zoom</td>\n",
       "      <td>sadness</td>\n",
       "      <td>0</td>\n",
       "    </tr>\n",
       "    <tr>\n",
       "      <th>141538</th>\n",
       "      <td>zoom</td>\n",
       "      <td>surprise</td>\n",
       "      <td>0</td>\n",
       "    </tr>\n",
       "    <tr>\n",
       "      <th>141539</th>\n",
       "      <td>zoom</td>\n",
       "      <td>trust</td>\n",
       "      <td>0</td>\n",
       "    </tr>\n",
       "  </tbody>\n",
       "</table>\n",
       "<p>141540 rows × 3 columns</p>\n",
       "</div>"
      ],
      "text/plain": [
       "         word       emotion  score\n",
       "0       aback         anger      0\n",
       "1       aback  anticipation      0\n",
       "2       aback       disgust      0\n",
       "3       aback          fear      0\n",
       "4       aback           joy      0\n",
       "...       ...           ...    ...\n",
       "141535   zoom      negative      0\n",
       "141536   zoom      positive      0\n",
       "141537   zoom       sadness      0\n",
       "141538   zoom      surprise      0\n",
       "141539   zoom         trust      0\n",
       "\n",
       "[141540 rows x 3 columns]"
      ]
     },
     "execution_count": 72,
     "metadata": {},
     "output_type": "execute_result"
    }
   ],
   "source": [
    "import pandas as pd\n",
    "from collections import defaultdict\n",
    "\n",
    "# 1. Загрузка NRC Lexicon (предполагаем формат: слово<TAB>категория<TAB>оценка)\n",
    "nrc_lexicon_path = \"NRC-Emotion-Lexicon/NRC-Emotion-Lexicon/NRC-Emotion-Lexicon-Wordlevel-v0.92.txt\"\n",
    "nrc_data = pd.read_csv(nrc_lexicon_path, sep='\\t', header=None, names=['word', 'emotion', 'score'])\n",
    "nrc_data"
   ]
  },
  {
   "cell_type": "code",
   "execution_count": 116,
   "id": "885e5231",
   "metadata": {},
   "outputs": [],
   "source": [
    "atmosphere_by_emotion = {\n",
    "    \"anger\": [\"hostile\", \"aggressive\", \"tense\", \"furious\", \"stormy\"],\n",
    "    \"anticipation\": [\"eager\", \"restless\", \"curious\", \"hopeful\", \"watchful\"],\n",
    "    \"disgust\": [\"repulsive\", \"disturbing\", \"grim\", \"nauseating\"],\n",
    "    \"fear\": [\"terrifying\", \"eerie\", \"paranoid\", \"claustrophobic\", \"ominous\"],\n",
    "    \"joy\": [\"joyful\", \"bright\", \"cheerful\", \"delightful\", \"vibrant\"],\n",
    "    \"sadness\": [\"melancholic\", \"gloomy\", \"somber\", \"tearful\", \"mournful\"],\n",
    "    \"surprise\": [\"shocking\", \"unexpected\", \"abrupt\", \"dramatic\", \"puzzling\"],\n",
    "    \"trust\": [\"calm\", \"secure\", \"warm\", \"gentle\", \"reassuring\"],\n",
    "    \"positive\": [\"peaceful\", \"sunny\", \"harmonious\", \"pleasant\", \"inspiring\"],\n",
    "    \"negative\": [\"bleak\", \"harsh\", \"cold\", \"dark\", \"depressing\"]\n",
    "}\n",
    "\n",
    "# Создаем словарь {слово: [список эмоций]}\n",
    "word_to_emotions = defaultdict(list)\n",
    "for _, row in nrc_data.iterrows():\n",
    "    if row['score'] == 1:\n",
    "        word_to_emotions[row['word']].append(row['emotion'])\n",
    "\n",
    "# Функция для разметки текста\n",
    "def tag_text(text):\n",
    "    words = text.lower().split()\n",
    "    tagged_words = []\n",
    "    emotions_in_text = []\n",
    "    \n",
    "    for word in words:\n",
    "        if word in word_to_emotions:\n",
    "            # Берем первую эмоцию (или можно выбрать случайную/наиболее вероятную)\n",
    "            emotion = word_to_emotions[word][0]  \n",
    "            tagged_words.append(f\"{word}_{emotion}\")\n",
    "            emotions_in_text.append(emotion)\n",
    "    \n",
    "    # Определяем общую атмосферу (самая частая эмоция)\n",
    "    overall_mood = Counter(emotions_in_text).most_common(1)\n",
    "    overall_mood = overall_mood[0][0] if overall_mood else \"neutral\"\n",
    "\n",
    "    # Случайный атмосферный тег из словаря\n",
    "    atmosphere = random.choice(atmosphere_by_emotion.get(overall_mood, [\"neutral\"]))\n",
    "    \n",
    "    return \" \".join(tagged_words), atmosphere"
   ]
  },
  {
   "cell_type": "code",
   "execution_count": 117,
   "id": "e386f821",
   "metadata": {},
   "outputs": [
    {
     "data": {
      "text/html": [
       "<div>\n",
       "<style scoped>\n",
       "    .dataframe tbody tr th:only-of-type {\n",
       "        vertical-align: middle;\n",
       "    }\n",
       "\n",
       "    .dataframe tbody tr th {\n",
       "        vertical-align: top;\n",
       "    }\n",
       "\n",
       "    .dataframe thead th {\n",
       "        text-align: right;\n",
       "    }\n",
       "</style>\n",
       "<table border=\"1\" class=\"dataframe\">\n",
       "  <thead>\n",
       "    <tr style=\"text-align: right;\">\n",
       "      <th></th>\n",
       "      <th>reader</th>\n",
       "      <th>book_id</th>\n",
       "      <th>sent_id</th>\n",
       "      <th>text</th>\n",
       "      <th>pos_tags</th>\n",
       "      <th>ner_tags</th>\n",
       "      <th>source_file</th>\n",
       "      <th>emotion_text</th>\n",
       "      <th>overall_mood</th>\n",
       "    </tr>\n",
       "  </thead>\n",
       "  <tbody>\n",
       "    <tr>\n",
       "      <th>0</th>\n",
       "      <td>103</td>\n",
       "      <td>1240</td>\n",
       "      <td>0</td>\n",
       "      <td>CHAPTER One Missus Rachel Lynde is surprised M...</td>\n",
       "      <td>CHAPTER_NOUN One_NUM Missus_NOUN Rachel_NOUN L...</td>\n",
       "      <td>CHAPTER_ORG Missus Rachel Lynde_PERSON Missus ...</td>\n",
       "      <td>train-clean-100\\LibriSpeech\\train-clean-100\\10...</td>\n",
       "      <td>surprised_surprise main_positive hollow_negative</td>\n",
       "      <td>unexpected</td>\n",
       "    </tr>\n",
       "    <tr>\n",
       "      <th>1</th>\n",
       "      <td>103</td>\n",
       "      <td>1240</td>\n",
       "      <td>1</td>\n",
       "      <td>That had its source away</td>\n",
       "      <td>That_DET had_VERB its_PRON source_NOUN away_ADV</td>\n",
       "      <td>NaN</td>\n",
       "      <td>train-clean-100\\LibriSpeech\\train-clean-100\\10...</td>\n",
       "      <td></td>\n",
       "      <td>neutral</td>\n",
       "    </tr>\n",
       "    <tr>\n",
       "      <th>2</th>\n",
       "      <td>103</td>\n",
       "      <td>1240</td>\n",
       "      <td>2</td>\n",
       "      <td>For not even a brook could run past Missus Rac...</td>\n",
       "      <td>For_ADP not_ADV even_ADV a_DET brook_NOUN coul...</td>\n",
       "      <td>Missus Rachel Lyndes_PERSON</td>\n",
       "      <td>train-clean-100\\LibriSpeech\\train-clean-100\\10...</td>\n",
       "      <td>decency_positive</td>\n",
       "      <td>sunny</td>\n",
       "    </tr>\n",
       "    <tr>\n",
       "      <th>3</th>\n",
       "      <td>103</td>\n",
       "      <td>1240</td>\n",
       "      <td>3</td>\n",
       "      <td>And that if she noticed anything odd or out of...</td>\n",
       "      <td>And_CONJ that_ADP if_ADP she_PRON noticed_VERB...</td>\n",
       "      <td>NaN</td>\n",
       "      <td>train-clean-100\\LibriSpeech\\train-clean-100\\10...</td>\n",
       "      <td>rest_positive</td>\n",
       "      <td>harmonious</td>\n",
       "    </tr>\n",
       "    <tr>\n",
       "      <th>4</th>\n",
       "      <td>103</td>\n",
       "      <td>1240</td>\n",
       "      <td>4</td>\n",
       "      <td>But Missus Rachel Lynde was one of those capab...</td>\n",
       "      <td>But_CONJ Missus_NOUN Rachel_NOUN Lynde_NOUN wa...</td>\n",
       "      <td>Missus Rachel Lynde_PERSON</td>\n",
       "      <td>train-clean-100\\LibriSpeech\\train-clean-100\\10...</td>\n",
       "      <td>manage_positive bargain_positive</td>\n",
       "      <td>harmonious</td>\n",
       "    </tr>\n",
       "    <tr>\n",
       "      <th>...</th>\n",
       "      <td>...</td>\n",
       "      <td>...</td>\n",
       "      <td>...</td>\n",
       "      <td>...</td>\n",
       "      <td>...</td>\n",
       "      <td>...</td>\n",
       "      <td>...</td>\n",
       "      <td>...</td>\n",
       "      <td>...</td>\n",
       "    </tr>\n",
       "    <tr>\n",
       "      <th>28534</th>\n",
       "      <td>911</td>\n",
       "      <td>130578</td>\n",
       "      <td>16</td>\n",
       "      <td>He put an arrow through it and it turned a som...</td>\n",
       "      <td>He_PRON put_VERB an_DET arrow_NOUN through_ADP...</td>\n",
       "      <td>NaN</td>\n",
       "      <td>train-clean-100\\LibriSpeech\\train-clean-100\\91...</td>\n",
       "      <td>fell_negative</td>\n",
       "      <td>depressing</td>\n",
       "    </tr>\n",
       "    <tr>\n",
       "      <th>28535</th>\n",
       "      <td>911</td>\n",
       "      <td>130578</td>\n",
       "      <td>17</td>\n",
       "      <td>And ran away</td>\n",
       "      <td>And_CONJ ran_VERB away_ADV</td>\n",
       "      <td>NaN</td>\n",
       "      <td>train-clean-100\\LibriSpeech\\train-clean-100\\91...</td>\n",
       "      <td></td>\n",
       "      <td>neutral</td>\n",
       "    </tr>\n",
       "    <tr>\n",
       "      <th>28536</th>\n",
       "      <td>911</td>\n",
       "      <td>130578</td>\n",
       "      <td>18</td>\n",
       "      <td>A man suddenly stood before him and asked what...</td>\n",
       "      <td>A_DET man_NOUN suddenly_ADV stood_VERB before_...</td>\n",
       "      <td>NaN</td>\n",
       "      <td>train-clean-100\\LibriSpeech\\train-clean-100\\91...</td>\n",
       "      <td>suddenly_surprise cry_negative</td>\n",
       "      <td>dramatic</td>\n",
       "    </tr>\n",
       "    <tr>\n",
       "      <th>28537</th>\n",
       "      <td>911</td>\n",
       "      <td>130578</td>\n",
       "      <td>19</td>\n",
       "      <td>And then whip the body with a Meral twig and h...</td>\n",
       "      <td>And_CONJ then_ADV whip_VERB the_DET body_NOUN ...</td>\n",
       "      <td>NaN</td>\n",
       "      <td>train-clean-100\\LibriSpeech\\train-clean-100\\91...</td>\n",
       "      <td>whip_anger</td>\n",
       "      <td>hostile</td>\n",
       "    </tr>\n",
       "    <tr>\n",
       "      <th>28538</th>\n",
       "      <td>911</td>\n",
       "      <td>130578</td>\n",
       "      <td>20</td>\n",
       "      <td>I must have been asleep a very long time</td>\n",
       "      <td>I_PRON must_VERB have_VERB been_VERB asleep_AD...</td>\n",
       "      <td>NaN</td>\n",
       "      <td>train-clean-100\\LibriSpeech\\train-clean-100\\91...</td>\n",
       "      <td>long_anticipation time_anticipation</td>\n",
       "      <td>restless</td>\n",
       "    </tr>\n",
       "  </tbody>\n",
       "</table>\n",
       "<p>28539 rows × 9 columns</p>\n",
       "</div>"
      ],
      "text/plain": [
       "       reader  book_id  sent_id  \\\n",
       "0         103     1240        0   \n",
       "1         103     1240        1   \n",
       "2         103     1240        2   \n",
       "3         103     1240        3   \n",
       "4         103     1240        4   \n",
       "...       ...      ...      ...   \n",
       "28534     911   130578       16   \n",
       "28535     911   130578       17   \n",
       "28536     911   130578       18   \n",
       "28537     911   130578       19   \n",
       "28538     911   130578       20   \n",
       "\n",
       "                                                    text  \\\n",
       "0      CHAPTER One Missus Rachel Lynde is surprised M...   \n",
       "1                               That had its source away   \n",
       "2      For not even a brook could run past Missus Rac...   \n",
       "3      And that if she noticed anything odd or out of...   \n",
       "4      But Missus Rachel Lynde was one of those capab...   \n",
       "...                                                  ...   \n",
       "28534  He put an arrow through it and it turned a som...   \n",
       "28535                                       And ran away   \n",
       "28536  A man suddenly stood before him and asked what...   \n",
       "28537  And then whip the body with a Meral twig and h...   \n",
       "28538           I must have been asleep a very long time   \n",
       "\n",
       "                                                pos_tags  \\\n",
       "0      CHAPTER_NOUN One_NUM Missus_NOUN Rachel_NOUN L...   \n",
       "1        That_DET had_VERB its_PRON source_NOUN away_ADV   \n",
       "2      For_ADP not_ADV even_ADV a_DET brook_NOUN coul...   \n",
       "3      And_CONJ that_ADP if_ADP she_PRON noticed_VERB...   \n",
       "4      But_CONJ Missus_NOUN Rachel_NOUN Lynde_NOUN wa...   \n",
       "...                                                  ...   \n",
       "28534  He_PRON put_VERB an_DET arrow_NOUN through_ADP...   \n",
       "28535                         And_CONJ ran_VERB away_ADV   \n",
       "28536  A_DET man_NOUN suddenly_ADV stood_VERB before_...   \n",
       "28537  And_CONJ then_ADV whip_VERB the_DET body_NOUN ...   \n",
       "28538  I_PRON must_VERB have_VERB been_VERB asleep_AD...   \n",
       "\n",
       "                                                ner_tags  \\\n",
       "0      CHAPTER_ORG Missus Rachel Lynde_PERSON Missus ...   \n",
       "1                                                    NaN   \n",
       "2                            Missus Rachel Lyndes_PERSON   \n",
       "3                                                    NaN   \n",
       "4                             Missus Rachel Lynde_PERSON   \n",
       "...                                                  ...   \n",
       "28534                                                NaN   \n",
       "28535                                                NaN   \n",
       "28536                                                NaN   \n",
       "28537                                                NaN   \n",
       "28538                                                NaN   \n",
       "\n",
       "                                             source_file  \\\n",
       "0      train-clean-100\\LibriSpeech\\train-clean-100\\10...   \n",
       "1      train-clean-100\\LibriSpeech\\train-clean-100\\10...   \n",
       "2      train-clean-100\\LibriSpeech\\train-clean-100\\10...   \n",
       "3      train-clean-100\\LibriSpeech\\train-clean-100\\10...   \n",
       "4      train-clean-100\\LibriSpeech\\train-clean-100\\10...   \n",
       "...                                                  ...   \n",
       "28534  train-clean-100\\LibriSpeech\\train-clean-100\\91...   \n",
       "28535  train-clean-100\\LibriSpeech\\train-clean-100\\91...   \n",
       "28536  train-clean-100\\LibriSpeech\\train-clean-100\\91...   \n",
       "28537  train-clean-100\\LibriSpeech\\train-clean-100\\91...   \n",
       "28538  train-clean-100\\LibriSpeech\\train-clean-100\\91...   \n",
       "\n",
       "                                           emotion_text overall_mood  \n",
       "0      surprised_surprise main_positive hollow_negative   unexpected  \n",
       "1                                                            neutral  \n",
       "2                                      decency_positive        sunny  \n",
       "3                                         rest_positive   harmonious  \n",
       "4                      manage_positive bargain_positive   harmonious  \n",
       "...                                                 ...          ...  \n",
       "28534                                     fell_negative   depressing  \n",
       "28535                                                        neutral  \n",
       "28536                    suddenly_surprise cry_negative     dramatic  \n",
       "28537                                        whip_anger      hostile  \n",
       "28538               long_anticipation time_anticipation     restless  \n",
       "\n",
       "[28539 rows x 9 columns]"
      ]
     },
     "execution_count": 117,
     "metadata": {},
     "output_type": "execute_result"
    }
   ],
   "source": [
    "# Применяем функцию к DataFrame\n",
    "df[[\"emotion_text\", \"overall_mood\"]] = df[\"text\"].apply(lambda x: pd.Series(tag_text(x)))\n",
    "df"
   ]
  },
  {
   "cell_type": "code",
   "execution_count": 118,
   "id": "297b750b",
   "metadata": {},
   "outputs": [],
   "source": [
    "df.to_csv('all_mark_text.csv', index = False)"
   ]
  },
  {
   "cell_type": "code",
   "execution_count": 119,
   "id": "67c340fc",
   "metadata": {},
   "outputs": [
    {
     "data": {
      "text/plain": [
       "overall_mood\n",
       "neutral           7411\n",
       "peaceful          1188\n",
       "sunny             1175\n",
       "pleasant          1125\n",
       "harmonious        1117\n",
       "inspiring         1083\n",
       "restless           967\n",
       "watchful           957\n",
       "curious            956\n",
       "eager              900\n",
       "hopeful            865\n",
       "aggressive         663\n",
       "tense              609\n",
       "furious            608\n",
       "stormy             606\n",
       "hostile            589\n",
       "depressing         503\n",
       "dark               496\n",
       "cold               476\n",
       "bleak              474\n",
       "harsh              468\n",
       "vibrant            347\n",
       "delightful         341\n",
       "joyful             335\n",
       "bright             327\n",
       "cheerful           325\n",
       "terrifying         290\n",
       "eerie              290\n",
       "paranoid           281\n",
       "ominous            265\n",
       "claustrophobic     261\n",
       "secure             229\n",
       "calm               225\n",
       "warm               220\n",
       "gentle             210\n",
       "reassuring         196\n",
       "grim               168\n",
       "repulsive          166\n",
       "nauseating         166\n",
       "disturbing         156\n",
       "unexpected          74\n",
       "dramatic            68\n",
       "abrupt              63\n",
       "puzzling            56\n",
       "shocking            49\n",
       "melancholic         44\n",
       "somber              42\n",
       "mournful            41\n",
       "tearful             38\n",
       "gloomy              30\n",
       "Name: count, dtype: int64"
      ]
     },
     "execution_count": 119,
     "metadata": {},
     "output_type": "execute_result"
    }
   ],
   "source": [
    "df['overall_mood'].value_counts()"
   ]
  },
  {
   "cell_type": "code",
   "execution_count": 110,
   "id": "c7a6d550",
   "metadata": {},
   "outputs": [
    {
     "data": {
      "text/plain": [
       "GENRE\n",
       "Fiction                270\n",
       "Children / Juvenile    116\n",
       "Non-fiction             76\n",
       "Fantasy / Sci-Fi        63\n",
       "Poetry / Short Form     23\n",
       "Mystery / Crime         21\n",
       "Other                   14\n",
       "Unknown                  2\n",
       "Name: count, dtype: int64"
      ]
     },
     "execution_count": 110,
     "metadata": {},
     "output_type": "execute_result"
    }
   ],
   "source": [
    "# Расширенный маппинг жанров на обобщённые категории\n",
    "extended_genre_map = {\n",
    "    # Fiction\n",
    "    'Fiction': 'Fiction',\n",
    "    'Historical fiction': 'Fiction',\n",
    "    'Psychological fiction': 'Fiction',\n",
    "    'Political fiction': 'Fiction',\n",
    "    'Love stories': 'Fiction',\n",
    "    ' Fiction': 'Fiction',\n",
    "    'Fiction\"': 'Fiction',\n",
    "    'Western stories': 'Fiction',\n",
    "    'Utopias': 'Fiction',\n",
    "\n",
    "    # Fantasy / Sci-Fi\n",
    "    'Science fiction': 'Fantasy / Sci-Fi',\n",
    "    'Paranormal fiction': 'Fantasy / Sci-Fi',\n",
    "    'Fantasy fiction': 'Fantasy / Sci-Fi',\n",
    "    'Fantasy literature': 'Fantasy / Sci-Fi',\n",
    "    'Mythology': 'Fantasy / Sci-Fi',\n",
    "    'Ghost stories': 'Fantasy / Sci-Fi',\n",
    "\n",
    "    # Mystery / Crime\n",
    "    'Detective': 'Mystery / Crime',\n",
    "    'Crime': 'Mystery / Crime',\n",
    "    'Mystery fiction': 'Mystery / Crime',\n",
    "    'Detective and mystery stories': 'Mystery / Crime',\n",
    "    'Corrupt practices': 'Mystery / Crime',\n",
    "\n",
    "    # Children / Juvenile\n",
    "    'Juvenile fiction': 'Children / Juvenile',\n",
    "    \"Children's stories\": 'Children / Juvenile',\n",
    "    'Fairy tales': 'Children / Juvenile',\n",
    "    'Folklore': 'Children / Juvenile',\n",
    "    \"Children's literature\": 'Children / Juvenile',\n",
    "\n",
    "    # Non-fiction\n",
    "    'Biography': 'Non-fiction',\n",
    "    'Cooking': 'Non-fiction',\n",
    "    'Cooking (Fish)': 'Non-fiction',\n",
    "    'Description and travel': 'Non-fiction',\n",
    "    'Ethics': 'Non-fiction',\n",
    "    'Psychology': 'Non-fiction',\n",
    "    'Mental healing': 'Non-fiction',\n",
    "    'Inspiration': 'Non-fiction',\n",
    "    'Philosophy': 'Non-fiction',\n",
    "    'Doctrines': 'Non-fiction',\n",
    "    'Essays': 'Non-fiction',\n",
    "    'Economics': 'Non-fiction',\n",
    "    'Bible': 'Non-fiction',\n",
    "    'Encyclopedias and dictionaries': 'Non-fiction',\n",
    "    'History': 'Non-fiction',\n",
    "    'Civilization': 'Non-fiction',\n",
    "    'Marriage': 'Non-fiction',\n",
    "    'Yosemite National Park (Calif.); Yosemite Valley (Calif.)': 'Non-fiction',\n",
    "    'Indians of North America': 'Non-fiction',\n",
    "    'Overland journeys to the Pacific': 'Non-fiction',\n",
    "    'Voyages around the world': 'Non-fiction',\n",
    "    'Representative government and representation': 'Non-fiction',\n",
    "    'Character; Conduct of life': 'Non-fiction',\n",
    "    'Food supply': 'Non-fiction',\n",
    "    'Terms and phrases': 'Non-fiction',\n",
    "\n",
    "    # Poetry / Short Form\n",
    "    'Poetry': 'Poetry / Short Form',\n",
    "    'Short stories': 'Poetry / Short Form',\n",
    "    'Melancholy': 'Poetry / Short Form',\n",
    "    'Musical notation': 'Poetry / Short Form',\n",
    "    'Meditations': 'Poetry / Short Form',\n",
    "    'Humor': 'Poetry / Short Form',\n",
    "\n",
    "    # Other\n",
    "    'Motion pictures': 'Other',\n",
    "    'Music': 'Other',\n",
    "    'Spiritual life': 'Other',\n",
    "    'Patterns': 'Other',\n",
    "    'Physical geography': 'Other',\n",
    "    'Suffrage': 'Other',\n",
    "    'Hypnotism': 'Other',\n",
    "    'Personality': 'Other',\n",
    "    'Senses and sensation': 'Other',\n",
    "    'Psychoanalysis': 'Other',\n",
    "    'Heroes': 'Other',\n",
    "\n",
    "    # Unknown\n",
    "    'Not Found': 'Unknown'\n",
    "}\n",
    "\n",
    "# Замена значений\n",
    "data['GENRE'] = data['GENRE'].map(extended_genre_map).fillna('Other')\n",
    "\n",
    "# Сводка по категориям\n",
    "data['GENRE'].value_counts()\n"
   ]
  },
  {
   "cell_type": "code",
   "execution_count": null,
   "id": "5cfd077c",
   "metadata": {},
   "outputs": [
    {
     "name": "stdout",
     "output_type": "stream",
     "text": [
      "CSV создан: annotations_template.csv (найдено 5148 изображений)\n"
     ]
    }
   ],
   "source": [
    "# Укажи корневую папку с BOOK ID-папками\n",
    "root_dir = \"book_illustrations\"  # ← замени на свой путь\n",
    "output_csv = \"annotations_template.csv\"\n",
    "\n",
    "image_extensions = {\".mp3\"}\n",
    "\n",
    "rows = []\n",
    "\n",
    "for book_id in os.listdir(root_dir):\n",
    "    book_path = os.path.join(root_dir, book_id)\n",
    "    if os.path.isdir(book_path):\n",
    "        for fname in os.listdir(book_path):\n",
    "            ext = os.path.splitext(fname)[1].lower()\n",
    "            if ext in image_extensions:\n",
    "                image_path = os.path.join(book_path, fname)\n",
    "                rows.append([book_id, image_path, \"\", \"\", \"\", \"\"])\n",
    "\n",
    "# Сохраняем в CSV\n",
    "with open(output_csv, mode=\"w\", newline=\"\", encoding=\"utf-8\") as f:\n",
    "    writer = csv.writer(f)\n",
    "    writer.writerow([\"BOOK ID\", \"filename\", \"scene\", \"characters\", \"style\", \"attributes\"])\n",
    "    writer.writerows(rows)\n",
    "\n",
    "print(f\"CSV создан: {output_csv} (найдено {len(rows)} изображений)\")"
   ]
  },
  {
   "cell_type": "code",
   "execution_count": null,
   "id": "24c0624f",
   "metadata": {},
   "outputs": [],
   "source": [
    "# Жанровые метки\n",
    "genre_labels = {\n",
    "    \"Fiction\": [\"calm\", \"melancholic\", \"tense\", \"emotional\", \"reflective\"],\n",
    "    \"Children / Juvenile\": [\"cheerful\", \"curious\", \"playful\", \"instructive\", \"carefree\"],\n",
    "    \"Non-fiction\": [\"neutral\", \"confident\", \"inspiring\", \"formal\", \"thoughtful\"],\n",
    "    \"Fantasy / Sci-Fi\": [\"mysterious\", \"epic\", \"tense\", \"enthusiastic\", \"surprised\"],\n",
    "    \"Poetry / Short Form\": [\"lyrical\", \"dreamy\", \"sad\", \"solemn\", \"contemplative\"],\n",
    "    \"Mystery / Crime\": [\"intriguing\", \"tense\", \"suspicious\", \"cold\", \"shocked\"]\n",
    "}\n",
    "\n",
    "# Загрузим справочник с жанрами\n",
    "genre_map = {}\n",
    "with open(\"train_with_genre.csv\", newline='', encoding='utf-8') as f:\n",
    "    reader = csv.DictReader(f)\n",
    "    for row in reader:\n",
    "        key = (str(row[\"READER\"]), str(row[\"ID\"]).zfill(4))\n",
    "        genre_map[key] = {\n",
    "            \"book_id\": str(row[\"BOOK ID\"]),\n",
    "            \"genre\": row.get(\"GENRE\", \"\").strip()\n",
    "        }\n",
    "\n",
    "# Сохраняем строки по ID\n",
    "grouped_by_id = defaultdict(list)\n",
    "\n",
    "# Пройдём по аудиофайлам\n",
    "for filepath in glob.glob(\"train-clean-100/LibriSpeech/train-clean-100/*/*/*.wav\"):\n",
    "    parts = filepath.split(os.sep)\n",
    "    reader = str(parts[-3])\n",
    "    filename = os.path.basename(filepath)\n",
    "    id_part = filename.split(\".\")[0].split(\"-\")[-2].zfill(4)\n",
    "\n",
    "    key = (reader, id_part)\n",
    "    book_info = genre_map.get(key)\n",
    "\n",
    "    if not book_info:\n",
    "        print(f\"Нет BOOK ID или GENRE для {key}\")\n",
    "        continue\n",
    "\n",
    "    genre = book_info[\"genre\"]\n",
    "    book_id = book_info[\"book_id\"]\n",
    "\n",
    "    label_options = genre_labels.get(genre, [\"neutral\"])\n",
    "    label = random.choice(label_options)\n",
    "\n",
    "    grouped_by_id[id_part].append({\n",
    "        \"ID\": id_part,\n",
    "        \"READER\": reader,\n",
    "        \"BOOK ID\": book_id,\n",
    "        \"start\": '',\n",
    "        \"end\": '',\n",
    "        \"label\": label,\n",
    "        \"temp\": '',\n",
    "        \"speaker's gender\": '',\n",
    "        \"source_file\": filepath\n",
    "    })\n",
    "\n",
    "# Присваиваем token_id и формируем итог\n",
    "output = []\n",
    "for id_part, rows in grouped_by_id.items():\n",
    "    for i, row in enumerate(rows):\n",
    "        row[\"token_id\"] = i\n",
    "        output.append(row)\n",
    "\n",
    "# Сохраняем CSV\n",
    "fieldnames = [\"ID\", \"READER\", \"BOOK ID\", \"token_id\", \"start\", \"end\", \"label\", \"temp\", \"speaker's gender\", \"source_file\"]\n",
    "with open(\"all_mark_audio.csv\", \"w\", newline='', encoding='utf-8') as f:\n",
    "    writer = csv.DictWriter(f, fieldnames=fieldnames)\n",
    "    writer.writeheader()\n",
    "    writer.writerows(output)\n"
   ]
  },
  {
   "cell_type": "code",
   "execution_count": 147,
   "id": "8ba881fc",
   "metadata": {},
   "outputs": [
    {
     "name": "stderr",
     "output_type": "stream",
     "text": [
      "100%|██████████| 28539/28539 [03:53<00:00, 122.12it/s]\n"
     ]
    }
   ],
   "source": [
    "# Загрузка DataFrame\n",
    "df = pd.read_csv(\"all_mark_audio.csv\")\n",
    "\n",
    "# Функция для получения длительности файла\n",
    "def get_duration(file_path):\n",
    "    try:\n",
    "        y, sr = librosa.load(file_path, sr=None)\n",
    "        return 0.0, round(librosa.get_duration(y=y, sr=sr), 3)\n",
    "    except Exception as e:\n",
    "        print(f\"Ошибка при обработке файла {file_path}: {e}\")\n",
    "        return None, None\n",
    "\n",
    "# Применение функции к каждой строке\n",
    "starts, ends = [], []\n",
    "for path in tqdm(df['source_file']):\n",
    "    normalized_path = os.path.normpath(path)\n",
    "    start, end = get_duration(normalized_path)\n",
    "    starts.append(start)\n",
    "    ends.append(end)\n",
    "\n",
    "df['start'] = starts\n",
    "df['end'] = ends\n",
    "\n",
    "# Сохранение результата\n",
    "df.to_csv(\"updated_file.csv\", index=False)"
   ]
  },
  {
   "cell_type": "code",
   "execution_count": 154,
   "id": "b009dbb2",
   "metadata": {},
   "outputs": [
    {
     "data": {
      "text/html": [
       "<div>\n",
       "<style scoped>\n",
       "    .dataframe tbody tr th:only-of-type {\n",
       "        vertical-align: middle;\n",
       "    }\n",
       "\n",
       "    .dataframe tbody tr th {\n",
       "        vertical-align: top;\n",
       "    }\n",
       "\n",
       "    .dataframe thead th {\n",
       "        text-align: right;\n",
       "    }\n",
       "</style>\n",
       "<table border=\"1\" class=\"dataframe\">\n",
       "  <thead>\n",
       "    <tr style=\"text-align: right;\">\n",
       "      <th></th>\n",
       "      <th>ID</th>\n",
       "      <th>READER</th>\n",
       "      <th>BOOK ID</th>\n",
       "      <th>token_id</th>\n",
       "      <th>start</th>\n",
       "      <th>end</th>\n",
       "      <th>label</th>\n",
       "      <th>temp</th>\n",
       "      <th>speaker's gender</th>\n",
       "      <th>source_file</th>\n",
       "      <th>text</th>\n",
       "    </tr>\n",
       "  </thead>\n",
       "  <tbody>\n",
       "    <tr>\n",
       "      <th>0</th>\n",
       "      <td>1240</td>\n",
       "      <td>103</td>\n",
       "      <td>45</td>\n",
       "      <td>0</td>\n",
       "      <td>0.0</td>\n",
       "      <td>14.085</td>\n",
       "      <td>emotional</td>\n",
       "      <td>NaN</td>\n",
       "      <td>female</td>\n",
       "      <td>train-clean-100/LibriSpeech/train-clean-100\\10...</td>\n",
       "      <td>34</td>\n",
       "    </tr>\n",
       "    <tr>\n",
       "      <th>1</th>\n",
       "      <td>1240</td>\n",
       "      <td>103</td>\n",
       "      <td>45</td>\n",
       "      <td>1</td>\n",
       "      <td>0.0</td>\n",
       "      <td>15.945</td>\n",
       "      <td>melancholic</td>\n",
       "      <td>NaN</td>\n",
       "      <td>female</td>\n",
       "      <td>train-clean-100/LibriSpeech/train-clean-100\\10...</td>\n",
       "      <td>5</td>\n",
       "    </tr>\n",
       "    <tr>\n",
       "      <th>2</th>\n",
       "      <td>1240</td>\n",
       "      <td>103</td>\n",
       "      <td>45</td>\n",
       "      <td>2</td>\n",
       "      <td>0.0</td>\n",
       "      <td>13.945</td>\n",
       "      <td>reflective</td>\n",
       "      <td>NaN</td>\n",
       "      <td>female</td>\n",
       "      <td>train-clean-100/LibriSpeech/train-clean-100\\10...</td>\n",
       "      <td>19</td>\n",
       "    </tr>\n",
       "    <tr>\n",
       "      <th>3</th>\n",
       "      <td>1240</td>\n",
       "      <td>103</td>\n",
       "      <td>45</td>\n",
       "      <td>3</td>\n",
       "      <td>0.0</td>\n",
       "      <td>14.710</td>\n",
       "      <td>tense</td>\n",
       "      <td>NaN</td>\n",
       "      <td>female</td>\n",
       "      <td>train-clean-100/LibriSpeech/train-clean-100\\10...</td>\n",
       "      <td>25</td>\n",
       "    </tr>\n",
       "    <tr>\n",
       "      <th>4</th>\n",
       "      <td>1240</td>\n",
       "      <td>103</td>\n",
       "      <td>45</td>\n",
       "      <td>4</td>\n",
       "      <td>0.0</td>\n",
       "      <td>12.515</td>\n",
       "      <td>melancholic</td>\n",
       "      <td>NaN</td>\n",
       "      <td>female</td>\n",
       "      <td>train-clean-100/LibriSpeech/train-clean-100\\10...</td>\n",
       "      <td>24</td>\n",
       "    </tr>\n",
       "    <tr>\n",
       "      <th>...</th>\n",
       "      <td>...</td>\n",
       "      <td>...</td>\n",
       "      <td>...</td>\n",
       "      <td>...</td>\n",
       "      <td>...</td>\n",
       "      <td>...</td>\n",
       "      <td>...</td>\n",
       "      <td>...</td>\n",
       "      <td>...</td>\n",
       "      <td>...</td>\n",
       "      <td>...</td>\n",
       "    </tr>\n",
       "    <tr>\n",
       "      <th>28534</th>\n",
       "      <td>130578</td>\n",
       "      <td>911</td>\n",
       "      <td>11938</td>\n",
       "      <td>16</td>\n",
       "      <td>0.0</td>\n",
       "      <td>5.080</td>\n",
       "      <td>cheerful</td>\n",
       "      <td>NaN</td>\n",
       "      <td>male</td>\n",
       "      <td>train-clean-100/LibriSpeech/train-clean-100\\91...</td>\n",
       "      <td>15</td>\n",
       "    </tr>\n",
       "    <tr>\n",
       "      <th>28535</th>\n",
       "      <td>130578</td>\n",
       "      <td>911</td>\n",
       "      <td>11938</td>\n",
       "      <td>17</td>\n",
       "      <td>0.0</td>\n",
       "      <td>15.165</td>\n",
       "      <td>instructive</td>\n",
       "      <td>NaN</td>\n",
       "      <td>male</td>\n",
       "      <td>train-clean-100/LibriSpeech/train-clean-100\\91...</td>\n",
       "      <td>3</td>\n",
       "    </tr>\n",
       "    <tr>\n",
       "      <th>28536</th>\n",
       "      <td>130578</td>\n",
       "      <td>911</td>\n",
       "      <td>11938</td>\n",
       "      <td>18</td>\n",
       "      <td>0.0</td>\n",
       "      <td>12.440</td>\n",
       "      <td>carefree</td>\n",
       "      <td>NaN</td>\n",
       "      <td>male</td>\n",
       "      <td>train-clean-100/LibriSpeech/train-clean-100\\91...</td>\n",
       "      <td>20</td>\n",
       "    </tr>\n",
       "    <tr>\n",
       "      <th>28537</th>\n",
       "      <td>130578</td>\n",
       "      <td>911</td>\n",
       "      <td>11938</td>\n",
       "      <td>19</td>\n",
       "      <td>0.0</td>\n",
       "      <td>14.655</td>\n",
       "      <td>carefree</td>\n",
       "      <td>NaN</td>\n",
       "      <td>male</td>\n",
       "      <td>train-clean-100/LibriSpeech/train-clean-100\\91...</td>\n",
       "      <td>15</td>\n",
       "    </tr>\n",
       "    <tr>\n",
       "      <th>28538</th>\n",
       "      <td>130578</td>\n",
       "      <td>911</td>\n",
       "      <td>11938</td>\n",
       "      <td>20</td>\n",
       "      <td>0.0</td>\n",
       "      <td>8.415</td>\n",
       "      <td>carefree</td>\n",
       "      <td>NaN</td>\n",
       "      <td>male</td>\n",
       "      <td>train-clean-100/LibriSpeech/train-clean-100\\91...</td>\n",
       "      <td>9</td>\n",
       "    </tr>\n",
       "  </tbody>\n",
       "</table>\n",
       "<p>28539 rows × 11 columns</p>\n",
       "</div>"
      ],
      "text/plain": [
       "           ID  READER  BOOK ID  token_id  start     end        label  temp  \\\n",
       "0        1240     103       45         0    0.0  14.085    emotional   NaN   \n",
       "1        1240     103       45         1    0.0  15.945  melancholic   NaN   \n",
       "2        1240     103       45         2    0.0  13.945   reflective   NaN   \n",
       "3        1240     103       45         3    0.0  14.710        tense   NaN   \n",
       "4        1240     103       45         4    0.0  12.515  melancholic   NaN   \n",
       "...       ...     ...      ...       ...    ...     ...          ...   ...   \n",
       "28534  130578     911    11938        16    0.0   5.080     cheerful   NaN   \n",
       "28535  130578     911    11938        17    0.0  15.165  instructive   NaN   \n",
       "28536  130578     911    11938        18    0.0  12.440     carefree   NaN   \n",
       "28537  130578     911    11938        19    0.0  14.655     carefree   NaN   \n",
       "28538  130578     911    11938        20    0.0   8.415     carefree   NaN   \n",
       "\n",
       "      speaker's gender                                        source_file  \\\n",
       "0               female  train-clean-100/LibriSpeech/train-clean-100\\10...   \n",
       "1               female  train-clean-100/LibriSpeech/train-clean-100\\10...   \n",
       "2               female  train-clean-100/LibriSpeech/train-clean-100\\10...   \n",
       "3               female  train-clean-100/LibriSpeech/train-clean-100\\10...   \n",
       "4               female  train-clean-100/LibriSpeech/train-clean-100\\10...   \n",
       "...                ...                                                ...   \n",
       "28534             male  train-clean-100/LibriSpeech/train-clean-100\\91...   \n",
       "28535             male  train-clean-100/LibriSpeech/train-clean-100\\91...   \n",
       "28536             male  train-clean-100/LibriSpeech/train-clean-100\\91...   \n",
       "28537             male  train-clean-100/LibriSpeech/train-clean-100\\91...   \n",
       "28538             male  train-clean-100/LibriSpeech/train-clean-100\\91...   \n",
       "\n",
       "       text  \n",
       "0        34  \n",
       "1         5  \n",
       "2        19  \n",
       "3        25  \n",
       "4        24  \n",
       "...     ...  \n",
       "28534    15  \n",
       "28535     3  \n",
       "28536    20  \n",
       "28537    15  \n",
       "28538     9  \n",
       "\n",
       "[28539 rows x 11 columns]"
      ]
     },
     "execution_count": 154,
     "metadata": {},
     "output_type": "execute_result"
    }
   ],
   "source": [
    "# Загрузка основного датафрейма с аудио (где нужно заполнить 'words')\n",
    "df_audio = pd.read_csv(\"all_mark_audio.csv\")\n",
    "\n",
    "# Загрузка датафрейма с текстами\n",
    "df_text = pd.read_csv(\"all_mark_text.csv\")\n",
    "\n",
    "# Убедимся, что token_id — числовой (важно для join)\n",
    "df_audio['token_id'] = df_audio['token_id'].astype(int)\n",
    "df_text['token_id'] = df_text['token_id'].astype(int)\n",
    "\n",
    "# Добавим колонку с числом слов в текстовом df\n",
    "df_text['text'] = df_text['text'].fillna(\"\").apply(lambda x: len(str(x).split()))\n",
    "\n",
    "# Объединим по READER, ID и token_id\n",
    "df_audio = df_audio.merge(\n",
    "    df_text[['READER', 'ID', 'token_id', 'text']],\n",
    "    on=['READER', 'ID', 'token_id'],\n",
    "    how='left'\n",
    ")\n",
    "df_audio"
   ]
  },
  {
   "cell_type": "code",
   "execution_count": null,
   "id": "4524d49e",
   "metadata": {},
   "outputs": [
    {
     "data": {
      "text/html": [
       "<div>\n",
       "<style scoped>\n",
       "    .dataframe tbody tr th:only-of-type {\n",
       "        vertical-align: middle;\n",
       "    }\n",
       "\n",
       "    .dataframe tbody tr th {\n",
       "        vertical-align: top;\n",
       "    }\n",
       "\n",
       "    .dataframe thead th {\n",
       "        text-align: right;\n",
       "    }\n",
       "</style>\n",
       "<table border=\"1\" class=\"dataframe\">\n",
       "  <thead>\n",
       "    <tr style=\"text-align: right;\">\n",
       "      <th></th>\n",
       "      <th>ID</th>\n",
       "      <th>READER</th>\n",
       "      <th>BOOK ID</th>\n",
       "      <th>token_id</th>\n",
       "      <th>start</th>\n",
       "      <th>end</th>\n",
       "      <th>label</th>\n",
       "      <th>temp</th>\n",
       "      <th>speaker's gender</th>\n",
       "      <th>source_file</th>\n",
       "      <th>text</th>\n",
       "      <th>duration</th>\n",
       "      <th>wpm</th>\n",
       "    </tr>\n",
       "  </thead>\n",
       "  <tbody>\n",
       "    <tr>\n",
       "      <th>0</th>\n",
       "      <td>1240</td>\n",
       "      <td>103</td>\n",
       "      <td>45</td>\n",
       "      <td>0</td>\n",
       "      <td>0.0</td>\n",
       "      <td>14.085</td>\n",
       "      <td>emotional</td>\n",
       "      <td>norm</td>\n",
       "      <td>female</td>\n",
       "      <td>train-clean-100/LibriSpeech/train-clean-100\\10...</td>\n",
       "      <td>34</td>\n",
       "      <td>14.085</td>\n",
       "      <td>2.413916</td>\n",
       "    </tr>\n",
       "    <tr>\n",
       "      <th>1</th>\n",
       "      <td>1240</td>\n",
       "      <td>103</td>\n",
       "      <td>45</td>\n",
       "      <td>1</td>\n",
       "      <td>0.0</td>\n",
       "      <td>15.945</td>\n",
       "      <td>melancholic</td>\n",
       "      <td>slow</td>\n",
       "      <td>female</td>\n",
       "      <td>train-clean-100/LibriSpeech/train-clean-100\\10...</td>\n",
       "      <td>5</td>\n",
       "      <td>15.945</td>\n",
       "      <td>0.313578</td>\n",
       "    </tr>\n",
       "    <tr>\n",
       "      <th>2</th>\n",
       "      <td>1240</td>\n",
       "      <td>103</td>\n",
       "      <td>45</td>\n",
       "      <td>2</td>\n",
       "      <td>0.0</td>\n",
       "      <td>13.945</td>\n",
       "      <td>reflective</td>\n",
       "      <td>slow</td>\n",
       "      <td>female</td>\n",
       "      <td>train-clean-100/LibriSpeech/train-clean-100\\10...</td>\n",
       "      <td>19</td>\n",
       "      <td>13.945</td>\n",
       "      <td>1.362496</td>\n",
       "    </tr>\n",
       "    <tr>\n",
       "      <th>3</th>\n",
       "      <td>1240</td>\n",
       "      <td>103</td>\n",
       "      <td>45</td>\n",
       "      <td>3</td>\n",
       "      <td>0.0</td>\n",
       "      <td>14.710</td>\n",
       "      <td>tense</td>\n",
       "      <td>norm</td>\n",
       "      <td>female</td>\n",
       "      <td>train-clean-100/LibriSpeech/train-clean-100\\10...</td>\n",
       "      <td>25</td>\n",
       "      <td>14.710</td>\n",
       "      <td>1.699524</td>\n",
       "    </tr>\n",
       "    <tr>\n",
       "      <th>4</th>\n",
       "      <td>1240</td>\n",
       "      <td>103</td>\n",
       "      <td>45</td>\n",
       "      <td>4</td>\n",
       "      <td>0.0</td>\n",
       "      <td>12.515</td>\n",
       "      <td>melancholic</td>\n",
       "      <td>norm</td>\n",
       "      <td>female</td>\n",
       "      <td>train-clean-100/LibriSpeech/train-clean-100\\10...</td>\n",
       "      <td>24</td>\n",
       "      <td>12.515</td>\n",
       "      <td>1.917699</td>\n",
       "    </tr>\n",
       "    <tr>\n",
       "      <th>...</th>\n",
       "      <td>...</td>\n",
       "      <td>...</td>\n",
       "      <td>...</td>\n",
       "      <td>...</td>\n",
       "      <td>...</td>\n",
       "      <td>...</td>\n",
       "      <td>...</td>\n",
       "      <td>...</td>\n",
       "      <td>...</td>\n",
       "      <td>...</td>\n",
       "      <td>...</td>\n",
       "      <td>...</td>\n",
       "      <td>...</td>\n",
       "    </tr>\n",
       "    <tr>\n",
       "      <th>28534</th>\n",
       "      <td>130578</td>\n",
       "      <td>911</td>\n",
       "      <td>11938</td>\n",
       "      <td>16</td>\n",
       "      <td>0.0</td>\n",
       "      <td>5.080</td>\n",
       "      <td>cheerful</td>\n",
       "      <td>fast</td>\n",
       "      <td>male</td>\n",
       "      <td>train-clean-100/LibriSpeech/train-clean-100\\91...</td>\n",
       "      <td>15</td>\n",
       "      <td>5.080</td>\n",
       "      <td>2.952756</td>\n",
       "    </tr>\n",
       "    <tr>\n",
       "      <th>28535</th>\n",
       "      <td>130578</td>\n",
       "      <td>911</td>\n",
       "      <td>11938</td>\n",
       "      <td>17</td>\n",
       "      <td>0.0</td>\n",
       "      <td>15.165</td>\n",
       "      <td>instructive</td>\n",
       "      <td>slow</td>\n",
       "      <td>male</td>\n",
       "      <td>train-clean-100/LibriSpeech/train-clean-100\\91...</td>\n",
       "      <td>3</td>\n",
       "      <td>15.165</td>\n",
       "      <td>0.197824</td>\n",
       "    </tr>\n",
       "    <tr>\n",
       "      <th>28536</th>\n",
       "      <td>130578</td>\n",
       "      <td>911</td>\n",
       "      <td>11938</td>\n",
       "      <td>18</td>\n",
       "      <td>0.0</td>\n",
       "      <td>12.440</td>\n",
       "      <td>carefree</td>\n",
       "      <td>norm</td>\n",
       "      <td>male</td>\n",
       "      <td>train-clean-100/LibriSpeech/train-clean-100\\91...</td>\n",
       "      <td>20</td>\n",
       "      <td>12.440</td>\n",
       "      <td>1.607717</td>\n",
       "    </tr>\n",
       "    <tr>\n",
       "      <th>28537</th>\n",
       "      <td>130578</td>\n",
       "      <td>911</td>\n",
       "      <td>11938</td>\n",
       "      <td>19</td>\n",
       "      <td>0.0</td>\n",
       "      <td>14.655</td>\n",
       "      <td>carefree</td>\n",
       "      <td>slow</td>\n",
       "      <td>male</td>\n",
       "      <td>train-clean-100/LibriSpeech/train-clean-100\\91...</td>\n",
       "      <td>15</td>\n",
       "      <td>14.655</td>\n",
       "      <td>1.023541</td>\n",
       "    </tr>\n",
       "    <tr>\n",
       "      <th>28538</th>\n",
       "      <td>130578</td>\n",
       "      <td>911</td>\n",
       "      <td>11938</td>\n",
       "      <td>20</td>\n",
       "      <td>0.0</td>\n",
       "      <td>8.415</td>\n",
       "      <td>carefree</td>\n",
       "      <td>slow</td>\n",
       "      <td>male</td>\n",
       "      <td>train-clean-100/LibriSpeech/train-clean-100\\91...</td>\n",
       "      <td>9</td>\n",
       "      <td>8.415</td>\n",
       "      <td>1.069519</td>\n",
       "    </tr>\n",
       "  </tbody>\n",
       "</table>\n",
       "<p>28539 rows × 13 columns</p>\n",
       "</div>"
      ],
      "text/plain": [
       "           ID  READER  BOOK ID  token_id  start     end        label  temp  \\\n",
       "0        1240     103       45         0    0.0  14.085    emotional  norm   \n",
       "1        1240     103       45         1    0.0  15.945  melancholic  slow   \n",
       "2        1240     103       45         2    0.0  13.945   reflective  slow   \n",
       "3        1240     103       45         3    0.0  14.710        tense  norm   \n",
       "4        1240     103       45         4    0.0  12.515  melancholic  norm   \n",
       "...       ...     ...      ...       ...    ...     ...          ...   ...   \n",
       "28534  130578     911    11938        16    0.0   5.080     cheerful  fast   \n",
       "28535  130578     911    11938        17    0.0  15.165  instructive  slow   \n",
       "28536  130578     911    11938        18    0.0  12.440     carefree  norm   \n",
       "28537  130578     911    11938        19    0.0  14.655     carefree  slow   \n",
       "28538  130578     911    11938        20    0.0   8.415     carefree  slow   \n",
       "\n",
       "      speaker's gender                                        source_file  \\\n",
       "0               female  train-clean-100/LibriSpeech/train-clean-100\\10...   \n",
       "1               female  train-clean-100/LibriSpeech/train-clean-100\\10...   \n",
       "2               female  train-clean-100/LibriSpeech/train-clean-100\\10...   \n",
       "3               female  train-clean-100/LibriSpeech/train-clean-100\\10...   \n",
       "4               female  train-clean-100/LibriSpeech/train-clean-100\\10...   \n",
       "...                ...                                                ...   \n",
       "28534             male  train-clean-100/LibriSpeech/train-clean-100\\91...   \n",
       "28535             male  train-clean-100/LibriSpeech/train-clean-100\\91...   \n",
       "28536             male  train-clean-100/LibriSpeech/train-clean-100\\91...   \n",
       "28537             male  train-clean-100/LibriSpeech/train-clean-100\\91...   \n",
       "28538             male  train-clean-100/LibriSpeech/train-clean-100\\91...   \n",
       "\n",
       "       text  duration       wpm  \n",
       "0        34    14.085  2.413916  \n",
       "1         5    15.945  0.313578  \n",
       "2        19    13.945  1.362496  \n",
       "3        25    14.710  1.699524  \n",
       "4        24    12.515  1.917699  \n",
       "...     ...       ...       ...  \n",
       "28534    15     5.080  2.952756  \n",
       "28535     3    15.165  0.197824  \n",
       "28536    20    12.440  1.607717  \n",
       "28537    15    14.655  1.023541  \n",
       "28538     9     8.415  1.069519  \n",
       "\n",
       "[28539 rows x 13 columns]"
      ]
     },
     "execution_count": 156,
     "metadata": {},
     "output_type": "execute_result"
    }
   ],
   "source": [
    "# Функция для получения длительности аудио\n",
    "def get_duration(file_path):\n",
    "    try:\n",
    "        y, sr = librosa.load(file_path, sr=None)\n",
    "        return librosa.get_duration(y=y, sr=sr)\n",
    "    except:\n",
    "        return None\n",
    "\n",
    "# Заполнение длительности\n",
    "durations = []\n",
    "for path in df_audio['source_file']:\n",
    "    norm_path = os.path.normpath(path)\n",
    "    durations.append(get_duration(norm_path))\n",
    "df_audio['duration'] = durations\n",
    "\n",
    "# Вычисление скорости речи\n",
    "df_audio['wpm'] = df_audio['text'] / df_audio['duration']\n",
    "\n",
    "# Классификация темпа: можно подправить пороги\n",
    "def classify_temp(wpm):\n",
    "    if wpm is None:\n",
    "        return None\n",
    "    elif wpm > 2.5:\n",
    "        return \"fast\"\n",
    "    elif wpm < 1.5:\n",
    "        return \"slow\"\n",
    "    else:\n",
    "        return \"norm\"\n",
    "\n",
    "df_audio['temp'] = df_audio['wpm'].apply(classify_temp)\n",
    "df_audio"
   ]
  },
  {
   "cell_type": "code",
   "execution_count": 158,
   "id": "7b8ebada",
   "metadata": {},
   "outputs": [
    {
     "data": {
      "text/html": [
       "<div>\n",
       "<style scoped>\n",
       "    .dataframe tbody tr th:only-of-type {\n",
       "        vertical-align: middle;\n",
       "    }\n",
       "\n",
       "    .dataframe tbody tr th {\n",
       "        vertical-align: top;\n",
       "    }\n",
       "\n",
       "    .dataframe thead th {\n",
       "        text-align: right;\n",
       "    }\n",
       "</style>\n",
       "<table border=\"1\" class=\"dataframe\">\n",
       "  <thead>\n",
       "    <tr style=\"text-align: right;\">\n",
       "      <th></th>\n",
       "      <th>ID</th>\n",
       "      <th>READER</th>\n",
       "      <th>BOOK ID</th>\n",
       "      <th>token_id</th>\n",
       "      <th>start</th>\n",
       "      <th>end</th>\n",
       "      <th>label</th>\n",
       "      <th>temp</th>\n",
       "      <th>speaker's gender</th>\n",
       "      <th>source_file</th>\n",
       "      <th>wpm</th>\n",
       "    </tr>\n",
       "  </thead>\n",
       "  <tbody>\n",
       "    <tr>\n",
       "      <th>0</th>\n",
       "      <td>1240</td>\n",
       "      <td>103</td>\n",
       "      <td>45</td>\n",
       "      <td>0</td>\n",
       "      <td>0.0</td>\n",
       "      <td>14.085</td>\n",
       "      <td>emotional</td>\n",
       "      <td>norm</td>\n",
       "      <td>female</td>\n",
       "      <td>train-clean-100/LibriSpeech/train-clean-100\\10...</td>\n",
       "      <td>2.413916</td>\n",
       "    </tr>\n",
       "    <tr>\n",
       "      <th>1</th>\n",
       "      <td>1240</td>\n",
       "      <td>103</td>\n",
       "      <td>45</td>\n",
       "      <td>1</td>\n",
       "      <td>0.0</td>\n",
       "      <td>15.945</td>\n",
       "      <td>melancholic</td>\n",
       "      <td>slow</td>\n",
       "      <td>female</td>\n",
       "      <td>train-clean-100/LibriSpeech/train-clean-100\\10...</td>\n",
       "      <td>0.313578</td>\n",
       "    </tr>\n",
       "    <tr>\n",
       "      <th>2</th>\n",
       "      <td>1240</td>\n",
       "      <td>103</td>\n",
       "      <td>45</td>\n",
       "      <td>2</td>\n",
       "      <td>0.0</td>\n",
       "      <td>13.945</td>\n",
       "      <td>reflective</td>\n",
       "      <td>slow</td>\n",
       "      <td>female</td>\n",
       "      <td>train-clean-100/LibriSpeech/train-clean-100\\10...</td>\n",
       "      <td>1.362496</td>\n",
       "    </tr>\n",
       "    <tr>\n",
       "      <th>3</th>\n",
       "      <td>1240</td>\n",
       "      <td>103</td>\n",
       "      <td>45</td>\n",
       "      <td>3</td>\n",
       "      <td>0.0</td>\n",
       "      <td>14.710</td>\n",
       "      <td>tense</td>\n",
       "      <td>norm</td>\n",
       "      <td>female</td>\n",
       "      <td>train-clean-100/LibriSpeech/train-clean-100\\10...</td>\n",
       "      <td>1.699524</td>\n",
       "    </tr>\n",
       "    <tr>\n",
       "      <th>4</th>\n",
       "      <td>1240</td>\n",
       "      <td>103</td>\n",
       "      <td>45</td>\n",
       "      <td>4</td>\n",
       "      <td>0.0</td>\n",
       "      <td>12.515</td>\n",
       "      <td>melancholic</td>\n",
       "      <td>norm</td>\n",
       "      <td>female</td>\n",
       "      <td>train-clean-100/LibriSpeech/train-clean-100\\10...</td>\n",
       "      <td>1.917699</td>\n",
       "    </tr>\n",
       "    <tr>\n",
       "      <th>...</th>\n",
       "      <td>...</td>\n",
       "      <td>...</td>\n",
       "      <td>...</td>\n",
       "      <td>...</td>\n",
       "      <td>...</td>\n",
       "      <td>...</td>\n",
       "      <td>...</td>\n",
       "      <td>...</td>\n",
       "      <td>...</td>\n",
       "      <td>...</td>\n",
       "      <td>...</td>\n",
       "    </tr>\n",
       "    <tr>\n",
       "      <th>28534</th>\n",
       "      <td>130578</td>\n",
       "      <td>911</td>\n",
       "      <td>11938</td>\n",
       "      <td>16</td>\n",
       "      <td>0.0</td>\n",
       "      <td>5.080</td>\n",
       "      <td>cheerful</td>\n",
       "      <td>fast</td>\n",
       "      <td>male</td>\n",
       "      <td>train-clean-100/LibriSpeech/train-clean-100\\91...</td>\n",
       "      <td>2.952756</td>\n",
       "    </tr>\n",
       "    <tr>\n",
       "      <th>28535</th>\n",
       "      <td>130578</td>\n",
       "      <td>911</td>\n",
       "      <td>11938</td>\n",
       "      <td>17</td>\n",
       "      <td>0.0</td>\n",
       "      <td>15.165</td>\n",
       "      <td>instructive</td>\n",
       "      <td>slow</td>\n",
       "      <td>male</td>\n",
       "      <td>train-clean-100/LibriSpeech/train-clean-100\\91...</td>\n",
       "      <td>0.197824</td>\n",
       "    </tr>\n",
       "    <tr>\n",
       "      <th>28536</th>\n",
       "      <td>130578</td>\n",
       "      <td>911</td>\n",
       "      <td>11938</td>\n",
       "      <td>18</td>\n",
       "      <td>0.0</td>\n",
       "      <td>12.440</td>\n",
       "      <td>carefree</td>\n",
       "      <td>norm</td>\n",
       "      <td>male</td>\n",
       "      <td>train-clean-100/LibriSpeech/train-clean-100\\91...</td>\n",
       "      <td>1.607717</td>\n",
       "    </tr>\n",
       "    <tr>\n",
       "      <th>28537</th>\n",
       "      <td>130578</td>\n",
       "      <td>911</td>\n",
       "      <td>11938</td>\n",
       "      <td>19</td>\n",
       "      <td>0.0</td>\n",
       "      <td>14.655</td>\n",
       "      <td>carefree</td>\n",
       "      <td>slow</td>\n",
       "      <td>male</td>\n",
       "      <td>train-clean-100/LibriSpeech/train-clean-100\\91...</td>\n",
       "      <td>1.023541</td>\n",
       "    </tr>\n",
       "    <tr>\n",
       "      <th>28538</th>\n",
       "      <td>130578</td>\n",
       "      <td>911</td>\n",
       "      <td>11938</td>\n",
       "      <td>20</td>\n",
       "      <td>0.0</td>\n",
       "      <td>8.415</td>\n",
       "      <td>carefree</td>\n",
       "      <td>slow</td>\n",
       "      <td>male</td>\n",
       "      <td>train-clean-100/LibriSpeech/train-clean-100\\91...</td>\n",
       "      <td>1.069519</td>\n",
       "    </tr>\n",
       "  </tbody>\n",
       "</table>\n",
       "<p>28539 rows × 11 columns</p>\n",
       "</div>"
      ],
      "text/plain": [
       "           ID  READER  BOOK ID  token_id  start     end        label  temp  \\\n",
       "0        1240     103       45         0    0.0  14.085    emotional  norm   \n",
       "1        1240     103       45         1    0.0  15.945  melancholic  slow   \n",
       "2        1240     103       45         2    0.0  13.945   reflective  slow   \n",
       "3        1240     103       45         3    0.0  14.710        tense  norm   \n",
       "4        1240     103       45         4    0.0  12.515  melancholic  norm   \n",
       "...       ...     ...      ...       ...    ...     ...          ...   ...   \n",
       "28534  130578     911    11938        16    0.0   5.080     cheerful  fast   \n",
       "28535  130578     911    11938        17    0.0  15.165  instructive  slow   \n",
       "28536  130578     911    11938        18    0.0  12.440     carefree  norm   \n",
       "28537  130578     911    11938        19    0.0  14.655     carefree  slow   \n",
       "28538  130578     911    11938        20    0.0   8.415     carefree  slow   \n",
       "\n",
       "      speaker's gender                                        source_file  \\\n",
       "0               female  train-clean-100/LibriSpeech/train-clean-100\\10...   \n",
       "1               female  train-clean-100/LibriSpeech/train-clean-100\\10...   \n",
       "2               female  train-clean-100/LibriSpeech/train-clean-100\\10...   \n",
       "3               female  train-clean-100/LibriSpeech/train-clean-100\\10...   \n",
       "4               female  train-clean-100/LibriSpeech/train-clean-100\\10...   \n",
       "...                ...                                                ...   \n",
       "28534             male  train-clean-100/LibriSpeech/train-clean-100\\91...   \n",
       "28535             male  train-clean-100/LibriSpeech/train-clean-100\\91...   \n",
       "28536             male  train-clean-100/LibriSpeech/train-clean-100\\91...   \n",
       "28537             male  train-clean-100/LibriSpeech/train-clean-100\\91...   \n",
       "28538             male  train-clean-100/LibriSpeech/train-clean-100\\91...   \n",
       "\n",
       "            wpm  \n",
       "0      2.413916  \n",
       "1      0.313578  \n",
       "2      1.362496  \n",
       "3      1.699524  \n",
       "4      1.917699  \n",
       "...         ...  \n",
       "28534  2.952756  \n",
       "28535  0.197824  \n",
       "28536  1.607717  \n",
       "28537  1.023541  \n",
       "28538  1.069519  \n",
       "\n",
       "[28539 rows x 11 columns]"
      ]
     },
     "execution_count": 158,
     "metadata": {},
     "output_type": "execute_result"
    }
   ],
   "source": [
    "df_audio = df_audio.drop(columns = ['text', 'duration'])\n",
    "df_audio"
   ]
  },
  {
   "cell_type": "code",
   "execution_count": 160,
   "id": "508885e7",
   "metadata": {},
   "outputs": [
    {
     "data": {
      "text/html": [
       "<div>\n",
       "<style scoped>\n",
       "    .dataframe tbody tr th:only-of-type {\n",
       "        vertical-align: middle;\n",
       "    }\n",
       "\n",
       "    .dataframe tbody tr th {\n",
       "        vertical-align: top;\n",
       "    }\n",
       "\n",
       "    .dataframe thead th {\n",
       "        text-align: right;\n",
       "    }\n",
       "</style>\n",
       "<table border=\"1\" class=\"dataframe\">\n",
       "  <thead>\n",
       "    <tr style=\"text-align: right;\">\n",
       "      <th></th>\n",
       "      <th>ID</th>\n",
       "      <th>READER</th>\n",
       "      <th>BOOK ID</th>\n",
       "      <th>token_id</th>\n",
       "      <th>start</th>\n",
       "      <th>end</th>\n",
       "      <th>label</th>\n",
       "      <th>temp</th>\n",
       "      <th>wpm</th>\n",
       "      <th>speaker's gender</th>\n",
       "      <th>source_file</th>\n",
       "    </tr>\n",
       "  </thead>\n",
       "  <tbody>\n",
       "    <tr>\n",
       "      <th>0</th>\n",
       "      <td>1240</td>\n",
       "      <td>103</td>\n",
       "      <td>45</td>\n",
       "      <td>0</td>\n",
       "      <td>0.0</td>\n",
       "      <td>14.085</td>\n",
       "      <td>emotional</td>\n",
       "      <td>norm</td>\n",
       "      <td>2.413916</td>\n",
       "      <td>female</td>\n",
       "      <td>train-clean-100/LibriSpeech/train-clean-100\\10...</td>\n",
       "    </tr>\n",
       "    <tr>\n",
       "      <th>1</th>\n",
       "      <td>1240</td>\n",
       "      <td>103</td>\n",
       "      <td>45</td>\n",
       "      <td>1</td>\n",
       "      <td>0.0</td>\n",
       "      <td>15.945</td>\n",
       "      <td>melancholic</td>\n",
       "      <td>slow</td>\n",
       "      <td>0.313578</td>\n",
       "      <td>female</td>\n",
       "      <td>train-clean-100/LibriSpeech/train-clean-100\\10...</td>\n",
       "    </tr>\n",
       "    <tr>\n",
       "      <th>2</th>\n",
       "      <td>1240</td>\n",
       "      <td>103</td>\n",
       "      <td>45</td>\n",
       "      <td>2</td>\n",
       "      <td>0.0</td>\n",
       "      <td>13.945</td>\n",
       "      <td>reflective</td>\n",
       "      <td>slow</td>\n",
       "      <td>1.362496</td>\n",
       "      <td>female</td>\n",
       "      <td>train-clean-100/LibriSpeech/train-clean-100\\10...</td>\n",
       "    </tr>\n",
       "    <tr>\n",
       "      <th>3</th>\n",
       "      <td>1240</td>\n",
       "      <td>103</td>\n",
       "      <td>45</td>\n",
       "      <td>3</td>\n",
       "      <td>0.0</td>\n",
       "      <td>14.710</td>\n",
       "      <td>tense</td>\n",
       "      <td>norm</td>\n",
       "      <td>1.699524</td>\n",
       "      <td>female</td>\n",
       "      <td>train-clean-100/LibriSpeech/train-clean-100\\10...</td>\n",
       "    </tr>\n",
       "    <tr>\n",
       "      <th>4</th>\n",
       "      <td>1240</td>\n",
       "      <td>103</td>\n",
       "      <td>45</td>\n",
       "      <td>4</td>\n",
       "      <td>0.0</td>\n",
       "      <td>12.515</td>\n",
       "      <td>melancholic</td>\n",
       "      <td>norm</td>\n",
       "      <td>1.917699</td>\n",
       "      <td>female</td>\n",
       "      <td>train-clean-100/LibriSpeech/train-clean-100\\10...</td>\n",
       "    </tr>\n",
       "    <tr>\n",
       "      <th>...</th>\n",
       "      <td>...</td>\n",
       "      <td>...</td>\n",
       "      <td>...</td>\n",
       "      <td>...</td>\n",
       "      <td>...</td>\n",
       "      <td>...</td>\n",
       "      <td>...</td>\n",
       "      <td>...</td>\n",
       "      <td>...</td>\n",
       "      <td>...</td>\n",
       "      <td>...</td>\n",
       "    </tr>\n",
       "    <tr>\n",
       "      <th>28534</th>\n",
       "      <td>130578</td>\n",
       "      <td>911</td>\n",
       "      <td>11938</td>\n",
       "      <td>16</td>\n",
       "      <td>0.0</td>\n",
       "      <td>5.080</td>\n",
       "      <td>cheerful</td>\n",
       "      <td>fast</td>\n",
       "      <td>2.952756</td>\n",
       "      <td>male</td>\n",
       "      <td>train-clean-100/LibriSpeech/train-clean-100\\91...</td>\n",
       "    </tr>\n",
       "    <tr>\n",
       "      <th>28535</th>\n",
       "      <td>130578</td>\n",
       "      <td>911</td>\n",
       "      <td>11938</td>\n",
       "      <td>17</td>\n",
       "      <td>0.0</td>\n",
       "      <td>15.165</td>\n",
       "      <td>instructive</td>\n",
       "      <td>slow</td>\n",
       "      <td>0.197824</td>\n",
       "      <td>male</td>\n",
       "      <td>train-clean-100/LibriSpeech/train-clean-100\\91...</td>\n",
       "    </tr>\n",
       "    <tr>\n",
       "      <th>28536</th>\n",
       "      <td>130578</td>\n",
       "      <td>911</td>\n",
       "      <td>11938</td>\n",
       "      <td>18</td>\n",
       "      <td>0.0</td>\n",
       "      <td>12.440</td>\n",
       "      <td>carefree</td>\n",
       "      <td>norm</td>\n",
       "      <td>1.607717</td>\n",
       "      <td>male</td>\n",
       "      <td>train-clean-100/LibriSpeech/train-clean-100\\91...</td>\n",
       "    </tr>\n",
       "    <tr>\n",
       "      <th>28537</th>\n",
       "      <td>130578</td>\n",
       "      <td>911</td>\n",
       "      <td>11938</td>\n",
       "      <td>19</td>\n",
       "      <td>0.0</td>\n",
       "      <td>14.655</td>\n",
       "      <td>carefree</td>\n",
       "      <td>slow</td>\n",
       "      <td>1.023541</td>\n",
       "      <td>male</td>\n",
       "      <td>train-clean-100/LibriSpeech/train-clean-100\\91...</td>\n",
       "    </tr>\n",
       "    <tr>\n",
       "      <th>28538</th>\n",
       "      <td>130578</td>\n",
       "      <td>911</td>\n",
       "      <td>11938</td>\n",
       "      <td>20</td>\n",
       "      <td>0.0</td>\n",
       "      <td>8.415</td>\n",
       "      <td>carefree</td>\n",
       "      <td>slow</td>\n",
       "      <td>1.069519</td>\n",
       "      <td>male</td>\n",
       "      <td>train-clean-100/LibriSpeech/train-clean-100\\91...</td>\n",
       "    </tr>\n",
       "  </tbody>\n",
       "</table>\n",
       "<p>28539 rows × 11 columns</p>\n",
       "</div>"
      ],
      "text/plain": [
       "           ID  READER  BOOK ID  token_id  start     end        label  temp  \\\n",
       "0        1240     103       45         0    0.0  14.085    emotional  norm   \n",
       "1        1240     103       45         1    0.0  15.945  melancholic  slow   \n",
       "2        1240     103       45         2    0.0  13.945   reflective  slow   \n",
       "3        1240     103       45         3    0.0  14.710        tense  norm   \n",
       "4        1240     103       45         4    0.0  12.515  melancholic  norm   \n",
       "...       ...     ...      ...       ...    ...     ...          ...   ...   \n",
       "28534  130578     911    11938        16    0.0   5.080     cheerful  fast   \n",
       "28535  130578     911    11938        17    0.0  15.165  instructive  slow   \n",
       "28536  130578     911    11938        18    0.0  12.440     carefree  norm   \n",
       "28537  130578     911    11938        19    0.0  14.655     carefree  slow   \n",
       "28538  130578     911    11938        20    0.0   8.415     carefree  slow   \n",
       "\n",
       "            wpm speaker's gender  \\\n",
       "0      2.413916           female   \n",
       "1      0.313578           female   \n",
       "2      1.362496           female   \n",
       "3      1.699524           female   \n",
       "4      1.917699           female   \n",
       "...         ...              ...   \n",
       "28534  2.952756             male   \n",
       "28535  0.197824             male   \n",
       "28536  1.607717             male   \n",
       "28537  1.023541             male   \n",
       "28538  1.069519             male   \n",
       "\n",
       "                                             source_file  \n",
       "0      train-clean-100/LibriSpeech/train-clean-100\\10...  \n",
       "1      train-clean-100/LibriSpeech/train-clean-100\\10...  \n",
       "2      train-clean-100/LibriSpeech/train-clean-100\\10...  \n",
       "3      train-clean-100/LibriSpeech/train-clean-100\\10...  \n",
       "4      train-clean-100/LibriSpeech/train-clean-100\\10...  \n",
       "...                                                  ...  \n",
       "28534  train-clean-100/LibriSpeech/train-clean-100\\91...  \n",
       "28535  train-clean-100/LibriSpeech/train-clean-100\\91...  \n",
       "28536  train-clean-100/LibriSpeech/train-clean-100\\91...  \n",
       "28537  train-clean-100/LibriSpeech/train-clean-100\\91...  \n",
       "28538  train-clean-100/LibriSpeech/train-clean-100\\91...  \n",
       "\n",
       "[28539 rows x 11 columns]"
      ]
     },
     "execution_count": 160,
     "metadata": {},
     "output_type": "execute_result"
    }
   ],
   "source": [
    "# Указание нового порядка колонок\n",
    "cols = df_audio.columns.tolist()\n",
    "# Удаляем 'wpm' из текущего положения\n",
    "cols.remove('wpm')\n",
    "# Вставляем 'wpm' после 'temp'\n",
    "temp_index = cols.index('temp') + 1\n",
    "cols.insert(temp_index, 'wpm')\n",
    "\n",
    "# Переупорядочиваем DataFrame\n",
    "df_audio = df_audio[cols]\n",
    "df_audio"
   ]
  },
  {
   "cell_type": "code",
   "execution_count": 161,
   "id": "3b395790",
   "metadata": {},
   "outputs": [],
   "source": [
    "df_audio.to_csv(\"all_mark_audio.csv\", index=False)"
   ]
  },
  {
   "cell_type": "markdown",
   "id": "898f2e8a",
   "metadata": {},
   "source": [
    "# Просмотр полученных данных"
   ]
  },
  {
   "cell_type": "code",
   "execution_count": null,
   "id": "0412ab16",
   "metadata": {},
   "outputs": [
    {
     "data": {
      "text/html": [
       "<div>\n",
       "<style scoped>\n",
       "    .dataframe tbody tr th:only-of-type {\n",
       "        vertical-align: middle;\n",
       "    }\n",
       "\n",
       "    .dataframe tbody tr th {\n",
       "        vertical-align: top;\n",
       "    }\n",
       "\n",
       "    .dataframe thead th {\n",
       "        text-align: right;\n",
       "    }\n",
       "</style>\n",
       "<table border=\"1\" class=\"dataframe\">\n",
       "  <thead>\n",
       "    <tr style=\"text-align: right;\">\n",
       "      <th></th>\n",
       "      <th>BOOK ID</th>\n",
       "      <th>image</th>\n",
       "      <th>scene</th>\n",
       "      <th>characters</th>\n",
       "      <th>style</th>\n",
       "      <th>attributes</th>\n",
       "    </tr>\n",
       "  </thead>\n",
       "  <tbody>\n",
       "    <tr>\n",
       "      <th>0</th>\n",
       "      <td>16</td>\n",
       "      <td>book_illustrations\\16\\cover.jpg</td>\n",
       "      <td>драматичная сцена сражения на пиратском корабле</td>\n",
       "      <td>Питер Пэн, капитан Крюк</td>\n",
       "      <td>классический стиль</td>\n",
       "      <td>сепия, экшн, штамп библиотеки</td>\n",
       "    </tr>\n",
       "    <tr>\n",
       "      <th>1</th>\n",
       "      <td>45</td>\n",
       "      <td>book_illustrations\\45\\cover.jpg</td>\n",
       "      <td>девочка стоит на мосту посреди весеннего пейзажа</td>\n",
       "      <td>девочка</td>\n",
       "      <td>сказочный стиль</td>\n",
       "      <td>цветы, яркие краски, стилизованные деревья</td>\n",
       "    </tr>\n",
       "    <tr>\n",
       "      <th>2</th>\n",
       "      <td>47</td>\n",
       "      <td>book_illustrations\\47\\cover.jpg</td>\n",
       "      <td>портрет женщины на коричневой обложке</td>\n",
       "      <td>женщина</td>\n",
       "      <td>реалистичная живопись, винтаж</td>\n",
       "      <td>приглушённые цвета, формальный стиль, начало X...</td>\n",
       "    </tr>\n",
       "    <tr>\n",
       "      <th>3</th>\n",
       "      <td>59</td>\n",
       "      <td>NaN</td>\n",
       "      <td>NaN</td>\n",
       "      <td>NaN</td>\n",
       "      <td>NaN</td>\n",
       "      <td>NaN</td>\n",
       "    </tr>\n",
       "    <tr>\n",
       "      <th>4</th>\n",
       "      <td>60</td>\n",
       "      <td>book_illustrations\\60\\cover.jpg</td>\n",
       "      <td>портрет мужчины и женщины</td>\n",
       "      <td>женщина, мужчина</td>\n",
       "      <td>реалистичная живопись, темные цвета</td>\n",
       "      <td>трость, шляпа, аристократская одежда</td>\n",
       "    </tr>\n",
       "    <tr>\n",
       "      <th>...</th>\n",
       "      <td>...</td>\n",
       "      <td>...</td>\n",
       "      <td>...</td>\n",
       "      <td>...</td>\n",
       "      <td>...</td>\n",
       "      <td>...</td>\n",
       "    </tr>\n",
       "    <tr>\n",
       "      <th>5143</th>\n",
       "      <td>43699</td>\n",
       "      <td>book_illustrations\\43699\\logo.jpg</td>\n",
       "      <td>NaN</td>\n",
       "      <td>NaN</td>\n",
       "      <td>NaN</td>\n",
       "      <td>NaN</td>\n",
       "    </tr>\n",
       "    <tr>\n",
       "      <th>5144</th>\n",
       "      <td>44326</td>\n",
       "      <td>book_illustrations\\44326\\colophon.png</td>\n",
       "      <td>NaN</td>\n",
       "      <td>NaN</td>\n",
       "      <td>NaN</td>\n",
       "      <td>NaN</td>\n",
       "    </tr>\n",
       "    <tr>\n",
       "      <th>5145</th>\n",
       "      <td>44326</td>\n",
       "      <td>book_illustrations\\44326\\cover.jpg</td>\n",
       "      <td>NaN</td>\n",
       "      <td>NaN</td>\n",
       "      <td>NaN</td>\n",
       "      <td>NaN</td>\n",
       "    </tr>\n",
       "    <tr>\n",
       "      <th>5146</th>\n",
       "      <td>1000006</td>\n",
       "      <td>book_illustrations\\1000006\\cover.jpg</td>\n",
       "      <td>обложка</td>\n",
       "      <td>NaN</td>\n",
       "      <td>минимализм</td>\n",
       "      <td>нарисованный человечек, темный прямоугольник</td>\n",
       "    </tr>\n",
       "    <tr>\n",
       "      <th>5147</th>\n",
       "      <td>1000010</td>\n",
       "      <td>book_illustrations\\1000010\\cover.jpg</td>\n",
       "      <td>обложка</td>\n",
       "      <td>NaN</td>\n",
       "      <td>абстракция</td>\n",
       "      <td>яркие цвета</td>\n",
       "    </tr>\n",
       "  </tbody>\n",
       "</table>\n",
       "<p>5148 rows × 6 columns</p>\n",
       "</div>"
      ],
      "text/plain": [
       "      BOOK ID                                  image  \\\n",
       "0          16        book_illustrations\\16\\cover.jpg   \n",
       "1          45        book_illustrations\\45\\cover.jpg   \n",
       "2          47        book_illustrations\\47\\cover.jpg   \n",
       "3          59                                    NaN   \n",
       "4          60        book_illustrations\\60\\cover.jpg   \n",
       "...       ...                                    ...   \n",
       "5143    43699      book_illustrations\\43699\\logo.jpg   \n",
       "5144    44326  book_illustrations\\44326\\colophon.png   \n",
       "5145    44326     book_illustrations\\44326\\cover.jpg   \n",
       "5146  1000006   book_illustrations\\1000006\\cover.jpg   \n",
       "5147  1000010   book_illustrations\\1000010\\cover.jpg   \n",
       "\n",
       "                                                 scene  \\\n",
       "0      драматичная сцена сражения на пиратском корабле   \n",
       "1     девочка стоит на мосту посреди весеннего пейзажа   \n",
       "2                портрет женщины на коричневой обложке   \n",
       "3                                                  NaN   \n",
       "4                            портрет мужчины и женщины   \n",
       "...                                                ...   \n",
       "5143                                               NaN   \n",
       "5144                                               NaN   \n",
       "5145                                               NaN   \n",
       "5146                                           обложка   \n",
       "5147                                           обложка   \n",
       "\n",
       "                   characters                                style  \\\n",
       "0     Питер Пэн, капитан Крюк                   классический стиль   \n",
       "1                     девочка                      сказочный стиль   \n",
       "2                     женщина        реалистичная живопись, винтаж   \n",
       "3                         NaN                                  NaN   \n",
       "4            женщина, мужчина  реалистичная живопись, темные цвета   \n",
       "...                       ...                                  ...   \n",
       "5143                      NaN                                  NaN   \n",
       "5144                      NaN                                  NaN   \n",
       "5145                      NaN                                  NaN   \n",
       "5146                      NaN                           минимализм   \n",
       "5147                      NaN                           абстракция   \n",
       "\n",
       "                                             attributes  \n",
       "0                         сепия, экшн, штамп библиотеки  \n",
       "1            цветы, яркие краски, стилизованные деревья  \n",
       "2     приглушённые цвета, формальный стиль, начало X...  \n",
       "3                                                   NaN  \n",
       "4                  трость, шляпа, аристократская одежда  \n",
       "...                                                 ...  \n",
       "5143                                                NaN  \n",
       "5144                                                NaN  \n",
       "5145                                                NaN  \n",
       "5146       нарисованный человечек, темный прямоугольник  \n",
       "5147                                        яркие цвета  \n",
       "\n",
       "[5148 rows x 6 columns]"
      ]
     },
     "execution_count": 4,
     "metadata": {},
     "output_type": "execute_result"
    }
   ],
   "source": [
    "df = pd.read_csv('all_mark_image.csv')\n",
    "df.head(7)"
   ]
  },
  {
   "cell_type": "code",
   "execution_count": 2,
   "id": "d95dcdab",
   "metadata": {},
   "outputs": [
    {
     "data": {
      "text/html": [
       "<div>\n",
       "<style scoped>\n",
       "    .dataframe tbody tr th:only-of-type {\n",
       "        vertical-align: middle;\n",
       "    }\n",
       "\n",
       "    .dataframe tbody tr th {\n",
       "        vertical-align: top;\n",
       "    }\n",
       "\n",
       "    .dataframe thead th {\n",
       "        text-align: right;\n",
       "    }\n",
       "</style>\n",
       "<table border=\"1\" class=\"dataframe\">\n",
       "  <thead>\n",
       "    <tr style=\"text-align: right;\">\n",
       "      <th></th>\n",
       "      <th>READER</th>\n",
       "      <th>ID</th>\n",
       "      <th>BOOK ID</th>\n",
       "      <th>token_id</th>\n",
       "      <th>text</th>\n",
       "      <th>POS_tags</th>\n",
       "      <th>NER_tags</th>\n",
       "      <th>source_file</th>\n",
       "      <th>emotion_text</th>\n",
       "      <th>overall_mood</th>\n",
       "    </tr>\n",
       "  </thead>\n",
       "  <tbody>\n",
       "    <tr>\n",
       "      <th>0</th>\n",
       "      <td>19</td>\n",
       "      <td>198</td>\n",
       "      <td>121</td>\n",
       "      <td>0</td>\n",
       "      <td>Northanger Abbey</td>\n",
       "      <td>Northanger_NOUN Abbey_NOUN</td>\n",
       "      <td>NaN</td>\n",
       "      <td>train-clean-100\\LibriSpeech\\train-clean-100\\19...</td>\n",
       "      <td>NaN</td>\n",
       "      <td>neutral</td>\n",
       "    </tr>\n",
       "    <tr>\n",
       "      <th>1</th>\n",
       "      <td>19</td>\n",
       "      <td>198</td>\n",
       "      <td>121</td>\n",
       "      <td>1</td>\n",
       "      <td>This little work was finished in the year eigh...</td>\n",
       "      <td>This_DET little_ADJ work_NOUN was_VERB finishe...</td>\n",
       "      <td>the year eighteen_DATE three_CARDINAL</td>\n",
       "      <td>train-clean-100\\LibriSpeech\\train-clean-100\\19...</td>\n",
       "      <td>intended_anticipation</td>\n",
       "      <td>restless</td>\n",
       "    </tr>\n",
       "    <tr>\n",
       "      <th>2</th>\n",
       "      <td>19</td>\n",
       "      <td>198</td>\n",
       "      <td>121</td>\n",
       "      <td>2</td>\n",
       "      <td>Neither the author nor the public have any oth...</td>\n",
       "      <td>Neither_CONJ the_DET author_NOUN nor_CONJ the_...</td>\n",
       "      <td>thirteen years_DATE</td>\n",
       "      <td>train-clean-100\\LibriSpeech\\train-clean-100\\19...</td>\n",
       "      <td>author_positive public_anticipation</td>\n",
       "      <td>pleasant</td>\n",
       "    </tr>\n",
       "    <tr>\n",
       "      <th>3</th>\n",
       "      <td>19</td>\n",
       "      <td>198</td>\n",
       "      <td>121</td>\n",
       "      <td>3</td>\n",
       "      <td>The public are entreated to bear in mind that ...</td>\n",
       "      <td>The_DET public_NOUN are_VERB entreated_VERB to...</td>\n",
       "      <td>thirteen years_DATE</td>\n",
       "      <td>train-clean-100\\LibriSpeech\\train-clean-100\\19...</td>\n",
       "      <td>public_anticipation bear_anger begun_anticipation</td>\n",
       "      <td>restless</td>\n",
       "    </tr>\n",
       "    <tr>\n",
       "      <th>4</th>\n",
       "      <td>19</td>\n",
       "      <td>198</td>\n",
       "      <td>121</td>\n",
       "      <td>4</td>\n",
       "      <td>Chapter One No one who had ever seen Catherine...</td>\n",
       "      <td>Chapter_NOUN One_NUM No_NOUN one_NOUN who_PRON...</td>\n",
       "      <td>Catherine Morland_PERSON</td>\n",
       "      <td>train-clean-100\\LibriSpeech\\train-clean-100\\19...</td>\n",
       "      <td>heroine_positive</td>\n",
       "      <td>harmonious</td>\n",
       "    </tr>\n",
       "    <tr>\n",
       "      <th>...</th>\n",
       "      <td>...</td>\n",
       "      <td>...</td>\n",
       "      <td>...</td>\n",
       "      <td>...</td>\n",
       "      <td>...</td>\n",
       "      <td>...</td>\n",
       "      <td>...</td>\n",
       "      <td>...</td>\n",
       "      <td>...</td>\n",
       "      <td>...</td>\n",
       "    </tr>\n",
       "    <tr>\n",
       "      <th>28534</th>\n",
       "      <td>8630</td>\n",
       "      <td>305213</td>\n",
       "      <td>35941</td>\n",
       "      <td>50</td>\n",
       "      <td>Until the truth was fully discussed and proved</td>\n",
       "      <td>Until_ADP the_DET truth_NOUN was_VERB fully_AD...</td>\n",
       "      <td>NaN</td>\n",
       "      <td>train-clean-100\\LibriSpeech\\train-clean-100\\86...</td>\n",
       "      <td>truth_positive fully_positive</td>\n",
       "      <td>peaceful</td>\n",
       "    </tr>\n",
       "    <tr>\n",
       "      <th>28535</th>\n",
       "      <td>8630</td>\n",
       "      <td>305213</td>\n",
       "      <td>35941</td>\n",
       "      <td>51</td>\n",
       "      <td>That was what the Manicheans promised what Aug...</td>\n",
       "      <td>That_DET was_VERB what_PRON the_DET Manicheans...</td>\n",
       "      <td>Manicheans_NORP Augustine_PERSON</td>\n",
       "      <td>train-clean-100\\LibriSpeech\\train-clean-100\\86...</td>\n",
       "      <td>found_joy</td>\n",
       "      <td>delightful</td>\n",
       "    </tr>\n",
       "    <tr>\n",
       "      <th>28536</th>\n",
       "      <td>8630</td>\n",
       "      <td>305213</td>\n",
       "      <td>35941</td>\n",
       "      <td>52</td>\n",
       "      <td>They taught what was false not only about thee...</td>\n",
       "      <td>They_PRON taught_VERB what_PRON was_VERB false...</td>\n",
       "      <td>NaN</td>\n",
       "      <td>train-clean-100\\LibriSpeech\\train-clean-100\\86...</td>\n",
       "      <td>taught_trust god_anticipation art_anticipation...</td>\n",
       "      <td>restless</td>\n",
       "    </tr>\n",
       "    <tr>\n",
       "      <th>28537</th>\n",
       "      <td>8630</td>\n",
       "      <td>305213</td>\n",
       "      <td>35941</td>\n",
       "      <td>53</td>\n",
       "      <td>He found them carnal and loquacious full of in...</td>\n",
       "      <td>He_PRON found_VERB them_PRON carnal_ADJ and_CO...</td>\n",
       "      <td>NaN</td>\n",
       "      <td>train-clean-100\\LibriSpeech\\train-clean-100\\86...</td>\n",
       "      <td>found_joy carnal_negative full_positive insane...</td>\n",
       "      <td>delightful</td>\n",
       "    </tr>\n",
       "    <tr>\n",
       "      <th>28538</th>\n",
       "      <td>8630</td>\n",
       "      <td>305213</td>\n",
       "      <td>35941</td>\n",
       "      <td>54</td>\n",
       "      <td>Who could not find the strength to break with ...</td>\n",
       "      <td>Who_PRON could_VERB not_ADV find_VERB the_DET ...</td>\n",
       "      <td>NaN</td>\n",
       "      <td>train-clean-100\\LibriSpeech\\train-clean-100\\86...</td>\n",
       "      <td>strength_positive break_surprise bad_anger</td>\n",
       "      <td>peaceful</td>\n",
       "    </tr>\n",
       "  </tbody>\n",
       "</table>\n",
       "<p>28539 rows × 10 columns</p>\n",
       "</div>"
      ],
      "text/plain": [
       "       READER      ID  BOOK ID  token_id  \\\n",
       "0          19     198      121         0   \n",
       "1          19     198      121         1   \n",
       "2          19     198      121         2   \n",
       "3          19     198      121         3   \n",
       "4          19     198      121         4   \n",
       "...       ...     ...      ...       ...   \n",
       "28534    8630  305213    35941        50   \n",
       "28535    8630  305213    35941        51   \n",
       "28536    8630  305213    35941        52   \n",
       "28537    8630  305213    35941        53   \n",
       "28538    8630  305213    35941        54   \n",
       "\n",
       "                                                    text  \\\n",
       "0                                       Northanger Abbey   \n",
       "1      This little work was finished in the year eigh...   \n",
       "2      Neither the author nor the public have any oth...   \n",
       "3      The public are entreated to bear in mind that ...   \n",
       "4      Chapter One No one who had ever seen Catherine...   \n",
       "...                                                  ...   \n",
       "28534     Until the truth was fully discussed and proved   \n",
       "28535  That was what the Manicheans promised what Aug...   \n",
       "28536  They taught what was false not only about thee...   \n",
       "28537  He found them carnal and loquacious full of in...   \n",
       "28538  Who could not find the strength to break with ...   \n",
       "\n",
       "                                                POS_tags  \\\n",
       "0                             Northanger_NOUN Abbey_NOUN   \n",
       "1      This_DET little_ADJ work_NOUN was_VERB finishe...   \n",
       "2      Neither_CONJ the_DET author_NOUN nor_CONJ the_...   \n",
       "3      The_DET public_NOUN are_VERB entreated_VERB to...   \n",
       "4      Chapter_NOUN One_NUM No_NOUN one_NOUN who_PRON...   \n",
       "...                                                  ...   \n",
       "28534  Until_ADP the_DET truth_NOUN was_VERB fully_AD...   \n",
       "28535  That_DET was_VERB what_PRON the_DET Manicheans...   \n",
       "28536  They_PRON taught_VERB what_PRON was_VERB false...   \n",
       "28537  He_PRON found_VERB them_PRON carnal_ADJ and_CO...   \n",
       "28538  Who_PRON could_VERB not_ADV find_VERB the_DET ...   \n",
       "\n",
       "                                    NER_tags  \\\n",
       "0                                        NaN   \n",
       "1      the year eighteen_DATE three_CARDINAL   \n",
       "2                        thirteen years_DATE   \n",
       "3                        thirteen years_DATE   \n",
       "4                   Catherine Morland_PERSON   \n",
       "...                                      ...   \n",
       "28534                                    NaN   \n",
       "28535       Manicheans_NORP Augustine_PERSON   \n",
       "28536                                    NaN   \n",
       "28537                                    NaN   \n",
       "28538                                    NaN   \n",
       "\n",
       "                                             source_file  \\\n",
       "0      train-clean-100\\LibriSpeech\\train-clean-100\\19...   \n",
       "1      train-clean-100\\LibriSpeech\\train-clean-100\\19...   \n",
       "2      train-clean-100\\LibriSpeech\\train-clean-100\\19...   \n",
       "3      train-clean-100\\LibriSpeech\\train-clean-100\\19...   \n",
       "4      train-clean-100\\LibriSpeech\\train-clean-100\\19...   \n",
       "...                                                  ...   \n",
       "28534  train-clean-100\\LibriSpeech\\train-clean-100\\86...   \n",
       "28535  train-clean-100\\LibriSpeech\\train-clean-100\\86...   \n",
       "28536  train-clean-100\\LibriSpeech\\train-clean-100\\86...   \n",
       "28537  train-clean-100\\LibriSpeech\\train-clean-100\\86...   \n",
       "28538  train-clean-100\\LibriSpeech\\train-clean-100\\86...   \n",
       "\n",
       "                                            emotion_text overall_mood  \n",
       "0                                                    NaN      neutral  \n",
       "1                                  intended_anticipation     restless  \n",
       "2                    author_positive public_anticipation     pleasant  \n",
       "3      public_anticipation bear_anger begun_anticipation     restless  \n",
       "4                                       heroine_positive   harmonious  \n",
       "...                                                  ...          ...  \n",
       "28534                      truth_positive fully_positive     peaceful  \n",
       "28535                                          found_joy   delightful  \n",
       "28536  taught_trust god_anticipation art_anticipation...     restless  \n",
       "28537  found_joy carnal_negative full_positive insane...   delightful  \n",
       "28538         strength_positive break_surprise bad_anger     peaceful  \n",
       "\n",
       "[28539 rows x 10 columns]"
      ]
     },
     "execution_count": 2,
     "metadata": {},
     "output_type": "execute_result"
    }
   ],
   "source": [
    "df = pd.read_csv('all_mark_text.csv')\n",
    "df#.head(7)"
   ]
  },
  {
   "cell_type": "code",
   "execution_count": 3,
   "id": "4791ae84",
   "metadata": {},
   "outputs": [
    {
     "data": {
      "text/html": [
       "<div>\n",
       "<style scoped>\n",
       "    .dataframe tbody tr th:only-of-type {\n",
       "        vertical-align: middle;\n",
       "    }\n",
       "\n",
       "    .dataframe tbody tr th {\n",
       "        vertical-align: top;\n",
       "    }\n",
       "\n",
       "    .dataframe thead th {\n",
       "        text-align: right;\n",
       "    }\n",
       "</style>\n",
       "<table border=\"1\" class=\"dataframe\">\n",
       "  <thead>\n",
       "    <tr style=\"text-align: right;\">\n",
       "      <th></th>\n",
       "      <th>ID</th>\n",
       "      <th>READER</th>\n",
       "      <th>BOOK ID</th>\n",
       "      <th>token_id</th>\n",
       "      <th>start</th>\n",
       "      <th>end</th>\n",
       "      <th>label</th>\n",
       "      <th>temp</th>\n",
       "      <th>wpm</th>\n",
       "      <th>speaker's gender</th>\n",
       "      <th>source_file</th>\n",
       "    </tr>\n",
       "  </thead>\n",
       "  <tbody>\n",
       "    <tr>\n",
       "      <th>0</th>\n",
       "      <td>198</td>\n",
       "      <td>19</td>\n",
       "      <td>121</td>\n",
       "      <td>0</td>\n",
       "      <td>0.0</td>\n",
       "      <td>1.965</td>\n",
       "      <td>tense</td>\n",
       "      <td>slow</td>\n",
       "      <td>1.017812</td>\n",
       "      <td>female</td>\n",
       "      <td>train-clean-100/LibriSpeech/train-clean-100\\19...</td>\n",
       "    </tr>\n",
       "    <tr>\n",
       "      <th>1</th>\n",
       "      <td>198</td>\n",
       "      <td>19</td>\n",
       "      <td>121</td>\n",
       "      <td>1</td>\n",
       "      <td>0.0</td>\n",
       "      <td>11.765</td>\n",
       "      <td>tense</td>\n",
       "      <td>slow</td>\n",
       "      <td>1.359966</td>\n",
       "      <td>female</td>\n",
       "      <td>train-clean-100/LibriSpeech/train-clean-100\\19...</td>\n",
       "    </tr>\n",
       "    <tr>\n",
       "      <th>2</th>\n",
       "      <td>198</td>\n",
       "      <td>19</td>\n",
       "      <td>121</td>\n",
       "      <td>2</td>\n",
       "      <td>0.0</td>\n",
       "      <td>10.795</td>\n",
       "      <td>reflective</td>\n",
       "      <td>fast</td>\n",
       "      <td>2.686429</td>\n",
       "      <td>female</td>\n",
       "      <td>train-clean-100/LibriSpeech/train-clean-100\\19...</td>\n",
       "    </tr>\n",
       "    <tr>\n",
       "      <th>3</th>\n",
       "      <td>198</td>\n",
       "      <td>19</td>\n",
       "      <td>121</td>\n",
       "      <td>3</td>\n",
       "      <td>0.0</td>\n",
       "      <td>15.480</td>\n",
       "      <td>melancholic</td>\n",
       "      <td>slow</td>\n",
       "      <td>1.485788</td>\n",
       "      <td>female</td>\n",
       "      <td>train-clean-100/LibriSpeech/train-clean-100\\19...</td>\n",
       "    </tr>\n",
       "    <tr>\n",
       "      <th>4</th>\n",
       "      <td>198</td>\n",
       "      <td>19</td>\n",
       "      <td>121</td>\n",
       "      <td>4</td>\n",
       "      <td>0.0</td>\n",
       "      <td>12.990</td>\n",
       "      <td>calm</td>\n",
       "      <td>norm</td>\n",
       "      <td>1.693610</td>\n",
       "      <td>female</td>\n",
       "      <td>train-clean-100/LibriSpeech/train-clean-100\\19...</td>\n",
       "    </tr>\n",
       "    <tr>\n",
       "      <th>...</th>\n",
       "      <td>...</td>\n",
       "      <td>...</td>\n",
       "      <td>...</td>\n",
       "      <td>...</td>\n",
       "      <td>...</td>\n",
       "      <td>...</td>\n",
       "      <td>...</td>\n",
       "      <td>...</td>\n",
       "      <td>...</td>\n",
       "      <td>...</td>\n",
       "      <td>...</td>\n",
       "    </tr>\n",
       "    <tr>\n",
       "      <th>28534</th>\n",
       "      <td>305213</td>\n",
       "      <td>8630</td>\n",
       "      <td>35941</td>\n",
       "      <td>50</td>\n",
       "      <td>0.0</td>\n",
       "      <td>14.635</td>\n",
       "      <td>reflective</td>\n",
       "      <td>slow</td>\n",
       "      <td>0.546635</td>\n",
       "      <td>male</td>\n",
       "      <td>train-clean-100/LibriSpeech/train-clean-100\\86...</td>\n",
       "    </tr>\n",
       "    <tr>\n",
       "      <th>28535</th>\n",
       "      <td>305213</td>\n",
       "      <td>8630</td>\n",
       "      <td>35941</td>\n",
       "      <td>51</td>\n",
       "      <td>0.0</td>\n",
       "      <td>14.265</td>\n",
       "      <td>emotional</td>\n",
       "      <td>slow</td>\n",
       "      <td>1.051525</td>\n",
       "      <td>male</td>\n",
       "      <td>train-clean-100/LibriSpeech/train-clean-100\\86...</td>\n",
       "    </tr>\n",
       "    <tr>\n",
       "      <th>28536</th>\n",
       "      <td>305213</td>\n",
       "      <td>8630</td>\n",
       "      <td>35941</td>\n",
       "      <td>52</td>\n",
       "      <td>0.0</td>\n",
       "      <td>15.170</td>\n",
       "      <td>calm</td>\n",
       "      <td>norm</td>\n",
       "      <td>1.713909</td>\n",
       "      <td>male</td>\n",
       "      <td>train-clean-100/LibriSpeech/train-clean-100\\86...</td>\n",
       "    </tr>\n",
       "    <tr>\n",
       "      <th>28537</th>\n",
       "      <td>305213</td>\n",
       "      <td>8630</td>\n",
       "      <td>35941</td>\n",
       "      <td>53</td>\n",
       "      <td>0.0</td>\n",
       "      <td>16.170</td>\n",
       "      <td>emotional</td>\n",
       "      <td>slow</td>\n",
       "      <td>0.618429</td>\n",
       "      <td>male</td>\n",
       "      <td>train-clean-100/LibriSpeech/train-clean-100\\86...</td>\n",
       "    </tr>\n",
       "    <tr>\n",
       "      <th>28538</th>\n",
       "      <td>305213</td>\n",
       "      <td>8630</td>\n",
       "      <td>35941</td>\n",
       "      <td>54</td>\n",
       "      <td>0.0</td>\n",
       "      <td>14.255</td>\n",
       "      <td>emotional</td>\n",
       "      <td>slow</td>\n",
       "      <td>0.841810</td>\n",
       "      <td>male</td>\n",
       "      <td>train-clean-100/LibriSpeech/train-clean-100\\86...</td>\n",
       "    </tr>\n",
       "  </tbody>\n",
       "</table>\n",
       "<p>28539 rows × 11 columns</p>\n",
       "</div>"
      ],
      "text/plain": [
       "           ID  READER  BOOK ID  token_id  start     end        label  temp  \\\n",
       "0         198      19      121         0    0.0   1.965        tense  slow   \n",
       "1         198      19      121         1    0.0  11.765        tense  slow   \n",
       "2         198      19      121         2    0.0  10.795   reflective  fast   \n",
       "3         198      19      121         3    0.0  15.480  melancholic  slow   \n",
       "4         198      19      121         4    0.0  12.990         calm  norm   \n",
       "...       ...     ...      ...       ...    ...     ...          ...   ...   \n",
       "28534  305213    8630    35941        50    0.0  14.635   reflective  slow   \n",
       "28535  305213    8630    35941        51    0.0  14.265    emotional  slow   \n",
       "28536  305213    8630    35941        52    0.0  15.170         calm  norm   \n",
       "28537  305213    8630    35941        53    0.0  16.170    emotional  slow   \n",
       "28538  305213    8630    35941        54    0.0  14.255    emotional  slow   \n",
       "\n",
       "            wpm speaker's gender  \\\n",
       "0      1.017812           female   \n",
       "1      1.359966           female   \n",
       "2      2.686429           female   \n",
       "3      1.485788           female   \n",
       "4      1.693610           female   \n",
       "...         ...              ...   \n",
       "28534  0.546635             male   \n",
       "28535  1.051525             male   \n",
       "28536  1.713909             male   \n",
       "28537  0.618429             male   \n",
       "28538  0.841810             male   \n",
       "\n",
       "                                             source_file  \n",
       "0      train-clean-100/LibriSpeech/train-clean-100\\19...  \n",
       "1      train-clean-100/LibriSpeech/train-clean-100\\19...  \n",
       "2      train-clean-100/LibriSpeech/train-clean-100\\19...  \n",
       "3      train-clean-100/LibriSpeech/train-clean-100\\19...  \n",
       "4      train-clean-100/LibriSpeech/train-clean-100\\19...  \n",
       "...                                                  ...  \n",
       "28534  train-clean-100/LibriSpeech/train-clean-100\\86...  \n",
       "28535  train-clean-100/LibriSpeech/train-clean-100\\86...  \n",
       "28536  train-clean-100/LibriSpeech/train-clean-100\\86...  \n",
       "28537  train-clean-100/LibriSpeech/train-clean-100\\86...  \n",
       "28538  train-clean-100/LibriSpeech/train-clean-100\\86...  \n",
       "\n",
       "[28539 rows x 11 columns]"
      ]
     },
     "execution_count": 3,
     "metadata": {},
     "output_type": "execute_result"
    }
   ],
   "source": [
    "df = pd.read_csv('all_mark_audio.csv')\n",
    "df#.head(7)"
   ]
  },
  {
   "cell_type": "code",
   "execution_count": 5,
   "id": "21590ce8",
   "metadata": {},
   "outputs": [
    {
     "data": {
      "text/html": [
       "<div>\n",
       "<style scoped>\n",
       "    .dataframe tbody tr th:only-of-type {\n",
       "        vertical-align: middle;\n",
       "    }\n",
       "\n",
       "    .dataframe tbody tr th {\n",
       "        vertical-align: top;\n",
       "    }\n",
       "\n",
       "    .dataframe thead th {\n",
       "        text-align: right;\n",
       "    }\n",
       "</style>\n",
       "<table border=\"1\" class=\"dataframe\">\n",
       "  <thead>\n",
       "    <tr style=\"text-align: right;\">\n",
       "      <th></th>\n",
       "      <th>ID</th>\n",
       "      <th>READER</th>\n",
       "      <th>MINUTES</th>\n",
       "      <th>SUBSET</th>\n",
       "      <th>PROJ.</th>\n",
       "      <th>BOOK ID</th>\n",
       "      <th>CH. TITLE</th>\n",
       "      <th>PROJECT TITLE</th>\n",
       "      <th>GENRE</th>\n",
       "    </tr>\n",
       "  </thead>\n",
       "  <tbody>\n",
       "    <tr>\n",
       "      <th>0</th>\n",
       "      <td>198</td>\n",
       "      <td>19</td>\n",
       "      <td>8.42</td>\n",
       "      <td>train-clean-100</td>\n",
       "      <td>219</td>\n",
       "      <td>121</td>\n",
       "      <td>Chapter 01</td>\n",
       "      <td>Northanger Abbey</td>\n",
       "      <td>Fiction</td>\n",
       "    </tr>\n",
       "    <tr>\n",
       "      <th>1</th>\n",
       "      <td>209</td>\n",
       "      <td>198</td>\n",
       "      <td>8.20</td>\n",
       "      <td>train-clean-100</td>\n",
       "      <td>219</td>\n",
       "      <td>121</td>\n",
       "      <td>Chapter 12</td>\n",
       "      <td>Northanger Abbey</td>\n",
       "      <td>Fiction</td>\n",
       "    </tr>\n",
       "    <tr>\n",
       "      <th>2</th>\n",
       "      <td>216</td>\n",
       "      <td>403</td>\n",
       "      <td>6.30</td>\n",
       "      <td>train-clean-100</td>\n",
       "      <td>219</td>\n",
       "      <td>121</td>\n",
       "      <td>Chapter 19</td>\n",
       "      <td>Northanger Abbey</td>\n",
       "      <td>Fiction</td>\n",
       "    </tr>\n",
       "    <tr>\n",
       "      <th>3</th>\n",
       "      <td>218</td>\n",
       "      <td>89</td>\n",
       "      <td>12.78</td>\n",
       "      <td>train-clean-100</td>\n",
       "      <td>219</td>\n",
       "      <td>121</td>\n",
       "      <td>Chapter 21</td>\n",
       "      <td>Northanger Abbey</td>\n",
       "      <td>Fiction</td>\n",
       "    </tr>\n",
       "    <tr>\n",
       "      <th>4</th>\n",
       "      <td>219</td>\n",
       "      <td>89</td>\n",
       "      <td>12.30</td>\n",
       "      <td>train-clean-100</td>\n",
       "      <td>219</td>\n",
       "      <td>121</td>\n",
       "      <td>Chapter 22</td>\n",
       "      <td>Northanger Abbey</td>\n",
       "      <td>Fiction</td>\n",
       "    </tr>\n",
       "    <tr>\n",
       "      <th>...</th>\n",
       "      <td>...</td>\n",
       "      <td>...</td>\n",
       "      <td>...</td>\n",
       "      <td>...</td>\n",
       "      <td>...</td>\n",
       "      <td>...</td>\n",
       "      <td>...</td>\n",
       "      <td>...</td>\n",
       "      <td>...</td>\n",
       "    </tr>\n",
       "    <tr>\n",
       "      <th>580</th>\n",
       "      <td>298545</td>\n",
       "      <td>8838</td>\n",
       "      <td>12.55</td>\n",
       "      <td>train-clean-100</td>\n",
       "      <td>8386</td>\n",
       "      <td>10446</td>\n",
       "      <td>The Croxley Master - I, part 1</td>\n",
       "      <td>Green Flag and Other Stories of War and Sport</td>\n",
       "      <td>Fiction</td>\n",
       "    </tr>\n",
       "    <tr>\n",
       "      <th>581</th>\n",
       "      <td>298546</td>\n",
       "      <td>8838</td>\n",
       "      <td>12.51</td>\n",
       "      <td>train-clean-100</td>\n",
       "      <td>8386</td>\n",
       "      <td>10446</td>\n",
       "      <td>The Croxley Master - I, part 2</td>\n",
       "      <td>Green Flag and Other Stories of War and Sport</td>\n",
       "      <td>Fiction</td>\n",
       "    </tr>\n",
       "    <tr>\n",
       "      <th>582</th>\n",
       "      <td>300880</td>\n",
       "      <td>6064</td>\n",
       "      <td>8.82</td>\n",
       "      <td>train-clean-100</td>\n",
       "      <td>8473</td>\n",
       "      <td>44326</td>\n",
       "      <td>Chapter 10</td>\n",
       "      <td>Wanted: A Husband</td>\n",
       "      <td>Fiction</td>\n",
       "    </tr>\n",
       "    <tr>\n",
       "      <th>583</th>\n",
       "      <td>305212</td>\n",
       "      <td>8630</td>\n",
       "      <td>10.50</td>\n",
       "      <td>train-clean-100</td>\n",
       "      <td>8645</td>\n",
       "      <td>35941</td>\n",
       "      <td>How Augustine Went to Carthage and How Patrici...</td>\n",
       "      <td>Life of Saint Monica</td>\n",
       "      <td>Fiction</td>\n",
       "    </tr>\n",
       "    <tr>\n",
       "      <th>584</th>\n",
       "      <td>305213</td>\n",
       "      <td>8630</td>\n",
       "      <td>13.00</td>\n",
       "      <td>train-clean-100</td>\n",
       "      <td>8645</td>\n",
       "      <td>35941</td>\n",
       "      <td>How St. Monica Lived in the Days of Her Widowh...</td>\n",
       "      <td>Life of Saint Monica</td>\n",
       "      <td>Fiction</td>\n",
       "    </tr>\n",
       "  </tbody>\n",
       "</table>\n",
       "<p>585 rows × 9 columns</p>\n",
       "</div>"
      ],
      "text/plain": [
       "         ID  READER  MINUTES           SUBSET  PROJ.  BOOK ID  \\\n",
       "0       198      19     8.42  train-clean-100    219      121   \n",
       "1       209     198     8.20  train-clean-100    219      121   \n",
       "2       216     403     6.30  train-clean-100    219      121   \n",
       "3       218      89    12.78  train-clean-100    219      121   \n",
       "4       219      89    12.30  train-clean-100    219      121   \n",
       "..      ...     ...      ...              ...    ...      ...   \n",
       "580  298545    8838    12.55  train-clean-100   8386    10446   \n",
       "581  298546    8838    12.51  train-clean-100   8386    10446   \n",
       "582  300880    6064     8.82  train-clean-100   8473    44326   \n",
       "583  305212    8630    10.50  train-clean-100   8645    35941   \n",
       "584  305213    8630    13.00  train-clean-100   8645    35941   \n",
       "\n",
       "                                             CH. TITLE  \\\n",
       "0                                           Chapter 01   \n",
       "1                                           Chapter 12   \n",
       "2                                           Chapter 19   \n",
       "3                                           Chapter 21   \n",
       "4                                           Chapter 22   \n",
       "..                                                 ...   \n",
       "580                     The Croxley Master - I, part 1   \n",
       "581                     The Croxley Master - I, part 2   \n",
       "582                                         Chapter 10   \n",
       "583  How Augustine Went to Carthage and How Patrici...   \n",
       "584  How St. Monica Lived in the Days of Her Widowh...   \n",
       "\n",
       "                                     PROJECT TITLE    GENRE  \n",
       "0                                 Northanger Abbey  Fiction  \n",
       "1                                 Northanger Abbey  Fiction  \n",
       "2                                 Northanger Abbey  Fiction  \n",
       "3                                 Northanger Abbey  Fiction  \n",
       "4                                 Northanger Abbey  Fiction  \n",
       "..                                             ...      ...  \n",
       "580  Green Flag and Other Stories of War and Sport  Fiction  \n",
       "581  Green Flag and Other Stories of War and Sport  Fiction  \n",
       "582                              Wanted: A Husband  Fiction  \n",
       "583                           Life of Saint Monica  Fiction  \n",
       "584                           Life of Saint Monica  Fiction  \n",
       "\n",
       "[585 rows x 9 columns]"
      ]
     },
     "execution_count": 5,
     "metadata": {},
     "output_type": "execute_result"
    }
   ],
   "source": [
    "df = pd.read_csv('all_book.csv')\n",
    "df"
   ]
  }
 ],
 "metadata": {
  "kernelspec": {
   "display_name": "Python 3",
   "language": "python",
   "name": "python3"
  },
  "language_info": {
   "codemirror_mode": {
    "name": "ipython",
    "version": 3
   },
   "file_extension": ".py",
   "mimetype": "text/x-python",
   "name": "python",
   "nbconvert_exporter": "python",
   "pygments_lexer": "ipython3",
   "version": "3.10.0"
  }
 },
 "nbformat": 4,
 "nbformat_minor": 5
}
