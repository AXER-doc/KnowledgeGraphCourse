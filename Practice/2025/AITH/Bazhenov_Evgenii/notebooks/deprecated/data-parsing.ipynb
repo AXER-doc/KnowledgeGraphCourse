{
 "cells": [
  {
   "cell_type": "code",
   "execution_count": 40,
   "metadata": {},
   "outputs": [],
   "source": [
    "from bs4 import BeautifulSoup, PageElement\n",
    "from pathlib import Path\n",
    "import os\n",
    "import json\n",
    "\n",
    "folder_path = Path(\"../data/civilopedia/www.civilopedia.net/gathering-storm/civilizations/\")"
   ]
  },
  {
   "cell_type": "code",
   "execution_count": 41,
   "metadata": {},
   "outputs": [
    {
     "data": {
      "text/plain": [
       "{'type': 'civilization', 'name': 'Spain', 'location': 'Europe'}"
      ]
     },
     "execution_count": 41,
     "metadata": {},
     "output_type": "execute_result"
    }
   ],
   "source": [
    "def parse_civilization(html_content: str):\n",
    "    soup = BeautifulSoup(html_content, \"html.parser\")\n",
    "    \n",
    "    # Extract relevant data (example structure, adjust based on the actual HTML structure)\n",
    "    header = soup.find(\"div\", class_=\"App_pageHeaderText__SsfWm\")\n",
    "    name = header.text\n",
    "    location = soup.find(string=\"Location\").parent.parent.nextSibling.text\n",
    "    \n",
    "    return {\n",
    "        \"type\": \"civilization\",\n",
    "        \"name\": name,\n",
    "        \"location\": location\n",
    "    }\n",
    "    \n",
    "with open(folder_path / \"civilization_spain.html\", \"r\", encoding=\"utf-8\") as file:\n",
    "    html_content = file.read()\n",
    "    civ_ex_data = parse_civilization(html_content)\n",
    "\n",
    "civ_ex_data"
   ]
  },
  {
   "cell_type": "code",
   "execution_count": null,
   "metadata": {},
   "outputs": [],
   "source": []
  },
  {
   "cell_type": "code",
   "execution_count": 42,
   "metadata": {},
   "outputs": [
    {
     "data": {
      "text/plain": [
       "{'type': 'leader',\n",
       " 'name': 'Suleiman I, The Magnificent',\n",
       " 'ruler_of': 'Ottomans'}"
      ]
     },
     "execution_count": 42,
     "metadata": {},
     "output_type": "execute_result"
    }
   ],
   "source": [
    "def parse_leader(html_content):\n",
    "    soup = BeautifulSoup(html_content, \"html.parser\")\n",
    "    \n",
    "    header = soup.find(\"div\", class_=\"App_pageHeaderText__SsfWm\")\n",
    "    name = header.text\n",
    "    ruler_of = soup.find(string=\"Traits\").parent.parent.find(string=\"Civilizations\").parent.parent.find_next_sibling().text\n",
    "    \n",
    "    return {\n",
    "        \"type\": \"leader\",\n",
    "        \"name\": name,\n",
    "        \"ruler_of\": ruler_of,\n",
    "    }\n",
    "    \n",
    "with open(folder_path / \"leader_suleiman.html\", \"r\", encoding=\"utf-8\") as file:\n",
    "    html_content = file.read()\n",
    "    leader_ex_data = parse_leader(html_content)\n",
    "\n",
    "leader_ex_data"
   ]
  },
  {
   "cell_type": "code",
   "execution_count": 43,
   "metadata": {},
   "outputs": [
    {
     "name": "stdout",
     "output_type": "stream",
     "text": [
      "Unknown file type: civilizations_intro.html\n",
      "Unknown file type: leaders_intro.html\n",
      "Parsed data saved to parsed_data.json\n"
     ]
    }
   ],
   "source": [
    "parsed_data_filepath = \"parsed_data.json\"\n",
    "\n",
    "\n",
    "def process_files(folder_path: Path):\n",
    "    parsed_data = []\n",
    "\n",
    "    for file_name in os.listdir(folder_path):\n",
    "        file_path = folder_path / file_name\n",
    "\n",
    "        if not file_name.endswith(\".html\"):\n",
    "            continue\n",
    "\n",
    "        with open(file_path, \"r\", encoding=\"utf-8\") as file:\n",
    "            html_content = file.read()\n",
    "\n",
    "            # Parse based on file type\n",
    "            if file_name.startswith(\"civilization_\"):\n",
    "                data = parse_civilization(html_content)\n",
    "                parsed_data.append(data)\n",
    "            elif file_name.startswith(\"leader_\"):\n",
    "                data = parse_leader(html_content)\n",
    "                parsed_data.append(data)\n",
    "            else:\n",
    "                print(f\"Unknown file type: {file_name}\")\n",
    "\n",
    "    with open(parsed_data_filepath, \"w\", encoding=\"utf-8\") as json_file:\n",
    "        json.dump(\n",
    "            parsed_data,\n",
    "            json_file,\n",
    "            ensure_ascii=False,\n",
    "            indent=4,\n",
    "        )\n",
    "\n",
    "    print(f\"Parsed data saved to {parsed_data_filepath}\")\n",
    "\n",
    "\n",
    "# Run the processing function\n",
    "process_files(folder_path)"
   ]
  },
  {
   "cell_type": "code",
   "execution_count": 44,
   "metadata": {},
   "outputs": [
    {
     "data": {
      "text/plain": [
       "<Graph identifier=N511da3a5061b4471b0377a782bd98d70 (<class 'rdflib.graph.Graph'>)>"
      ]
     },
     "execution_count": 44,
     "metadata": {},
     "output_type": "execute_result"
    }
   ],
   "source": [
    "from rdflib import Graph, Namespace, Literal, RDF, RDFS\n",
    "\n",
    "g = Graph()\n",
    "ontology_file = \"../data/raw/civ6-ontology.owl\"\n",
    "g.parse(ontology_file, format=\"xml\")"
   ]
  },
  {
   "cell_type": "code",
   "execution_count": 45,
   "metadata": {},
   "outputs": [],
   "source": [
    "import pandas as pd\n",
    "ex = Namespace('http://webprotege.stanford.edu/')\n",
    "Leader = ex.RBtVYtTDmwD9yyR2DUW0xm3\n",
    "Civilization = ex.RHLVvXdWi6EA2dvTpWq8lH\n",
    "RuledBy = ex.RB9IPkL7AbK2eV2GytXo19K\n",
    "\n",
    "df = pd.read_json(parsed_data_filepath)\n",
    "\n",
    "# new_individual = ex[civ_name]\n",
    "# g.add((new_individual, RDF.type, person_class))\n",
    "# g.add((new_individual, RDFS.label, Literal(civ_name)))\n",
    "# updated_file = \"updated_ontology_with_label.owl\"\n",
    "# g.serialize(destination=updated_file, format=\"xml\")\n",
    "# print(f\"Updated ontology saved to {updated_file}\")"
   ]
  },
  {
   "cell_type": "code",
   "execution_count": 46,
   "metadata": {},
   "outputs": [],
   "source": [
    "civilizations = df[df.type == 'civilization']\n",
    "for index, civ in civilizations.iterrows():\n",
    "    civ_name = civ['name'].replace(' ', '_')\n",
    "    ind = ex[civ_name]\n",
    "    g.add((ind, RDF.type, Civilization))\n",
    "    g.add((ind, RDFS.label, Literal(civ_name)))"
   ]
  },
  {
   "cell_type": "code",
   "execution_count": 47,
   "metadata": {},
   "outputs": [],
   "source": [
    "leaders = df[df.type == 'leader']\n",
    "for index, leader in leaders.iterrows():\n",
    "    leader_name = leader['name'].replace(' ', '_')\n",
    "    leader_ind = ex[leader_name]\n",
    "    g.add((leader_ind, RDF.type, Leader))\n",
    "    g.add((leader_ind, RDFS.label, Literal(leader_name)))\n",
    "    \n",
    "    for i, c in civilizations[civilizations.name == leader.ruler_of].iterrows():\n",
    "        civ_name = c['name'].replace(' ', '_')\n",
    "        civ_ind = ex[civ_name]\n",
    "        g.add((civ_ind, RuledBy, leader_ind))\n",
    "    "
   ]
  },
  {
   "cell_type": "code",
   "execution_count": 48,
   "metadata": {},
   "outputs": [
    {
     "name": "stdout",
     "output_type": "stream",
     "text": [
      "Updated ontology saved to updated_ontology_with_label.owl\n"
     ]
    }
   ],
   "source": [
    "updated_owl_file = \"updated_ontology_with_label.owl\"\n",
    "g.serialize(destination=updated_owl_file, format=\"xml\")\n",
    "print(f\"Updated ontology saved to {updated_owl_file}\")"
   ]
  },
  {
   "cell_type": "code",
   "execution_count": null,
   "metadata": {},
   "outputs": [],
   "source": []
  }
 ],
 "metadata": {
  "kernelspec": {
   "display_name": ".venv",
   "language": "python",
   "name": "python3"
  },
  "language_info": {
   "codemirror_mode": {
    "name": "ipython",
    "version": 3
   },
   "file_extension": ".py",
   "mimetype": "text/x-python",
   "name": "python",
   "nbconvert_exporter": "python",
   "pygments_lexer": "ipython3",
   "version": "3.12.4"
  }
 },
 "nbformat": 4,
 "nbformat_minor": 2
}
