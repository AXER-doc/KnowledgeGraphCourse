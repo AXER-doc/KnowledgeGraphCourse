{
 "cells": [
  {
   "cell_type": "code",
   "execution_count": 6,
   "metadata": {},
   "outputs": [],
   "source": [
    "from rdflib import Graph, Namespace\n",
    "\n",
    "# Создаем граф и загружаем существующую онтологию\n",
    "g = Graph()\n",
    "g.parse(\"../dota2_ontology_v2.rdf\", format=\"xml\")  # Замените путь на путь к вашему RDF файлу\n",
    "\n",
    "# Определяем пространство имен\n",
    "NS = Namespace(\"http://www.semanticweb.org/root/ontologies/2025/0/dota2#\")\n",
    "g.bind(\"dota2\", NS)"
   ]
  },
  {
   "cell_type": "markdown",
   "metadata": {},
   "source": [
    "# 1. Герои, которые хорошо показывают себя в игре против своих родственников"
   ]
  },
  {
   "cell_type": "code",
   "execution_count": 8,
   "metadata": {},
   "outputs": [
    {
     "name": "stdout",
     "output_type": "stream",
     "text": [
      "Герой: http://www.semanticweb.org/root/ontologies/2025/0/dota2#Dragon-Knight, хорош против родственника: http://www.semanticweb.org/root/ontologies/2025/0/dota2#Jakiro\n",
      "Герой: http://www.semanticweb.org/root/ontologies/2025/0/dota2#Storm-Spirit, хорош против родственника: http://www.semanticweb.org/root/ontologies/2025/0/dota2#Void-Spirit\n",
      "Герой: http://www.semanticweb.org/root/ontologies/2025/0/dota2#Zeus, хорош против родственника: http://www.semanticweb.org/root/ontologies/2025/0/dota2#Mars\n"
     ]
    }
   ],
   "source": [
    "query_1 = \"\"\"\n",
    "PREFIX dota2: <http://www.semanticweb.org/root/ontologies/2025/0/dota2#>\n",
    "SELECT ?hero ?relative\n",
    "WHERE {\n",
    "  ?hero dota2:bestVersus ?relative .\n",
    "  ?hero dota2:relativeTo ?relative .\n",
    "}\n",
    "\"\"\"\n",
    "for row in g.query(query_1):\n",
    "    print(f\"Герой: {row.hero}, хорош против родственника: {row.relative}\")\n"
   ]
  },
  {
   "cell_type": "markdown",
   "metadata": {},
   "source": [
    "предатели! семья - это главное"
   ]
  },
  {
   "cell_type": "markdown",
   "metadata": {},
   "source": [
    "# 2. Найти героев, которые являются родственниками, имеют разный тип атаки, и покупают один и тот же предмет"
   ]
  },
  {
   "cell_type": "code",
   "execution_count": 11,
   "metadata": {},
   "outputs": [
    {
     "name": "stdout",
     "output_type": "stream",
     "text": [
      "Герой 1: http://www.semanticweb.org/root/ontologies/2025/0/dota2#Storm-Spirit, Герой 2: http://www.semanticweb.org/root/ontologies/2025/0/dota2#Ember-Spirit, Общий предмет: http://www.semanticweb.org/root/ontologies/2025/0/dota2#oblivion_staff\n",
      "Герой 1: http://www.semanticweb.org/root/ontologies/2025/0/dota2#Void-Spirit, Герой 2: http://www.semanticweb.org/root/ontologies/2025/0/dota2#Storm-Spirit, Общий предмет: http://www.semanticweb.org/root/ontologies/2025/0/dota2#ogre_axe\n",
      "Герой 1: http://www.semanticweb.org/root/ontologies/2025/0/dota2#Ember-Spirit, Герой 2: http://www.semanticweb.org/root/ontologies/2025/0/dota2#Storm-Spirit, Общий предмет: http://www.semanticweb.org/root/ontologies/2025/0/dota2#oblivion_staff\n",
      "Герой 1: http://www.semanticweb.org/root/ontologies/2025/0/dota2#Earth-Spirit, Герой 2: http://www.semanticweb.org/root/ontologies/2025/0/dota2#Storm-Spirit, Общий предмет: http://www.semanticweb.org/root/ontologies/2025/0/dota2#ogre_axe\n",
      "Герой 1: http://www.semanticweb.org/root/ontologies/2025/0/dota2#Storm-Spirit, Герой 2: http://www.semanticweb.org/root/ontologies/2025/0/dota2#Earth-Spirit, Общий предмет: http://www.semanticweb.org/root/ontologies/2025/0/dota2#ogre_axe\n",
      "Герой 1: http://www.semanticweb.org/root/ontologies/2025/0/dota2#Storm-Spirit, Герой 2: http://www.semanticweb.org/root/ontologies/2025/0/dota2#Void-Spirit, Общий предмет: http://www.semanticweb.org/root/ontologies/2025/0/dota2#ogre_axe\n",
      "Герой 1: http://www.semanticweb.org/root/ontologies/2025/0/dota2#Mars, Герой 2: http://www.semanticweb.org/root/ontologies/2025/0/dota2#Zeus, Общий предмет: http://www.semanticweb.org/root/ontologies/2025/0/dota2#ogre_axe\n",
      "Герой 1: http://www.semanticweb.org/root/ontologies/2025/0/dota2#Zeus, Герой 2: http://www.semanticweb.org/root/ontologies/2025/0/dota2#Mars, Общий предмет: http://www.semanticweb.org/root/ontologies/2025/0/dota2#ogre_axe\n",
      "Герой 1: http://www.semanticweb.org/root/ontologies/2025/0/dota2#Enchantress, Герой 2: http://www.semanticweb.org/root/ontologies/2025/0/dota2#Terrorblade, Общий предмет: http://www.semanticweb.org/root/ontologies/2025/0/dota2#blade_of_alacrity\n",
      "Герой 1: http://www.semanticweb.org/root/ontologies/2025/0/dota2#Snapfire, Герой 2: http://www.semanticweb.org/root/ontologies/2025/0/dota2#Timbersaw, Общий предмет: http://www.semanticweb.org/root/ontologies/2025/0/dota2#staff_of_wizardry\n",
      "Герой 1: http://www.semanticweb.org/root/ontologies/2025/0/dota2#Terrorblade, Герой 2: http://www.semanticweb.org/root/ontologies/2025/0/dota2#Enchantress, Общий предмет: http://www.semanticweb.org/root/ontologies/2025/0/dota2#blade_of_alacrity\n",
      "Герой 1: http://www.semanticweb.org/root/ontologies/2025/0/dota2#Timbersaw, Герой 2: http://www.semanticweb.org/root/ontologies/2025/0/dota2#Snapfire, Общий предмет: http://www.semanticweb.org/root/ontologies/2025/0/dota2#staff_of_wizardry\n"
     ]
    }
   ],
   "source": [
    "query_2 = \"\"\"\n",
    "PREFIX dota2: <http://www.semanticweb.org/root/ontologies/2025/0/dota2#>\n",
    "SELECT ?hero1 ?hero2 ?item\n",
    "WHERE {\n",
    "  ?hero1 dota2:relativeTo ?hero2 .\n",
    "  ?hero1 dota2:buysItem ?item .\n",
    "  ?hero2 dota2:buysItem ?item .\n",
    "  ?hero1 dota2:hero_attack_type ?attackType1 .\n",
    "  ?hero2 dota2:hero_attack_type ?attackType2 .\n",
    "  FILTER (?hero1 != ?hero2 && ?attackType1 != ?attackType2)\n",
    "}\n",
    "\"\"\"\n",
    "for row in g.query(query_2):\n",
    "    print(f\"Герой 1: {row.hero1}, Герой 2: {row.hero2}, Общий предмет: {row.item}\")\n"
   ]
  },
  {
   "cell_type": "markdown",
   "metadata": {},
   "source": [
    "# 3. Найти героев, у которых меньше всего ролей"
   ]
  },
  {
   "cell_type": "code",
   "execution_count": 17,
   "metadata": {},
   "outputs": [
    {
     "name": "stdout",
     "output_type": "stream",
     "text": [
      "Герой с 1 или 2 ролями: http://www.semanticweb.org/root/ontologies/2025/0/dota2#Phantom-Assassin\n",
      "Герой с 1 или 2 ролями: http://www.semanticweb.org/root/ontologies/2025/0/dota2#Weaver\n",
      "Герой с 1 или 2 ролями: http://www.semanticweb.org/root/ontologies/2025/0/dota2#Dawnbreaker\n",
      "Герой с 1 или 2 ролями: http://www.semanticweb.org/root/ontologies/2025/0/dota2#Shadow-Fiend\n",
      "Герой с 1 или 2 ролями: http://www.semanticweb.org/root/ontologies/2025/0/dota2#Zeus\n",
      "Герой с 1 или 2 ролями: http://www.semanticweb.org/root/ontologies/2025/0/dota2#Sniper\n",
      "Герой с 1 или 2 ролями: http://www.semanticweb.org/root/ontologies/2025/0/dota2#Templar-Assassin\n",
      "Герой с 1 или 2 ролями: http://www.semanticweb.org/root/ontologies/2025/0/dota2#Pugna\n",
      "Герой с 1 или 2 ролями: http://www.semanticweb.org/root/ontologies/2025/0/dota2#Chen\n",
      "Герой с 1 или 2 ролями: http://www.semanticweb.org/root/ontologies/2025/0/dota2#Lich\n",
      "Герой с 1 или 2 ролями: http://www.semanticweb.org/root/ontologies/2025/0/dota2#Techies\n",
      "Герой с 1 или 2 ролями: http://www.semanticweb.org/root/ontologies/2025/0/dota2#Bounty-Hunter\n"
     ]
    }
   ],
   "source": [
    "query_3 = \"\"\"\n",
    "PREFIX dota2: <http://www.semanticweb.org/root/ontologies/2025/0/dota2#>\n",
    "SELECT ?hero\n",
    "WHERE {\n",
    "  ?hero dota2:hasRole ?role .\n",
    "}\n",
    "GROUP BY ?hero\n",
    "HAVING (COUNT(?role) < 3)\n",
    "\"\"\"\n",
    "for row in g.query(query_3):\n",
    "    print(f\"Герой с 1 или 2 ролями: {row.hero}\")\n"
   ]
  },
  {
   "cell_type": "markdown",
   "metadata": {},
   "source": []
  },
  {
   "cell_type": "markdown",
   "metadata": {},
   "source": [
    "# 4. 3 пары героев, которые хороши против одних и тех же героев"
   ]
  },
  {
   "cell_type": "code",
   "execution_count": 29,
   "metadata": {},
   "outputs": [
    {
     "name": "stdout",
     "output_type": "stream",
     "text": [
      "Герой 1: http://www.semanticweb.org/root/ontologies/2025/0/dota2#Alchemist, Герой 2: http://www.semanticweb.org/root/ontologies/2025/0/dota2#Arc-Warden, Общее количество bestVersus: 6\n",
      "Герой 1: http://www.semanticweb.org/root/ontologies/2025/0/dota2#Zeus, Герой 2: http://www.semanticweb.org/root/ontologies/2025/0/dota2#Centaur-Warrunner, Общее количество bestVersus: 6\n",
      "Герой 1: http://www.semanticweb.org/root/ontologies/2025/0/dota2#Centaur-Warrunner, Герой 2: http://www.semanticweb.org/root/ontologies/2025/0/dota2#Zeus, Общее количество bestVersus: 6\n"
     ]
    }
   ],
   "source": [
    "query_most_common_best_versus = \"\"\"\n",
    "PREFIX dota2: <http://www.semanticweb.org/root/ontologies/2025/0/dota2#>\n",
    "SELECT ?hero1 ?hero2 (COUNT(?commonEnemy) AS ?commonCount)\n",
    "WHERE {\n",
    "  ?hero1 dota2:bestVersus ?commonEnemy .\n",
    "  ?hero2 dota2:bestVersus ?commonEnemy .\n",
    "  FILTER (?hero1 != ?hero2)\n",
    "}\n",
    "GROUP BY ?hero1 ?hero2\n",
    "ORDER BY DESC(?commonCount)\n",
    "LIMIT 3\n",
    "\"\"\"\n",
    "for row in g.query(query_most_common_best_versus):\n",
    "    print(f\"Герой 1: {row.hero1}, Герой 2: {row.hero2}, Общее количество bestVersus: {row.commonCount}\")\n"
   ]
  },
  {
   "cell_type": "markdown",
   "metadata": {},
   "source": [
    "# 5. Соперники выбрали своих героев. Нам нужно найти наиболее подходящих, чтобы выбрать и победить"
   ]
  },
  {
   "cell_type": "code",
   "execution_count": 27,
   "metadata": {},
   "outputs": [
    {
     "name": "stdout",
     "output_type": "stream",
     "text": [
      "Герой, который хорош против Dazzle и Snapfire: http://www.semanticweb.org/root/ontologies/2025/0/dota2#Juggernaut\n",
      "Герой, который хорош против Dazzle и Snapfire: http://www.semanticweb.org/root/ontologies/2025/0/dota2#Luna\n"
     ]
    }
   ],
   "source": [
    "query_good_against_pugna_and_crystal_maiden = \"\"\"\n",
    "PREFIX dota2: <http://www.semanticweb.org/root/ontologies/2025/0/dota2#>\n",
    "SELECT ?hero\n",
    "WHERE {\n",
    "  ?hero dota2:bestVersus dota2:Dazzle .\n",
    "  ?hero dota2:bestVersus dota2:Snapfire .\n",
    "}\n",
    "\"\"\"\n",
    "for row in g.query(query_good_against_pugna_and_crystal_maiden):\n",
    "    print(f\"Герой, который хорош против Dazzle и Snapfire: {row.hero}\")\n"
   ]
  },
  {
   "cell_type": "code",
   "execution_count": null,
   "metadata": {},
   "outputs": [],
   "source": []
  }
 ],
 "metadata": {
  "kernelspec": {
   "display_name": ".venv",
   "language": "python",
   "name": "python3"
  },
  "language_info": {
   "codemirror_mode": {
    "name": "ipython",
    "version": 3
   },
   "file_extension": ".py",
   "mimetype": "text/x-python",
   "name": "python",
   "nbconvert_exporter": "python",
   "pygments_lexer": "ipython3",
   "version": "3.12.3"
  }
 },
 "nbformat": 4,
 "nbformat_minor": 2
}
