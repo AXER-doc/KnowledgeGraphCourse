{
 "cells": [
  {
   "cell_type": "code",
   "execution_count": 1,
   "metadata": {},
   "outputs": [],
   "source": [
    "import numpy as np\n",
    "from rdflib import Graph\n",
    "from ampligraph.evaluation import train_test_split_no_unseen\n",
    "from ampligraph.latent_features import ScoringBasedEmbeddingModel\n",
    "from ampligraph.latent_features.loss_functions import get as get_loss\n",
    "from ampligraph.latent_features.regularizers import get as get_regularizer\n",
    "from ampligraph.evaluation import mr_score, mrr_score, hits_at_n_score\n",
    "import tensorflow as tf"
   ]
  },
  {
   "cell_type": "code",
   "execution_count": 2,
   "metadata": {},
   "outputs": [],
   "source": [
    "# Загрузка онтологии\n",
    "g = Graph()\n",
    "g.parse(r\"ontology\\basic_ontlogy_characters.rdf\")\n",
    "\n",
    "# Извлечение триплетов\n",
    "triples = []\n",
    "for subj, pred, obj in g:\n",
    "    triples.append((str(subj), str(pred), str(obj)))"
   ]
  },
  {
   "cell_type": "code",
   "execution_count": 5,
   "metadata": {},
   "outputs": [],
   "source": [
    "# Преобразование в numpy массив\n",
    "triples = np.array(triples)\n",
    "\n",
    "# Разделение на обучающую и валидационную выборки\n",
    "X_train, X_valid = train_test_split_no_unseen(triples, test_size=1000)\n",
    "\n",
    "# Определение модели\n",
    "model = ScoringBasedEmbeddingModel(\n",
    "    k=100,\n",
    "    eta=20,\n",
    "    scoring_type='ComplEx',\n",
    "    seed=0\n",
    ")"
   ]
  },
  {
   "cell_type": "code",
   "execution_count": 7,
   "metadata": {},
   "outputs": [
    {
     "name": "stdout",
     "output_type": "stream",
     "text": [
      "Epoch 1/300\n",
      "55/55 [==============================] - 1s 12ms/step - loss: 28.8667\n",
      "Epoch 2/300\n",
      "55/55 [==============================] - 0s 2ms/step - loss: 28.8332\n",
      "Epoch 3/300\n",
      "55/55 [==============================] - 0s 2ms/step - loss: 28.7969\n",
      "Epoch 4/300\n",
      "55/55 [==============================] - 0s 1ms/step - loss: 28.7616\n",
      "Epoch 5/300\n",
      "55/55 [==============================] - 0s 1ms/step - loss: 28.7258\n",
      "Epoch 6/300\n",
      "55/55 [==============================] - 0s 2ms/step - loss: 28.6894\n",
      "Epoch 7/300\n",
      "55/55 [==============================] - 0s 2ms/step - loss: 28.6516\n",
      "Epoch 8/300\n",
      "55/55 [==============================] - 0s 2ms/step - loss: 28.6132\n",
      "Epoch 9/300\n",
      "55/55 [==============================] - 0s 1ms/step - loss: 28.5739\n",
      "Epoch 10/300\n",
      "55/55 [==============================] - 0s 1ms/step - loss: 28.5323\n",
      "Epoch 11/300\n",
      "55/55 [==============================] - 0s 1ms/step - loss: 28.4895\n",
      "Epoch 12/300\n",
      "55/55 [==============================] - 0s 1ms/step - loss: 28.4461\n",
      "Epoch 13/300\n",
      "55/55 [==============================] - 0s 1ms/step - loss: 28.3999\n",
      "Epoch 14/300\n",
      "55/55 [==============================] - 0s 1ms/step - loss: 28.3531\n",
      "Epoch 15/300\n",
      "55/55 [==============================] - 0s 1ms/step - loss: 28.3049\n",
      "Epoch 16/300\n",
      "55/55 [==============================] - 0s 1ms/step - loss: 28.2550\n",
      "Epoch 17/300\n",
      "55/55 [==============================] - 0s 1ms/step - loss: 28.2042\n",
      "Epoch 18/300\n",
      "55/55 [==============================] - 0s 1ms/step - loss: 28.1515\n",
      "Epoch 19/300\n",
      "55/55 [==============================] - 0s 1ms/step - loss: 28.0981\n",
      "Epoch 20/300\n",
      "55/55 [==============================] - 0s 1ms/step - loss: 28.0419\n",
      "Epoch 21/300\n",
      "55/55 [==============================] - 0s 1ms/step - loss: 27.9853\n",
      "Epoch 22/300\n",
      "55/55 [==============================] - 0s 1ms/step - loss: 27.9281\n",
      "Epoch 23/300\n",
      "55/55 [==============================] - 0s 1ms/step - loss: 27.8684\n",
      "Epoch 24/300\n",
      "55/55 [==============================] - 0s 1ms/step - loss: 27.8065\n",
      "Epoch 25/300\n",
      "55/55 [==============================] - 0s 1ms/step - loss: 27.7427\n",
      "Epoch 26/300\n",
      "55/55 [==============================] - 0s 1ms/step - loss: 27.6779\n",
      "Epoch 27/300\n",
      "55/55 [==============================] - 0s 1ms/step - loss: 27.6106\n",
      "Epoch 28/300\n",
      "55/55 [==============================] - 0s 1ms/step - loss: 27.5428\n",
      "Epoch 29/300\n",
      "55/55 [==============================] - 0s 1ms/step - loss: 27.4736\n",
      "Epoch 30/300\n",
      "55/55 [==============================] - 0s 1ms/step - loss: 27.4026\n",
      "Epoch 31/300\n",
      "55/55 [==============================] - 0s 2ms/step - loss: 27.3293\n",
      "Epoch 32/300\n",
      "55/55 [==============================] - 0s 1ms/step - loss: 27.2543\n",
      "Epoch 33/300\n",
      "55/55 [==============================] - 0s 2ms/step - loss: 27.1775\n",
      "Epoch 34/300\n",
      "55/55 [==============================] - 0s 2ms/step - loss: 27.0985\n",
      "Epoch 35/300\n",
      "55/55 [==============================] - 0s 1ms/step - loss: 27.0192\n",
      "Epoch 36/300\n",
      "55/55 [==============================] - 0s 1ms/step - loss: 26.9391\n",
      "Epoch 37/300\n",
      "55/55 [==============================] - 0s 1ms/step - loss: 26.8573\n",
      "Epoch 38/300\n",
      "55/55 [==============================] - 0s 2ms/step - loss: 26.7730\n",
      "Epoch 39/300\n",
      "55/55 [==============================] - 0s 1ms/step - loss: 26.6876\n",
      "Epoch 40/300\n",
      "55/55 [==============================] - 0s 1ms/step - loss: 26.6028\n",
      "Epoch 41/300\n",
      "55/55 [==============================] - 0s 1ms/step - loss: 26.5154\n",
      "Epoch 42/300\n",
      "55/55 [==============================] - 0s 2ms/step - loss: 26.4274\n",
      "Epoch 43/300\n",
      "55/55 [==============================] - 0s 1ms/step - loss: 26.3371\n",
      "Epoch 44/300\n",
      "55/55 [==============================] - 0s 1ms/step - loss: 26.2469\n",
      "Epoch 45/300\n",
      "55/55 [==============================] - 0s 1ms/step - loss: 26.1544\n",
      "Epoch 46/300\n",
      "55/55 [==============================] - 0s 1ms/step - loss: 26.0609\n",
      "Epoch 47/300\n",
      "55/55 [==============================] - 0s 1ms/step - loss: 25.9673\n",
      "Epoch 48/300\n",
      "55/55 [==============================] - 0s 1ms/step - loss: 25.8714\n",
      "Epoch 49/300\n",
      "55/55 [==============================] - 0s 1ms/step - loss: 25.7740\n",
      "Epoch 50/300\n",
      "55/55 [==============================] - 0s 1ms/step - loss: 25.6779\n",
      "Epoch 51/300\n",
      "55/55 [==============================] - 0s 1ms/step - loss: 25.5795\n",
      "Epoch 52/300\n",
      "55/55 [==============================] - 0s 1ms/step - loss: 25.4816\n",
      "Epoch 53/300\n",
      "55/55 [==============================] - 0s 1ms/step - loss: 25.3811\n",
      "Epoch 54/300\n",
      "55/55 [==============================] - 0s 1ms/step - loss: 25.2811\n",
      "Epoch 55/300\n",
      "55/55 [==============================] - 0s 1ms/step - loss: 25.1795\n",
      "Epoch 56/300\n",
      "55/55 [==============================] - 0s 1ms/step - loss: 25.0786\n",
      "Epoch 57/300\n",
      "55/55 [==============================] - 0s 1ms/step - loss: 24.9749\n",
      "Epoch 58/300\n",
      "55/55 [==============================] - 0s 1ms/step - loss: 24.8717\n",
      "Epoch 59/300\n",
      "55/55 [==============================] - 0s 1ms/step - loss: 24.7676\n",
      "Epoch 60/300\n",
      "55/55 [==============================] - 0s 1ms/step - loss: 24.6623\n",
      "Epoch 61/300\n",
      "55/55 [==============================] - 0s 1ms/step - loss: 24.5578\n",
      "Epoch 62/300\n",
      "55/55 [==============================] - 0s 1ms/step - loss: 24.4519\n",
      "Epoch 63/300\n",
      "55/55 [==============================] - 0s 1ms/step - loss: 24.3477\n",
      "Epoch 64/300\n",
      "55/55 [==============================] - 0s 1ms/step - loss: 24.2397\n",
      "Epoch 65/300\n",
      "55/55 [==============================] - 0s 2ms/step - loss: 24.1337\n",
      "Epoch 66/300\n",
      "55/55 [==============================] - 0s 1ms/step - loss: 24.0285\n",
      "Epoch 67/300\n",
      "55/55 [==============================] - 0s 1ms/step - loss: 23.9226\n",
      "Epoch 68/300\n",
      "55/55 [==============================] - 0s 2ms/step - loss: 23.8174\n",
      "Epoch 69/300\n",
      "55/55 [==============================] - 0s 1ms/step - loss: 23.7116\n",
      "Epoch 70/300\n",
      "55/55 [==============================] - 0s 1ms/step - loss: 23.6045\n",
      "Epoch 71/300\n",
      "55/55 [==============================] - 0s 1ms/step - loss: 23.4965\n",
      "Epoch 72/300\n",
      "55/55 [==============================] - 0s 1ms/step - loss: 23.3891\n",
      "Epoch 73/300\n",
      "55/55 [==============================] - 0s 1ms/step - loss: 23.2820\n",
      "Epoch 74/300\n",
      "55/55 [==============================] - 0s 1ms/step - loss: 23.1752\n",
      "Epoch 75/300\n",
      "55/55 [==============================] - 0s 1ms/step - loss: 23.0683\n",
      "Epoch 76/300\n",
      "55/55 [==============================] - 0s 1ms/step - loss: 22.9606\n",
      "Epoch 77/300\n",
      "55/55 [==============================] - 0s 1ms/step - loss: 22.8566\n",
      "Epoch 78/300\n",
      "55/55 [==============================] - 0s 1ms/step - loss: 22.7493\n",
      "Epoch 79/300\n",
      "55/55 [==============================] - 0s 1ms/step - loss: 22.6420\n",
      "Epoch 80/300\n",
      "55/55 [==============================] - 0s 1ms/step - loss: 22.5371\n",
      "Epoch 81/300\n",
      "55/55 [==============================] - 0s 1ms/step - loss: 22.4315\n",
      "Epoch 82/300\n",
      "55/55 [==============================] - 0s 1ms/step - loss: 22.3268\n",
      "Epoch 83/300\n",
      "55/55 [==============================] - 0s 1ms/step - loss: 22.2212\n",
      "Epoch 84/300\n",
      "55/55 [==============================] - 0s 1ms/step - loss: 22.1143\n",
      "Epoch 85/300\n",
      "55/55 [==============================] - 0s 1ms/step - loss: 22.0088\n",
      "Epoch 86/300\n",
      "55/55 [==============================] - 0s 1ms/step - loss: 21.9042\n",
      "Epoch 87/300\n",
      "55/55 [==============================] - 0s 1ms/step - loss: 21.7985\n",
      "Epoch 88/300\n",
      "55/55 [==============================] - 0s 1ms/step - loss: 21.6944\n",
      "Epoch 89/300\n",
      "55/55 [==============================] - 0s 1ms/step - loss: 21.5916\n",
      "Epoch 90/300\n",
      "55/55 [==============================] - 0s 1ms/step - loss: 21.4881\n",
      "Epoch 91/300\n",
      "55/55 [==============================] - 0s 1ms/step - loss: 21.3847\n",
      "Epoch 92/300\n",
      "55/55 [==============================] - 0s 1ms/step - loss: 21.2833\n",
      "Epoch 93/300\n",
      "55/55 [==============================] - 0s 1ms/step - loss: 21.1824\n",
      "Epoch 94/300\n",
      "55/55 [==============================] - 0s 1ms/step - loss: 21.0799\n",
      "Epoch 95/300\n",
      "55/55 [==============================] - 0s 1ms/step - loss: 20.9779\n",
      "Epoch 96/300\n",
      "55/55 [==============================] - 0s 1ms/step - loss: 20.8784\n",
      "Epoch 97/300\n",
      "55/55 [==============================] - 0s 1ms/step - loss: 20.7794\n",
      "Epoch 98/300\n",
      "55/55 [==============================] - 0s 1ms/step - loss: 20.6799\n",
      "Epoch 99/300\n",
      "55/55 [==============================] - 0s 1ms/step - loss: 20.5814\n",
      "Epoch 100/300\n",
      "55/55 [==============================] - 0s 1ms/step - loss: 20.4817\n",
      "Epoch 101/300\n",
      "55/55 [==============================] - 0s 1ms/step - loss: 20.3828\n",
      "Epoch 102/300\n",
      "55/55 [==============================] - 0s 1ms/step - loss: 20.2838\n",
      "Epoch 103/300\n",
      "55/55 [==============================] - 0s 1ms/step - loss: 20.1872\n",
      "Epoch 104/300\n",
      "55/55 [==============================] - 0s 1ms/step - loss: 20.0900\n",
      "Epoch 105/300\n",
      "55/55 [==============================] - 0s 1ms/step - loss: 19.9949\n",
      "Epoch 106/300\n",
      "55/55 [==============================] - 0s 1ms/step - loss: 19.8975\n",
      "Epoch 107/300\n",
      "55/55 [==============================] - 0s 1ms/step - loss: 19.8005\n",
      "Epoch 108/300\n",
      "55/55 [==============================] - 0s 1ms/step - loss: 19.7055\n",
      "Epoch 109/300\n",
      "55/55 [==============================] - 0s 1ms/step - loss: 19.6107\n",
      "Epoch 110/300\n",
      "55/55 [==============================] - 0s 1ms/step - loss: 19.5161\n",
      "Epoch 111/300\n",
      "55/55 [==============================] - 0s 1ms/step - loss: 19.4224\n",
      "Epoch 112/300\n",
      "55/55 [==============================] - 0s 1ms/step - loss: 19.3290\n",
      "Epoch 113/300\n",
      "55/55 [==============================] - 0s 1ms/step - loss: 19.2367\n",
      "Epoch 114/300\n",
      "55/55 [==============================] - 0s 1ms/step - loss: 19.1453\n",
      "Epoch 115/300\n",
      "55/55 [==============================] - 0s 1ms/step - loss: 19.0528\n",
      "Epoch 116/300\n",
      "55/55 [==============================] - 0s 1ms/step - loss: 18.9618\n",
      "Epoch 117/300\n",
      "55/55 [==============================] - 0s 1ms/step - loss: 18.8708\n",
      "Epoch 118/300\n",
      "55/55 [==============================] - 0s 2ms/step - loss: 18.7802\n",
      "Epoch 119/300\n",
      "55/55 [==============================] - 0s 1ms/step - loss: 18.6905\n",
      "Epoch 120/300\n",
      "55/55 [==============================] - 0s 1ms/step - loss: 18.6019\n",
      "Epoch 121/300\n",
      "55/55 [==============================] - 0s 1ms/step - loss: 18.5125\n",
      "Epoch 122/300\n",
      "55/55 [==============================] - 0s 1ms/step - loss: 18.4255\n",
      "Epoch 123/300\n",
      "55/55 [==============================] - 0s 1ms/step - loss: 18.3382\n",
      "Epoch 124/300\n",
      "55/55 [==============================] - 0s 1ms/step - loss: 18.2524\n",
      "Epoch 125/300\n",
      "55/55 [==============================] - 0s 1ms/step - loss: 18.1644\n",
      "Epoch 126/300\n",
      "55/55 [==============================] - 0s 1ms/step - loss: 18.0791\n",
      "Epoch 127/300\n",
      "55/55 [==============================] - 0s 1ms/step - loss: 17.9936\n",
      "Epoch 128/300\n",
      "55/55 [==============================] - 0s 1ms/step - loss: 17.9091\n",
      "Epoch 129/300\n",
      "55/55 [==============================] - 0s 1ms/step - loss: 17.8250\n",
      "Epoch 130/300\n",
      "55/55 [==============================] - 0s 1ms/step - loss: 17.7416\n",
      "Epoch 131/300\n",
      "55/55 [==============================] - 0s 1ms/step - loss: 17.6575\n",
      "Epoch 132/300\n",
      "55/55 [==============================] - 0s 1ms/step - loss: 17.5746\n",
      "Epoch 133/300\n",
      "55/55 [==============================] - 0s 1ms/step - loss: 17.4912\n",
      "Epoch 134/300\n",
      "55/55 [==============================] - 0s 1ms/step - loss: 17.4090\n",
      "Epoch 135/300\n",
      "55/55 [==============================] - 0s 1ms/step - loss: 17.3277\n",
      "Epoch 136/300\n",
      "55/55 [==============================] - 0s 1ms/step - loss: 17.2456\n",
      "Epoch 137/300\n",
      "55/55 [==============================] - 0s 1ms/step - loss: 17.1666\n",
      "Epoch 138/300\n",
      "55/55 [==============================] - 0s 1ms/step - loss: 17.0859\n",
      "Epoch 139/300\n",
      "55/55 [==============================] - 0s 1ms/step - loss: 17.0067\n",
      "Epoch 140/300\n",
      "55/55 [==============================] - 0s 1ms/step - loss: 16.9281\n",
      "Epoch 141/300\n",
      "55/55 [==============================] - 0s 1ms/step - loss: 16.8496\n",
      "Epoch 142/300\n",
      "55/55 [==============================] - 0s 1ms/step - loss: 16.7737\n",
      "Epoch 143/300\n",
      "55/55 [==============================] - 0s 1ms/step - loss: 16.6976\n",
      "Epoch 144/300\n",
      "55/55 [==============================] - 0s 1ms/step - loss: 16.6200\n",
      "Epoch 145/300\n",
      "55/55 [==============================] - 0s 1ms/step - loss: 16.5423\n",
      "Epoch 146/300\n",
      "55/55 [==============================] - 0s 1ms/step - loss: 16.4671\n",
      "Epoch 147/300\n",
      "55/55 [==============================] - 0s 1ms/step - loss: 16.3917\n",
      "Epoch 148/300\n",
      "55/55 [==============================] - 0s 1ms/step - loss: 16.3169\n",
      "Epoch 149/300\n",
      "55/55 [==============================] - 0s 1ms/step - loss: 16.2425\n",
      "Epoch 150/300\n",
      "55/55 [==============================] - 0s 1ms/step - loss: 16.1695\n",
      "Epoch 151/300\n",
      "55/55 [==============================] - 0s 1ms/step - loss: 16.0974\n",
      "Epoch 152/300\n",
      "55/55 [==============================] - 0s 1ms/step - loss: 16.0252\n",
      "Epoch 153/300\n",
      "55/55 [==============================] - 0s 1ms/step - loss: 15.9534\n",
      "Epoch 154/300\n",
      "55/55 [==============================] - 0s 1ms/step - loss: 15.8815\n",
      "Epoch 155/300\n",
      "55/55 [==============================] - 0s 1ms/step - loss: 15.8116\n",
      "Epoch 156/300\n",
      "55/55 [==============================] - 0s 1ms/step - loss: 15.7424\n",
      "Epoch 157/300\n",
      "55/55 [==============================] - 0s 1ms/step - loss: 15.6732\n",
      "Epoch 158/300\n",
      "55/55 [==============================] - 0s 1ms/step - loss: 15.6034\n",
      "Epoch 159/300\n",
      "55/55 [==============================] - 0s 1ms/step - loss: 15.5356\n",
      "Epoch 160/300\n",
      "55/55 [==============================] - 0s 1ms/step - loss: 15.4700\n",
      "Epoch 161/300\n",
      "55/55 [==============================] - 0s 1ms/step - loss: 15.4031\n",
      "Epoch 162/300\n",
      "55/55 [==============================] - 0s 1ms/step - loss: 15.3357\n",
      "Epoch 163/300\n",
      "55/55 [==============================] - 0s 1ms/step - loss: 15.2694\n",
      "Epoch 164/300\n",
      "55/55 [==============================] - 0s 1ms/step - loss: 15.2038\n",
      "Epoch 165/300\n",
      "55/55 [==============================] - 0s 1ms/step - loss: 15.1386\n",
      "Epoch 166/300\n",
      "55/55 [==============================] - 0s 1ms/step - loss: 15.0734\n",
      "Epoch 167/300\n",
      "55/55 [==============================] - 0s 1ms/step - loss: 15.0097\n",
      "Epoch 168/300\n",
      "55/55 [==============================] - 0s 1ms/step - loss: 14.9463\n",
      "Epoch 169/300\n",
      "55/55 [==============================] - 0s 1ms/step - loss: 14.8830\n",
      "Epoch 170/300\n",
      "55/55 [==============================] - 0s 1ms/step - loss: 14.8188\n",
      "Epoch 171/300\n",
      "55/55 [==============================] - 0s 1ms/step - loss: 14.7570\n",
      "Epoch 172/300\n",
      "55/55 [==============================] - 0s 1ms/step - loss: 14.6955\n",
      "Epoch 173/300\n",
      "55/55 [==============================] - 0s 1ms/step - loss: 14.6330\n",
      "Epoch 174/300\n",
      "55/55 [==============================] - 0s 1ms/step - loss: 14.5727\n",
      "Epoch 175/300\n",
      "55/55 [==============================] - 0s 1ms/step - loss: 14.5138\n",
      "Epoch 176/300\n",
      "55/55 [==============================] - 0s 1ms/step - loss: 14.4546\n",
      "Epoch 177/300\n",
      "55/55 [==============================] - 0s 1ms/step - loss: 14.3958\n",
      "Epoch 178/300\n",
      "55/55 [==============================] - 0s 1ms/step - loss: 14.3381\n",
      "Epoch 179/300\n",
      "55/55 [==============================] - 0s 1ms/step - loss: 14.2794\n",
      "Epoch 180/300\n",
      "55/55 [==============================] - 0s 1ms/step - loss: 14.2217\n",
      "Epoch 181/300\n",
      "55/55 [==============================] - 0s 1ms/step - loss: 14.1654\n",
      "Epoch 182/300\n",
      "55/55 [==============================] - 0s 1ms/step - loss: 14.1093\n",
      "Epoch 183/300\n",
      "55/55 [==============================] - 0s 1ms/step - loss: 14.0534\n",
      "Epoch 184/300\n",
      "55/55 [==============================] - 0s 1ms/step - loss: 13.9988\n",
      "Epoch 185/300\n",
      "55/55 [==============================] - 0s 1ms/step - loss: 13.9423\n",
      "Epoch 186/300\n",
      "55/55 [==============================] - 0s 1ms/step - loss: 13.8871\n",
      "Epoch 187/300\n",
      "55/55 [==============================] - 0s 1ms/step - loss: 13.8325\n",
      "Epoch 188/300\n",
      "55/55 [==============================] - 0s 1ms/step - loss: 13.7773\n",
      "Epoch 189/300\n",
      "55/55 [==============================] - 0s 1ms/step - loss: 13.7231\n",
      "Epoch 190/300\n",
      "55/55 [==============================] - 0s 1ms/step - loss: 13.6698\n",
      "Epoch 191/300\n",
      "55/55 [==============================] - 0s 1ms/step - loss: 13.6160\n",
      "Epoch 192/300\n",
      "55/55 [==============================] - 0s 1ms/step - loss: 13.5645\n",
      "Epoch 193/300\n",
      "55/55 [==============================] - 0s 1ms/step - loss: 13.5116\n",
      "Epoch 194/300\n",
      "55/55 [==============================] - 0s 1ms/step - loss: 13.4607\n",
      "Epoch 195/300\n",
      "55/55 [==============================] - 0s 1ms/step - loss: 13.4100\n",
      "Epoch 196/300\n",
      "55/55 [==============================] - 0s 1ms/step - loss: 13.3596\n",
      "Epoch 197/300\n",
      "55/55 [==============================] - 0s 2ms/step - loss: 13.3099\n",
      "Epoch 198/300\n",
      "55/55 [==============================] - 0s 2ms/step - loss: 13.2597\n",
      "Epoch 199/300\n",
      "55/55 [==============================] - 0s 2ms/step - loss: 13.2100\n",
      "Epoch 200/300\n",
      "55/55 [==============================] - 0s 2ms/step - loss: 13.1601\n",
      "Epoch 201/300\n",
      "55/55 [==============================] - 0s 2ms/step - loss: 13.1110\n",
      "Epoch 202/300\n",
      "55/55 [==============================] - 0s 1ms/step - loss: 13.0626\n",
      "Epoch 203/300\n",
      "55/55 [==============================] - 0s 2ms/step - loss: 13.0144\n",
      "Epoch 204/300\n",
      "55/55 [==============================] - 0s 2ms/step - loss: 12.9670\n",
      "Epoch 205/300\n",
      "55/55 [==============================] - 0s 2ms/step - loss: 12.9197\n",
      "Epoch 206/300\n",
      "55/55 [==============================] - 0s 1ms/step - loss: 12.8729\n",
      "Epoch 207/300\n",
      "55/55 [==============================] - 0s 1ms/step - loss: 12.8258\n",
      "Epoch 208/300\n",
      "55/55 [==============================] - 0s 1ms/step - loss: 12.7793\n",
      "Epoch 209/300\n",
      "55/55 [==============================] - 0s 1ms/step - loss: 12.7332\n",
      "Epoch 210/300\n",
      "55/55 [==============================] - 0s 1ms/step - loss: 12.6876\n",
      "Epoch 211/300\n",
      "55/55 [==============================] - 0s 1ms/step - loss: 12.6422\n",
      "Epoch 212/300\n",
      "55/55 [==============================] - 0s 1ms/step - loss: 12.5982\n",
      "Epoch 213/300\n",
      "55/55 [==============================] - 0s 1ms/step - loss: 12.5533\n",
      "Epoch 214/300\n",
      "55/55 [==============================] - 0s 1ms/step - loss: 12.5093\n",
      "Epoch 215/300\n",
      "55/55 [==============================] - 0s 1ms/step - loss: 12.4650\n",
      "Epoch 216/300\n",
      "55/55 [==============================] - 0s 1ms/step - loss: 12.4220\n",
      "Epoch 217/300\n",
      "55/55 [==============================] - 0s 1ms/step - loss: 12.3789\n",
      "Epoch 218/300\n",
      "55/55 [==============================] - 0s 1ms/step - loss: 12.3358\n",
      "Epoch 219/300\n",
      "55/55 [==============================] - 0s 1ms/step - loss: 12.2934\n",
      "Epoch 220/300\n",
      "55/55 [==============================] - 0s 2ms/step - loss: 12.2520\n",
      "Epoch 221/300\n",
      "55/55 [==============================] - 0s 2ms/step - loss: 12.2101\n",
      "Epoch 222/300\n",
      "55/55 [==============================] - 0s 1ms/step - loss: 12.1688\n",
      "Epoch 223/300\n",
      "55/55 [==============================] - 0s 2ms/step - loss: 12.1282\n",
      "Epoch 224/300\n",
      "55/55 [==============================] - 0s 2ms/step - loss: 12.0869\n",
      "Epoch 225/300\n",
      "55/55 [==============================] - 0s 1ms/step - loss: 12.0472\n",
      "Epoch 226/300\n",
      "55/55 [==============================] - 0s 1ms/step - loss: 12.0070\n",
      "Epoch 227/300\n",
      "55/55 [==============================] - 0s 1ms/step - loss: 11.9669\n",
      "Epoch 228/300\n",
      "55/55 [==============================] - 0s 1ms/step - loss: 11.9261\n",
      "Epoch 229/300\n",
      "55/55 [==============================] - 0s 1ms/step - loss: 11.8872\n",
      "Epoch 230/300\n",
      "55/55 [==============================] - 0s 1ms/step - loss: 11.8479\n",
      "Epoch 231/300\n",
      "55/55 [==============================] - 0s 2ms/step - loss: 11.8096\n",
      "Epoch 232/300\n",
      "55/55 [==============================] - 0s 1ms/step - loss: 11.7716\n",
      "Epoch 233/300\n",
      "55/55 [==============================] - 0s 2ms/step - loss: 11.7335\n",
      "Epoch 234/300\n",
      "55/55 [==============================] - 0s 2ms/step - loss: 11.6953\n",
      "Epoch 235/300\n",
      "55/55 [==============================] - 0s 2ms/step - loss: 11.6573\n",
      "Epoch 236/300\n",
      "55/55 [==============================] - 0s 2ms/step - loss: 11.6203\n",
      "Epoch 237/300\n",
      "55/55 [==============================] - 0s 2ms/step - loss: 11.5833\n",
      "Epoch 238/300\n",
      "55/55 [==============================] - 0s 2ms/step - loss: 11.5463\n",
      "Epoch 239/300\n",
      "55/55 [==============================] - 0s 2ms/step - loss: 11.5103\n",
      "Epoch 240/300\n",
      "55/55 [==============================] - 0s 1ms/step - loss: 11.4739\n",
      "Epoch 241/300\n",
      "55/55 [==============================] - 0s 1ms/step - loss: 11.4383\n",
      "Epoch 242/300\n",
      "55/55 [==============================] - 0s 1ms/step - loss: 11.4024\n",
      "Epoch 243/300\n",
      "55/55 [==============================] - 0s 1ms/step - loss: 11.3667\n",
      "Epoch 244/300\n",
      "55/55 [==============================] - 0s 1ms/step - loss: 11.3319\n",
      "Epoch 245/300\n",
      "55/55 [==============================] - 0s 1ms/step - loss: 11.2980\n",
      "Epoch 246/300\n",
      "55/55 [==============================] - 0s 1ms/step - loss: 11.2643\n",
      "Epoch 247/300\n",
      "55/55 [==============================] - 0s 2ms/step - loss: 11.2296\n",
      "Epoch 248/300\n",
      "55/55 [==============================] - 0s 1ms/step - loss: 11.1949\n",
      "Epoch 249/300\n",
      "55/55 [==============================] - 0s 1ms/step - loss: 11.1607\n",
      "Epoch 250/300\n",
      "55/55 [==============================] - 0s 1ms/step - loss: 11.1266\n",
      "Epoch 251/300\n",
      "55/55 [==============================] - 0s 1ms/step - loss: 11.0926\n",
      "Epoch 252/300\n",
      "55/55 [==============================] - 0s 2ms/step - loss: 11.0595\n",
      "Epoch 253/300\n",
      "55/55 [==============================] - 0s 2ms/step - loss: 11.0269\n",
      "Epoch 254/300\n",
      "55/55 [==============================] - 0s 2ms/step - loss: 10.9948\n",
      "Epoch 255/300\n",
      "55/55 [==============================] - 0s 1ms/step - loss: 10.9631\n",
      "Epoch 256/300\n",
      "55/55 [==============================] - 0s 1ms/step - loss: 10.9314\n",
      "Epoch 257/300\n",
      "55/55 [==============================] - 0s 2ms/step - loss: 10.8997\n",
      "Epoch 258/300\n",
      "55/55 [==============================] - 0s 2ms/step - loss: 10.8674\n",
      "Epoch 259/300\n",
      "55/55 [==============================] - 0s 2ms/step - loss: 10.8350\n",
      "Epoch 260/300\n",
      "55/55 [==============================] - 0s 2ms/step - loss: 10.8042\n",
      "Epoch 261/300\n",
      "55/55 [==============================] - 0s 2ms/step - loss: 10.7729\n",
      "Epoch 262/300\n",
      "55/55 [==============================] - 0s 2ms/step - loss: 10.7420\n",
      "Epoch 263/300\n",
      "55/55 [==============================] - 0s 2ms/step - loss: 10.7111\n",
      "Epoch 264/300\n",
      "55/55 [==============================] - 0s 2ms/step - loss: 10.6808\n",
      "Epoch 265/300\n",
      "55/55 [==============================] - 0s 2ms/step - loss: 10.6512\n",
      "Epoch 266/300\n",
      "55/55 [==============================] - 0s 2ms/step - loss: 10.6207\n",
      "Epoch 267/300\n",
      "55/55 [==============================] - 0s 2ms/step - loss: 10.5912\n",
      "Epoch 268/300\n",
      "55/55 [==============================] - 0s 2ms/step - loss: 10.5618\n",
      "Epoch 269/300\n",
      "55/55 [==============================] - 0s 1ms/step - loss: 10.5330\n",
      "Epoch 270/300\n",
      "55/55 [==============================] - 0s 1ms/step - loss: 10.5043\n",
      "Epoch 271/300\n",
      "55/55 [==============================] - 0s 2ms/step - loss: 10.4747\n",
      "Epoch 272/300\n",
      "55/55 [==============================] - 0s 2ms/step - loss: 10.4455\n",
      "Epoch 273/300\n",
      "55/55 [==============================] - 0s 1ms/step - loss: 10.4164\n",
      "Epoch 274/300\n",
      "55/55 [==============================] - 0s 2ms/step - loss: 10.3875\n",
      "Epoch 275/300\n",
      "55/55 [==============================] - 0s 2ms/step - loss: 10.3598\n",
      "Epoch 276/300\n",
      "55/55 [==============================] - 0s 1ms/step - loss: 10.3317\n",
      "Epoch 277/300\n",
      "55/55 [==============================] - 0s 2ms/step - loss: 10.3039\n",
      "Epoch 278/300\n",
      "55/55 [==============================] - 0s 1ms/step - loss: 10.2759\n",
      "Epoch 279/300\n",
      "55/55 [==============================] - 0s 1ms/step - loss: 10.2488\n",
      "Epoch 280/300\n",
      "55/55 [==============================] - 0s 1ms/step - loss: 10.2207\n",
      "Epoch 281/300\n",
      "55/55 [==============================] - 0s 1ms/step - loss: 10.1940\n",
      "Epoch 282/300\n",
      "55/55 [==============================] - 0s 1ms/step - loss: 10.1664\n",
      "Epoch 283/300\n",
      "55/55 [==============================] - 0s 1ms/step - loss: 10.1401\n",
      "Epoch 284/300\n",
      "55/55 [==============================] - 0s 1ms/step - loss: 10.1133\n",
      "Epoch 285/300\n",
      "55/55 [==============================] - 0s 1ms/step - loss: 10.0868\n",
      "Epoch 286/300\n",
      "55/55 [==============================] - 0s 1ms/step - loss: 10.0616\n",
      "Epoch 287/300\n",
      "55/55 [==============================] - 0s 2ms/step - loss: 10.0354\n",
      "Epoch 288/300\n",
      "55/55 [==============================] - 0s 1ms/step - loss: 10.0099\n",
      "Epoch 289/300\n",
      "55/55 [==============================] - 0s 2ms/step - loss: 9.9843\n",
      "Epoch 290/300\n",
      "55/55 [==============================] - 0s 1ms/step - loss: 9.9597\n",
      "Epoch 291/300\n",
      "55/55 [==============================] - 0s 1ms/step - loss: 9.9343\n",
      "Epoch 292/300\n",
      "55/55 [==============================] - 0s 1ms/step - loss: 9.9092\n",
      "Epoch 293/300\n",
      "55/55 [==============================] - 0s 1ms/step - loss: 9.8845\n",
      "Epoch 294/300\n",
      "55/55 [==============================] - 0s 1ms/step - loss: 9.8588\n",
      "Epoch 295/300\n",
      "55/55 [==============================] - 0s 1ms/step - loss: 9.8346\n",
      "Epoch 296/300\n",
      "55/55 [==============================] - 0s 1ms/step - loss: 9.8099\n",
      "Epoch 297/300\n",
      "55/55 [==============================] - 0s 2ms/step - loss: 9.7852\n",
      "Epoch 298/300\n",
      "55/55 [==============================] - 0s 2ms/step - loss: 9.7605\n",
      "Epoch 299/300\n",
      "55/55 [==============================] - 0s 1ms/step - loss: 9.7367\n",
      "Epoch 300/300\n",
      "55/55 [==============================] - 0s 1ms/step - loss: 9.7128\n"
     ]
    },
    {
     "data": {
      "text/plain": [
       "<tensorflow.python.keras.callbacks.History at 0x1fda63d2e30>"
      ]
     },
     "execution_count": 7,
     "metadata": {},
     "output_type": "execute_result"
    }
   ],
   "source": [
    "# Настройка оптимизатора, функции потерь и регуляризатора\n",
    "optimizer = tf.keras.optimizers.Adam(learning_rate=1e-4)\n",
    "loss = get_loss('multiclass_nll')\n",
    "regularizer = get_regularizer('LP', {'p': 3, 'lambda': 1e-5})\n",
    "\n",
    "# Компиляция модели\n",
    "model.compile(optimizer=optimizer, loss=loss, entity_relation_regularizer=regularizer)\n",
    "\n",
    "# Обучение модели\n",
    "model.fit(\n",
    "    X_train,\n",
    "    batch_size=int(X_train.shape[0] / 50),\n",
    "    epochs=300,  # Число эпох\n",
    "    verbose=True  # Отображение прогресса\n",
    ")"
   ]
  },
  {
   "cell_type": "code",
   "execution_count": 8,
   "metadata": {},
   "outputs": [
    {
     "name": "stdout",
     "output_type": "stream",
     "text": [
      "101/101 [==============================] - 2s 18ms/step\n",
      "MRR: 0.13\n",
      "MR: 165.86\n",
      "Hits@10: 0.20\n",
      "Hits@3: 0.12\n",
      "Hits@1: 0.09\n"
     ]
    }
   ],
   "source": [
    "# Оценка модели\n",
    "ranks = model.evaluate(\n",
    "    X_valid,\n",
    "    use_filter={'train': X_train, 'test': X_valid},\n",
    "    corrupt_side='s,o',\n",
    "    verbose=True\n",
    ")\n",
    "\n",
    "# Метрики\n",
    "mr = mr_score(ranks)\n",
    "mrr = mrr_score(ranks)\n",
    "hits_10 = hits_at_n_score(ranks, n=10)\n",
    "hits_3 = hits_at_n_score(ranks, n=3)\n",
    "hits_1 = hits_at_n_score(ranks, n=1)\n",
    "\n",
    "print(\"MRR: %.2f\" % (mrr))\n",
    "print(\"MR: %.2f\" % (mr))\n",
    "print(\"Hits@10: %.2f\" % (hits_10))\n",
    "print(\"Hits@3: %.2f\" % (hits_3))\n",
    "print(\"Hits@1: %.2f\" % (hits_1))"
   ]
  },
  {
   "cell_type": "markdown",
   "metadata": {},
   "source": [
    "# Clustering and embedding vizualization"
   ]
  },
  {
   "cell_type": "code",
   "execution_count": null,
   "metadata": {},
   "outputs": [],
   "source": [
    "!git clone https://github.com/wyldebeast-wunderliebe/incf.countryutils.git\n",
    "!cd incf.countryutils && pip install ."
   ]
  },
  {
   "cell_type": "code",
   "execution_count": 9,
   "metadata": {},
   "outputs": [],
   "source": [
    "import numpy as np\n",
    "import pandas as pd\n",
    "from sklearn.decomposition import PCA\n",
    "from sklearn.cluster import KMeans\n",
    "import matplotlib.pyplot as plt\n",
    "import seaborn as sns\n",
    "from ampligraph.discovery import find_clusters\n",
    "from adjustText import adjust_text"
   ]
  },
  {
   "cell_type": "code",
   "execution_count": 10,
   "metadata": {},
   "outputs": [],
   "source": [
    "# 1. Извлечение всех сущностей (например, персонажей)\n",
    "entities = list(set([str(s) for s, _, _ in g]))\n",
    "\n",
    "# Преобразуем список в numpy массив для работы с find_clusters\n",
    "entities_array = np.array(entities)\n",
    "\n",
    "# 2. Получение эмбеддингов для всех сущностей\n",
    "entity_embeddings = dict(zip(entities, model.get_embeddings(entities_array)))\n",
    "\n",
    "# 3. Снижение размерности до 2D с помощью PCA\n",
    "embeddings_2d = PCA(n_components=2).fit_transform(np.array([emb for emb in entity_embeddings.values()]))\n",
    "\n",
    "# 4. Кластеризация с использованием KMeans\n",
    "clustering_algorithm = KMeans(n_clusters=6, n_init=50, max_iter=500, random_state=0)\n",
    "clusters = find_clusters(entities_array, model, clustering_algorithm, mode='e')"
   ]
  },
  {
   "cell_type": "code",
   "execution_count": 11,
   "metadata": {},
   "outputs": [
    {
     "data": {
      "application/vnd.plotly.v1+json": {
       "config": {
        "plotlyServerURL": "https://plot.ly"
       },
       "data": [
        {
         "hovertemplate": "<b>%{hovertext}</b><br><br>cluster=cluster5<br>Компонента 1 (PCA)=%{x}<br>Компонента 2 (PCA)=%{y}<extra></extra>",
         "hovertext": [
          "http://www.semanticweb.org/sassh/ontologies/2024/11/untitled-ontology-5#doctor",
          "http://www.semanticweb.org/sassh/ontologies/2024/11/untitled-ontology-5#Sharjila",
          "http://www.semanticweb.org/sassh/ontologies/2024/11/untitled-ontology-5#Cluster",
          "http://www.semanticweb.org/sassh/ontologies/2024/11/untitled-ontology-5#Horse_Head_Nebula",
          "http://www.semanticweb.org/sassh/ontologies/2024/11/untitled-ontology-5#Cacus",
          "http://www.semanticweb.org/sassh/ontologies/2024/11/untitled-ontology-5#Feros",
          "http://www.semanticweb.org/sassh/ontologies/2024/11/untitled-ontology-5#Artemis_Tau",
          "http://www.semanticweb.org/sassh/ontologies/2024/11/untitled-ontology-5#character",
          "http://www.semanticweb.org/sassh/ontologies/2024/11/untitled-ontology-5#Reaper",
          "http://www.semanticweb.org/sassh/ontologies/2024/11/untitled-ontology-5#Amazon",
          "http://www.semanticweb.org/sassh/ontologies/2024/11/untitled-ontology-5#Almos",
          "http://www.semanticweb.org/sassh/ontologies/2024/11/untitled-ontology-5#Maroon_Sea",
          "N21bc02c810f74d69a4660a3f2a17ac4d",
          "N8a6c6137607b4b48b6535ae15894fb64",
          "http://www.semanticweb.org/sassh/ontologies/2024/11/untitled-ontology-5#Matano",
          "http://www.semanticweb.org/sassh/ontologies/2024/11/untitled-ontology-5#Nepheron",
          "http://www.semanticweb.org/sassh/ontologies/2024/11/untitled-ontology-5#synthetic",
          "http://www.semanticweb.org/sassh/ontologies/2024/11/untitled-ontology-5#Shotguns",
          "http://www.semanticweb.org/sassh/ontologies/2024/11/untitled-ontology-5#engineer",
          "http://www.semanticweb.org/sassh/ontologies/2024/11/untitled-ontology-5#Logan",
          "http://www.semanticweb.org/sassh/ontologies/2024/11/untitled-ontology-5#EDI",
          "http://www.semanticweb.org/sassh/ontologies/2024/11/untitled-ontology-5#Century",
          "http://www.semanticweb.org/sassh/ontologies/2024/11/untitled-ontology-5#Columbia",
          "http://www.semanticweb.org/sassh/ontologies/2024/11/untitled-ontology-5#Macedon",
          "http://www.semanticweb.org/sassh/ontologies/2024/11/untitled-ontology-5#Volus",
          "N3edc702f83cc467eb35c3a21a293708c",
          "http://www.semanticweb.org/sassh/ontologies/2024/11/untitled-ontology-5#Saren_Arterius",
          "http://www.semanticweb.org/sassh/ontologies/2024/11/untitled-ontology-5#chef",
          "http://www.semanticweb.org/sassh/ontologies/2024/11/untitled-ontology-5#Gagarin",
          "http://www.semanticweb.org/sassh/ontologies/2024/11/untitled-ontology-5#Sniper_Rifles",
          "Ncaf335b4c76d481aa32cb2831f961e5f",
          "http://www.semanticweb.org/sassh/ontologies/2024/11/untitled-ontology-5#Antida",
          "http://www.semanticweb.org/sassh/ontologies/2024/11/untitled-ontology-5#Hawking_Eta",
          "http://www.semanticweb.org/sassh/ontologies/2024/11/untitled-ontology-5#Local_Cluster",
          "N474ddac0161a4f74acc8f04b1bac30f0",
          "http://www.semanticweb.org/sassh/ontologies/2024/11/untitled-ontology-5#AI",
          "http://www.semanticweb.org/sassh/ontologies/2024/11/untitled-ontology-5#Earth",
          "http://www.semanticweb.org/sassh/ontologies/2024/11/untitled-ontology-5#Luna",
          "http://www.semanticweb.org/sassh/ontologies/2024/11/untitled-ontology-5#Mordin_Solus",
          "http://www.semanticweb.org/sassh/ontologies/2024/11/untitled-ontology-5#scientist",
          "http://www.semanticweb.org/sassh/ontologies/2024/11/untitled-ontology-5#Krogan",
          "http://www.semanticweb.org/sassh/ontologies/2024/11/untitled-ontology-5#Hong",
          "http://www.semanticweb.org/sassh/ontologies/2024/11/untitled-ontology-5#Hub",
          "http://www.semanticweb.org/sassh/ontologies/2024/11/untitled-ontology-5#commader",
          "http://www.semanticweb.org/sassh/ontologies/2024/11/untitled-ontology-5#Asgard",
          "http://www.semanticweb.org/sassh/ontologies/2024/11/untitled-ontology-5#Gorgon",
          "http://www.semanticweb.org/sassh/ontologies/2024/11/untitled-ontology-5#Geth",
          "http://www.semanticweb.org/sassh/ontologies/2024/11/untitled-ontology-5#Raysha",
          "http://www.semanticweb.org/sassh/ontologies/2024/11/untitled-ontology-5#Sol",
          "http://www.semanticweb.org/sassh/ontologies/2024/11/untitled-ontology-5#Jeff_%E2%80%9CJoker%E2%80%9D_Moreau",
          "Nef1869db24d94891b7c57736ae82f4ae",
          "N501b7da337ac4b84bea652303aed48f3",
          "http://www.semanticweb.org/sassh/ontologies/2024/11/untitled-ontology-5#clear",
          "Ndc1739b14c09422b8d5d70c493697275",
          "http://www.semanticweb.org/sassh/ontologies/2024/11/untitled-ontology-5#Donnel_Udina",
          "http://www.semanticweb.org/sassh/ontologies/2024/11/untitled-ontology-5#hasDNA",
          "http://www.semanticweb.org/sassh/ontologies/2024/11/untitled-ontology-5#Chofen",
          "http://www.semanticweb.org/sassh/ontologies/2024/11/untitled-ontology-5#Ageko",
          "http://www.semanticweb.org/sassh/ontologies/2024/11/untitled-ontology-5#Councilor_Tevos",
          "http://www.semanticweb.org/sassh/ontologies/2024/11/untitled-ontology-5#The_Illusive_Man",
          "http://www.semanticweb.org/sassh/ontologies/2024/11/untitled-ontology-5#Eden_Prime",
          "http://www.semanticweb.org/sassh/ontologies/2024/11/untitled-ontology-5#Phoenix",
          "http://www.semanticweb.org/sassh/ontologies/2024/11/untitled-ontology-5#Asari",
          "http://www.semanticweb.org/sassh/ontologies/2024/11/untitled-ontology-5#organic",
          "http://www.semanticweb.org/sassh/ontologies/2024/11/untitled-ontology-5#Ahern%27s_Villa",
          "Nd97159ff85834f0c811f310ad17b83ff",
          "N0c7ed30d82b24231947b793c5a3691d8",
          "N82432bd18123422b833f7eab8c1c6d51",
          "http://www.semanticweb.org/sassh/ontologies/2024/11/untitled-ontology-5#Mercury",
          "http://www.semanticweb.org/sassh/ontologies/2024/11/untitled-ontology-5#Thessia",
          "http://www.semanticweb.org/sassh/ontologies/2024/11/untitled-ontology-5#Wermani",
          "http://www.semanticweb.org/sassh/ontologies/2024/11/untitled-ontology-5#Human",
          "http://www.semanticweb.org/sassh/ontologies/2024/11/untitled-ontology-5#civilization",
          "http://www.semanticweb.org/sassh/ontologies/2024/11/untitled-ontology-5#Matriarch_Benezia",
          "http://www.semanticweb.org/sassh/ontologies/2024/11/untitled-ontology-5#Elcor",
          "Nc4bb7c1b827f44cb97fc779fa29ce7f0",
          "http://www.semanticweb.org/sassh/ontologies/2024/11/untitled-ontology-5#Alko",
          "http://www.semanticweb.org/sassh/ontologies/2024/11/untitled-ontology-5#Nepmos",
          "http://www.semanticweb.org/sassh/ontologies/2024/11/untitled-ontology-5#isSpecies",
          "http://www.semanticweb.org/sassh/ontologies/2024/11/untitled-ontology-5#Athens",
          "http://www.semanticweb.org/sassh/ontologies/2024/11/untitled-ontology-5#Sentry_Omega",
          "http://www.semanticweb.org/sassh/ontologies/2024/11/untitled-ontology-5#Steven_Hackett",
          "http://www.semanticweb.org/sassh/ontologies/2024/11/untitled-ontology-5#Edolus",
          "http://www.semanticweb.org/sassh/ontologies/2024/11/untitled-ontology-5#Thane_Krios",
          "http://www.semanticweb.org/sassh/ontologies/2024/11/untitled-ontology-5#Kharshan",
          "http://www.semanticweb.org/sassh/ontologies/2024/11/untitled-ontology-5#Asteroid",
          "http://www.semanticweb.org/sassh/ontologies/2024/11/untitled-ontology-5#Venus",
          "http://www.semanticweb.org/sassh/ontologies/2024/11/untitled-ontology-5#Patamalrus",
          "http://www.semanticweb.org/sassh/ontologies/2024/11/untitled-ontology-5#Turian",
          "http://www.semanticweb.org/sassh/ontologies/2024/11/untitled-ontology-5#Treyarmus",
          "http://www.semanticweb.org/sassh/ontologies/2024/11/untitled-ontology-5#Aria_T%E2%80%99Loak",
          "http://www.semanticweb.org/sassh/ontologies/2024/11/untitled-ontology-5#System",
          "N9b668a98438246c48160664fa9085006",
          "http://www.semanticweb.org/sassh/ontologies/2024/11/untitled-ontology-5#MSV_Cornucopia",
          "http://www.semanticweb.org/sassh/ontologies/2024/11/untitled-ontology-5#Paravin",
          "http://www.semanticweb.org/sassh/ontologies/2024/11/untitled-ontology-5#Xawin"
         ],
         "legendgroup": "cluster5",
         "marker": {
          "color": "#636efa",
          "symbol": "circle"
         },
         "mode": "markers",
         "name": "cluster5",
         "orientation": "v",
         "showlegend": true,
         "type": "scatter",
         "x": [
          1.0627095699310303,
          0.6688504815101624,
          0.17911258339881897,
          1.3148783445358276,
          0.9423408508300781,
          0.5264104008674622,
          1.0409241914749146,
          0.5153290629386902,
          1.3722026348114014,
          0.7652112245559692,
          1.0925081968307495,
          1.2703144550323486,
          1.6766554117202759,
          1.4114919900894165,
          1.0873339176177979,
          1.156355619430542,
          1.0280587673187256,
          1.385333776473999,
          1.1374788284301758,
          1.0778014659881592,
          1.2196576595306396,
          0.5908161401748657,
          0.7491558790206909,
          0.710333526134491,
          1.4924300909042358,
          0.8465340733528137,
          1.0410892963409424,
          1.5662707090377808,
          0.9380282163619995,
          1.076552152633667,
          1.1088670492172241,
          0.905587375164032,
          0.784776508808136,
          0.7325091361999512,
          1.1840578317642212,
          1.0164588689804077,
          1.2864100933074951,
          1.2142938375473022,
          1.2531399726867676,
          1.0971781015396118,
          0.6956217288970947,
          0.8099576234817505,
          1.2804877758026123,
          1.1586737632751465,
          0.8632988333702087,
          1.0165621042251587,
          1.6374622583389282,
          1.3936808109283447,
          0.8162806630134583,
          1.0026240348815918,
          1.4066087007522583,
          1.0814471244812012,
          0.508424699306488,
          1.2878528833389282,
          1.0057610273361206,
          1.3939427137374878,
          1.3702727556228638,
          0.9332288503646851,
          1.3191837072372437,
          0.859311044216156,
          1.0744158029556274,
          0.7296109199523926,
          1.013996958732605,
          0.3906940817832947,
          1.0561583042144775,
          1.6963704824447632,
          1.3307467699050903,
          0.9740859866142273,
          0.4676589071750641,
          1.5110163688659668,
          1.3717690706253052,
          0.8780418038368225,
          1.233472466468811,
          1.0300601720809937,
          1.1998484134674072,
          1.2885613441467285,
          1.3389381170272827,
          1.3102635145187378,
          0.8676932454109192,
          1.0704232454299927,
          1.166927456855774,
          1.0296928882598877,
          0.57536381483078,
          1.2407089471817017,
          1.6142932176589966,
          0.47351205348968506,
          1.2143350839614868,
          1.0709741115570068,
          1.2954739332199097,
          1.0976873636245728,
          1.5873998403549194,
          0.6100382804870605,
          1.3820881843566895,
          0.9621961116790771,
          0.9882426857948303,
          0.585152268409729
         ],
         "xaxis": "x",
         "y": [
          0.05562661588191986,
          -0.04765395075082779,
          -0.6246207356452942,
          -0.7147272825241089,
          -0.36727064847946167,
          -0.2877122461795807,
          -0.8879660367965698,
          -0.055439576506614685,
          -0.11216796934604645,
          0.06350766122341156,
          -0.34026002883911133,
          -0.36154434084892273,
          -0.37942492961883545,
          -0.17303761839866638,
          0.012617107480764389,
          0.16753284633159637,
          -0.30515962839126587,
          -0.0505850724875927,
          -0.25079822540283203,
          -0.1067722886800766,
          0.1395607590675354,
          -0.17253315448760986,
          -0.19815407693386078,
          -0.39347583055496216,
          -0.11901164799928665,
          -0.14734621345996857,
          0.07712969183921814,
          -0.4432829022407532,
          -0.24162378907203674,
          -0.2972334921360016,
          -0.19341839849948883,
          -0.14601710438728333,
          -0.27791258692741394,
          -0.22570668160915375,
          -0.3114836513996124,
          -0.05835336446762085,
          -0.06478124856948853,
          -0.07013534009456635,
          -0.4884118437767029,
          -0.02188480831682682,
          -0.41948890686035156,
          0.008719416335225105,
          -0.07895226031541824,
          0.07799754291772842,
          0.015382561832666397,
          -0.3118012547492981,
          -0.529003381729126,
          -0.15540170669555664,
          -0.3851155936717987,
          -0.36397871375083923,
          -0.25360530614852905,
          -0.48887869715690613,
          0.2712412178516388,
          -0.05550222471356392,
          -0.347564697265625,
          -0.09607471525669098,
          -0.3855128288269043,
          0.003566602012142539,
          -0.07494307309389114,
          -0.2148263156414032,
          -0.11351805180311203,
          -0.1315935254096985,
          -0.17090222239494324,
          -0.33435356616973877,
          -0.27395740151405334,
          -0.5410072803497314,
          -0.28432509303092957,
          -0.11600100249052048,
          -0.027791857719421387,
          -0.38300445675849915,
          -0.3666791021823883,
          -0.057663463056087494,
          -0.3794856667518616,
          -0.14449432492256165,
          -0.22056013345718384,
          -0.35834845900535583,
          -0.22700636088848114,
          -0.30666103959083557,
          -0.09500385820865631,
          -0.3774966597557068,
          -0.2799837291240692,
          -0.2236223816871643,
          -0.14104042947292328,
          0.009813799522817135,
          -0.294823557138443,
          0.06293516606092453,
          -0.10523177683353424,
          -0.16416865587234497,
          -0.4407917261123657,
          -0.12019696086645126,
          -0.38943400979042053,
          -0.4357532560825348,
          -0.6187273263931274,
          -0.14527465403079987,
          -0.3250471353530884,
          -0.09608563780784607
         ],
         "yaxis": "y"
        },
        {
         "hovertemplate": "<b>%{hovertext}</b><br><br>cluster=cluster2<br>Компонента 1 (PCA)=%{x}<br>Компонента 2 (PCA)=%{y}<extra></extra>",
         "hovertext": [
          "http://www.semanticweb.org/sassh/ontologies/2024/11/untitled-ontology-5#Syided",
          "http://www.semanticweb.org/sassh/ontologies/2024/11/untitled-ontology-5#Parag",
          "http://www.semanticweb.org/sassh/ontologies/2024/11/untitled-ontology-5#Parnack",
          "http://www.semanticweb.org/sassh/ontologies/2024/11/untitled-ontology-5#Argos_Rho",
          "http://www.semanticweb.org/sassh/ontologies/2024/11/untitled-ontology-5#Agebinium",
          "http://www.semanticweb.org/sassh/ontologies/2024/11/untitled-ontology-5#Patajiri",
          "http://www.semanticweb.org/sassh/ontologies/2024/11/untitled-ontology-5#Matar",
          "http://www.semanticweb.org/sassh/ontologies/2024/11/untitled-ontology-5#Patashi",
          "http://www.semanticweb.org/sassh/ontologies/2024/11/untitled-ontology-5#Uranus",
          "http://www.semanticweb.org/sassh/ontologies/2024/11/untitled-ontology-5#Fargeluse",
          "http://www.semanticweb.org/sassh/ontologies/2024/11/untitled-ontology-5#Quaji",
          "http://www.semanticweb.org/sassh/ontologies/2024/11/untitled-ontology-5#Pluto",
          "http://www.semanticweb.org/sassh/ontologies/2024/11/untitled-ontology-5#Slekon",
          "http://www.semanticweb.org/sassh/ontologies/2024/11/untitled-ontology-5#Nodacrux",
          "http://www.semanticweb.org/sassh/ontologies/2024/11/untitled-ontology-5#Nearrum",
          "http://www.semanticweb.org/sassh/ontologies/2024/11/untitled-ontology-5#Inti",
          "http://www.semanticweb.org/sassh/ontologies/2024/11/untitled-ontology-5#Imaneya",
          "http://www.semanticweb.org/sassh/ontologies/2024/11/untitled-ontology-5#Pressha",
          "http://www.semanticweb.org/sassh/ontologies/2024/11/untitled-ontology-5#Renshato",
          "http://www.semanticweb.org/sassh/ontologies/2024/11/untitled-ontology-5#Voyager_Cluster",
          "http://www.semanticweb.org/sassh/ontologies/2024/11/untitled-ontology-5#Therum",
          "http://www.semanticweb.org/sassh/ontologies/2024/11/untitled-ontology-5#Grissom",
          "http://www.semanticweb.org/sassh/ontologies/2024/11/untitled-ontology-5#MSV_Majesty",
          "http://www.semanticweb.org/sassh/ontologies/2024/11/untitled-ontology-5#Sesmose",
          "http://www.semanticweb.org/sassh/ontologies/2024/11/untitled-ontology-5#Zayarter",
          "http://www.semanticweb.org/sassh/ontologies/2024/11/untitled-ontology-5#Altaaya",
          "http://www.semanticweb.org/sassh/ontologies/2024/11/untitled-ontology-5#Land",
          "http://www.semanticweb.org/sassh/ontologies/2024/11/untitled-ontology-5#Farcrothu",
          "http://www.semanticweb.org/sassh/ontologies/2024/11/untitled-ontology-5#Mingito",
          "http://www.semanticweb.org/sassh/ontologies/2024/11/untitled-ontology-5#Wentania",
          "http://www.semanticweb.org/sassh/ontologies/2024/11/untitled-ontology-5#Maganlis",
          "http://www.semanticweb.org/sassh/ontologies/2024/11/untitled-ontology-5#Trelyn",
          "http://www.semanticweb.org/sassh/ontologies/2024/11/untitled-ontology-5#Sogelrus",
          "http://www.semanticweb.org/sassh/ontologies/2024/11/untitled-ontology-5#Tungel",
          "http://www.semanticweb.org/sassh/ontologies/2024/11/untitled-ontology-5#Quarian",
          "http://www.semanticweb.org/sassh/ontologies/2024/11/untitled-ontology-5#Klensal",
          "http://www.semanticweb.org/sassh/ontologies/2024/11/untitled-ontology-5#Chasca",
          "http://www.semanticweb.org/sassh/ontologies/2024/11/untitled-ontology-5#Edmos",
          "http://www.semanticweb.org/sassh/ontologies/2024/11/untitled-ontology-5#Kahje",
          "http://www.semanticweb.org/sassh/ontologies/2024/11/untitled-ontology-5#Han",
          "http://www.semanticweb.org/sassh/ontologies/2024/11/untitled-ontology-5#Sybin",
          "http://www.semanticweb.org/sassh/ontologies/2024/11/untitled-ontology-5#Vectra",
          "http://www.semanticweb.org/sassh/ontologies/2024/11/untitled-ontology-5#biotic",
          "http://www.semanticweb.org/sassh/ontologies/2024/11/untitled-ontology-5#Therumlon",
          "http://www.semanticweb.org/sassh/ontologies/2024/11/untitled-ontology-5#Salarian",
          "http://www.semanticweb.org/sassh/ontologies/2024/11/untitled-ontology-5#Noveria",
          "http://www.semanticweb.org/sassh/ontologies/2024/11/untitled-ontology-5#Hercules",
          "http://www.semanticweb.org/sassh/ontologies/2024/11/untitled-ontology-5#Herschel",
          "http://www.semanticweb.org/sassh/ontologies/2024/11/untitled-ontology-5#Heshtok",
          "http://www.semanticweb.org/sassh/ontologies/2024/11/untitled-ontology-5#Altahe",
          "http://www.semanticweb.org/sassh/ontologies/2024/11/untitled-ontology-5#The_Citadel",
          "http://www.semanticweb.org/sassh/ontologies/2024/11/untitled-ontology-5#Circe",
          "http://www.semanticweb.org/sassh/ontologies/2024/11/untitled-ontology-5#Metgos",
          "http://www.semanticweb.org/sassh/ontologies/2024/11/untitled-ontology-5#Attican_Beta",
          "http://www.semanticweb.org/sassh/ontologies/2024/11/untitled-ontology-5#Yahg",
          "http://www.semanticweb.org/sassh/ontologies/2024/11/untitled-ontology-5#Varmalus",
          "http://www.semanticweb.org/sassh/ontologies/2024/11/untitled-ontology-5#Newton",
          "http://www.semanticweb.org/sassh/ontologies/2024/11/untitled-ontology-5#Matol",
          "http://www.semanticweb.org/sassh/ontologies/2024/11/untitled-ontology-5#Asteroid_X57",
          "http://www.semanticweb.org/sassh/ontologies/2024/11/untitled-ontology-5#Dis",
          "http://www.semanticweb.org/sassh/ontologies/2024/11/untitled-ontology-5#Pinnacle_Station",
          "http://www.semanticweb.org/sassh/ontologies/2024/11/untitled-ontology-5#Veles",
          "http://www.semanticweb.org/sassh/ontologies/2024/11/untitled-ontology-5#Altanorch",
          "http://www.semanticweb.org/sassh/ontologies/2024/11/untitled-ontology-5#Farnuri",
          "http://www.semanticweb.org/sassh/ontologies/2024/11/untitled-ontology-5#Jartar",
          "http://www.semanticweb.org/sassh/ontologies/2024/11/untitled-ontology-5#Pharos",
          "http://www.semanticweb.org/sassh/ontologies/2024/11/untitled-ontology-5#Kepler_Verge",
          "http://www.semanticweb.org/sassh/ontologies/2024/11/untitled-ontology-5#Virmire",
          "http://www.semanticweb.org/sassh/ontologies/2024/11/untitled-ontology-5#Survey",
          "http://www.semanticweb.org/sassh/ontologies/2024/11/untitled-ontology-5#Canrum",
          "http://www.semanticweb.org/sassh/ontologies/2024/11/untitled-ontology-5#Neptune",
          "http://www.semanticweb.org/sassh/ontologies/2024/11/untitled-ontology-5#Junthor",
          "http://www.semanticweb.org/sassh/ontologies/2024/11/untitled-ontology-5#Derneuca",
          "http://www.semanticweb.org/sassh/ontologies/2024/11/untitled-ontology-5#Plutus",
          "http://www.semanticweb.org/sassh/ontologies/2024/11/untitled-ontology-5#Thegeuse",
          "http://www.semanticweb.org/sassh/ontologies/2024/11/untitled-ontology-5#MSV_Worthington",
          "http://www.semanticweb.org/sassh/ontologies/2024/11/untitled-ontology-5#Serpent_Nebula",
          "http://www.semanticweb.org/sassh/ontologies/2024/11/untitled-ontology-5#Ploba",
          "http://www.semanticweb.org/sassh/ontologies/2024/11/untitled-ontology-5#Camaron",
          "http://www.semanticweb.org/sassh/ontologies/2024/11/untitled-ontology-5#Tereshkova",
          "http://www.semanticweb.org/sassh/ontologies/2024/11/untitled-ontology-5#Mission",
          "http://www.semanticweb.org/sassh/ontologies/2024/11/untitled-ontology-5#Dekuuna",
          "http://www.semanticweb.org/sassh/ontologies/2024/11/untitled-ontology-5#Jupiter",
          "http://www.semanticweb.org/sassh/ontologies/2024/11/untitled-ontology-5#Sharring",
          "http://www.semanticweb.org/sassh/ontologies/2024/11/untitled-ontology-5#Intai%27sei",
          "http://www.semanticweb.org/sassh/ontologies/2024/11/untitled-ontology-5#Grosalgen",
          "http://www.semanticweb.org/sassh/ontologies/2024/11/untitled-ontology-5#Presrop",
          "http://www.semanticweb.org/sassh/ontologies/2024/11/untitled-ontology-5#Antitarra",
          "http://www.semanticweb.org/sassh/ontologies/2024/11/untitled-ontology-5#Sparta",
          "http://www.semanticweb.org/sassh/ontologies/2024/11/untitled-ontology-5#Acheron"
         ],
         "legendgroup": "cluster2",
         "marker": {
          "color": "#EF553B",
          "symbol": "circle"
         },
         "mode": "markers",
         "name": "cluster2",
         "orientation": "v",
         "showlegend": true,
         "type": "scatter",
         "x": [
          -1.6777533292770386,
          -2.088010549545288,
          -1.7231112718582153,
          -0.40317219495773315,
          -1.698829174041748,
          -0.6929128766059875,
          -0.3830774426460266,
          -0.3853071331977844,
          -1.6555593013763428,
          -0.41811403632164,
          -1.6803351640701294,
          -0.3838809132575989,
          -0.38416409492492676,
          -1.7278637886047363,
          -0.38585612177848816,
          -0.40941932797431946,
          -1.398269534111023,
          -1.7000997066497803,
          -1.6667269468307495,
          -0.3063803017139435,
          -1.6886810064315796,
          -0.2854679822921753,
          -0.4031428396701813,
          -0.33958038687705994,
          -2.2613706588745117,
          -2.073826789855957,
          0.08390095084905624,
          -0.30452173948287964,
          -0.39700472354888916,
          -0.3540908694267273,
          -1.6879241466522217,
          -0.30857542157173157,
          -1.9890259504318237,
          -1.6832513809204102,
          -0.4057672619819641,
          -2.1112120151519775,
          -0.42642027139663696,
          -1.6994640827178955,
          -0.299306184053421,
          -1.7133746147155762,
          -0.4000284671783447,
          -1.696282148361206,
          -0.28175297379493713,
          -2.0502521991729736,
          -0.3898525536060333,
          -0.3469259738922119,
          -1.3559516668319702,
          -0.4266064167022705,
          -1.70846426486969,
          -1.4026508331298828,
          -1.689796805381775,
          -1.7572575807571411,
          -1.6173126697540283,
          -1.8918612003326416,
          -0.3708380162715912,
          -0.3373452126979828,
          -0.34373706579208374,
          -0.6245070099830627,
          -1.6625069379806519,
          -0.24889130890369415,
          -1.6729834079742432,
          -0.734468936920166,
          -0.31192687153816223,
          -1.9082082509994507,
          -0.3518044948577881,
          -1.6735645532608032,
          -0.4231567680835724,
          -0.5576632022857666,
          -1.3771426677703857,
          -0.45927694439888,
          -0.3780280351638794,
          -1.432349443435669,
          -0.3002625107765198,
          -0.41176047921180725,
          -0.409721702337265,
          -1.5654754638671875,
          -1.696263074874878,
          -0.37615713477134705,
          -0.38063427805900574,
          -1.5504621267318726,
          -0.36832642555236816,
          -1.9187133312225342,
          -1.72724449634552,
          -0.392244428396225,
          -2.2120466232299805,
          -1.9645425081253052,
          -0.3511033058166504,
          -1.6259347200393677,
          -0.41148364543914795,
          -1.550138235092163
         ],
         "xaxis": "x",
         "y": [
          -0.9507670402526855,
          0.08098351210355759,
          -0.9348388910293579,
          -0.7737348675727844,
          -0.9267350435256958,
          0.1216702088713646,
          -0.8289549350738525,
          -0.8023272156715393,
          -0.9314143657684326,
          -0.7390195727348328,
          -0.9901413917541504,
          -0.7964286804199219,
          -0.77872633934021,
          -0.7635003924369812,
          -0.7754514813423157,
          -0.6194034218788147,
          -1.0188655853271484,
          -0.959162175655365,
          -1.0230178833007812,
          -0.8747737407684326,
          -1.0238319635391235,
          -0.7973052263259888,
          -0.7580702304840088,
          -0.8079606890678406,
          0.9442581534385681,
          0.04001393914222717,
          -1.2572920322418213,
          -0.8856483101844788,
          -0.7228455543518066,
          -0.7568119168281555,
          -0.9919261932373047,
          -0.8741015791893005,
          0.0301707424223423,
          -0.9929344058036804,
          -0.7587666511535645,
          0.02951193042099476,
          -0.7654935717582703,
          -0.9693500995635986,
          -0.9139881134033203,
          -1.139190673828125,
          -0.8016577959060669,
          -0.9566195011138916,
          -0.48389676213264465,
          0.1514367312192917,
          -0.7689187526702881,
          -0.8069847226142883,
          -0.8153082132339478,
          -0.8260108828544617,
          -0.9124292731285095,
          -1.0367367267608643,
          -0.9691292643547058,
          -0.9008466005325317,
          -0.9480971097946167,
          -1.308658242225647,
          -0.7470040917396545,
          -0.7512601613998413,
          -0.8890395164489746,
          0.10969050973653793,
          -0.9574270248413086,
          -0.8995110392570496,
          -1.0056592226028442,
          0.11210556328296661,
          -0.8237282037734985,
          0.03174089640378952,
          -0.7802892923355103,
          -0.9745439291000366,
          -0.6490189433097839,
          -0.5443077683448792,
          -0.6690244078636169,
          -0.4254266917705536,
          -0.7742518186569214,
          -1.0097804069519043,
          -0.8710085153579712,
          -0.7740283608436584,
          -0.773003101348877,
          -1.0256708860397339,
          -0.9527166485786438,
          -0.777886152267456,
          -0.7608641982078552,
          -1.2529486417770386,
          -0.7253258228302002,
          -1.1310347318649292,
          -0.9125795960426331,
          -0.8175707459449768,
          0.13714241981506348,
          -0.03801638260483742,
          -0.8011842370033264,
          -1.0068167448043823,
          -0.8194695711135864,
          -0.9107315540313721
         ],
         "yaxis": "y"
        },
        {
         "hovertemplate": "<b>%{hovertext}</b><br><br>cluster=cluster3<br>Компонента 1 (PCA)=%{x}<br>Компонента 2 (PCA)=%{y}<extra></extra>",
         "hovertext": [
          "http://www.semanticweb.org/sassh/ontologies/2024/11/untitled-ontology-5#pilot",
          "http://www.semanticweb.org/sassh/ontologies/2024/11/untitled-ontology-5#Prothean",
          "http://www.semanticweb.org/sassh/ontologies/2024/11/untitled-ontology-5#hasPlanet",
          "http://www.semanticweb.org/sassh/ontologies/2024/11/untitled-ontology-5#Xanadu",
          "http://www.semanticweb.org/sassh/ontologies/2024/11/untitled-ontology-5#Ontarom",
          "N5ea4e146dc374c65be2181029eb8fc3d",
          "http://www.semanticweb.org/sassh/ontologies/2024/11/untitled-ontology-5#Borr",
          "http://www.semanticweb.org/sassh/ontologies/2024/11/untitled-ontology-5#Ming",
          "http://www.semanticweb.org/sassh/ontologies/2024/11/untitled-ontology-5#Sytau",
          "http://www.semanticweb.org/sassh/ontologies/2024/11/untitled-ontology-5#Antaeus",
          "http://www.semanticweb.org/sassh/ontologies/2024/11/untitled-ontology-5#Leviathan",
          "http://www.semanticweb.org/sassh/ontologies/2024/11/untitled-ontology-5#Pax",
          "Na57462a47c464f408997f802e8895a87",
          "http://www.semanticweb.org/sassh/ontologies/2024/11/untitled-ontology-5#Combat",
          "http://www.semanticweb.org/sassh/ontologies/2024/11/untitled-ontology-5#Batarian",
          "http://www.semanticweb.org/sassh/ontologies/2024/11/untitled-ontology-5#Vebinok",
          "http://www.semanticweb.org/sassh/ontologies/2024/11/untitled-ontology-5#Canctra",
          "http://www.semanticweb.org/sassh/ontologies/2024/11/untitled-ontology-5#Zakros",
          "http://www.semanticweb.org/sassh/ontologies/2024/11/untitled-ontology-5#Porolan",
          "Nd9e4e6ba724f4d81af4e2d725e6a867a",
          "http://www.semanticweb.org/sassh/ontologies/2024/11/untitled-ontology-5#Proteus",
          "Nedf65cb0d206466db4cbe811517856b9",
          "http://www.semanticweb.org/sassh/ontologies/2024/11/untitled-ontology-5#Veyaria",
          "http://www.semanticweb.org/sassh/ontologies/2024/11/untitled-ontology-5#Fitness",
          "http://www.semanticweb.org/sassh/ontologies/2024/11/untitled-ontology-5#Vostok",
          "http://www.semanticweb.org/sassh/ontologies/2024/11/untitled-ontology-5#Maji",
          "http://www.semanticweb.org/sassh/ontologies/2024/11/untitled-ontology-5#Erebus",
          "http://www.semanticweb.org/sassh/ontologies/2024/11/untitled-ontology-5#Tyr",
          "http://www.semanticweb.org/sassh/ontologies/2024/11/untitled-ontology-5#Mars",
          "http://www.semanticweb.org/sassh/ontologies/2024/11/untitled-ontology-5#Karin_Chakwas",
          "http://www.semanticweb.org/sassh/ontologies/2024/11/untitled-ontology-5#Amaranthine",
          "http://www.semanticweb.org/sassh/ontologies/2024/11/untitled-ontology-5#Hades_Gamma",
          "Nb96a8466010840579f37931aa3c818fa",
          "http://www.semanticweb.org/sassh/ontologies/2024/11/untitled-ontology-5#Tuchanka",
          "http://www.semanticweb.org/sassh/ontologies/2024/11/untitled-ontology-5#Gemini_Sigma",
          "http://www.semanticweb.org/sassh/ontologies/2024/11/untitled-ontology-5#MSV_Fedele",
          "http://www.semanticweb.org/sassh/ontologies/2024/11/untitled-ontology-5#Antibaar",
          "http://www.semanticweb.org/sassh/ontologies/2024/11/untitled-ontology-5#Hanar",
          "http://www.semanticweb.org/sassh/ontologies/2024/11/untitled-ontology-5#Sonedma",
          "N37797cf2a76c4298b8a5ed55eaabc7d0",
          "N27399fb1d1914d2b876ebf34869c7bd1",
          "http://www.semanticweb.org/sassh/ontologies/2024/11/untitled-ontology-5#Vorcha",
          "http://www.semanticweb.org/sassh/ontologies/2024/11/untitled-ontology-5#Juntauma",
          "http://www.semanticweb.org/sassh/ontologies/2024/11/untitled-ontology-5#Caspian",
          "http://www.semanticweb.org/sassh/ontologies/2024/11/untitled-ontology-5#Irune",
          "http://www.semanticweb.org/sassh/ontologies/2024/11/untitled-ontology-5#Armstrong_Nebula",
          "http://www.semanticweb.org/sassh/ontologies/2024/11/untitled-ontology-5#Action",
          "http://www.semanticweb.org/sassh/ontologies/2024/11/untitled-ontology-5#Solcrum",
          "http://www.semanticweb.org/sassh/ontologies/2024/11/untitled-ontology-5#criminal",
          "http://www.semanticweb.org/sassh/ontologies/2024/11/untitled-ontology-5#Nirvana",
          "http://www.semanticweb.org/sassh/ontologies/2024/11/untitled-ontology-5#Quana",
          "http://www.semanticweb.org/sassh/ontologies/2024/11/untitled-ontology-5#Styx_Theta",
          "http://www.semanticweb.org/sassh/ontologies/2024/11/untitled-ontology-5#Knossos",
          "N952aa9b632a0432ca6086510efccb986",
          "http://www.semanticweb.org/sassh/ontologies/2024/11/untitled-ontology-5#Illapa",
          "http://www.semanticweb.org/sassh/ontologies/2024/11/untitled-ontology-5",
          "http://www.semanticweb.org/sassh/ontologies/2024/11/untitled-ontology-5#Gremar",
          "http://www.semanticweb.org/sassh/ontologies/2024/11/untitled-ontology-5#Throw",
          "http://www.semanticweb.org/sassh/ontologies/2024/11/untitled-ontology-5#Hunidor",
          "http://www.semanticweb.org/sassh/ontologies/2024/11/untitled-ontology-5#Binthu",
          "http://www.semanticweb.org/sassh/ontologies/2024/11/untitled-ontology-5#Asteroid_%232",
          "http://www.semanticweb.org/sassh/ontologies/2024/11/untitled-ontology-5#Unidentified_Space_Facility",
          "http://www.semanticweb.org/sassh/ontologies/2024/11/untitled-ontology-5#DNA",
          "http://www.semanticweb.org/sassh/ontologies/2024/11/untitled-ontology-5#Utopia",
          "http://www.semanticweb.org/sassh/ontologies/2024/11/untitled-ontology-5#Loki",
          "http://www.semanticweb.org/sassh/ontologies/2024/11/untitled-ontology-5#Streenus",
          "http://www.semanticweb.org/sassh/ontologies/2024/11/untitled-ontology-5#Singularity",
          "http://www.semanticweb.org/sassh/ontologies/2024/11/untitled-ontology-5#Faringor",
          "http://www.semanticweb.org/sassh/ontologies/2024/11/untitled-ontology-5#SurKesh",
          "http://www.semanticweb.org/sassh/ontologies/2024/11/untitled-ontology-5#Solmarlon",
          "http://www.semanticweb.org/sassh/ontologies/2024/11/untitled-ontology-5#Arcadia",
          "http://www.semanticweb.org/sassh/ontologies/2024/11/untitled-ontology-5#Trebin",
          "http://www.semanticweb.org/sassh/ontologies/2024/11/untitled-ontology-5#hasCluster",
          "N1fe00b1d4a7e448cbec6ea676ac55692",
          "http://www.semanticweb.org/sassh/ontologies/2024/11/untitled-ontology-5#Pomal",
          "N9043f91ed3d642b2b7694bd7b4530b03",
          "http://www.semanticweb.org/sassh/ontologies/2024/11/untitled-ontology-5#Patatanlis",
          "http://www.semanticweb.org/sassh/ontologies/2024/11/untitled-ontology-5#Widow",
          "http://www.semanticweb.org/sassh/ontologies/2024/11/untitled-ontology-5#Saturn",
          "http://www.semanticweb.org/sassh/ontologies/2024/11/untitled-ontology-5#Ontamalca",
          "http://www.semanticweb.org/sassh/ontologies/2024/11/untitled-ontology-5#Sharblu",
          "http://www.semanticweb.org/sassh/ontologies/2024/11/untitled-ontology-5#Nausicaa",
          "Na1160ac08f8049c7bfdfe4d8ff4f9f28",
          "http://www.semanticweb.org/sassh/ontologies/2024/11/untitled-ontology-5#Fortuna",
          "http://www.semanticweb.org/sassh/ontologies/2024/11/untitled-ontology-5#Rayingri",
          "http://www.semanticweb.org/sassh/ontologies/2024/11/untitled-ontology-5#Eletania",
          "http://www.semanticweb.org/sassh/ontologies/2024/11/untitled-ontology-5#Chohe",
          "http://www.semanticweb.org/sassh/ontologies/2024/11/untitled-ontology-5#Pregel",
          "http://www.semanticweb.org/sassh/ontologies/2024/11/untitled-ontology-5#Zatorus",
          "http://www.semanticweb.org/sassh/ontologies/2024/11/untitled-ontology-5#Treagir",
          "http://www.semanticweb.org/sassh/ontologies/2024/11/untitled-ontology-5#Antirumgon",
          "http://www.semanticweb.org/sassh/ontologies/2024/11/untitled-ontology-5#Tremar",
          "http://www.semanticweb.org/sassh/ontologies/2024/11/untitled-ontology-5#Clocrolis",
          "http://www.semanticweb.org/sassh/ontologies/2024/11/untitled-ontology-5#Pistols",
          "http://www.semanticweb.org/sassh/ontologies/2024/11/untitled-ontology-5#Tuntau",
          "http://www.semanticweb.org/sassh/ontologies/2024/11/untitled-ontology-5#Drell",
          "http://www.semanticweb.org/sassh/ontologies/2024/11/untitled-ontology-5#Casbin",
          "http://www.semanticweb.org/sassh/ontologies/2024/11/untitled-ontology-5#Assault_Rifles",
          "http://www.semanticweb.org/sassh/ontologies/2024/11/untitled-ontology-5#Huningto",
          "http://www.semanticweb.org/sassh/ontologies/2024/11/untitled-ontology-5#Ontaheter",
          "Nc2600f71391c408bb90dda063cb16481",
          "http://www.semanticweb.org/sassh/ontologies/2024/11/untitled-ontology-5#Nonuel",
          "http://www.semanticweb.org/sassh/ontologies/2024/11/untitled-ontology-5#Alsages",
          "http://www.semanticweb.org/sassh/ontologies/2024/11/untitled-ontology-5#Palaven",
          "http://www.semanticweb.org/sassh/ontologies/2024/11/untitled-ontology-5#Wuo",
          "http://www.semanticweb.org/sassh/ontologies/2024/11/untitled-ontology-5#Mavigon",
          "Nbf132cba222544c5a79bd3f0ca86bdfb",
          "http://www.semanticweb.org/sassh/ontologies/2024/11/untitled-ontology-5#Klencory",
          "http://www.semanticweb.org/sassh/ontologies/2024/11/untitled-ontology-5#Pataiton",
          "Na15c1e7dd69441e3b4097fc03daaa753",
          "http://www.semanticweb.org/sassh/ontologies/2024/11/untitled-ontology-5#Vemal",
          "http://www.semanticweb.org/sassh/ontologies/2024/11/untitled-ontology-5#Exodus_Cluster",
          "http://www.semanticweb.org/sassh/ontologies/2024/11/untitled-ontology-5#Patavig",
          "http://www.semanticweb.org/sassh/ontologies/2024/11/untitled-ontology-5#Terra_Nova",
          "http://www.semanticweb.org/sassh/ontologies/2024/11/untitled-ontology-5#Rannoch",
          "N45bc0b39f4aa4b7da7b1f46033a597fa",
          "http://www.semanticweb.org/sassh/ontologies/2024/11/untitled-ontology-5#Stasis",
          "http://www.semanticweb.org/sassh/ontologies/2024/11/untitled-ontology-5#Zion",
          "http://www.semanticweb.org/sassh/ontologies/2024/11/untitled-ontology-5#Almarcrux",
          "http://www.semanticweb.org/sassh/ontologies/2024/11/untitled-ontology-5#MSV_Ontario",
          "http://www.semanticweb.org/sassh/ontologies/2024/11/untitled-ontology-5#Vamshi",
          "http://www.semanticweb.org/sassh/ontologies/2024/11/untitled-ontology-5#Hoc",
          "http://www.semanticweb.org/sassh/ontologies/2024/11/untitled-ontology-5#Archanes",
          "Ncca4b1e068124444bbe74fc764ad8b58",
          "http://www.semanticweb.org/sassh/ontologies/2024/11/untitled-ontology-5#Zaherux",
          "http://www.semanticweb.org/sassh/ontologies/2024/11/untitled-ontology-5#Yangtze",
          "http://www.semanticweb.org/sassh/ontologies/2024/11/untitled-ontology-5#Apo",
          "http://www.semanticweb.org/sassh/ontologies/2024/11/untitled-ontology-5#Clobaka",
          "http://www.semanticweb.org/sassh/ontologies/2024/11/untitled-ontology-5#Unknown"
         ],
         "legendgroup": "cluster3",
         "marker": {
          "color": "#00cc96",
          "symbol": "circle"
         },
         "mode": "markers",
         "name": "cluster3",
         "orientation": "v",
         "showlegend": true,
         "type": "scatter",
         "x": [
          0.46402618288993835,
          -0.17648662626743317,
          -0.09931953996419907,
          -0.005184400826692581,
          0.2415742725133896,
          0.10728485882282257,
          0.06484779715538025,
          -0.029852623119950294,
          0.2195982038974762,
          -0.057049572467803955,
          0.04129975289106369,
          0.23387140035629272,
          0.17426025867462158,
          0.11633892357349396,
          0.07623571157455444,
          0.1179516613483429,
          -0.8223354816436768,
          -0.07138148695230484,
          -1.0534934997558594,
          0.04209914430975914,
          -0.11394591629505157,
          -0.06629811227321625,
          -0.026567107066512108,
          -0.25397664308547974,
          -0.14079932868480682,
          0.12784726917743683,
          -0.15386389195919037,
          -0.12316271662712097,
          0.2710079252719879,
          -0.44833195209503174,
          0.10725010186433792,
          0.08300189673900604,
          0.17182527482509613,
          -1.005611777305603,
          0.08842206001281738,
          -0.18256144225597382,
          -0.6223710775375366,
          -0.5006679892539978,
          -0.8189219236373901,
          0.030212124809622765,
          0.025513781234622,
          0.09703321754932404,
          0.09503375738859177,
          0.1330924779176712,
          -0.2173994481563568,
          -0.3494865894317627,
          -0.27004414796829224,
          -0.11809666454792023,
          -0.045061372220516205,
          -0.11916123330593109,
          -0.6393616795539856,
          -0.12130558490753174,
          -0.08144932985305786,
          -0.41040733456611633,
          -0.9095461368560791,
          -0.2726040482521057,
          -1.047362208366394,
          -0.0011519765248522162,
          -0.2572675347328186,
          -0.8283702731132507,
          0.029992947354912758,
          -0.615014374256134,
          0.16988034546375275,
          -0.3152213394641876,
          0.12289164215326309,
          0.05540046840906143,
          0.4339570999145508,
          0.21216215193271637,
          -0.9912006258964539,
          -0.9965813755989075,
          0.02387133799493313,
          0.09667608886957169,
          -0.1120261698961258,
          0.01191388163715601,
          -1.0756086111068726,
          -0.16766835749149323,
          0.1296621859073639,
          -0.14253471791744232,
          0.09137757122516632,
          0.056663285940885544,
          -0.4815289080142975,
          0.11021123081445694,
          0.32273685932159424,
          -0.5207294225692749,
          -0.8328250050544739,
          -0.8569653630256653,
          -0.672215461730957,
          -1.0794126987457275,
          0.062042929232120514,
          -0.03861211612820625,
          -0.3566056787967682,
          0.08680393546819687,
          -1.0572408437728882,
          -0.3843504786491394,
          -0.49000391364097595,
          0.00815992709249258,
          -0.8070487380027771,
          -0.046332620084285736,
          -0.9943422675132751,
          -1.0383940935134888,
          0.3615078628063202,
          -0.769385814666748,
          0.03828967362642288,
          -0.545218825340271,
          -0.10256850719451904,
          0.08166732639074326,
          0.04630456119775772,
          0.009787687100470066,
          -0.814518392086029,
          -0.1486252099275589,
          -0.9854692220687866,
          0.11126743257045746,
          -1.0013784170150757,
          -1.076390266418457,
          0.3509855568408966,
          -0.536958634853363,
          0.24571986496448517,
          -0.9669877886772156,
          -0.8322692513465881,
          0.09764032065868378,
          -0.08764636516571045,
          -0.00954224169254303,
          -0.052654389292001724,
          -0.0070693171583116055,
          0.3206905126571655,
          0.02376697026193142,
          0.05687345564365387,
          -0.14870399236679077,
          -0.8982136249542236
         ],
         "xaxis": "x",
         "y": [
          0.3822053074836731,
          0.05180874839425087,
          0.2911912798881531,
          0.5352164506912231,
          0.24372272193431854,
          0.5361040830612183,
          0.5539000034332275,
          0.09210968017578125,
          0.13007965683937073,
          0.3908507823944092,
          -0.07225079834461212,
          -0.09915222227573395,
          0.34925350546836853,
          0.4045952260494232,
          0.27514612674713135,
          -0.1026233434677124,
          1.293282389640808,
          0.007051387336105108,
          1.1577069759368896,
          -0.00493750162422657,
          1.21989905834198,
          0.31554797291755676,
          0.07122557610273361,
          -0.04336661472916603,
          0.24453727900981903,
          -0.06314028054475784,
          -0.06326524913311005,
          0.08363913744688034,
          0.559145450592041,
          -0.08563480526208878,
          0.5797781348228455,
          -0.19431288540363312,
          -0.05658692121505737,
          1.21320641040802,
          0.5654418468475342,
          0.5787637233734131,
          1.0859143733978271,
          0.36987555027008057,
          -0.07085514068603516,
          0.19297070801258087,
          0.5071204900741577,
          0.11976493149995804,
          -0.06511512398719788,
          0.18138952553272247,
          -0.09517373144626617,
          -0.1534881740808487,
          -0.018884312361478806,
          0.5257536172866821,
          -0.4304658770561218,
          0.532514750957489,
          1.082030177116394,
          0.03761730715632439,
          0.3273361921310425,
          0.5489808320999146,
          1.0039538145065308,
          0.27075862884521484,
          1.126504898071289,
          0.20028464496135712,
          1.1529786586761475,
          0.9405896067619324,
          0.4969800114631653,
          0.1475650817155838,
          0.09327752143144608,
          0.06412438303232193,
          -0.2538088858127594,
          -0.035575658082962036,
          0.04450929909944534,
          0.4874309301376343,
          1.172789216041565,
          1.1764661073684692,
          0.5487275123596191,
          0.4881643056869507,
          0.21851731836795807,
          0.24522678554058075,
          1.0846537351608276,
          0.1563349962234497,
          0.5947631597518921,
          0.11216447502374649,
          0.622834324836731,
          0.5956644415855408,
          0.1697283536195755,
          0.6210882067680359,
          0.08194596320390701,
          0.049117621034383774,
          -0.07803218066692352,
          1.0700280666351318,
          -0.16587434709072113,
          1.1617032289505005,
          0.5558747053146362,
          -0.34812378883361816,
          -0.19718164205551147,
          -0.2269836813211441,
          1.1104146242141724,
          0.2676745653152466,
          0.16445718705654144,
          0.04711894690990448,
          -0.09885446727275848,
          0.4160213768482208,
          1.2194254398345947,
          0.581760048866272,
          0.1775771528482437,
          0.9612890481948853,
          0.5671864748001099,
          1.2991526126861572,
          0.46456167101860046,
          0.5872341394424438,
          -0.2450266182422638,
          0.5941027402877808,
          -0.007619897834956646,
          0.11318115144968033,
          0.4750816226005554,
          0.05135044455528259,
          1.1890279054641724,
          1.1748987436294556,
          -0.1584518402814865,
          0.32061901688575745,
          0.31249409914016724,
          1.2363855838775635,
          -0.06354973465204239,
          -0.04467395320534706,
          -0.012031649239361286,
          0.3342367708683014,
          0.06412088871002197,
          0.14448268711566925,
          0.16015474498271942,
          -0.00124610576312989,
          0.5874991416931152,
          1.1112816333770752,
          0.3768395483493805
         ],
         "yaxis": "y"
        },
        {
         "hovertemplate": "<b>%{hovertext}</b><br><br>cluster=cluster4<br>Компонента 1 (PCA)=%{x}<br>Компонента 2 (PCA)=%{y}<extra></extra>",
         "hovertext": [
          "http://www.semanticweb.org/sassh/ontologies/2024/11/untitled-ontology-5#%E2%80%9CKen%E2%80%9D_Donnelly",
          "http://www.semanticweb.org/sassh/ontologies/2024/11/untitled-ontology-5#hasAbility",
          "http://www.semanticweb.org/sassh/ontologies/2024/11/untitled-ontology-5#Richard_Jenkins",
          "http://www.semanticweb.org/sassh/ontologies/2024/11/untitled-ontology-5#Liara_T%E2%80%99Soni",
          "http://www.semanticweb.org/sassh/ontologies/2024/11/untitled-ontology-5#hasAction",
          "http://www.semanticweb.org/sassh/ontologies/2024/11/untitled-ontology-5#Steve_Cortez",
          "http://www.semanticweb.org/sassh/ontologies/2024/11/untitled-ontology-5#inCrew",
          "http://www.semanticweb.org/sassh/ontologies/2024/11/untitled-ontology-5#Legion",
          "http://www.semanticweb.org/sassh/ontologies/2024/11/untitled-ontology-5#Councilor_Valern",
          "http://www.semanticweb.org/sassh/ontologies/2024/11/untitled-ontology-5#Councilor_Sparatus",
          "http://www.semanticweb.org/sassh/ontologies/2024/11/untitled-ontology-5#Zaeed_Massani",
          "http://www.semanticweb.org/sassh/ontologies/2024/11/untitled-ontology-5#Grunt",
          "http://www.semanticweb.org/sassh/ontologies/2024/11/untitled-ontology-5#Councilor_Esheel",
          "http://www.semanticweb.org/sassh/ontologies/2024/11/untitled-ontology-5#Tali%E2%80%99Zorah",
          "http://www.semanticweb.org/sassh/ontologies/2024/11/untitled-ontology-5#Sovereign",
          "http://www.semanticweb.org/sassh/ontologies/2024/11/untitled-ontology-5#Miranda_Lawson",
          "http://www.semanticweb.org/sassh/ontologies/2024/11/untitled-ontology-5#James_Vega",
          "http://www.semanticweb.org/sassh/ontologies/2024/11/untitled-ontology-5#Kasumi_Goto",
          "http://www.semanticweb.org/sassh/ontologies/2024/11/untitled-ontology-5#isAvailable",
          "http://www.semanticweb.org/sassh/ontologies/2024/11/untitled-ontology-5#Urdnot_Wrex",
          "http://www.semanticweb.org/sassh/ontologies/2024/11/untitled-ontology-5#Garrus_Vakarian",
          "http://www.semanticweb.org/sassh/ontologies/2024/11/untitled-ontology-5#Hydra",
          "http://www.semanticweb.org/sassh/ontologies/2024/11/untitled-ontology-5#Lift",
          "http://www.semanticweb.org/sassh/ontologies/2024/11/untitled-ontology-5#Councilor_Irissa",
          "http://www.semanticweb.org/sassh/ontologies/2024/11/untitled-ontology-5#Kaidan_Alenko",
          "http://www.semanticweb.org/sassh/ontologies/2024/11/untitled-ontology-5#%E2%80%9CGabby%E2%80%9D_Daniels",
          "http://www.semanticweb.org/sassh/ontologies/2024/11/untitled-ontology-5#Samantha_Traynor",
          "http://www.semanticweb.org/sassh/ontologies/2024/11/untitled-ontology-5#Greg_Adams",
          "http://www.semanticweb.org/sassh/ontologies/2024/11/untitled-ontology-5#Charles_Pressly",
          "http://www.semanticweb.org/sassh/ontologies/2024/11/untitled-ontology-5#Jacob_Taylor",
          "http://www.semanticweb.org/sassh/ontologies/2024/11/untitled-ontology-5#Rupert_Gardner",
          "http://www.semanticweb.org/sassh/ontologies/2024/11/untitled-ontology-5#Javik",
          "http://www.semanticweb.org/sassh/ontologies/2024/11/untitled-ontology-5#Farinata",
          "http://www.semanticweb.org/sassh/ontologies/2024/11/untitled-ontology-5#Ashley_Williams",
          "http://www.semanticweb.org/sassh/ontologies/2024/11/untitled-ontology-5#David_Anderson",
          "http://www.semanticweb.org/sassh/ontologies/2024/11/untitled-ontology-5#doActivity",
          "http://www.semanticweb.org/sassh/ontologies/2024/11/untitled-ontology-5#leader",
          "http://www.semanticweb.org/sassh/ontologies/2024/11/untitled-ontology-5#Khalisah_al-Jilani",
          "http://www.semanticweb.org/sassh/ontologies/2024/11/untitled-ontology-5#Diana_Allers",
          "http://www.semanticweb.org/sassh/ontologies/2024/11/untitled-ontology-5#Emily_Wong",
          "http://www.semanticweb.org/sassh/ontologies/2024/11/untitled-ontology-5#Councilor_Quentius",
          "http://www.semanticweb.org/sassh/ontologies/2024/11/untitled-ontology-5#Kelly_Chambers",
          "http://www.semanticweb.org/sassh/ontologies/2024/11/untitled-ontology-5#bornIn",
          "http://www.semanticweb.org/sassh/ontologies/2024/11/untitled-ontology-5#Jack",
          "http://www.semanticweb.org/sassh/ontologies/2024/11/untitled-ontology-5#Shepard",
          "http://www.semanticweb.org/sassh/ontologies/2024/11/untitled-ontology-5#Samara",
          "http://www.semanticweb.org/sassh/ontologies/2024/11/untitled-ontology-5#Harbinger"
         ],
         "legendgroup": "cluster4",
         "marker": {
          "color": "#ab63fa",
          "symbol": "circle"
         },
         "mode": "markers",
         "name": "cluster4",
         "orientation": "v",
         "showlegend": true,
         "type": "scatter",
         "x": [
          0.8072009682655334,
          -0.10835535079240799,
          0.0733753889799118,
          0.8164547681808472,
          0.12885741889476776,
          0.7258399128913879,
          -0.025131871923804283,
          0.6510964035987854,
          -0.06652430444955826,
          0.2625036835670471,
          -0.4095988869667053,
          0.2923053801059723,
          0.00017866837151814252,
          0.2701023519039154,
          0.3726089298725128,
          0.5922436714172363,
          0.3831450045108795,
          0.6694818139076233,
          0.024245448410511017,
          -0.23283229768276215,
          0.5518195629119873,
          -0.007099084556102753,
          -0.07717112451791763,
          0.8562760949134827,
          0.601530909538269,
          0.7202211022377014,
          0.7932746410369873,
          0.7002886533737183,
          1.050019383430481,
          0.4177744388580322,
          0.8099352717399597,
          -0.08416897803544998,
          0.2430705428123474,
          -0.4023036062717438,
          0.26735949516296387,
          0.9646233320236206,
          0.12932398915290833,
          0.001359824207611382,
          0.7031047344207764,
          0.834399938583374,
          0.673896312713623,
          0.18142150342464447,
          0.5127339363098145,
          0.8070359230041504,
          -0.23471792042255402,
          0.20120133459568024,
          0.3444802463054657
         ],
         "xaxis": "x",
         "y": [
          -0.40701785683631897,
          -0.3811415135860443,
          -0.2564859092235565,
          -0.3524097800254822,
          -0.22959940135478973,
          -0.2350216656923294,
          -0.05894508957862854,
          -0.0854291096329689,
          0.021192487329244614,
          -0.15640714764595032,
          -0.3764267861843109,
          -0.29536524415016174,
          0.02192433923482895,
          -0.01077298168092966,
          -0.0002611552190501243,
          -0.08692219108343124,
          -0.11914320290088654,
          -0.29877009987831116,
          -0.0796022117137909,
          -0.5237258076667786,
          -0.2733987271785736,
          -0.09334445744752884,
          -0.19681094586849213,
          -0.3269079327583313,
          -0.18938370048999786,
          -0.18621395528316498,
          -0.35919123888015747,
          -0.23614196479320526,
          -0.31804314255714417,
          -0.18982109427452087,
          -0.4821069836616516,
          -0.1441187709569931,
          -0.09980231523513794,
          -0.18464234471321106,
          -0.26942405104637146,
          -0.37889963388442993,
          0.16591383516788483,
          -0.013762504793703556,
          -0.2618892788887024,
          -0.2612488567829132,
          -0.007043708581477404,
          -0.12777996063232422,
          -0.6275832056999207,
          -0.0940815657377243,
          -0.08851996809244156,
          0.04097439721226692,
          -0.26587024331092834
         ],
         "yaxis": "y"
        },
        {
         "hovertemplate": "<b>%{hovertext}</b><br><br>cluster=cluster1<br>Компонента 1 (PCA)=%{x}<br>Компонента 2 (PCA)=%{y}<extra></extra>",
         "hovertext": [
          "http://www.semanticweb.org/sassh/ontologies/2024/11/untitled-ontology-5#Antiropus",
          "http://www.semanticweb.org/sassh/ontologies/2024/11/untitled-ontology-5#Clojiia",
          "http://www.semanticweb.org/sassh/ontologies/2024/11/untitled-ontology-5#Salamis",
          "http://www.semanticweb.org/sassh/ontologies/2024/11/untitled-ontology-5#Tamahera",
          "http://www.semanticweb.org/sassh/ontologies/2024/11/untitled-ontology-5#Juncro",
          "http://www.semanticweb.org/sassh/ontologies/2024/11/untitled-ontology-5#Armeni",
          "http://www.semanticweb.org/sassh/ontologies/2024/11/untitled-ontology-5#Nepneu",
          "http://www.semanticweb.org/sassh/ontologies/2024/11/untitled-ontology-5#Tremanre",
          "http://www.semanticweb.org/sassh/ontologies/2024/11/untitled-ontology-5#Xamarri",
          "http://www.semanticweb.org/sassh/ontologies/2024/11/untitled-ontology-5#Asteroid_%231",
          "http://www.semanticweb.org/sassh/ontologies/2024/11/untitled-ontology-5#Yunthorl",
          "http://www.semanticweb.org/sassh/ontologies/2024/11/untitled-ontology-5#Dregir",
          "http://www.semanticweb.org/sassh/ontologies/2024/11/untitled-ontology-5#Sylsalto",
          "http://www.semanticweb.org/sassh/ontologies/2024/11/untitled-ontology-5#Xathorron",
          "http://www.semanticweb.org/sassh/ontologies/2024/11/untitled-ontology-5#Klendagon",
          "http://www.semanticweb.org/sassh/ontologies/2024/11/untitled-ontology-5#Clotanca",
          "http://www.semanticweb.org/sassh/ontologies/2024/11/untitled-ontology-5#Clomarthu",
          "http://www.semanticweb.org/sassh/ontologies/2024/11/untitled-ontology-5#Supay",
          "http://www.semanticweb.org/sassh/ontologies/2024/11/untitled-ontology-5#Maidla",
          "http://www.semanticweb.org/sassh/ontologies/2024/11/untitled-ontology-5#Mawinor",
          "http://www.semanticweb.org/sassh/ontologies/2024/11/untitled-ontology-5#Theshaca",
          "http://www.semanticweb.org/sassh/ontologies/2024/11/untitled-ontology-5#Tharopto",
          "http://www.semanticweb.org/sassh/ontologies/2024/11/untitled-ontology-5#Farthorl",
          "http://www.semanticweb.org/sassh/ontologies/2024/11/untitled-ontology-5#Theyar",
          "http://www.semanticweb.org/sassh/ontologies/2024/11/untitled-ontology-5#Clugon",
          "http://www.semanticweb.org/sassh/ontologies/2024/11/untitled-ontology-5#Tunshagon",
          "http://www.semanticweb.org/sassh/ontologies/2024/11/untitled-ontology-5#Thesalgon",
          "http://www.semanticweb.org/sassh/ontologies/2024/11/untitled-ontology-5#Alrumter",
          "http://www.semanticweb.org/sassh/ontologies/2024/11/untitled-ontology-5#Hunsalra",
          "http://www.semanticweb.org/sassh/ontologies/2024/11/untitled-ontology-5#Svarog",
          "http://www.semanticweb.org/sassh/ontologies/2024/11/untitled-ontology-5#Benda",
          "http://www.semanticweb.org/sassh/ontologies/2024/11/untitled-ontology-5#Gromar",
          "http://www.semanticweb.org/sassh/ontologies/2024/11/untitled-ontology-5#Notanban",
          "http://www.semanticweb.org/sassh/ontologies/2024/11/untitled-ontology-5#Morana",
          "http://www.semanticweb.org/sassh/ontologies/2024/11/untitled-ontology-5#Syba",
          "http://www.semanticweb.org/sassh/ontologies/2024/11/untitled-ontology-5#Phiastos"
         ],
         "legendgroup": "cluster1",
         "marker": {
          "color": "#FFA15A",
          "symbol": "circle"
         },
         "mode": "markers",
         "name": "cluster1",
         "orientation": "v",
         "showlegend": true,
         "type": "scatter",
         "x": [
          -0.561275839805603,
          -0.09696561098098755,
          -0.4955001771450043,
          -0.5808572173118591,
          -0.45967838168144226,
          0.45657506585121155,
          -0.5798318982124329,
          -0.5859416723251343,
          -0.49310925602912903,
          0.5211880207061768,
          0.47731274366378784,
          0.5237528681755066,
          0.47489944100379944,
          0.44394201040267944,
          -0.3248807489871979,
          -0.48082560300827026,
          -0.5556492805480957,
          0.44033122062683105,
          0.524034321308136,
          -0.4557904005050659,
          -0.4071792662143707,
          -1.100879430770874,
          0.5271457433700562,
          -0.5095616579055786,
          0.565999448299408,
          0.3994385302066803,
          0.48161888122558594,
          -0.48993974924087524,
          -0.503304123878479,
          0.46637681126594543,
          -1.2321032285690308,
          -0.07378886640071869,
          -0.5245528817176819,
          -0.4690144956111908,
          0.44212692975997925,
          -0.5253958106040955
         ],
         "xaxis": "x",
         "y": [
          1.569429874420166,
          1.5039833784103394,
          1.5140544176101685,
          1.579963207244873,
          1.558542251586914,
          0.7757389545440674,
          1.5626722574234009,
          1.5858559608459473,
          1.6173095703125,
          0.8268280625343323,
          0.7798334956169128,
          0.8227387070655823,
          0.7820281386375427,
          0.7523297071456909,
          1.7766247987747192,
          1.6249316930770874,
          1.5581872463226318,
          0.8362873196601868,
          0.7968752980232239,
          1.5390338897705078,
          1.6538370847702026,
          2.1240549087524414,
          0.8472415208816528,
          1.6516425609588623,
          0.8033208250999451,
          0.6766337156295776,
          0.7687808871269226,
          1.6268339157104492,
          1.5166079998016357,
          0.7948778867721558,
          2.101522922515869,
          1.4320356845855713,
          1.6094383001327515,
          1.5466622114181519,
          0.77325439453125,
          1.560023307800293
         ],
         "yaxis": "y"
        },
        {
         "hovertemplate": "<b>%{hovertext}</b><br><br>cluster=cluster0<br>Компонента 1 (PCA)=%{x}<br>Компонента 2 (PCA)=%{y}<extra></extra>",
         "hovertext": [
          "http://www.semanticweb.org/sassh/ontologies/2024/11/untitled-ontology-5#justicar",
          "http://www.semanticweb.org/sassh/ontologies/2024/11/untitled-ontology-5#Barrier",
          "http://www.semanticweb.org/sassh/ontologies/2024/11/untitled-ontology-5#Assault_Training",
          "http://www.semanticweb.org/sassh/ontologies/2024/11/untitled-ontology-5#Armor",
          "http://www.semanticweb.org/sassh/ontologies/2024/11/untitled-ontology-5#journalist",
          "http://www.semanticweb.org/sassh/ontologies/2024/11/untitled-ontology-5#Planet_Object",
          "http://www.semanticweb.org/sassh/ontologies/2024/11/untitled-ontology-5#mercenary",
          "http://www.semanticweb.org/sassh/ontologies/2024/11/untitled-ontology-5#normandy",
          "http://www.semanticweb.org/sassh/ontologies/2024/11/untitled-ontology-5#soldier",
          "http://www.semanticweb.org/sassh/ontologies/2024/11/untitled-ontology-5#seller",
          "http://www.semanticweb.org/sassh/ontologies/2024/11/untitled-ontology-5#Warp",
          "http://www.semanticweb.org/sassh/ontologies/2024/11/untitled-ontology-5#unit",
          "http://www.semanticweb.org/sassh/ontologies/2024/11/untitled-ontology-5#Tactical_Armor",
          "http://www.semanticweb.org/sassh/ontologies/2024/11/untitled-ontology-5#counselor",
          "http://www.semanticweb.org/sassh/ontologies/2024/11/untitled-ontology-5#Combat_Armor",
          "http://www.semanticweb.org/sassh/ontologies/2024/11/untitled-ontology-5#abilities",
          "http://www.semanticweb.org/sassh/ontologies/2024/11/untitled-ontology-5#Biotic",
          "http://www.semanticweb.org/sassh/ontologies/2024/11/untitled-ontology-5#Basic_Armor",
          "http://www.semanticweb.org/sassh/ontologies/2024/11/untitled-ontology-5#navigator",
          "http://www.semanticweb.org/sassh/ontologies/2024/11/untitled-ontology-5#politcian",
          "http://www.semanticweb.org/sassh/ontologies/2024/11/untitled-ontology-5#admiral",
          "http://www.semanticweb.org/sassh/ontologies/2024/11/untitled-ontology-5#Weapons"
         ],
         "legendgroup": "cluster0",
         "marker": {
          "color": "#19d3f3",
          "symbol": "circle"
         },
         "mode": "markers",
         "name": "cluster0",
         "orientation": "v",
         "showlegend": true,
         "type": "scatter",
         "x": [
          -0.016139300540089607,
          0.0555754229426384,
          0.25459110736846924,
          0.7129639387130737,
          0.664053201675415,
          0.07653925567865372,
          0.3649396300315857,
          0.6624366641044617,
          0.2341090589761734,
          0.41913533210754395,
          0.25839337706565857,
          0.733590841293335,
          0.5010097026824951,
          0.6024900078773499,
          -0.06894998997449875,
          0.18175140023231506,
          0.22870467603206635,
          0.11621613055467606,
          0.30571192502975464,
          -0.03567732498049736,
          0.7259492874145508,
          0.1336098313331604
         ],
         "xaxis": "x",
         "y": [
          0.271609902381897,
          0.38867586851119995,
          -0.1323394477367401,
          0.060294993221759796,
          -0.13427312672138214,
          -1.0970261096954346,
          0.3080558180809021,
          -0.06882797926664352,
          0.3073234558105469,
          0.29152390360832214,
          -0.030858613550662994,
          -0.07111135870218277,
          -0.1286347359418869,
          -0.06751037389039993,
          0.18366947770118713,
          0.5861382484436035,
          0.39337092638015747,
          0.302507609128952,
          0.36573389172554016,
          0.14619852602481842,
          0.17675161361694336,
          0.2548549175262451
         ],
         "yaxis": "y"
        }
       ],
       "layout": {
        "height": 600,
        "legend": {
         "title": {
          "text": "Кластеры"
         },
         "tracegroupgap": 0,
         "x": 1,
         "y": 1
        },
        "template": {
         "data": {
          "bar": [
           {
            "error_x": {
             "color": "#2a3f5f"
            },
            "error_y": {
             "color": "#2a3f5f"
            },
            "marker": {
             "line": {
              "color": "#E5ECF6",
              "width": 0.5
             },
             "pattern": {
              "fillmode": "overlay",
              "size": 10,
              "solidity": 0.2
             }
            },
            "type": "bar"
           }
          ],
          "barpolar": [
           {
            "marker": {
             "line": {
              "color": "#E5ECF6",
              "width": 0.5
             },
             "pattern": {
              "fillmode": "overlay",
              "size": 10,
              "solidity": 0.2
             }
            },
            "type": "barpolar"
           }
          ],
          "carpet": [
           {
            "aaxis": {
             "endlinecolor": "#2a3f5f",
             "gridcolor": "white",
             "linecolor": "white",
             "minorgridcolor": "white",
             "startlinecolor": "#2a3f5f"
            },
            "baxis": {
             "endlinecolor": "#2a3f5f",
             "gridcolor": "white",
             "linecolor": "white",
             "minorgridcolor": "white",
             "startlinecolor": "#2a3f5f"
            },
            "type": "carpet"
           }
          ],
          "choropleth": [
           {
            "colorbar": {
             "outlinewidth": 0,
             "ticks": ""
            },
            "type": "choropleth"
           }
          ],
          "contour": [
           {
            "colorbar": {
             "outlinewidth": 0,
             "ticks": ""
            },
            "colorscale": [
             [
              0,
              "#0d0887"
             ],
             [
              0.1111111111111111,
              "#46039f"
             ],
             [
              0.2222222222222222,
              "#7201a8"
             ],
             [
              0.3333333333333333,
              "#9c179e"
             ],
             [
              0.4444444444444444,
              "#bd3786"
             ],
             [
              0.5555555555555556,
              "#d8576b"
             ],
             [
              0.6666666666666666,
              "#ed7953"
             ],
             [
              0.7777777777777778,
              "#fb9f3a"
             ],
             [
              0.8888888888888888,
              "#fdca26"
             ],
             [
              1,
              "#f0f921"
             ]
            ],
            "type": "contour"
           }
          ],
          "contourcarpet": [
           {
            "colorbar": {
             "outlinewidth": 0,
             "ticks": ""
            },
            "type": "contourcarpet"
           }
          ],
          "heatmap": [
           {
            "colorbar": {
             "outlinewidth": 0,
             "ticks": ""
            },
            "colorscale": [
             [
              0,
              "#0d0887"
             ],
             [
              0.1111111111111111,
              "#46039f"
             ],
             [
              0.2222222222222222,
              "#7201a8"
             ],
             [
              0.3333333333333333,
              "#9c179e"
             ],
             [
              0.4444444444444444,
              "#bd3786"
             ],
             [
              0.5555555555555556,
              "#d8576b"
             ],
             [
              0.6666666666666666,
              "#ed7953"
             ],
             [
              0.7777777777777778,
              "#fb9f3a"
             ],
             [
              0.8888888888888888,
              "#fdca26"
             ],
             [
              1,
              "#f0f921"
             ]
            ],
            "type": "heatmap"
           }
          ],
          "heatmapgl": [
           {
            "colorbar": {
             "outlinewidth": 0,
             "ticks": ""
            },
            "colorscale": [
             [
              0,
              "#0d0887"
             ],
             [
              0.1111111111111111,
              "#46039f"
             ],
             [
              0.2222222222222222,
              "#7201a8"
             ],
             [
              0.3333333333333333,
              "#9c179e"
             ],
             [
              0.4444444444444444,
              "#bd3786"
             ],
             [
              0.5555555555555556,
              "#d8576b"
             ],
             [
              0.6666666666666666,
              "#ed7953"
             ],
             [
              0.7777777777777778,
              "#fb9f3a"
             ],
             [
              0.8888888888888888,
              "#fdca26"
             ],
             [
              1,
              "#f0f921"
             ]
            ],
            "type": "heatmapgl"
           }
          ],
          "histogram": [
           {
            "marker": {
             "pattern": {
              "fillmode": "overlay",
              "size": 10,
              "solidity": 0.2
             }
            },
            "type": "histogram"
           }
          ],
          "histogram2d": [
           {
            "colorbar": {
             "outlinewidth": 0,
             "ticks": ""
            },
            "colorscale": [
             [
              0,
              "#0d0887"
             ],
             [
              0.1111111111111111,
              "#46039f"
             ],
             [
              0.2222222222222222,
              "#7201a8"
             ],
             [
              0.3333333333333333,
              "#9c179e"
             ],
             [
              0.4444444444444444,
              "#bd3786"
             ],
             [
              0.5555555555555556,
              "#d8576b"
             ],
             [
              0.6666666666666666,
              "#ed7953"
             ],
             [
              0.7777777777777778,
              "#fb9f3a"
             ],
             [
              0.8888888888888888,
              "#fdca26"
             ],
             [
              1,
              "#f0f921"
             ]
            ],
            "type": "histogram2d"
           }
          ],
          "histogram2dcontour": [
           {
            "colorbar": {
             "outlinewidth": 0,
             "ticks": ""
            },
            "colorscale": [
             [
              0,
              "#0d0887"
             ],
             [
              0.1111111111111111,
              "#46039f"
             ],
             [
              0.2222222222222222,
              "#7201a8"
             ],
             [
              0.3333333333333333,
              "#9c179e"
             ],
             [
              0.4444444444444444,
              "#bd3786"
             ],
             [
              0.5555555555555556,
              "#d8576b"
             ],
             [
              0.6666666666666666,
              "#ed7953"
             ],
             [
              0.7777777777777778,
              "#fb9f3a"
             ],
             [
              0.8888888888888888,
              "#fdca26"
             ],
             [
              1,
              "#f0f921"
             ]
            ],
            "type": "histogram2dcontour"
           }
          ],
          "mesh3d": [
           {
            "colorbar": {
             "outlinewidth": 0,
             "ticks": ""
            },
            "type": "mesh3d"
           }
          ],
          "parcoords": [
           {
            "line": {
             "colorbar": {
              "outlinewidth": 0,
              "ticks": ""
             }
            },
            "type": "parcoords"
           }
          ],
          "pie": [
           {
            "automargin": true,
            "type": "pie"
           }
          ],
          "scatter": [
           {
            "fillpattern": {
             "fillmode": "overlay",
             "size": 10,
             "solidity": 0.2
            },
            "type": "scatter"
           }
          ],
          "scatter3d": [
           {
            "line": {
             "colorbar": {
              "outlinewidth": 0,
              "ticks": ""
             }
            },
            "marker": {
             "colorbar": {
              "outlinewidth": 0,
              "ticks": ""
             }
            },
            "type": "scatter3d"
           }
          ],
          "scattercarpet": [
           {
            "marker": {
             "colorbar": {
              "outlinewidth": 0,
              "ticks": ""
             }
            },
            "type": "scattercarpet"
           }
          ],
          "scattergeo": [
           {
            "marker": {
             "colorbar": {
              "outlinewidth": 0,
              "ticks": ""
             }
            },
            "type": "scattergeo"
           }
          ],
          "scattergl": [
           {
            "marker": {
             "colorbar": {
              "outlinewidth": 0,
              "ticks": ""
             }
            },
            "type": "scattergl"
           }
          ],
          "scattermapbox": [
           {
            "marker": {
             "colorbar": {
              "outlinewidth": 0,
              "ticks": ""
             }
            },
            "type": "scattermapbox"
           }
          ],
          "scatterpolar": [
           {
            "marker": {
             "colorbar": {
              "outlinewidth": 0,
              "ticks": ""
             }
            },
            "type": "scatterpolar"
           }
          ],
          "scatterpolargl": [
           {
            "marker": {
             "colorbar": {
              "outlinewidth": 0,
              "ticks": ""
             }
            },
            "type": "scatterpolargl"
           }
          ],
          "scatterternary": [
           {
            "marker": {
             "colorbar": {
              "outlinewidth": 0,
              "ticks": ""
             }
            },
            "type": "scatterternary"
           }
          ],
          "surface": [
           {
            "colorbar": {
             "outlinewidth": 0,
             "ticks": ""
            },
            "colorscale": [
             [
              0,
              "#0d0887"
             ],
             [
              0.1111111111111111,
              "#46039f"
             ],
             [
              0.2222222222222222,
              "#7201a8"
             ],
             [
              0.3333333333333333,
              "#9c179e"
             ],
             [
              0.4444444444444444,
              "#bd3786"
             ],
             [
              0.5555555555555556,
              "#d8576b"
             ],
             [
              0.6666666666666666,
              "#ed7953"
             ],
             [
              0.7777777777777778,
              "#fb9f3a"
             ],
             [
              0.8888888888888888,
              "#fdca26"
             ],
             [
              1,
              "#f0f921"
             ]
            ],
            "type": "surface"
           }
          ],
          "table": [
           {
            "cells": {
             "fill": {
              "color": "#EBF0F8"
             },
             "line": {
              "color": "white"
             }
            },
            "header": {
             "fill": {
              "color": "#C8D4E3"
             },
             "line": {
              "color": "white"
             }
            },
            "type": "table"
           }
          ]
         },
         "layout": {
          "annotationdefaults": {
           "arrowcolor": "#2a3f5f",
           "arrowhead": 0,
           "arrowwidth": 1
          },
          "autotypenumbers": "strict",
          "coloraxis": {
           "colorbar": {
            "outlinewidth": 0,
            "ticks": ""
           }
          },
          "colorscale": {
           "diverging": [
            [
             0,
             "#8e0152"
            ],
            [
             0.1,
             "#c51b7d"
            ],
            [
             0.2,
             "#de77ae"
            ],
            [
             0.3,
             "#f1b6da"
            ],
            [
             0.4,
             "#fde0ef"
            ],
            [
             0.5,
             "#f7f7f7"
            ],
            [
             0.6,
             "#e6f5d0"
            ],
            [
             0.7,
             "#b8e186"
            ],
            [
             0.8,
             "#7fbc41"
            ],
            [
             0.9,
             "#4d9221"
            ],
            [
             1,
             "#276419"
            ]
           ],
           "sequential": [
            [
             0,
             "#0d0887"
            ],
            [
             0.1111111111111111,
             "#46039f"
            ],
            [
             0.2222222222222222,
             "#7201a8"
            ],
            [
             0.3333333333333333,
             "#9c179e"
            ],
            [
             0.4444444444444444,
             "#bd3786"
            ],
            [
             0.5555555555555556,
             "#d8576b"
            ],
            [
             0.6666666666666666,
             "#ed7953"
            ],
            [
             0.7777777777777778,
             "#fb9f3a"
            ],
            [
             0.8888888888888888,
             "#fdca26"
            ],
            [
             1,
             "#f0f921"
            ]
           ],
           "sequentialminus": [
            [
             0,
             "#0d0887"
            ],
            [
             0.1111111111111111,
             "#46039f"
            ],
            [
             0.2222222222222222,
             "#7201a8"
            ],
            [
             0.3333333333333333,
             "#9c179e"
            ],
            [
             0.4444444444444444,
             "#bd3786"
            ],
            [
             0.5555555555555556,
             "#d8576b"
            ],
            [
             0.6666666666666666,
             "#ed7953"
            ],
            [
             0.7777777777777778,
             "#fb9f3a"
            ],
            [
             0.8888888888888888,
             "#fdca26"
            ],
            [
             1,
             "#f0f921"
            ]
           ]
          },
          "colorway": [
           "#636efa",
           "#EF553B",
           "#00cc96",
           "#ab63fa",
           "#FFA15A",
           "#19d3f3",
           "#FF6692",
           "#B6E880",
           "#FF97FF",
           "#FECB52"
          ],
          "font": {
           "color": "#2a3f5f"
          },
          "geo": {
           "bgcolor": "white",
           "lakecolor": "white",
           "landcolor": "#E5ECF6",
           "showlakes": true,
           "showland": true,
           "subunitcolor": "white"
          },
          "hoverlabel": {
           "align": "left"
          },
          "hovermode": "closest",
          "mapbox": {
           "style": "light"
          },
          "paper_bgcolor": "white",
          "plot_bgcolor": "#E5ECF6",
          "polar": {
           "angularaxis": {
            "gridcolor": "white",
            "linecolor": "white",
            "ticks": ""
           },
           "bgcolor": "#E5ECF6",
           "radialaxis": {
            "gridcolor": "white",
            "linecolor": "white",
            "ticks": ""
           }
          },
          "scene": {
           "xaxis": {
            "backgroundcolor": "#E5ECF6",
            "gridcolor": "white",
            "gridwidth": 2,
            "linecolor": "white",
            "showbackground": true,
            "ticks": "",
            "zerolinecolor": "white"
           },
           "yaxis": {
            "backgroundcolor": "#E5ECF6",
            "gridcolor": "white",
            "gridwidth": 2,
            "linecolor": "white",
            "showbackground": true,
            "ticks": "",
            "zerolinecolor": "white"
           },
           "zaxis": {
            "backgroundcolor": "#E5ECF6",
            "gridcolor": "white",
            "gridwidth": 2,
            "linecolor": "white",
            "showbackground": true,
            "ticks": "",
            "zerolinecolor": "white"
           }
          },
          "shapedefaults": {
           "line": {
            "color": "#2a3f5f"
           }
          },
          "ternary": {
           "aaxis": {
            "gridcolor": "white",
            "linecolor": "white",
            "ticks": ""
           },
           "baxis": {
            "gridcolor": "white",
            "linecolor": "white",
            "ticks": ""
           },
           "bgcolor": "#E5ECF6",
           "caxis": {
            "gridcolor": "white",
            "linecolor": "white",
            "ticks": ""
           }
          },
          "title": {
           "x": 0.05
          },
          "xaxis": {
           "automargin": true,
           "gridcolor": "white",
           "linecolor": "white",
           "ticks": "",
           "title": {
            "standoff": 15
           },
           "zerolinecolor": "white",
           "zerolinewidth": 2
          },
          "yaxis": {
           "automargin": true,
           "gridcolor": "white",
           "linecolor": "white",
           "ticks": "",
           "title": {
            "standoff": 15
           },
           "zerolinecolor": "white",
           "zerolinewidth": 2
          }
         }
        },
        "title": {
         "text": "Кластеризация графовых эмбеддингов"
        },
        "width": 800,
        "xaxis": {
         "anchor": "y",
         "domain": [
          0,
          1
         ],
         "title": {
          "text": "Компонента 1 (PCA)"
         }
        },
        "yaxis": {
         "anchor": "x",
         "domain": [
          0,
          1
         ],
         "title": {
          "text": "Компонента 2 (PCA)"
         }
        }
       }
      }
     },
     "metadata": {},
     "output_type": "display_data"
    }
   ],
   "source": [
    "import plotly.express as px\n",
    "import pandas as pd\n",
    "\n",
    "plot_df = pd.DataFrame({\n",
    "    \"entity\": entities,\n",
    "    \"embedding1\": embeddings_2d[:, 0],\n",
    "    \"embedding2\": embeddings_2d[:, 1],\n",
    "    \"cluster\": \"cluster\" + pd.Series(clusters).astype(str)\n",
    "})\n",
    "\n",
    "fig = px.scatter(\n",
    "    plot_df,\n",
    "    x=\"embedding1\",\n",
    "    y=\"embedding2\",\n",
    "    color=\"cluster\",\n",
    "    hover_name=\"entity\",\n",
    "    title=\"Кластеризация графовых эмбеддингов\",\n",
    "    labels={\"embedding1\": \"Компонента 1 (PCA)\", \"embedding2\": \"Компонента 2 (PCA)\"},\n",
    "    width=800,\n",
    "    height=600\n",
    ")\n",
    "\n",
    "fig.update_layout(legend_title_text=\"Кластеры\", legend=dict(x=1, y=1))\n",
    "\n",
    "fig.show()"
   ]
  },
  {
   "cell_type": "code",
   "execution_count": null,
   "metadata": {},
   "outputs": [],
   "source": []
  }
 ],
 "metadata": {
  "kernelspec": {
   "display_name": "venv",
   "language": "python",
   "name": "python3"
  },
  "language_info": {
   "codemirror_mode": {
    "name": "ipython",
    "version": 3
   },
   "file_extension": ".py",
   "mimetype": "text/x-python",
   "name": "python",
   "nbconvert_exporter": "python",
   "pygments_lexer": "ipython3",
   "version": "3.10.9"
  }
 },
 "nbformat": 4,
 "nbformat_minor": 2
}
